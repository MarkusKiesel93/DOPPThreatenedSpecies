{
 "cells": [
  {
   "cell_type": "markdown",
   "metadata": {},
   "source": [
    "# Merge Datasets and Analysis"
   ]
  },
  {
   "cell_type": "markdown",
   "metadata": {},
   "source": [
    "# General"
   ]
  },
  {
   "cell_type": "markdown",
   "metadata": {},
   "source": [
    "## Imports"
   ]
  },
  {
   "cell_type": "code",
   "execution_count": 2,
   "metadata": {
    "ExecuteTime": {
     "end_time": "2021-01-25T22:32:28.684758Z",
     "start_time": "2021-01-25T22:32:25.283366Z"
    }
   },
   "outputs": [],
   "source": [
    "import os\n",
    "import pandas as pd\n",
    "import numpy as np\n",
    "import seaborn as sns\n",
    "import matplotlib.pyplot as plt\n",
    "from sklearn.linear_model import LogisticRegression\n",
    "from sklearn.model_selection import train_test_split\n",
    "from scipy.stats import zscore\n",
    "from sklearn.preprocessing import OneHotEncoder\n",
    "from sklearn.preprocessing import MinMaxScaler\n",
    "from sklearn.svm import SVR\n",
    "from sklearn.neighbors import KNeighborsRegressor\n",
    "from sklearn.ensemble import RandomForestRegressor\n",
    "from sklearn.model_selection import GridSearchCV, LeaveOneOut, cross_val_score\n",
    "from sklearn.pipeline import Pipeline\n",
    "from sklearn.preprocessing import StandardScaler\n",
    "from sklearn.preprocessing import LabelEncoder\n",
    "from sklearn.model_selection import LeaveOneGroupOut\n",
    "from sklearn.model_selection import LeavePGroupsOut\n",
    "from sklearn.linear_model import LinearRegression"
   ]
  },
  {
   "cell_type": "markdown",
   "metadata": {},
   "source": [
    "## Constants"
   ]
  },
  {
   "cell_type": "code",
   "execution_count": 3,
   "metadata": {
    "ExecuteTime": {
     "end_time": "2021-01-25T22:32:28.690006Z",
     "start_time": "2021-01-25T22:32:28.686935Z"
    }
   },
   "outputs": [],
   "source": [
    "PATH_PROTECED_AREA = 'data/OECD/protected_areas_2020.csv'\n",
    "PATH_LAND_COVER = 'data/OECD/LAND_COVER_2018_DATA.csv'\n",
    "PATH_AIR = 'data/OECD/greenhouse_gases_2020_pred.csv'\n",
    "PATH_CLIMATE = 'data/climate/climate_features.csv'\n",
    "PATH_IUCN = 'data/IUCN/scraped'\n",
    "PATH_IUCN_REL = 'data/IUCN/THREATENED_RELATIVE_BY_GROUP.csv'\n",
    "PATHS_COUN = [PATH_PROTECED_AREA, PATH_LAND_COVER, PATH_CLIMATE, PATH_AIR] # AIR IS MISSING\n",
    "RANDOM_STATE = 42"
   ]
  },
  {
   "cell_type": "markdown",
   "metadata": {
    "heading_collapsed": true
   },
   "source": [
    "# IUCN Data"
   ]
  },
  {
   "cell_type": "markdown",
   "metadata": {
    "heading_collapsed": true,
    "hidden": true
   },
   "source": [
    "## Load and Concatenate"
   ]
  },
  {
   "cell_type": "code",
   "execution_count": 4,
   "metadata": {
    "ExecuteTime": {
     "end_time": "2021-01-25T22:32:29.200430Z",
     "start_time": "2021-01-25T22:32:28.692437Z"
    },
    "hidden": true
   },
   "outputs": [],
   "source": [
    "iucn_list = []\n",
    "for _, _, files in os.walk(PATH_IUCN):\n",
    "    for file in files:\n",
    "        temp = pd.read_csv(PATH_IUCN + '/' + file)\n",
    "        temp['Country'] = file.split('.csv')[0]\n",
    "        iucn_list.append(temp)\n",
    "iucn_data = pd.concat(iucn_list)"
   ]
  },
  {
   "cell_type": "markdown",
   "metadata": {
    "hidden": true
   },
   "source": [
    "## Analysis"
   ]
  },
  {
   "cell_type": "markdown",
   "metadata": {
    "hidden": true
   },
   "source": [
    "### General Information"
   ]
  },
  {
   "cell_type": "code",
   "execution_count": 5,
   "metadata": {
    "ExecuteTime": {
     "end_time": "2021-01-25T22:32:29.245718Z",
     "start_time": "2021-01-25T22:32:29.202672Z"
    },
    "hidden": true
   },
   "outputs": [
    {
     "name": "stdout",
     "output_type": "stream",
     "text": [
      "<class 'pandas.core.frame.DataFrame'>\n",
      "Int64Index: 136624 entries, 0 to 1128\n",
      "Data columns (total 7 columns):\n",
      " #   Column           Non-Null Count   Dtype \n",
      "---  ------           --------------   ----- \n",
      " 0   kingdom_class    136624 non-null  object\n",
      " 1   common_name      93221 non-null   object\n",
      " 2   scientific_name  136624 non-null  object\n",
      " 3   trend            133638 non-null  object\n",
      " 4   region           136624 non-null  object\n",
      " 5   threat_level     136624 non-null  object\n",
      " 6   Country          136624 non-null  object\n",
      "dtypes: object(7)\n",
      "memory usage: 8.3+ MB\n"
     ]
    }
   ],
   "source": [
    "iucn_data.info()"
   ]
  },
  {
   "cell_type": "markdown",
   "metadata": {
    "hidden": true
   },
   "source": [
    "### Check Uniue Values"
   ]
  },
  {
   "cell_type": "code",
   "execution_count": 6,
   "metadata": {
    "ExecuteTime": {
     "end_time": "2021-01-25T22:32:29.319351Z",
     "start_time": "2021-01-25T22:32:29.247299Z"
    },
    "hidden": true
   },
   "outputs": [
    {
     "name": "stdout",
     "output_type": "stream",
     "text": [
      "Column >>kingdom_class<< contains 32 unique values.\n",
      "Column >>common_name<< contains 30138 unique values.\n",
      "Column >>scientific_name<< contains 52327 unique values.\n",
      "Column >>trend<< contains 4 unique values.\n",
      "Column >>region<< contains 13 unique values.\n",
      "Column >>threat_level<< contains 9 unique values.\n",
      "Column >>Country<< contains 65 unique values.\n"
     ]
    }
   ],
   "source": [
    "for c in iucn_data.columns:\n",
    "    print('Column >>{}<< contains {} unique values.'.format(c, iucn_data[c].nunique()))"
   ]
  },
  {
   "cell_type": "markdown",
   "metadata": {
    "hidden": true
   },
   "source": [
    "### Explore Columns Containing NULL Values"
   ]
  },
  {
   "cell_type": "markdown",
   "metadata": {
    "heading_collapsed": true,
    "hidden": true
   },
   "source": [
    "#### common_name"
   ]
  },
  {
   "cell_type": "code",
   "execution_count": 7,
   "metadata": {
    "ExecuteTime": {
     "end_time": "2021-01-25T22:32:29.335660Z",
     "start_time": "2021-01-25T22:32:29.320865Z"
    },
    "hidden": true
   },
   "outputs": [
    {
     "name": "stdout",
     "output_type": "stream",
     "text": [
      "common_name contains 30138 unique values.\n"
     ]
    }
   ],
   "source": [
    "print('common_name contains {} unique values.'.format(\n",
    "    iucn_data['common_name'].nunique()))"
   ]
  },
  {
   "cell_type": "code",
   "execution_count": 8,
   "metadata": {
    "ExecuteTime": {
     "end_time": "2021-01-25T22:32:29.345774Z",
     "start_time": "2021-01-25T22:32:29.337410Z"
    },
    "hidden": true
   },
   "outputs": [
    {
     "name": "stdout",
     "output_type": "stream",
     "text": [
      "43403 entries have missing values for the common_name column.\n"
     ]
    }
   ],
   "source": [
    "print('{} entries have missing values for the common_name column.'.format(\n",
    "    iucn_data['common_name'].isna().sum()))"
   ]
  },
  {
   "cell_type": "code",
   "execution_count": 9,
   "metadata": {
    "ExecuteTime": {
     "end_time": "2021-01-25T22:32:29.362769Z",
     "start_time": "2021-01-25T22:32:29.349986Z"
    },
    "hidden": true
   },
   "outputs": [],
   "source": [
    "i_null_cn = iucn_data[iucn_data['common_name'].isna()].index"
   ]
  },
  {
   "cell_type": "markdown",
   "metadata": {
    "hidden": true
   },
   "source": [
    "--> These missing values can probably be neglected, because we can use the scientific name as identifier."
   ]
  },
  {
   "cell_type": "markdown",
   "metadata": {
    "heading_collapsed": true,
    "hidden": true
   },
   "source": [
    "#### trend"
   ]
  },
  {
   "cell_type": "code",
   "execution_count": 10,
   "metadata": {
    "ExecuteTime": {
     "end_time": "2021-01-25T22:32:29.382929Z",
     "start_time": "2021-01-25T22:32:29.365387Z"
    },
    "hidden": true
   },
   "outputs": [
    {
     "name": "stdout",
     "output_type": "stream",
     "text": [
      "trend contains 4 unique values, which are: ['Unknown' 'Stable' 'Decreasing' nan 'Increasing'].\n"
     ]
    }
   ],
   "source": [
    "print('trend contains {} unique values, which are: {}.'.format(\n",
    "    iucn_data['trend'].nunique(), iucn_data['trend'].unique()))"
   ]
  },
  {
   "cell_type": "code",
   "execution_count": 11,
   "metadata": {
    "ExecuteTime": {
     "end_time": "2021-01-25T22:32:29.393094Z",
     "start_time": "2021-01-25T22:32:29.385033Z"
    },
    "hidden": true
   },
   "outputs": [
    {
     "name": "stdout",
     "output_type": "stream",
     "text": [
      "2986 entries have missing values for the trend column.\n"
     ]
    }
   ],
   "source": [
    "print('{} entries have missing values for the trend column.'.format(\n",
    "    iucn_data['trend'].isna().sum()))"
   ]
  },
  {
   "cell_type": "code",
   "execution_count": 12,
   "metadata": {
    "ExecuteTime": {
     "end_time": "2021-01-25T22:32:29.628340Z",
     "start_time": "2021-01-25T22:32:29.394785Z"
    },
    "hidden": true
   },
   "outputs": [
    {
     "data": {
      "text/plain": [
       "<AxesSubplot:>"
      ]
     },
     "execution_count": 12,
     "metadata": {},
     "output_type": "execute_result"
    },
    {
     "data": {
      "image/png": "[encoded data removed]",
      "text/plain": [
       "<Figure size 432x288 with 1 Axes>"
      ]
     },
     "metadata": {
      "needs_background": "light"
     },
     "output_type": "display_data"
    }
   ],
   "source": [
    "temp_iucn = iucn_data.copy()\n",
    "temp_iucn.loc[temp_iucn['trend'].isna(), 'trend'] = 'NULL'\n",
    "temp_iucn['trend'].hist()"
   ]
  },
  {
   "cell_type": "code",
   "execution_count": 13,
   "metadata": {
    "ExecuteTime": {
     "end_time": "2021-01-25T22:32:29.657605Z",
     "start_time": "2021-01-25T22:32:29.629990Z"
    },
    "hidden": true
   },
   "outputs": [
    {
     "name": "stdout",
     "output_type": "stream",
     "text": [
      "The dataset contains 68333 entries with available trend information (not Null or Unknown).\n"
     ]
    }
   ],
   "source": [
    "print(\n",
    "    'The dataset contains {} entries with available trend information (not Null or Unknown).'\n",
    "    .format(\n",
    "        len(iucn_data[(iucn_data['trend'].isna() == False)\n",
    "                      & (iucn_data['trend'] != 'Unknown')])))"
   ]
  },
  {
   "cell_type": "markdown",
   "metadata": {
    "hidden": true
   },
   "source": [
    "**NOTE: This is an issue and we have to think about a strategy how to deal with these missing/unknown values.**\n",
    "Maybe we can check if these entries have some special characteristics."
   ]
  },
  {
   "cell_type": "markdown",
   "metadata": {
    "heading_collapsed": true
   },
   "source": [
    "# Country Characteristics Data"
   ]
  },
  {
   "cell_type": "markdown",
   "metadata": {
    "hidden": true
   },
   "source": [
    "## Load and Merge"
   ]
  },
  {
   "cell_type": "code",
   "execution_count": 14,
   "metadata": {
    "ExecuteTime": {
     "end_time": "2021-01-25T22:32:29.678374Z",
     "start_time": "2021-01-25T22:32:29.659381Z"
    },
    "hidden": true
   },
   "outputs": [
    {
     "name": "stdout",
     "output_type": "stream",
     "text": [
      "data/OECD/protected_areas_2020.csv\n",
      "data/OECD/LAND_COVER_2018_DATA.csv\n",
      "data/climate/climate_features.csv\n",
      "data/OECD/greenhouse_gases_2020_pred.csv\n"
     ]
    }
   ],
   "source": [
    "coun_list = []\n",
    "country_sets = []\n",
    "for file in PATHS_COUN:\n",
    "    print(file)\n",
    "    temp = pd.read_csv(file)\n",
    "    coun_list.append(temp)\n",
    "    country_sets.append(set(temp['Country']))"
   ]
  },
  {
   "cell_type": "code",
   "execution_count": 15,
   "metadata": {
    "ExecuteTime": {
     "end_time": "2021-01-25T22:32:29.683204Z",
     "start_time": "2021-01-25T22:32:29.680085Z"
    },
    "hidden": true
   },
   "outputs": [
    {
     "name": "stdout",
     "output_type": "stream",
     "text": [
      "The Country Characterisitcs Datasets contain 42 intersecting countries, which are: {'Luxembourg', 'Belgium', 'India', 'France', 'Hungary', 'Spain', 'Slovenia', 'Estonia', 'Costa Rica', 'Canada', 'Czech Republic', 'Indonesia', 'Russia', 'Latvia', 'Korea', 'Portugal', 'Germany', 'Japan', 'Australia', 'Brazil', 'Mexico', 'Colombia', 'Slovak Republic', 'United States', 'Switzerland', 'Iceland', 'Italy', 'Finland', 'Netherlands', 'New Zealand', 'Israel', 'Norway', 'Chile', 'Argentina', 'Denmark', 'Lithuania', 'Austria', 'United Kingdom', 'Greece', 'Sweden', 'Ireland', 'Poland'}\n"
     ]
    }
   ],
   "source": [
    "intersect_countries = country_sets[0].intersection(\n",
    "    country_sets[1], country_sets[2], country_sets[3])  ## add country_sets[3]\n",
    "print(\n",
    "    'The Country Characterisitcs Datasets contain {} intersecting countries, which are: {}'\n",
    "    .format(len(intersect_countries), intersect_countries))"
   ]
  },
  {
   "cell_type": "markdown",
   "metadata": {
    "ExecuteTime": {
     "end_time": "2021-01-15T10:01:20.723162Z",
     "start_time": "2021-01-15T10:01:20.706359Z"
    },
    "hidden": true
   },
   "source": [
    "--> Join Datasets on those countries."
   ]
  },
  {
   "cell_type": "code",
   "execution_count": 16,
   "metadata": {
    "ExecuteTime": {
     "end_time": "2021-01-25T22:32:29.781469Z",
     "start_time": "2021-01-25T22:32:29.685070Z"
    },
    "hidden": true
   },
   "outputs": [
    {
     "data": {
      "text/html": [
       "<div>\n",
       "<style scoped>\n",
       "    .dataframe tbody tr th:only-of-type {\n",
       "        vertical-align: middle;\n",
       "    }\n",
       "\n",
       "    .dataframe tbody tr th {\n",
       "        vertical-align: top;\n",
       "    }\n",
       "\n",
       "    .dataframe thead th {\n",
       "        text-align: right;\n",
       "    }\n",
       "</style>\n",
       "<table border=\"1\" class=\"dataframe\">\n",
       "  <thead>\n",
       "    <tr style=\"text-align: right;\">\n",
       "      <th></th>\n",
       "      <th>Country</th>\n",
       "      <th>perc_area_protected_all_obj</th>\n",
       "      <th>perc_area_protected_obj_2</th>\n",
       "      <th>perc_area_protected_obj_3</th>\n",
       "      <th>perc_area_protected_obj_4</th>\n",
       "      <th>perc_area_protected_obj_1a</th>\n",
       "      <th>perc_area_protected_obj_1b</th>\n",
       "      <th>perc_area_protected_no_obj</th>\n",
       "      <th>perc_area_protected_obj_5</th>\n",
       "      <th>perc_area_protected_obj_6</th>\n",
       "      <th>...</th>\n",
       "      <th>gain_percentage</th>\n",
       "      <th>temp_difference</th>\n",
       "      <th>Unnamed: 0</th>\n",
       "      <th>CH4</th>\n",
       "      <th>CO2</th>\n",
       "      <th>HFC</th>\n",
       "      <th>N2O</th>\n",
       "      <th>NF3</th>\n",
       "      <th>PFC</th>\n",
       "      <th>SF6</th>\n",
       "    </tr>\n",
       "  </thead>\n",
       "  <tbody>\n",
       "    <tr>\n",
       "      <th>0</th>\n",
       "      <td>Argentina</td>\n",
       "      <td>8.39</td>\n",
       "      <td>1.84</td>\n",
       "      <td>0.04</td>\n",
       "      <td>0.19</td>\n",
       "      <td>0.27</td>\n",
       "      <td>0.03</td>\n",
       "      <td>1.46</td>\n",
       "      <td>0.33</td>\n",
       "      <td>4.09</td>\n",
       "      <td>...</td>\n",
       "      <td>0.500525</td>\n",
       "      <td>0.072246</td>\n",
       "      <td>0</td>\n",
       "      <td>1.828861</td>\n",
       "      <td>4.710241</td>\n",
       "      <td>0.014370</td>\n",
       "      <td>1.002114</td>\n",
       "      <td>-1.000000</td>\n",
       "      <td>0.003744</td>\n",
       "      <td>0.000042</td>\n",
       "    </tr>\n",
       "    <tr>\n",
       "      <th>1</th>\n",
       "      <td>Australia</td>\n",
       "      <td>19.20</td>\n",
       "      <td>4.17</td>\n",
       "      <td>0.24</td>\n",
       "      <td>0.27</td>\n",
       "      <td>2.01</td>\n",
       "      <td>0.57</td>\n",
       "      <td>0.34</td>\n",
       "      <td>0.98</td>\n",
       "      <td>10.63</td>\n",
       "      <td>...</td>\n",
       "      <td>0.969423</td>\n",
       "      <td>0.214683</td>\n",
       "      <td>1</td>\n",
       "      <td>4.382540</td>\n",
       "      <td>16.642911</td>\n",
       "      <td>0.479420</td>\n",
       "      <td>0.804808</td>\n",
       "      <td>-1.000000</td>\n",
       "      <td>0.009443</td>\n",
       "      <td>0.009144</td>\n",
       "    </tr>\n",
       "    <tr>\n",
       "      <th>2</th>\n",
       "      <td>Austria</td>\n",
       "      <td>28.54</td>\n",
       "      <td>2.38</td>\n",
       "      <td>0.01</td>\n",
       "      <td>5.80</td>\n",
       "      <td>0.01</td>\n",
       "      <td>0.12</td>\n",
       "      <td>4.62</td>\n",
       "      <td>15.35</td>\n",
       "      <td>0.20</td>\n",
       "      <td>...</td>\n",
       "      <td>24.241043</td>\n",
       "      <td>1.498389</td>\n",
       "      <td>2</td>\n",
       "      <td>0.728541</td>\n",
       "      <td>7.549433</td>\n",
       "      <td>0.207606</td>\n",
       "      <td>0.398982</td>\n",
       "      <td>0.001868</td>\n",
       "      <td>0.003680</td>\n",
       "      <td>0.043241</td>\n",
       "    </tr>\n",
       "    <tr>\n",
       "      <th>3</th>\n",
       "      <td>Belgium</td>\n",
       "      <td>24.97</td>\n",
       "      <td>0.07</td>\n",
       "      <td>0.00</td>\n",
       "      <td>1.54</td>\n",
       "      <td>0.00</td>\n",
       "      <td>0.00</td>\n",
       "      <td>9.19</td>\n",
       "      <td>12.59</td>\n",
       "      <td>1.59</td>\n",
       "      <td>...</td>\n",
       "      <td>12.044550</td>\n",
       "      <td>1.167659</td>\n",
       "      <td>3</td>\n",
       "      <td>0.688260</td>\n",
       "      <td>8.787278</td>\n",
       "      <td>0.391962</td>\n",
       "      <td>0.500037</td>\n",
       "      <td>0.000057</td>\n",
       "      <td>0.011516</td>\n",
       "      <td>0.008337</td>\n",
       "    </tr>\n",
       "    <tr>\n",
       "      <th>4</th>\n",
       "      <td>Brazil</td>\n",
       "      <td>29.80</td>\n",
       "      <td>4.13</td>\n",
       "      <td>0.07</td>\n",
       "      <td>0.03</td>\n",
       "      <td>2.06</td>\n",
       "      <td>0.00</td>\n",
       "      <td>11.83</td>\n",
       "      <td>4.58</td>\n",
       "      <td>6.78</td>\n",
       "      <td>...</td>\n",
       "      <td>3.703937</td>\n",
       "      <td>0.929317</td>\n",
       "      <td>4</td>\n",
       "      <td>1.683181</td>\n",
       "      <td>2.566549</td>\n",
       "      <td>-1.000000</td>\n",
       "      <td>0.894033</td>\n",
       "      <td>-1.000000</td>\n",
       "      <td>-1.000000</td>\n",
       "      <td>-1.000000</td>\n",
       "    </tr>\n",
       "  </tbody>\n",
       "</table>\n",
       "<p>5 rows × 30 columns</p>\n",
       "</div>"
      ],
      "text/plain": [
       "     Country  perc_area_protected_all_obj  perc_area_protected_obj_2  \\\n",
       "0  Argentina                         8.39                       1.84   \n",
       "1  Australia                        19.20                       4.17   \n",
       "2    Austria                        28.54                       2.38   \n",
       "3    Belgium                        24.97                       0.07   \n",
       "4     Brazil                        29.80                       4.13   \n",
       "\n",
       "   perc_area_protected_obj_3  perc_area_protected_obj_4  \\\n",
       "0                       0.04                       0.19   \n",
       "1                       0.24                       0.27   \n",
       "2                       0.01                       5.80   \n",
       "3                       0.00                       1.54   \n",
       "4                       0.07                       0.03   \n",
       "\n",
       "   perc_area_protected_obj_1a  perc_area_protected_obj_1b  \\\n",
       "0                        0.27                        0.03   \n",
       "1                        2.01                        0.57   \n",
       "2                        0.01                        0.12   \n",
       "3                        0.00                        0.00   \n",
       "4                        2.06                        0.00   \n",
       "\n",
       "   perc_area_protected_no_obj  perc_area_protected_obj_5  \\\n",
       "0                        1.46                       0.33   \n",
       "1                        0.34                       0.98   \n",
       "2                        4.62                      15.35   \n",
       "3                        9.19                      12.59   \n",
       "4                       11.83                       4.58   \n",
       "\n",
       "   perc_area_protected_obj_6  ...  gain_percentage  temp_difference  \\\n",
       "0                       4.09  ...         0.500525         0.072246   \n",
       "1                      10.63  ...         0.969423         0.214683   \n",
       "2                       0.20  ...        24.241043         1.498389   \n",
       "3                       1.59  ...        12.044550         1.167659   \n",
       "4                       6.78  ...         3.703937         0.929317   \n",
       "\n",
       "   Unnamed: 0       CH4        CO2       HFC       N2O       NF3       PFC  \\\n",
       "0           0  1.828861   4.710241  0.014370  1.002114 -1.000000  0.003744   \n",
       "1           1  4.382540  16.642911  0.479420  0.804808 -1.000000  0.009443   \n",
       "2           2  0.728541   7.549433  0.207606  0.398982  0.001868  0.003680   \n",
       "3           3  0.688260   8.787278  0.391962  0.500037  0.000057  0.011516   \n",
       "4           4  1.683181   2.566549 -1.000000  0.894033 -1.000000 -1.000000   \n",
       "\n",
       "        SF6  \n",
       "0  0.000042  \n",
       "1  0.009144  \n",
       "2  0.043241  \n",
       "3  0.008337  \n",
       "4 -1.000000  \n",
       "\n",
       "[5 rows x 30 columns]"
      ]
     },
     "execution_count": 16,
     "metadata": {},
     "output_type": "execute_result"
    }
   ],
   "source": [
    "coun_data = coun_list[0]\n",
    "for coun in coun_list[1:]:\n",
    "    coun_data = pd.merge(coun_data, coun, on='Country', how='inner')\n",
    "coun_data.head()"
   ]
  },
  {
   "cell_type": "markdown",
   "metadata": {
    "hidden": true
   },
   "source": [
    "## Analysis"
   ]
  },
  {
   "cell_type": "markdown",
   "metadata": {
    "hidden": true
   },
   "source": [
    "### General Information"
   ]
  },
  {
   "cell_type": "code",
   "execution_count": 17,
   "metadata": {
    "ExecuteTime": {
     "end_time": "2021-01-25T22:32:29.792255Z",
     "start_time": "2021-01-25T22:32:29.783169Z"
    },
    "hidden": true
   },
   "outputs": [
    {
     "name": "stdout",
     "output_type": "stream",
     "text": [
      "<class 'pandas.core.frame.DataFrame'>\n",
      "Int64Index: 42 entries, 0 to 41\n",
      "Data columns (total 30 columns):\n",
      " #   Column                       Non-Null Count  Dtype  \n",
      "---  ------                       --------------  -----  \n",
      " 0   Country                      42 non-null     object \n",
      " 1   perc_area_protected_all_obj  42 non-null     float64\n",
      " 2   perc_area_protected_obj_2    42 non-null     float64\n",
      " 3   perc_area_protected_obj_3    42 non-null     float64\n",
      " 4   perc_area_protected_obj_4    42 non-null     float64\n",
      " 5   perc_area_protected_obj_1a   42 non-null     float64\n",
      " 6   perc_area_protected_obj_1b   42 non-null     float64\n",
      " 7   perc_area_protected_no_obj   42 non-null     float64\n",
      " 8   perc_area_protected_obj_5    42 non-null     float64\n",
      " 9   perc_area_protected_obj_6    42 non-null     float64\n",
      " 10  Artificial surfaces          42 non-null     float64\n",
      " 11  Bare area                    42 non-null     float64\n",
      " 12  Cropland                     42 non-null     float64\n",
      " 13  Grassland                    42 non-null     float64\n",
      " 14  Inland water                 42 non-null     float64\n",
      " 15  Shrubland                    42 non-null     float64\n",
      " 16  Sparse vegetation            42 non-null     float64\n",
      " 17  Tree cover                   42 non-null     float64\n",
      " 18  Wetland                      42 non-null     float64\n",
      " 19  temp_slope                   42 non-null     float64\n",
      " 20  gain_percentage              42 non-null     float64\n",
      " 21  temp_difference              42 non-null     float64\n",
      " 22  Unnamed: 0                   42 non-null     int64  \n",
      " 23  CH4                          42 non-null     float64\n",
      " 24  CO2                          42 non-null     float64\n",
      " 25  HFC                          42 non-null     float64\n",
      " 26  N2O                          42 non-null     float64\n",
      " 27  NF3                          42 non-null     float64\n",
      " 28  PFC                          42 non-null     float64\n",
      " 29  SF6                          42 non-null     float64\n",
      "dtypes: float64(28), int64(1), object(1)\n",
      "memory usage: 10.2+ KB\n"
     ]
    }
   ],
   "source": [
    "coun_data.info()"
   ]
  },
  {
   "cell_type": "markdown",
   "metadata": {
    "hidden": true
   },
   "source": [
    "There are no missing values in the dataset."
   ]
  },
  {
   "cell_type": "code",
   "execution_count": 18,
   "metadata": {
    "ExecuteTime": {
     "end_time": "2021-01-25T22:32:29.866728Z",
     "start_time": "2021-01-25T22:32:29.794027Z"
    },
    "hidden": true
   },
   "outputs": [
    {
     "data": {
      "text/html": [
       "<div>\n",
       "<style scoped>\n",
       "    .dataframe tbody tr th:only-of-type {\n",
       "        vertical-align: middle;\n",
       "    }\n",
       "\n",
       "    .dataframe tbody tr th {\n",
       "        vertical-align: top;\n",
       "    }\n",
       "\n",
       "    .dataframe thead th {\n",
       "        text-align: right;\n",
       "    }\n",
       "</style>\n",
       "<table border=\"1\" class=\"dataframe\">\n",
       "  <thead>\n",
       "    <tr style=\"text-align: right;\">\n",
       "      <th></th>\n",
       "      <th>perc_area_protected_all_obj</th>\n",
       "      <th>perc_area_protected_obj_2</th>\n",
       "      <th>perc_area_protected_obj_3</th>\n",
       "      <th>perc_area_protected_obj_4</th>\n",
       "      <th>perc_area_protected_obj_1a</th>\n",
       "      <th>perc_area_protected_obj_1b</th>\n",
       "      <th>perc_area_protected_no_obj</th>\n",
       "      <th>perc_area_protected_obj_5</th>\n",
       "      <th>perc_area_protected_obj_6</th>\n",
       "      <th>Artificial surfaces</th>\n",
       "      <th>...</th>\n",
       "      <th>gain_percentage</th>\n",
       "      <th>temp_difference</th>\n",
       "      <th>Unnamed: 0</th>\n",
       "      <th>CH4</th>\n",
       "      <th>CO2</th>\n",
       "      <th>HFC</th>\n",
       "      <th>N2O</th>\n",
       "      <th>NF3</th>\n",
       "      <th>PFC</th>\n",
       "      <th>SF6</th>\n",
       "    </tr>\n",
       "  </thead>\n",
       "  <tbody>\n",
       "    <tr>\n",
       "      <th>count</th>\n",
       "      <td>42.000000</td>\n",
       "      <td>42.000000</td>\n",
       "      <td>42.000000</td>\n",
       "      <td>42.000000</td>\n",
       "      <td>42.000000</td>\n",
       "      <td>42.000000</td>\n",
       "      <td>42.000000</td>\n",
       "      <td>42.000000</td>\n",
       "      <td>42.000000</td>\n",
       "      <td>42.000000</td>\n",
       "      <td>...</td>\n",
       "      <td>42.000000</td>\n",
       "      <td>42.000000</td>\n",
       "      <td>42.000000</td>\n",
       "      <td>42.000000</td>\n",
       "      <td>42.000000</td>\n",
       "      <td>42.000000</td>\n",
       "      <td>42.000000</td>\n",
       "      <td>42.000000</td>\n",
       "      <td>42.000000</td>\n",
       "      <td>42.000000</td>\n",
       "    </tr>\n",
       "    <tr>\n",
       "      <th>mean</th>\n",
       "      <td>22.282857</td>\n",
       "      <td>4.151667</td>\n",
       "      <td>0.362381</td>\n",
       "      <td>2.964762</td>\n",
       "      <td>0.445714</td>\n",
       "      <td>0.872619</td>\n",
       "      <td>6.900476</td>\n",
       "      <td>4.782381</td>\n",
       "      <td>1.533333</td>\n",
       "      <td>0.026339</td>\n",
       "      <td>...</td>\n",
       "      <td>10.864795</td>\n",
       "      <td>0.987359</td>\n",
       "      <td>22.095238</td>\n",
       "      <td>1.284412</td>\n",
       "      <td>7.478007</td>\n",
       "      <td>0.164214</td>\n",
       "      <td>0.586226</td>\n",
       "      <td>-0.666490</td>\n",
       "      <td>-0.154093</td>\n",
       "      <td>-0.036179</td>\n",
       "    </tr>\n",
       "    <tr>\n",
       "      <th>std</th>\n",
       "      <td>10.766357</td>\n",
       "      <td>5.984902</td>\n",
       "      <td>1.917474</td>\n",
       "      <td>3.469978</td>\n",
       "      <td>0.676599</td>\n",
       "      <td>1.827691</td>\n",
       "      <td>8.767212</td>\n",
       "      <td>5.999103</td>\n",
       "      <td>2.741055</td>\n",
       "      <td>0.027342</td>\n",
       "      <td>...</td>\n",
       "      <td>12.305045</td>\n",
       "      <td>0.448411</td>\n",
       "      <td>12.957359</td>\n",
       "      <td>1.194647</td>\n",
       "      <td>4.017188</td>\n",
       "      <td>0.297642</td>\n",
       "      <td>0.349903</td>\n",
       "      <td>0.477372</td>\n",
       "      <td>0.384327</td>\n",
       "      <td>0.219119</td>\n",
       "    </tr>\n",
       "    <tr>\n",
       "      <th>min</th>\n",
       "      <td>5.640000</td>\n",
       "      <td>0.000000</td>\n",
       "      <td>0.000000</td>\n",
       "      <td>0.010000</td>\n",
       "      <td>0.000000</td>\n",
       "      <td>0.000000</td>\n",
       "      <td>0.000000</td>\n",
       "      <td>0.000000</td>\n",
       "      <td>0.000000</td>\n",
       "      <td>0.000000</td>\n",
       "      <td>...</td>\n",
       "      <td>-24.178355</td>\n",
       "      <td>0.072246</td>\n",
       "      <td>0.000000</td>\n",
       "      <td>0.236113</td>\n",
       "      <td>1.278950</td>\n",
       "      <td>-1.000000</td>\n",
       "      <td>0.092906</td>\n",
       "      <td>-1.000000</td>\n",
       "      <td>-1.000000</td>\n",
       "      <td>-1.000000</td>\n",
       "    </tr>\n",
       "    <tr>\n",
       "      <th>25%</th>\n",
       "      <td>14.287500</td>\n",
       "      <td>0.652500</td>\n",
       "      <td>0.000000</td>\n",
       "      <td>0.440000</td>\n",
       "      <td>0.000000</td>\n",
       "      <td>0.000000</td>\n",
       "      <td>0.472500</td>\n",
       "      <td>0.110000</td>\n",
       "      <td>0.000000</td>\n",
       "      <td>0.005924</td>\n",
       "      <td>...</td>\n",
       "      <td>3.832235</td>\n",
       "      <td>0.659961</td>\n",
       "      <td>11.250000</td>\n",
       "      <td>0.750174</td>\n",
       "      <td>4.848182</td>\n",
       "      <td>0.109285</td>\n",
       "      <td>0.345235</td>\n",
       "      <td>-1.000000</td>\n",
       "      <td>0.000021</td>\n",
       "      <td>0.002429</td>\n",
       "    </tr>\n",
       "    <tr>\n",
       "      <th>50%</th>\n",
       "      <td>20.370000</td>\n",
       "      <td>2.025000</td>\n",
       "      <td>0.020000</td>\n",
       "      <td>1.555000</td>\n",
       "      <td>0.070000</td>\n",
       "      <td>0.005000</td>\n",
       "      <td>3.375000</td>\n",
       "      <td>1.430000</td>\n",
       "      <td>0.085000</td>\n",
       "      <td>0.015773</td>\n",
       "      <td>...</td>\n",
       "      <td>9.547614</td>\n",
       "      <td>0.943211</td>\n",
       "      <td>22.500000</td>\n",
       "      <td>0.893499</td>\n",
       "      <td>6.846338</td>\n",
       "      <td>0.176891</td>\n",
       "      <td>0.481730</td>\n",
       "      <td>-1.000000</td>\n",
       "      <td>0.003712</td>\n",
       "      <td>0.007283</td>\n",
       "    </tr>\n",
       "    <tr>\n",
       "      <th>75%</th>\n",
       "      <td>27.892500</td>\n",
       "      <td>4.812500</td>\n",
       "      <td>0.070000</td>\n",
       "      <td>3.877500</td>\n",
       "      <td>0.545000</td>\n",
       "      <td>0.525000</td>\n",
       "      <td>11.290000</td>\n",
       "      <td>7.780000</td>\n",
       "      <td>1.552500</td>\n",
       "      <td>0.040661</td>\n",
       "      <td>...</td>\n",
       "      <td>17.897105</td>\n",
       "      <td>1.382112</td>\n",
       "      <td>32.750000</td>\n",
       "      <td>1.261372</td>\n",
       "      <td>9.078078</td>\n",
       "      <td>0.322812</td>\n",
       "      <td>0.849686</td>\n",
       "      <td>0.000009</td>\n",
       "      <td>0.012341</td>\n",
       "      <td>0.010464</td>\n",
       "    </tr>\n",
       "    <tr>\n",
       "      <th>max</th>\n",
       "      <td>53.530000</td>\n",
       "      <td>32.610000</td>\n",
       "      <td>12.470000</td>\n",
       "      <td>14.740000</td>\n",
       "      <td>2.180000</td>\n",
       "      <td>7.530000</td>\n",
       "      <td>40.300000</td>\n",
       "      <td>25.240000</td>\n",
       "      <td>10.630000</td>\n",
       "      <td>0.113337</td>\n",
       "      <td>...</td>\n",
       "      <td>43.855657</td>\n",
       "      <td>1.852533</td>\n",
       "      <td>44.000000</td>\n",
       "      <td>7.017958</td>\n",
       "      <td>16.642911</td>\n",
       "      <td>0.550778</td>\n",
       "      <td>1.554079</td>\n",
       "      <td>0.002234</td>\n",
       "      <td>0.216726</td>\n",
       "      <td>0.128989</td>\n",
       "    </tr>\n",
       "  </tbody>\n",
       "</table>\n",
       "<p>8 rows × 29 columns</p>\n",
       "</div>"
      ],
      "text/plain": [
       "       perc_area_protected_all_obj  perc_area_protected_obj_2  \\\n",
       "count                    42.000000                  42.000000   \n",
       "mean                     22.282857                   4.151667   \n",
       "std                      10.766357                   5.984902   \n",
       "min                       5.640000                   0.000000   \n",
       "25%                      14.287500                   0.652500   \n",
       "50%                      20.370000                   2.025000   \n",
       "75%                      27.892500                   4.812500   \n",
       "max                      53.530000                  32.610000   \n",
       "\n",
       "       perc_area_protected_obj_3  perc_area_protected_obj_4  \\\n",
       "count                  42.000000                  42.000000   \n",
       "mean                    0.362381                   2.964762   \n",
       "std                     1.917474                   3.469978   \n",
       "min                     0.000000                   0.010000   \n",
       "25%                     0.000000                   0.440000   \n",
       "50%                     0.020000                   1.555000   \n",
       "75%                     0.070000                   3.877500   \n",
       "max                    12.470000                  14.740000   \n",
       "\n",
       "       perc_area_protected_obj_1a  perc_area_protected_obj_1b  \\\n",
       "count                   42.000000                   42.000000   \n",
       "mean                     0.445714                    0.872619   \n",
       "std                      0.676599                    1.827691   \n",
       "min                      0.000000                    0.000000   \n",
       "25%                      0.000000                    0.000000   \n",
       "50%                      0.070000                    0.005000   \n",
       "75%                      0.545000                    0.525000   \n",
       "max                      2.180000                    7.530000   \n",
       "\n",
       "       perc_area_protected_no_obj  perc_area_protected_obj_5  \\\n",
       "count                   42.000000                  42.000000   \n",
       "mean                     6.900476                   4.782381   \n",
       "std                      8.767212                   5.999103   \n",
       "min                      0.000000                   0.000000   \n",
       "25%                      0.472500                   0.110000   \n",
       "50%                      3.375000                   1.430000   \n",
       "75%                     11.290000                   7.780000   \n",
       "max                     40.300000                  25.240000   \n",
       "\n",
       "       perc_area_protected_obj_6  Artificial surfaces  ...  gain_percentage  \\\n",
       "count                  42.000000            42.000000  ...        42.000000   \n",
       "mean                    1.533333             0.026339  ...        10.864795   \n",
       "std                     2.741055             0.027342  ...        12.305045   \n",
       "min                     0.000000             0.000000  ...       -24.178355   \n",
       "25%                     0.000000             0.005924  ...         3.832235   \n",
       "50%                     0.085000             0.015773  ...         9.547614   \n",
       "75%                     1.552500             0.040661  ...        17.897105   \n",
       "max                    10.630000             0.113337  ...        43.855657   \n",
       "\n",
       "       temp_difference  Unnamed: 0        CH4        CO2        HFC  \\\n",
       "count        42.000000   42.000000  42.000000  42.000000  42.000000   \n",
       "mean          0.987359   22.095238   1.284412   7.478007   0.164214   \n",
       "std           0.448411   12.957359   1.194647   4.017188   0.297642   \n",
       "min           0.072246    0.000000   0.236113   1.278950  -1.000000   \n",
       "25%           0.659961   11.250000   0.750174   4.848182   0.109285   \n",
       "50%           0.943211   22.500000   0.893499   6.846338   0.176891   \n",
       "75%           1.382112   32.750000   1.261372   9.078078   0.322812   \n",
       "max           1.852533   44.000000   7.017958  16.642911   0.550778   \n",
       "\n",
       "             N2O        NF3        PFC        SF6  \n",
       "count  42.000000  42.000000  42.000000  42.000000  \n",
       "mean    0.586226  -0.666490  -0.154093  -0.036179  \n",
       "std     0.349903   0.477372   0.384327   0.219119  \n",
       "min     0.092906  -1.000000  -1.000000  -1.000000  \n",
       "25%     0.345235  -1.000000   0.000021   0.002429  \n",
       "50%     0.481730  -1.000000   0.003712   0.007283  \n",
       "75%     0.849686   0.000009   0.012341   0.010464  \n",
       "max     1.554079   0.002234   0.216726   0.128989  \n",
       "\n",
       "[8 rows x 29 columns]"
      ]
     },
     "execution_count": 18,
     "metadata": {},
     "output_type": "execute_result"
    }
   ],
   "source": [
    "coun_data.describe()"
   ]
  },
  {
   "cell_type": "code",
   "execution_count": 19,
   "metadata": {
    "ExecuteTime": {
     "end_time": "2021-01-25T22:32:29.871084Z",
     "start_time": "2021-01-25T22:32:29.868281Z"
    },
    "hidden": true
   },
   "outputs": [
    {
     "data": {
      "text/plain": [
       "42"
      ]
     },
     "execution_count": 19,
     "metadata": {},
     "output_type": "execute_result"
    }
   ],
   "source": [
    "coun_data['Country'].nunique()"
   ]
  },
  {
   "cell_type": "markdown",
   "metadata": {},
   "source": [
    "# Full Data"
   ]
  },
  {
   "cell_type": "markdown",
   "metadata": {},
   "source": [
    "## Merge both datasets"
   ]
  },
  {
   "cell_type": "markdown",
   "metadata": {
    "ExecuteTime": {
     "end_time": "2021-01-15T13:57:50.054145Z",
     "start_time": "2021-01-15T13:57:50.051068Z"
    }
   },
   "source": [
    "### Check Keys (countries)"
   ]
  },
  {
   "cell_type": "code",
   "execution_count": 20,
   "metadata": {
    "ExecuteTime": {
     "end_time": "2021-01-25T22:32:29.882077Z",
     "start_time": "2021-01-25T22:32:29.872300Z"
    }
   },
   "outputs": [
    {
     "name": "stdout",
     "output_type": "stream",
     "text": [
      "IUCN \\ CHAR: {'New Caledonia', 'Belarus', 'South Africa', 'Tajikistan', 'Azerbaijan', 'Puerto Rico', 'Georgia', 'Peru', 'Croatia', 'Armenia', 'Ukraine', 'Greenland', 'Cyprus', 'Northern Mariana Islands', 'Uzbekistan', 'Malta', 'Kazakhstan', 'Kyrgyzstan', 'Moldova', 'Romania', 'Saudi Arabia', 'Turkmenistan', 'Bulgaria'}\n",
      "CHAR \\ IUCN: set()\n"
     ]
    }
   ],
   "source": [
    "iucn_countries = set(iucn_data['Country'].unique())\n",
    "char_countries = set(coun_data['Country'].unique())\n",
    "print('IUCN \\ CHAR: {}'.format(iucn_countries.difference(char_countries)))\n",
    "print('CHAR \\ IUCN: {}'.format(char_countries.difference(iucn_countries)))"
   ]
  },
  {
   "cell_type": "code",
   "execution_count": 21,
   "metadata": {
    "ExecuteTime": {
     "end_time": "2021-01-25T22:32:29.888530Z",
     "start_time": "2021-01-25T22:32:29.883666Z"
    }
   },
   "outputs": [
    {
     "data": {
      "text/plain": [
       "37"
      ]
     },
     "execution_count": 21,
     "metadata": {},
     "output_type": "execute_result"
    }
   ],
   "source": [
    "oecd_list = [\n",
    "    'AUSTRALIA', 'AUSTRIA', 'BELGIUM', 'CANADA', 'CHILE', 'COLOMBIA',\n",
    "    'CZECH REPUBLIC', 'DENMARK', 'ESTONIA', 'FINLAND', 'FRANCE', 'GERMANY',\n",
    "    'GREECE', 'HUNGARY', 'ICELAND', 'IRELAND', 'ISRAEL', 'ITALY', 'JAPAN',\n",
    "    'KOREA', 'LATVIA', 'LITHUANIA', 'LUXEMBOURG', 'MEXICO', 'NETHERLANDS',\n",
    "    'NEW ZEALAND', 'NORWAY', 'POLAND', 'PORTUGAL', 'SLOVAK REPUBLIC',\n",
    "    'SLOVENIA', 'SPAIN', 'SWEDEN', 'SWITZERLAND', 'TURKEY', 'UNITED KINGDOM',\n",
    "    'UNITED STATES'\n",
    "]\n",
    "oecd_list = [c.title() for c in oecd_list]\n",
    "len(oecd_list)"
   ]
  },
  {
   "cell_type": "code",
   "execution_count": 22,
   "metadata": {
    "ExecuteTime": {
     "end_time": "2021-01-25T22:32:29.892884Z",
     "start_time": "2021-01-25T22:32:29.890006Z"
    }
   },
   "outputs": [
    {
     "data": {
      "text/plain": [
       "{'Turkey'}"
      ]
     },
     "execution_count": 22,
     "metadata": {},
     "output_type": "execute_result"
    }
   ],
   "source": [
    "set(oecd_list).difference(iucn_countries)"
   ]
  },
  {
   "cell_type": "code",
   "execution_count": 23,
   "metadata": {
    "ExecuteTime": {
     "end_time": "2021-01-25T22:32:29.897162Z",
     "start_time": "2021-01-25T22:32:29.894495Z"
    }
   },
   "outputs": [
    {
     "data": {
      "text/plain": [
       "{'Turkey'}"
      ]
     },
     "execution_count": 23,
     "metadata": {},
     "output_type": "execute_result"
    }
   ],
   "source": [
    "set(oecd_list).difference(char_countries)"
   ]
  },
  {
   "cell_type": "code",
   "execution_count": 24,
   "metadata": {
    "ExecuteTime": {
     "end_time": "2021-01-25T22:32:29.905783Z",
     "start_time": "2021-01-25T22:32:29.902289Z"
    }
   },
   "outputs": [
    {
     "data": {
      "text/plain": [
       "set()"
      ]
     },
     "execution_count": 24,
     "metadata": {},
     "output_type": "execute_result"
    }
   ],
   "source": [
    "iucn_diff_list = [c for c in iucn_countries.difference(char_countries)]\n",
    "set(iucn_diff_list).intersection(set(oecd_list))"
   ]
  },
  {
   "cell_type": "code",
   "execution_count": 25,
   "metadata": {
    "ExecuteTime": {
     "end_time": "2021-01-25T22:32:29.910531Z",
     "start_time": "2021-01-25T22:32:29.908267Z"
    }
   },
   "outputs": [],
   "source": [
    "#i"
   ]
  },
  {
   "cell_type": "code",
   "execution_count": null,
   "metadata": {
    "ExecuteTime": {
     "end_time": "2021-01-19T10:45:02.767710Z",
     "start_time": "2021-01-19T10:45:02.764165Z"
    }
   },
   "outputs": [],
   "source": []
  },
  {
   "cell_type": "markdown",
   "metadata": {},
   "source": [
    "### Rename Country Data to Match IUCN Data"
   ]
  },
  {
   "cell_type": "code",
   "execution_count": 26,
   "metadata": {
    "ExecuteTime": {
     "end_time": "2021-01-25T22:32:29.919431Z",
     "start_time": "2021-01-25T22:32:29.912420Z"
    }
   },
   "outputs": [],
   "source": [
    "coun_data.loc[coun_data['Country'] == 'New Zealand', 'Country'] = 'New_Zealand'\n",
    "coun_data.loc[coun_data['Country'] == 'Slovak Republic', 'Country'] = 'Slovakia'\n",
    "coun_data.loc[coun_data['Country'] == 'United Kingdom', 'Country'] = 'United_Kingdom'\n",
    "coun_data.loc[coun_data['Country'] == 'United States', 'Country'] = 'United_States'\n",
    "coun_data.loc[coun_data['Country'] == 'Czech Republic', 'Country'] = 'Czechia'\n",
    "coun_data.loc[coun_data['Country'] == 'Korea', 'Country'] = 'Korea,_Republic_of'"
   ]
  },
  {
   "cell_type": "markdown",
   "metadata": {
    "heading_collapsed": true
   },
   "source": [
    "### Merge "
   ]
  },
  {
   "cell_type": "code",
   "execution_count": 27,
   "metadata": {
    "ExecuteTime": {
     "end_time": "2021-01-25T22:32:29.976675Z",
     "start_time": "2021-01-25T22:32:29.921165Z"
    },
    "hidden": true
   },
   "outputs": [
    {
     "data": {
      "text/plain": [
       "36"
      ]
     },
     "execution_count": 27,
     "metadata": {},
     "output_type": "execute_result"
    }
   ],
   "source": [
    "full_data = iucn_data.merge(coun_data, on='Country', how='inner')\n",
    "full_data['Country'].nunique()"
   ]
  },
  {
   "cell_type": "code",
   "execution_count": 28,
   "metadata": {
    "ExecuteTime": {
     "end_time": "2021-01-25T22:32:29.983505Z",
     "start_time": "2021-01-25T22:32:29.978422Z"
    },
    "hidden": true
   },
   "outputs": [
    {
     "data": {
      "text/plain": [
       "array(['kingdom_class', 'common_name', 'scientific_name', 'trend',\n",
       "       'region', 'threat_level', 'Country', 'perc_area_protected_all_obj',\n",
       "       'perc_area_protected_obj_2', 'perc_area_protected_obj_3',\n",
       "       'perc_area_protected_obj_4', 'perc_area_protected_obj_1a',\n",
       "       'perc_area_protected_obj_1b', 'perc_area_protected_no_obj',\n",
       "       'perc_area_protected_obj_5', 'perc_area_protected_obj_6',\n",
       "       'Artificial surfaces', 'Bare area', 'Cropland', 'Grassland',\n",
       "       'Inland water', 'Shrubland', 'Sparse vegetation', 'Tree cover',\n",
       "       'Wetland', 'temp_slope', 'gain_percentage', 'temp_difference',\n",
       "       'Unnamed: 0', 'CH4', 'CO2', 'HFC', 'N2O', 'NF3', 'PFC', 'SF6'],\n",
       "      dtype=object)"
      ]
     },
     "execution_count": 28,
     "metadata": {},
     "output_type": "execute_result"
    }
   ],
   "source": [
    "full_data.columns.values"
   ]
  },
  {
   "cell_type": "markdown",
   "metadata": {},
   "source": [
    "### Merge with the relative number of threatened species\n",
    "For the prediction of the number of species per country relative to the number of total described species, we merge our coun_data with the relative number of threatened species per country. After those steps we have got 36 countries left, with 29 different characteristics for each one. We also have the relative number of threatened species by the taxonomic group for the major land living groups. Those are mammals, insects, amphibians, birds and reptiles. The maximum value for threatened species is 16.7%, while the minimum lies at 1.7% and there are on average 8.4% of the documented species threatened across all countries. The highest mean by taxonomic group can be seen for amphibians with 11.4% while the lowest can be seen for birds with  5.1%."
   ]
  },
  {
   "cell_type": "code",
   "execution_count": 29,
   "metadata": {
    "ExecuteTime": {
     "end_time": "2021-01-25T22:32:29.993662Z",
     "start_time": "2021-01-25T22:32:29.985738Z"
    }
   },
   "outputs": [],
   "source": [
    "threatened_relative = pd.read_csv(PATH_IUCN_REL)\n",
    "threatened_relative = threatened_relative.rename(columns={'Unnamed: 0': 'Country'})"
   ]
  },
  {
   "cell_type": "code",
   "execution_count": 30,
   "metadata": {
    "ExecuteTime": {
     "end_time": "2021-01-25T22:32:29.999637Z",
     "start_time": "2021-01-25T22:32:29.996146Z"
    }
   },
   "outputs": [
    {
     "name": "stdout",
     "output_type": "stream",
     "text": [
      "THREAT \\ CHAR: {'New Caledonia', 'Belarus', 'South Africa', 'Tajikistan', 'Puerto Rico', 'Georgia', 'Peru', 'Bulgaria', 'Croatia', 'Armenia', 'Ukraine', 'Greenland', 'Cyprus', 'Northern Mariana Islands', 'Uzbekistan', 'Malta', 'Kazakhstan', 'Kyrgyzstan', 'Moldova', 'Romania', 'Saudi Arabia', 'Turkmenistan', 'Azerbaijan'}\n",
      "CHAR \\ THREAT: set()\n"
     ]
    }
   ],
   "source": [
    "threatened_countries = set(threatened_relative['Country'].unique())\n",
    "print('THREAT \\ CHAR: {}'.format(threatened_countries.difference(char_countries)))\n",
    "print('CHAR \\ THREAT: {}'.format(char_countries.difference(threatened_countries)))"
   ]
  },
  {
   "cell_type": "code",
   "execution_count": 31,
   "metadata": {
    "ExecuteTime": {
     "end_time": "2021-01-25T22:32:30.026673Z",
     "start_time": "2021-01-25T22:32:30.001486Z"
    }
   },
   "outputs": [
    {
     "data": {
      "text/html": [
       "<div>\n",
       "<style scoped>\n",
       "    .dataframe tbody tr th:only-of-type {\n",
       "        vertical-align: middle;\n",
       "    }\n",
       "\n",
       "    .dataframe tbody tr th {\n",
       "        vertical-align: top;\n",
       "    }\n",
       "\n",
       "    .dataframe thead th {\n",
       "        text-align: right;\n",
       "    }\n",
       "</style>\n",
       "<table border=\"1\" class=\"dataframe\">\n",
       "  <thead>\n",
       "    <tr style=\"text-align: right;\">\n",
       "      <th></th>\n",
       "      <th>Country</th>\n",
       "      <th>total_threatened</th>\n",
       "      <th>mammals_threatened</th>\n",
       "      <th>insects_threatened</th>\n",
       "      <th>amphibians_threatened</th>\n",
       "      <th>birds_threatened</th>\n",
       "      <th>reptiles_threatened</th>\n",
       "      <th>mammals_resident</th>\n",
       "      <th>insects_resident</th>\n",
       "      <th>amphibians_resident</th>\n",
       "      <th>...</th>\n",
       "      <th>gain_percentage</th>\n",
       "      <th>temp_difference</th>\n",
       "      <th>Unnamed: 0</th>\n",
       "      <th>CH4</th>\n",
       "      <th>CO2</th>\n",
       "      <th>HFC</th>\n",
       "      <th>N2O</th>\n",
       "      <th>NF3</th>\n",
       "      <th>PFC</th>\n",
       "      <th>SF6</th>\n",
       "    </tr>\n",
       "  </thead>\n",
       "  <tbody>\n",
       "    <tr>\n",
       "      <th>0</th>\n",
       "      <td>Argentina</td>\n",
       "      <td>0.0791</td>\n",
       "      <td>0.1003</td>\n",
       "      <td>0.0744</td>\n",
       "      <td>0.2061</td>\n",
       "      <td>0.0519</td>\n",
       "      <td>0.0771</td>\n",
       "      <td>True</td>\n",
       "      <td>True</td>\n",
       "      <td>True</td>\n",
       "      <td>...</td>\n",
       "      <td>0.500525</td>\n",
       "      <td>0.072246</td>\n",
       "      <td>0</td>\n",
       "      <td>1.828861</td>\n",
       "      <td>4.710241</td>\n",
       "      <td>0.014370</td>\n",
       "      <td>1.002114</td>\n",
       "      <td>-1.000000</td>\n",
       "      <td>0.003744</td>\n",
       "      <td>0.000042</td>\n",
       "    </tr>\n",
       "    <tr>\n",
       "      <th>1</th>\n",
       "      <td>Australia</td>\n",
       "      <td>0.1120</td>\n",
       "      <td>0.1864</td>\n",
       "      <td>0.1403</td>\n",
       "      <td>0.2108</td>\n",
       "      <td>0.0716</td>\n",
       "      <td>0.0766</td>\n",
       "      <td>True</td>\n",
       "      <td>True</td>\n",
       "      <td>True</td>\n",
       "      <td>...</td>\n",
       "      <td>0.969423</td>\n",
       "      <td>0.214683</td>\n",
       "      <td>1</td>\n",
       "      <td>4.382540</td>\n",
       "      <td>16.642911</td>\n",
       "      <td>0.479420</td>\n",
       "      <td>0.804808</td>\n",
       "      <td>-1.000000</td>\n",
       "      <td>0.009443</td>\n",
       "      <td>0.009144</td>\n",
       "    </tr>\n",
       "    <tr>\n",
       "      <th>2</th>\n",
       "      <td>Austria</td>\n",
       "      <td>0.0628</td>\n",
       "      <td>0.0568</td>\n",
       "      <td>0.0867</td>\n",
       "      <td>0.0000</td>\n",
       "      <td>0.0426</td>\n",
       "      <td>0.0769</td>\n",
       "      <td>True</td>\n",
       "      <td>True</td>\n",
       "      <td>True</td>\n",
       "      <td>...</td>\n",
       "      <td>24.241043</td>\n",
       "      <td>1.498389</td>\n",
       "      <td>2</td>\n",
       "      <td>0.728541</td>\n",
       "      <td>7.549433</td>\n",
       "      <td>0.207606</td>\n",
       "      <td>0.398982</td>\n",
       "      <td>0.001868</td>\n",
       "      <td>0.003680</td>\n",
       "      <td>0.043241</td>\n",
       "    </tr>\n",
       "    <tr>\n",
       "      <th>3</th>\n",
       "      <td>Belgium</td>\n",
       "      <td>0.0378</td>\n",
       "      <td>0.0417</td>\n",
       "      <td>0.0544</td>\n",
       "      <td>0.0000</td>\n",
       "      <td>0.0303</td>\n",
       "      <td>0.0000</td>\n",
       "      <td>True</td>\n",
       "      <td>True</td>\n",
       "      <td>True</td>\n",
       "      <td>...</td>\n",
       "      <td>12.044550</td>\n",
       "      <td>1.167659</td>\n",
       "      <td>3</td>\n",
       "      <td>0.688260</td>\n",
       "      <td>8.787278</td>\n",
       "      <td>0.391962</td>\n",
       "      <td>0.500037</td>\n",
       "      <td>0.000057</td>\n",
       "      <td>0.011516</td>\n",
       "      <td>0.008337</td>\n",
       "    </tr>\n",
       "    <tr>\n",
       "      <th>4</th>\n",
       "      <td>Brazil</td>\n",
       "      <td>0.0861</td>\n",
       "      <td>0.1360</td>\n",
       "      <td>0.0807</td>\n",
       "      <td>0.0430</td>\n",
       "      <td>0.0914</td>\n",
       "      <td>0.0766</td>\n",
       "      <td>True</td>\n",
       "      <td>True</td>\n",
       "      <td>True</td>\n",
       "      <td>...</td>\n",
       "      <td>3.703937</td>\n",
       "      <td>0.929317</td>\n",
       "      <td>4</td>\n",
       "      <td>1.683181</td>\n",
       "      <td>2.566549</td>\n",
       "      <td>-1.000000</td>\n",
       "      <td>0.894033</td>\n",
       "      <td>-1.000000</td>\n",
       "      <td>-1.000000</td>\n",
       "      <td>-1.000000</td>\n",
       "    </tr>\n",
       "  </tbody>\n",
       "</table>\n",
       "<p>5 rows × 41 columns</p>\n",
       "</div>"
      ],
      "text/plain": [
       "     Country  total_threatened  mammals_threatened  insects_threatened  \\\n",
       "0  Argentina            0.0791              0.1003              0.0744   \n",
       "1  Australia            0.1120              0.1864              0.1403   \n",
       "2    Austria            0.0628              0.0568              0.0867   \n",
       "3    Belgium            0.0378              0.0417              0.0544   \n",
       "4     Brazil            0.0861              0.1360              0.0807   \n",
       "\n",
       "   amphibians_threatened  birds_threatened  reptiles_threatened  \\\n",
       "0                 0.2061            0.0519               0.0771   \n",
       "1                 0.2108            0.0716               0.0766   \n",
       "2                 0.0000            0.0426               0.0769   \n",
       "3                 0.0000            0.0303               0.0000   \n",
       "4                 0.0430            0.0914               0.0766   \n",
       "\n",
       "   mammals_resident  insects_resident  amphibians_resident  ...  \\\n",
       "0              True              True                 True  ...   \n",
       "1              True              True                 True  ...   \n",
       "2              True              True                 True  ...   \n",
       "3              True              True                 True  ...   \n",
       "4              True              True                 True  ...   \n",
       "\n",
       "   gain_percentage  temp_difference  Unnamed: 0       CH4        CO2  \\\n",
       "0         0.500525         0.072246           0  1.828861   4.710241   \n",
       "1         0.969423         0.214683           1  4.382540  16.642911   \n",
       "2        24.241043         1.498389           2  0.728541   7.549433   \n",
       "3        12.044550         1.167659           3  0.688260   8.787278   \n",
       "4         3.703937         0.929317           4  1.683181   2.566549   \n",
       "\n",
       "        HFC       N2O       NF3       PFC       SF6  \n",
       "0  0.014370  1.002114 -1.000000  0.003744  0.000042  \n",
       "1  0.479420  0.804808 -1.000000  0.009443  0.009144  \n",
       "2  0.207606  0.398982  0.001868  0.003680  0.043241  \n",
       "3  0.391962  0.500037  0.000057  0.011516  0.008337  \n",
       "4 -1.000000  0.894033 -1.000000 -1.000000 -1.000000  \n",
       "\n",
       "[5 rows x 41 columns]"
      ]
     },
     "execution_count": 31,
     "metadata": {},
     "output_type": "execute_result"
    }
   ],
   "source": [
    "full_threatened = threatened_relative.merge(coun_data, on='Country', how='inner')\n",
    "full_threatened.head()"
   ]
  },
  {
   "cell_type": "code",
   "execution_count": 32,
   "metadata": {
    "ExecuteTime": {
     "end_time": "2021-01-25T22:32:30.114067Z",
     "start_time": "2021-01-25T22:32:30.028545Z"
    }
   },
   "outputs": [
    {
     "data": {
      "text/html": [
       "<div>\n",
       "<style scoped>\n",
       "    .dataframe tbody tr th:only-of-type {\n",
       "        vertical-align: middle;\n",
       "    }\n",
       "\n",
       "    .dataframe tbody tr th {\n",
       "        vertical-align: top;\n",
       "    }\n",
       "\n",
       "    .dataframe thead th {\n",
       "        text-align: right;\n",
       "    }\n",
       "</style>\n",
       "<table border=\"1\" class=\"dataframe\">\n",
       "  <thead>\n",
       "    <tr style=\"text-align: right;\">\n",
       "      <th></th>\n",
       "      <th>total_threatened</th>\n",
       "      <th>mammals_threatened</th>\n",
       "      <th>insects_threatened</th>\n",
       "      <th>amphibians_threatened</th>\n",
       "      <th>birds_threatened</th>\n",
       "      <th>reptiles_threatened</th>\n",
       "      <th>perc_area_protected_all_obj</th>\n",
       "      <th>perc_area_protected_obj_2</th>\n",
       "      <th>perc_area_protected_obj_3</th>\n",
       "      <th>perc_area_protected_obj_4</th>\n",
       "      <th>...</th>\n",
       "      <th>temp_slope</th>\n",
       "      <th>gain_percentage</th>\n",
       "      <th>temp_difference</th>\n",
       "      <th>CH4</th>\n",
       "      <th>CO2</th>\n",
       "      <th>HFC</th>\n",
       "      <th>N2O</th>\n",
       "      <th>NF3</th>\n",
       "      <th>PFC</th>\n",
       "      <th>SF6</th>\n",
       "    </tr>\n",
       "  </thead>\n",
       "  <tbody>\n",
       "    <tr>\n",
       "      <th>count</th>\n",
       "      <td>36.000000</td>\n",
       "      <td>36.000000</td>\n",
       "      <td>36.000000</td>\n",
       "      <td>36.000000</td>\n",
       "      <td>36.000000</td>\n",
       "      <td>36.000000</td>\n",
       "      <td>36.000000</td>\n",
       "      <td>36.000000</td>\n",
       "      <td>36.000000</td>\n",
       "      <td>36.000000</td>\n",
       "      <td>...</td>\n",
       "      <td>36.000000</td>\n",
       "      <td>36.000000</td>\n",
       "      <td>36.000000</td>\n",
       "      <td>36.000000</td>\n",
       "      <td>36.000000</td>\n",
       "      <td>36.000000</td>\n",
       "      <td>36.000000</td>\n",
       "      <td>36.000000</td>\n",
       "      <td>3.600000e+01</td>\n",
       "      <td>36.000000</td>\n",
       "    </tr>\n",
       "    <tr>\n",
       "      <th>mean</th>\n",
       "      <td>0.084056</td>\n",
       "      <td>0.101114</td>\n",
       "      <td>0.087264</td>\n",
       "      <td>0.114533</td>\n",
       "      <td>0.051697</td>\n",
       "      <td>0.095097</td>\n",
       "      <td>21.890278</td>\n",
       "      <td>4.285278</td>\n",
       "      <td>0.058889</td>\n",
       "      <td>2.898333</td>\n",
       "      <td>...</td>\n",
       "      <td>0.032756</td>\n",
       "      <td>10.010823</td>\n",
       "      <td>0.938828</td>\n",
       "      <td>1.156474</td>\n",
       "      <td>7.097104</td>\n",
       "      <td>0.144013</td>\n",
       "      <td>0.561717</td>\n",
       "      <td>-0.694300</td>\n",
       "      <td>-1.818770e-01</td>\n",
       "      <td>-0.046840</td>\n",
       "    </tr>\n",
       "    <tr>\n",
       "      <th>std</th>\n",
       "      <td>0.043261</td>\n",
       "      <td>0.070868</td>\n",
       "      <td>0.051773</td>\n",
       "      <td>0.156417</td>\n",
       "      <td>0.021114</td>\n",
       "      <td>0.111864</td>\n",
       "      <td>10.988145</td>\n",
       "      <td>6.315960</td>\n",
       "      <td>0.117492</td>\n",
       "      <td>3.546239</td>\n",
       "      <td>...</td>\n",
       "      <td>0.012915</td>\n",
       "      <td>12.942997</td>\n",
       "      <td>0.446922</td>\n",
       "      <td>0.820514</td>\n",
       "      <td>3.919144</td>\n",
       "      <td>0.313502</td>\n",
       "      <td>0.306269</td>\n",
       "      <td>0.467397</td>\n",
       "      <td>4.091898e-01</td>\n",
       "      <td>0.234670</td>\n",
       "    </tr>\n",
       "    <tr>\n",
       "      <th>min</th>\n",
       "      <td>0.016700</td>\n",
       "      <td>0.000000</td>\n",
       "      <td>0.000000</td>\n",
       "      <td>0.000000</td>\n",
       "      <td>0.016000</td>\n",
       "      <td>0.000000</td>\n",
       "      <td>5.640000</td>\n",
       "      <td>0.000000</td>\n",
       "      <td>0.000000</td>\n",
       "      <td>0.010000</td>\n",
       "      <td>...</td>\n",
       "      <td>0.006156</td>\n",
       "      <td>-24.178355</td>\n",
       "      <td>0.072246</td>\n",
       "      <td>0.236113</td>\n",
       "      <td>1.278950</td>\n",
       "      <td>-1.000000</td>\n",
       "      <td>0.092906</td>\n",
       "      <td>-1.000000</td>\n",
       "      <td>-1.000000e+00</td>\n",
       "      <td>-1.000000</td>\n",
       "    </tr>\n",
       "    <tr>\n",
       "      <th>25%</th>\n",
       "      <td>0.047375</td>\n",
       "      <td>0.050100</td>\n",
       "      <td>0.060475</td>\n",
       "      <td>0.000000</td>\n",
       "      <td>0.037575</td>\n",
       "      <td>0.000000</td>\n",
       "      <td>14.135000</td>\n",
       "      <td>0.642500</td>\n",
       "      <td>0.000000</td>\n",
       "      <td>0.397500</td>\n",
       "      <td>...</td>\n",
       "      <td>0.022128</td>\n",
       "      <td>3.639039</td>\n",
       "      <td>0.603596</td>\n",
       "      <td>0.740512</td>\n",
       "      <td>4.616156</td>\n",
       "      <td>0.103406</td>\n",
       "      <td>0.357740</td>\n",
       "      <td>-1.000000</td>\n",
       "      <td>9.067425e-07</td>\n",
       "      <td>0.002302</td>\n",
       "    </tr>\n",
       "    <tr>\n",
       "      <th>50%</th>\n",
       "      <td>0.071400</td>\n",
       "      <td>0.089700</td>\n",
       "      <td>0.083700</td>\n",
       "      <td>0.032150</td>\n",
       "      <td>0.044300</td>\n",
       "      <td>0.076750</td>\n",
       "      <td>19.625000</td>\n",
       "      <td>2.025000</td>\n",
       "      <td>0.015000</td>\n",
       "      <td>1.555000</td>\n",
       "      <td>...</td>\n",
       "      <td>0.034182</td>\n",
       "      <td>8.858960</td>\n",
       "      <td>0.903967</td>\n",
       "      <td>0.893499</td>\n",
       "      <td>6.477036</td>\n",
       "      <td>0.158652</td>\n",
       "      <td>0.481730</td>\n",
       "      <td>-1.000000</td>\n",
       "      <td>3.587118e-03</td>\n",
       "      <td>0.007283</td>\n",
       "    </tr>\n",
       "    <tr>\n",
       "      <th>75%</th>\n",
       "      <td>0.121650</td>\n",
       "      <td>0.138025</td>\n",
       "      <td>0.100175</td>\n",
       "      <td>0.207275</td>\n",
       "      <td>0.062050</td>\n",
       "      <td>0.153800</td>\n",
       "      <td>26.577500</td>\n",
       "      <td>4.935000</td>\n",
       "      <td>0.050000</td>\n",
       "      <td>3.712500</td>\n",
       "      <td>...</td>\n",
       "      <td>0.038572</td>\n",
       "      <td>15.000800</td>\n",
       "      <td>1.220734</td>\n",
       "      <td>1.195826</td>\n",
       "      <td>8.839010</td>\n",
       "      <td>0.279662</td>\n",
       "      <td>0.819767</td>\n",
       "      <td>0.000005</td>\n",
       "      <td>1.057792e-02</td>\n",
       "      <td>0.010420</td>\n",
       "    </tr>\n",
       "    <tr>\n",
       "      <th>max</th>\n",
       "      <td>0.166500</td>\n",
       "      <td>0.294000</td>\n",
       "      <td>0.234400</td>\n",
       "      <td>0.563000</td>\n",
       "      <td>0.111900</td>\n",
       "      <td>0.500000</td>\n",
       "      <td>53.530000</td>\n",
       "      <td>32.610000</td>\n",
       "      <td>0.590000</td>\n",
       "      <td>14.740000</td>\n",
       "      <td>...</td>\n",
       "      <td>0.058883</td>\n",
       "      <td>43.855657</td>\n",
       "      <td>1.852533</td>\n",
       "      <td>4.382540</td>\n",
       "      <td>16.642911</td>\n",
       "      <td>0.550778</td>\n",
       "      <td>1.431682</td>\n",
       "      <td>0.002234</td>\n",
       "      <td>2.167259e-01</td>\n",
       "      <td>0.046683</td>\n",
       "    </tr>\n",
       "  </tbody>\n",
       "</table>\n",
       "<p>8 rows × 34 columns</p>\n",
       "</div>"
      ],
      "text/plain": [
       "       total_threatened  mammals_threatened  insects_threatened  \\\n",
       "count         36.000000           36.000000           36.000000   \n",
       "mean           0.084056            0.101114            0.087264   \n",
       "std            0.043261            0.070868            0.051773   \n",
       "min            0.016700            0.000000            0.000000   \n",
       "25%            0.047375            0.050100            0.060475   \n",
       "50%            0.071400            0.089700            0.083700   \n",
       "75%            0.121650            0.138025            0.100175   \n",
       "max            0.166500            0.294000            0.234400   \n",
       "\n",
       "       amphibians_threatened  birds_threatened  reptiles_threatened  \\\n",
       "count              36.000000         36.000000            36.000000   \n",
       "mean                0.114533          0.051697             0.095097   \n",
       "std                 0.156417          0.021114             0.111864   \n",
       "min                 0.000000          0.016000             0.000000   \n",
       "25%                 0.000000          0.037575             0.000000   \n",
       "50%                 0.032150          0.044300             0.076750   \n",
       "75%                 0.207275          0.062050             0.153800   \n",
       "max                 0.563000          0.111900             0.500000   \n",
       "\n",
       "       perc_area_protected_all_obj  perc_area_protected_obj_2  \\\n",
       "count                    36.000000                  36.000000   \n",
       "mean                     21.890278                   4.285278   \n",
       "std                      10.988145                   6.315960   \n",
       "min                       5.640000                   0.000000   \n",
       "25%                      14.135000                   0.642500   \n",
       "50%                      19.625000                   2.025000   \n",
       "75%                      26.577500                   4.935000   \n",
       "max                      53.530000                  32.610000   \n",
       "\n",
       "       perc_area_protected_obj_3  perc_area_protected_obj_4  ...  temp_slope  \\\n",
       "count                  36.000000                  36.000000  ...   36.000000   \n",
       "mean                    0.058889                   2.898333  ...    0.032756   \n",
       "std                     0.117492                   3.546239  ...    0.012915   \n",
       "min                     0.000000                   0.010000  ...    0.006156   \n",
       "25%                     0.000000                   0.397500  ...    0.022128   \n",
       "50%                     0.015000                   1.555000  ...    0.034182   \n",
       "75%                     0.050000                   3.712500  ...    0.038572   \n",
       "max                     0.590000                  14.740000  ...    0.058883   \n",
       "\n",
       "       gain_percentage  temp_difference        CH4        CO2        HFC  \\\n",
       "count        36.000000        36.000000  36.000000  36.000000  36.000000   \n",
       "mean         10.010823         0.938828   1.156474   7.097104   0.144013   \n",
       "std          12.942997         0.446922   0.820514   3.919144   0.313502   \n",
       "min         -24.178355         0.072246   0.236113   1.278950  -1.000000   \n",
       "25%           3.639039         0.603596   0.740512   4.616156   0.103406   \n",
       "50%           8.858960         0.903967   0.893499   6.477036   0.158652   \n",
       "75%          15.000800         1.220734   1.195826   8.839010   0.279662   \n",
       "max          43.855657         1.852533   4.382540  16.642911   0.550778   \n",
       "\n",
       "             N2O        NF3           PFC        SF6  \n",
       "count  36.000000  36.000000  3.600000e+01  36.000000  \n",
       "mean    0.561717  -0.694300 -1.818770e-01  -0.046840  \n",
       "std     0.306269   0.467397  4.091898e-01   0.234670  \n",
       "min     0.092906  -1.000000 -1.000000e+00  -1.000000  \n",
       "25%     0.357740  -1.000000  9.067425e-07   0.002302  \n",
       "50%     0.481730  -1.000000  3.587118e-03   0.007283  \n",
       "75%     0.819767   0.000005  1.057792e-02   0.010420  \n",
       "max     1.431682   0.002234  2.167259e-01   0.046683  \n",
       "\n",
       "[8 rows x 34 columns]"
      ]
     },
     "execution_count": 32,
     "metadata": {},
     "output_type": "execute_result"
    }
   ],
   "source": [
    "#drop column that arbitraly occured during merging before\n",
    "full_threatened = full_threatened.drop(columns=['Unnamed: 0'])\n",
    "#descriptive satistics for our final data frame\n",
    "full_threatened.describe()"
   ]
  },
  {
   "cell_type": "markdown",
   "metadata": {},
   "source": [
    "# Trends"
   ]
  },
  {
   "cell_type": "markdown",
   "metadata": {},
   "source": [
    "## Preprocessing"
   ]
  },
  {
   "cell_type": "markdown",
   "metadata": {},
   "source": [
    "### Transform Trends to [-1, 1]"
   ]
  },
  {
   "cell_type": "code",
   "execution_count": 33,
   "metadata": {
    "ExecuteTime": {
     "end_time": "2021-01-25T22:32:30.242605Z",
     "start_time": "2021-01-25T22:32:30.115610Z"
    }
   },
   "outputs": [
    {
     "data": {
      "text/html": [
       "<div>\n",
       "<style scoped>\n",
       "    .dataframe tbody tr th:only-of-type {\n",
       "        vertical-align: middle;\n",
       "    }\n",
       "\n",
       "    .dataframe tbody tr th {\n",
       "        vertical-align: top;\n",
       "    }\n",
       "\n",
       "    .dataframe thead th {\n",
       "        text-align: right;\n",
       "    }\n",
       "</style>\n",
       "<table border=\"1\" class=\"dataframe\">\n",
       "  <thead>\n",
       "    <tr style=\"text-align: right;\">\n",
       "      <th></th>\n",
       "      <th>kingdom_class</th>\n",
       "      <th>common_name</th>\n",
       "      <th>scientific_name</th>\n",
       "      <th>trend</th>\n",
       "      <th>region</th>\n",
       "      <th>threat_level</th>\n",
       "      <th>Country</th>\n",
       "      <th>perc_area_protected_all_obj</th>\n",
       "      <th>perc_area_protected_obj_2</th>\n",
       "      <th>perc_area_protected_obj_3</th>\n",
       "      <th>...</th>\n",
       "      <th>gain_percentage</th>\n",
       "      <th>temp_difference</th>\n",
       "      <th>CH4</th>\n",
       "      <th>CO2</th>\n",
       "      <th>HFC</th>\n",
       "      <th>N2O</th>\n",
       "      <th>NF3</th>\n",
       "      <th>PFC</th>\n",
       "      <th>SF6</th>\n",
       "      <th>trend_num</th>\n",
       "    </tr>\n",
       "  </thead>\n",
       "  <tbody>\n",
       "    <tr>\n",
       "      <th>1</th>\n",
       "      <td>animalia — gastropoda</td>\n",
       "      <td>Lapidary Snail</td>\n",
       "      <td>Helicigona lapicida</td>\n",
       "      <td>Stable</td>\n",
       "      <td>Global, Europe</td>\n",
       "      <td>Least Concern</td>\n",
       "      <td>Netherlands</td>\n",
       "      <td>21.36</td>\n",
       "      <td>2.93</td>\n",
       "      <td>0.0</td>\n",
       "      <td>...</td>\n",
       "      <td>13.518773</td>\n",
       "      <td>1.279099</td>\n",
       "      <td>1.004478</td>\n",
       "      <td>9.295129</td>\n",
       "      <td>0.095269</td>\n",
       "      <td>0.484523</td>\n",
       "      <td>-1.0</td>\n",
       "      <td>0.00946</td>\n",
       "      <td>0.007178</td>\n",
       "      <td>0.0</td>\n",
       "    </tr>\n",
       "    <tr>\n",
       "      <th>2</th>\n",
       "      <td>animalia — gastropoda</td>\n",
       "      <td>Moss Chrysalis Snail</td>\n",
       "      <td>Pupilla muscorum</td>\n",
       "      <td>Decreasing</td>\n",
       "      <td>Global, Europe</td>\n",
       "      <td>Least Concern</td>\n",
       "      <td>Netherlands</td>\n",
       "      <td>21.36</td>\n",
       "      <td>2.93</td>\n",
       "      <td>0.0</td>\n",
       "      <td>...</td>\n",
       "      <td>13.518773</td>\n",
       "      <td>1.279099</td>\n",
       "      <td>1.004478</td>\n",
       "      <td>9.295129</td>\n",
       "      <td>0.095269</td>\n",
       "      <td>0.484523</td>\n",
       "      <td>-1.0</td>\n",
       "      <td>0.00946</td>\n",
       "      <td>0.007178</td>\n",
       "      <td>-1.0</td>\n",
       "    </tr>\n",
       "    <tr>\n",
       "      <th>5</th>\n",
       "      <td>animalia — mammalia</td>\n",
       "      <td>Lesser Horseshoe Bat</td>\n",
       "      <td>Rhinolophus hipposideros</td>\n",
       "      <td>Decreasing</td>\n",
       "      <td>Global</td>\n",
       "      <td>Least Concern</td>\n",
       "      <td>Netherlands</td>\n",
       "      <td>21.36</td>\n",
       "      <td>2.93</td>\n",
       "      <td>0.0</td>\n",
       "      <td>...</td>\n",
       "      <td>13.518773</td>\n",
       "      <td>1.279099</td>\n",
       "      <td>1.004478</td>\n",
       "      <td>9.295129</td>\n",
       "      <td>0.095269</td>\n",
       "      <td>0.484523</td>\n",
       "      <td>-1.0</td>\n",
       "      <td>0.00946</td>\n",
       "      <td>0.007178</td>\n",
       "      <td>-1.0</td>\n",
       "    </tr>\n",
       "    <tr>\n",
       "      <th>9</th>\n",
       "      <td>animalia — insecta</td>\n",
       "      <td>Ashton's Cuckoo Bumblebee</td>\n",
       "      <td>Bombus bohemicus</td>\n",
       "      <td>Decreasing</td>\n",
       "      <td>Global</td>\n",
       "      <td>Data Deficient</td>\n",
       "      <td>Netherlands</td>\n",
       "      <td>21.36</td>\n",
       "      <td>2.93</td>\n",
       "      <td>0.0</td>\n",
       "      <td>...</td>\n",
       "      <td>13.518773</td>\n",
       "      <td>1.279099</td>\n",
       "      <td>1.004478</td>\n",
       "      <td>9.295129</td>\n",
       "      <td>0.095269</td>\n",
       "      <td>0.484523</td>\n",
       "      <td>-1.0</td>\n",
       "      <td>0.00946</td>\n",
       "      <td>0.007178</td>\n",
       "      <td>-1.0</td>\n",
       "    </tr>\n",
       "    <tr>\n",
       "      <th>12</th>\n",
       "      <td>animalia — insecta</td>\n",
       "      <td>Variable Bluet</td>\n",
       "      <td>Coenagrion pulchellum</td>\n",
       "      <td>Stable</td>\n",
       "      <td>Global</td>\n",
       "      <td>Least Concern</td>\n",
       "      <td>Netherlands</td>\n",
       "      <td>21.36</td>\n",
       "      <td>2.93</td>\n",
       "      <td>0.0</td>\n",
       "      <td>...</td>\n",
       "      <td>13.518773</td>\n",
       "      <td>1.279099</td>\n",
       "      <td>1.004478</td>\n",
       "      <td>9.295129</td>\n",
       "      <td>0.095269</td>\n",
       "      <td>0.484523</td>\n",
       "      <td>-1.0</td>\n",
       "      <td>0.00946</td>\n",
       "      <td>0.007178</td>\n",
       "      <td>0.0</td>\n",
       "    </tr>\n",
       "  </tbody>\n",
       "</table>\n",
       "<p>5 rows × 36 columns</p>\n",
       "</div>"
      ],
      "text/plain": [
       "            kingdom_class                common_name  \\\n",
       "1   animalia — gastropoda             Lapidary Snail   \n",
       "2   animalia — gastropoda       Moss Chrysalis Snail   \n",
       "5     animalia — mammalia       Lesser Horseshoe Bat   \n",
       "9      animalia — insecta  Ashton's Cuckoo Bumblebee   \n",
       "12     animalia — insecta             Variable Bluet   \n",
       "\n",
       "             scientific_name       trend          region    threat_level  \\\n",
       "1        Helicigona lapicida      Stable  Global, Europe   Least Concern   \n",
       "2           Pupilla muscorum  Decreasing  Global, Europe   Least Concern   \n",
       "5   Rhinolophus hipposideros  Decreasing          Global   Least Concern   \n",
       "9           Bombus bohemicus  Decreasing          Global  Data Deficient   \n",
       "12     Coenagrion pulchellum      Stable          Global   Least Concern   \n",
       "\n",
       "        Country  perc_area_protected_all_obj  perc_area_protected_obj_2  \\\n",
       "1   Netherlands                        21.36                       2.93   \n",
       "2   Netherlands                        21.36                       2.93   \n",
       "5   Netherlands                        21.36                       2.93   \n",
       "9   Netherlands                        21.36                       2.93   \n",
       "12  Netherlands                        21.36                       2.93   \n",
       "\n",
       "    perc_area_protected_obj_3  ...  gain_percentage  temp_difference  \\\n",
       "1                         0.0  ...        13.518773         1.279099   \n",
       "2                         0.0  ...        13.518773         1.279099   \n",
       "5                         0.0  ...        13.518773         1.279099   \n",
       "9                         0.0  ...        13.518773         1.279099   \n",
       "12                        0.0  ...        13.518773         1.279099   \n",
       "\n",
       "         CH4       CO2       HFC       N2O  NF3      PFC       SF6  trend_num  \n",
       "1   1.004478  9.295129  0.095269  0.484523 -1.0  0.00946  0.007178        0.0  \n",
       "2   1.004478  9.295129  0.095269  0.484523 -1.0  0.00946  0.007178       -1.0  \n",
       "5   1.004478  9.295129  0.095269  0.484523 -1.0  0.00946  0.007178       -1.0  \n",
       "9   1.004478  9.295129  0.095269  0.484523 -1.0  0.00946  0.007178       -1.0  \n",
       "12  1.004478  9.295129  0.095269  0.484523 -1.0  0.00946  0.007178        0.0  \n",
       "\n",
       "[5 rows x 36 columns]"
      ]
     },
     "execution_count": 33,
     "metadata": {},
     "output_type": "execute_result"
    }
   ],
   "source": [
    "full_data = full_data.dropna()\n",
    "full_data = full_data.drop('Unnamed: 0', axis=1)\n",
    "full_data = full_data[full_data['trend'] != 'Unknown']\n",
    "full_data.loc[full_data['trend'] == 'Decreasing', 'trend_num'] = -1\n",
    "full_data.loc[full_data['trend'] == 'Stable', 'trend_num'] = 0\n",
    "full_data.loc[full_data['trend'] == 'Increasing', 'trend_num'] = 1\n",
    "full_data.head()"
   ]
  },
  {
   "cell_type": "code",
   "execution_count": 34,
   "metadata": {
    "ExecuteTime": {
     "end_time": "2021-01-25T22:32:30.247646Z",
     "start_time": "2021-01-25T22:32:30.244296Z"
    }
   },
   "outputs": [],
   "source": [
    "def z_score_normalize(full_data):\n",
    "    num_cols = []\n",
    "    for col in full_data.columns.values:\n",
    "        if full_data[col].dtype == float:\n",
    "            num_cols.append(col)\n",
    "    df_zscore = pd.DataFrame(zscore(full_data[num_cols], axis=1) , columns=num_cols)\n",
    "    return df_zscore"
   ]
  },
  {
   "cell_type": "markdown",
   "metadata": {},
   "source": [
    "## Analysis"
   ]
  },
  {
   "cell_type": "code",
   "execution_count": 35,
   "metadata": {
    "ExecuteTime": {
     "end_time": "2021-01-25T22:32:30.407684Z",
     "start_time": "2021-01-25T22:32:30.249180Z"
    }
   },
   "outputs": [
    {
     "data": {
      "text/plain": [
       "<AxesSubplot:>"
      ]
     },
     "execution_count": 35,
     "metadata": {},
     "output_type": "execute_result"
    },
    {
     "data": {
      "image/png": "[encoded data removed]",
      "text/plain": [
       "<Figure size 432x288 with 1 Axes>"
      ]
     },
     "metadata": {
      "needs_background": "light"
     },
     "output_type": "display_data"
    }
   ],
   "source": [
    "full_data['trend_num'].hist()"
   ]
  },
  {
   "cell_type": "markdown",
   "metadata": {},
   "source": [
    "## Correlations"
   ]
  },
  {
   "cell_type": "markdown",
   "metadata": {},
   "source": [
    "### Logistic Regression on Trend per Feature\n",
    "\n",
    "See: https://medium.com/@outside2SDs/an-overview-of-correlation-measures-between-categorical-and-continuous-variables-4c7f85610365#:~:text=A%20simple%20approach%20could%20be,variance%20of%20the%20continuous%20variable.&text=If%20the%20variables%20have%20no,similar%20to%20the%20original%20variance."
   ]
  },
  {
   "cell_type": "code",
   "execution_count": 36,
   "metadata": {
    "ExecuteTime": {
     "end_time": "2021-01-25T22:32:30.442823Z",
     "start_time": "2021-01-25T22:32:30.409181Z"
    }
   },
   "outputs": [],
   "source": [
    "full_data = full_data.dropna()\n",
    "full_data = full_data[full_data['trend'] != 'Unknown']"
   ]
  },
  {
   "cell_type": "code",
   "execution_count": 37,
   "metadata": {
    "ExecuteTime": {
     "end_time": "2021-01-25T22:32:36.434879Z",
     "start_time": "2021-01-25T22:32:30.444997Z"
    }
   },
   "outputs": [
    {
     "name": "stdout",
     "output_type": "stream",
     "text": [
      "perc_area_protected_all_obj predictor accuracy: 0.4647477083868757\n",
      "perc_area_protected_obj_2 predictor accuracy: 0.46140666495331106\n",
      "perc_area_protected_obj_3 predictor accuracy: 0.46140666495331106\n",
      "perc_area_protected_obj_4 predictor accuracy: 0.46140666495331106\n",
      "perc_area_protected_obj_1a predictor accuracy: 0.46140666495331106\n",
      "perc_area_protected_obj_1b predictor accuracy: 0.46140666495331106\n",
      "perc_area_protected_no_obj predictor accuracy: 0.4651760472886147\n",
      "perc_area_protected_obj_5 predictor accuracy: 0.46269168165852825\n",
      "perc_area_protected_obj_6 predictor accuracy: 0.46140666495331106\n",
      "Artificial surfaces predictor accuracy: 0.46080699049087637\n",
      "Bare area predictor accuracy: 0.46140666495331106\n",
      "Cropland predictor accuracy: 0.46663239955452757\n",
      "Grassland predictor accuracy: 0.46140666495331106\n",
      "Inland water predictor accuracy: 0.46140666495331106\n",
      "Shrubland predictor accuracy: 0.46140666495331106\n",
      "Sparse vegetation predictor accuracy: 0.4778548787800908\n",
      "Tree cover predictor accuracy: 0.47280047973956996\n",
      "Wetland predictor accuracy: 0.459179302664268\n",
      "temp_slope predictor accuracy: 0.46140666495331106\n",
      "gain_percentage predictor accuracy: 0.45875096376252894\n",
      "temp_difference predictor accuracy: 0.45069819240983466\n",
      "CH4 predictor accuracy: 0.4604643193694851\n",
      "CO2 predictor accuracy: 0.47494217424826524\n",
      "HFC predictor accuracy: 0.4739141608840915\n",
      "N2O predictor accuracy: 0.4603786515891373\n",
      "NF3 predictor accuracy: 0.46140666495331106\n",
      "PFC predictor accuracy: 0.47674119763556927\n",
      "SF6 predictor accuracy: 0.4739141608840915\n",
      "trend_num predictor accuracy: 1.0\n"
     ]
    }
   ],
   "source": [
    "clf = LogisticRegression(random_state=RANDOM_STATE)\n",
    "runs = []\n",
    "for col in full_data.columns.values:\n",
    "    if (full_data[col].dtype == 'int64') | (full_data[col].dtype == 'float64'):\n",
    "        y = full_data['trend'].copy()\n",
    "        #y[y.isna()] = 'NULL'\n",
    "        X = full_data[col]\n",
    "        X_train, X_test, y_train, y_test = train_test_split(X,\n",
    "                                                    y,\n",
    "                                                    test_size=0.33, stratify=y,\n",
    "                                                    random_state=RANDOM_STATE, shuffle=True)\n",
    "        X_train = np.array(X_train).reshape(-1,1)\n",
    "        X_test =  np.array(X_test).reshape(-1,1)\n",
    "        y_train = np.array(y_train)\n",
    "        y_test = np.array(y_test)\n",
    "        clf.fit(X_train, y_train)\n",
    "        \n",
    "        y_hat = clf.predict(X_test)\n",
    "        acc = clf.score(X_test, y_test)\n",
    "        \n",
    "        entry = {'column': col, 'acc': acc, 'y': y_test, 'y_hat':y_hat}\n",
    "        runs.append(entry)\n",
    "        print('{} predictor accuracy: {}'.format(col, acc))\n",
    "    # acc_per_col[col] = "
   ]
  },
  {
   "cell_type": "code",
   "execution_count": 38,
   "metadata": {
    "ExecuteTime": {
     "end_time": "2021-01-25T22:32:36.547620Z",
     "start_time": "2021-01-25T22:32:36.436559Z"
    }
   },
   "outputs": [
    {
     "data": {
      "text/plain": [
       "[<matplotlib.lines.Line2D at 0x7f978c9be210>]"
      ]
     },
     "execution_count": 38,
     "metadata": {},
     "output_type": "execute_result"
    },
    {
     "data": {
      "image/png": "[encoded data removed]",
      "text/plain": [
       "<Figure size 432x288 with 1 Axes>"
      ]
     },
     "metadata": {
      "needs_background": "light"
     },
     "output_type": "display_data"
    }
   ],
   "source": [
    "run_df = pd.DataFrame(runs) \n",
    "plt.plot(run_df['acc'])"
   ]
  },
  {
   "cell_type": "markdown",
   "metadata": {},
   "source": [
    "### Pearson Correlation\n"
   ]
  },
  {
   "cell_type": "code",
   "execution_count": 39,
   "metadata": {
    "ExecuteTime": {
     "end_time": "2021-01-25T22:32:58.007226Z",
     "start_time": "2021-01-25T22:32:57.882069Z"
    }
   },
   "outputs": [
    {
     "data": {
      "text/html": [
       "<div>\n",
       "<style scoped>\n",
       "    .dataframe tbody tr th:only-of-type {\n",
       "        vertical-align: middle;\n",
       "    }\n",
       "\n",
       "    .dataframe tbody tr th {\n",
       "        vertical-align: top;\n",
       "    }\n",
       "\n",
       "    .dataframe thead th {\n",
       "        text-align: right;\n",
       "    }\n",
       "</style>\n",
       "<table border=\"1\" class=\"dataframe\">\n",
       "  <thead>\n",
       "    <tr style=\"text-align: right;\">\n",
       "      <th></th>\n",
       "      <th>perc_area_protected_all_obj</th>\n",
       "      <th>perc_area_protected_obj_2</th>\n",
       "      <th>perc_area_protected_obj_3</th>\n",
       "      <th>perc_area_protected_obj_4</th>\n",
       "      <th>perc_area_protected_obj_1a</th>\n",
       "      <th>perc_area_protected_obj_1b</th>\n",
       "      <th>perc_area_protected_no_obj</th>\n",
       "      <th>perc_area_protected_obj_5</th>\n",
       "      <th>perc_area_protected_obj_6</th>\n",
       "      <th>Artificial surfaces</th>\n",
       "      <th>...</th>\n",
       "      <th>gain_percentage</th>\n",
       "      <th>temp_difference</th>\n",
       "      <th>CH4</th>\n",
       "      <th>CO2</th>\n",
       "      <th>HFC</th>\n",
       "      <th>N2O</th>\n",
       "      <th>NF3</th>\n",
       "      <th>PFC</th>\n",
       "      <th>SF6</th>\n",
       "      <th>trend_num</th>\n",
       "    </tr>\n",
       "  </thead>\n",
       "  <tbody>\n",
       "    <tr>\n",
       "      <th>count</th>\n",
       "      <td>35372.000000</td>\n",
       "      <td>35372.000000</td>\n",
       "      <td>35372.000000</td>\n",
       "      <td>35372.000000</td>\n",
       "      <td>35372.000000</td>\n",
       "      <td>35372.000000</td>\n",
       "      <td>35372.000000</td>\n",
       "      <td>35372.000000</td>\n",
       "      <td>35372.000000</td>\n",
       "      <td>35372.000000</td>\n",
       "      <td>...</td>\n",
       "      <td>35372.000000</td>\n",
       "      <td>35372.000000</td>\n",
       "      <td>35372.000000</td>\n",
       "      <td>35372.000000</td>\n",
       "      <td>35372.000000</td>\n",
       "      <td>35372.000000</td>\n",
       "      <td>35372.000000</td>\n",
       "      <td>35372.000000</td>\n",
       "      <td>35372.000000</td>\n",
       "      <td>35372.000000</td>\n",
       "    </tr>\n",
       "    <tr>\n",
       "      <th>mean</th>\n",
       "      <td>3.863935</td>\n",
       "      <td>0.633454</td>\n",
       "      <td>-0.374514</td>\n",
       "      <td>0.107266</td>\n",
       "      <td>-0.185459</td>\n",
       "      <td>-0.303767</td>\n",
       "      <td>0.671807</td>\n",
       "      <td>0.116631</td>\n",
       "      <td>0.330186</td>\n",
       "      <td>-0.385954</td>\n",
       "      <td>...</td>\n",
       "      <td>0.759531</td>\n",
       "      <td>-0.179810</td>\n",
       "      <td>-0.079088</td>\n",
       "      <td>0.940382</td>\n",
       "      <td>-0.402970</td>\n",
       "      <td>-0.265257</td>\n",
       "      <td>-0.612335</td>\n",
       "      <td>-0.471458</td>\n",
       "      <td>-0.434839</td>\n",
       "      <td>-0.489210</td>\n",
       "    </tr>\n",
       "    <tr>\n",
       "      <th>std</th>\n",
       "      <td>0.798804</td>\n",
       "      <td>1.017456</td>\n",
       "      <td>0.082955</td>\n",
       "      <td>0.652998</td>\n",
       "      <td>0.243561</td>\n",
       "      <td>0.261845</td>\n",
       "      <td>0.999563</td>\n",
       "      <td>0.765688</td>\n",
       "      <td>0.918041</td>\n",
       "      <td>0.079169</td>\n",
       "      <td>...</td>\n",
       "      <td>1.721058</td>\n",
       "      <td>0.161897</td>\n",
       "      <td>0.261928</td>\n",
       "      <td>0.868702</td>\n",
       "      <td>0.149058</td>\n",
       "      <td>0.126010</td>\n",
       "      <td>0.225011</td>\n",
       "      <td>0.148411</td>\n",
       "      <td>0.135863</td>\n",
       "      <td>0.214330</td>\n",
       "    </tr>\n",
       "    <tr>\n",
       "      <th>min</th>\n",
       "      <td>1.252741</td>\n",
       "      <td>-0.478143</td>\n",
       "      <td>-0.493378</td>\n",
       "      <td>-0.441130</td>\n",
       "      <td>-0.470334</td>\n",
       "      <td>-0.496206</td>\n",
       "      <td>-0.469061</td>\n",
       "      <td>-0.455669</td>\n",
       "      <td>-0.474387</td>\n",
       "      <td>-0.492827</td>\n",
       "      <td>...</td>\n",
       "      <td>-4.442765</td>\n",
       "      <td>-0.442305</td>\n",
       "      <td>-0.413320</td>\n",
       "      <td>-0.072342</td>\n",
       "      <td>-0.790252</td>\n",
       "      <td>-0.431720</td>\n",
       "      <td>-1.232174</td>\n",
       "      <td>-0.790252</td>\n",
       "      <td>-0.790252</td>\n",
       "      <td>-1.152450</td>\n",
       "    </tr>\n",
       "    <tr>\n",
       "      <th>25%</th>\n",
       "      <td>3.684214</td>\n",
       "      <td>-0.231736</td>\n",
       "      <td>-0.422314</td>\n",
       "      <td>-0.359443</td>\n",
       "      <td>-0.412375</td>\n",
       "      <td>-0.421641</td>\n",
       "      <td>-0.083193</td>\n",
       "      <td>-0.347876</td>\n",
       "      <td>-0.401838</td>\n",
       "      <td>-0.430417</td>\n",
       "      <td>...</td>\n",
       "      <td>0.248497</td>\n",
       "      <td>-0.271937</td>\n",
       "      <td>-0.264322</td>\n",
       "      <td>0.456814</td>\n",
       "      <td>-0.427334</td>\n",
       "      <td>-0.339630</td>\n",
       "      <td>-0.738998</td>\n",
       "      <td>-0.552434</td>\n",
       "      <td>-0.455821</td>\n",
       "      <td>-0.630140</td>\n",
       "    </tr>\n",
       "    <tr>\n",
       "      <th>50%</th>\n",
       "      <td>4.068604</td>\n",
       "      <td>0.321042</td>\n",
       "      <td>-0.393188</td>\n",
       "      <td>-0.177959</td>\n",
       "      <td>-0.292885</td>\n",
       "      <td>-0.382166</td>\n",
       "      <td>0.430748</td>\n",
       "      <td>-0.260948</td>\n",
       "      <td>-0.108998</td>\n",
       "      <td>-0.401872</td>\n",
       "      <td>...</td>\n",
       "      <td>0.693937</td>\n",
       "      <td>-0.223933</td>\n",
       "      <td>-0.114572</td>\n",
       "      <td>0.642612</td>\n",
       "      <td>-0.384616</td>\n",
       "      <td>-0.303465</td>\n",
       "      <td>-0.607166</td>\n",
       "      <td>-0.441875</td>\n",
       "      <td>-0.428274</td>\n",
       "      <td>-0.443837</td>\n",
       "    </tr>\n",
       "    <tr>\n",
       "      <th>75%</th>\n",
       "      <td>4.251886</td>\n",
       "      <td>0.949740</td>\n",
       "      <td>-0.354844</td>\n",
       "      <td>0.357329</td>\n",
       "      <td>-0.026156</td>\n",
       "      <td>-0.342761</td>\n",
       "      <td>1.627800</td>\n",
       "      <td>0.392878</td>\n",
       "      <td>0.772253</td>\n",
       "      <td>-0.370646</td>\n",
       "      <td>...</td>\n",
       "      <td>1.437444</td>\n",
       "      <td>-0.135230</td>\n",
       "      <td>-0.064728</td>\n",
       "      <td>1.133527</td>\n",
       "      <td>-0.349535</td>\n",
       "      <td>-0.236466</td>\n",
       "      <td>-0.484800</td>\n",
       "      <td>-0.412375</td>\n",
       "      <td>-0.393188</td>\n",
       "      <td>-0.379965</td>\n",
       "    </tr>\n",
       "    <tr>\n",
       "      <th>max</th>\n",
       "      <td>4.828268</td>\n",
       "      <td>2.826411</td>\n",
       "      <td>-0.078908</td>\n",
       "      <td>2.092226</td>\n",
       "      <td>0.310026</td>\n",
       "      <td>0.982270</td>\n",
       "      <td>3.137823</td>\n",
       "      <td>2.611471</td>\n",
       "      <td>2.521298</td>\n",
       "      <td>-0.094510</td>\n",
       "      <td>...</td>\n",
       "      <td>4.929403</td>\n",
       "      <td>0.247022</td>\n",
       "      <td>0.536868</td>\n",
       "      <td>3.014852</td>\n",
       "      <td>-0.035701</td>\n",
       "      <td>0.096806</td>\n",
       "      <td>-0.094915</td>\n",
       "      <td>-0.091141</td>\n",
       "      <td>-0.093101</td>\n",
       "      <td>0.320836</td>\n",
       "    </tr>\n",
       "  </tbody>\n",
       "</table>\n",
       "<p>8 rows × 29 columns</p>\n",
       "</div>"
      ],
      "text/plain": [
       "       perc_area_protected_all_obj  perc_area_protected_obj_2  \\\n",
       "count                 35372.000000               35372.000000   \n",
       "mean                      3.863935                   0.633454   \n",
       "std                       0.798804                   1.017456   \n",
       "min                       1.252741                  -0.478143   \n",
       "25%                       3.684214                  -0.231736   \n",
       "50%                       4.068604                   0.321042   \n",
       "75%                       4.251886                   0.949740   \n",
       "max                       4.828268                   2.826411   \n",
       "\n",
       "       perc_area_protected_obj_3  perc_area_protected_obj_4  \\\n",
       "count               35372.000000               35372.000000   \n",
       "mean                   -0.374514                   0.107266   \n",
       "std                     0.082955                   0.652998   \n",
       "min                    -0.493378                  -0.441130   \n",
       "25%                    -0.422314                  -0.359443   \n",
       "50%                    -0.393188                  -0.177959   \n",
       "75%                    -0.354844                   0.357329   \n",
       "max                    -0.078908                   2.092226   \n",
       "\n",
       "       perc_area_protected_obj_1a  perc_area_protected_obj_1b  \\\n",
       "count                35372.000000                35372.000000   \n",
       "mean                    -0.185459                   -0.303767   \n",
       "std                      0.243561                    0.261845   \n",
       "min                     -0.470334                   -0.496206   \n",
       "25%                     -0.412375                   -0.421641   \n",
       "50%                     -0.292885                   -0.382166   \n",
       "75%                     -0.026156                   -0.342761   \n",
       "max                      0.310026                    0.982270   \n",
       "\n",
       "       perc_area_protected_no_obj  perc_area_protected_obj_5  \\\n",
       "count                35372.000000               35372.000000   \n",
       "mean                     0.671807                   0.116631   \n",
       "std                      0.999563                   0.765688   \n",
       "min                     -0.469061                  -0.455669   \n",
       "25%                     -0.083193                  -0.347876   \n",
       "50%                      0.430748                  -0.260948   \n",
       "75%                      1.627800                   0.392878   \n",
       "max                      3.137823                   2.611471   \n",
       "\n",
       "       perc_area_protected_obj_6  Artificial surfaces  ...  gain_percentage  \\\n",
       "count               35372.000000         35372.000000  ...     35372.000000   \n",
       "mean                    0.330186            -0.385954  ...         0.759531   \n",
       "std                     0.918041             0.079169  ...         1.721058   \n",
       "min                    -0.474387            -0.492827  ...        -4.442765   \n",
       "25%                    -0.401838            -0.430417  ...         0.248497   \n",
       "50%                    -0.108998            -0.401872  ...         0.693937   \n",
       "75%                     0.772253            -0.370646  ...         1.437444   \n",
       "max                     2.521298            -0.094510  ...         4.929403   \n",
       "\n",
       "       temp_difference           CH4           CO2           HFC  \\\n",
       "count     35372.000000  35372.000000  35372.000000  35372.000000   \n",
       "mean         -0.179810     -0.079088      0.940382     -0.402970   \n",
       "std           0.161897      0.261928      0.868702      0.149058   \n",
       "min          -0.442305     -0.413320     -0.072342     -0.790252   \n",
       "25%          -0.271937     -0.264322      0.456814     -0.427334   \n",
       "50%          -0.223933     -0.114572      0.642612     -0.384616   \n",
       "75%          -0.135230     -0.064728      1.133527     -0.349535   \n",
       "max           0.247022      0.536868      3.014852     -0.035701   \n",
       "\n",
       "                N2O           NF3           PFC           SF6     trend_num  \n",
       "count  35372.000000  35372.000000  35372.000000  35372.000000  35372.000000  \n",
       "mean      -0.265257     -0.612335     -0.471458     -0.434839     -0.489210  \n",
       "std        0.126010      0.225011      0.148411      0.135863      0.214330  \n",
       "min       -0.431720     -1.232174     -0.790252     -0.790252     -1.152450  \n",
       "25%       -0.339630     -0.738998     -0.552434     -0.455821     -0.630140  \n",
       "50%       -0.303465     -0.607166     -0.441875     -0.428274     -0.443837  \n",
       "75%       -0.236466     -0.484800     -0.412375     -0.393188     -0.379965  \n",
       "max        0.096806     -0.094915     -0.091141     -0.093101      0.320836  \n",
       "\n",
       "[8 rows x 29 columns]"
      ]
     },
     "execution_count": 39,
     "metadata": {},
     "output_type": "execute_result"
    }
   ],
   "source": [
    "df_zscore = full_data.copy()\n",
    "df_zscore['trend'] = full_data['trend']\n",
    "df_zscore = z_score_normalize(df_zscore)\n",
    "df_zscore.describe()\n"
   ]
  },
  {
   "cell_type": "markdown",
   "metadata": {},
   "source": [
    "#### Plot Correlation Matrix"
   ]
  },
  {
   "cell_type": "code",
   "execution_count": 42,
   "metadata": {
    "ExecuteTime": {
     "end_time": "2021-01-25T17:07:09.078324Z",
     "start_time": "2021-01-25T17:07:08.309450Z"
    }
   },
   "outputs": [
    {
     "data": {
      "image/png": "[encoded data removed]",
      "text/plain": [
       "<Figure size 792x648 with 2 Axes>"
      ]
     },
     "metadata": {
      "needs_background": "light"
     },
     "output_type": "display_data"
    }
   ],
   "source": [
    "correlation_matrix =  df_zscore.corr(method= 'pearson')\n",
    "#visualization of the correlation matrix as heatmap\n",
    "\n",
    "# Set up the matplotlib figure\n",
    "f, ax = plt.subplots(figsize=(11, 9))\n",
    "ax.set_title('Correlation heatmap')\n",
    "\n",
    "# Generate a custom diverging colormap\n",
    "cmap = sns.diverging_palette(230, 20, as_cmap=True)\n",
    "\n",
    "# Generate a mask for the upper triangle\n",
    "mask = np.triu(np.ones_like(correlation_matrix, dtype=bool))\n",
    "\n",
    "# create heatmap\n",
    "sns.heatmap(correlation_matrix, mask=mask,  cmap=cmap, vmin=-1, vmax=1, center=0)\n",
    "plt.show()"
   ]
  },
  {
   "cell_type": "markdown",
   "metadata": {},
   "source": [
    "## Modelling"
   ]
  },
  {
   "cell_type": "markdown",
   "metadata": {},
   "source": [
    "### Group Data by Country and Kingdom. Mean aggregate"
   ]
  },
  {
   "cell_type": "code",
   "execution_count": 40,
   "metadata": {
    "ExecuteTime": {
     "end_time": "2021-01-25T22:33:31.488948Z",
     "start_time": "2021-01-25T22:33:31.321585Z"
    }
   },
   "outputs": [
    {
     "data": {
      "text/plain": [
       "<AxesSubplot:>"
      ]
     },
     "execution_count": 40,
     "metadata": {},
     "output_type": "execute_result"
    },
    {
     "data": {
      "image/png": "[encoded data removed]",
      "text/plain": [
       "<Figure size 432x288 with 1 Axes>"
      ]
     },
     "metadata": {
      "needs_background": "light"
     },
     "output_type": "display_data"
    }
   ],
   "source": [
    "by_country_kingdom = full_data.groupby(['kingdom_class', 'Country']).mean()\n",
    "by_country_kingdom = by_country_kingdom.reset_index(drop=False)\n",
    "by_country_kingdom['trend_num'].hist()\n"
   ]
  },
  {
   "cell_type": "markdown",
   "metadata": {},
   "source": [
    "### Generate Country Labels (Integers) for LeaveGroupOutCV"
   ]
  },
  {
   "cell_type": "code",
   "execution_count": 112,
   "metadata": {
    "ExecuteTime": {
     "end_time": "2021-01-25T19:00:19.207899Z",
     "start_time": "2021-01-25T19:00:19.204958Z"
    }
   },
   "outputs": [],
   "source": [
    "country_encoder = LabelEncoder()\n",
    "country_encoder.fit(by_country_kingdom['Country'])\n",
    "country_labels = country_encoder.transform(by_country_kingdom['Country'])"
   ]
  },
  {
   "cell_type": "markdown",
   "metadata": {},
   "source": [
    "### One Hot Encode kingdom_class and Country"
   ]
  },
  {
   "cell_type": "code",
   "execution_count": 62,
   "metadata": {
    "ExecuteTime": {
     "end_time": "2021-01-25T18:28:23.849383Z",
     "start_time": "2021-01-25T18:28:23.845085Z"
    }
   },
   "outputs": [
    {
     "data": {
      "text/plain": [
       "array(['animalia — actinopterygii', 'animalia — amphibia',\n",
       "       'animalia — anthozoa', 'animalia — arachnida',\n",
       "       'animalia — asteroidea', 'animalia — aves', 'animalia — bivalvia',\n",
       "       'animalia — cephalaspidomorphi', 'animalia — cephalopoda',\n",
       "       'animalia — chondrichthyes', 'animalia — clitellata',\n",
       "       'animalia — gastropoda', 'animalia — holothuroidea',\n",
       "       'animalia — insecta', 'animalia — malacostraca',\n",
       "       'animalia — mammalia', 'animalia — merostomata',\n",
       "       'animalia — myxini', 'animalia — reptilia',\n",
       "       'animalia — sarcopterygii'], dtype=object)"
      ]
     },
     "execution_count": 62,
     "metadata": {},
     "output_type": "execute_result"
    }
   ],
   "source": [
    "by_country_kingdom['kingdom_class'].unique()\n"
   ]
  },
  {
   "cell_type": "code",
   "execution_count": 48,
   "metadata": {
    "ExecuteTime": {
     "end_time": "2021-01-25T17:07:09.417020Z",
     "start_time": "2021-01-25T17:07:09.408468Z"
    }
   },
   "outputs": [
    {
     "data": {
      "text/plain": [
       "OneHotEncoder(handle_unknown='ignore')"
      ]
     },
     "execution_count": 48,
     "metadata": {},
     "output_type": "execute_result"
    }
   ],
   "source": [
    "enc = OneHotEncoder(handle_unknown='ignore')\n",
    "enc.fit(by_country_kingdom[['kingdom_class', 'Country']])\n",
    "oht_features = enc.transform(by_country_kingdom[['kingdom_class', 'Country']])\n",
    "col_names = [\n",
    "    *by_country_kingdom['kingdom_class'].unique(),\n",
    "    *by_country_kingdom['Country'].unique()\n",
    "]\n",
    "oht_features = pd.DataFrame(oht_features.todense(), columns=col_names)"
   ]
  },
  {
   "cell_type": "code",
   "execution_count": 123,
   "metadata": {
    "ExecuteTime": {
     "end_time": "2021-01-25T19:08:46.572241Z",
     "start_time": "2021-01-25T19:08:46.417727Z"
    }
   },
   "outputs": [
    {
     "data": {
      "text/html": [
       "<div>\n",
       "<style scoped>\n",
       "    .dataframe tbody tr th:only-of-type {\n",
       "        vertical-align: middle;\n",
       "    }\n",
       "\n",
       "    .dataframe tbody tr th {\n",
       "        vertical-align: top;\n",
       "    }\n",
       "\n",
       "    .dataframe thead th {\n",
       "        text-align: right;\n",
       "    }\n",
       "</style>\n",
       "<table border=\"1\" class=\"dataframe\">\n",
       "  <thead>\n",
       "    <tr style=\"text-align: right;\">\n",
       "      <th></th>\n",
       "      <th>perc_area_protected_all_obj</th>\n",
       "      <th>perc_area_protected_obj_2</th>\n",
       "      <th>perc_area_protected_obj_3</th>\n",
       "      <th>perc_area_protected_obj_4</th>\n",
       "      <th>perc_area_protected_obj_1a</th>\n",
       "      <th>perc_area_protected_obj_1b</th>\n",
       "      <th>perc_area_protected_no_obj</th>\n",
       "      <th>perc_area_protected_obj_5</th>\n",
       "      <th>perc_area_protected_obj_6</th>\n",
       "      <th>Artificial surfaces</th>\n",
       "      <th>...</th>\n",
       "      <th>Mexico</th>\n",
       "      <th>Netherlands</th>\n",
       "      <th>Norway</th>\n",
       "      <th>Poland</th>\n",
       "      <th>Portugal</th>\n",
       "      <th>Russia</th>\n",
       "      <th>Slovenia</th>\n",
       "      <th>Spain</th>\n",
       "      <th>Sweden</th>\n",
       "      <th>Switzerland</th>\n",
       "    </tr>\n",
       "  </thead>\n",
       "  <tbody>\n",
       "    <tr>\n",
       "      <th>count</th>\n",
       "      <td>415.000000</td>\n",
       "      <td>415.000000</td>\n",
       "      <td>415.000000</td>\n",
       "      <td>415.000000</td>\n",
       "      <td>415.000000</td>\n",
       "      <td>415.000000</td>\n",
       "      <td>415.000000</td>\n",
       "      <td>415.000000</td>\n",
       "      <td>415.000000</td>\n",
       "      <td>415.000000</td>\n",
       "      <td>...</td>\n",
       "      <td>415.000000</td>\n",
       "      <td>415.000000</td>\n",
       "      <td>415.000000</td>\n",
       "      <td>415.000000</td>\n",
       "      <td>415.000000</td>\n",
       "      <td>415.000000</td>\n",
       "      <td>415.000000</td>\n",
       "      <td>415.000000</td>\n",
       "      <td>415.000000</td>\n",
       "      <td>415.000000</td>\n",
       "    </tr>\n",
       "    <tr>\n",
       "      <th>mean</th>\n",
       "      <td>21.535687</td>\n",
       "      <td>3.870361</td>\n",
       "      <td>0.062964</td>\n",
       "      <td>2.804217</td>\n",
       "      <td>0.491759</td>\n",
       "      <td>0.807422</td>\n",
       "      <td>7.314602</td>\n",
       "      <td>4.065880</td>\n",
       "      <td>1.820892</td>\n",
       "      <td>0.024846</td>\n",
       "      <td>...</td>\n",
       "      <td>0.036145</td>\n",
       "      <td>0.026506</td>\n",
       "      <td>0.026506</td>\n",
       "      <td>0.026506</td>\n",
       "      <td>0.028916</td>\n",
       "      <td>0.031325</td>\n",
       "      <td>0.028916</td>\n",
       "      <td>0.031325</td>\n",
       "      <td>0.026506</td>\n",
       "      <td>0.024096</td>\n",
       "    </tr>\n",
       "    <tr>\n",
       "      <th>std</th>\n",
       "      <td>10.567392</td>\n",
       "      <td>5.498231</td>\n",
       "      <td>0.119381</td>\n",
       "      <td>3.408525</td>\n",
       "      <td>0.717463</td>\n",
       "      <td>1.811209</td>\n",
       "      <td>8.942059</td>\n",
       "      <td>5.690775</td>\n",
       "      <td>3.062601</td>\n",
       "      <td>0.028060</td>\n",
       "      <td>...</td>\n",
       "      <td>0.186875</td>\n",
       "      <td>0.160828</td>\n",
       "      <td>0.160828</td>\n",
       "      <td>0.160828</td>\n",
       "      <td>0.167772</td>\n",
       "      <td>0.174406</td>\n",
       "      <td>0.167772</td>\n",
       "      <td>0.174406</td>\n",
       "      <td>0.160828</td>\n",
       "      <td>0.153534</td>\n",
       "    </tr>\n",
       "    <tr>\n",
       "      <th>min</th>\n",
       "      <td>5.640000</td>\n",
       "      <td>0.000000</td>\n",
       "      <td>0.000000</td>\n",
       "      <td>0.010000</td>\n",
       "      <td>0.000000</td>\n",
       "      <td>0.000000</td>\n",
       "      <td>0.000000</td>\n",
       "      <td>0.000000</td>\n",
       "      <td>0.000000</td>\n",
       "      <td>0.000000</td>\n",
       "      <td>...</td>\n",
       "      <td>0.000000</td>\n",
       "      <td>0.000000</td>\n",
       "      <td>0.000000</td>\n",
       "      <td>0.000000</td>\n",
       "      <td>0.000000</td>\n",
       "      <td>0.000000</td>\n",
       "      <td>0.000000</td>\n",
       "      <td>0.000000</td>\n",
       "      <td>0.000000</td>\n",
       "      <td>0.000000</td>\n",
       "    </tr>\n",
       "    <tr>\n",
       "      <th>25%</th>\n",
       "      <td>13.940000</td>\n",
       "      <td>0.650000</td>\n",
       "      <td>0.000000</td>\n",
       "      <td>0.360000</td>\n",
       "      <td>0.000000</td>\n",
       "      <td>0.000000</td>\n",
       "      <td>0.510000</td>\n",
       "      <td>0.040000</td>\n",
       "      <td>0.000000</td>\n",
       "      <td>0.003982</td>\n",
       "      <td>...</td>\n",
       "      <td>0.000000</td>\n",
       "      <td>0.000000</td>\n",
       "      <td>0.000000</td>\n",
       "      <td>0.000000</td>\n",
       "      <td>0.000000</td>\n",
       "      <td>0.000000</td>\n",
       "      <td>0.000000</td>\n",
       "      <td>0.000000</td>\n",
       "      <td>0.000000</td>\n",
       "      <td>0.000000</td>\n",
       "    </tr>\n",
       "    <tr>\n",
       "      <th>50%</th>\n",
       "      <td>19.200000</td>\n",
       "      <td>2.020000</td>\n",
       "      <td>0.020000</td>\n",
       "      <td>1.540000</td>\n",
       "      <td>0.070000</td>\n",
       "      <td>0.000000</td>\n",
       "      <td>3.470000</td>\n",
       "      <td>0.980000</td>\n",
       "      <td>0.140000</td>\n",
       "      <td>0.011949</td>\n",
       "      <td>...</td>\n",
       "      <td>0.000000</td>\n",
       "      <td>0.000000</td>\n",
       "      <td>0.000000</td>\n",
       "      <td>0.000000</td>\n",
       "      <td>0.000000</td>\n",
       "      <td>0.000000</td>\n",
       "      <td>0.000000</td>\n",
       "      <td>0.000000</td>\n",
       "      <td>0.000000</td>\n",
       "      <td>0.000000</td>\n",
       "    </tr>\n",
       "    <tr>\n",
       "      <th>75%</th>\n",
       "      <td>26.110000</td>\n",
       "      <td>4.870000</td>\n",
       "      <td>0.050000</td>\n",
       "      <td>3.630000</td>\n",
       "      <td>0.570000</td>\n",
       "      <td>0.365000</td>\n",
       "      <td>11.380000</td>\n",
       "      <td>7.210000</td>\n",
       "      <td>2.480000</td>\n",
       "      <td>0.040459</td>\n",
       "      <td>...</td>\n",
       "      <td>0.000000</td>\n",
       "      <td>0.000000</td>\n",
       "      <td>0.000000</td>\n",
       "      <td>0.000000</td>\n",
       "      <td>0.000000</td>\n",
       "      <td>0.000000</td>\n",
       "      <td>0.000000</td>\n",
       "      <td>0.000000</td>\n",
       "      <td>0.000000</td>\n",
       "      <td>0.000000</td>\n",
       "    </tr>\n",
       "    <tr>\n",
       "      <th>max</th>\n",
       "      <td>53.530000</td>\n",
       "      <td>32.610000</td>\n",
       "      <td>0.590000</td>\n",
       "      <td>14.740000</td>\n",
       "      <td>2.180000</td>\n",
       "      <td>7.530000</td>\n",
       "      <td>40.300000</td>\n",
       "      <td>25.240000</td>\n",
       "      <td>10.630000</td>\n",
       "      <td>0.113337</td>\n",
       "      <td>...</td>\n",
       "      <td>1.000000</td>\n",
       "      <td>1.000000</td>\n",
       "      <td>1.000000</td>\n",
       "      <td>1.000000</td>\n",
       "      <td>1.000000</td>\n",
       "      <td>1.000000</td>\n",
       "      <td>1.000000</td>\n",
       "      <td>1.000000</td>\n",
       "      <td>1.000000</td>\n",
       "      <td>1.000000</td>\n",
       "    </tr>\n",
       "  </tbody>\n",
       "</table>\n",
       "<p>8 rows × 84 columns</p>\n",
       "</div>"
      ],
      "text/plain": [
       "       perc_area_protected_all_obj  perc_area_protected_obj_2  \\\n",
       "count                   415.000000                 415.000000   \n",
       "mean                     21.535687                   3.870361   \n",
       "std                      10.567392                   5.498231   \n",
       "min                       5.640000                   0.000000   \n",
       "25%                      13.940000                   0.650000   \n",
       "50%                      19.200000                   2.020000   \n",
       "75%                      26.110000                   4.870000   \n",
       "max                      53.530000                  32.610000   \n",
       "\n",
       "       perc_area_protected_obj_3  perc_area_protected_obj_4  \\\n",
       "count                 415.000000                 415.000000   \n",
       "mean                    0.062964                   2.804217   \n",
       "std                     0.119381                   3.408525   \n",
       "min                     0.000000                   0.010000   \n",
       "25%                     0.000000                   0.360000   \n",
       "50%                     0.020000                   1.540000   \n",
       "75%                     0.050000                   3.630000   \n",
       "max                     0.590000                  14.740000   \n",
       "\n",
       "       perc_area_protected_obj_1a  perc_area_protected_obj_1b  \\\n",
       "count                  415.000000                  415.000000   \n",
       "mean                     0.491759                    0.807422   \n",
       "std                      0.717463                    1.811209   \n",
       "min                      0.000000                    0.000000   \n",
       "25%                      0.000000                    0.000000   \n",
       "50%                      0.070000                    0.000000   \n",
       "75%                      0.570000                    0.365000   \n",
       "max                      2.180000                    7.530000   \n",
       "\n",
       "       perc_area_protected_no_obj  perc_area_protected_obj_5  \\\n",
       "count                  415.000000                 415.000000   \n",
       "mean                     7.314602                   4.065880   \n",
       "std                      8.942059                   5.690775   \n",
       "min                      0.000000                   0.000000   \n",
       "25%                      0.510000                   0.040000   \n",
       "50%                      3.470000                   0.980000   \n",
       "75%                     11.380000                   7.210000   \n",
       "max                     40.300000                  25.240000   \n",
       "\n",
       "       perc_area_protected_obj_6  Artificial surfaces  ...      Mexico  \\\n",
       "count                 415.000000           415.000000  ...  415.000000   \n",
       "mean                    1.820892             0.024846  ...    0.036145   \n",
       "std                     3.062601             0.028060  ...    0.186875   \n",
       "min                     0.000000             0.000000  ...    0.000000   \n",
       "25%                     0.000000             0.003982  ...    0.000000   \n",
       "50%                     0.140000             0.011949  ...    0.000000   \n",
       "75%                     2.480000             0.040459  ...    0.000000   \n",
       "max                    10.630000             0.113337  ...    1.000000   \n",
       "\n",
       "       Netherlands      Norway      Poland    Portugal      Russia  \\\n",
       "count   415.000000  415.000000  415.000000  415.000000  415.000000   \n",
       "mean      0.026506    0.026506    0.026506    0.028916    0.031325   \n",
       "std       0.160828    0.160828    0.160828    0.167772    0.174406   \n",
       "min       0.000000    0.000000    0.000000    0.000000    0.000000   \n",
       "25%       0.000000    0.000000    0.000000    0.000000    0.000000   \n",
       "50%       0.000000    0.000000    0.000000    0.000000    0.000000   \n",
       "75%       0.000000    0.000000    0.000000    0.000000    0.000000   \n",
       "max       1.000000    1.000000    1.000000    1.000000    1.000000   \n",
       "\n",
       "         Slovenia       Spain      Sweden  Switzerland  \n",
       "count  415.000000  415.000000  415.000000   415.000000  \n",
       "mean     0.028916    0.031325    0.026506     0.024096  \n",
       "std      0.167772    0.174406    0.160828     0.153534  \n",
       "min      0.000000    0.000000    0.000000     0.000000  \n",
       "25%      0.000000    0.000000    0.000000     0.000000  \n",
       "50%      0.000000    0.000000    0.000000     0.000000  \n",
       "75%      0.000000    0.000000    0.000000     0.000000  \n",
       "max      1.000000    1.000000    1.000000     1.000000  \n",
       "\n",
       "[8 rows x 84 columns]"
      ]
     },
     "execution_count": 123,
     "metadata": {},
     "output_type": "execute_result"
    }
   ],
   "source": [
    "y = by_country_kingdom['trend_num']\n",
    "X = by_country_kingdom.drop(['kingdom_class', 'Country', 'trend_num'], axis=1)\n",
    "X = pd.concat([X, oht_features], axis=1)\n",
    "X.describe()"
   ]
  },
  {
   "cell_type": "markdown",
   "metadata": {},
   "source": [
    "### Train Models"
   ]
  },
  {
   "cell_type": "code",
   "execution_count": 176,
   "metadata": {
    "ExecuteTime": {
     "end_time": "2021-01-25T20:23:17.223049Z",
     "start_time": "2021-01-25T20:23:17.216476Z"
    }
   },
   "outputs": [],
   "source": [
    "# create pipeline for Model\n",
    "def train_model(X, y, model='svr'):\n",
    "    if model == 'svr':\n",
    "        instance = SVR()\n",
    "        params = {\n",
    "        'svr__C': [0.1, 0.4, 1, 5, 10], # todo: inform on parameter ranges\n",
    "        'svr__kernel': ['linear', 'poly', 'rbf', 'sigmoid']\n",
    "    }\n",
    "    elif model == 'knn':\n",
    "        instance = KNeighborsRegressor()\n",
    "        params = {\n",
    "            'knn__n_neighbors': [1, 2, 3 , 4 , 5],\n",
    "            'knn__weights': ['uniform', 'distance']\n",
    "    }\n",
    "    elif model == 'rf':\n",
    "        instance = RandomForestRegressor(max_features = 'sqrt', random_state=RANDOM_STATE)\n",
    "        params = {\n",
    "        'rf__n_estimators': [int(x) for x in np.linspace(start = 50, stop = 500, num = 10)]\n",
    "    }\n",
    "    \n",
    "    \n",
    "        \n",
    "    pipeline = Pipeline([\n",
    "         ('scaling', StandardScaler()), (model, instance)\n",
    "    ])\n",
    "\n",
    "    logo = LeavePGroupsOut(n_groups=2)\n",
    "\n",
    "    grid_search = GridSearchCV(pipeline,\n",
    "                                    cv=logo,\n",
    "                                   \n",
    "                                    param_grid=params,\n",
    "                                    scoring=['neg_root_mean_squared_error', 'neg_mean_absolute_error'],\n",
    "                                    refit='neg_root_mean_squared_error', verbose=2, n_jobs=-1)\n",
    "    \n",
    "    grid_search.fit(X, y, groups=country_labels)\n",
    "\n",
    "    return pd.DataFrame(grid_search.cv_results_)\n"
   ]
  },
  {
   "cell_type": "markdown",
   "metadata": {},
   "source": [
    "#### Support Vector Machine"
   ]
  },
  {
   "cell_type": "code",
   "execution_count": 177,
   "metadata": {
    "ExecuteTime": {
     "end_time": "2021-01-25T20:23:34.611809Z",
     "start_time": "2021-01-25T20:23:18.110213Z"
    }
   },
   "outputs": [
    {
     "name": "stdout",
     "output_type": "stream",
     "text": [
      "Fitting 36 folds for each of 20 candidates, totalling 720 fits\n"
     ]
    },
    {
     "name": "stderr",
     "output_type": "stream",
     "text": [
      "[Parallel(n_jobs=-1)]: Using backend LokyBackend with 12 concurrent workers.\n",
      "[Parallel(n_jobs=-1)]: Done  17 tasks      | elapsed:    1.6s\n",
      "[Parallel(n_jobs=-1)]: Done 360 tasks      | elapsed:    3.3s\n",
      "[Parallel(n_jobs=-1)]: Done 720 out of 720 | elapsed:   16.4s finished\n"
     ]
    }
   ],
   "source": [
    "svr_results = train_model(X, y, model='svr')"
   ]
  },
  {
   "cell_type": "markdown",
   "metadata": {},
   "source": [
    "#### K-NN"
   ]
  },
  {
   "cell_type": "code",
   "execution_count": 178,
   "metadata": {
    "ExecuteTime": {
     "end_time": "2021-01-25T20:23:35.883995Z",
     "start_time": "2021-01-25T20:23:34.613668Z"
    }
   },
   "outputs": [
    {
     "name": "stderr",
     "output_type": "stream",
     "text": [
      "[Parallel(n_jobs=-1)]: Using backend LokyBackend with 12 concurrent workers.\n"
     ]
    },
    {
     "name": "stdout",
     "output_type": "stream",
     "text": [
      "Fitting 36 folds for each of 10 candidates, totalling 360 fits\n"
     ]
    },
    {
     "name": "stderr",
     "output_type": "stream",
     "text": [
      "[Parallel(n_jobs=-1)]: Done  17 tasks      | elapsed:    0.2s\n",
      "[Parallel(n_jobs=-1)]: Done 360 out of 360 | elapsed:    1.3s finished\n"
     ]
    }
   ],
   "source": [
    "knn_results = train_model(X, y, model='knn')"
   ]
  },
  {
   "cell_type": "markdown",
   "metadata": {},
   "source": [
    "#### Random Forest"
   ]
  },
  {
   "cell_type": "code",
   "execution_count": 179,
   "metadata": {
    "ExecuteTime": {
     "end_time": "2021-01-25T20:24:08.295655Z",
     "start_time": "2021-01-25T20:23:35.887036Z"
    }
   },
   "outputs": [
    {
     "name": "stderr",
     "output_type": "stream",
     "text": [
      "[Parallel(n_jobs=-1)]: Using backend LokyBackend with 12 concurrent workers.\n"
     ]
    },
    {
     "name": "stdout",
     "output_type": "stream",
     "text": [
      "Fitting 36 folds for each of 10 candidates, totalling 360 fits\n"
     ]
    },
    {
     "name": "stderr",
     "output_type": "stream",
     "text": [
      "[Parallel(n_jobs=-1)]: Done  17 tasks      | elapsed:    0.5s\n",
      "[Parallel(n_jobs=-1)]: Done 138 tasks      | elapsed:    5.4s\n",
      "[Parallel(n_jobs=-1)]: Done 360 out of 360 | elapsed:   31.5s finished\n"
     ]
    }
   ],
   "source": [
    "rf_results = train_model(X, y, model='rf')"
   ]
  },
  {
   "cell_type": "markdown",
   "metadata": {},
   "source": [
    "### Show best scores and params"
   ]
  },
  {
   "cell_type": "code",
   "execution_count": 156,
   "metadata": {
    "ExecuteTime": {
     "end_time": "2021-01-25T20:13:18.817343Z",
     "start_time": "2021-01-25T20:13:18.811159Z"
    }
   },
   "outputs": [],
   "source": [
    "def extract_from_cv_results(cv_results, row_name=None):\n",
    "    cv_results = pd.DataFrame(cv_results)\n",
    "    best_scores = {}\n",
    "    best_params = {}\n",
    "\n",
    "    scores = [col.replace('mean_test_', '') for col in cv_results.columns if col.startswith('mean_test_')]\n",
    "    params = [col for col in cv_results.columns if col.startswith('param_')]\n",
    "\n",
    "    for score in scores:\n",
    "        best_params[score] = {}\n",
    "        # rank is 1 for multiple models if score is equal\n",
    "        best_model_by_score = cv_results[cv_results[f'rank_test_{score}'] == 1].iloc[0]\n",
    "        best_scores[f'mean_{score}'] = best_model_by_score[f'mean_test_{score}']\n",
    "        best_scores[f'std_{score}'] = best_model_by_score[f'std_test_{score}']\n",
    "        for param in params:\n",
    "            p = param.split('__')[-1]\n",
    "            best_params[score][p] = best_model_by_score[param]\n",
    "    \n",
    "    best_params = pd.DataFrame(best_params)\n",
    "    if row_name is None:\n",
    "        best_scores = pd.DataFrame(best_scores, index=['value'])\n",
    "    else:\n",
    "        best_scores = pd.DataFrame(best_scores, index=[row_name])\n",
    "        best_params['target'] = row_name\n",
    "        best_params = best_params.reset_index().set_index(['target', 'index'])\n",
    "    return best_scores, best_params"
   ]
  },
  {
   "cell_type": "markdown",
   "metadata": {},
   "source": [
    "#### Support Vector Machine"
   ]
  },
  {
   "cell_type": "code",
   "execution_count": 180,
   "metadata": {
    "ExecuteTime": {
     "end_time": "2021-01-25T20:24:08.312439Z",
     "start_time": "2021-01-25T20:24:08.297611Z"
    }
   },
   "outputs": [
    {
     "data": {
      "text/html": [
       "<div>\n",
       "<style scoped>\n",
       "    .dataframe tbody tr th:only-of-type {\n",
       "        vertical-align: middle;\n",
       "    }\n",
       "\n",
       "    .dataframe tbody tr th {\n",
       "        vertical-align: top;\n",
       "    }\n",
       "\n",
       "    .dataframe thead th {\n",
       "        text-align: right;\n",
       "    }\n",
       "</style>\n",
       "<table border=\"1\" class=\"dataframe\">\n",
       "  <thead>\n",
       "    <tr style=\"text-align: right;\">\n",
       "      <th></th>\n",
       "      <th>mean_neg_root_mean_squared_error</th>\n",
       "      <th>std_neg_root_mean_squared_error</th>\n",
       "      <th>mean_neg_mean_absolute_error</th>\n",
       "      <th>std_neg_mean_absolute_error</th>\n",
       "    </tr>\n",
       "  </thead>\n",
       "  <tbody>\n",
       "    <tr>\n",
       "      <th>value</th>\n",
       "      <td>-0.242368</td>\n",
       "      <td>0.078809</td>\n",
       "      <td>-0.180983</td>\n",
       "      <td>0.056009</td>\n",
       "    </tr>\n",
       "  </tbody>\n",
       "</table>\n",
       "</div>"
      ],
      "text/plain": [
       "       mean_neg_root_mean_squared_error  std_neg_root_mean_squared_error  \\\n",
       "value                         -0.242368                         0.078809   \n",
       "\n",
       "       mean_neg_mean_absolute_error  std_neg_mean_absolute_error  \n",
       "value                     -0.180983                     0.056009  "
      ]
     },
     "metadata": {},
     "output_type": "display_data"
    },
    {
     "data": {
      "text/html": [
       "<div>\n",
       "<style scoped>\n",
       "    .dataframe tbody tr th:only-of-type {\n",
       "        vertical-align: middle;\n",
       "    }\n",
       "\n",
       "    .dataframe tbody tr th {\n",
       "        vertical-align: top;\n",
       "    }\n",
       "\n",
       "    .dataframe thead th {\n",
       "        text-align: right;\n",
       "    }\n",
       "</style>\n",
       "<table border=\"1\" class=\"dataframe\">\n",
       "  <thead>\n",
       "    <tr style=\"text-align: right;\">\n",
       "      <th></th>\n",
       "      <th>neg_root_mean_squared_error</th>\n",
       "      <th>neg_mean_absolute_error</th>\n",
       "    </tr>\n",
       "  </thead>\n",
       "  <tbody>\n",
       "    <tr>\n",
       "      <th>C</th>\n",
       "      <td>0.4</td>\n",
       "      <td>0.4</td>\n",
       "    </tr>\n",
       "    <tr>\n",
       "      <th>kernel</th>\n",
       "      <td>linear</td>\n",
       "      <td>linear</td>\n",
       "    </tr>\n",
       "  </tbody>\n",
       "</table>\n",
       "</div>"
      ],
      "text/plain": [
       "       neg_root_mean_squared_error neg_mean_absolute_error\n",
       "C                              0.4                     0.4\n",
       "kernel                      linear                  linear"
      ]
     },
     "metadata": {},
     "output_type": "display_data"
    }
   ],
   "source": [
    "svr_best_scores, svr_best_params = extract_from_cv_results(svr_results)\n",
    "display(svr_best_scores)\n",
    "display(svr_best_params)"
   ]
  },
  {
   "cell_type": "markdown",
   "metadata": {},
   "source": [
    "#### K-NN"
   ]
  },
  {
   "cell_type": "code",
   "execution_count": 181,
   "metadata": {
    "ExecuteTime": {
     "end_time": "2021-01-25T20:24:08.328090Z",
     "start_time": "2021-01-25T20:24:08.314428Z"
    }
   },
   "outputs": [
    {
     "data": {
      "text/html": [
       "<div>\n",
       "<style scoped>\n",
       "    .dataframe tbody tr th:only-of-type {\n",
       "        vertical-align: middle;\n",
       "    }\n",
       "\n",
       "    .dataframe tbody tr th {\n",
       "        vertical-align: top;\n",
       "    }\n",
       "\n",
       "    .dataframe thead th {\n",
       "        text-align: right;\n",
       "    }\n",
       "</style>\n",
       "<table border=\"1\" class=\"dataframe\">\n",
       "  <thead>\n",
       "    <tr style=\"text-align: right;\">\n",
       "      <th></th>\n",
       "      <th>mean_neg_root_mean_squared_error</th>\n",
       "      <th>std_neg_root_mean_squared_error</th>\n",
       "      <th>mean_neg_mean_absolute_error</th>\n",
       "      <th>std_neg_mean_absolute_error</th>\n",
       "    </tr>\n",
       "  </thead>\n",
       "  <tbody>\n",
       "    <tr>\n",
       "      <th>value</th>\n",
       "      <td>-0.233929</td>\n",
       "      <td>0.082256</td>\n",
       "      <td>-0.168121</td>\n",
       "      <td>0.088149</td>\n",
       "    </tr>\n",
       "  </tbody>\n",
       "</table>\n",
       "</div>"
      ],
      "text/plain": [
       "       mean_neg_root_mean_squared_error  std_neg_root_mean_squared_error  \\\n",
       "value                         -0.233929                         0.082256   \n",
       "\n",
       "       mean_neg_mean_absolute_error  std_neg_mean_absolute_error  \n",
       "value                     -0.168121                     0.088149  "
      ]
     },
     "metadata": {},
     "output_type": "display_data"
    },
    {
     "data": {
      "text/html": [
       "<div>\n",
       "<style scoped>\n",
       "    .dataframe tbody tr th:only-of-type {\n",
       "        vertical-align: middle;\n",
       "    }\n",
       "\n",
       "    .dataframe tbody tr th {\n",
       "        vertical-align: top;\n",
       "    }\n",
       "\n",
       "    .dataframe thead th {\n",
       "        text-align: right;\n",
       "    }\n",
       "</style>\n",
       "<table border=\"1\" class=\"dataframe\">\n",
       "  <thead>\n",
       "    <tr style=\"text-align: right;\">\n",
       "      <th></th>\n",
       "      <th>neg_root_mean_squared_error</th>\n",
       "      <th>neg_mean_absolute_error</th>\n",
       "    </tr>\n",
       "  </thead>\n",
       "  <tbody>\n",
       "    <tr>\n",
       "      <th>n_neighbors</th>\n",
       "      <td>3</td>\n",
       "      <td>1</td>\n",
       "    </tr>\n",
       "    <tr>\n",
       "      <th>weights</th>\n",
       "      <td>distance</td>\n",
       "      <td>uniform</td>\n",
       "    </tr>\n",
       "  </tbody>\n",
       "</table>\n",
       "</div>"
      ],
      "text/plain": [
       "            neg_root_mean_squared_error neg_mean_absolute_error\n",
       "n_neighbors                           3                       1\n",
       "weights                        distance                 uniform"
      ]
     },
     "metadata": {},
     "output_type": "display_data"
    }
   ],
   "source": [
    "knn_best_scores, knn_best_params = extract_from_cv_results(knn_results)\n",
    "display(knn_best_scores)\n",
    "display(knn_best_params)"
   ]
  },
  {
   "cell_type": "markdown",
   "metadata": {},
   "source": [
    "#### Random Forest"
   ]
  },
  {
   "cell_type": "code",
   "execution_count": 185,
   "metadata": {
    "ExecuteTime": {
     "end_time": "2021-01-25T20:24:51.986569Z",
     "start_time": "2021-01-25T20:24:51.973120Z"
    }
   },
   "outputs": [
    {
     "data": {
      "text/html": [
       "<div>\n",
       "<style scoped>\n",
       "    .dataframe tbody tr th:only-of-type {\n",
       "        vertical-align: middle;\n",
       "    }\n",
       "\n",
       "    .dataframe tbody tr th {\n",
       "        vertical-align: top;\n",
       "    }\n",
       "\n",
       "    .dataframe thead th {\n",
       "        text-align: right;\n",
       "    }\n",
       "</style>\n",
       "<table border=\"1\" class=\"dataframe\">\n",
       "  <thead>\n",
       "    <tr style=\"text-align: right;\">\n",
       "      <th></th>\n",
       "      <th>mean_neg_root_mean_squared_error</th>\n",
       "      <th>std_neg_root_mean_squared_error</th>\n",
       "      <th>mean_neg_mean_absolute_error</th>\n",
       "      <th>std_neg_mean_absolute_error</th>\n",
       "    </tr>\n",
       "  </thead>\n",
       "  <tbody>\n",
       "    <tr>\n",
       "      <th>value</th>\n",
       "      <td>-0.242953</td>\n",
       "      <td>0.07361</td>\n",
       "      <td>-0.19083</td>\n",
       "      <td>0.058987</td>\n",
       "    </tr>\n",
       "  </tbody>\n",
       "</table>\n",
       "</div>"
      ],
      "text/plain": [
       "       mean_neg_root_mean_squared_error  std_neg_root_mean_squared_error  \\\n",
       "value                         -0.242953                          0.07361   \n",
       "\n",
       "       mean_neg_mean_absolute_error  std_neg_mean_absolute_error  \n",
       "value                      -0.19083                     0.058987  "
      ]
     },
     "metadata": {},
     "output_type": "display_data"
    },
    {
     "data": {
      "text/html": [
       "<div>\n",
       "<style scoped>\n",
       "    .dataframe tbody tr th:only-of-type {\n",
       "        vertical-align: middle;\n",
       "    }\n",
       "\n",
       "    .dataframe tbody tr th {\n",
       "        vertical-align: top;\n",
       "    }\n",
       "\n",
       "    .dataframe thead th {\n",
       "        text-align: right;\n",
       "    }\n",
       "</style>\n",
       "<table border=\"1\" class=\"dataframe\">\n",
       "  <thead>\n",
       "    <tr style=\"text-align: right;\">\n",
       "      <th></th>\n",
       "      <th>neg_root_mean_squared_error</th>\n",
       "      <th>neg_mean_absolute_error</th>\n",
       "    </tr>\n",
       "  </thead>\n",
       "  <tbody>\n",
       "    <tr>\n",
       "      <th>n_estimators</th>\n",
       "      <td>500</td>\n",
       "      <td>500</td>\n",
       "    </tr>\n",
       "  </tbody>\n",
       "</table>\n",
       "</div>"
      ],
      "text/plain": [
       "              neg_root_mean_squared_error  neg_mean_absolute_error\n",
       "n_estimators                          500                      500"
      ]
     },
     "metadata": {},
     "output_type": "display_data"
    }
   ],
   "source": [
    "rf_best_scores, rf_best_params = extract_from_cv_results(rf_results)\n",
    "display(rf_best_scores)\n",
    "display(rf_best_params)"
   ]
  },
  {
   "cell_type": "markdown",
   "metadata": {},
   "source": [
    "### Comparision of classifiers"
   ]
  },
  {
   "cell_type": "code",
   "execution_count": 264,
   "metadata": {
    "ExecuteTime": {
     "end_time": "2021-01-25T22:28:37.141514Z",
     "start_time": "2021-01-25T22:28:37.135172Z"
    }
   },
   "outputs": [],
   "source": [
    "def boxplot_results(cv_result_list):\n",
    "    score = 'neg_root_mean_squared_error'\n",
    "    fig, axs = plt.subplots(3, figsize=(10, 5))\n",
    "    fig.suptitle('RMSE Scores Leave2GroupsOut CV (group=Country)')\n",
    "    max_x = 0\n",
    "    for i, cv_res in enumerate(cv_result_list):\n",
    "        results = cv_res\n",
    "        best_results = results[results[f'rank_test_{score}'] == 1].iloc[0]\n",
    "        cv_scores = [best_results[f'split{i}_test_{score}'] for i in range(by_country_kingdom['Country'].nunique())]\n",
    "        cv_scores = [-val for val in cv_scores]\n",
    "        temp_max = np.max(cv_scores)\n",
    "        if temp_max > max_x:\n",
    "            max_x = temp_max\n",
    "        sns.boxplot(data=cv_scores, orient='h', ax=axs[i])\n",
    "    axs[0].set_title('Support Vector Machine')\n",
    "    axs[1].set_title('K-NN')\n",
    "    axs[2].set_title('Random Forest')\n",
    "    \n",
    "    axs[0].set_xlim([0.05,max_x + 0.05])\n",
    "    axs[1].set_xlim([0.05,max_x + 0.05])\n",
    "    axs[2].set_xlim([0.05,max_x + 0.05])\n",
    "    \n",
    "    \n",
    "    \n",
    "    plt.tight_layout()\n",
    "    plt.show()"
   ]
  },
  {
   "cell_type": "code",
   "execution_count": 265,
   "metadata": {
    "ExecuteTime": {
     "end_time": "2021-01-25T22:28:38.791916Z",
     "start_time": "2021-01-25T22:28:38.533683Z"
    }
   },
   "outputs": [
    {
     "data": {
      "image/png": "[encoded data removed]",
      "text/plain": [
       "<Figure size 720x360 with 3 Axes>"
      ]
     },
     "metadata": {
      "needs_background": "light"
     },
     "output_type": "display_data"
    }
   ],
   "source": [
    "boxplot_results([svr_results, knn_results, rf_results])"
   ]
  },
  {
   "cell_type": "markdown",
   "metadata": {
    "heading_collapsed": true
   },
   "source": [
    "# Relative Threatened Species"
   ]
  },
  {
   "cell_type": "markdown",
   "metadata": {
    "hidden": true
   },
   "source": [
    "## Check correlation of our features and target values for the relative threatened species by country and group "
   ]
  },
  {
   "cell_type": "markdown",
   "metadata": {
    "hidden": true
   },
   "source": [
    "For our correlation analysis, we exclude our non continuous variables (the binary value whether a taxonomic group has records for that specific country)"
   ]
  },
  {
   "cell_type": "code",
   "execution_count": 51,
   "metadata": {
    "ExecuteTime": {
     "end_time": "2021-01-25T17:07:09.504868Z",
     "start_time": "2021-01-25T17:07:09.502006Z"
    },
    "hidden": true
   },
   "outputs": [],
   "source": [
    "full_threatened_corr = full_threatened.copy()\n",
    "full_threatened_corr = full_threatened.drop(columns=['mammals_resident', 'insects_resident', \"amphibians_resident\", \"birds_resident\", \"reptiles_resident\"])"
   ]
  },
  {
   "cell_type": "code",
   "execution_count": 52,
   "metadata": {
    "ExecuteTime": {
     "end_time": "2021-01-25T17:07:09.538388Z",
     "start_time": "2021-01-25T17:07:09.506501Z"
    },
    "hidden": true,
    "scrolled": true
   },
   "outputs": [
    {
     "data": {
      "text/html": [
       "<div>\n",
       "<style scoped>\n",
       "    .dataframe tbody tr th:only-of-type {\n",
       "        vertical-align: middle;\n",
       "    }\n",
       "\n",
       "    .dataframe tbody tr th {\n",
       "        vertical-align: top;\n",
       "    }\n",
       "\n",
       "    .dataframe thead th {\n",
       "        text-align: right;\n",
       "    }\n",
       "</style>\n",
       "<table border=\"1\" class=\"dataframe\">\n",
       "  <thead>\n",
       "    <tr style=\"text-align: right;\">\n",
       "      <th></th>\n",
       "      <th>total_threatened</th>\n",
       "      <th>mammals_threatened</th>\n",
       "      <th>insects_threatened</th>\n",
       "      <th>amphibians_threatened</th>\n",
       "      <th>birds_threatened</th>\n",
       "      <th>reptiles_threatened</th>\n",
       "      <th>perc_area_protected_all_obj</th>\n",
       "      <th>perc_area_protected_obj_2</th>\n",
       "      <th>perc_area_protected_obj_3</th>\n",
       "      <th>perc_area_protected_obj_4</th>\n",
       "      <th>...</th>\n",
       "      <th>temp_slope</th>\n",
       "      <th>gain_percentage</th>\n",
       "      <th>temp_difference</th>\n",
       "      <th>CH4</th>\n",
       "      <th>CO2</th>\n",
       "      <th>HFC</th>\n",
       "      <th>N2O</th>\n",
       "      <th>NF3</th>\n",
       "      <th>PFC</th>\n",
       "      <th>SF6</th>\n",
       "    </tr>\n",
       "  </thead>\n",
       "  <tbody>\n",
       "    <tr>\n",
       "      <th>total_threatened</th>\n",
       "      <td>1.000000</td>\n",
       "      <td>0.743809</td>\n",
       "      <td>0.650051</td>\n",
       "      <td>0.780868</td>\n",
       "      <td>0.688018</td>\n",
       "      <td>0.487928</td>\n",
       "      <td>-0.190702</td>\n",
       "      <td>-0.083430</td>\n",
       "      <td>0.158631</td>\n",
       "      <td>-0.133931</td>\n",
       "      <td>...</td>\n",
       "      <td>-0.304042</td>\n",
       "      <td>-0.242096</td>\n",
       "      <td>-0.018998</td>\n",
       "      <td>-0.049575</td>\n",
       "      <td>-0.318721</td>\n",
       "      <td>0.006884</td>\n",
       "      <td>-0.477619</td>\n",
       "      <td>-0.083185</td>\n",
       "      <td>0.138525</td>\n",
       "      <td>-0.115493</td>\n",
       "    </tr>\n",
       "    <tr>\n",
       "      <th>mammals_threatened</th>\n",
       "      <td>0.743809</td>\n",
       "      <td>1.000000</td>\n",
       "      <td>0.183281</td>\n",
       "      <td>0.483242</td>\n",
       "      <td>0.783615</td>\n",
       "      <td>0.396207</td>\n",
       "      <td>-0.242621</td>\n",
       "      <td>-0.008793</td>\n",
       "      <td>0.234621</td>\n",
       "      <td>-0.189815</td>\n",
       "      <td>...</td>\n",
       "      <td>-0.314469</td>\n",
       "      <td>-0.207480</td>\n",
       "      <td>-0.137928</td>\n",
       "      <td>0.131589</td>\n",
       "      <td>-0.181242</td>\n",
       "      <td>-0.229674</td>\n",
       "      <td>-0.330833</td>\n",
       "      <td>-0.181694</td>\n",
       "      <td>0.091623</td>\n",
       "      <td>-0.399398</td>\n",
       "    </tr>\n",
       "    <tr>\n",
       "      <th>insects_threatened</th>\n",
       "      <td>0.650051</td>\n",
       "      <td>0.183281</td>\n",
       "      <td>1.000000</td>\n",
       "      <td>0.314565</td>\n",
       "      <td>0.192471</td>\n",
       "      <td>0.182543</td>\n",
       "      <td>0.063769</td>\n",
       "      <td>-0.274201</td>\n",
       "      <td>0.182625</td>\n",
       "      <td>-0.033785</td>\n",
       "      <td>...</td>\n",
       "      <td>0.033120</td>\n",
       "      <td>-0.090725</td>\n",
       "      <td>0.214659</td>\n",
       "      <td>-0.085329</td>\n",
       "      <td>-0.142365</td>\n",
       "      <td>0.166304</td>\n",
       "      <td>-0.392401</td>\n",
       "      <td>0.053978</td>\n",
       "      <td>0.206650</td>\n",
       "      <td>0.040041</td>\n",
       "    </tr>\n",
       "    <tr>\n",
       "      <th>amphibians_threatened</th>\n",
       "      <td>0.780868</td>\n",
       "      <td>0.483242</td>\n",
       "      <td>0.314565</td>\n",
       "      <td>1.000000</td>\n",
       "      <td>0.456921</td>\n",
       "      <td>0.420404</td>\n",
       "      <td>-0.138516</td>\n",
       "      <td>0.085890</td>\n",
       "      <td>0.069787</td>\n",
       "      <td>-0.055111</td>\n",
       "      <td>...</td>\n",
       "      <td>-0.471431</td>\n",
       "      <td>-0.234124</td>\n",
       "      <td>-0.151020</td>\n",
       "      <td>-0.104334</td>\n",
       "      <td>-0.345070</td>\n",
       "      <td>0.050534</td>\n",
       "      <td>-0.436389</td>\n",
       "      <td>-0.209035</td>\n",
       "      <td>0.014653</td>\n",
       "      <td>0.084288</td>\n",
       "    </tr>\n",
       "    <tr>\n",
       "      <th>birds_threatened</th>\n",
       "      <td>0.688018</td>\n",
       "      <td>0.783615</td>\n",
       "      <td>0.192471</td>\n",
       "      <td>0.456921</td>\n",
       "      <td>1.000000</td>\n",
       "      <td>0.420726</td>\n",
       "      <td>-0.353233</td>\n",
       "      <td>-0.067479</td>\n",
       "      <td>0.102690</td>\n",
       "      <td>-0.187105</td>\n",
       "      <td>...</td>\n",
       "      <td>-0.270901</td>\n",
       "      <td>-0.331767</td>\n",
       "      <td>-0.220272</td>\n",
       "      <td>0.142518</td>\n",
       "      <td>-0.195325</td>\n",
       "      <td>-0.360639</td>\n",
       "      <td>-0.199088</td>\n",
       "      <td>-0.020152</td>\n",
       "      <td>-0.063348</td>\n",
       "      <td>-0.507985</td>\n",
       "    </tr>\n",
       "    <tr>\n",
       "      <th>reptiles_threatened</th>\n",
       "      <td>0.487928</td>\n",
       "      <td>0.396207</td>\n",
       "      <td>0.182543</td>\n",
       "      <td>0.420404</td>\n",
       "      <td>0.420726</td>\n",
       "      <td>1.000000</td>\n",
       "      <td>-0.138408</td>\n",
       "      <td>-0.172750</td>\n",
       "      <td>0.093315</td>\n",
       "      <td>0.013010</td>\n",
       "      <td>...</td>\n",
       "      <td>-0.348568</td>\n",
       "      <td>-0.383717</td>\n",
       "      <td>-0.062601</td>\n",
       "      <td>0.199637</td>\n",
       "      <td>-0.071803</td>\n",
       "      <td>0.138146</td>\n",
       "      <td>0.008032</td>\n",
       "      <td>0.216389</td>\n",
       "      <td>0.228273</td>\n",
       "      <td>0.040442</td>\n",
       "    </tr>\n",
       "    <tr>\n",
       "      <th>perc_area_protected_all_obj</th>\n",
       "      <td>-0.190702</td>\n",
       "      <td>-0.242621</td>\n",
       "      <td>0.063769</td>\n",
       "      <td>-0.138516</td>\n",
       "      <td>-0.353233</td>\n",
       "      <td>-0.138408</td>\n",
       "      <td>1.000000</td>\n",
       "      <td>0.342751</td>\n",
       "      <td>0.437965</td>\n",
       "      <td>0.304553</td>\n",
       "      <td>...</td>\n",
       "      <td>0.241882</td>\n",
       "      <td>0.239970</td>\n",
       "      <td>0.451564</td>\n",
       "      <td>-0.175326</td>\n",
       "      <td>0.199779</td>\n",
       "      <td>0.041876</td>\n",
       "      <td>-0.217727</td>\n",
       "      <td>-0.120748</td>\n",
       "      <td>-0.144137</td>\n",
       "      <td>0.031387</td>\n",
       "    </tr>\n",
       "    <tr>\n",
       "      <th>perc_area_protected_obj_2</th>\n",
       "      <td>-0.083430</td>\n",
       "      <td>-0.008793</td>\n",
       "      <td>-0.274201</td>\n",
       "      <td>0.085890</td>\n",
       "      <td>-0.067479</td>\n",
       "      <td>-0.172750</td>\n",
       "      <td>0.342751</td>\n",
       "      <td>1.000000</td>\n",
       "      <td>-0.035364</td>\n",
       "      <td>0.341617</td>\n",
       "      <td>...</td>\n",
       "      <td>-0.160454</td>\n",
       "      <td>0.079518</td>\n",
       "      <td>-0.055133</td>\n",
       "      <td>-0.003942</td>\n",
       "      <td>0.237847</td>\n",
       "      <td>-0.068479</td>\n",
       "      <td>-0.049670</td>\n",
       "      <td>-0.252865</td>\n",
       "      <td>-0.445276</td>\n",
       "      <td>-0.028860</td>\n",
       "    </tr>\n",
       "    <tr>\n",
       "      <th>perc_area_protected_obj_3</th>\n",
       "      <td>0.158631</td>\n",
       "      <td>0.234621</td>\n",
       "      <td>0.182625</td>\n",
       "      <td>0.069787</td>\n",
       "      <td>0.102690</td>\n",
       "      <td>0.093315</td>\n",
       "      <td>0.437965</td>\n",
       "      <td>-0.035364</td>\n",
       "      <td>1.000000</td>\n",
       "      <td>-0.147122</td>\n",
       "      <td>...</td>\n",
       "      <td>0.093957</td>\n",
       "      <td>0.005061</td>\n",
       "      <td>0.211492</td>\n",
       "      <td>0.178681</td>\n",
       "      <td>0.061374</td>\n",
       "      <td>-0.008055</td>\n",
       "      <td>-0.099817</td>\n",
       "      <td>-0.248710</td>\n",
       "      <td>0.065248</td>\n",
       "      <td>-0.122293</td>\n",
       "    </tr>\n",
       "    <tr>\n",
       "      <th>perc_area_protected_obj_4</th>\n",
       "      <td>-0.133931</td>\n",
       "      <td>-0.189815</td>\n",
       "      <td>-0.033785</td>\n",
       "      <td>-0.055111</td>\n",
       "      <td>-0.187105</td>\n",
       "      <td>0.013010</td>\n",
       "      <td>0.304553</td>\n",
       "      <td>0.341617</td>\n",
       "      <td>-0.147122</td>\n",
       "      <td>1.000000</td>\n",
       "      <td>...</td>\n",
       "      <td>0.261813</td>\n",
       "      <td>0.023241</td>\n",
       "      <td>0.287294</td>\n",
       "      <td>-0.246204</td>\n",
       "      <td>0.278410</td>\n",
       "      <td>0.249179</td>\n",
       "      <td>-0.311729</td>\n",
       "      <td>0.066048</td>\n",
       "      <td>-0.088547</td>\n",
       "      <td>0.178582</td>\n",
       "    </tr>\n",
       "    <tr>\n",
       "      <th>perc_area_protected_obj_1a</th>\n",
       "      <td>0.153258</td>\n",
       "      <td>0.275885</td>\n",
       "      <td>0.048049</td>\n",
       "      <td>0.056411</td>\n",
       "      <td>0.421984</td>\n",
       "      <td>-0.170222</td>\n",
       "      <td>-0.270099</td>\n",
       "      <td>0.063397</td>\n",
       "      <td>0.076860</td>\n",
       "      <td>-0.315319</td>\n",
       "      <td>...</td>\n",
       "      <td>-0.155026</td>\n",
       "      <td>-0.029378</td>\n",
       "      <td>-0.308639</td>\n",
       "      <td>0.311201</td>\n",
       "      <td>-0.088792</td>\n",
       "      <td>-0.450892</td>\n",
       "      <td>0.010026</td>\n",
       "      <td>-0.183743</td>\n",
       "      <td>-0.315735</td>\n",
       "      <td>-0.498784</td>\n",
       "    </tr>\n",
       "    <tr>\n",
       "      <th>perc_area_protected_obj_1b</th>\n",
       "      <td>-0.303935</td>\n",
       "      <td>-0.278684</td>\n",
       "      <td>-0.204087</td>\n",
       "      <td>-0.249485</td>\n",
       "      <td>-0.162613</td>\n",
       "      <td>-0.226246</td>\n",
       "      <td>-0.109045</td>\n",
       "      <td>0.144976</td>\n",
       "      <td>-0.097715</td>\n",
       "      <td>-0.016646</td>\n",
       "      <td>...</td>\n",
       "      <td>0.194946</td>\n",
       "      <td>0.270173</td>\n",
       "      <td>-0.120579</td>\n",
       "      <td>-0.056308</td>\n",
       "      <td>0.327811</td>\n",
       "      <td>0.110123</td>\n",
       "      <td>0.180279</td>\n",
       "      <td>-0.117689</td>\n",
       "      <td>0.098447</td>\n",
       "      <td>0.104810</td>\n",
       "    </tr>\n",
       "    <tr>\n",
       "      <th>perc_area_protected_no_obj</th>\n",
       "      <td>-0.049815</td>\n",
       "      <td>-0.112947</td>\n",
       "      <td>0.220617</td>\n",
       "      <td>-0.133317</td>\n",
       "      <td>-0.251556</td>\n",
       "      <td>0.113133</td>\n",
       "      <td>0.623451</td>\n",
       "      <td>-0.297550</td>\n",
       "      <td>0.575890</td>\n",
       "      <td>-0.119119</td>\n",
       "      <td>...</td>\n",
       "      <td>0.314547</td>\n",
       "      <td>0.166415</td>\n",
       "      <td>0.512871</td>\n",
       "      <td>-0.086042</td>\n",
       "      <td>-0.082928</td>\n",
       "      <td>0.013579</td>\n",
       "      <td>-0.096691</td>\n",
       "      <td>-0.132804</td>\n",
       "      <td>0.230877</td>\n",
       "      <td>0.003607</td>\n",
       "    </tr>\n",
       "    <tr>\n",
       "      <th>perc_area_protected_obj_5</th>\n",
       "      <td>-0.148558</td>\n",
       "      <td>-0.181586</td>\n",
       "      <td>0.116599</td>\n",
       "      <td>-0.255866</td>\n",
       "      <td>-0.173002</td>\n",
       "      <td>-0.125528</td>\n",
       "      <td>0.431824</td>\n",
       "      <td>-0.238586</td>\n",
       "      <td>0.000976</td>\n",
       "      <td>-0.083504</td>\n",
       "      <td>...</td>\n",
       "      <td>0.100167</td>\n",
       "      <td>0.179241</td>\n",
       "      <td>0.193640</td>\n",
       "      <td>-0.269094</td>\n",
       "      <td>0.015081</td>\n",
       "      <td>0.055060</td>\n",
       "      <td>-0.083105</td>\n",
       "      <td>0.424400</td>\n",
       "      <td>0.087713</td>\n",
       "      <td>0.098653</td>\n",
       "    </tr>\n",
       "    <tr>\n",
       "      <th>perc_area_protected_obj_6</th>\n",
       "      <td>0.222062</td>\n",
       "      <td>0.145151</td>\n",
       "      <td>0.118447</td>\n",
       "      <td>0.352722</td>\n",
       "      <td>0.176887</td>\n",
       "      <td>-0.063772</td>\n",
       "      <td>-0.037072</td>\n",
       "      <td>-0.070508</td>\n",
       "      <td>0.167304</td>\n",
       "      <td>-0.176005</td>\n",
       "      <td>...</td>\n",
       "      <td>-0.247446</td>\n",
       "      <td>-0.281555</td>\n",
       "      <td>-0.301630</td>\n",
       "      <td>0.432951</td>\n",
       "      <td>0.044327</td>\n",
       "      <td>-0.088838</td>\n",
       "      <td>0.102866</td>\n",
       "      <td>-0.243762</td>\n",
       "      <td>-0.218115</td>\n",
       "      <td>-0.185290</td>\n",
       "    </tr>\n",
       "    <tr>\n",
       "      <th>Artificial surfaces</th>\n",
       "      <td>-0.204129</td>\n",
       "      <td>-0.239905</td>\n",
       "      <td>0.038503</td>\n",
       "      <td>-0.189753</td>\n",
       "      <td>-0.288874</td>\n",
       "      <td>-0.122641</td>\n",
       "      <td>0.304389</td>\n",
       "      <td>-0.058796</td>\n",
       "      <td>-0.207200</td>\n",
       "      <td>0.452115</td>\n",
       "      <td>...</td>\n",
       "      <td>0.102427</td>\n",
       "      <td>0.138753</td>\n",
       "      <td>0.362684</td>\n",
       "      <td>-0.343022</td>\n",
       "      <td>0.166480</td>\n",
       "      <td>0.191015</td>\n",
       "      <td>-0.298447</td>\n",
       "      <td>0.307646</td>\n",
       "      <td>0.178194</td>\n",
       "      <td>0.178994</td>\n",
       "    </tr>\n",
       "    <tr>\n",
       "      <th>Bare area</th>\n",
       "      <td>0.088596</td>\n",
       "      <td>0.266896</td>\n",
       "      <td>-0.151139</td>\n",
       "      <td>0.138933</td>\n",
       "      <td>0.061288</td>\n",
       "      <td>0.123024</td>\n",
       "      <td>-0.061586</td>\n",
       "      <td>0.104776</td>\n",
       "      <td>-0.060732</td>\n",
       "      <td>0.401496</td>\n",
       "      <td>...</td>\n",
       "      <td>0.283061</td>\n",
       "      <td>0.066499</td>\n",
       "      <td>0.099780</td>\n",
       "      <td>0.033368</td>\n",
       "      <td>0.082796</td>\n",
       "      <td>0.280550</td>\n",
       "      <td>-0.111638</td>\n",
       "      <td>-0.135591</td>\n",
       "      <td>0.231254</td>\n",
       "      <td>0.098992</td>\n",
       "    </tr>\n",
       "    <tr>\n",
       "      <th>Cropland</th>\n",
       "      <td>-0.009619</td>\n",
       "      <td>-0.108520</td>\n",
       "      <td>0.254121</td>\n",
       "      <td>-0.110511</td>\n",
       "      <td>-0.174032</td>\n",
       "      <td>-0.094644</td>\n",
       "      <td>0.220840</td>\n",
       "      <td>-0.257100</td>\n",
       "      <td>-0.059717</td>\n",
       "      <td>0.051990</td>\n",
       "      <td>...</td>\n",
       "      <td>0.158579</td>\n",
       "      <td>-0.020582</td>\n",
       "      <td>0.283444</td>\n",
       "      <td>-0.389897</td>\n",
       "      <td>-0.272775</td>\n",
       "      <td>-0.084155</td>\n",
       "      <td>-0.223289</td>\n",
       "      <td>-0.009721</td>\n",
       "      <td>-0.041661</td>\n",
       "      <td>0.006913</td>\n",
       "    </tr>\n",
       "    <tr>\n",
       "      <th>Grassland</th>\n",
       "      <td>-0.292366</td>\n",
       "      <td>-0.147231</td>\n",
       "      <td>-0.351841</td>\n",
       "      <td>-0.268581</td>\n",
       "      <td>-0.258580</td>\n",
       "      <td>0.261549</td>\n",
       "      <td>-0.011000</td>\n",
       "      <td>0.104067</td>\n",
       "      <td>-0.145111</td>\n",
       "      <td>0.096529</td>\n",
       "      <td>...</td>\n",
       "      <td>-0.276609</td>\n",
       "      <td>0.092766</td>\n",
       "      <td>-0.110044</td>\n",
       "      <td>0.349298</td>\n",
       "      <td>0.229430</td>\n",
       "      <td>0.136050</td>\n",
       "      <td>0.414629</td>\n",
       "      <td>0.289647</td>\n",
       "      <td>0.110109</td>\n",
       "      <td>0.156174</td>\n",
       "    </tr>\n",
       "    <tr>\n",
       "      <th>Inland water</th>\n",
       "      <td>-0.303951</td>\n",
       "      <td>-0.242812</td>\n",
       "      <td>-0.236959</td>\n",
       "      <td>-0.280541</td>\n",
       "      <td>-0.127803</td>\n",
       "      <td>-0.168664</td>\n",
       "      <td>-0.414317</td>\n",
       "      <td>-0.086440</td>\n",
       "      <td>-0.226226</td>\n",
       "      <td>-0.066407</td>\n",
       "      <td>...</td>\n",
       "      <td>0.234408</td>\n",
       "      <td>0.097376</td>\n",
       "      <td>0.040022</td>\n",
       "      <td>0.030144</td>\n",
       "      <td>0.250312</td>\n",
       "      <td>0.052937</td>\n",
       "      <td>0.230707</td>\n",
       "      <td>-0.022912</td>\n",
       "      <td>0.232662</td>\n",
       "      <td>0.067721</td>\n",
       "    </tr>\n",
       "    <tr>\n",
       "      <th>Shrubland</th>\n",
       "      <td>0.457536</td>\n",
       "      <td>0.302860</td>\n",
       "      <td>0.226350</td>\n",
       "      <td>0.582266</td>\n",
       "      <td>0.308445</td>\n",
       "      <td>0.151074</td>\n",
       "      <td>-0.190822</td>\n",
       "      <td>-0.066081</td>\n",
       "      <td>0.168077</td>\n",
       "      <td>-0.200052</td>\n",
       "      <td>...</td>\n",
       "      <td>-0.304867</td>\n",
       "      <td>-0.263196</td>\n",
       "      <td>-0.205757</td>\n",
       "      <td>0.366741</td>\n",
       "      <td>-0.069625</td>\n",
       "      <td>-0.067377</td>\n",
       "      <td>0.092544</td>\n",
       "      <td>-0.260078</td>\n",
       "      <td>0.088137</td>\n",
       "      <td>-0.085620</td>\n",
       "    </tr>\n",
       "    <tr>\n",
       "      <th>Sparse vegetation</th>\n",
       "      <td>0.093454</td>\n",
       "      <td>0.340685</td>\n",
       "      <td>-0.106568</td>\n",
       "      <td>0.047150</td>\n",
       "      <td>0.193678</td>\n",
       "      <td>-0.056311</td>\n",
       "      <td>-0.242571</td>\n",
       "      <td>0.266820</td>\n",
       "      <td>0.126819</td>\n",
       "      <td>-0.204527</td>\n",
       "      <td>...</td>\n",
       "      <td>-0.066613</td>\n",
       "      <td>-0.056834</td>\n",
       "      <td>-0.254263</td>\n",
       "      <td>0.625749</td>\n",
       "      <td>0.465685</td>\n",
       "      <td>0.265656</td>\n",
       "      <td>0.288458</td>\n",
       "      <td>-0.100597</td>\n",
       "      <td>0.283018</td>\n",
       "      <td>0.107343</td>\n",
       "    </tr>\n",
       "    <tr>\n",
       "      <th>Tree cover</th>\n",
       "      <td>0.008004</td>\n",
       "      <td>-0.151825</td>\n",
       "      <td>0.076214</td>\n",
       "      <td>0.032722</td>\n",
       "      <td>0.135339</td>\n",
       "      <td>-0.148923</td>\n",
       "      <td>0.078702</td>\n",
       "      <td>0.063818</td>\n",
       "      <td>0.123182</td>\n",
       "      <td>-0.153041</td>\n",
       "      <td>...</td>\n",
       "      <td>-0.011481</td>\n",
       "      <td>0.003027</td>\n",
       "      <td>-0.049373</td>\n",
       "      <td>-0.298557</td>\n",
       "      <td>-0.174769</td>\n",
       "      <td>-0.282723</td>\n",
       "      <td>-0.213456</td>\n",
       "      <td>0.030960</td>\n",
       "      <td>-0.396906</td>\n",
       "      <td>-0.209873</td>\n",
       "    </tr>\n",
       "    <tr>\n",
       "      <th>Wetland</th>\n",
       "      <td>-0.321303</td>\n",
       "      <td>-0.125941</td>\n",
       "      <td>-0.421772</td>\n",
       "      <td>-0.354566</td>\n",
       "      <td>-0.063319</td>\n",
       "      <td>0.119531</td>\n",
       "      <td>-0.349141</td>\n",
       "      <td>-0.020581</td>\n",
       "      <td>-0.141988</td>\n",
       "      <td>-0.254120</td>\n",
       "      <td>...</td>\n",
       "      <td>-0.021914</td>\n",
       "      <td>0.260720</td>\n",
       "      <td>-0.429397</td>\n",
       "      <td>0.323698</td>\n",
       "      <td>0.159443</td>\n",
       "      <td>0.081298</td>\n",
       "      <td>0.543903</td>\n",
       "      <td>-0.028320</td>\n",
       "      <td>0.192014</td>\n",
       "      <td>0.085516</td>\n",
       "    </tr>\n",
       "    <tr>\n",
       "      <th>temp_slope</th>\n",
       "      <td>-0.304042</td>\n",
       "      <td>-0.314469</td>\n",
       "      <td>0.033120</td>\n",
       "      <td>-0.471431</td>\n",
       "      <td>-0.270901</td>\n",
       "      <td>-0.348568</td>\n",
       "      <td>0.241882</td>\n",
       "      <td>-0.160454</td>\n",
       "      <td>0.093957</td>\n",
       "      <td>0.261813</td>\n",
       "      <td>...</td>\n",
       "      <td>1.000000</td>\n",
       "      <td>0.286844</td>\n",
       "      <td>0.646629</td>\n",
       "      <td>-0.136897</td>\n",
       "      <td>0.228880</td>\n",
       "      <td>0.275832</td>\n",
       "      <td>-0.038762</td>\n",
       "      <td>-0.012243</td>\n",
       "      <td>0.239156</td>\n",
       "      <td>0.178723</td>\n",
       "    </tr>\n",
       "    <tr>\n",
       "      <th>gain_percentage</th>\n",
       "      <td>-0.242096</td>\n",
       "      <td>-0.207480</td>\n",
       "      <td>-0.090725</td>\n",
       "      <td>-0.234124</td>\n",
       "      <td>-0.331767</td>\n",
       "      <td>-0.383717</td>\n",
       "      <td>0.239970</td>\n",
       "      <td>0.079518</td>\n",
       "      <td>0.005061</td>\n",
       "      <td>0.023241</td>\n",
       "      <td>...</td>\n",
       "      <td>0.286844</td>\n",
       "      <td>1.000000</td>\n",
       "      <td>0.102618</td>\n",
       "      <td>-0.432879</td>\n",
       "      <td>-0.123687</td>\n",
       "      <td>0.081595</td>\n",
       "      <td>-0.128619</td>\n",
       "      <td>-0.224060</td>\n",
       "      <td>0.186874</td>\n",
       "      <td>0.137347</td>\n",
       "    </tr>\n",
       "    <tr>\n",
       "      <th>temp_difference</th>\n",
       "      <td>-0.018998</td>\n",
       "      <td>-0.137928</td>\n",
       "      <td>0.214659</td>\n",
       "      <td>-0.151020</td>\n",
       "      <td>-0.220272</td>\n",
       "      <td>-0.062601</td>\n",
       "      <td>0.451564</td>\n",
       "      <td>-0.055133</td>\n",
       "      <td>0.211492</td>\n",
       "      <td>0.287294</td>\n",
       "      <td>...</td>\n",
       "      <td>0.646629</td>\n",
       "      <td>0.102618</td>\n",
       "      <td>1.000000</td>\n",
       "      <td>-0.247403</td>\n",
       "      <td>0.088991</td>\n",
       "      <td>0.144746</td>\n",
       "      <td>-0.340967</td>\n",
       "      <td>0.192270</td>\n",
       "      <td>0.212732</td>\n",
       "      <td>0.080700</td>\n",
       "    </tr>\n",
       "    <tr>\n",
       "      <th>CH4</th>\n",
       "      <td>-0.049575</td>\n",
       "      <td>0.131589</td>\n",
       "      <td>-0.085329</td>\n",
       "      <td>-0.104334</td>\n",
       "      <td>0.142518</td>\n",
       "      <td>0.199637</td>\n",
       "      <td>-0.175326</td>\n",
       "      <td>-0.003942</td>\n",
       "      <td>0.178681</td>\n",
       "      <td>-0.246204</td>\n",
       "      <td>...</td>\n",
       "      <td>-0.136897</td>\n",
       "      <td>-0.432879</td>\n",
       "      <td>-0.247403</td>\n",
       "      <td>1.000000</td>\n",
       "      <td>0.526680</td>\n",
       "      <td>0.133682</td>\n",
       "      <td>0.609650</td>\n",
       "      <td>0.064788</td>\n",
       "      <td>0.096548</td>\n",
       "      <td>-0.016862</td>\n",
       "    </tr>\n",
       "    <tr>\n",
       "      <th>CO2</th>\n",
       "      <td>-0.318721</td>\n",
       "      <td>-0.181242</td>\n",
       "      <td>-0.142365</td>\n",
       "      <td>-0.345070</td>\n",
       "      <td>-0.195325</td>\n",
       "      <td>-0.071803</td>\n",
       "      <td>0.199779</td>\n",
       "      <td>0.237847</td>\n",
       "      <td>0.061374</td>\n",
       "      <td>0.278410</td>\n",
       "      <td>...</td>\n",
       "      <td>0.228880</td>\n",
       "      <td>-0.123687</td>\n",
       "      <td>0.088991</td>\n",
       "      <td>0.526680</td>\n",
       "      <td>1.000000</td>\n",
       "      <td>0.442377</td>\n",
       "      <td>0.290425</td>\n",
       "      <td>0.185835</td>\n",
       "      <td>0.314702</td>\n",
       "      <td>0.295890</td>\n",
       "    </tr>\n",
       "    <tr>\n",
       "      <th>HFC</th>\n",
       "      <td>0.006884</td>\n",
       "      <td>-0.229674</td>\n",
       "      <td>0.166304</td>\n",
       "      <td>0.050534</td>\n",
       "      <td>-0.360639</td>\n",
       "      <td>0.138146</td>\n",
       "      <td>0.041876</td>\n",
       "      <td>-0.068479</td>\n",
       "      <td>-0.008055</td>\n",
       "      <td>0.249179</td>\n",
       "      <td>...</td>\n",
       "      <td>0.275832</td>\n",
       "      <td>0.081595</td>\n",
       "      <td>0.144746</td>\n",
       "      <td>0.133682</td>\n",
       "      <td>0.442377</td>\n",
       "      <td>1.000000</td>\n",
       "      <td>0.017071</td>\n",
       "      <td>0.247790</td>\n",
       "      <td>0.559334</td>\n",
       "      <td>0.897198</td>\n",
       "    </tr>\n",
       "    <tr>\n",
       "      <th>N2O</th>\n",
       "      <td>-0.477619</td>\n",
       "      <td>-0.330833</td>\n",
       "      <td>-0.392401</td>\n",
       "      <td>-0.436389</td>\n",
       "      <td>-0.199088</td>\n",
       "      <td>0.008032</td>\n",
       "      <td>-0.217727</td>\n",
       "      <td>-0.049670</td>\n",
       "      <td>-0.099817</td>\n",
       "      <td>-0.311729</td>\n",
       "      <td>...</td>\n",
       "      <td>-0.038762</td>\n",
       "      <td>-0.128619</td>\n",
       "      <td>-0.340967</td>\n",
       "      <td>0.609650</td>\n",
       "      <td>0.290425</td>\n",
       "      <td>0.017071</td>\n",
       "      <td>1.000000</td>\n",
       "      <td>0.128588</td>\n",
       "      <td>-0.085272</td>\n",
       "      <td>-0.000536</td>\n",
       "    </tr>\n",
       "    <tr>\n",
       "      <th>NF3</th>\n",
       "      <td>-0.083185</td>\n",
       "      <td>-0.181694</td>\n",
       "      <td>0.053978</td>\n",
       "      <td>-0.209035</td>\n",
       "      <td>-0.020152</td>\n",
       "      <td>0.216389</td>\n",
       "      <td>-0.120748</td>\n",
       "      <td>-0.252865</td>\n",
       "      <td>-0.248710</td>\n",
       "      <td>0.066048</td>\n",
       "      <td>...</td>\n",
       "      <td>-0.012243</td>\n",
       "      <td>-0.224060</td>\n",
       "      <td>0.192270</td>\n",
       "      <td>0.064788</td>\n",
       "      <td>0.185835</td>\n",
       "      <td>0.247790</td>\n",
       "      <td>0.128588</td>\n",
       "      <td>1.000000</td>\n",
       "      <td>0.169645</td>\n",
       "      <td>0.179777</td>\n",
       "    </tr>\n",
       "    <tr>\n",
       "      <th>PFC</th>\n",
       "      <td>0.138525</td>\n",
       "      <td>0.091623</td>\n",
       "      <td>0.206650</td>\n",
       "      <td>0.014653</td>\n",
       "      <td>-0.063348</td>\n",
       "      <td>0.228273</td>\n",
       "      <td>-0.144137</td>\n",
       "      <td>-0.445276</td>\n",
       "      <td>0.065248</td>\n",
       "      <td>-0.088547</td>\n",
       "      <td>...</td>\n",
       "      <td>0.239156</td>\n",
       "      <td>0.186874</td>\n",
       "      <td>0.212732</td>\n",
       "      <td>0.096548</td>\n",
       "      <td>0.314702</td>\n",
       "      <td>0.559334</td>\n",
       "      <td>-0.085272</td>\n",
       "      <td>0.169645</td>\n",
       "      <td>1.000000</td>\n",
       "      <td>0.496733</td>\n",
       "    </tr>\n",
       "    <tr>\n",
       "      <th>SF6</th>\n",
       "      <td>-0.115493</td>\n",
       "      <td>-0.399398</td>\n",
       "      <td>0.040041</td>\n",
       "      <td>0.084288</td>\n",
       "      <td>-0.507985</td>\n",
       "      <td>0.040442</td>\n",
       "      <td>0.031387</td>\n",
       "      <td>-0.028860</td>\n",
       "      <td>-0.122293</td>\n",
       "      <td>0.178582</td>\n",
       "      <td>...</td>\n",
       "      <td>0.178723</td>\n",
       "      <td>0.137347</td>\n",
       "      <td>0.080700</td>\n",
       "      <td>-0.016862</td>\n",
       "      <td>0.295890</td>\n",
       "      <td>0.897198</td>\n",
       "      <td>-0.000536</td>\n",
       "      <td>0.179777</td>\n",
       "      <td>0.496733</td>\n",
       "      <td>1.000000</td>\n",
       "    </tr>\n",
       "  </tbody>\n",
       "</table>\n",
       "<p>34 rows × 34 columns</p>\n",
       "</div>"
      ],
      "text/plain": [
       "                             total_threatened  mammals_threatened  \\\n",
       "total_threatened                     1.000000            0.743809   \n",
       "mammals_threatened                   0.743809            1.000000   \n",
       "insects_threatened                   0.650051            0.183281   \n",
       "amphibians_threatened                0.780868            0.483242   \n",
       "birds_threatened                     0.688018            0.783615   \n",
       "reptiles_threatened                  0.487928            0.396207   \n",
       "perc_area_protected_all_obj         -0.190702           -0.242621   \n",
       "perc_area_protected_obj_2           -0.083430           -0.008793   \n",
       "perc_area_protected_obj_3            0.158631            0.234621   \n",
       "perc_area_protected_obj_4           -0.133931           -0.189815   \n",
       "perc_area_protected_obj_1a           0.153258            0.275885   \n",
       "perc_area_protected_obj_1b          -0.303935           -0.278684   \n",
       "perc_area_protected_no_obj          -0.049815           -0.112947   \n",
       "perc_area_protected_obj_5           -0.148558           -0.181586   \n",
       "perc_area_protected_obj_6            0.222062            0.145151   \n",
       "Artificial surfaces                 -0.204129           -0.239905   \n",
       "Bare area                            0.088596            0.266896   \n",
       "Cropland                            -0.009619           -0.108520   \n",
       "Grassland                           -0.292366           -0.147231   \n",
       "Inland water                        -0.303951           -0.242812   \n",
       "Shrubland                            0.457536            0.302860   \n",
       "Sparse vegetation                    0.093454            0.340685   \n",
       "Tree cover                           0.008004           -0.151825   \n",
       "Wetland                             -0.321303           -0.125941   \n",
       "temp_slope                          -0.304042           -0.314469   \n",
       "gain_percentage                     -0.242096           -0.207480   \n",
       "temp_difference                     -0.018998           -0.137928   \n",
       "CH4                                 -0.049575            0.131589   \n",
       "CO2                                 -0.318721           -0.181242   \n",
       "HFC                                  0.006884           -0.229674   \n",
       "N2O                                 -0.477619           -0.330833   \n",
       "NF3                                 -0.083185           -0.181694   \n",
       "PFC                                  0.138525            0.091623   \n",
       "SF6                                 -0.115493           -0.399398   \n",
       "\n",
       "                             insects_threatened  amphibians_threatened  \\\n",
       "total_threatened                       0.650051               0.780868   \n",
       "mammals_threatened                     0.183281               0.483242   \n",
       "insects_threatened                     1.000000               0.314565   \n",
       "amphibians_threatened                  0.314565               1.000000   \n",
       "birds_threatened                       0.192471               0.456921   \n",
       "reptiles_threatened                    0.182543               0.420404   \n",
       "perc_area_protected_all_obj            0.063769              -0.138516   \n",
       "perc_area_protected_obj_2             -0.274201               0.085890   \n",
       "perc_area_protected_obj_3              0.182625               0.069787   \n",
       "perc_area_protected_obj_4             -0.033785              -0.055111   \n",
       "perc_area_protected_obj_1a             0.048049               0.056411   \n",
       "perc_area_protected_obj_1b            -0.204087              -0.249485   \n",
       "perc_area_protected_no_obj             0.220617              -0.133317   \n",
       "perc_area_protected_obj_5              0.116599              -0.255866   \n",
       "perc_area_protected_obj_6              0.118447               0.352722   \n",
       "Artificial surfaces                    0.038503              -0.189753   \n",
       "Bare area                             -0.151139               0.138933   \n",
       "Cropland                               0.254121              -0.110511   \n",
       "Grassland                             -0.351841              -0.268581   \n",
       "Inland water                          -0.236959              -0.280541   \n",
       "Shrubland                              0.226350               0.582266   \n",
       "Sparse vegetation                     -0.106568               0.047150   \n",
       "Tree cover                             0.076214               0.032722   \n",
       "Wetland                               -0.421772              -0.354566   \n",
       "temp_slope                             0.033120              -0.471431   \n",
       "gain_percentage                       -0.090725              -0.234124   \n",
       "temp_difference                        0.214659              -0.151020   \n",
       "CH4                                   -0.085329              -0.104334   \n",
       "CO2                                   -0.142365              -0.345070   \n",
       "HFC                                    0.166304               0.050534   \n",
       "N2O                                   -0.392401              -0.436389   \n",
       "NF3                                    0.053978              -0.209035   \n",
       "PFC                                    0.206650               0.014653   \n",
       "SF6                                    0.040041               0.084288   \n",
       "\n",
       "                             birds_threatened  reptiles_threatened  \\\n",
       "total_threatened                     0.688018             0.487928   \n",
       "mammals_threatened                   0.783615             0.396207   \n",
       "insects_threatened                   0.192471             0.182543   \n",
       "amphibians_threatened                0.456921             0.420404   \n",
       "birds_threatened                     1.000000             0.420726   \n",
       "reptiles_threatened                  0.420726             1.000000   \n",
       "perc_area_protected_all_obj         -0.353233            -0.138408   \n",
       "perc_area_protected_obj_2           -0.067479            -0.172750   \n",
       "perc_area_protected_obj_3            0.102690             0.093315   \n",
       "perc_area_protected_obj_4           -0.187105             0.013010   \n",
       "perc_area_protected_obj_1a           0.421984            -0.170222   \n",
       "perc_area_protected_obj_1b          -0.162613            -0.226246   \n",
       "perc_area_protected_no_obj          -0.251556             0.113133   \n",
       "perc_area_protected_obj_5           -0.173002            -0.125528   \n",
       "perc_area_protected_obj_6            0.176887            -0.063772   \n",
       "Artificial surfaces                 -0.288874            -0.122641   \n",
       "Bare area                            0.061288             0.123024   \n",
       "Cropland                            -0.174032            -0.094644   \n",
       "Grassland                           -0.258580             0.261549   \n",
       "Inland water                        -0.127803            -0.168664   \n",
       "Shrubland                            0.308445             0.151074   \n",
       "Sparse vegetation                    0.193678            -0.056311   \n",
       "Tree cover                           0.135339            -0.148923   \n",
       "Wetland                             -0.063319             0.119531   \n",
       "temp_slope                          -0.270901            -0.348568   \n",
       "gain_percentage                     -0.331767            -0.383717   \n",
       "temp_difference                     -0.220272            -0.062601   \n",
       "CH4                                  0.142518             0.199637   \n",
       "CO2                                 -0.195325            -0.071803   \n",
       "HFC                                 -0.360639             0.138146   \n",
       "N2O                                 -0.199088             0.008032   \n",
       "NF3                                 -0.020152             0.216389   \n",
       "PFC                                 -0.063348             0.228273   \n",
       "SF6                                 -0.507985             0.040442   \n",
       "\n",
       "                             perc_area_protected_all_obj  \\\n",
       "total_threatened                               -0.190702   \n",
       "mammals_threatened                             -0.242621   \n",
       "insects_threatened                              0.063769   \n",
       "amphibians_threatened                          -0.138516   \n",
       "birds_threatened                               -0.353233   \n",
       "reptiles_threatened                            -0.138408   \n",
       "perc_area_protected_all_obj                     1.000000   \n",
       "perc_area_protected_obj_2                       0.342751   \n",
       "perc_area_protected_obj_3                       0.437965   \n",
       "perc_area_protected_obj_4                       0.304553   \n",
       "perc_area_protected_obj_1a                     -0.270099   \n",
       "perc_area_protected_obj_1b                     -0.109045   \n",
       "perc_area_protected_no_obj                      0.623451   \n",
       "perc_area_protected_obj_5                       0.431824   \n",
       "perc_area_protected_obj_6                      -0.037072   \n",
       "Artificial surfaces                             0.304389   \n",
       "Bare area                                      -0.061586   \n",
       "Cropland                                        0.220840   \n",
       "Grassland                                      -0.011000   \n",
       "Inland water                                   -0.414317   \n",
       "Shrubland                                      -0.190822   \n",
       "Sparse vegetation                              -0.242571   \n",
       "Tree cover                                      0.078702   \n",
       "Wetland                                        -0.349141   \n",
       "temp_slope                                      0.241882   \n",
       "gain_percentage                                 0.239970   \n",
       "temp_difference                                 0.451564   \n",
       "CH4                                            -0.175326   \n",
       "CO2                                             0.199779   \n",
       "HFC                                             0.041876   \n",
       "N2O                                            -0.217727   \n",
       "NF3                                            -0.120748   \n",
       "PFC                                            -0.144137   \n",
       "SF6                                             0.031387   \n",
       "\n",
       "                             perc_area_protected_obj_2  \\\n",
       "total_threatened                             -0.083430   \n",
       "mammals_threatened                           -0.008793   \n",
       "insects_threatened                           -0.274201   \n",
       "amphibians_threatened                         0.085890   \n",
       "birds_threatened                             -0.067479   \n",
       "reptiles_threatened                          -0.172750   \n",
       "perc_area_protected_all_obj                   0.342751   \n",
       "perc_area_protected_obj_2                     1.000000   \n",
       "perc_area_protected_obj_3                    -0.035364   \n",
       "perc_area_protected_obj_4                     0.341617   \n",
       "perc_area_protected_obj_1a                    0.063397   \n",
       "perc_area_protected_obj_1b                    0.144976   \n",
       "perc_area_protected_no_obj                   -0.297550   \n",
       "perc_area_protected_obj_5                    -0.238586   \n",
       "perc_area_protected_obj_6                    -0.070508   \n",
       "Artificial surfaces                          -0.058796   \n",
       "Bare area                                     0.104776   \n",
       "Cropland                                     -0.257100   \n",
       "Grassland                                     0.104067   \n",
       "Inland water                                 -0.086440   \n",
       "Shrubland                                    -0.066081   \n",
       "Sparse vegetation                             0.266820   \n",
       "Tree cover                                    0.063818   \n",
       "Wetland                                      -0.020581   \n",
       "temp_slope                                   -0.160454   \n",
       "gain_percentage                               0.079518   \n",
       "temp_difference                              -0.055133   \n",
       "CH4                                          -0.003942   \n",
       "CO2                                           0.237847   \n",
       "HFC                                          -0.068479   \n",
       "N2O                                          -0.049670   \n",
       "NF3                                          -0.252865   \n",
       "PFC                                          -0.445276   \n",
       "SF6                                          -0.028860   \n",
       "\n",
       "                             perc_area_protected_obj_3  \\\n",
       "total_threatened                              0.158631   \n",
       "mammals_threatened                            0.234621   \n",
       "insects_threatened                            0.182625   \n",
       "amphibians_threatened                         0.069787   \n",
       "birds_threatened                              0.102690   \n",
       "reptiles_threatened                           0.093315   \n",
       "perc_area_protected_all_obj                   0.437965   \n",
       "perc_area_protected_obj_2                    -0.035364   \n",
       "perc_area_protected_obj_3                     1.000000   \n",
       "perc_area_protected_obj_4                    -0.147122   \n",
       "perc_area_protected_obj_1a                    0.076860   \n",
       "perc_area_protected_obj_1b                   -0.097715   \n",
       "perc_area_protected_no_obj                    0.575890   \n",
       "perc_area_protected_obj_5                     0.000976   \n",
       "perc_area_protected_obj_6                     0.167304   \n",
       "Artificial surfaces                          -0.207200   \n",
       "Bare area                                    -0.060732   \n",
       "Cropland                                     -0.059717   \n",
       "Grassland                                    -0.145111   \n",
       "Inland water                                 -0.226226   \n",
       "Shrubland                                     0.168077   \n",
       "Sparse vegetation                             0.126819   \n",
       "Tree cover                                    0.123182   \n",
       "Wetland                                      -0.141988   \n",
       "temp_slope                                    0.093957   \n",
       "gain_percentage                               0.005061   \n",
       "temp_difference                               0.211492   \n",
       "CH4                                           0.178681   \n",
       "CO2                                           0.061374   \n",
       "HFC                                          -0.008055   \n",
       "N2O                                          -0.099817   \n",
       "NF3                                          -0.248710   \n",
       "PFC                                           0.065248   \n",
       "SF6                                          -0.122293   \n",
       "\n",
       "                             perc_area_protected_obj_4  ...  temp_slope  \\\n",
       "total_threatened                             -0.133931  ...   -0.304042   \n",
       "mammals_threatened                           -0.189815  ...   -0.314469   \n",
       "insects_threatened                           -0.033785  ...    0.033120   \n",
       "amphibians_threatened                        -0.055111  ...   -0.471431   \n",
       "birds_threatened                             -0.187105  ...   -0.270901   \n",
       "reptiles_threatened                           0.013010  ...   -0.348568   \n",
       "perc_area_protected_all_obj                   0.304553  ...    0.241882   \n",
       "perc_area_protected_obj_2                     0.341617  ...   -0.160454   \n",
       "perc_area_protected_obj_3                    -0.147122  ...    0.093957   \n",
       "perc_area_protected_obj_4                     1.000000  ...    0.261813   \n",
       "perc_area_protected_obj_1a                   -0.315319  ...   -0.155026   \n",
       "perc_area_protected_obj_1b                   -0.016646  ...    0.194946   \n",
       "perc_area_protected_no_obj                   -0.119119  ...    0.314547   \n",
       "perc_area_protected_obj_5                    -0.083504  ...    0.100167   \n",
       "perc_area_protected_obj_6                    -0.176005  ...   -0.247446   \n",
       "Artificial surfaces                           0.452115  ...    0.102427   \n",
       "Bare area                                     0.401496  ...    0.283061   \n",
       "Cropland                                      0.051990  ...    0.158579   \n",
       "Grassland                                     0.096529  ...   -0.276609   \n",
       "Inland water                                 -0.066407  ...    0.234408   \n",
       "Shrubland                                    -0.200052  ...   -0.304867   \n",
       "Sparse vegetation                            -0.204527  ...   -0.066613   \n",
       "Tree cover                                   -0.153041  ...   -0.011481   \n",
       "Wetland                                      -0.254120  ...   -0.021914   \n",
       "temp_slope                                    0.261813  ...    1.000000   \n",
       "gain_percentage                               0.023241  ...    0.286844   \n",
       "temp_difference                               0.287294  ...    0.646629   \n",
       "CH4                                          -0.246204  ...   -0.136897   \n",
       "CO2                                           0.278410  ...    0.228880   \n",
       "HFC                                           0.249179  ...    0.275832   \n",
       "N2O                                          -0.311729  ...   -0.038762   \n",
       "NF3                                           0.066048  ...   -0.012243   \n",
       "PFC                                          -0.088547  ...    0.239156   \n",
       "SF6                                           0.178582  ...    0.178723   \n",
       "\n",
       "                             gain_percentage  temp_difference       CH4  \\\n",
       "total_threatened                   -0.242096        -0.018998 -0.049575   \n",
       "mammals_threatened                 -0.207480        -0.137928  0.131589   \n",
       "insects_threatened                 -0.090725         0.214659 -0.085329   \n",
       "amphibians_threatened              -0.234124        -0.151020 -0.104334   \n",
       "birds_threatened                   -0.331767        -0.220272  0.142518   \n",
       "reptiles_threatened                -0.383717        -0.062601  0.199637   \n",
       "perc_area_protected_all_obj         0.239970         0.451564 -0.175326   \n",
       "perc_area_protected_obj_2           0.079518        -0.055133 -0.003942   \n",
       "perc_area_protected_obj_3           0.005061         0.211492  0.178681   \n",
       "perc_area_protected_obj_4           0.023241         0.287294 -0.246204   \n",
       "perc_area_protected_obj_1a         -0.029378        -0.308639  0.311201   \n",
       "perc_area_protected_obj_1b          0.270173        -0.120579 -0.056308   \n",
       "perc_area_protected_no_obj          0.166415         0.512871 -0.086042   \n",
       "perc_area_protected_obj_5           0.179241         0.193640 -0.269094   \n",
       "perc_area_protected_obj_6          -0.281555        -0.301630  0.432951   \n",
       "Artificial surfaces                 0.138753         0.362684 -0.343022   \n",
       "Bare area                           0.066499         0.099780  0.033368   \n",
       "Cropland                           -0.020582         0.283444 -0.389897   \n",
       "Grassland                           0.092766        -0.110044  0.349298   \n",
       "Inland water                        0.097376         0.040022  0.030144   \n",
       "Shrubland                          -0.263196        -0.205757  0.366741   \n",
       "Sparse vegetation                  -0.056834        -0.254263  0.625749   \n",
       "Tree cover                          0.003027        -0.049373 -0.298557   \n",
       "Wetland                             0.260720        -0.429397  0.323698   \n",
       "temp_slope                          0.286844         0.646629 -0.136897   \n",
       "gain_percentage                     1.000000         0.102618 -0.432879   \n",
       "temp_difference                     0.102618         1.000000 -0.247403   \n",
       "CH4                                -0.432879        -0.247403  1.000000   \n",
       "CO2                                -0.123687         0.088991  0.526680   \n",
       "HFC                                 0.081595         0.144746  0.133682   \n",
       "N2O                                -0.128619        -0.340967  0.609650   \n",
       "NF3                                -0.224060         0.192270  0.064788   \n",
       "PFC                                 0.186874         0.212732  0.096548   \n",
       "SF6                                 0.137347         0.080700 -0.016862   \n",
       "\n",
       "                                  CO2       HFC       N2O       NF3       PFC  \\\n",
       "total_threatened            -0.318721  0.006884 -0.477619 -0.083185  0.138525   \n",
       "mammals_threatened          -0.181242 -0.229674 -0.330833 -0.181694  0.091623   \n",
       "insects_threatened          -0.142365  0.166304 -0.392401  0.053978  0.206650   \n",
       "amphibians_threatened       -0.345070  0.050534 -0.436389 -0.209035  0.014653   \n",
       "birds_threatened            -0.195325 -0.360639 -0.199088 -0.020152 -0.063348   \n",
       "reptiles_threatened         -0.071803  0.138146  0.008032  0.216389  0.228273   \n",
       "perc_area_protected_all_obj  0.199779  0.041876 -0.217727 -0.120748 -0.144137   \n",
       "perc_area_protected_obj_2    0.237847 -0.068479 -0.049670 -0.252865 -0.445276   \n",
       "perc_area_protected_obj_3    0.061374 -0.008055 -0.099817 -0.248710  0.065248   \n",
       "perc_area_protected_obj_4    0.278410  0.249179 -0.311729  0.066048 -0.088547   \n",
       "perc_area_protected_obj_1a  -0.088792 -0.450892  0.010026 -0.183743 -0.315735   \n",
       "perc_area_protected_obj_1b   0.327811  0.110123  0.180279 -0.117689  0.098447   \n",
       "perc_area_protected_no_obj  -0.082928  0.013579 -0.096691 -0.132804  0.230877   \n",
       "perc_area_protected_obj_5    0.015081  0.055060 -0.083105  0.424400  0.087713   \n",
       "perc_area_protected_obj_6    0.044327 -0.088838  0.102866 -0.243762 -0.218115   \n",
       "Artificial surfaces          0.166480  0.191015 -0.298447  0.307646  0.178194   \n",
       "Bare area                    0.082796  0.280550 -0.111638 -0.135591  0.231254   \n",
       "Cropland                    -0.272775 -0.084155 -0.223289 -0.009721 -0.041661   \n",
       "Grassland                    0.229430  0.136050  0.414629  0.289647  0.110109   \n",
       "Inland water                 0.250312  0.052937  0.230707 -0.022912  0.232662   \n",
       "Shrubland                   -0.069625 -0.067377  0.092544 -0.260078  0.088137   \n",
       "Sparse vegetation            0.465685  0.265656  0.288458 -0.100597  0.283018   \n",
       "Tree cover                  -0.174769 -0.282723 -0.213456  0.030960 -0.396906   \n",
       "Wetland                      0.159443  0.081298  0.543903 -0.028320  0.192014   \n",
       "temp_slope                   0.228880  0.275832 -0.038762 -0.012243  0.239156   \n",
       "gain_percentage             -0.123687  0.081595 -0.128619 -0.224060  0.186874   \n",
       "temp_difference              0.088991  0.144746 -0.340967  0.192270  0.212732   \n",
       "CH4                          0.526680  0.133682  0.609650  0.064788  0.096548   \n",
       "CO2                          1.000000  0.442377  0.290425  0.185835  0.314702   \n",
       "HFC                          0.442377  1.000000  0.017071  0.247790  0.559334   \n",
       "N2O                          0.290425  0.017071  1.000000  0.128588 -0.085272   \n",
       "NF3                          0.185835  0.247790  0.128588  1.000000  0.169645   \n",
       "PFC                          0.314702  0.559334 -0.085272  0.169645  1.000000   \n",
       "SF6                          0.295890  0.897198 -0.000536  0.179777  0.496733   \n",
       "\n",
       "                                  SF6  \n",
       "total_threatened            -0.115493  \n",
       "mammals_threatened          -0.399398  \n",
       "insects_threatened           0.040041  \n",
       "amphibians_threatened        0.084288  \n",
       "birds_threatened            -0.507985  \n",
       "reptiles_threatened          0.040442  \n",
       "perc_area_protected_all_obj  0.031387  \n",
       "perc_area_protected_obj_2   -0.028860  \n",
       "perc_area_protected_obj_3   -0.122293  \n",
       "perc_area_protected_obj_4    0.178582  \n",
       "perc_area_protected_obj_1a  -0.498784  \n",
       "perc_area_protected_obj_1b   0.104810  \n",
       "perc_area_protected_no_obj   0.003607  \n",
       "perc_area_protected_obj_5    0.098653  \n",
       "perc_area_protected_obj_6   -0.185290  \n",
       "Artificial surfaces          0.178994  \n",
       "Bare area                    0.098992  \n",
       "Cropland                     0.006913  \n",
       "Grassland                    0.156174  \n",
       "Inland water                 0.067721  \n",
       "Shrubland                   -0.085620  \n",
       "Sparse vegetation            0.107343  \n",
       "Tree cover                  -0.209873  \n",
       "Wetland                      0.085516  \n",
       "temp_slope                   0.178723  \n",
       "gain_percentage              0.137347  \n",
       "temp_difference              0.080700  \n",
       "CH4                         -0.016862  \n",
       "CO2                          0.295890  \n",
       "HFC                          0.897198  \n",
       "N2O                         -0.000536  \n",
       "NF3                          0.179777  \n",
       "PFC                          0.496733  \n",
       "SF6                          1.000000  \n",
       "\n",
       "[34 rows x 34 columns]"
      ]
     },
     "execution_count": 52,
     "metadata": {},
     "output_type": "execute_result"
    }
   ],
   "source": [
    "#full correlation matrix to also get an overview of correlations between different features\n",
    "full_threatened_corr.corr(method= 'pearson')"
   ]
  },
  {
   "cell_type": "code",
   "execution_count": 53,
   "metadata": {
    "ExecuteTime": {
     "end_time": "2021-01-25T17:07:10.313494Z",
     "start_time": "2021-01-25T17:07:09.548837Z"
    },
    "hidden": true
   },
   "outputs": [
    {
     "data": {
      "image/png": "[encoded data removed]",
      "text/plain": [
       "<Figure size 792x648 with 2 Axes>"
      ]
     },
     "metadata": {
      "needs_background": "light"
     },
     "output_type": "display_data"
    }
   ],
   "source": [
    "#visualization of the correlation matrix as heatmap\n",
    "\n",
    "# Set up the matplotlib figure\n",
    "f, ax = plt.subplots(figsize=(11, 9))\n",
    "ax.set_title('Correlation heatmap')\n",
    "\n",
    "# Generate a custom diverging colormap\n",
    "cmap = sns.diverging_palette(230, 20, as_cmap=True)\n",
    "\n",
    "# Generate a mask for the upper triangle\n",
    "mask = np.triu(np.ones_like(correlation_matrix, dtype=bool))\n",
    "\n",
    "# create heatmap\n",
    "sns.heatmap(correlation_matrix, mask=mask, cmap=cmap, vmin=-1, vmax=1, center=0)\n",
    "plt.show()"
   ]
  },
  {
   "cell_type": "markdown",
   "metadata": {
    "hidden": true
   },
   "source": [
    "To get a better overview of our targets we calculate the correlation of the features with each target separately"
   ]
  },
  {
   "cell_type": "code",
   "execution_count": 54,
   "metadata": {
    "ExecuteTime": {
     "end_time": "2021-01-25T17:07:10.329710Z",
     "start_time": "2021-01-25T17:07:10.315727Z"
    },
    "hidden": true,
    "scrolled": true
   },
   "outputs": [
    {
     "name": "stdout",
     "output_type": "stream",
     "text": [
      "{'perc_area_protected_all_obj pearsons correlation with total_threatened': -0.1907}\n",
      "{'perc_area_protected_obj_2 pearsons correlation with total_threatened': -0.08343}\n",
      "{'perc_area_protected_obj_3 pearsons correlation with total_threatened': 0.15863}\n",
      "{'perc_area_protected_obj_4 pearsons correlation with total_threatened': -0.13393}\n",
      "{'perc_area_protected_obj_1a pearsons correlation with total_threatened': 0.15326}\n",
      "{'perc_area_protected_obj_1b pearsons correlation with total_threatened': -0.30394}\n",
      "{'perc_area_protected_no_obj pearsons correlation with total_threatened': -0.04981}\n",
      "{'perc_area_protected_obj_5 pearsons correlation with total_threatened': -0.14856}\n",
      "{'perc_area_protected_obj_6 pearsons correlation with total_threatened': 0.22206}\n",
      "{'Artificial surfaces pearsons correlation with total_threatened': -0.20413}\n",
      "{'Bare area pearsons correlation with total_threatened': 0.0886}\n",
      "{'Cropland pearsons correlation with total_threatened': -0.00962}\n",
      "{'Grassland pearsons correlation with total_threatened': -0.29237}\n",
      "{'Inland water pearsons correlation with total_threatened': -0.30395}\n",
      "{'Shrubland pearsons correlation with total_threatened': 0.45754}\n",
      "{'Sparse vegetation pearsons correlation with total_threatened': 0.09345}\n",
      "{'Tree cover pearsons correlation with total_threatened': 0.008}\n",
      "{'Wetland pearsons correlation with total_threatened': -0.3213}\n",
      "{'temp_slope pearsons correlation with total_threatened': -0.30404}\n",
      "{'gain_percentage pearsons correlation with total_threatened': -0.2421}\n",
      "{'temp_difference pearsons correlation with total_threatened': -0.019}\n",
      "{'CH4 pearsons correlation with total_threatened': -0.04958}\n",
      "{'CO2 pearsons correlation with total_threatened': -0.31872}\n",
      "{'HFC pearsons correlation with total_threatened': 0.00688}\n",
      "{'N2O pearsons correlation with total_threatened': -0.47762}\n",
      "{'NF3 pearsons correlation with total_threatened': -0.08318}\n",
      "{'PFC pearsons correlation with total_threatened': 0.13853}\n",
      "{'SF6 pearsons correlation with total_threatened': -0.11549}\n"
     ]
    }
   ],
   "source": [
    "#pearsons rho for the correlation of the values for all groups with our features\n",
    "for col in full_threatened_corr:\n",
    "    target = 'total_threatened'\n",
    "    exclude =  ['Country','total_threatened', 'mammals_threatened', 'insects_threatened', 'amphibians_threatened','birds_threatened', 'reptiles_threatened']\n",
    "    correlations = {}\n",
    "    if col not in exclude:\n",
    "        correlations[col + ' pearsons correlation with ' + target] = round(full_threatened_corr[col].corr(full_threatened_corr[target]),5)\n",
    "        print(correlations)"
   ]
  },
  {
   "cell_type": "code",
   "execution_count": 55,
   "metadata": {
    "ExecuteTime": {
     "end_time": "2021-01-25T17:07:10.344905Z",
     "start_time": "2021-01-25T17:07:10.331125Z"
    },
    "hidden": true,
    "scrolled": true
   },
   "outputs": [
    {
     "name": "stdout",
     "output_type": "stream",
     "text": [
      "{'perc_area_protected_all_obj pearsons correlation with mammals_threatened': -0.24262}\n",
      "{'perc_area_protected_obj_2 pearsons correlation with mammals_threatened': -0.00879}\n",
      "{'perc_area_protected_obj_3 pearsons correlation with mammals_threatened': 0.23462}\n",
      "{'perc_area_protected_obj_4 pearsons correlation with mammals_threatened': -0.18982}\n",
      "{'perc_area_protected_obj_1a pearsons correlation with mammals_threatened': 0.27588}\n",
      "{'perc_area_protected_obj_1b pearsons correlation with mammals_threatened': -0.27868}\n",
      "{'perc_area_protected_no_obj pearsons correlation with mammals_threatened': -0.11295}\n",
      "{'perc_area_protected_obj_5 pearsons correlation with mammals_threatened': -0.18159}\n",
      "{'perc_area_protected_obj_6 pearsons correlation with mammals_threatened': 0.14515}\n",
      "{'Artificial surfaces pearsons correlation with mammals_threatened': -0.2399}\n",
      "{'Bare area pearsons correlation with mammals_threatened': 0.2669}\n",
      "{'Cropland pearsons correlation with mammals_threatened': -0.10852}\n",
      "{'Grassland pearsons correlation with mammals_threatened': -0.14723}\n",
      "{'Inland water pearsons correlation with mammals_threatened': -0.24281}\n",
      "{'Shrubland pearsons correlation with mammals_threatened': 0.30286}\n",
      "{'Sparse vegetation pearsons correlation with mammals_threatened': 0.34068}\n",
      "{'Tree cover pearsons correlation with mammals_threatened': -0.15183}\n",
      "{'Wetland pearsons correlation with mammals_threatened': -0.12594}\n",
      "{'temp_slope pearsons correlation with mammals_threatened': -0.31447}\n",
      "{'gain_percentage pearsons correlation with mammals_threatened': -0.20748}\n",
      "{'temp_difference pearsons correlation with mammals_threatened': -0.13793}\n",
      "{'CH4 pearsons correlation with mammals_threatened': 0.13159}\n",
      "{'CO2 pearsons correlation with mammals_threatened': -0.18124}\n",
      "{'HFC pearsons correlation with mammals_threatened': -0.22967}\n",
      "{'N2O pearsons correlation with mammals_threatened': -0.33083}\n",
      "{'NF3 pearsons correlation with mammals_threatened': -0.18169}\n",
      "{'PFC pearsons correlation with mammals_threatened': 0.09162}\n",
      "{'SF6 pearsons correlation with mammals_threatened': -0.3994}\n"
     ]
    }
   ],
   "source": [
    "#pearsons rho for the correlation of the threatened mammals with our features\n",
    "for col in full_threatened_corr:\n",
    "    target = 'mammals_threatened'\n",
    "    exclude =  ['Country','total_threatened', 'mammals_threatened', 'insects_threatened', 'amphibians_threatened','birds_threatened', 'reptiles_threatened']\n",
    "    correlations = {}\n",
    "    if col not in exclude:\n",
    "        correlations[col + ' pearsons correlation with ' + target] = round(full_threatened_corr[col].corr(full_threatened_corr[target]),5)\n",
    "        print(correlations)"
   ]
  },
  {
   "cell_type": "code",
   "execution_count": 56,
   "metadata": {
    "ExecuteTime": {
     "end_time": "2021-01-25T17:07:10.362073Z",
     "start_time": "2021-01-25T17:07:10.347293Z"
    },
    "hidden": true,
    "scrolled": true
   },
   "outputs": [
    {
     "name": "stdout",
     "output_type": "stream",
     "text": [
      "{'perc_area_protected_all_obj pearsons correlation with insects_threatened': 0.06377}\n",
      "{'perc_area_protected_obj_2 pearsons correlation with insects_threatened': -0.2742}\n",
      "{'perc_area_protected_obj_3 pearsons correlation with insects_threatened': 0.18263}\n",
      "{'perc_area_protected_obj_4 pearsons correlation with insects_threatened': -0.03378}\n",
      "{'perc_area_protected_obj_1a pearsons correlation with insects_threatened': 0.04805}\n",
      "{'perc_area_protected_obj_1b pearsons correlation with insects_threatened': -0.20409}\n",
      "{'perc_area_protected_no_obj pearsons correlation with insects_threatened': 0.22062}\n",
      "{'perc_area_protected_obj_5 pearsons correlation with insects_threatened': 0.1166}\n",
      "{'perc_area_protected_obj_6 pearsons correlation with insects_threatened': 0.11845}\n",
      "{'Artificial surfaces pearsons correlation with insects_threatened': 0.0385}\n",
      "{'Bare area pearsons correlation with insects_threatened': -0.15114}\n",
      "{'Cropland pearsons correlation with insects_threatened': 0.25412}\n",
      "{'Grassland pearsons correlation with insects_threatened': -0.35184}\n",
      "{'Inland water pearsons correlation with insects_threatened': -0.23696}\n",
      "{'Shrubland pearsons correlation with insects_threatened': 0.22635}\n",
      "{'Sparse vegetation pearsons correlation with insects_threatened': -0.10657}\n",
      "{'Tree cover pearsons correlation with insects_threatened': 0.07621}\n",
      "{'Wetland pearsons correlation with insects_threatened': -0.42177}\n",
      "{'temp_slope pearsons correlation with insects_threatened': 0.03312}\n",
      "{'gain_percentage pearsons correlation with insects_threatened': -0.09072}\n",
      "{'temp_difference pearsons correlation with insects_threatened': 0.21466}\n",
      "{'CH4 pearsons correlation with insects_threatened': -0.08533}\n",
      "{'CO2 pearsons correlation with insects_threatened': -0.14237}\n",
      "{'HFC pearsons correlation with insects_threatened': 0.1663}\n",
      "{'N2O pearsons correlation with insects_threatened': -0.3924}\n",
      "{'NF3 pearsons correlation with insects_threatened': 0.05398}\n",
      "{'PFC pearsons correlation with insects_threatened': 0.20665}\n",
      "{'SF6 pearsons correlation with insects_threatened': 0.04004}\n"
     ]
    }
   ],
   "source": [
    "#pearsons rho for the correlation of the threatened insects with our features\n",
    "for col in full_threatened_corr:\n",
    "    target = 'insects_threatened'\n",
    "    exclude =  ['Country','total_threatened', 'mammals_threatened', 'insects_threatened', 'amphibians_threatened','birds_threatened', 'reptiles_threatened']\n",
    "    correlations = {}\n",
    "    if col not in exclude:\n",
    "        correlations[col + ' pearsons correlation with ' + target] = round(full_threatened_corr[col].corr(full_threatened_corr[target]),5)\n",
    "        print(correlations)"
   ]
  },
  {
   "cell_type": "code",
   "execution_count": 57,
   "metadata": {
    "ExecuteTime": {
     "end_time": "2021-01-25T17:07:10.379407Z",
     "start_time": "2021-01-25T17:07:10.363654Z"
    },
    "hidden": true,
    "scrolled": true
   },
   "outputs": [
    {
     "name": "stdout",
     "output_type": "stream",
     "text": [
      "{'perc_area_protected_all_obj pearsons correlation with amphibians_threatened': -0.13852}\n",
      "{'perc_area_protected_obj_2 pearsons correlation with amphibians_threatened': 0.08589}\n",
      "{'perc_area_protected_obj_3 pearsons correlation with amphibians_threatened': 0.06979}\n",
      "{'perc_area_protected_obj_4 pearsons correlation with amphibians_threatened': -0.05511}\n",
      "{'perc_area_protected_obj_1a pearsons correlation with amphibians_threatened': 0.05641}\n",
      "{'perc_area_protected_obj_1b pearsons correlation with amphibians_threatened': -0.24949}\n",
      "{'perc_area_protected_no_obj pearsons correlation with amphibians_threatened': -0.13332}\n",
      "{'perc_area_protected_obj_5 pearsons correlation with amphibians_threatened': -0.25587}\n",
      "{'perc_area_protected_obj_6 pearsons correlation with amphibians_threatened': 0.35272}\n",
      "{'Artificial surfaces pearsons correlation with amphibians_threatened': -0.18975}\n",
      "{'Bare area pearsons correlation with amphibians_threatened': 0.13893}\n",
      "{'Cropland pearsons correlation with amphibians_threatened': -0.11051}\n",
      "{'Grassland pearsons correlation with amphibians_threatened': -0.26858}\n",
      "{'Inland water pearsons correlation with amphibians_threatened': -0.28054}\n",
      "{'Shrubland pearsons correlation with amphibians_threatened': 0.58227}\n",
      "{'Sparse vegetation pearsons correlation with amphibians_threatened': 0.04715}\n",
      "{'Tree cover pearsons correlation with amphibians_threatened': 0.03272}\n",
      "{'Wetland pearsons correlation with amphibians_threatened': -0.35457}\n",
      "{'temp_slope pearsons correlation with amphibians_threatened': -0.47143}\n",
      "{'gain_percentage pearsons correlation with amphibians_threatened': -0.23412}\n",
      "{'temp_difference pearsons correlation with amphibians_threatened': -0.15102}\n",
      "{'CH4 pearsons correlation with amphibians_threatened': -0.10433}\n",
      "{'CO2 pearsons correlation with amphibians_threatened': -0.34507}\n",
      "{'HFC pearsons correlation with amphibians_threatened': 0.05053}\n",
      "{'N2O pearsons correlation with amphibians_threatened': -0.43639}\n",
      "{'NF3 pearsons correlation with amphibians_threatened': -0.20903}\n",
      "{'PFC pearsons correlation with amphibians_threatened': 0.01465}\n",
      "{'SF6 pearsons correlation with amphibians_threatened': 0.08429}\n"
     ]
    }
   ],
   "source": [
    "#pearsons rho for the correlation of the threatened amphibians with our features\n",
    "for col in full_threatened_corr:\n",
    "    target = 'amphibians_threatened'\n",
    "    exclude =  ['Country','total_threatened', 'mammals_threatened', 'insects_threatened', 'amphibians_threatened','birds_threatened', 'reptiles_threatened']\n",
    "    correlations = {}\n",
    "    if col not in exclude:\n",
    "        correlations[col + ' pearsons correlation with ' + target] = round(full_threatened_corr[col].corr(full_threatened_corr[target]),5)\n",
    "        print(correlations)"
   ]
  },
  {
   "cell_type": "code",
   "execution_count": 58,
   "metadata": {
    "ExecuteTime": {
     "end_time": "2021-01-25T17:07:10.395521Z",
     "start_time": "2021-01-25T17:07:10.381234Z"
    },
    "hidden": true,
    "scrolled": true
   },
   "outputs": [
    {
     "name": "stdout",
     "output_type": "stream",
     "text": [
      "{'perc_area_protected_all_obj pearsons correlation with birds_threatened': -0.35323}\n",
      "{'perc_area_protected_obj_2 pearsons correlation with birds_threatened': -0.06748}\n",
      "{'perc_area_protected_obj_3 pearsons correlation with birds_threatened': 0.10269}\n",
      "{'perc_area_protected_obj_4 pearsons correlation with birds_threatened': -0.18711}\n",
      "{'perc_area_protected_obj_1a pearsons correlation with birds_threatened': 0.42198}\n",
      "{'perc_area_protected_obj_1b pearsons correlation with birds_threatened': -0.16261}\n",
      "{'perc_area_protected_no_obj pearsons correlation with birds_threatened': -0.25156}\n",
      "{'perc_area_protected_obj_5 pearsons correlation with birds_threatened': -0.173}\n",
      "{'perc_area_protected_obj_6 pearsons correlation with birds_threatened': 0.17689}\n",
      "{'Artificial surfaces pearsons correlation with birds_threatened': -0.28887}\n",
      "{'Bare area pearsons correlation with birds_threatened': 0.06129}\n",
      "{'Cropland pearsons correlation with birds_threatened': -0.17403}\n",
      "{'Grassland pearsons correlation with birds_threatened': -0.25858}\n",
      "{'Inland water pearsons correlation with birds_threatened': -0.1278}\n",
      "{'Shrubland pearsons correlation with birds_threatened': 0.30845}\n",
      "{'Sparse vegetation pearsons correlation with birds_threatened': 0.19368}\n",
      "{'Tree cover pearsons correlation with birds_threatened': 0.13534}\n",
      "{'Wetland pearsons correlation with birds_threatened': -0.06332}\n",
      "{'temp_slope pearsons correlation with birds_threatened': -0.2709}\n",
      "{'gain_percentage pearsons correlation with birds_threatened': -0.33177}\n",
      "{'temp_difference pearsons correlation with birds_threatened': -0.22027}\n",
      "{'CH4 pearsons correlation with birds_threatened': 0.14252}\n",
      "{'CO2 pearsons correlation with birds_threatened': -0.19532}\n",
      "{'HFC pearsons correlation with birds_threatened': -0.36064}\n",
      "{'N2O pearsons correlation with birds_threatened': -0.19909}\n",
      "{'NF3 pearsons correlation with birds_threatened': -0.02015}\n",
      "{'PFC pearsons correlation with birds_threatened': -0.06335}\n",
      "{'SF6 pearsons correlation with birds_threatened': -0.50798}\n"
     ]
    }
   ],
   "source": [
    "#pearsons rho for the correlation of the threatened birds with our features\n",
    "for col in full_threatened_corr:\n",
    "    target = 'birds_threatened'\n",
    "    exclude =  ['Country','total_threatened', 'mammals_threatened', 'insects_threatened', 'amphibians_threatened','birds_threatened', 'reptiles_threatened']\n",
    "    correlations = {}\n",
    "    if col not in exclude:\n",
    "        correlations[col + ' pearsons correlation with ' + target] = round(full_threatened_corr[col].corr(full_threatened_corr[target]),5)\n",
    "        print(correlations)"
   ]
  },
  {
   "cell_type": "code",
   "execution_count": 59,
   "metadata": {
    "ExecuteTime": {
     "end_time": "2021-01-25T17:07:10.413227Z",
     "start_time": "2021-01-25T17:07:10.397036Z"
    },
    "hidden": true,
    "scrolled": true
   },
   "outputs": [
    {
     "name": "stdout",
     "output_type": "stream",
     "text": [
      "{'perc_area_protected_all_obj pearsons correlation with reptiles_threatened': -0.13841}\n",
      "{'perc_area_protected_obj_2 pearsons correlation with reptiles_threatened': -0.17275}\n",
      "{'perc_area_protected_obj_3 pearsons correlation with reptiles_threatened': 0.09332}\n",
      "{'perc_area_protected_obj_4 pearsons correlation with reptiles_threatened': 0.01301}\n",
      "{'perc_area_protected_obj_1a pearsons correlation with reptiles_threatened': -0.17022}\n",
      "{'perc_area_protected_obj_1b pearsons correlation with reptiles_threatened': -0.22625}\n",
      "{'perc_area_protected_no_obj pearsons correlation with reptiles_threatened': 0.11313}\n",
      "{'perc_area_protected_obj_5 pearsons correlation with reptiles_threatened': -0.12553}\n",
      "{'perc_area_protected_obj_6 pearsons correlation with reptiles_threatened': -0.06377}\n",
      "{'Artificial surfaces pearsons correlation with reptiles_threatened': -0.12264}\n",
      "{'Bare area pearsons correlation with reptiles_threatened': 0.12302}\n",
      "{'Cropland pearsons correlation with reptiles_threatened': -0.09464}\n",
      "{'Grassland pearsons correlation with reptiles_threatened': 0.26155}\n",
      "{'Inland water pearsons correlation with reptiles_threatened': -0.16866}\n",
      "{'Shrubland pearsons correlation with reptiles_threatened': 0.15107}\n",
      "{'Sparse vegetation pearsons correlation with reptiles_threatened': -0.05631}\n",
      "{'Tree cover pearsons correlation with reptiles_threatened': -0.14892}\n",
      "{'Wetland pearsons correlation with reptiles_threatened': 0.11953}\n",
      "{'temp_slope pearsons correlation with reptiles_threatened': -0.34857}\n",
      "{'gain_percentage pearsons correlation with reptiles_threatened': -0.38372}\n",
      "{'temp_difference pearsons correlation with reptiles_threatened': -0.0626}\n",
      "{'CH4 pearsons correlation with reptiles_threatened': 0.19964}\n",
      "{'CO2 pearsons correlation with reptiles_threatened': -0.0718}\n",
      "{'HFC pearsons correlation with reptiles_threatened': 0.13815}\n",
      "{'N2O pearsons correlation with reptiles_threatened': 0.00803}\n",
      "{'NF3 pearsons correlation with reptiles_threatened': 0.21639}\n",
      "{'PFC pearsons correlation with reptiles_threatened': 0.22827}\n",
      "{'SF6 pearsons correlation with reptiles_threatened': 0.04044}\n"
     ]
    }
   ],
   "source": [
    "#pearsons rho for the correlation of the threatened reptiles with our features\n",
    "for col in full_threatened_corr:\n",
    "    target = 'reptiles_threatened'\n",
    "    exclude =  ['Country','total_threatened', 'mammals_threatened', 'insects_threatened', 'amphibians_threatened','birds_threatened', 'reptiles_threatened']\n",
    "    correlations = {}\n",
    "    if col not in exclude:\n",
    "        correlations[col + ' pearsons correlation with ' + target] = round(full_threatened_corr[col].corr(full_threatened_corr[target]),5)\n",
    "        print(correlations)"
   ]
  },
  {
   "cell_type": "markdown",
   "metadata": {
    "hidden": true
   },
   "source": [
    "### Conclusion\n",
    "We can see many major difference between the groups regarding the correlation to each feature. One thing that can be seen is that sparse vegetation correlates stronger with the number of threatened mammals than with any other group. Overall we can see the highest positive correlation for the amount of shrubland of a country and the highest negative correlation for nitrous oxide. As we divided the features into four groups (protected areas, land cover, temperature and greenhouse gases), we can see that for every group we have at least some variables that contributed to the prediction of our targets, so we decide to keep those four groups for our model building process and start with the full model."
   ]
  }
 ],
 "metadata": {
  "kernelspec": {
   "display_name": "Python 3",
   "language": "python",
   "name": "python3"
  },
  "language_info": {
   "codemirror_mode": {
    "name": "ipython",
    "version": 3
   },
   "file_extension": ".py",
   "mimetype": "text/x-python",
   "name": "python",
   "nbconvert_exporter": "python",
   "pygments_lexer": "ipython3",
   "version": "3.7.9"
  }
 },
 "nbformat": 4,
 "nbformat_minor": 4
}
