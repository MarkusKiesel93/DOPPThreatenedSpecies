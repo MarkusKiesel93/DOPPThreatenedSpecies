{
 "cells": [
  {
   "cell_type": "markdown",
   "metadata": {},
   "source": [
    "# Merge Datasets and Analysis"
   ]
  },
  {
   "cell_type": "markdown",
   "metadata": {},
   "source": [
    "# General"
   ]
  },
  {
   "cell_type": "markdown",
   "metadata": {},
   "source": [
    "## Imports"
   ]
  },
  {
   "cell_type": "code",
   "execution_count": 1,
   "metadata": {
    "ExecuteTime": {
     "end_time": "2021-01-25T17:05:56.538415Z",
     "start_time": "2021-01-25T17:05:55.563824Z"
    }
   },
   "outputs": [],
   "source": [
    "import os\n",
    "import pandas as pd\n",
    "import numpy as np\n",
    "import seaborn as sns\n",
    "from sklearn.linear_model import LogisticRegression\n",
    "from sklearn.model_selection import train_test_split\n",
    "import matplotlib.pyplot as plt"
   ]
  },
  {
   "cell_type": "markdown",
   "metadata": {},
   "source": [
    "## Constants"
   ]
  },
  {
   "cell_type": "code",
   "execution_count": 2,
   "metadata": {
    "ExecuteTime": {
     "end_time": "2021-01-25T17:05:56.542330Z",
     "start_time": "2021-01-25T17:05:56.540075Z"
    }
   },
   "outputs": [],
   "source": [
    "PATH_PROTECED_AREA = 'data/OECD/protected_areas_2020.csv'\n",
    "PATH_LAND_COVER = 'data/OECD/LAND_COVER_2018_DATA.csv'\n",
    "PATH_AIR = 'data/OECD/greenhouse_gases_2020_pred.csv'\n",
    "PATH_CLIMATE = 'data/climate/climate_features.csv'\n",
    "PATH_IUCN = 'data/IUCN/scraped'\n",
    "PATH_IUCN_REL = 'data/IUCN/THREATENED_RELATIVE_BY_GROUP.csv'\n",
    "PATHS_COUN = [PATH_PROTECED_AREA, PATH_LAND_COVER, PATH_CLIMATE, PATH_AIR] # AIR IS MISSING\n",
    "RANDOM_STATE = 42"
   ]
  },
  {
   "cell_type": "markdown",
   "metadata": {
    "heading_collapsed": true
   },
   "source": [
    "# IUCN Data"
   ]
  },
  {
   "cell_type": "markdown",
   "metadata": {
    "heading_collapsed": true,
    "hidden": true
   },
   "source": [
    "## Load and Concatenate"
   ]
  },
  {
   "cell_type": "code",
   "execution_count": 3,
   "metadata": {
    "ExecuteTime": {
     "end_time": "2021-01-25T17:05:57.031669Z",
     "start_time": "2021-01-25T17:05:56.544787Z"
    },
    "hidden": true
   },
   "outputs": [],
   "source": [
    "iucn_list = []\n",
    "for _, _, files in os.walk(PATH_IUCN):\n",
    "    for file in files:\n",
    "        temp = pd.read_csv(PATH_IUCN + '/' + file)\n",
    "        temp['Country'] = file.split('.csv')[0]\n",
    "        iucn_list.append(temp)\n",
    "iucn_data = pd.concat(iucn_list)"
   ]
  },
  {
   "cell_type": "markdown",
   "metadata": {
    "hidden": true
   },
   "source": [
    "## Analysis"
   ]
  },
  {
   "cell_type": "markdown",
   "metadata": {
    "hidden": true
   },
   "source": [
    "### General Information"
   ]
  },
  {
   "cell_type": "code",
   "execution_count": 4,
   "metadata": {
    "ExecuteTime": {
     "end_time": "2021-01-25T17:05:57.073205Z",
     "start_time": "2021-01-25T17:05:57.033849Z"
    },
    "hidden": true
   },
   "outputs": [
    {
     "name": "stdout",
     "output_type": "stream",
     "text": [
      "<class 'pandas.core.frame.DataFrame'>\n",
      "Int64Index: 136624 entries, 0 to 1128\n",
      "Data columns (total 7 columns):\n",
      " #   Column           Non-Null Count   Dtype \n",
      "---  ------           --------------   ----- \n",
      " 0   kingdom_class    136624 non-null  object\n",
      " 1   common_name      93221 non-null   object\n",
      " 2   scientific_name  136624 non-null  object\n",
      " 3   trend            133638 non-null  object\n",
      " 4   region           136624 non-null  object\n",
      " 5   threat_level     136624 non-null  object\n",
      " 6   Country          136624 non-null  object\n",
      "dtypes: object(7)\n",
      "memory usage: 8.3+ MB\n"
     ]
    }
   ],
   "source": [
    "iucn_data.info()"
   ]
  },
  {
   "cell_type": "markdown",
   "metadata": {
    "hidden": true
   },
   "source": [
    "### Check Uniue Values"
   ]
  },
  {
   "cell_type": "code",
   "execution_count": 5,
   "metadata": {
    "ExecuteTime": {
     "end_time": "2021-01-25T17:05:57.143686Z",
     "start_time": "2021-01-25T17:05:57.074680Z"
    },
    "hidden": true
   },
   "outputs": [
    {
     "name": "stdout",
     "output_type": "stream",
     "text": [
      "Column >>kingdom_class<< contains 32 unique values.\n",
      "Column >>common_name<< contains 30138 unique values.\n",
      "Column >>scientific_name<< contains 52327 unique values.\n",
      "Column >>trend<< contains 4 unique values.\n",
      "Column >>region<< contains 13 unique values.\n",
      "Column >>threat_level<< contains 9 unique values.\n",
      "Column >>Country<< contains 65 unique values.\n"
     ]
    }
   ],
   "source": [
    "for c in iucn_data.columns:\n",
    "    print('Column >>{}<< contains {} unique values.'.format(c, iucn_data[c].nunique()))"
   ]
  },
  {
   "cell_type": "markdown",
   "metadata": {
    "hidden": true
   },
   "source": [
    "### Explore Columns Containing NULL Values"
   ]
  },
  {
   "cell_type": "markdown",
   "metadata": {
    "heading_collapsed": true,
    "hidden": true
   },
   "source": [
    "#### common_name"
   ]
  },
  {
   "cell_type": "code",
   "execution_count": 6,
   "metadata": {
    "ExecuteTime": {
     "end_time": "2021-01-25T17:05:57.159208Z",
     "start_time": "2021-01-25T17:05:57.145111Z"
    },
    "hidden": true
   },
   "outputs": [
    {
     "name": "stdout",
     "output_type": "stream",
     "text": [
      "common_name contains 30138 unique values.\n"
     ]
    }
   ],
   "source": [
    "print('common_name contains {} unique values.'.format(\n",
    "    iucn_data['common_name'].nunique()))"
   ]
  },
  {
   "cell_type": "code",
   "execution_count": 7,
   "metadata": {
    "ExecuteTime": {
     "end_time": "2021-01-25T17:05:57.169651Z",
     "start_time": "2021-01-25T17:05:57.160711Z"
    },
    "hidden": true
   },
   "outputs": [
    {
     "name": "stdout",
     "output_type": "stream",
     "text": [
      "43403 entries have missing values for the common_name column.\n"
     ]
    }
   ],
   "source": [
    "print('{} entries have missing values for the common_name column.'.format(\n",
    "    iucn_data['common_name'].isna().sum()))"
   ]
  },
  {
   "cell_type": "code",
   "execution_count": 8,
   "metadata": {
    "ExecuteTime": {
     "end_time": "2021-01-25T17:05:57.185457Z",
     "start_time": "2021-01-25T17:05:57.173122Z"
    },
    "hidden": true
   },
   "outputs": [],
   "source": [
    "i_null_cn = iucn_data[iucn_data['common_name'].isna()].index"
   ]
  },
  {
   "cell_type": "markdown",
   "metadata": {
    "hidden": true
   },
   "source": [
    "--> These missing values can probably be neglected, because we can use the scientific name as identifier."
   ]
  },
  {
   "cell_type": "markdown",
   "metadata": {
    "heading_collapsed": true,
    "hidden": true
   },
   "source": [
    "#### trend"
   ]
  },
  {
   "cell_type": "code",
   "execution_count": 9,
   "metadata": {
    "ExecuteTime": {
     "end_time": "2021-01-25T17:05:57.205153Z",
     "start_time": "2021-01-25T17:05:57.188072Z"
    },
    "hidden": true
   },
   "outputs": [
    {
     "name": "stdout",
     "output_type": "stream",
     "text": [
      "trend contains 4 unique values, which are: ['Unknown' 'Stable' 'Decreasing' nan 'Increasing'].\n"
     ]
    }
   ],
   "source": [
    "print('trend contains {} unique values, which are: {}.'.format(\n",
    "    iucn_data['trend'].nunique(), iucn_data['trend'].unique()))"
   ]
  },
  {
   "cell_type": "code",
   "execution_count": 10,
   "metadata": {
    "ExecuteTime": {
     "end_time": "2021-01-25T17:05:57.214319Z",
     "start_time": "2021-01-25T17:05:57.206856Z"
    },
    "hidden": true
   },
   "outputs": [
    {
     "name": "stdout",
     "output_type": "stream",
     "text": [
      "2986 entries have missing values for the trend column.\n"
     ]
    }
   ],
   "source": [
    "print('{} entries have missing values for the trend column.'.format(\n",
    "    iucn_data['trend'].isna().sum()))"
   ]
  },
  {
   "cell_type": "code",
   "execution_count": 11,
   "metadata": {
    "ExecuteTime": {
     "end_time": "2021-01-25T17:05:57.425296Z",
     "start_time": "2021-01-25T17:05:57.216231Z"
    },
    "hidden": true
   },
   "outputs": [
    {
     "data": {
      "text/plain": [
       "<AxesSubplot:>"
      ]
     },
     "execution_count": 11,
     "metadata": {},
     "output_type": "execute_result"
    },
    {
     "data": {
      "image/png": "[encoded data removed]",
      "text/plain": [
       "<Figure size 432x288 with 1 Axes>"
      ]
     },
     "metadata": {
      "needs_background": "light"
     },
     "output_type": "display_data"
    }
   ],
   "source": [
    "temp_iucn = iucn_data.copy()\n",
    "temp_iucn.loc[temp_iucn['trend'].isna(), 'trend'] = 'NULL'\n",
    "temp_iucn['trend'].hist()"
   ]
  },
  {
   "cell_type": "code",
   "execution_count": 12,
   "metadata": {
    "ExecuteTime": {
     "end_time": "2021-01-25T17:05:57.454287Z",
     "start_time": "2021-01-25T17:05:57.426883Z"
    },
    "hidden": true
   },
   "outputs": [
    {
     "name": "stdout",
     "output_type": "stream",
     "text": [
      "The dataset contains 68333 entries with available trend information (not Null or Unknown).\n"
     ]
    }
   ],
   "source": [
    "print(\n",
    "    'The dataset contains {} entries with available trend information (not Null or Unknown).'\n",
    "    .format(\n",
    "        len(iucn_data[(iucn_data['trend'].isna() == False)\n",
    "                      & (iucn_data['trend'] != 'Unknown')])))"
   ]
  },
  {
   "cell_type": "markdown",
   "metadata": {
    "hidden": true
   },
   "source": [
    "**NOTE: This is an issue and we have to think about a strategy how to deal with these missing/unknown values.**\n",
    "Maybe we can check if these entries have some special characteristics."
   ]
  },
  {
   "cell_type": "markdown",
   "metadata": {
    "heading_collapsed": true
   },
   "source": [
    "# Country Characteristics Data"
   ]
  },
  {
   "cell_type": "markdown",
   "metadata": {
    "hidden": true
   },
   "source": [
    "## Load and Merge"
   ]
  },
  {
   "cell_type": "code",
   "execution_count": 13,
   "metadata": {
    "ExecuteTime": {
     "end_time": "2021-01-25T17:05:57.474490Z",
     "start_time": "2021-01-25T17:05:57.455973Z"
    },
    "hidden": true
   },
   "outputs": [
    {
     "name": "stdout",
     "output_type": "stream",
     "text": [
      "data/OECD/protected_areas_2020.csv\n",
      "data/OECD/LAND_COVER_2018_DATA.csv\n",
      "data/climate/climate_features.csv\n",
      "data/OECD/greenhouse_gases_2020_pred.csv\n"
     ]
    }
   ],
   "source": [
    "coun_list = []\n",
    "country_sets = []\n",
    "for file in PATHS_COUN:\n",
    "    print(file)\n",
    "    temp = pd.read_csv(file)\n",
    "    coun_list.append(temp)\n",
    "    country_sets.append(set(temp['Country']))"
   ]
  },
  {
   "cell_type": "code",
   "execution_count": 14,
   "metadata": {
    "ExecuteTime": {
     "end_time": "2021-01-25T17:05:57.479576Z",
     "start_time": "2021-01-25T17:05:57.476213Z"
    },
    "hidden": true
   },
   "outputs": [
    {
     "name": "stdout",
     "output_type": "stream",
     "text": [
      "The Country Characterisitcs Datasets contain 42 intersecting countries, which are: {'Australia', 'Hungary', 'Estonia', 'Russia', 'New Zealand', 'United States', 'France', 'Argentina', 'Luxembourg', 'Iceland', 'India', 'Canada', 'Korea', 'Portugal', 'Czech Republic', 'Denmark', 'Italy', 'Brazil', 'Japan', 'Israel', 'Poland', 'Slovak Republic', 'Slovenia', 'Switzerland', 'United Kingdom', 'Norway', 'Chile', 'Costa Rica', 'Austria', 'Latvia', 'Indonesia', 'Spain', 'Colombia', 'Belgium', 'Mexico', 'Finland', 'Lithuania', 'Sweden', 'Greece', 'Ireland', 'Netherlands', 'Germany'}\n"
     ]
    }
   ],
   "source": [
    "intersect_countries = country_sets[0].intersection(\n",
    "    country_sets[1], country_sets[2], country_sets[3])  ## add country_sets[3]\n",
    "print(\n",
    "    'The Country Characterisitcs Datasets contain {} intersecting countries, which are: {}'\n",
    "    .format(len(intersect_countries), intersect_countries))"
   ]
  },
  {
   "cell_type": "markdown",
   "metadata": {
    "ExecuteTime": {
     "end_time": "2021-01-15T10:01:20.723162Z",
     "start_time": "2021-01-15T10:01:20.706359Z"
    },
    "hidden": true
   },
   "source": [
    "--> Join Datasets on those countries."
   ]
  },
  {
   "cell_type": "code",
   "execution_count": 15,
   "metadata": {
    "ExecuteTime": {
     "end_time": "2021-01-25T17:05:57.514877Z",
     "start_time": "2021-01-25T17:05:57.481383Z"
    },
    "hidden": true
   },
   "outputs": [
    {
     "data": {
      "text/html": [
       "<div>\n",
       "<style scoped>\n",
       "    .dataframe tbody tr th:only-of-type {\n",
       "        vertical-align: middle;\n",
       "    }\n",
       "\n",
       "    .dataframe tbody tr th {\n",
       "        vertical-align: top;\n",
       "    }\n",
       "\n",
       "    .dataframe thead th {\n",
       "        text-align: right;\n",
       "    }\n",
       "</style>\n",
       "<table border=\"1\" class=\"dataframe\">\n",
       "  <thead>\n",
       "    <tr style=\"text-align: right;\">\n",
       "      <th></th>\n",
       "      <th>Country</th>\n",
       "      <th>perc_area_protected_all_obj</th>\n",
       "      <th>perc_area_protected_obj_2</th>\n",
       "      <th>perc_area_protected_obj_3</th>\n",
       "      <th>perc_area_protected_obj_4</th>\n",
       "      <th>perc_area_protected_obj_1a</th>\n",
       "      <th>perc_area_protected_obj_1b</th>\n",
       "      <th>perc_area_protected_no_obj</th>\n",
       "      <th>perc_area_protected_obj_5</th>\n",
       "      <th>perc_area_protected_obj_6</th>\n",
       "      <th>...</th>\n",
       "      <th>gain_percentage</th>\n",
       "      <th>temp_difference</th>\n",
       "      <th>Unnamed: 0</th>\n",
       "      <th>CH4</th>\n",
       "      <th>CO2</th>\n",
       "      <th>HFC</th>\n",
       "      <th>N2O</th>\n",
       "      <th>NF3</th>\n",
       "      <th>PFC</th>\n",
       "      <th>SF6</th>\n",
       "    </tr>\n",
       "  </thead>\n",
       "  <tbody>\n",
       "    <tr>\n",
       "      <th>0</th>\n",
       "      <td>Argentina</td>\n",
       "      <td>8.39</td>\n",
       "      <td>1.84</td>\n",
       "      <td>0.04</td>\n",
       "      <td>0.19</td>\n",
       "      <td>0.27</td>\n",
       "      <td>0.03</td>\n",
       "      <td>1.46</td>\n",
       "      <td>0.33</td>\n",
       "      <td>4.09</td>\n",
       "      <td>...</td>\n",
       "      <td>0.500525</td>\n",
       "      <td>0.072246</td>\n",
       "      <td>0</td>\n",
       "      <td>1.828861</td>\n",
       "      <td>4.710241</td>\n",
       "      <td>0.014370</td>\n",
       "      <td>1.002114</td>\n",
       "      <td>-1.000000</td>\n",
       "      <td>0.003744</td>\n",
       "      <td>0.000042</td>\n",
       "    </tr>\n",
       "    <tr>\n",
       "      <th>1</th>\n",
       "      <td>Australia</td>\n",
       "      <td>19.20</td>\n",
       "      <td>4.17</td>\n",
       "      <td>0.24</td>\n",
       "      <td>0.27</td>\n",
       "      <td>2.01</td>\n",
       "      <td>0.57</td>\n",
       "      <td>0.34</td>\n",
       "      <td>0.98</td>\n",
       "      <td>10.63</td>\n",
       "      <td>...</td>\n",
       "      <td>0.969423</td>\n",
       "      <td>0.214683</td>\n",
       "      <td>1</td>\n",
       "      <td>4.382540</td>\n",
       "      <td>16.642911</td>\n",
       "      <td>0.479420</td>\n",
       "      <td>0.804808</td>\n",
       "      <td>-1.000000</td>\n",
       "      <td>0.009443</td>\n",
       "      <td>0.009144</td>\n",
       "    </tr>\n",
       "    <tr>\n",
       "      <th>2</th>\n",
       "      <td>Austria</td>\n",
       "      <td>28.54</td>\n",
       "      <td>2.38</td>\n",
       "      <td>0.01</td>\n",
       "      <td>5.80</td>\n",
       "      <td>0.01</td>\n",
       "      <td>0.12</td>\n",
       "      <td>4.62</td>\n",
       "      <td>15.35</td>\n",
       "      <td>0.20</td>\n",
       "      <td>...</td>\n",
       "      <td>24.241043</td>\n",
       "      <td>1.498389</td>\n",
       "      <td>2</td>\n",
       "      <td>0.728541</td>\n",
       "      <td>7.549433</td>\n",
       "      <td>0.207606</td>\n",
       "      <td>0.398982</td>\n",
       "      <td>0.001868</td>\n",
       "      <td>0.003680</td>\n",
       "      <td>0.043241</td>\n",
       "    </tr>\n",
       "    <tr>\n",
       "      <th>3</th>\n",
       "      <td>Belgium</td>\n",
       "      <td>24.97</td>\n",
       "      <td>0.07</td>\n",
       "      <td>0.00</td>\n",
       "      <td>1.54</td>\n",
       "      <td>0.00</td>\n",
       "      <td>0.00</td>\n",
       "      <td>9.19</td>\n",
       "      <td>12.59</td>\n",
       "      <td>1.59</td>\n",
       "      <td>...</td>\n",
       "      <td>12.044550</td>\n",
       "      <td>1.167659</td>\n",
       "      <td>3</td>\n",
       "      <td>0.688260</td>\n",
       "      <td>8.787278</td>\n",
       "      <td>0.391962</td>\n",
       "      <td>0.500037</td>\n",
       "      <td>0.000057</td>\n",
       "      <td>0.011516</td>\n",
       "      <td>0.008337</td>\n",
       "    </tr>\n",
       "    <tr>\n",
       "      <th>4</th>\n",
       "      <td>Brazil</td>\n",
       "      <td>29.80</td>\n",
       "      <td>4.13</td>\n",
       "      <td>0.07</td>\n",
       "      <td>0.03</td>\n",
       "      <td>2.06</td>\n",
       "      <td>0.00</td>\n",
       "      <td>11.83</td>\n",
       "      <td>4.58</td>\n",
       "      <td>6.78</td>\n",
       "      <td>...</td>\n",
       "      <td>3.703937</td>\n",
       "      <td>0.929317</td>\n",
       "      <td>4</td>\n",
       "      <td>1.683181</td>\n",
       "      <td>2.566549</td>\n",
       "      <td>-1.000000</td>\n",
       "      <td>0.894033</td>\n",
       "      <td>-1.000000</td>\n",
       "      <td>-1.000000</td>\n",
       "      <td>-1.000000</td>\n",
       "    </tr>\n",
       "  </tbody>\n",
       "</table>\n",
       "<p>5 rows × 30 columns</p>\n",
       "</div>"
      ],
      "text/plain": [
       "     Country  perc_area_protected_all_obj  perc_area_protected_obj_2  \\\n",
       "0  Argentina                         8.39                       1.84   \n",
       "1  Australia                        19.20                       4.17   \n",
       "2    Austria                        28.54                       2.38   \n",
       "3    Belgium                        24.97                       0.07   \n",
       "4     Brazil                        29.80                       4.13   \n",
       "\n",
       "   perc_area_protected_obj_3  perc_area_protected_obj_4  \\\n",
       "0                       0.04                       0.19   \n",
       "1                       0.24                       0.27   \n",
       "2                       0.01                       5.80   \n",
       "3                       0.00                       1.54   \n",
       "4                       0.07                       0.03   \n",
       "\n",
       "   perc_area_protected_obj_1a  perc_area_protected_obj_1b  \\\n",
       "0                        0.27                        0.03   \n",
       "1                        2.01                        0.57   \n",
       "2                        0.01                        0.12   \n",
       "3                        0.00                        0.00   \n",
       "4                        2.06                        0.00   \n",
       "\n",
       "   perc_area_protected_no_obj  perc_area_protected_obj_5  \\\n",
       "0                        1.46                       0.33   \n",
       "1                        0.34                       0.98   \n",
       "2                        4.62                      15.35   \n",
       "3                        9.19                      12.59   \n",
       "4                       11.83                       4.58   \n",
       "\n",
       "   perc_area_protected_obj_6  ...  gain_percentage  temp_difference  \\\n",
       "0                       4.09  ...         0.500525         0.072246   \n",
       "1                      10.63  ...         0.969423         0.214683   \n",
       "2                       0.20  ...        24.241043         1.498389   \n",
       "3                       1.59  ...        12.044550         1.167659   \n",
       "4                       6.78  ...         3.703937         0.929317   \n",
       "\n",
       "   Unnamed: 0       CH4        CO2       HFC       N2O       NF3       PFC  \\\n",
       "0           0  1.828861   4.710241  0.014370  1.002114 -1.000000  0.003744   \n",
       "1           1  4.382540  16.642911  0.479420  0.804808 -1.000000  0.009443   \n",
       "2           2  0.728541   7.549433  0.207606  0.398982  0.001868  0.003680   \n",
       "3           3  0.688260   8.787278  0.391962  0.500037  0.000057  0.011516   \n",
       "4           4  1.683181   2.566549 -1.000000  0.894033 -1.000000 -1.000000   \n",
       "\n",
       "        SF6  \n",
       "0  0.000042  \n",
       "1  0.009144  \n",
       "2  0.043241  \n",
       "3  0.008337  \n",
       "4 -1.000000  \n",
       "\n",
       "[5 rows x 30 columns]"
      ]
     },
     "execution_count": 15,
     "metadata": {},
     "output_type": "execute_result"
    }
   ],
   "source": [
    "coun_data = coun_list[0]\n",
    "for coun in coun_list[1:]:\n",
    "    coun_data = pd.merge(coun_data, coun, on='Country', how='inner')\n",
    "coun_data.head()"
   ]
  },
  {
   "cell_type": "markdown",
   "metadata": {
    "hidden": true
   },
   "source": [
    "## Analysis"
   ]
  },
  {
   "cell_type": "markdown",
   "metadata": {
    "hidden": true
   },
   "source": [
    "### General Information"
   ]
  },
  {
   "cell_type": "code",
   "execution_count": 16,
   "metadata": {
    "ExecuteTime": {
     "end_time": "2021-01-25T17:05:57.525029Z",
     "start_time": "2021-01-25T17:05:57.516503Z"
    },
    "hidden": true
   },
   "outputs": [
    {
     "name": "stdout",
     "output_type": "stream",
     "text": [
      "<class 'pandas.core.frame.DataFrame'>\n",
      "Int64Index: 42 entries, 0 to 41\n",
      "Data columns (total 30 columns):\n",
      " #   Column                       Non-Null Count  Dtype  \n",
      "---  ------                       --------------  -----  \n",
      " 0   Country                      42 non-null     object \n",
      " 1   perc_area_protected_all_obj  42 non-null     float64\n",
      " 2   perc_area_protected_obj_2    42 non-null     float64\n",
      " 3   perc_area_protected_obj_3    42 non-null     float64\n",
      " 4   perc_area_protected_obj_4    42 non-null     float64\n",
      " 5   perc_area_protected_obj_1a   42 non-null     float64\n",
      " 6   perc_area_protected_obj_1b   42 non-null     float64\n",
      " 7   perc_area_protected_no_obj   42 non-null     float64\n",
      " 8   perc_area_protected_obj_5    42 non-null     float64\n",
      " 9   perc_area_protected_obj_6    42 non-null     float64\n",
      " 10  Artificial surfaces          42 non-null     float64\n",
      " 11  Bare area                    42 non-null     float64\n",
      " 12  Cropland                     42 non-null     float64\n",
      " 13  Grassland                    42 non-null     float64\n",
      " 14  Inland water                 42 non-null     float64\n",
      " 15  Shrubland                    42 non-null     float64\n",
      " 16  Sparse vegetation            42 non-null     float64\n",
      " 17  Tree cover                   42 non-null     float64\n",
      " 18  Wetland                      42 non-null     float64\n",
      " 19  temp_slope                   42 non-null     float64\n",
      " 20  gain_percentage              42 non-null     float64\n",
      " 21  temp_difference              42 non-null     float64\n",
      " 22  Unnamed: 0                   42 non-null     int64  \n",
      " 23  CH4                          42 non-null     float64\n",
      " 24  CO2                          42 non-null     float64\n",
      " 25  HFC                          42 non-null     float64\n",
      " 26  N2O                          42 non-null     float64\n",
      " 27  NF3                          42 non-null     float64\n",
      " 28  PFC                          42 non-null     float64\n",
      " 29  SF6                          42 non-null     float64\n",
      "dtypes: float64(28), int64(1), object(1)\n",
      "memory usage: 10.2+ KB\n"
     ]
    }
   ],
   "source": [
    "coun_data.info()"
   ]
  },
  {
   "cell_type": "markdown",
   "metadata": {
    "hidden": true
   },
   "source": [
    "There are no missing values in the dataset."
   ]
  },
  {
   "cell_type": "code",
   "execution_count": 17,
   "metadata": {
    "ExecuteTime": {
     "end_time": "2021-01-25T17:05:57.596541Z",
     "start_time": "2021-01-25T17:05:57.526763Z"
    },
    "hidden": true
   },
   "outputs": [
    {
     "data": {
      "text/html": [
       "<div>\n",
       "<style scoped>\n",
       "    .dataframe tbody tr th:only-of-type {\n",
       "        vertical-align: middle;\n",
       "    }\n",
       "\n",
       "    .dataframe tbody tr th {\n",
       "        vertical-align: top;\n",
       "    }\n",
       "\n",
       "    .dataframe thead th {\n",
       "        text-align: right;\n",
       "    }\n",
       "</style>\n",
       "<table border=\"1\" class=\"dataframe\">\n",
       "  <thead>\n",
       "    <tr style=\"text-align: right;\">\n",
       "      <th></th>\n",
       "      <th>perc_area_protected_all_obj</th>\n",
       "      <th>perc_area_protected_obj_2</th>\n",
       "      <th>perc_area_protected_obj_3</th>\n",
       "      <th>perc_area_protected_obj_4</th>\n",
       "      <th>perc_area_protected_obj_1a</th>\n",
       "      <th>perc_area_protected_obj_1b</th>\n",
       "      <th>perc_area_protected_no_obj</th>\n",
       "      <th>perc_area_protected_obj_5</th>\n",
       "      <th>perc_area_protected_obj_6</th>\n",
       "      <th>Artificial surfaces</th>\n",
       "      <th>...</th>\n",
       "      <th>gain_percentage</th>\n",
       "      <th>temp_difference</th>\n",
       "      <th>Unnamed: 0</th>\n",
       "      <th>CH4</th>\n",
       "      <th>CO2</th>\n",
       "      <th>HFC</th>\n",
       "      <th>N2O</th>\n",
       "      <th>NF3</th>\n",
       "      <th>PFC</th>\n",
       "      <th>SF6</th>\n",
       "    </tr>\n",
       "  </thead>\n",
       "  <tbody>\n",
       "    <tr>\n",
       "      <th>count</th>\n",
       "      <td>42.000000</td>\n",
       "      <td>42.000000</td>\n",
       "      <td>42.000000</td>\n",
       "      <td>42.000000</td>\n",
       "      <td>42.000000</td>\n",
       "      <td>42.000000</td>\n",
       "      <td>42.000000</td>\n",
       "      <td>42.000000</td>\n",
       "      <td>42.000000</td>\n",
       "      <td>42.000000</td>\n",
       "      <td>...</td>\n",
       "      <td>42.000000</td>\n",
       "      <td>42.000000</td>\n",
       "      <td>42.000000</td>\n",
       "      <td>42.000000</td>\n",
       "      <td>42.000000</td>\n",
       "      <td>42.000000</td>\n",
       "      <td>42.000000</td>\n",
       "      <td>42.000000</td>\n",
       "      <td>42.000000</td>\n",
       "      <td>42.000000</td>\n",
       "    </tr>\n",
       "    <tr>\n",
       "      <th>mean</th>\n",
       "      <td>22.282857</td>\n",
       "      <td>4.151667</td>\n",
       "      <td>0.362381</td>\n",
       "      <td>2.964762</td>\n",
       "      <td>0.445714</td>\n",
       "      <td>0.872619</td>\n",
       "      <td>6.900476</td>\n",
       "      <td>4.782381</td>\n",
       "      <td>1.533333</td>\n",
       "      <td>0.026339</td>\n",
       "      <td>...</td>\n",
       "      <td>10.864795</td>\n",
       "      <td>0.987359</td>\n",
       "      <td>22.095238</td>\n",
       "      <td>1.284412</td>\n",
       "      <td>7.478007</td>\n",
       "      <td>0.164214</td>\n",
       "      <td>0.586226</td>\n",
       "      <td>-0.666490</td>\n",
       "      <td>-0.154093</td>\n",
       "      <td>-0.036179</td>\n",
       "    </tr>\n",
       "    <tr>\n",
       "      <th>std</th>\n",
       "      <td>10.766357</td>\n",
       "      <td>5.984902</td>\n",
       "      <td>1.917474</td>\n",
       "      <td>3.469978</td>\n",
       "      <td>0.676599</td>\n",
       "      <td>1.827691</td>\n",
       "      <td>8.767212</td>\n",
       "      <td>5.999103</td>\n",
       "      <td>2.741055</td>\n",
       "      <td>0.027342</td>\n",
       "      <td>...</td>\n",
       "      <td>12.305045</td>\n",
       "      <td>0.448411</td>\n",
       "      <td>12.957359</td>\n",
       "      <td>1.194647</td>\n",
       "      <td>4.017188</td>\n",
       "      <td>0.297642</td>\n",
       "      <td>0.349903</td>\n",
       "      <td>0.477372</td>\n",
       "      <td>0.384327</td>\n",
       "      <td>0.219119</td>\n",
       "    </tr>\n",
       "    <tr>\n",
       "      <th>min</th>\n",
       "      <td>5.640000</td>\n",
       "      <td>0.000000</td>\n",
       "      <td>0.000000</td>\n",
       "      <td>0.010000</td>\n",
       "      <td>0.000000</td>\n",
       "      <td>0.000000</td>\n",
       "      <td>0.000000</td>\n",
       "      <td>0.000000</td>\n",
       "      <td>0.000000</td>\n",
       "      <td>0.000000</td>\n",
       "      <td>...</td>\n",
       "      <td>-24.178355</td>\n",
       "      <td>0.072246</td>\n",
       "      <td>0.000000</td>\n",
       "      <td>0.236113</td>\n",
       "      <td>1.278950</td>\n",
       "      <td>-1.000000</td>\n",
       "      <td>0.092906</td>\n",
       "      <td>-1.000000</td>\n",
       "      <td>-1.000000</td>\n",
       "      <td>-1.000000</td>\n",
       "    </tr>\n",
       "    <tr>\n",
       "      <th>25%</th>\n",
       "      <td>14.287500</td>\n",
       "      <td>0.652500</td>\n",
       "      <td>0.000000</td>\n",
       "      <td>0.440000</td>\n",
       "      <td>0.000000</td>\n",
       "      <td>0.000000</td>\n",
       "      <td>0.472500</td>\n",
       "      <td>0.110000</td>\n",
       "      <td>0.000000</td>\n",
       "      <td>0.005924</td>\n",
       "      <td>...</td>\n",
       "      <td>3.832235</td>\n",
       "      <td>0.659961</td>\n",
       "      <td>11.250000</td>\n",
       "      <td>0.750174</td>\n",
       "      <td>4.848182</td>\n",
       "      <td>0.109285</td>\n",
       "      <td>0.345235</td>\n",
       "      <td>-1.000000</td>\n",
       "      <td>0.000021</td>\n",
       "      <td>0.002429</td>\n",
       "    </tr>\n",
       "    <tr>\n",
       "      <th>50%</th>\n",
       "      <td>20.370000</td>\n",
       "      <td>2.025000</td>\n",
       "      <td>0.020000</td>\n",
       "      <td>1.555000</td>\n",
       "      <td>0.070000</td>\n",
       "      <td>0.005000</td>\n",
       "      <td>3.375000</td>\n",
       "      <td>1.430000</td>\n",
       "      <td>0.085000</td>\n",
       "      <td>0.015773</td>\n",
       "      <td>...</td>\n",
       "      <td>9.547614</td>\n",
       "      <td>0.943211</td>\n",
       "      <td>22.500000</td>\n",
       "      <td>0.893499</td>\n",
       "      <td>6.846338</td>\n",
       "      <td>0.176891</td>\n",
       "      <td>0.481730</td>\n",
       "      <td>-1.000000</td>\n",
       "      <td>0.003712</td>\n",
       "      <td>0.007283</td>\n",
       "    </tr>\n",
       "    <tr>\n",
       "      <th>75%</th>\n",
       "      <td>27.892500</td>\n",
       "      <td>4.812500</td>\n",
       "      <td>0.070000</td>\n",
       "      <td>3.877500</td>\n",
       "      <td>0.545000</td>\n",
       "      <td>0.525000</td>\n",
       "      <td>11.290000</td>\n",
       "      <td>7.780000</td>\n",
       "      <td>1.552500</td>\n",
       "      <td>0.040661</td>\n",
       "      <td>...</td>\n",
       "      <td>17.897105</td>\n",
       "      <td>1.382112</td>\n",
       "      <td>32.750000</td>\n",
       "      <td>1.261372</td>\n",
       "      <td>9.078078</td>\n",
       "      <td>0.322812</td>\n",
       "      <td>0.849686</td>\n",
       "      <td>0.000009</td>\n",
       "      <td>0.012341</td>\n",
       "      <td>0.010464</td>\n",
       "    </tr>\n",
       "    <tr>\n",
       "      <th>max</th>\n",
       "      <td>53.530000</td>\n",
       "      <td>32.610000</td>\n",
       "      <td>12.470000</td>\n",
       "      <td>14.740000</td>\n",
       "      <td>2.180000</td>\n",
       "      <td>7.530000</td>\n",
       "      <td>40.300000</td>\n",
       "      <td>25.240000</td>\n",
       "      <td>10.630000</td>\n",
       "      <td>0.113337</td>\n",
       "      <td>...</td>\n",
       "      <td>43.855657</td>\n",
       "      <td>1.852533</td>\n",
       "      <td>44.000000</td>\n",
       "      <td>7.017958</td>\n",
       "      <td>16.642911</td>\n",
       "      <td>0.550778</td>\n",
       "      <td>1.554079</td>\n",
       "      <td>0.002234</td>\n",
       "      <td>0.216726</td>\n",
       "      <td>0.128989</td>\n",
       "    </tr>\n",
       "  </tbody>\n",
       "</table>\n",
       "<p>8 rows × 29 columns</p>\n",
       "</div>"
      ],
      "text/plain": [
       "       perc_area_protected_all_obj  perc_area_protected_obj_2  \\\n",
       "count                    42.000000                  42.000000   \n",
       "mean                     22.282857                   4.151667   \n",
       "std                      10.766357                   5.984902   \n",
       "min                       5.640000                   0.000000   \n",
       "25%                      14.287500                   0.652500   \n",
       "50%                      20.370000                   2.025000   \n",
       "75%                      27.892500                   4.812500   \n",
       "max                      53.530000                  32.610000   \n",
       "\n",
       "       perc_area_protected_obj_3  perc_area_protected_obj_4  \\\n",
       "count                  42.000000                  42.000000   \n",
       "mean                    0.362381                   2.964762   \n",
       "std                     1.917474                   3.469978   \n",
       "min                     0.000000                   0.010000   \n",
       "25%                     0.000000                   0.440000   \n",
       "50%                     0.020000                   1.555000   \n",
       "75%                     0.070000                   3.877500   \n",
       "max                    12.470000                  14.740000   \n",
       "\n",
       "       perc_area_protected_obj_1a  perc_area_protected_obj_1b  \\\n",
       "count                   42.000000                   42.000000   \n",
       "mean                     0.445714                    0.872619   \n",
       "std                      0.676599                    1.827691   \n",
       "min                      0.000000                    0.000000   \n",
       "25%                      0.000000                    0.000000   \n",
       "50%                      0.070000                    0.005000   \n",
       "75%                      0.545000                    0.525000   \n",
       "max                      2.180000                    7.530000   \n",
       "\n",
       "       perc_area_protected_no_obj  perc_area_protected_obj_5  \\\n",
       "count                   42.000000                  42.000000   \n",
       "mean                     6.900476                   4.782381   \n",
       "std                      8.767212                   5.999103   \n",
       "min                      0.000000                   0.000000   \n",
       "25%                      0.472500                   0.110000   \n",
       "50%                      3.375000                   1.430000   \n",
       "75%                     11.290000                   7.780000   \n",
       "max                     40.300000                  25.240000   \n",
       "\n",
       "       perc_area_protected_obj_6  Artificial surfaces  ...  gain_percentage  \\\n",
       "count                  42.000000            42.000000  ...        42.000000   \n",
       "mean                    1.533333             0.026339  ...        10.864795   \n",
       "std                     2.741055             0.027342  ...        12.305045   \n",
       "min                     0.000000             0.000000  ...       -24.178355   \n",
       "25%                     0.000000             0.005924  ...         3.832235   \n",
       "50%                     0.085000             0.015773  ...         9.547614   \n",
       "75%                     1.552500             0.040661  ...        17.897105   \n",
       "max                    10.630000             0.113337  ...        43.855657   \n",
       "\n",
       "       temp_difference  Unnamed: 0        CH4        CO2        HFC  \\\n",
       "count        42.000000   42.000000  42.000000  42.000000  42.000000   \n",
       "mean          0.987359   22.095238   1.284412   7.478007   0.164214   \n",
       "std           0.448411   12.957359   1.194647   4.017188   0.297642   \n",
       "min           0.072246    0.000000   0.236113   1.278950  -1.000000   \n",
       "25%           0.659961   11.250000   0.750174   4.848182   0.109285   \n",
       "50%           0.943211   22.500000   0.893499   6.846338   0.176891   \n",
       "75%           1.382112   32.750000   1.261372   9.078078   0.322812   \n",
       "max           1.852533   44.000000   7.017958  16.642911   0.550778   \n",
       "\n",
       "             N2O        NF3        PFC        SF6  \n",
       "count  42.000000  42.000000  42.000000  42.000000  \n",
       "mean    0.586226  -0.666490  -0.154093  -0.036179  \n",
       "std     0.349903   0.477372   0.384327   0.219119  \n",
       "min     0.092906  -1.000000  -1.000000  -1.000000  \n",
       "25%     0.345235  -1.000000   0.000021   0.002429  \n",
       "50%     0.481730  -1.000000   0.003712   0.007283  \n",
       "75%     0.849686   0.000009   0.012341   0.010464  \n",
       "max     1.554079   0.002234   0.216726   0.128989  \n",
       "\n",
       "[8 rows x 29 columns]"
      ]
     },
     "execution_count": 17,
     "metadata": {},
     "output_type": "execute_result"
    }
   ],
   "source": [
    "coun_data.describe()"
   ]
  },
  {
   "cell_type": "code",
   "execution_count": 18,
   "metadata": {
    "ExecuteTime": {
     "end_time": "2021-01-25T17:05:57.601182Z",
     "start_time": "2021-01-25T17:05:57.598007Z"
    },
    "hidden": true
   },
   "outputs": [
    {
     "data": {
      "text/plain": [
       "42"
      ]
     },
     "execution_count": 18,
     "metadata": {},
     "output_type": "execute_result"
    }
   ],
   "source": [
    "coun_data['Country'].nunique()"
   ]
  },
  {
   "cell_type": "markdown",
   "metadata": {},
   "source": [
    "# Full Data"
   ]
  },
  {
   "cell_type": "markdown",
   "metadata": {},
   "source": [
    "## Merge both datasets"
   ]
  },
  {
   "cell_type": "markdown",
   "metadata": {
    "ExecuteTime": {
     "end_time": "2021-01-15T13:57:50.054145Z",
     "start_time": "2021-01-15T13:57:50.051068Z"
    }
   },
   "source": [
    "### Check Keys (countries)"
   ]
  },
  {
   "cell_type": "code",
   "execution_count": 19,
   "metadata": {
    "ExecuteTime": {
     "end_time": "2021-01-25T17:05:57.611850Z",
     "start_time": "2021-01-25T17:05:57.602573Z"
    }
   },
   "outputs": [
    {
     "name": "stdout",
     "output_type": "stream",
     "text": [
      "IUCN \\ CHAR: {'Cyprus', 'Turkmenistan', 'Bulgaria', 'Moldova', 'Tajikistan', 'Saudi Arabia', 'Georgia', 'South Africa', 'Armenia', 'Puerto Rico', 'New Caledonia', 'Belarus', 'Kazakhstan', 'Croatia', 'Greenland', 'Azerbaijan', 'Peru', 'Malta', 'Romania', 'Northern Mariana Islands', 'Kyrgyzstan', 'Ukraine', 'Uzbekistan'}\n",
      "CHAR \\ IUCN: set()\n"
     ]
    }
   ],
   "source": [
    "iucn_countries = set(iucn_data['Country'].unique())\n",
    "char_countries = set(coun_data['Country'].unique())\n",
    "print('IUCN \\ CHAR: {}'.format(iucn_countries.difference(char_countries)))\n",
    "print('CHAR \\ IUCN: {}'.format(char_countries.difference(iucn_countries)))"
   ]
  },
  {
   "cell_type": "code",
   "execution_count": 20,
   "metadata": {
    "ExecuteTime": {
     "end_time": "2021-01-25T17:05:57.618502Z",
     "start_time": "2021-01-25T17:05:57.613465Z"
    }
   },
   "outputs": [
    {
     "data": {
      "text/plain": [
       "37"
      ]
     },
     "execution_count": 20,
     "metadata": {},
     "output_type": "execute_result"
    }
   ],
   "source": [
    "oecd_list = [\n",
    "    'AUSTRALIA', 'AUSTRIA', 'BELGIUM', 'CANADA', 'CHILE', 'COLOMBIA',\n",
    "    'CZECH REPUBLIC', 'DENMARK', 'ESTONIA', 'FINLAND', 'FRANCE', 'GERMANY',\n",
    "    'GREECE', 'HUNGARY', 'ICELAND', 'IRELAND', 'ISRAEL', 'ITALY', 'JAPAN',\n",
    "    'KOREA', 'LATVIA', 'LITHUANIA', 'LUXEMBOURG', 'MEXICO', 'NETHERLANDS',\n",
    "    'NEW ZEALAND', 'NORWAY', 'POLAND', 'PORTUGAL', 'SLOVAK REPUBLIC',\n",
    "    'SLOVENIA', 'SPAIN', 'SWEDEN', 'SWITZERLAND', 'TURKEY', 'UNITED KINGDOM',\n",
    "    'UNITED STATES'\n",
    "]\n",
    "oecd_list = [c.title() for c in oecd_list]\n",
    "len(oecd_list)"
   ]
  },
  {
   "cell_type": "code",
   "execution_count": 21,
   "metadata": {
    "ExecuteTime": {
     "end_time": "2021-01-25T17:05:57.623212Z",
     "start_time": "2021-01-25T17:05:57.620035Z"
    }
   },
   "outputs": [
    {
     "data": {
      "text/plain": [
       "{'Turkey'}"
      ]
     },
     "execution_count": 21,
     "metadata": {},
     "output_type": "execute_result"
    }
   ],
   "source": [
    "set(oecd_list).difference(iucn_countries)"
   ]
  },
  {
   "cell_type": "code",
   "execution_count": 22,
   "metadata": {
    "ExecuteTime": {
     "end_time": "2021-01-25T17:05:57.627666Z",
     "start_time": "2021-01-25T17:05:57.624725Z"
    }
   },
   "outputs": [
    {
     "data": {
      "text/plain": [
       "{'Turkey'}"
      ]
     },
     "execution_count": 22,
     "metadata": {},
     "output_type": "execute_result"
    }
   ],
   "source": [
    "set(oecd_list).difference(char_countries)"
   ]
  },
  {
   "cell_type": "code",
   "execution_count": 23,
   "metadata": {
    "ExecuteTime": {
     "end_time": "2021-01-25T17:05:57.636595Z",
     "start_time": "2021-01-25T17:05:57.633440Z"
    }
   },
   "outputs": [
    {
     "data": {
      "text/plain": [
       "set()"
      ]
     },
     "execution_count": 23,
     "metadata": {},
     "output_type": "execute_result"
    }
   ],
   "source": [
    "iucn_diff_list = [c for c in iucn_countries.difference(char_countries)]\n",
    "set(iucn_diff_list).intersection(set(oecd_list))"
   ]
  },
  {
   "cell_type": "code",
   "execution_count": 24,
   "metadata": {
    "ExecuteTime": {
     "end_time": "2021-01-25T17:05:57.641758Z",
     "start_time": "2021-01-25T17:05:57.640165Z"
    }
   },
   "outputs": [],
   "source": [
    "#i"
   ]
  },
  {
   "cell_type": "code",
   "execution_count": null,
   "metadata": {
    "ExecuteTime": {
     "end_time": "2021-01-19T10:45:02.767710Z",
     "start_time": "2021-01-19T10:45:02.764165Z"
    }
   },
   "outputs": [],
   "source": []
  },
  {
   "cell_type": "markdown",
   "metadata": {},
   "source": [
    "### Rename Country Data to Match IUCN Data"
   ]
  },
  {
   "cell_type": "code",
   "execution_count": 25,
   "metadata": {
    "ExecuteTime": {
     "end_time": "2021-01-25T17:05:57.649366Z",
     "start_time": "2021-01-25T17:05:57.643231Z"
    }
   },
   "outputs": [],
   "source": [
    "coun_data.loc[coun_data['Country'] == 'New Zealand', 'Country'] = 'New_Zealand'\n",
    "coun_data.loc[coun_data['Country'] == 'Slovak Republic', 'Country'] = 'Slovakia'\n",
    "coun_data.loc[coun_data['Country'] == 'United Kingdom', 'Country'] = 'United_Kingdom'\n",
    "coun_data.loc[coun_data['Country'] == 'United States', 'Country'] = 'United_States'\n",
    "coun_data.loc[coun_data['Country'] == 'Czech Republic', 'Country'] = 'Czechia'\n",
    "coun_data.loc[coun_data['Country'] == 'Korea', 'Country'] = 'Korea,_Republic_of'"
   ]
  },
  {
   "cell_type": "markdown",
   "metadata": {
    "heading_collapsed": true
   },
   "source": [
    "### Merge "
   ]
  },
  {
   "cell_type": "code",
   "execution_count": 26,
   "metadata": {
    "ExecuteTime": {
     "end_time": "2021-01-25T17:05:57.704392Z",
     "start_time": "2021-01-25T17:05:57.650931Z"
    },
    "hidden": true
   },
   "outputs": [
    {
     "data": {
      "text/plain": [
       "36"
      ]
     },
     "execution_count": 26,
     "metadata": {},
     "output_type": "execute_result"
    }
   ],
   "source": [
    "full_data = iucn_data.merge(coun_data, on='Country', how='inner')\n",
    "full_data['Country'].nunique()"
   ]
  },
  {
   "cell_type": "code",
   "execution_count": 27,
   "metadata": {
    "ExecuteTime": {
     "end_time": "2021-01-25T17:05:57.712994Z",
     "start_time": "2021-01-25T17:05:57.708475Z"
    },
    "hidden": true
   },
   "outputs": [
    {
     "data": {
      "text/plain": [
       "array(['kingdom_class', 'common_name', 'scientific_name', 'trend',\n",
       "       'region', 'threat_level', 'Country', 'perc_area_protected_all_obj',\n",
       "       'perc_area_protected_obj_2', 'perc_area_protected_obj_3',\n",
       "       'perc_area_protected_obj_4', 'perc_area_protected_obj_1a',\n",
       "       'perc_area_protected_obj_1b', 'perc_area_protected_no_obj',\n",
       "       'perc_area_protected_obj_5', 'perc_area_protected_obj_6',\n",
       "       'Artificial surfaces', 'Bare area', 'Cropland', 'Grassland',\n",
       "       'Inland water', 'Shrubland', 'Sparse vegetation', 'Tree cover',\n",
       "       'Wetland', 'temp_slope', 'gain_percentage', 'temp_difference',\n",
       "       'Unnamed: 0', 'CH4', 'CO2', 'HFC', 'N2O', 'NF3', 'PFC', 'SF6'],\n",
       "      dtype=object)"
      ]
     },
     "execution_count": 27,
     "metadata": {},
     "output_type": "execute_result"
    }
   ],
   "source": [
    "full_data.columns.values"
   ]
  },
  {
   "cell_type": "markdown",
   "metadata": {},
   "source": [
    "### Merge with the relative number of threatened species\n",
    "For the prediction of the number of species per country relative to the number of total described species, we merge our coun_data with the relative number of threatened species per country. After those steps we have got 36 countries left, with 29 different characteristics for each one. We also have the relative number of threatened species by the taxonomic group for the major land living groups. Those are mammals, insects, amphibians, birds and reptiles. The maximum value for threatened species is 16.7%, while the minimum lies at 1.7% and there are on average 8.4% of the documented species threatened across all countries. The highest mean by taxonomic group can be seen for amphibians with 11.4% while the lowest can be seen for birds with  5.1%."
   ]
  },
  {
   "cell_type": "code",
   "execution_count": 28,
   "metadata": {
    "ExecuteTime": {
     "end_time": "2021-01-25T17:05:57.724852Z",
     "start_time": "2021-01-25T17:05:57.716050Z"
    }
   },
   "outputs": [],
   "source": [
    "threatened_relative = pd.read_csv(PATH_IUCN_REL)\n",
    "threatened_relative = threatened_relative.rename(columns={'Unnamed: 0': 'Country'})"
   ]
  },
  {
   "cell_type": "code",
   "execution_count": 29,
   "metadata": {
    "ExecuteTime": {
     "end_time": "2021-01-25T17:05:57.731727Z",
     "start_time": "2021-01-25T17:05:57.727028Z"
    }
   },
   "outputs": [
    {
     "name": "stdout",
     "output_type": "stream",
     "text": [
      "THREAT \\ CHAR: {'Cyprus', 'Turkmenistan', 'Bulgaria', 'Moldova', 'Tajikistan', 'Saudi Arabia', 'Georgia', 'South Africa', 'Armenia', 'Puerto Rico', 'New Caledonia', 'Belarus', 'Kazakhstan', 'Croatia', 'Greenland', 'Azerbaijan', 'Peru', 'Malta', 'Romania', 'Northern Mariana Islands', 'Kyrgyzstan', 'Ukraine', 'Uzbekistan'}\n",
      "CHAR \\ THREAT: set()\n"
     ]
    }
   ],
   "source": [
    "threatened_countries = set(threatened_relative['Country'].unique())\n",
    "print('THREAT \\ CHAR: {}'.format(threatened_countries.difference(char_countries)))\n",
    "print('CHAR \\ THREAT: {}'.format(char_countries.difference(threatened_countries)))"
   ]
  },
  {
   "cell_type": "code",
   "execution_count": 30,
   "metadata": {
    "ExecuteTime": {
     "end_time": "2021-01-25T17:05:57.759032Z",
     "start_time": "2021-01-25T17:05:57.733599Z"
    }
   },
   "outputs": [
    {
     "data": {
      "text/html": [
       "<div>\n",
       "<style scoped>\n",
       "    .dataframe tbody tr th:only-of-type {\n",
       "        vertical-align: middle;\n",
       "    }\n",
       "\n",
       "    .dataframe tbody tr th {\n",
       "        vertical-align: top;\n",
       "    }\n",
       "\n",
       "    .dataframe thead th {\n",
       "        text-align: right;\n",
       "    }\n",
       "</style>\n",
       "<table border=\"1\" class=\"dataframe\">\n",
       "  <thead>\n",
       "    <tr style=\"text-align: right;\">\n",
       "      <th></th>\n",
       "      <th>Country</th>\n",
       "      <th>total_threatened</th>\n",
       "      <th>mammals_threatened</th>\n",
       "      <th>insects_threatened</th>\n",
       "      <th>amphibians_threatened</th>\n",
       "      <th>birds_threatened</th>\n",
       "      <th>reptiles_threatened</th>\n",
       "      <th>mammals_resident</th>\n",
       "      <th>insects_resident</th>\n",
       "      <th>amphibians_resident</th>\n",
       "      <th>...</th>\n",
       "      <th>gain_percentage</th>\n",
       "      <th>temp_difference</th>\n",
       "      <th>Unnamed: 0</th>\n",
       "      <th>CH4</th>\n",
       "      <th>CO2</th>\n",
       "      <th>HFC</th>\n",
       "      <th>N2O</th>\n",
       "      <th>NF3</th>\n",
       "      <th>PFC</th>\n",
       "      <th>SF6</th>\n",
       "    </tr>\n",
       "  </thead>\n",
       "  <tbody>\n",
       "    <tr>\n",
       "      <th>0</th>\n",
       "      <td>Argentina</td>\n",
       "      <td>0.0791</td>\n",
       "      <td>0.1003</td>\n",
       "      <td>0.0744</td>\n",
       "      <td>0.2061</td>\n",
       "      <td>0.0519</td>\n",
       "      <td>0.0771</td>\n",
       "      <td>True</td>\n",
       "      <td>True</td>\n",
       "      <td>True</td>\n",
       "      <td>...</td>\n",
       "      <td>0.500525</td>\n",
       "      <td>0.072246</td>\n",
       "      <td>0</td>\n",
       "      <td>1.828861</td>\n",
       "      <td>4.710241</td>\n",
       "      <td>0.014370</td>\n",
       "      <td>1.002114</td>\n",
       "      <td>-1.000000</td>\n",
       "      <td>0.003744</td>\n",
       "      <td>0.000042</td>\n",
       "    </tr>\n",
       "    <tr>\n",
       "      <th>1</th>\n",
       "      <td>Australia</td>\n",
       "      <td>0.1120</td>\n",
       "      <td>0.1864</td>\n",
       "      <td>0.1403</td>\n",
       "      <td>0.2108</td>\n",
       "      <td>0.0716</td>\n",
       "      <td>0.0766</td>\n",
       "      <td>True</td>\n",
       "      <td>True</td>\n",
       "      <td>True</td>\n",
       "      <td>...</td>\n",
       "      <td>0.969423</td>\n",
       "      <td>0.214683</td>\n",
       "      <td>1</td>\n",
       "      <td>4.382540</td>\n",
       "      <td>16.642911</td>\n",
       "      <td>0.479420</td>\n",
       "      <td>0.804808</td>\n",
       "      <td>-1.000000</td>\n",
       "      <td>0.009443</td>\n",
       "      <td>0.009144</td>\n",
       "    </tr>\n",
       "    <tr>\n",
       "      <th>2</th>\n",
       "      <td>Austria</td>\n",
       "      <td>0.0628</td>\n",
       "      <td>0.0568</td>\n",
       "      <td>0.0867</td>\n",
       "      <td>0.0000</td>\n",
       "      <td>0.0426</td>\n",
       "      <td>0.0769</td>\n",
       "      <td>True</td>\n",
       "      <td>True</td>\n",
       "      <td>True</td>\n",
       "      <td>...</td>\n",
       "      <td>24.241043</td>\n",
       "      <td>1.498389</td>\n",
       "      <td>2</td>\n",
       "      <td>0.728541</td>\n",
       "      <td>7.549433</td>\n",
       "      <td>0.207606</td>\n",
       "      <td>0.398982</td>\n",
       "      <td>0.001868</td>\n",
       "      <td>0.003680</td>\n",
       "      <td>0.043241</td>\n",
       "    </tr>\n",
       "    <tr>\n",
       "      <th>3</th>\n",
       "      <td>Belgium</td>\n",
       "      <td>0.0378</td>\n",
       "      <td>0.0417</td>\n",
       "      <td>0.0544</td>\n",
       "      <td>0.0000</td>\n",
       "      <td>0.0303</td>\n",
       "      <td>0.0000</td>\n",
       "      <td>True</td>\n",
       "      <td>True</td>\n",
       "      <td>True</td>\n",
       "      <td>...</td>\n",
       "      <td>12.044550</td>\n",
       "      <td>1.167659</td>\n",
       "      <td>3</td>\n",
       "      <td>0.688260</td>\n",
       "      <td>8.787278</td>\n",
       "      <td>0.391962</td>\n",
       "      <td>0.500037</td>\n",
       "      <td>0.000057</td>\n",
       "      <td>0.011516</td>\n",
       "      <td>0.008337</td>\n",
       "    </tr>\n",
       "    <tr>\n",
       "      <th>4</th>\n",
       "      <td>Brazil</td>\n",
       "      <td>0.0861</td>\n",
       "      <td>0.1360</td>\n",
       "      <td>0.0807</td>\n",
       "      <td>0.0430</td>\n",
       "      <td>0.0914</td>\n",
       "      <td>0.0766</td>\n",
       "      <td>True</td>\n",
       "      <td>True</td>\n",
       "      <td>True</td>\n",
       "      <td>...</td>\n",
       "      <td>3.703937</td>\n",
       "      <td>0.929317</td>\n",
       "      <td>4</td>\n",
       "      <td>1.683181</td>\n",
       "      <td>2.566549</td>\n",
       "      <td>-1.000000</td>\n",
       "      <td>0.894033</td>\n",
       "      <td>-1.000000</td>\n",
       "      <td>-1.000000</td>\n",
       "      <td>-1.000000</td>\n",
       "    </tr>\n",
       "  </tbody>\n",
       "</table>\n",
       "<p>5 rows × 41 columns</p>\n",
       "</div>"
      ],
      "text/plain": [
       "     Country  total_threatened  mammals_threatened  insects_threatened  \\\n",
       "0  Argentina            0.0791              0.1003              0.0744   \n",
       "1  Australia            0.1120              0.1864              0.1403   \n",
       "2    Austria            0.0628              0.0568              0.0867   \n",
       "3    Belgium            0.0378              0.0417              0.0544   \n",
       "4     Brazil            0.0861              0.1360              0.0807   \n",
       "\n",
       "   amphibians_threatened  birds_threatened  reptiles_threatened  \\\n",
       "0                 0.2061            0.0519               0.0771   \n",
       "1                 0.2108            0.0716               0.0766   \n",
       "2                 0.0000            0.0426               0.0769   \n",
       "3                 0.0000            0.0303               0.0000   \n",
       "4                 0.0430            0.0914               0.0766   \n",
       "\n",
       "   mammals_resident  insects_resident  amphibians_resident  ...  \\\n",
       "0              True              True                 True  ...   \n",
       "1              True              True                 True  ...   \n",
       "2              True              True                 True  ...   \n",
       "3              True              True                 True  ...   \n",
       "4              True              True                 True  ...   \n",
       "\n",
       "   gain_percentage  temp_difference  Unnamed: 0       CH4        CO2  \\\n",
       "0         0.500525         0.072246           0  1.828861   4.710241   \n",
       "1         0.969423         0.214683           1  4.382540  16.642911   \n",
       "2        24.241043         1.498389           2  0.728541   7.549433   \n",
       "3        12.044550         1.167659           3  0.688260   8.787278   \n",
       "4         3.703937         0.929317           4  1.683181   2.566549   \n",
       "\n",
       "        HFC       N2O       NF3       PFC       SF6  \n",
       "0  0.014370  1.002114 -1.000000  0.003744  0.000042  \n",
       "1  0.479420  0.804808 -1.000000  0.009443  0.009144  \n",
       "2  0.207606  0.398982  0.001868  0.003680  0.043241  \n",
       "3  0.391962  0.500037  0.000057  0.011516  0.008337  \n",
       "4 -1.000000  0.894033 -1.000000 -1.000000 -1.000000  \n",
       "\n",
       "[5 rows x 41 columns]"
      ]
     },
     "execution_count": 30,
     "metadata": {},
     "output_type": "execute_result"
    }
   ],
   "source": [
    "full_threatened = threatened_relative.merge(coun_data, on='Country', how='inner')\n",
    "full_threatened.head()"
   ]
  },
  {
   "cell_type": "code",
   "execution_count": 31,
   "metadata": {
    "ExecuteTime": {
     "end_time": "2021-01-25T17:05:57.846998Z",
     "start_time": "2021-01-25T17:05:57.761053Z"
    }
   },
   "outputs": [
    {
     "data": {
      "text/html": [
       "<div>\n",
       "<style scoped>\n",
       "    .dataframe tbody tr th:only-of-type {\n",
       "        vertical-align: middle;\n",
       "    }\n",
       "\n",
       "    .dataframe tbody tr th {\n",
       "        vertical-align: top;\n",
       "    }\n",
       "\n",
       "    .dataframe thead th {\n",
       "        text-align: right;\n",
       "    }\n",
       "</style>\n",
       "<table border=\"1\" class=\"dataframe\">\n",
       "  <thead>\n",
       "    <tr style=\"text-align: right;\">\n",
       "      <th></th>\n",
       "      <th>total_threatened</th>\n",
       "      <th>mammals_threatened</th>\n",
       "      <th>insects_threatened</th>\n",
       "      <th>amphibians_threatened</th>\n",
       "      <th>birds_threatened</th>\n",
       "      <th>reptiles_threatened</th>\n",
       "      <th>perc_area_protected_all_obj</th>\n",
       "      <th>perc_area_protected_obj_2</th>\n",
       "      <th>perc_area_protected_obj_3</th>\n",
       "      <th>perc_area_protected_obj_4</th>\n",
       "      <th>...</th>\n",
       "      <th>temp_slope</th>\n",
       "      <th>gain_percentage</th>\n",
       "      <th>temp_difference</th>\n",
       "      <th>CH4</th>\n",
       "      <th>CO2</th>\n",
       "      <th>HFC</th>\n",
       "      <th>N2O</th>\n",
       "      <th>NF3</th>\n",
       "      <th>PFC</th>\n",
       "      <th>SF6</th>\n",
       "    </tr>\n",
       "  </thead>\n",
       "  <tbody>\n",
       "    <tr>\n",
       "      <th>count</th>\n",
       "      <td>36.000000</td>\n",
       "      <td>36.000000</td>\n",
       "      <td>36.000000</td>\n",
       "      <td>36.000000</td>\n",
       "      <td>36.000000</td>\n",
       "      <td>36.000000</td>\n",
       "      <td>36.000000</td>\n",
       "      <td>36.000000</td>\n",
       "      <td>36.000000</td>\n",
       "      <td>36.000000</td>\n",
       "      <td>...</td>\n",
       "      <td>36.000000</td>\n",
       "      <td>36.000000</td>\n",
       "      <td>36.000000</td>\n",
       "      <td>36.000000</td>\n",
       "      <td>36.000000</td>\n",
       "      <td>36.000000</td>\n",
       "      <td>36.000000</td>\n",
       "      <td>36.000000</td>\n",
       "      <td>3.600000e+01</td>\n",
       "      <td>36.000000</td>\n",
       "    </tr>\n",
       "    <tr>\n",
       "      <th>mean</th>\n",
       "      <td>0.084056</td>\n",
       "      <td>0.101114</td>\n",
       "      <td>0.087264</td>\n",
       "      <td>0.114533</td>\n",
       "      <td>0.051697</td>\n",
       "      <td>0.095097</td>\n",
       "      <td>21.890278</td>\n",
       "      <td>4.285278</td>\n",
       "      <td>0.058889</td>\n",
       "      <td>2.898333</td>\n",
       "      <td>...</td>\n",
       "      <td>0.032756</td>\n",
       "      <td>10.010823</td>\n",
       "      <td>0.938828</td>\n",
       "      <td>1.156474</td>\n",
       "      <td>7.097104</td>\n",
       "      <td>0.144013</td>\n",
       "      <td>0.561717</td>\n",
       "      <td>-0.694300</td>\n",
       "      <td>-1.818770e-01</td>\n",
       "      <td>-0.046840</td>\n",
       "    </tr>\n",
       "    <tr>\n",
       "      <th>std</th>\n",
       "      <td>0.043261</td>\n",
       "      <td>0.070868</td>\n",
       "      <td>0.051773</td>\n",
       "      <td>0.156417</td>\n",
       "      <td>0.021114</td>\n",
       "      <td>0.111864</td>\n",
       "      <td>10.988145</td>\n",
       "      <td>6.315960</td>\n",
       "      <td>0.117492</td>\n",
       "      <td>3.546239</td>\n",
       "      <td>...</td>\n",
       "      <td>0.012915</td>\n",
       "      <td>12.942997</td>\n",
       "      <td>0.446922</td>\n",
       "      <td>0.820514</td>\n",
       "      <td>3.919144</td>\n",
       "      <td>0.313502</td>\n",
       "      <td>0.306269</td>\n",
       "      <td>0.467397</td>\n",
       "      <td>4.091898e-01</td>\n",
       "      <td>0.234670</td>\n",
       "    </tr>\n",
       "    <tr>\n",
       "      <th>min</th>\n",
       "      <td>0.016700</td>\n",
       "      <td>0.000000</td>\n",
       "      <td>0.000000</td>\n",
       "      <td>0.000000</td>\n",
       "      <td>0.016000</td>\n",
       "      <td>0.000000</td>\n",
       "      <td>5.640000</td>\n",
       "      <td>0.000000</td>\n",
       "      <td>0.000000</td>\n",
       "      <td>0.010000</td>\n",
       "      <td>...</td>\n",
       "      <td>0.006156</td>\n",
       "      <td>-24.178355</td>\n",
       "      <td>0.072246</td>\n",
       "      <td>0.236113</td>\n",
       "      <td>1.278950</td>\n",
       "      <td>-1.000000</td>\n",
       "      <td>0.092906</td>\n",
       "      <td>-1.000000</td>\n",
       "      <td>-1.000000e+00</td>\n",
       "      <td>-1.000000</td>\n",
       "    </tr>\n",
       "    <tr>\n",
       "      <th>25%</th>\n",
       "      <td>0.047375</td>\n",
       "      <td>0.050100</td>\n",
       "      <td>0.060475</td>\n",
       "      <td>0.000000</td>\n",
       "      <td>0.037575</td>\n",
       "      <td>0.000000</td>\n",
       "      <td>14.135000</td>\n",
       "      <td>0.642500</td>\n",
       "      <td>0.000000</td>\n",
       "      <td>0.397500</td>\n",
       "      <td>...</td>\n",
       "      <td>0.022128</td>\n",
       "      <td>3.639039</td>\n",
       "      <td>0.603596</td>\n",
       "      <td>0.740512</td>\n",
       "      <td>4.616156</td>\n",
       "      <td>0.103406</td>\n",
       "      <td>0.357740</td>\n",
       "      <td>-1.000000</td>\n",
       "      <td>9.067425e-07</td>\n",
       "      <td>0.002302</td>\n",
       "    </tr>\n",
       "    <tr>\n",
       "      <th>50%</th>\n",
       "      <td>0.071400</td>\n",
       "      <td>0.089700</td>\n",
       "      <td>0.083700</td>\n",
       "      <td>0.032150</td>\n",
       "      <td>0.044300</td>\n",
       "      <td>0.076750</td>\n",
       "      <td>19.625000</td>\n",
       "      <td>2.025000</td>\n",
       "      <td>0.015000</td>\n",
       "      <td>1.555000</td>\n",
       "      <td>...</td>\n",
       "      <td>0.034182</td>\n",
       "      <td>8.858960</td>\n",
       "      <td>0.903967</td>\n",
       "      <td>0.893499</td>\n",
       "      <td>6.477036</td>\n",
       "      <td>0.158652</td>\n",
       "      <td>0.481730</td>\n",
       "      <td>-1.000000</td>\n",
       "      <td>3.587118e-03</td>\n",
       "      <td>0.007283</td>\n",
       "    </tr>\n",
       "    <tr>\n",
       "      <th>75%</th>\n",
       "      <td>0.121650</td>\n",
       "      <td>0.138025</td>\n",
       "      <td>0.100175</td>\n",
       "      <td>0.207275</td>\n",
       "      <td>0.062050</td>\n",
       "      <td>0.153800</td>\n",
       "      <td>26.577500</td>\n",
       "      <td>4.935000</td>\n",
       "      <td>0.050000</td>\n",
       "      <td>3.712500</td>\n",
       "      <td>...</td>\n",
       "      <td>0.038572</td>\n",
       "      <td>15.000800</td>\n",
       "      <td>1.220734</td>\n",
       "      <td>1.195826</td>\n",
       "      <td>8.839010</td>\n",
       "      <td>0.279662</td>\n",
       "      <td>0.819767</td>\n",
       "      <td>0.000005</td>\n",
       "      <td>1.057792e-02</td>\n",
       "      <td>0.010420</td>\n",
       "    </tr>\n",
       "    <tr>\n",
       "      <th>max</th>\n",
       "      <td>0.166500</td>\n",
       "      <td>0.294000</td>\n",
       "      <td>0.234400</td>\n",
       "      <td>0.563000</td>\n",
       "      <td>0.111900</td>\n",
       "      <td>0.500000</td>\n",
       "      <td>53.530000</td>\n",
       "      <td>32.610000</td>\n",
       "      <td>0.590000</td>\n",
       "      <td>14.740000</td>\n",
       "      <td>...</td>\n",
       "      <td>0.058883</td>\n",
       "      <td>43.855657</td>\n",
       "      <td>1.852533</td>\n",
       "      <td>4.382540</td>\n",
       "      <td>16.642911</td>\n",
       "      <td>0.550778</td>\n",
       "      <td>1.431682</td>\n",
       "      <td>0.002234</td>\n",
       "      <td>2.167259e-01</td>\n",
       "      <td>0.046683</td>\n",
       "    </tr>\n",
       "  </tbody>\n",
       "</table>\n",
       "<p>8 rows × 34 columns</p>\n",
       "</div>"
      ],
      "text/plain": [
       "       total_threatened  mammals_threatened  insects_threatened  \\\n",
       "count         36.000000           36.000000           36.000000   \n",
       "mean           0.084056            0.101114            0.087264   \n",
       "std            0.043261            0.070868            0.051773   \n",
       "min            0.016700            0.000000            0.000000   \n",
       "25%            0.047375            0.050100            0.060475   \n",
       "50%            0.071400            0.089700            0.083700   \n",
       "75%            0.121650            0.138025            0.100175   \n",
       "max            0.166500            0.294000            0.234400   \n",
       "\n",
       "       amphibians_threatened  birds_threatened  reptiles_threatened  \\\n",
       "count              36.000000         36.000000            36.000000   \n",
       "mean                0.114533          0.051697             0.095097   \n",
       "std                 0.156417          0.021114             0.111864   \n",
       "min                 0.000000          0.016000             0.000000   \n",
       "25%                 0.000000          0.037575             0.000000   \n",
       "50%                 0.032150          0.044300             0.076750   \n",
       "75%                 0.207275          0.062050             0.153800   \n",
       "max                 0.563000          0.111900             0.500000   \n",
       "\n",
       "       perc_area_protected_all_obj  perc_area_protected_obj_2  \\\n",
       "count                    36.000000                  36.000000   \n",
       "mean                     21.890278                   4.285278   \n",
       "std                      10.988145                   6.315960   \n",
       "min                       5.640000                   0.000000   \n",
       "25%                      14.135000                   0.642500   \n",
       "50%                      19.625000                   2.025000   \n",
       "75%                      26.577500                   4.935000   \n",
       "max                      53.530000                  32.610000   \n",
       "\n",
       "       perc_area_protected_obj_3  perc_area_protected_obj_4  ...  temp_slope  \\\n",
       "count                  36.000000                  36.000000  ...   36.000000   \n",
       "mean                    0.058889                   2.898333  ...    0.032756   \n",
       "std                     0.117492                   3.546239  ...    0.012915   \n",
       "min                     0.000000                   0.010000  ...    0.006156   \n",
       "25%                     0.000000                   0.397500  ...    0.022128   \n",
       "50%                     0.015000                   1.555000  ...    0.034182   \n",
       "75%                     0.050000                   3.712500  ...    0.038572   \n",
       "max                     0.590000                  14.740000  ...    0.058883   \n",
       "\n",
       "       gain_percentage  temp_difference        CH4        CO2        HFC  \\\n",
       "count        36.000000        36.000000  36.000000  36.000000  36.000000   \n",
       "mean         10.010823         0.938828   1.156474   7.097104   0.144013   \n",
       "std          12.942997         0.446922   0.820514   3.919144   0.313502   \n",
       "min         -24.178355         0.072246   0.236113   1.278950  -1.000000   \n",
       "25%           3.639039         0.603596   0.740512   4.616156   0.103406   \n",
       "50%           8.858960         0.903967   0.893499   6.477036   0.158652   \n",
       "75%          15.000800         1.220734   1.195826   8.839010   0.279662   \n",
       "max          43.855657         1.852533   4.382540  16.642911   0.550778   \n",
       "\n",
       "             N2O        NF3           PFC        SF6  \n",
       "count  36.000000  36.000000  3.600000e+01  36.000000  \n",
       "mean    0.561717  -0.694300 -1.818770e-01  -0.046840  \n",
       "std     0.306269   0.467397  4.091898e-01   0.234670  \n",
       "min     0.092906  -1.000000 -1.000000e+00  -1.000000  \n",
       "25%     0.357740  -1.000000  9.067425e-07   0.002302  \n",
       "50%     0.481730  -1.000000  3.587118e-03   0.007283  \n",
       "75%     0.819767   0.000005  1.057792e-02   0.010420  \n",
       "max     1.431682   0.002234  2.167259e-01   0.046683  \n",
       "\n",
       "[8 rows x 34 columns]"
      ]
     },
     "execution_count": 31,
     "metadata": {},
     "output_type": "execute_result"
    }
   ],
   "source": [
    "#drop column that arbitraly occured during merging before\n",
    "full_threatened = full_threatened.drop(columns=['Unnamed: 0'])\n",
    "#descriptive satistics for our final data frame\n",
    "full_threatened.describe()"
   ]
  },
  {
   "cell_type": "markdown",
   "metadata": {},
   "source": [
    "# Trends"
   ]
  },
  {
   "cell_type": "markdown",
   "metadata": {},
   "source": [
    "## Preprocessing"
   ]
  },
  {
   "cell_type": "markdown",
   "metadata": {},
   "source": [
    "### Transform Trends to [-1, 1]"
   ]
  },
  {
   "cell_type": "code",
   "execution_count": 32,
   "metadata": {
    "ExecuteTime": {
     "end_time": "2021-01-25T17:05:57.968407Z",
     "start_time": "2021-01-25T17:05:57.848508Z"
    }
   },
   "outputs": [
    {
     "data": {
      "text/html": [
       "<div>\n",
       "<style scoped>\n",
       "    .dataframe tbody tr th:only-of-type {\n",
       "        vertical-align: middle;\n",
       "    }\n",
       "\n",
       "    .dataframe tbody tr th {\n",
       "        vertical-align: top;\n",
       "    }\n",
       "\n",
       "    .dataframe thead th {\n",
       "        text-align: right;\n",
       "    }\n",
       "</style>\n",
       "<table border=\"1\" class=\"dataframe\">\n",
       "  <thead>\n",
       "    <tr style=\"text-align: right;\">\n",
       "      <th></th>\n",
       "      <th>kingdom_class</th>\n",
       "      <th>common_name</th>\n",
       "      <th>scientific_name</th>\n",
       "      <th>trend</th>\n",
       "      <th>region</th>\n",
       "      <th>threat_level</th>\n",
       "      <th>Country</th>\n",
       "      <th>perc_area_protected_all_obj</th>\n",
       "      <th>perc_area_protected_obj_2</th>\n",
       "      <th>perc_area_protected_obj_3</th>\n",
       "      <th>...</th>\n",
       "      <th>gain_percentage</th>\n",
       "      <th>temp_difference</th>\n",
       "      <th>CH4</th>\n",
       "      <th>CO2</th>\n",
       "      <th>HFC</th>\n",
       "      <th>N2O</th>\n",
       "      <th>NF3</th>\n",
       "      <th>PFC</th>\n",
       "      <th>SF6</th>\n",
       "      <th>trend_num</th>\n",
       "    </tr>\n",
       "  </thead>\n",
       "  <tbody>\n",
       "    <tr>\n",
       "      <th>1</th>\n",
       "      <td>animalia — gastropoda</td>\n",
       "      <td>Lapidary Snail</td>\n",
       "      <td>Helicigona lapicida</td>\n",
       "      <td>Stable</td>\n",
       "      <td>Global, Europe</td>\n",
       "      <td>Least Concern</td>\n",
       "      <td>Netherlands</td>\n",
       "      <td>21.36</td>\n",
       "      <td>2.93</td>\n",
       "      <td>0.0</td>\n",
       "      <td>...</td>\n",
       "      <td>13.518773</td>\n",
       "      <td>1.279099</td>\n",
       "      <td>1.004478</td>\n",
       "      <td>9.295129</td>\n",
       "      <td>0.095269</td>\n",
       "      <td>0.484523</td>\n",
       "      <td>-1.0</td>\n",
       "      <td>0.00946</td>\n",
       "      <td>0.007178</td>\n",
       "      <td>0.0</td>\n",
       "    </tr>\n",
       "    <tr>\n",
       "      <th>2</th>\n",
       "      <td>animalia — gastropoda</td>\n",
       "      <td>Moss Chrysalis Snail</td>\n",
       "      <td>Pupilla muscorum</td>\n",
       "      <td>Decreasing</td>\n",
       "      <td>Global, Europe</td>\n",
       "      <td>Least Concern</td>\n",
       "      <td>Netherlands</td>\n",
       "      <td>21.36</td>\n",
       "      <td>2.93</td>\n",
       "      <td>0.0</td>\n",
       "      <td>...</td>\n",
       "      <td>13.518773</td>\n",
       "      <td>1.279099</td>\n",
       "      <td>1.004478</td>\n",
       "      <td>9.295129</td>\n",
       "      <td>0.095269</td>\n",
       "      <td>0.484523</td>\n",
       "      <td>-1.0</td>\n",
       "      <td>0.00946</td>\n",
       "      <td>0.007178</td>\n",
       "      <td>-1.0</td>\n",
       "    </tr>\n",
       "    <tr>\n",
       "      <th>5</th>\n",
       "      <td>animalia — mammalia</td>\n",
       "      <td>Lesser Horseshoe Bat</td>\n",
       "      <td>Rhinolophus hipposideros</td>\n",
       "      <td>Decreasing</td>\n",
       "      <td>Global</td>\n",
       "      <td>Least Concern</td>\n",
       "      <td>Netherlands</td>\n",
       "      <td>21.36</td>\n",
       "      <td>2.93</td>\n",
       "      <td>0.0</td>\n",
       "      <td>...</td>\n",
       "      <td>13.518773</td>\n",
       "      <td>1.279099</td>\n",
       "      <td>1.004478</td>\n",
       "      <td>9.295129</td>\n",
       "      <td>0.095269</td>\n",
       "      <td>0.484523</td>\n",
       "      <td>-1.0</td>\n",
       "      <td>0.00946</td>\n",
       "      <td>0.007178</td>\n",
       "      <td>-1.0</td>\n",
       "    </tr>\n",
       "    <tr>\n",
       "      <th>9</th>\n",
       "      <td>animalia — insecta</td>\n",
       "      <td>Ashton's Cuckoo Bumblebee</td>\n",
       "      <td>Bombus bohemicus</td>\n",
       "      <td>Decreasing</td>\n",
       "      <td>Global</td>\n",
       "      <td>Data Deficient</td>\n",
       "      <td>Netherlands</td>\n",
       "      <td>21.36</td>\n",
       "      <td>2.93</td>\n",
       "      <td>0.0</td>\n",
       "      <td>...</td>\n",
       "      <td>13.518773</td>\n",
       "      <td>1.279099</td>\n",
       "      <td>1.004478</td>\n",
       "      <td>9.295129</td>\n",
       "      <td>0.095269</td>\n",
       "      <td>0.484523</td>\n",
       "      <td>-1.0</td>\n",
       "      <td>0.00946</td>\n",
       "      <td>0.007178</td>\n",
       "      <td>-1.0</td>\n",
       "    </tr>\n",
       "    <tr>\n",
       "      <th>12</th>\n",
       "      <td>animalia — insecta</td>\n",
       "      <td>Variable Bluet</td>\n",
       "      <td>Coenagrion pulchellum</td>\n",
       "      <td>Stable</td>\n",
       "      <td>Global</td>\n",
       "      <td>Least Concern</td>\n",
       "      <td>Netherlands</td>\n",
       "      <td>21.36</td>\n",
       "      <td>2.93</td>\n",
       "      <td>0.0</td>\n",
       "      <td>...</td>\n",
       "      <td>13.518773</td>\n",
       "      <td>1.279099</td>\n",
       "      <td>1.004478</td>\n",
       "      <td>9.295129</td>\n",
       "      <td>0.095269</td>\n",
       "      <td>0.484523</td>\n",
       "      <td>-1.0</td>\n",
       "      <td>0.00946</td>\n",
       "      <td>0.007178</td>\n",
       "      <td>0.0</td>\n",
       "    </tr>\n",
       "  </tbody>\n",
       "</table>\n",
       "<p>5 rows × 36 columns</p>\n",
       "</div>"
      ],
      "text/plain": [
       "            kingdom_class                common_name  \\\n",
       "1   animalia — gastropoda             Lapidary Snail   \n",
       "2   animalia — gastropoda       Moss Chrysalis Snail   \n",
       "5     animalia — mammalia       Lesser Horseshoe Bat   \n",
       "9      animalia — insecta  Ashton's Cuckoo Bumblebee   \n",
       "12     animalia — insecta             Variable Bluet   \n",
       "\n",
       "             scientific_name       trend          region    threat_level  \\\n",
       "1        Helicigona lapicida      Stable  Global, Europe   Least Concern   \n",
       "2           Pupilla muscorum  Decreasing  Global, Europe   Least Concern   \n",
       "5   Rhinolophus hipposideros  Decreasing          Global   Least Concern   \n",
       "9           Bombus bohemicus  Decreasing          Global  Data Deficient   \n",
       "12     Coenagrion pulchellum      Stable          Global   Least Concern   \n",
       "\n",
       "        Country  perc_area_protected_all_obj  perc_area_protected_obj_2  \\\n",
       "1   Netherlands                        21.36                       2.93   \n",
       "2   Netherlands                        21.36                       2.93   \n",
       "5   Netherlands                        21.36                       2.93   \n",
       "9   Netherlands                        21.36                       2.93   \n",
       "12  Netherlands                        21.36                       2.93   \n",
       "\n",
       "    perc_area_protected_obj_3  ...  gain_percentage  temp_difference  \\\n",
       "1                         0.0  ...        13.518773         1.279099   \n",
       "2                         0.0  ...        13.518773         1.279099   \n",
       "5                         0.0  ...        13.518773         1.279099   \n",
       "9                         0.0  ...        13.518773         1.279099   \n",
       "12                        0.0  ...        13.518773         1.279099   \n",
       "\n",
       "         CH4       CO2       HFC       N2O  NF3      PFC       SF6  trend_num  \n",
       "1   1.004478  9.295129  0.095269  0.484523 -1.0  0.00946  0.007178        0.0  \n",
       "2   1.004478  9.295129  0.095269  0.484523 -1.0  0.00946  0.007178       -1.0  \n",
       "5   1.004478  9.295129  0.095269  0.484523 -1.0  0.00946  0.007178       -1.0  \n",
       "9   1.004478  9.295129  0.095269  0.484523 -1.0  0.00946  0.007178       -1.0  \n",
       "12  1.004478  9.295129  0.095269  0.484523 -1.0  0.00946  0.007178        0.0  \n",
       "\n",
       "[5 rows x 36 columns]"
      ]
     },
     "execution_count": 32,
     "metadata": {},
     "output_type": "execute_result"
    }
   ],
   "source": [
    "full_data = full_data.dropna()\n",
    "full_data = full_data.drop('Unnamed: 0', axis=1)\n",
    "full_data = full_data[full_data['trend'] != 'Unknown']\n",
    "full_data.loc[full_data['trend'] == 'Decreasing', 'trend_num'] = -1\n",
    "full_data.loc[full_data['trend'] == 'Stable', 'trend_num'] = 0\n",
    "full_data.loc[full_data['trend'] == 'Increasing', 'trend_num'] = 1\n",
    "full_data.head()"
   ]
  },
  {
   "cell_type": "code",
   "execution_count": 33,
   "metadata": {
    "ExecuteTime": {
     "end_time": "2021-01-25T17:05:57.972952Z",
     "start_time": "2021-01-25T17:05:57.970018Z"
    }
   },
   "outputs": [],
   "source": [
    "def z_score_normalize(full_data):\n",
    "    num_cols = []\n",
    "    for col in full_data.columns.values:\n",
    "        if full_data[col].dtype == float:\n",
    "            num_cols.append(col)\n",
    "    df_zscore = pd.DataFrame(zscore(full_data[num_cols], axis=1) , columns=num_cols)\n",
    "    return df_zscore"
   ]
  },
  {
   "cell_type": "markdown",
   "metadata": {},
   "source": [
    "## Analysis"
   ]
  },
  {
   "cell_type": "code",
   "execution_count": 34,
   "metadata": {
    "ExecuteTime": {
     "end_time": "2021-01-25T17:05:58.128959Z",
     "start_time": "2021-01-25T17:05:57.974583Z"
    }
   },
   "outputs": [
    {
     "data": {
      "text/plain": [
       "<AxesSubplot:>"
      ]
     },
     "execution_count": 34,
     "metadata": {},
     "output_type": "execute_result"
    },
    {
     "data": {
      "image/png": "[encoded data removed]",
      "text/plain": [
       "<Figure size 432x288 with 1 Axes>"
      ]
     },
     "metadata": {
      "needs_background": "light"
     },
     "output_type": "display_data"
    }
   ],
   "source": [
    "full_data['trend_num'].hist()"
   ]
  },
  {
   "cell_type": "markdown",
   "metadata": {},
   "source": [
    "## Correlations"
   ]
  },
  {
   "cell_type": "markdown",
   "metadata": {},
   "source": [
    "### Logistic Regression on Trend per Feature\n",
    "\n",
    "See: https://medium.com/@outside2SDs/an-overview-of-correlation-measures-between-categorical-and-continuous-variables-4c7f85610365#:~:text=A%20simple%20approach%20could%20be,variance%20of%20the%20continuous%20variable.&text=If%20the%20variables%20have%20no,similar%20to%20the%20original%20variance."
   ]
  },
  {
   "cell_type": "markdown",
   "metadata": {},
   "source": []
  },
  {
   "cell_type": "code",
   "execution_count": 35,
   "metadata": {
    "ExecuteTime": {
     "end_time": "2021-01-25T17:05:58.151324Z",
     "start_time": "2021-01-25T17:05:58.130654Z"
    }
   },
   "outputs": [],
   "source": [
    "full_data = full_data.dropna()"
   ]
  },
  {
   "cell_type": "code",
   "execution_count": 36,
   "metadata": {
    "ExecuteTime": {
     "end_time": "2021-01-25T17:05:58.163446Z",
     "start_time": "2021-01-25T17:05:58.152821Z"
    }
   },
   "outputs": [],
   "source": [
    "full_data = full_data[full_data['trend'] != 'Unknown']"
   ]
  },
  {
   "cell_type": "code",
   "execution_count": 37,
   "metadata": {
    "ExecuteTime": {
     "end_time": "2021-01-25T17:06:03.894310Z",
     "start_time": "2021-01-25T17:05:58.165291Z"
    }
   },
   "outputs": [
    {
     "name": "stdout",
     "output_type": "stream",
     "text": [
      "perc_area_protected_all_obj predictor accuracy: 0.4647477083868757\n",
      "perc_area_protected_obj_2 predictor accuracy: 0.46140666495331106\n",
      "perc_area_protected_obj_3 predictor accuracy: 0.46140666495331106\n",
      "perc_area_protected_obj_4 predictor accuracy: 0.46140666495331106\n",
      "perc_area_protected_obj_1a predictor accuracy: 0.46140666495331106\n",
      "perc_area_protected_obj_1b predictor accuracy: 0.46140666495331106\n",
      "perc_area_protected_no_obj predictor accuracy: 0.4651760472886147\n",
      "perc_area_protected_obj_5 predictor accuracy: 0.46269168165852825\n",
      "perc_area_protected_obj_6 predictor accuracy: 0.46140666495331106\n",
      "Artificial surfaces predictor accuracy: 0.46080699049087637\n",
      "Bare area predictor accuracy: 0.46140666495331106\n",
      "Cropland predictor accuracy: 0.46663239955452757\n",
      "Grassland predictor accuracy: 0.46140666495331106\n",
      "Inland water predictor accuracy: 0.46140666495331106\n",
      "Shrubland predictor accuracy: 0.46140666495331106\n",
      "Sparse vegetation predictor accuracy: 0.4778548787800908\n",
      "Tree cover predictor accuracy: 0.47280047973956996\n",
      "Wetland predictor accuracy: 0.459179302664268\n",
      "temp_slope predictor accuracy: 0.46140666495331106\n",
      "gain_percentage predictor accuracy: 0.45875096376252894\n",
      "temp_difference predictor accuracy: 0.45069819240983466\n",
      "CH4 predictor accuracy: 0.4604643193694851\n",
      "CO2 predictor accuracy: 0.47494217424826524\n",
      "HFC predictor accuracy: 0.4739141608840915\n",
      "N2O predictor accuracy: 0.4603786515891373\n",
      "NF3 predictor accuracy: 0.46140666495331106\n",
      "PFC predictor accuracy: 0.47674119763556927\n",
      "SF6 predictor accuracy: 0.4739141608840915\n",
      "trend_num predictor accuracy: 1.0\n"
     ]
    }
   ],
   "source": [
    "clf = LogisticRegression(random_state=RANDOM_STATE)\n",
    "runs = []\n",
    "for col in full_data.columns.values:\n",
    "    if (full_data[col].dtype == 'int64') | (full_data[col].dtype == 'float64'):\n",
    "        y = full_data['trend'].copy()\n",
    "        #y[y.isna()] = 'NULL'\n",
    "        X = full_data[col]\n",
    "        X_train, X_test, y_train, y_test = train_test_split(X,\n",
    "                                                    y,\n",
    "                                                    test_size=0.33, stratify=y,\n",
    "                                                    random_state=RANDOM_STATE, shuffle=True)\n",
    "        X_train = np.array(X_train).reshape(-1,1)\n",
    "        X_test =  np.array(X_test).reshape(-1,1)\n",
    "        y_train = np.array(y_train)\n",
    "        y_test = np.array(y_test)\n",
    "        clf.fit(X_train, y_train)\n",
    "        \n",
    "        y_hat = clf.predict(X_test)\n",
    "        acc = clf.score(X_test, y_test)\n",
    "        \n",
    "        entry = {'column': col, 'acc': acc, 'y': y_test, 'y_hat':y_hat}\n",
    "        runs.append(entry)\n",
    "        print('{} predictor accuracy: {}'.format(col, acc))\n",
    "    # acc_per_col[col] = "
   ]
  },
  {
   "cell_type": "code",
   "execution_count": 38,
   "metadata": {
    "ExecuteTime": {
     "end_time": "2021-01-25T17:06:03.903235Z",
     "start_time": "2021-01-25T17:06:03.895858Z"
    }
   },
   "outputs": [],
   "source": [
    "run_df = pd.DataFrame(runs) "
   ]
  },
  {
   "cell_type": "code",
   "execution_count": 39,
   "metadata": {
    "ExecuteTime": {
     "end_time": "2021-01-25T17:06:03.911389Z",
     "start_time": "2021-01-25T17:06:03.904703Z"
    }
   },
   "outputs": [
    {
     "name": "stdout",
     "output_type": "stream",
     "text": [
      "['Decreasing' 'Stable' 'Increasing' ... 'Decreasing' 'Stable' 'Stable']\n",
      "['Decreasing' 'Stable' 'Increasing' ... 'Decreasing' 'Stable' 'Stable']\n",
      "['Decreasing' 'Stable' 'Increasing' ... 'Decreasing' 'Stable' 'Stable']\n",
      "['Decreasing' 'Stable' 'Increasing' ... 'Decreasing' 'Stable' 'Stable']\n",
      "['Decreasing' 'Stable' 'Increasing' ... 'Decreasing' 'Stable' 'Stable']\n",
      "['Decreasing' 'Stable' 'Increasing' ... 'Decreasing' 'Stable' 'Stable']\n",
      "['Decreasing' 'Stable' 'Increasing' ... 'Decreasing' 'Stable' 'Stable']\n",
      "['Decreasing' 'Stable' 'Increasing' ... 'Decreasing' 'Stable' 'Stable']\n",
      "['Decreasing' 'Stable' 'Increasing' ... 'Decreasing' 'Stable' 'Stable']\n",
      "['Decreasing' 'Stable' 'Increasing' ... 'Decreasing' 'Stable' 'Stable']\n",
      "['Decreasing' 'Stable' 'Increasing' ... 'Decreasing' 'Stable' 'Stable']\n",
      "['Decreasing' 'Stable' 'Increasing' ... 'Decreasing' 'Stable' 'Stable']\n",
      "['Decreasing' 'Stable' 'Increasing' ... 'Decreasing' 'Stable' 'Stable']\n",
      "['Decreasing' 'Stable' 'Increasing' ... 'Decreasing' 'Stable' 'Stable']\n",
      "['Decreasing' 'Stable' 'Increasing' ... 'Decreasing' 'Stable' 'Stable']\n",
      "['Decreasing' 'Stable' 'Increasing' ... 'Decreasing' 'Stable' 'Stable']\n",
      "['Decreasing' 'Stable' 'Increasing' ... 'Decreasing' 'Stable' 'Stable']\n",
      "['Decreasing' 'Stable' 'Increasing' ... 'Decreasing' 'Stable' 'Stable']\n",
      "['Decreasing' 'Stable' 'Increasing' ... 'Decreasing' 'Stable' 'Stable']\n",
      "['Decreasing' 'Stable' 'Increasing' ... 'Decreasing' 'Stable' 'Stable']\n",
      "['Decreasing' 'Stable' 'Increasing' ... 'Decreasing' 'Stable' 'Stable']\n",
      "['Decreasing' 'Stable' 'Increasing' ... 'Decreasing' 'Stable' 'Stable']\n",
      "['Decreasing' 'Stable' 'Increasing' ... 'Decreasing' 'Stable' 'Stable']\n",
      "['Decreasing' 'Stable' 'Increasing' ... 'Decreasing' 'Stable' 'Stable']\n",
      "['Decreasing' 'Stable' 'Increasing' ... 'Decreasing' 'Stable' 'Stable']\n",
      "['Decreasing' 'Stable' 'Increasing' ... 'Decreasing' 'Stable' 'Stable']\n",
      "['Decreasing' 'Stable' 'Increasing' ... 'Decreasing' 'Stable' 'Stable']\n",
      "['Decreasing' 'Stable' 'Increasing' ... 'Decreasing' 'Stable' 'Stable']\n",
      "['Decreasing' 'Stable' 'Increasing' ... 'Decreasing' 'Stable' 'Stable']\n"
     ]
    },
    {
     "data": {
      "text/plain": [
       "0     None\n",
       "1     None\n",
       "2     None\n",
       "3     None\n",
       "4     None\n",
       "5     None\n",
       "6     None\n",
       "7     None\n",
       "8     None\n",
       "9     None\n",
       "10    None\n",
       "11    None\n",
       "12    None\n",
       "13    None\n",
       "14    None\n",
       "15    None\n",
       "16    None\n",
       "17    None\n",
       "18    None\n",
       "19    None\n",
       "20    None\n",
       "21    None\n",
       "22    None\n",
       "23    None\n",
       "24    None\n",
       "25    None\n",
       "26    None\n",
       "27    None\n",
       "28    None\n",
       "Name: y, dtype: object"
      ]
     },
     "execution_count": 39,
     "metadata": {},
     "output_type": "execute_result"
    }
   ],
   "source": [
    "run_df['y'].apply(lambda x: print(x))"
   ]
  },
  {
   "cell_type": "markdown",
   "metadata": {},
   "source": [
    "### Pearson Correlation\n"
   ]
  },
  {
   "cell_type": "code",
   "execution_count": 40,
   "metadata": {
    "ExecuteTime": {
     "end_time": "2021-01-25T17:06:04.140753Z",
     "start_time": "2021-01-25T17:06:03.913412Z"
    }
   },
   "outputs": [
    {
     "ename": "NameError",
     "evalue": "name 'zscore' is not defined",
     "output_type": "error",
     "traceback": [
      "\u001b[0;31m---------------------------------------------------------------------------\u001b[0m",
      "\u001b[0;31mNameError\u001b[0m                                 Traceback (most recent call last)",
      "\u001b[0;32m<ipython-input-40-330cb89a1a10>\u001b[0m in \u001b[0;36m<module>\u001b[0;34m\u001b[0m\n\u001b[1;32m      1\u001b[0m \u001b[0mdf_zscore\u001b[0m \u001b[0;34m=\u001b[0m \u001b[0mfull_data\u001b[0m\u001b[0;34m.\u001b[0m\u001b[0mcopy\u001b[0m\u001b[0;34m(\u001b[0m\u001b[0;34m)\u001b[0m\u001b[0;34m\u001b[0m\u001b[0;34m\u001b[0m\u001b[0m\n\u001b[1;32m      2\u001b[0m \u001b[0mdf_zscore\u001b[0m\u001b[0;34m[\u001b[0m\u001b[0;34m'trend'\u001b[0m\u001b[0;34m]\u001b[0m \u001b[0;34m=\u001b[0m \u001b[0mfull_data\u001b[0m\u001b[0;34m[\u001b[0m\u001b[0;34m'trend'\u001b[0m\u001b[0;34m]\u001b[0m\u001b[0;34m\u001b[0m\u001b[0;34m\u001b[0m\u001b[0m\n\u001b[0;32m----> 3\u001b[0;31m \u001b[0mdf_zscore\u001b[0m \u001b[0;34m=\u001b[0m \u001b[0mz_score_normalize\u001b[0m\u001b[0;34m(\u001b[0m\u001b[0mdf_zscore\u001b[0m\u001b[0;34m)\u001b[0m\u001b[0;34m\u001b[0m\u001b[0;34m\u001b[0m\u001b[0m\n\u001b[0m",
      "\u001b[0;32m<ipython-input-33-b298f8dbf545>\u001b[0m in \u001b[0;36mz_score_normalize\u001b[0;34m(full_data)\u001b[0m\n\u001b[1;32m      4\u001b[0m         \u001b[0;32mif\u001b[0m \u001b[0mfull_data\u001b[0m\u001b[0;34m[\u001b[0m\u001b[0mcol\u001b[0m\u001b[0;34m]\u001b[0m\u001b[0;34m.\u001b[0m\u001b[0mdtype\u001b[0m \u001b[0;34m==\u001b[0m \u001b[0mfloat\u001b[0m\u001b[0;34m:\u001b[0m\u001b[0;34m\u001b[0m\u001b[0;34m\u001b[0m\u001b[0m\n\u001b[1;32m      5\u001b[0m             \u001b[0mnum_cols\u001b[0m\u001b[0;34m.\u001b[0m\u001b[0mappend\u001b[0m\u001b[0;34m(\u001b[0m\u001b[0mcol\u001b[0m\u001b[0;34m)\u001b[0m\u001b[0;34m\u001b[0m\u001b[0;34m\u001b[0m\u001b[0m\n\u001b[0;32m----> 6\u001b[0;31m     \u001b[0mdf_zscore\u001b[0m \u001b[0;34m=\u001b[0m \u001b[0mpd\u001b[0m\u001b[0;34m.\u001b[0m\u001b[0mDataFrame\u001b[0m\u001b[0;34m(\u001b[0m\u001b[0mzscore\u001b[0m\u001b[0;34m(\u001b[0m\u001b[0mfull_data\u001b[0m\u001b[0;34m[\u001b[0m\u001b[0mnum_cols\u001b[0m\u001b[0;34m]\u001b[0m\u001b[0;34m,\u001b[0m \u001b[0maxis\u001b[0m\u001b[0;34m=\u001b[0m\u001b[0;36m1\u001b[0m\u001b[0;34m)\u001b[0m \u001b[0;34m,\u001b[0m \u001b[0mcolumns\u001b[0m\u001b[0;34m=\u001b[0m\u001b[0mnum_cols\u001b[0m\u001b[0;34m)\u001b[0m\u001b[0;34m\u001b[0m\u001b[0;34m\u001b[0m\u001b[0m\n\u001b[0m\u001b[1;32m      7\u001b[0m     \u001b[0;32mreturn\u001b[0m \u001b[0mdf_zscore\u001b[0m\u001b[0;34m\u001b[0m\u001b[0;34m\u001b[0m\u001b[0m\n",
      "\u001b[0;31mNameError\u001b[0m: name 'zscore' is not defined"
     ]
    }
   ],
   "source": [
    "df_zscore = full_data.copy()\n",
    "df_zscore['trend'] = full_data['trend']\n",
    "df_zscore = z_score_normalize(df_zscore)\n"
   ]
  },
  {
   "cell_type": "code",
   "execution_count": null,
   "metadata": {
    "ExecuteTime": {
     "end_time": "2021-01-25T17:06:04.142892Z",
     "start_time": "2021-01-25T17:05:55.728Z"
    }
   },
   "outputs": [],
   "source": [
    "df_zscore.describe()\n"
   ]
  },
  {
   "cell_type": "markdown",
   "metadata": {},
   "source": [
    "#### Plot Correlation Matrix"
   ]
  },
  {
   "cell_type": "code",
   "execution_count": null,
   "metadata": {
    "ExecuteTime": {
     "end_time": "2021-01-25T17:06:04.144134Z",
     "start_time": "2021-01-25T17:05:55.730Z"
    }
   },
   "outputs": [],
   "source": [
    "correlation_matrix =  df_zscore.corr(method= 'pearson')\n",
    "#visualization of the correlation matrix as heatmap\n",
    "\n",
    "# Set up the matplotlib figure\n",
    "f, ax = plt.subplots(figsize=(11, 9))\n",
    "ax.set_title('Correlation heatmap')\n",
    "\n",
    "# Generate a custom diverging colormap\n",
    "cmap = sns.diverging_palette(230, 20, as_cmap=True)\n",
    "\n",
    "# Generate a mask for the upper triangle\n",
    "mask = np.triu(np.ones_like(correlation_matrix, dtype=bool))\n",
    "\n",
    "# create heatmap\n",
    "sns.heatmap(correlation_matrix, mask=mask,  cmap=cmap, vmin=-1, vmax=1, center=0)\n",
    "plt.show()"
   ]
  },
  {
   "cell_type": "markdown",
   "metadata": {},
   "source": [
    "## Modelling"
   ]
  },
  {
   "cell_type": "markdown",
   "metadata": {},
   "source": [
    "### Group Data by Country and Kingdom. Mean aggregate"
   ]
  },
  {
   "cell_type": "code",
   "execution_count": null,
   "metadata": {
    "ExecuteTime": {
     "end_time": "2021-01-25T17:06:04.145840Z",
     "start_time": "2021-01-25T17:05:55.743Z"
    }
   },
   "outputs": [],
   "source": [
    "by_country_kingdom = full_data.groupby(['kingdom_class', 'Country']).mean()\n",
    "by_country_kingdom = by_country_kingdom.reset_index(drop=False)"
   ]
  },
  {
   "cell_type": "code",
   "execution_count": null,
   "metadata": {
    "ExecuteTime": {
     "end_time": "2021-01-25T17:06:04.147428Z",
     "start_time": "2021-01-25T17:05:55.744Z"
    }
   },
   "outputs": [],
   "source": [
    "by_country_kingdom['trend_num'].hist()\n"
   ]
  },
  {
   "cell_type": "markdown",
   "metadata": {},
   "source": [
    "### Rescale to [-1, 1]"
   ]
  },
  {
   "cell_type": "code",
   "execution_count": null,
   "metadata": {
    "ExecuteTime": {
     "end_time": "2021-01-25T17:06:04.149126Z",
     "start_time": "2021-01-25T17:05:55.747Z"
    }
   },
   "outputs": [],
   "source": [
    "scaler = MinMaxScaler(feature_range=(-1,1))\n",
    "by_country_kingdom['trend_num'] = scaler.fit_transform(np.array(by_country_kingdom['trend_num']).reshape(-1, 1))"
   ]
  },
  {
   "cell_type": "code",
   "execution_count": null,
   "metadata": {
    "ExecuteTime": {
     "end_time": "2021-01-25T17:06:04.150318Z",
     "start_time": "2021-01-25T17:05:55.748Z"
    }
   },
   "outputs": [],
   "source": [
    "by_country_kingdom['trend_num'].hist()\n"
   ]
  },
  {
   "cell_type": "code",
   "execution_count": null,
   "metadata": {
    "ExecuteTime": {
     "end_time": "2021-01-25T17:06:04.151521Z",
     "start_time": "2021-01-25T17:05:55.750Z"
    }
   },
   "outputs": [],
   "source": [
    "by_country_kingdom['kingdom_class'].unique()\n"
   ]
  },
  {
   "cell_type": "code",
   "execution_count": null,
   "metadata": {
    "ExecuteTime": {
     "end_time": "2021-01-25T17:06:04.152854Z",
     "start_time": "2021-01-25T17:05:55.752Z"
    }
   },
   "outputs": [],
   "source": [
    "enc = OneHotEncoder(handle_unknown='ignore')\n",
    "enc.fit(by_country_kingdom[['kingdom_class', 'Country']])"
   ]
  },
  {
   "cell_type": "code",
   "execution_count": null,
   "metadata": {
    "ExecuteTime": {
     "end_time": "2021-01-25T17:06:04.154042Z",
     "start_time": "2021-01-25T17:05:55.753Z"
    }
   },
   "outputs": [],
   "source": [
    "enc.transform(by_country_kingdom[['kingdom_class', 'Country']])\n"
   ]
  },
  {
   "cell_type": "code",
   "execution_count": null,
   "metadata": {
    "ExecuteTime": {
     "end_time": "2021-01-25T17:06:04.155011Z",
     "start_time": "2021-01-25T17:05:55.755Z"
    }
   },
   "outputs": [],
   "source": [
    "by_country_kingdom.drop(['kingdom_class', 'Country'], axis=1).describe()\n"
   ]
  },
  {
   "cell_type": "markdown",
   "metadata": {},
   "source": [
    "# Relative Threatened Species"
   ]
  },
  {
   "cell_type": "markdown",
   "metadata": {},
   "source": [
    "## Check correlation of our features and target values for the relative threatened species by country and group "
   ]
  },
  {
   "cell_type": "markdown",
   "metadata": {},
   "source": [
    "For our correlation analysis, we exclude our non continuous variables (the binary value whether a taxonomic group has records for that specific country)"
   ]
  },
  {
   "cell_type": "code",
   "execution_count": null,
   "metadata": {
    "ExecuteTime": {
     "end_time": "2021-01-25T17:06:04.156251Z",
     "start_time": "2021-01-25T17:05:55.758Z"
    }
   },
   "outputs": [],
   "source": [
    "full_threatened_corr = full_threatened.copy()\n",
    "full_threatened_corr = full_threatened.drop(columns=['mammals_resident', 'insects_resident', \"amphibians_resident\", \"birds_resident\", \"reptiles_resident\"])"
   ]
  },
  {
   "cell_type": "code",
   "execution_count": null,
   "metadata": {
    "ExecuteTime": {
     "end_time": "2021-01-25T17:06:04.157290Z",
     "start_time": "2021-01-25T17:05:55.761Z"
    },
    "scrolled": true
   },
   "outputs": [],
   "source": [
    "#full correlation matrix to also get an overview of correlations between different features\n",
    "full_threatened_corr.corr(method= 'pearson')"
   ]
  },
  {
   "cell_type": "code",
   "execution_count": null,
   "metadata": {
    "ExecuteTime": {
     "end_time": "2021-01-25T17:06:04.158242Z",
     "start_time": "2021-01-25T17:05:55.763Z"
    }
   },
   "outputs": [],
   "source": [
    "#visualization of the correlation matrix as heatmap\n",
    "\n",
    "# Set up the matplotlib figure\n",
    "f, ax = plt.subplots(figsize=(11, 9))\n",
    "ax.set_title('Correlation heatmap')\n",
    "\n",
    "# Generate a custom diverging colormap\n",
    "cmap = sns.diverging_palette(230, 20, as_cmap=True)\n",
    "\n",
    "# Generate a mask for the upper triangle\n",
    "mask = np.triu(np.ones_like(correlation_matrix, dtype=bool))\n",
    "\n",
    "# create heatmap\n",
    "sns.heatmap(correlation_matrix, mask=mask, cmap=cmap, vmin=-1, vmax=1, center=0)\n",
    "plt.show()"
   ]
  },
  {
   "cell_type": "markdown",
   "metadata": {},
   "source": [
    "To get a better overview of our targets we calculate the correlation of the features with each target separately"
   ]
  },
  {
   "cell_type": "code",
   "execution_count": null,
   "metadata": {
    "ExecuteTime": {
     "end_time": "2021-01-25T17:06:04.159189Z",
     "start_time": "2021-01-25T17:05:55.765Z"
    },
    "scrolled": true
   },
   "outputs": [],
   "source": [
    "#pearsons rho for the correlation of the values for all groups with our features\n",
    "for col in full_threatened_corr:\n",
    "    target = 'total_threatened'\n",
    "    exclude =  ['Country','total_threatened', 'mammals_threatened', 'insects_threatened', 'amphibians_threatened','birds_threatened', 'reptiles_threatened']\n",
    "    correlations = {}\n",
    "    if col not in exclude:\n",
    "        correlations[col + ' pearsons correlation with ' + target] = round(full_threatened_corr[col].corr(full_threatened_corr[target]),5)\n",
    "        print(correlations)"
   ]
  },
  {
   "cell_type": "code",
   "execution_count": null,
   "metadata": {
    "ExecuteTime": {
     "end_time": "2021-01-25T17:06:04.160523Z",
     "start_time": "2021-01-25T17:05:55.767Z"
    },
    "scrolled": true
   },
   "outputs": [],
   "source": [
    "#pearsons rho for the correlation of the threatened mammals with our features\n",
    "for col in full_threatened_corr:\n",
    "    target = 'mammals_threatened'\n",
    "    exclude =  ['Country','total_threatened', 'mammals_threatened', 'insects_threatened', 'amphibians_threatened','birds_threatened', 'reptiles_threatened']\n",
    "    correlations = {}\n",
    "    if col not in exclude:\n",
    "        correlations[col + ' pearsons correlation with ' + target] = round(full_threatened_corr[col].corr(full_threatened_corr[target]),5)\n",
    "        print(correlations)"
   ]
  },
  {
   "cell_type": "code",
   "execution_count": null,
   "metadata": {
    "ExecuteTime": {
     "end_time": "2021-01-25T17:06:04.161815Z",
     "start_time": "2021-01-25T17:05:55.768Z"
    },
    "scrolled": true
   },
   "outputs": [],
   "source": [
    "#pearsons rho for the correlation of the threatened insects with our features\n",
    "for col in full_threatened_corr:\n",
    "    target = 'insects_threatened'\n",
    "    exclude =  ['Country','total_threatened', 'mammals_threatened', 'insects_threatened', 'amphibians_threatened','birds_threatened', 'reptiles_threatened']\n",
    "    correlations = {}\n",
    "    if col not in exclude:\n",
    "        correlations[col + ' pearsons correlation with ' + target] = round(full_threatened_corr[col].corr(full_threatened_corr[target]),5)\n",
    "        print(correlations)"
   ]
  },
  {
   "cell_type": "code",
   "execution_count": null,
   "metadata": {
    "ExecuteTime": {
     "end_time": "2021-01-25T17:06:04.162722Z",
     "start_time": "2021-01-25T17:05:55.770Z"
    },
    "scrolled": true
   },
   "outputs": [],
   "source": [
    "#pearsons rho for the correlation of the threatened amphibians with our features\n",
    "for col in full_threatened_corr:\n",
    "    target = 'amphibians_threatened'\n",
    "    exclude =  ['Country','total_threatened', 'mammals_threatened', 'insects_threatened', 'amphibians_threatened','birds_threatened', 'reptiles_threatened']\n",
    "    correlations = {}\n",
    "    if col not in exclude:\n",
    "        correlations[col + ' pearsons correlation with ' + target] = round(full_threatened_corr[col].corr(full_threatened_corr[target]),5)\n",
    "        print(correlations)"
   ]
  },
  {
   "cell_type": "code",
   "execution_count": null,
   "metadata": {
    "ExecuteTime": {
     "end_time": "2021-01-25T17:06:04.163597Z",
     "start_time": "2021-01-25T17:05:55.772Z"
    },
    "scrolled": true
   },
   "outputs": [],
   "source": [
    "#pearsons rho for the correlation of the threatened birds with our features\n",
    "for col in full_threatened_corr:\n",
    "    target = 'birds_threatened'\n",
    "    exclude =  ['Country','total_threatened', 'mammals_threatened', 'insects_threatened', 'amphibians_threatened','birds_threatened', 'reptiles_threatened']\n",
    "    correlations = {}\n",
    "    if col not in exclude:\n",
    "        correlations[col + ' pearsons correlation with ' + target] = round(full_threatened_corr[col].corr(full_threatened_corr[target]),5)\n",
    "        print(correlations)"
   ]
  },
  {
   "cell_type": "code",
   "execution_count": null,
   "metadata": {
    "ExecuteTime": {
     "end_time": "2021-01-25T17:06:04.164638Z",
     "start_time": "2021-01-25T17:05:55.774Z"
    },
    "scrolled": true
   },
   "outputs": [],
   "source": [
    "#pearsons rho for the correlation of the threatened reptiles with our features\n",
    "for col in full_threatened_corr:\n",
    "    target = 'reptiles_threatened'\n",
    "    exclude =  ['Country','total_threatened', 'mammals_threatened', 'insects_threatened', 'amphibians_threatened','birds_threatened', 'reptiles_threatened']\n",
    "    correlations = {}\n",
    "    if col not in exclude:\n",
    "        correlations[col + ' pearsons correlation with ' + target] = round(full_threatened_corr[col].corr(full_threatened_corr[target]),5)\n",
    "        print(correlations)"
   ]
  },
  {
   "cell_type": "markdown",
   "metadata": {},
   "source": [
    "### Conclusion\n",
    "We can see many major difference between the groups regarding the correlation to each feature. One thing that can be seen is that sparse vegetation correlates stronger with the number of threatened mammals than with any other group. Overall we can see the highest positive correlation for the amount of shrubland of a country and the highest negative correlation for nitrous oxide. As we divided the features into four groups (protected areas, land cover, temperature and greenhouse gases), we can see that for every group we have at least some variables that contributed to the prediction of our targets, so we decide to keep those four groups for our model building process and start with the full model."
   ]
  }
 ],
 "metadata": {
  "kernelspec": {
   "display_name": "Python 3",
   "language": "python",
   "name": "python3"
  },
  "language_info": {
   "codemirror_mode": {
    "name": "ipython",
    "version": 3
   },
   "file_extension": ".py",
   "mimetype": "text/x-python",
   "name": "python",
   "nbconvert_exporter": "python",
   "pygments_lexer": "ipython3",
   "version": "3.7.9"
  }
 },
 "nbformat": 4,
 "nbformat_minor": 4
}
