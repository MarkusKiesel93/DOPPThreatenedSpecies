{
 "cells": [
  {
   "cell_type": "markdown",
   "metadata": {},
   "source": [
    "# Merge Datasets and Analysis"
   ]
  },
  {
   "cell_type": "markdown",
   "metadata": {},
   "source": [
    "# General"
   ]
  },
  {
   "cell_type": "markdown",
   "metadata": {},
   "source": [
    "## Imports"
   ]
  },
  {
   "cell_type": "code",
   "execution_count": 1,
   "metadata": {
    "ExecuteTime": {
     "end_time": "2021-01-21T18:08:05.501161Z",
     "start_time": "2021-01-21T18:08:04.424488Z"
    }
   },
   "outputs": [],
   "source": [
    "import os\n",
    "import pandas as pd\n",
    "import numpy as np\n",
    "import seaborn as sns\n",
    "from sklearn.linear_model import LogisticRegression\n",
    "from sklearn.model_selection import train_test_split"
   ]
  },
  {
   "cell_type": "markdown",
   "metadata": {},
   "source": [
    "## Constants"
   ]
  },
  {
   "cell_type": "code",
   "execution_count": 2,
   "metadata": {
    "ExecuteTime": {
     "end_time": "2021-01-21T18:08:05.505407Z",
     "start_time": "2021-01-21T18:08:05.503117Z"
    }
   },
   "outputs": [],
   "source": [
    "PATH_PROTECED_AREA = 'data/OECD/protected_areas_2020.csv'\n",
    "PATH_LAND_COVER = 'data/OECD/LAND_COVER_2018_DATA.csv'\n",
    "PATH_AIR = 'data/OECD/greenhouse_gases_2020_pred.csv'\n",
    "PATH_CLIMATE = 'data/climate/climate_features.csv'\n",
    "PATH_IUCN = 'data/IUCN/scraped'\n",
    "PATH_IUCN_REL = 'data/IUCN/THREATENED_RELATIVE.csv'\n",
    "PATHS_COUN = [PATH_PROTECED_AREA, PATH_LAND_COVER, PATH_CLIMATE, PATH_AIR] # AIR IS MISSING\n",
    "RANDOM_STATE = 42"
   ]
  },
  {
   "cell_type": "markdown",
   "metadata": {},
   "source": [
    "# IUCN Data"
   ]
  },
  {
   "cell_type": "markdown",
   "metadata": {
    "heading_collapsed": true
   },
   "source": [
    "## Load and Concatenate"
   ]
  },
  {
   "cell_type": "code",
   "execution_count": 3,
   "metadata": {
    "ExecuteTime": {
     "end_time": "2021-01-21T18:08:05.830232Z",
     "start_time": "2021-01-21T18:08:05.510661Z"
    },
    "hidden": true
   },
   "outputs": [],
   "source": [
    "iucn_list = []\n",
    "for _, _, files in os.walk(PATH_IUCN):\n",
    "    for file in files:\n",
    "        temp = pd.read_csv(PATH_IUCN + '/' + file)\n",
    "        temp['Country'] = file.split('.csv')[0]\n",
    "        iucn_list.append(temp)\n",
    "iucn_data = pd.concat(iucn_list)"
   ]
  },
  {
   "cell_type": "markdown",
   "metadata": {},
   "source": [
    "## Analysis"
   ]
  },
  {
   "cell_type": "markdown",
   "metadata": {},
   "source": [
    "### General Information"
   ]
  },
  {
   "cell_type": "code",
   "execution_count": 4,
   "metadata": {
    "ExecuteTime": {
     "end_time": "2021-01-21T18:08:05.869327Z",
     "start_time": "2021-01-21T18:08:05.831838Z"
    }
   },
   "outputs": [
    {
     "name": "stdout",
     "output_type": "stream",
     "text": [
      "<class 'pandas.core.frame.DataFrame'>\n",
      "Int64Index: 136624 entries, 0 to 1128\n",
      "Data columns (total 7 columns):\n",
      " #   Column           Non-Null Count   Dtype \n",
      "---  ------           --------------   ----- \n",
      " 0   kingdom_class    136624 non-null  object\n",
      " 1   common_name      93221 non-null   object\n",
      " 2   scientific_name  136624 non-null  object\n",
      " 3   trend            133638 non-null  object\n",
      " 4   region           136624 non-null  object\n",
      " 5   threat_level     136624 non-null  object\n",
      " 6   Country          136624 non-null  object\n",
      "dtypes: object(7)\n",
      "memory usage: 8.3+ MB\n"
     ]
    }
   ],
   "source": [
    "iucn_data.info()"
   ]
  },
  {
   "cell_type": "markdown",
   "metadata": {},
   "source": [
    "### Check Uniue Values"
   ]
  },
  {
   "cell_type": "code",
   "execution_count": 5,
   "metadata": {
    "ExecuteTime": {
     "end_time": "2021-01-21T18:08:05.942733Z",
     "start_time": "2021-01-21T18:08:05.872299Z"
    }
   },
   "outputs": [
    {
     "name": "stdout",
     "output_type": "stream",
     "text": [
      "Column >>kingdom_class<< contains 32 unique values.\n",
      "Column >>common_name<< contains 30138 unique values.\n",
      "Column >>scientific_name<< contains 52327 unique values.\n",
      "Column >>trend<< contains 4 unique values.\n",
      "Column >>region<< contains 13 unique values.\n",
      "Column >>threat_level<< contains 9 unique values.\n",
      "Column >>Country<< contains 65 unique values.\n"
     ]
    }
   ],
   "source": [
    "for c in iucn_data.columns:\n",
    "    print('Column >>{}<< contains {} unique values.'.format(c, iucn_data[c].nunique()))"
   ]
  },
  {
   "cell_type": "markdown",
   "metadata": {},
   "source": [
    "### Explore Columns Containing NULL Values"
   ]
  },
  {
   "cell_type": "markdown",
   "metadata": {
    "heading_collapsed": true
   },
   "source": [
    "#### common_name"
   ]
  },
  {
   "cell_type": "code",
   "execution_count": 6,
   "metadata": {
    "ExecuteTime": {
     "end_time": "2021-01-21T18:08:05.959159Z",
     "start_time": "2021-01-21T18:08:05.944932Z"
    },
    "hidden": true
   },
   "outputs": [
    {
     "name": "stdout",
     "output_type": "stream",
     "text": [
      "common_name contains 30138 unique values.\n"
     ]
    }
   ],
   "source": [
    "print('common_name contains {} unique values.'.format(\n",
    "    iucn_data['common_name'].nunique()))"
   ]
  },
  {
   "cell_type": "code",
   "execution_count": 7,
   "metadata": {
    "ExecuteTime": {
     "end_time": "2021-01-21T18:08:05.969229Z",
     "start_time": "2021-01-21T18:08:05.960853Z"
    },
    "hidden": true
   },
   "outputs": [
    {
     "name": "stdout",
     "output_type": "stream",
     "text": [
      "43403 entries have missing values for the common_name column.\n"
     ]
    }
   ],
   "source": [
    "print('{} entries have missing values for the common_name column.'.format(\n",
    "    iucn_data['common_name'].isna().sum()))"
   ]
  },
  {
   "cell_type": "code",
   "execution_count": 8,
   "metadata": {
    "ExecuteTime": {
     "end_time": "2021-01-21T18:08:05.983236Z",
     "start_time": "2021-01-21T18:08:05.970952Z"
    },
    "hidden": true
   },
   "outputs": [],
   "source": [
    "i_null_cn = iucn_data[iucn_data['common_name'].isna()].index"
   ]
  },
  {
   "cell_type": "markdown",
   "metadata": {
    "hidden": true
   },
   "source": [
    "--> These missing values can probably be neglected, because we can use the scientific name as identifier."
   ]
  },
  {
   "cell_type": "markdown",
   "metadata": {
    "heading_collapsed": true
   },
   "source": [
    "#### trend"
   ]
  },
  {
   "cell_type": "code",
   "execution_count": 9,
   "metadata": {
    "ExecuteTime": {
     "end_time": "2021-01-21T18:08:06.001884Z",
     "start_time": "2021-01-21T18:08:05.985138Z"
    },
    "hidden": true
   },
   "outputs": [
    {
     "name": "stdout",
     "output_type": "stream",
     "text": [
      "trend contains 4 unique values, which are: ['Unknown' 'Stable' 'Decreasing' nan 'Increasing'].\n"
     ]
    }
   ],
   "source": [
    "print('trend contains {} unique values, which are: {}.'.format(\n",
    "    iucn_data['trend'].nunique(), iucn_data['trend'].unique()))"
   ]
  },
  {
   "cell_type": "code",
   "execution_count": 10,
   "metadata": {
    "ExecuteTime": {
     "end_time": "2021-01-21T18:08:06.010967Z",
     "start_time": "2021-01-21T18:08:06.003671Z"
    },
    "hidden": true
   },
   "outputs": [
    {
     "name": "stdout",
     "output_type": "stream",
     "text": [
      "2986 entries have missing values for the trend column.\n"
     ]
    }
   ],
   "source": [
    "print('{} entries have missing values for the trend column.'.format(\n",
    "    iucn_data['trend'].isna().sum()))"
   ]
  },
  {
   "cell_type": "code",
   "execution_count": 11,
   "metadata": {
    "ExecuteTime": {
     "end_time": "2021-01-21T18:08:06.187871Z",
     "start_time": "2021-01-21T18:08:06.012871Z"
    },
    "hidden": true
   },
   "outputs": [
    {
     "data": {
      "text/plain": [
       "<AxesSubplot:>"
      ]
     },
     "execution_count": 11,
     "metadata": {},
     "output_type": "execute_result"
    },
    {
     "data": {
      "image/png": "[encoded data removed]",
      "text/plain": [
       "<Figure size 432x288 with 1 Axes>"
      ]
     },
     "metadata": {
      "needs_background": "light"
     },
     "output_type": "display_data"
    }
   ],
   "source": [
    "temp_iucn = iucn_data.copy()\n",
    "temp_iucn.loc[temp_iucn['trend'].isna(), 'trend'] = 'NULL'\n",
    "temp_iucn['trend'].hist()"
   ]
  },
  {
   "cell_type": "code",
   "execution_count": 12,
   "metadata": {
    "ExecuteTime": {
     "end_time": "2021-01-21T18:08:06.212539Z",
     "start_time": "2021-01-21T18:08:06.189457Z"
    },
    "hidden": true
   },
   "outputs": [
    {
     "name": "stdout",
     "output_type": "stream",
     "text": [
      "The dataset contains 68333 entries with available trend information (not Null or Unknown).\n"
     ]
    }
   ],
   "source": [
    "print(\n",
    "    'The dataset contains {} entries with available trend information (not Null or Unknown).'\n",
    "    .format(\n",
    "        len(iucn_data[(iucn_data['trend'].isna() == False)\n",
    "                      & (iucn_data['trend'] != 'Unknown')])))"
   ]
  },
  {
   "cell_type": "markdown",
   "metadata": {
    "hidden": true
   },
   "source": [
    "**NOTE: This is an issue and we have to think about a strategy how to deal with these missing/unknown values.**\n",
    "Maybe we can check if these entries have some special characteristics."
   ]
  },
  {
   "cell_type": "markdown",
   "metadata": {
    "heading_collapsed": true
   },
   "source": [
    "# Country Characteristics Data"
   ]
  },
  {
   "cell_type": "markdown",
   "metadata": {
    "hidden": true
   },
   "source": [
    "## Load and Merge"
   ]
  },
  {
   "cell_type": "code",
   "execution_count": 13,
   "metadata": {
    "ExecuteTime": {
     "end_time": "2021-01-21T18:08:06.227585Z",
     "start_time": "2021-01-21T18:08:06.214328Z"
    },
    "hidden": true
   },
   "outputs": [
    {
     "name": "stdout",
     "output_type": "stream",
     "text": [
      "data/OECD/protected_areas_2020.csv\n",
      "data/OECD/LAND_COVER_2018_DATA.csv\n",
      "data/climate/climate_features.csv\n",
      "data/OECD/greenhouse_gases_2020_pred.csv\n"
     ]
    }
   ],
   "source": [
    "coun_list = []\n",
    "country_sets = []\n",
    "for file in PATHS_COUN:\n",
    "    print(file)\n",
    "    temp = pd.read_csv(file)\n",
    "    coun_list.append(temp)\n",
    "    country_sets.append(set(temp['Country']))"
   ]
  },
  {
   "cell_type": "code",
   "execution_count": 14,
   "metadata": {
    "ExecuteTime": {
     "end_time": "2021-01-21T18:08:06.232538Z",
     "start_time": "2021-01-21T18:08:06.229290Z"
    },
    "hidden": true
   },
   "outputs": [
    {
     "name": "stdout",
     "output_type": "stream",
     "text": [
      "The Country Characterisitcs Datasets contain 42 intersecting countries, which are: {'Germany', 'France', 'Finland', 'United States', 'Austria', 'New Zealand', 'Slovenia', 'India', 'Korea', 'Ireland', 'Colombia', 'Italy', 'Norway', 'Switzerland', 'Latvia', 'Luxembourg', 'Sweden', 'Mexico', 'Denmark', 'Belgium', 'Estonia', 'Hungary', 'Iceland', 'Spain', 'Brazil', 'Canada', 'Australia', 'Poland', 'Russia', 'Israel', 'Lithuania', 'Japan', 'Greece', 'Chile', 'Netherlands', 'Costa Rica', 'Czech Republic', 'Slovak Republic', 'Argentina', 'Portugal', 'Indonesia', 'United Kingdom'}\n"
     ]
    }
   ],
   "source": [
    "intersect_countries = country_sets[0].intersection(\n",
    "    country_sets[1], country_sets[2], country_sets[3])  ## add country_sets[3]\n",
    "print(\n",
    "    'The Country Characterisitcs Datasets contain {} intersecting countries, which are: {}'\n",
    "    .format(len(intersect_countries), intersect_countries))"
   ]
  },
  {
   "cell_type": "markdown",
   "metadata": {
    "ExecuteTime": {
     "end_time": "2021-01-15T10:01:20.723162Z",
     "start_time": "2021-01-15T10:01:20.706359Z"
    },
    "hidden": true
   },
   "source": [
    "--> Join Datasets on those countries."
   ]
  },
  {
   "cell_type": "code",
   "execution_count": 15,
   "metadata": {
    "ExecuteTime": {
     "end_time": "2021-01-21T18:08:06.263118Z",
     "start_time": "2021-01-21T18:08:06.234338Z"
    },
    "hidden": true
   },
   "outputs": [
    {
     "data": {
      "text/html": [
       "<div>\n",
       "<style scoped>\n",
       "    .dataframe tbody tr th:only-of-type {\n",
       "        vertical-align: middle;\n",
       "    }\n",
       "\n",
       "    .dataframe tbody tr th {\n",
       "        vertical-align: top;\n",
       "    }\n",
       "\n",
       "    .dataframe thead th {\n",
       "        text-align: right;\n",
       "    }\n",
       "</style>\n",
       "<table border=\"1\" class=\"dataframe\">\n",
       "  <thead>\n",
       "    <tr style=\"text-align: right;\">\n",
       "      <th></th>\n",
       "      <th>Country</th>\n",
       "      <th>perc_area_protected_all_obj</th>\n",
       "      <th>perc_area_protected_obj_2</th>\n",
       "      <th>perc_area_protected_obj_3</th>\n",
       "      <th>perc_area_protected_obj_4</th>\n",
       "      <th>perc_area_protected_obj_1a</th>\n",
       "      <th>perc_area_protected_obj_1b</th>\n",
       "      <th>perc_area_protected_no_obj</th>\n",
       "      <th>perc_area_protected_obj_5</th>\n",
       "      <th>perc_area_protected_obj_6</th>\n",
       "      <th>...</th>\n",
       "      <th>gain_percentage</th>\n",
       "      <th>temp_difference</th>\n",
       "      <th>Unnamed: 0</th>\n",
       "      <th>CH4</th>\n",
       "      <th>CO2</th>\n",
       "      <th>HFC</th>\n",
       "      <th>N2O</th>\n",
       "      <th>NF3</th>\n",
       "      <th>PFC</th>\n",
       "      <th>SF6</th>\n",
       "    </tr>\n",
       "  </thead>\n",
       "  <tbody>\n",
       "    <tr>\n",
       "      <th>0</th>\n",
       "      <td>Argentina</td>\n",
       "      <td>8.39</td>\n",
       "      <td>1.84</td>\n",
       "      <td>0.04</td>\n",
       "      <td>0.19</td>\n",
       "      <td>0.27</td>\n",
       "      <td>0.03</td>\n",
       "      <td>1.46</td>\n",
       "      <td>0.33</td>\n",
       "      <td>4.09</td>\n",
       "      <td>...</td>\n",
       "      <td>0.500525</td>\n",
       "      <td>0.072246</td>\n",
       "      <td>0</td>\n",
       "      <td>1.828861</td>\n",
       "      <td>4.710241</td>\n",
       "      <td>0.014370</td>\n",
       "      <td>1.002114</td>\n",
       "      <td>-1.000000</td>\n",
       "      <td>0.003744</td>\n",
       "      <td>0.000042</td>\n",
       "    </tr>\n",
       "    <tr>\n",
       "      <th>1</th>\n",
       "      <td>Australia</td>\n",
       "      <td>19.20</td>\n",
       "      <td>4.17</td>\n",
       "      <td>0.24</td>\n",
       "      <td>0.27</td>\n",
       "      <td>2.01</td>\n",
       "      <td>0.57</td>\n",
       "      <td>0.34</td>\n",
       "      <td>0.98</td>\n",
       "      <td>10.63</td>\n",
       "      <td>...</td>\n",
       "      <td>0.969423</td>\n",
       "      <td>0.214683</td>\n",
       "      <td>1</td>\n",
       "      <td>4.382540</td>\n",
       "      <td>16.642911</td>\n",
       "      <td>0.479420</td>\n",
       "      <td>0.804808</td>\n",
       "      <td>-1.000000</td>\n",
       "      <td>0.009443</td>\n",
       "      <td>0.009144</td>\n",
       "    </tr>\n",
       "    <tr>\n",
       "      <th>2</th>\n",
       "      <td>Austria</td>\n",
       "      <td>28.54</td>\n",
       "      <td>2.38</td>\n",
       "      <td>0.01</td>\n",
       "      <td>5.80</td>\n",
       "      <td>0.01</td>\n",
       "      <td>0.12</td>\n",
       "      <td>4.62</td>\n",
       "      <td>15.35</td>\n",
       "      <td>0.20</td>\n",
       "      <td>...</td>\n",
       "      <td>24.241043</td>\n",
       "      <td>1.498389</td>\n",
       "      <td>2</td>\n",
       "      <td>0.728541</td>\n",
       "      <td>7.549433</td>\n",
       "      <td>0.207606</td>\n",
       "      <td>0.398982</td>\n",
       "      <td>0.001868</td>\n",
       "      <td>0.003680</td>\n",
       "      <td>0.043241</td>\n",
       "    </tr>\n",
       "    <tr>\n",
       "      <th>3</th>\n",
       "      <td>Belgium</td>\n",
       "      <td>24.97</td>\n",
       "      <td>0.07</td>\n",
       "      <td>0.00</td>\n",
       "      <td>1.54</td>\n",
       "      <td>0.00</td>\n",
       "      <td>0.00</td>\n",
       "      <td>9.19</td>\n",
       "      <td>12.59</td>\n",
       "      <td>1.59</td>\n",
       "      <td>...</td>\n",
       "      <td>12.044550</td>\n",
       "      <td>1.167659</td>\n",
       "      <td>3</td>\n",
       "      <td>0.688260</td>\n",
       "      <td>8.787278</td>\n",
       "      <td>0.391962</td>\n",
       "      <td>0.500037</td>\n",
       "      <td>0.000057</td>\n",
       "      <td>0.011516</td>\n",
       "      <td>0.008337</td>\n",
       "    </tr>\n",
       "    <tr>\n",
       "      <th>4</th>\n",
       "      <td>Brazil</td>\n",
       "      <td>29.80</td>\n",
       "      <td>4.13</td>\n",
       "      <td>0.07</td>\n",
       "      <td>0.03</td>\n",
       "      <td>2.06</td>\n",
       "      <td>0.00</td>\n",
       "      <td>11.83</td>\n",
       "      <td>4.58</td>\n",
       "      <td>6.78</td>\n",
       "      <td>...</td>\n",
       "      <td>3.703937</td>\n",
       "      <td>0.929317</td>\n",
       "      <td>4</td>\n",
       "      <td>1.683181</td>\n",
       "      <td>2.566549</td>\n",
       "      <td>-1.000000</td>\n",
       "      <td>0.894033</td>\n",
       "      <td>-1.000000</td>\n",
       "      <td>-1.000000</td>\n",
       "      <td>-1.000000</td>\n",
       "    </tr>\n",
       "  </tbody>\n",
       "</table>\n",
       "<p>5 rows × 30 columns</p>\n",
       "</div>"
      ],
      "text/plain": [
       "     Country  perc_area_protected_all_obj  perc_area_protected_obj_2  \\\n",
       "0  Argentina                         8.39                       1.84   \n",
       "1  Australia                        19.20                       4.17   \n",
       "2    Austria                        28.54                       2.38   \n",
       "3    Belgium                        24.97                       0.07   \n",
       "4     Brazil                        29.80                       4.13   \n",
       "\n",
       "   perc_area_protected_obj_3  perc_area_protected_obj_4  \\\n",
       "0                       0.04                       0.19   \n",
       "1                       0.24                       0.27   \n",
       "2                       0.01                       5.80   \n",
       "3                       0.00                       1.54   \n",
       "4                       0.07                       0.03   \n",
       "\n",
       "   perc_area_protected_obj_1a  perc_area_protected_obj_1b  \\\n",
       "0                        0.27                        0.03   \n",
       "1                        2.01                        0.57   \n",
       "2                        0.01                        0.12   \n",
       "3                        0.00                        0.00   \n",
       "4                        2.06                        0.00   \n",
       "\n",
       "   perc_area_protected_no_obj  perc_area_protected_obj_5  \\\n",
       "0                        1.46                       0.33   \n",
       "1                        0.34                       0.98   \n",
       "2                        4.62                      15.35   \n",
       "3                        9.19                      12.59   \n",
       "4                       11.83                       4.58   \n",
       "\n",
       "   perc_area_protected_obj_6  ...  gain_percentage  temp_difference  \\\n",
       "0                       4.09  ...         0.500525         0.072246   \n",
       "1                      10.63  ...         0.969423         0.214683   \n",
       "2                       0.20  ...        24.241043         1.498389   \n",
       "3                       1.59  ...        12.044550         1.167659   \n",
       "4                       6.78  ...         3.703937         0.929317   \n",
       "\n",
       "   Unnamed: 0       CH4        CO2       HFC       N2O       NF3       PFC  \\\n",
       "0           0  1.828861   4.710241  0.014370  1.002114 -1.000000  0.003744   \n",
       "1           1  4.382540  16.642911  0.479420  0.804808 -1.000000  0.009443   \n",
       "2           2  0.728541   7.549433  0.207606  0.398982  0.001868  0.003680   \n",
       "3           3  0.688260   8.787278  0.391962  0.500037  0.000057  0.011516   \n",
       "4           4  1.683181   2.566549 -1.000000  0.894033 -1.000000 -1.000000   \n",
       "\n",
       "        SF6  \n",
       "0  0.000042  \n",
       "1  0.009144  \n",
       "2  0.043241  \n",
       "3  0.008337  \n",
       "4 -1.000000  \n",
       "\n",
       "[5 rows x 30 columns]"
      ]
     },
     "execution_count": 15,
     "metadata": {},
     "output_type": "execute_result"
    }
   ],
   "source": [
    "coun_data = coun_list[0]\n",
    "for coun in coun_list[1:]:\n",
    "    coun_data = pd.merge(coun_data, coun, on='Country', how='inner')\n",
    "coun_data.head()"
   ]
  },
  {
   "cell_type": "markdown",
   "metadata": {
    "hidden": true
   },
   "source": [
    "## Analysis"
   ]
  },
  {
   "cell_type": "markdown",
   "metadata": {
    "hidden": true
   },
   "source": [
    "### General Information"
   ]
  },
  {
   "cell_type": "code",
   "execution_count": 16,
   "metadata": {
    "ExecuteTime": {
     "end_time": "2021-01-21T18:08:06.273594Z",
     "start_time": "2021-01-21T18:08:06.264949Z"
    },
    "hidden": true
   },
   "outputs": [
    {
     "name": "stdout",
     "output_type": "stream",
     "text": [
      "<class 'pandas.core.frame.DataFrame'>\n",
      "Int64Index: 42 entries, 0 to 41\n",
      "Data columns (total 30 columns):\n",
      " #   Column                       Non-Null Count  Dtype  \n",
      "---  ------                       --------------  -----  \n",
      " 0   Country                      42 non-null     object \n",
      " 1   perc_area_protected_all_obj  42 non-null     float64\n",
      " 2   perc_area_protected_obj_2    42 non-null     float64\n",
      " 3   perc_area_protected_obj_3    42 non-null     float64\n",
      " 4   perc_area_protected_obj_4    42 non-null     float64\n",
      " 5   perc_area_protected_obj_1a   42 non-null     float64\n",
      " 6   perc_area_protected_obj_1b   42 non-null     float64\n",
      " 7   perc_area_protected_no_obj   42 non-null     float64\n",
      " 8   perc_area_protected_obj_5    42 non-null     float64\n",
      " 9   perc_area_protected_obj_6    42 non-null     float64\n",
      " 10  Artificial surfaces          42 non-null     float64\n",
      " 11  Bare area                    42 non-null     float64\n",
      " 12  Cropland                     42 non-null     float64\n",
      " 13  Grassland                    42 non-null     float64\n",
      " 14  Inland water                 42 non-null     float64\n",
      " 15  Shrubland                    42 non-null     float64\n",
      " 16  Sparse vegetation            42 non-null     float64\n",
      " 17  Tree cover                   42 non-null     float64\n",
      " 18  Wetland                      42 non-null     float64\n",
      " 19  temp_slope                   42 non-null     float64\n",
      " 20  gain_percentage              42 non-null     float64\n",
      " 21  temp_difference              42 non-null     float64\n",
      " 22  Unnamed: 0                   42 non-null     int64  \n",
      " 23  CH4                          42 non-null     float64\n",
      " 24  CO2                          42 non-null     float64\n",
      " 25  HFC                          42 non-null     float64\n",
      " 26  N2O                          42 non-null     float64\n",
      " 27  NF3                          42 non-null     float64\n",
      " 28  PFC                          42 non-null     float64\n",
      " 29  SF6                          42 non-null     float64\n",
      "dtypes: float64(28), int64(1), object(1)\n",
      "memory usage: 10.2+ KB\n"
     ]
    }
   ],
   "source": [
    "coun_data.info()"
   ]
  },
  {
   "cell_type": "markdown",
   "metadata": {
    "hidden": true
   },
   "source": [
    "There are no missing values in the dataset."
   ]
  },
  {
   "cell_type": "code",
   "execution_count": 17,
   "metadata": {
    "ExecuteTime": {
     "end_time": "2021-01-21T18:08:06.342279Z",
     "start_time": "2021-01-21T18:08:06.278305Z"
    },
    "hidden": true
   },
   "outputs": [
    {
     "data": {
      "text/html": [
       "<div>\n",
       "<style scoped>\n",
       "    .dataframe tbody tr th:only-of-type {\n",
       "        vertical-align: middle;\n",
       "    }\n",
       "\n",
       "    .dataframe tbody tr th {\n",
       "        vertical-align: top;\n",
       "    }\n",
       "\n",
       "    .dataframe thead th {\n",
       "        text-align: right;\n",
       "    }\n",
       "</style>\n",
       "<table border=\"1\" class=\"dataframe\">\n",
       "  <thead>\n",
       "    <tr style=\"text-align: right;\">\n",
       "      <th></th>\n",
       "      <th>perc_area_protected_all_obj</th>\n",
       "      <th>perc_area_protected_obj_2</th>\n",
       "      <th>perc_area_protected_obj_3</th>\n",
       "      <th>perc_area_protected_obj_4</th>\n",
       "      <th>perc_area_protected_obj_1a</th>\n",
       "      <th>perc_area_protected_obj_1b</th>\n",
       "      <th>perc_area_protected_no_obj</th>\n",
       "      <th>perc_area_protected_obj_5</th>\n",
       "      <th>perc_area_protected_obj_6</th>\n",
       "      <th>Artificial surfaces</th>\n",
       "      <th>...</th>\n",
       "      <th>gain_percentage</th>\n",
       "      <th>temp_difference</th>\n",
       "      <th>Unnamed: 0</th>\n",
       "      <th>CH4</th>\n",
       "      <th>CO2</th>\n",
       "      <th>HFC</th>\n",
       "      <th>N2O</th>\n",
       "      <th>NF3</th>\n",
       "      <th>PFC</th>\n",
       "      <th>SF6</th>\n",
       "    </tr>\n",
       "  </thead>\n",
       "  <tbody>\n",
       "    <tr>\n",
       "      <th>count</th>\n",
       "      <td>42.000000</td>\n",
       "      <td>42.000000</td>\n",
       "      <td>42.000000</td>\n",
       "      <td>42.000000</td>\n",
       "      <td>42.000000</td>\n",
       "      <td>42.000000</td>\n",
       "      <td>42.000000</td>\n",
       "      <td>42.000000</td>\n",
       "      <td>42.000000</td>\n",
       "      <td>42.000000</td>\n",
       "      <td>...</td>\n",
       "      <td>42.000000</td>\n",
       "      <td>42.000000</td>\n",
       "      <td>42.000000</td>\n",
       "      <td>42.000000</td>\n",
       "      <td>42.000000</td>\n",
       "      <td>42.000000</td>\n",
       "      <td>42.000000</td>\n",
       "      <td>42.000000</td>\n",
       "      <td>42.000000</td>\n",
       "      <td>42.000000</td>\n",
       "    </tr>\n",
       "    <tr>\n",
       "      <th>mean</th>\n",
       "      <td>22.282857</td>\n",
       "      <td>4.151667</td>\n",
       "      <td>0.362381</td>\n",
       "      <td>2.964762</td>\n",
       "      <td>0.445714</td>\n",
       "      <td>0.872619</td>\n",
       "      <td>6.900476</td>\n",
       "      <td>4.782381</td>\n",
       "      <td>1.533333</td>\n",
       "      <td>0.026339</td>\n",
       "      <td>...</td>\n",
       "      <td>10.864795</td>\n",
       "      <td>0.987359</td>\n",
       "      <td>22.095238</td>\n",
       "      <td>1.284412</td>\n",
       "      <td>7.478007</td>\n",
       "      <td>0.164214</td>\n",
       "      <td>0.586226</td>\n",
       "      <td>-0.666490</td>\n",
       "      <td>-0.154093</td>\n",
       "      <td>-0.036179</td>\n",
       "    </tr>\n",
       "    <tr>\n",
       "      <th>std</th>\n",
       "      <td>10.766357</td>\n",
       "      <td>5.984902</td>\n",
       "      <td>1.917474</td>\n",
       "      <td>3.469978</td>\n",
       "      <td>0.676599</td>\n",
       "      <td>1.827691</td>\n",
       "      <td>8.767212</td>\n",
       "      <td>5.999103</td>\n",
       "      <td>2.741055</td>\n",
       "      <td>0.027342</td>\n",
       "      <td>...</td>\n",
       "      <td>12.305045</td>\n",
       "      <td>0.448411</td>\n",
       "      <td>12.957359</td>\n",
       "      <td>1.194647</td>\n",
       "      <td>4.017188</td>\n",
       "      <td>0.297642</td>\n",
       "      <td>0.349903</td>\n",
       "      <td>0.477372</td>\n",
       "      <td>0.384327</td>\n",
       "      <td>0.219119</td>\n",
       "    </tr>\n",
       "    <tr>\n",
       "      <th>min</th>\n",
       "      <td>5.640000</td>\n",
       "      <td>0.000000</td>\n",
       "      <td>0.000000</td>\n",
       "      <td>0.010000</td>\n",
       "      <td>0.000000</td>\n",
       "      <td>0.000000</td>\n",
       "      <td>0.000000</td>\n",
       "      <td>0.000000</td>\n",
       "      <td>0.000000</td>\n",
       "      <td>0.000000</td>\n",
       "      <td>...</td>\n",
       "      <td>-24.178355</td>\n",
       "      <td>0.072246</td>\n",
       "      <td>0.000000</td>\n",
       "      <td>0.236113</td>\n",
       "      <td>1.278950</td>\n",
       "      <td>-1.000000</td>\n",
       "      <td>0.092906</td>\n",
       "      <td>-1.000000</td>\n",
       "      <td>-1.000000</td>\n",
       "      <td>-1.000000</td>\n",
       "    </tr>\n",
       "    <tr>\n",
       "      <th>25%</th>\n",
       "      <td>14.287500</td>\n",
       "      <td>0.652500</td>\n",
       "      <td>0.000000</td>\n",
       "      <td>0.440000</td>\n",
       "      <td>0.000000</td>\n",
       "      <td>0.000000</td>\n",
       "      <td>0.472500</td>\n",
       "      <td>0.110000</td>\n",
       "      <td>0.000000</td>\n",
       "      <td>0.005924</td>\n",
       "      <td>...</td>\n",
       "      <td>3.832235</td>\n",
       "      <td>0.659961</td>\n",
       "      <td>11.250000</td>\n",
       "      <td>0.750174</td>\n",
       "      <td>4.848182</td>\n",
       "      <td>0.109285</td>\n",
       "      <td>0.345235</td>\n",
       "      <td>-1.000000</td>\n",
       "      <td>0.000021</td>\n",
       "      <td>0.002429</td>\n",
       "    </tr>\n",
       "    <tr>\n",
       "      <th>50%</th>\n",
       "      <td>20.370000</td>\n",
       "      <td>2.025000</td>\n",
       "      <td>0.020000</td>\n",
       "      <td>1.555000</td>\n",
       "      <td>0.070000</td>\n",
       "      <td>0.005000</td>\n",
       "      <td>3.375000</td>\n",
       "      <td>1.430000</td>\n",
       "      <td>0.085000</td>\n",
       "      <td>0.015773</td>\n",
       "      <td>...</td>\n",
       "      <td>9.547614</td>\n",
       "      <td>0.943211</td>\n",
       "      <td>22.500000</td>\n",
       "      <td>0.893499</td>\n",
       "      <td>6.846338</td>\n",
       "      <td>0.176891</td>\n",
       "      <td>0.481730</td>\n",
       "      <td>-1.000000</td>\n",
       "      <td>0.003712</td>\n",
       "      <td>0.007283</td>\n",
       "    </tr>\n",
       "    <tr>\n",
       "      <th>75%</th>\n",
       "      <td>27.892500</td>\n",
       "      <td>4.812500</td>\n",
       "      <td>0.070000</td>\n",
       "      <td>3.877500</td>\n",
       "      <td>0.545000</td>\n",
       "      <td>0.525000</td>\n",
       "      <td>11.290000</td>\n",
       "      <td>7.780000</td>\n",
       "      <td>1.552500</td>\n",
       "      <td>0.040661</td>\n",
       "      <td>...</td>\n",
       "      <td>17.897105</td>\n",
       "      <td>1.382112</td>\n",
       "      <td>32.750000</td>\n",
       "      <td>1.261372</td>\n",
       "      <td>9.078078</td>\n",
       "      <td>0.322812</td>\n",
       "      <td>0.849686</td>\n",
       "      <td>0.000009</td>\n",
       "      <td>0.012341</td>\n",
       "      <td>0.010464</td>\n",
       "    </tr>\n",
       "    <tr>\n",
       "      <th>max</th>\n",
       "      <td>53.530000</td>\n",
       "      <td>32.610000</td>\n",
       "      <td>12.470000</td>\n",
       "      <td>14.740000</td>\n",
       "      <td>2.180000</td>\n",
       "      <td>7.530000</td>\n",
       "      <td>40.300000</td>\n",
       "      <td>25.240000</td>\n",
       "      <td>10.630000</td>\n",
       "      <td>0.113337</td>\n",
       "      <td>...</td>\n",
       "      <td>43.855657</td>\n",
       "      <td>1.852533</td>\n",
       "      <td>44.000000</td>\n",
       "      <td>7.017958</td>\n",
       "      <td>16.642911</td>\n",
       "      <td>0.550778</td>\n",
       "      <td>1.554079</td>\n",
       "      <td>0.002234</td>\n",
       "      <td>0.216726</td>\n",
       "      <td>0.128989</td>\n",
       "    </tr>\n",
       "  </tbody>\n",
       "</table>\n",
       "<p>8 rows × 29 columns</p>\n",
       "</div>"
      ],
      "text/plain": [
       "       perc_area_protected_all_obj  perc_area_protected_obj_2  \\\n",
       "count                    42.000000                  42.000000   \n",
       "mean                     22.282857                   4.151667   \n",
       "std                      10.766357                   5.984902   \n",
       "min                       5.640000                   0.000000   \n",
       "25%                      14.287500                   0.652500   \n",
       "50%                      20.370000                   2.025000   \n",
       "75%                      27.892500                   4.812500   \n",
       "max                      53.530000                  32.610000   \n",
       "\n",
       "       perc_area_protected_obj_3  perc_area_protected_obj_4  \\\n",
       "count                  42.000000                  42.000000   \n",
       "mean                    0.362381                   2.964762   \n",
       "std                     1.917474                   3.469978   \n",
       "min                     0.000000                   0.010000   \n",
       "25%                     0.000000                   0.440000   \n",
       "50%                     0.020000                   1.555000   \n",
       "75%                     0.070000                   3.877500   \n",
       "max                    12.470000                  14.740000   \n",
       "\n",
       "       perc_area_protected_obj_1a  perc_area_protected_obj_1b  \\\n",
       "count                   42.000000                   42.000000   \n",
       "mean                     0.445714                    0.872619   \n",
       "std                      0.676599                    1.827691   \n",
       "min                      0.000000                    0.000000   \n",
       "25%                      0.000000                    0.000000   \n",
       "50%                      0.070000                    0.005000   \n",
       "75%                      0.545000                    0.525000   \n",
       "max                      2.180000                    7.530000   \n",
       "\n",
       "       perc_area_protected_no_obj  perc_area_protected_obj_5  \\\n",
       "count                   42.000000                  42.000000   \n",
       "mean                     6.900476                   4.782381   \n",
       "std                      8.767212                   5.999103   \n",
       "min                      0.000000                   0.000000   \n",
       "25%                      0.472500                   0.110000   \n",
       "50%                      3.375000                   1.430000   \n",
       "75%                     11.290000                   7.780000   \n",
       "max                     40.300000                  25.240000   \n",
       "\n",
       "       perc_area_protected_obj_6  Artificial surfaces  ...  gain_percentage  \\\n",
       "count                  42.000000            42.000000  ...        42.000000   \n",
       "mean                    1.533333             0.026339  ...        10.864795   \n",
       "std                     2.741055             0.027342  ...        12.305045   \n",
       "min                     0.000000             0.000000  ...       -24.178355   \n",
       "25%                     0.000000             0.005924  ...         3.832235   \n",
       "50%                     0.085000             0.015773  ...         9.547614   \n",
       "75%                     1.552500             0.040661  ...        17.897105   \n",
       "max                    10.630000             0.113337  ...        43.855657   \n",
       "\n",
       "       temp_difference  Unnamed: 0        CH4        CO2        HFC  \\\n",
       "count        42.000000   42.000000  42.000000  42.000000  42.000000   \n",
       "mean          0.987359   22.095238   1.284412   7.478007   0.164214   \n",
       "std           0.448411   12.957359   1.194647   4.017188   0.297642   \n",
       "min           0.072246    0.000000   0.236113   1.278950  -1.000000   \n",
       "25%           0.659961   11.250000   0.750174   4.848182   0.109285   \n",
       "50%           0.943211   22.500000   0.893499   6.846338   0.176891   \n",
       "75%           1.382112   32.750000   1.261372   9.078078   0.322812   \n",
       "max           1.852533   44.000000   7.017958  16.642911   0.550778   \n",
       "\n",
       "             N2O        NF3        PFC        SF6  \n",
       "count  42.000000  42.000000  42.000000  42.000000  \n",
       "mean    0.586226  -0.666490  -0.154093  -0.036179  \n",
       "std     0.349903   0.477372   0.384327   0.219119  \n",
       "min     0.092906  -1.000000  -1.000000  -1.000000  \n",
       "25%     0.345235  -1.000000   0.000021   0.002429  \n",
       "50%     0.481730  -1.000000   0.003712   0.007283  \n",
       "75%     0.849686   0.000009   0.012341   0.010464  \n",
       "max     1.554079   0.002234   0.216726   0.128989  \n",
       "\n",
       "[8 rows x 29 columns]"
      ]
     },
     "execution_count": 17,
     "metadata": {},
     "output_type": "execute_result"
    }
   ],
   "source": [
    "coun_data.describe()"
   ]
  },
  {
   "cell_type": "code",
   "execution_count": 18,
   "metadata": {
    "ExecuteTime": {
     "end_time": "2021-01-21T18:08:06.347836Z",
     "start_time": "2021-01-21T18:08:06.344855Z"
    },
    "hidden": true
   },
   "outputs": [
    {
     "data": {
      "text/plain": [
       "42"
      ]
     },
     "execution_count": 18,
     "metadata": {},
     "output_type": "execute_result"
    }
   ],
   "source": [
    "coun_data['Country'].nunique()"
   ]
  },
  {
   "cell_type": "markdown",
   "metadata": {},
   "source": [
    "# Full Data"
   ]
  },
  {
   "cell_type": "markdown",
   "metadata": {},
   "source": [
    "## Merge both datasets"
   ]
  },
  {
   "cell_type": "markdown",
   "metadata": {
    "ExecuteTime": {
     "end_time": "2021-01-15T13:57:50.054145Z",
     "start_time": "2021-01-15T13:57:50.051068Z"
    },
    "heading_collapsed": true
   },
   "source": [
    "### Check Keys (countries)"
   ]
  },
  {
   "cell_type": "code",
   "execution_count": 19,
   "metadata": {
    "ExecuteTime": {
     "end_time": "2021-01-21T18:08:06.357790Z",
     "start_time": "2021-01-21T18:08:06.349414Z"
    },
    "hidden": true
   },
   "outputs": [
    {
     "name": "stdout",
     "output_type": "stream",
     "text": [
      "IUCN \\ CHAR: {'Romania', 'Puerto Rico', 'Cyprus', 'Croatia', 'Northern Mariana Islands', 'Georgia', 'Kazakhstan', 'Tajikistan', 'Bulgaria', 'Moldova', 'Saudi Arabia', 'Greenland', 'Uzbekistan', 'Kyrgyzstan', 'New Caledonia', 'Ukraine', 'Malta', 'Armenia', 'Turkmenistan', 'Belarus', 'South Africa', 'Azerbaijan', 'Peru'}\n",
      "CHAR \\ IUCN: set()\n"
     ]
    }
   ],
   "source": [
    "iucn_countries = set(iucn_data['Country'].unique())\n",
    "char_countries = set(coun_data['Country'].unique())\n",
    "print('IUCN \\ CHAR: {}'.format(iucn_countries.difference(char_countries)))\n",
    "print('CHAR \\ IUCN: {}'.format(char_countries.difference(iucn_countries)))"
   ]
  },
  {
   "cell_type": "code",
   "execution_count": 20,
   "metadata": {
    "ExecuteTime": {
     "end_time": "2021-01-21T18:08:06.364034Z",
     "start_time": "2021-01-21T18:08:06.359370Z"
    },
    "hidden": true
   },
   "outputs": [
    {
     "data": {
      "text/plain": [
       "37"
      ]
     },
     "execution_count": 20,
     "metadata": {},
     "output_type": "execute_result"
    }
   ],
   "source": [
    "oecd_list = [\n",
    "    'AUSTRALIA', 'AUSTRIA', 'BELGIUM', 'CANADA', 'CHILE', 'COLOMBIA',\n",
    "    'CZECH REPUBLIC', 'DENMARK', 'ESTONIA', 'FINLAND', 'FRANCE', 'GERMANY',\n",
    "    'GREECE', 'HUNGARY', 'ICELAND', 'IRELAND', 'ISRAEL', 'ITALY', 'JAPAN',\n",
    "    'KOREA', 'LATVIA', 'LITHUANIA', 'LUXEMBOURG', 'MEXICO', 'NETHERLANDS',\n",
    "    'NEW ZEALAND', 'NORWAY', 'POLAND', 'PORTUGAL', 'SLOVAK REPUBLIC',\n",
    "    'SLOVENIA', 'SPAIN', 'SWEDEN', 'SWITZERLAND', 'TURKEY', 'UNITED KINGDOM',\n",
    "    'UNITED STATES'\n",
    "]\n",
    "oecd_list = [c.title() for c in oecd_list]\n",
    "len(oecd_list)"
   ]
  },
  {
   "cell_type": "code",
   "execution_count": 21,
   "metadata": {
    "ExecuteTime": {
     "end_time": "2021-01-21T18:08:06.369059Z",
     "start_time": "2021-01-21T18:08:06.365616Z"
    },
    "hidden": true
   },
   "outputs": [
    {
     "data": {
      "text/plain": [
       "{'Turkey'}"
      ]
     },
     "execution_count": 21,
     "metadata": {},
     "output_type": "execute_result"
    }
   ],
   "source": [
    "set(oecd_list).difference(iucn_countries)"
   ]
  },
  {
   "cell_type": "code",
   "execution_count": 22,
   "metadata": {
    "ExecuteTime": {
     "end_time": "2021-01-21T18:08:06.373953Z",
     "start_time": "2021-01-21T18:08:06.370728Z"
    },
    "hidden": true
   },
   "outputs": [
    {
     "data": {
      "text/plain": [
       "{'Turkey'}"
      ]
     },
     "execution_count": 22,
     "metadata": {},
     "output_type": "execute_result"
    }
   ],
   "source": [
    "set(oecd_list).difference(char_countries)"
   ]
  },
  {
   "cell_type": "code",
   "execution_count": 23,
   "metadata": {
    "ExecuteTime": {
     "end_time": "2021-01-21T18:08:06.378896Z",
     "start_time": "2021-01-21T18:08:06.375529Z"
    },
    "hidden": true
   },
   "outputs": [
    {
     "data": {
      "text/plain": [
       "set()"
      ]
     },
     "execution_count": 23,
     "metadata": {},
     "output_type": "execute_result"
    }
   ],
   "source": [
    "iucn_diff_list = [c for c in iucn_countries.difference(char_countries)]\n",
    "set(iucn_diff_list).intersection(set(oecd_list))"
   ]
  },
  {
   "cell_type": "code",
   "execution_count": 24,
   "metadata": {
    "ExecuteTime": {
     "end_time": "2021-01-21T18:08:06.382409Z",
     "start_time": "2021-01-21T18:08:06.380546Z"
    },
    "hidden": true
   },
   "outputs": [],
   "source": [
    "#i"
   ]
  },
  {
   "cell_type": "code",
   "execution_count": null,
   "metadata": {
    "ExecuteTime": {
     "end_time": "2021-01-19T10:45:02.767710Z",
     "start_time": "2021-01-19T10:45:02.764165Z"
    },
    "hidden": true
   },
   "outputs": [],
   "source": []
  },
  {
   "cell_type": "markdown",
   "metadata": {},
   "source": [
    "### Rename Country Data to Match IUCN Data"
   ]
  },
  {
   "cell_type": "code",
   "execution_count": 25,
   "metadata": {
    "ExecuteTime": {
     "end_time": "2021-01-21T18:08:06.390609Z",
     "start_time": "2021-01-21T18:08:06.384068Z"
    }
   },
   "outputs": [],
   "source": [
    "coun_data.loc[coun_data['Country'] == 'New Zealand', 'Country'] = 'New_Zealand'\n",
    "coun_data.loc[coun_data['Country'] == 'Slovak Republic', 'Country'] = 'Slovakia'\n",
    "coun_data.loc[coun_data['Country'] == 'United Kingdom', 'Country'] = 'United_Kingdom'\n",
    "coun_data.loc[coun_data['Country'] == 'United States', 'Country'] = 'United_States'\n",
    "coun_data.loc[coun_data['Country'] == 'Czech Republic', 'Country'] = 'Czechia'\n",
    "coun_data.loc[coun_data['Country'] == 'Korea', 'Country'] = 'Korea,_Republic_of'"
   ]
  },
  {
   "cell_type": "markdown",
   "metadata": {},
   "source": [
    "### Merge "
   ]
  },
  {
   "cell_type": "code",
   "execution_count": 26,
   "metadata": {
    "ExecuteTime": {
     "end_time": "2021-01-21T18:08:06.435369Z",
     "start_time": "2021-01-21T18:08:06.392137Z"
    }
   },
   "outputs": [
    {
     "data": {
      "text/plain": [
       "36"
      ]
     },
     "execution_count": 26,
     "metadata": {},
     "output_type": "execute_result"
    }
   ],
   "source": [
    "full_data = iucn_data.merge(coun_data, on='Country', how='inner')\n",
    "full_data['Country'].nunique()"
   ]
  },
  {
   "cell_type": "code",
   "execution_count": 27,
   "metadata": {
    "ExecuteTime": {
     "end_time": "2021-01-21T18:08:06.440170Z",
     "start_time": "2021-01-21T18:08:06.436985Z"
    }
   },
   "outputs": [
    {
     "data": {
      "text/plain": [
       "array(['kingdom_class', 'common_name', 'scientific_name', 'trend',\n",
       "       'region', 'threat_level', 'Country', 'perc_area_protected_all_obj',\n",
       "       'perc_area_protected_obj_2', 'perc_area_protected_obj_3',\n",
       "       'perc_area_protected_obj_4', 'perc_area_protected_obj_1a',\n",
       "       'perc_area_protected_obj_1b', 'perc_area_protected_no_obj',\n",
       "       'perc_area_protected_obj_5', 'perc_area_protected_obj_6',\n",
       "       'Artificial surfaces', 'Bare area', 'Cropland', 'Grassland',\n",
       "       'Inland water', 'Shrubland', 'Sparse vegetation', 'Tree cover',\n",
       "       'Wetland', 'temp_slope', 'gain_percentage', 'temp_difference',\n",
       "       'Unnamed: 0', 'CH4', 'CO2', 'HFC', 'N2O', 'NF3', 'PFC', 'SF6'],\n",
       "      dtype=object)"
      ]
     },
     "execution_count": 27,
     "metadata": {},
     "output_type": "execute_result"
    }
   ],
   "source": [
    "full_data.columns.values"
   ]
  },
  {
   "cell_type": "markdown",
   "metadata": {},
   "source": [
    "### Merge with the total number of threatened species\n",
    "For the prediction of the number of species per country, we merge our coun_data with the absolute number of threatened species per country. After those steps we have got 35 countries left, with 29 different characteristics for each one. The maximum value for threatened species is 17.5%, while the minimum lies at 1.1%"
   ]
  },
  {
   "cell_type": "code",
   "execution_count": 28,
   "metadata": {
    "ExecuteTime": {
     "end_time": "2021-01-21T18:08:06.446990Z",
     "start_time": "2021-01-21T18:08:06.441843Z"
    }
   },
   "outputs": [
    {
     "name": "stdout",
     "output_type": "stream",
     "text": [
      "THREAT \\ CHAR: {'Romania', 'Puerto Rico', 'Croatia', 'Northern Mariana Islands', 'Cyprus', 'Georgia', 'Kazakhstan', 'Tajikistan', 'Bulgaria', 'Moldova', 'Saudi Arabia', 'Greenland', 'Uzbekistan', 'Kyrgyzstan', 'New Caledonia', 'Ukraine', 'Malta', 'Armenia', 'Turkmenistan', 'Belarus', 'South Africa', 'Azerbaijan', 'Peru'}\n",
      "CHAR \\ THREAT: {'Russia', 'Czech Republic', 'Slovak Republic', 'Korea'}\n"
     ]
    }
   ],
   "source": [
    "threatened_relative = pd.read_csv(PATH_IUCN_REL)\n",
    "threatened_countries = set(threatened_relative['Country'].unique())\n",
    "print('THREAT \\ CHAR: {}'.format(threatened_countries.difference(char_countries)))\n",
    "print('CHAR \\ THREAT: {}'.format(char_countries.difference(threatened_countries)))"
   ]
  },
  {
   "cell_type": "code",
   "execution_count": 29,
   "metadata": {
    "ExecuteTime": {
     "end_time": "2021-01-21T18:08:06.455409Z",
     "start_time": "2021-01-21T18:08:06.448729Z"
    }
   },
   "outputs": [
    {
     "data": {
      "text/plain": [
       "(35, 32)"
      ]
     },
     "execution_count": 29,
     "metadata": {},
     "output_type": "execute_result"
    }
   ],
   "source": [
    "full_threatened = threatened_relative.merge(coun_data, on='Country', how='inner')\n",
    "full_threatened.shape"
   ]
  },
  {
   "cell_type": "code",
   "execution_count": 30,
   "metadata": {
    "ExecuteTime": {
     "end_time": "2021-01-21T18:08:06.531136Z",
     "start_time": "2021-01-21T18:08:06.457294Z"
    }
   },
   "outputs": [
    {
     "data": {
      "text/html": [
       "<div>\n",
       "<style scoped>\n",
       "    .dataframe tbody tr th:only-of-type {\n",
       "        vertical-align: middle;\n",
       "    }\n",
       "\n",
       "    .dataframe tbody tr th {\n",
       "        vertical-align: top;\n",
       "    }\n",
       "\n",
       "    .dataframe thead th {\n",
       "        text-align: right;\n",
       "    }\n",
       "</style>\n",
       "<table border=\"1\" class=\"dataframe\">\n",
       "  <thead>\n",
       "    <tr style=\"text-align: right;\">\n",
       "      <th></th>\n",
       "      <th>Relative</th>\n",
       "      <th>perc_area_protected_all_obj</th>\n",
       "      <th>perc_area_protected_obj_2</th>\n",
       "      <th>perc_area_protected_obj_3</th>\n",
       "      <th>perc_area_protected_obj_4</th>\n",
       "      <th>perc_area_protected_obj_1a</th>\n",
       "      <th>perc_area_protected_obj_1b</th>\n",
       "      <th>perc_area_protected_no_obj</th>\n",
       "      <th>perc_area_protected_obj_5</th>\n",
       "      <th>perc_area_protected_obj_6</th>\n",
       "      <th>...</th>\n",
       "      <th>temp_slope</th>\n",
       "      <th>gain_percentage</th>\n",
       "      <th>temp_difference</th>\n",
       "      <th>CH4</th>\n",
       "      <th>CO2</th>\n",
       "      <th>HFC</th>\n",
       "      <th>N2O</th>\n",
       "      <th>NF3</th>\n",
       "      <th>PFC</th>\n",
       "      <th>SF6</th>\n",
       "    </tr>\n",
       "  </thead>\n",
       "  <tbody>\n",
       "    <tr>\n",
       "      <th>count</th>\n",
       "      <td>35.000000</td>\n",
       "      <td>35.000000</td>\n",
       "      <td>35.000000</td>\n",
       "      <td>35.000000</td>\n",
       "      <td>35.000000</td>\n",
       "      <td>35.000000</td>\n",
       "      <td>35.000000</td>\n",
       "      <td>35.000000</td>\n",
       "      <td>35.000000</td>\n",
       "      <td>35.000000</td>\n",
       "      <td>...</td>\n",
       "      <td>35.000000</td>\n",
       "      <td>35.000000</td>\n",
       "      <td>35.000000</td>\n",
       "      <td>35.000000</td>\n",
       "      <td>35.000000</td>\n",
       "      <td>35.000000</td>\n",
       "      <td>35.000000</td>\n",
       "      <td>35.000000</td>\n",
       "      <td>3.500000e+01</td>\n",
       "      <td>35.000000</td>\n",
       "    </tr>\n",
       "    <tr>\n",
       "      <th>mean</th>\n",
       "      <td>0.073649</td>\n",
       "      <td>22.240000</td>\n",
       "      <td>4.379143</td>\n",
       "      <td>0.058286</td>\n",
       "      <td>2.868000</td>\n",
       "      <td>0.434286</td>\n",
       "      <td>0.852857</td>\n",
       "      <td>7.431143</td>\n",
       "      <td>4.236571</td>\n",
       "      <td>1.676286</td>\n",
       "      <td>...</td>\n",
       "      <td>0.032179</td>\n",
       "      <td>10.914848</td>\n",
       "      <td>0.932254</td>\n",
       "      <td>1.111205</td>\n",
       "      <td>6.965432</td>\n",
       "      <td>0.139672</td>\n",
       "      <td>0.560774</td>\n",
       "      <td>-0.714137</td>\n",
       "      <td>-1.876123e-01</td>\n",
       "      <td>-0.048438</td>\n",
       "    </tr>\n",
       "    <tr>\n",
       "      <th>std</th>\n",
       "      <td>0.044020</td>\n",
       "      <td>10.943399</td>\n",
       "      <td>6.382641</td>\n",
       "      <td>0.119151</td>\n",
       "      <td>3.593271</td>\n",
       "      <td>0.704395</td>\n",
       "      <td>1.865765</td>\n",
       "      <td>9.074178</td>\n",
       "      <td>5.874909</td>\n",
       "      <td>2.949901</td>\n",
       "      <td>...</td>\n",
       "      <td>0.012624</td>\n",
       "      <td>11.923152</td>\n",
       "      <td>0.451677</td>\n",
       "      <td>0.785558</td>\n",
       "      <td>3.894732</td>\n",
       "      <td>0.316979</td>\n",
       "      <td>0.310688</td>\n",
       "      <td>0.458588</td>\n",
       "      <td>4.136930e-01</td>\n",
       "      <td>0.237897</td>\n",
       "    </tr>\n",
       "    <tr>\n",
       "      <th>min</th>\n",
       "      <td>0.011628</td>\n",
       "      <td>5.640000</td>\n",
       "      <td>0.000000</td>\n",
       "      <td>0.000000</td>\n",
       "      <td>0.010000</td>\n",
       "      <td>0.000000</td>\n",
       "      <td>0.000000</td>\n",
       "      <td>0.000000</td>\n",
       "      <td>0.000000</td>\n",
       "      <td>0.000000</td>\n",
       "      <td>...</td>\n",
       "      <td>0.006156</td>\n",
       "      <td>-24.178355</td>\n",
       "      <td>0.072246</td>\n",
       "      <td>0.236113</td>\n",
       "      <td>1.278950</td>\n",
       "      <td>-1.000000</td>\n",
       "      <td>0.092906</td>\n",
       "      <td>-1.000000</td>\n",
       "      <td>-1.000000e+00</td>\n",
       "      <td>-1.000000</td>\n",
       "    </tr>\n",
       "    <tr>\n",
       "      <th>25%</th>\n",
       "      <td>0.037814</td>\n",
       "      <td>14.375000</td>\n",
       "      <td>0.635000</td>\n",
       "      <td>0.000000</td>\n",
       "      <td>0.385000</td>\n",
       "      <td>0.000000</td>\n",
       "      <td>0.000000</td>\n",
       "      <td>0.530000</td>\n",
       "      <td>0.090000</td>\n",
       "      <td>0.000000</td>\n",
       "      <td>...</td>\n",
       "      <td>0.021914</td>\n",
       "      <td>3.697191</td>\n",
       "      <td>0.602808</td>\n",
       "      <td>0.736522</td>\n",
       "      <td>4.522071</td>\n",
       "      <td>0.102840</td>\n",
       "      <td>0.351487</td>\n",
       "      <td>-1.000000</td>\n",
       "      <td>6.044950e-07</td>\n",
       "      <td>0.002297</td>\n",
       "    </tr>\n",
       "    <tr>\n",
       "      <th>50%</th>\n",
       "      <td>0.057953</td>\n",
       "      <td>20.050000</td>\n",
       "      <td>2.030000</td>\n",
       "      <td>0.010000</td>\n",
       "      <td>1.540000</td>\n",
       "      <td>0.060000</td>\n",
       "      <td>0.000000</td>\n",
       "      <td>3.470000</td>\n",
       "      <td>0.980000</td>\n",
       "      <td>0.030000</td>\n",
       "      <td>...</td>\n",
       "      <td>0.033786</td>\n",
       "      <td>9.319080</td>\n",
       "      <td>0.878617</td>\n",
       "      <td>0.887454</td>\n",
       "      <td>6.260186</td>\n",
       "      <td>0.157948</td>\n",
       "      <td>0.478937</td>\n",
       "      <td>-1.000000</td>\n",
       "      <td>3.494661e-03</td>\n",
       "      <td>0.007178</td>\n",
       "    </tr>\n",
       "    <tr>\n",
       "      <th>75%</th>\n",
       "      <td>0.092701</td>\n",
       "      <td>27.045000</td>\n",
       "      <td>5.000000</td>\n",
       "      <td>0.045000</td>\n",
       "      <td>3.615000</td>\n",
       "      <td>0.465000</td>\n",
       "      <td>0.365000</td>\n",
       "      <td>11.420000</td>\n",
       "      <td>6.995000</td>\n",
       "      <td>2.035000</td>\n",
       "      <td>...</td>\n",
       "      <td>0.038315</td>\n",
       "      <td>15.918186</td>\n",
       "      <td>1.240189</td>\n",
       "      <td>1.132589</td>\n",
       "      <td>8.789345</td>\n",
       "      <td>0.256308</td>\n",
       "      <td>0.834726</td>\n",
       "      <td>0.000006</td>\n",
       "      <td>1.021052e-02</td>\n",
       "      <td>0.010442</td>\n",
       "    </tr>\n",
       "    <tr>\n",
       "      <th>max</th>\n",
       "      <td>0.175177</td>\n",
       "      <td>53.530000</td>\n",
       "      <td>32.610000</td>\n",
       "      <td>0.590000</td>\n",
       "      <td>14.740000</td>\n",
       "      <td>2.180000</td>\n",
       "      <td>7.530000</td>\n",
       "      <td>40.300000</td>\n",
       "      <td>25.240000</td>\n",
       "      <td>10.630000</td>\n",
       "      <td>...</td>\n",
       "      <td>0.058883</td>\n",
       "      <td>43.855657</td>\n",
       "      <td>1.852533</td>\n",
       "      <td>4.382540</td>\n",
       "      <td>16.642911</td>\n",
       "      <td>0.550778</td>\n",
       "      <td>1.431682</td>\n",
       "      <td>0.002234</td>\n",
       "      <td>2.167259e-01</td>\n",
       "      <td>0.046683</td>\n",
       "    </tr>\n",
       "  </tbody>\n",
       "</table>\n",
       "<p>8 rows × 29 columns</p>\n",
       "</div>"
      ],
      "text/plain": [
       "        Relative  perc_area_protected_all_obj  perc_area_protected_obj_2  \\\n",
       "count  35.000000                    35.000000                  35.000000   \n",
       "mean    0.073649                    22.240000                   4.379143   \n",
       "std     0.044020                    10.943399                   6.382641   \n",
       "min     0.011628                     5.640000                   0.000000   \n",
       "25%     0.037814                    14.375000                   0.635000   \n",
       "50%     0.057953                    20.050000                   2.030000   \n",
       "75%     0.092701                    27.045000                   5.000000   \n",
       "max     0.175177                    53.530000                  32.610000   \n",
       "\n",
       "       perc_area_protected_obj_3  perc_area_protected_obj_4  \\\n",
       "count                  35.000000                  35.000000   \n",
       "mean                    0.058286                   2.868000   \n",
       "std                     0.119151                   3.593271   \n",
       "min                     0.000000                   0.010000   \n",
       "25%                     0.000000                   0.385000   \n",
       "50%                     0.010000                   1.540000   \n",
       "75%                     0.045000                   3.615000   \n",
       "max                     0.590000                  14.740000   \n",
       "\n",
       "       perc_area_protected_obj_1a  perc_area_protected_obj_1b  \\\n",
       "count                   35.000000                   35.000000   \n",
       "mean                     0.434286                    0.852857   \n",
       "std                      0.704395                    1.865765   \n",
       "min                      0.000000                    0.000000   \n",
       "25%                      0.000000                    0.000000   \n",
       "50%                      0.060000                    0.000000   \n",
       "75%                      0.465000                    0.365000   \n",
       "max                      2.180000                    7.530000   \n",
       "\n",
       "       perc_area_protected_no_obj  perc_area_protected_obj_5  \\\n",
       "count                   35.000000                  35.000000   \n",
       "mean                     7.431143                   4.236571   \n",
       "std                      9.074178                   5.874909   \n",
       "min                      0.000000                   0.000000   \n",
       "25%                      0.530000                   0.090000   \n",
       "50%                      3.470000                   0.980000   \n",
       "75%                     11.420000                   6.995000   \n",
       "max                     40.300000                  25.240000   \n",
       "\n",
       "       perc_area_protected_obj_6  ...  temp_slope  gain_percentage  \\\n",
       "count                  35.000000  ...   35.000000        35.000000   \n",
       "mean                    1.676286  ...    0.032179        10.914848   \n",
       "std                     2.949901  ...    0.012624        11.923152   \n",
       "min                     0.000000  ...    0.006156       -24.178355   \n",
       "25%                     0.000000  ...    0.021914         3.697191   \n",
       "50%                     0.030000  ...    0.033786         9.319080   \n",
       "75%                     2.035000  ...    0.038315        15.918186   \n",
       "max                    10.630000  ...    0.058883        43.855657   \n",
       "\n",
       "       temp_difference        CH4        CO2        HFC        N2O        NF3  \\\n",
       "count        35.000000  35.000000  35.000000  35.000000  35.000000  35.000000   \n",
       "mean          0.932254   1.111205   6.965432   0.139672   0.560774  -0.714137   \n",
       "std           0.451677   0.785558   3.894732   0.316979   0.310688   0.458588   \n",
       "min           0.072246   0.236113   1.278950  -1.000000   0.092906  -1.000000   \n",
       "25%           0.602808   0.736522   4.522071   0.102840   0.351487  -1.000000   \n",
       "50%           0.878617   0.887454   6.260186   0.157948   0.478937  -1.000000   \n",
       "75%           1.240189   1.132589   8.789345   0.256308   0.834726   0.000006   \n",
       "max           1.852533   4.382540  16.642911   0.550778   1.431682   0.002234   \n",
       "\n",
       "                PFC        SF6  \n",
       "count  3.500000e+01  35.000000  \n",
       "mean  -1.876123e-01  -0.048438  \n",
       "std    4.136930e-01   0.237897  \n",
       "min   -1.000000e+00  -1.000000  \n",
       "25%    6.044950e-07   0.002297  \n",
       "50%    3.494661e-03   0.007178  \n",
       "75%    1.021052e-02   0.010442  \n",
       "max    2.167259e-01   0.046683  \n",
       "\n",
       "[8 rows x 29 columns]"
      ]
     },
     "execution_count": 30,
     "metadata": {},
     "output_type": "execute_result"
    }
   ],
   "source": [
    "#drop columns that arbitraly occured during merging\n",
    "full_threatened = full_threatened.drop(columns=['Unnamed: 0_x', 'Unnamed: 0_y'])\n",
    "full_threatened.describe()"
   ]
  },
  {
   "cell_type": "markdown",
   "metadata": {},
   "source": []
  },
  {
   "cell_type": "markdown",
   "metadata": {},
   "source": [
    "## Check correlation with logistic regression per feature\n",
    "See: https://medium.com/@outside2SDs/an-overview-of-correlation-measures-between-categorical-and-continuous-variables-4c7f85610365#:~:text=A%20simple%20approach%20could%20be,variance%20of%20the%20continuous%20variable.&text=If%20the%20variables%20have%20no,similar%20to%20the%20original%20variance."
   ]
  },
  {
   "cell_type": "code",
   "execution_count": 31,
   "metadata": {
    "ExecuteTime": {
     "end_time": "2021-01-21T18:08:06.590338Z",
     "start_time": "2021-01-21T18:08:06.532903Z"
    }
   },
   "outputs": [],
   "source": [
    "full_data = full_data.dropna()"
   ]
  },
  {
   "cell_type": "code",
   "execution_count": 32,
   "metadata": {
    "ExecuteTime": {
     "end_time": "2021-01-21T18:08:06.609744Z",
     "start_time": "2021-01-21T18:08:06.592262Z"
    }
   },
   "outputs": [],
   "source": [
    "full_data = full_data[full_data['trend'] != 'Unknown']"
   ]
  },
  {
   "cell_type": "code",
   "execution_count": 42,
   "metadata": {
    "ExecuteTime": {
     "end_time": "2021-01-21T18:12:20.763088Z",
     "start_time": "2021-01-21T18:12:15.009035Z"
    }
   },
   "outputs": [
    {
     "name": "stdout",
     "output_type": "stream",
     "text": [
      "perc_area_protected_all_obj predictor accuracy: 0.4647477083868757\n",
      "perc_area_protected_obj_2 predictor accuracy: 0.46140666495331106\n",
      "perc_area_protected_obj_3 predictor accuracy: 0.46140666495331106\n",
      "perc_area_protected_obj_4 predictor accuracy: 0.46140666495331106\n",
      "perc_area_protected_obj_1a predictor accuracy: 0.46140666495331106\n",
      "perc_area_protected_obj_1b predictor accuracy: 0.46140666495331106\n",
      "perc_area_protected_no_obj predictor accuracy: 0.4651760472886147\n",
      "perc_area_protected_obj_5 predictor accuracy: 0.46269168165852825\n",
      "perc_area_protected_obj_6 predictor accuracy: 0.46140666495331106\n",
      "Artificial surfaces predictor accuracy: 0.46080699049087637\n",
      "Bare area predictor accuracy: 0.46140666495331106\n",
      "Cropland predictor accuracy: 0.46663239955452757\n",
      "Grassland predictor accuracy: 0.46140666495331106\n",
      "Inland water predictor accuracy: 0.46140666495331106\n",
      "Shrubland predictor accuracy: 0.46140666495331106\n",
      "Sparse vegetation predictor accuracy: 0.4778548787800908\n",
      "Tree cover predictor accuracy: 0.47280047973956996\n",
      "Wetland predictor accuracy: 0.459179302664268\n",
      "temp_slope predictor accuracy: 0.46140666495331106\n",
      "gain_percentage predictor accuracy: 0.45875096376252894\n",
      "temp_difference predictor accuracy: 0.45069819240983466\n",
      "Unnamed: 0 predictor accuracy: 0.46217767497644135\n",
      "CH4 predictor accuracy: 0.4604643193694851\n",
      "CO2 predictor accuracy: 0.47494217424826524\n",
      "HFC predictor accuracy: 0.4739141608840915\n",
      "N2O predictor accuracy: 0.4603786515891373\n",
      "NF3 predictor accuracy: 0.46140666495331106\n",
      "PFC predictor accuracy: 0.47674119763556927\n",
      "SF6 predictor accuracy: 0.4739141608840915\n"
     ]
    }
   ],
   "source": [
    "clf = LogisticRegression(random_state=RANDOM_STATE)\n",
    "runs = []\n",
    "for col in full_data.columns.values:\n",
    "    if (full_data[col].dtype == 'int64') | (full_data[col].dtype == 'float64'):\n",
    "        y = full_data['trend'].copy()\n",
    "        #y[y.isna()] = 'NULL'\n",
    "        X = full_data[col]\n",
    "        X_train, X_test, y_train, y_test = train_test_split(X,\n",
    "                                                    y,\n",
    "                                                    test_size=0.33, stratify=y,\n",
    "                                                    random_state=RANDOM_STATE, shuffle=True)\n",
    "        X_train = np.array(X_train).reshape(-1,1)\n",
    "        X_test =  np.array(X_test).reshape(-1,1)\n",
    "        y_train = np.array(y_train)\n",
    "        y_test = np.array(y_test)\n",
    "        clf.fit(X_train, y_train)\n",
    "        \n",
    "        y_hat = clf.predict(X_test)\n",
    "        acc = clf.score(X_test, y_test)\n",
    "        \n",
    "        entry = {'column': col, 'acc': acc, 'y': y_test, 'y_hat':y_hat}\n",
    "        runs.append(entry)\n",
    "        print('{} predictor accuracy: {}'.format(col, acc))\n",
    "    # acc_per_col[col] = "
   ]
  },
  {
   "cell_type": "code",
   "execution_count": 43,
   "metadata": {
    "ExecuteTime": {
     "end_time": "2021-01-21T18:12:24.020963Z",
     "start_time": "2021-01-21T18:12:24.017517Z"
    }
   },
   "outputs": [],
   "source": [
    "run_df = pd.DataFrame(runs) "
   ]
  },
  {
   "cell_type": "code",
   "execution_count": 50,
   "metadata": {
    "ExecuteTime": {
     "end_time": "2021-01-21T18:14:58.492853Z",
     "start_time": "2021-01-21T18:14:58.485324Z"
    }
   },
   "outputs": [
    {
     "name": "stdout",
     "output_type": "stream",
     "text": [
      "['Decreasing' 'Stable' 'Increasing' ... 'Decreasing' 'Stable' 'Stable']\n",
      "['Decreasing' 'Stable' 'Increasing' ... 'Decreasing' 'Stable' 'Stable']\n",
      "['Decreasing' 'Stable' 'Increasing' ... 'Decreasing' 'Stable' 'Stable']\n",
      "['Decreasing' 'Stable' 'Increasing' ... 'Decreasing' 'Stable' 'Stable']\n",
      "['Decreasing' 'Stable' 'Increasing' ... 'Decreasing' 'Stable' 'Stable']\n",
      "['Decreasing' 'Stable' 'Increasing' ... 'Decreasing' 'Stable' 'Stable']\n",
      "['Decreasing' 'Stable' 'Increasing' ... 'Decreasing' 'Stable' 'Stable']\n",
      "['Decreasing' 'Stable' 'Increasing' ... 'Decreasing' 'Stable' 'Stable']\n",
      "['Decreasing' 'Stable' 'Increasing' ... 'Decreasing' 'Stable' 'Stable']\n",
      "['Decreasing' 'Stable' 'Increasing' ... 'Decreasing' 'Stable' 'Stable']\n",
      "['Decreasing' 'Stable' 'Increasing' ... 'Decreasing' 'Stable' 'Stable']\n",
      "['Decreasing' 'Stable' 'Increasing' ... 'Decreasing' 'Stable' 'Stable']\n",
      "['Decreasing' 'Stable' 'Increasing' ... 'Decreasing' 'Stable' 'Stable']\n",
      "['Decreasing' 'Stable' 'Increasing' ... 'Decreasing' 'Stable' 'Stable']\n",
      "['Decreasing' 'Stable' 'Increasing' ... 'Decreasing' 'Stable' 'Stable']\n",
      "['Decreasing' 'Stable' 'Increasing' ... 'Decreasing' 'Stable' 'Stable']\n",
      "['Decreasing' 'Stable' 'Increasing' ... 'Decreasing' 'Stable' 'Stable']\n",
      "['Decreasing' 'Stable' 'Increasing' ... 'Decreasing' 'Stable' 'Stable']\n",
      "['Decreasing' 'Stable' 'Increasing' ... 'Decreasing' 'Stable' 'Stable']\n",
      "['Decreasing' 'Stable' 'Increasing' ... 'Decreasing' 'Stable' 'Stable']\n",
      "['Decreasing' 'Stable' 'Increasing' ... 'Decreasing' 'Stable' 'Stable']\n",
      "['Decreasing' 'Stable' 'Increasing' ... 'Decreasing' 'Stable' 'Stable']\n",
      "['Decreasing' 'Stable' 'Increasing' ... 'Decreasing' 'Stable' 'Stable']\n",
      "['Decreasing' 'Stable' 'Increasing' ... 'Decreasing' 'Stable' 'Stable']\n",
      "['Decreasing' 'Stable' 'Increasing' ... 'Decreasing' 'Stable' 'Stable']\n",
      "['Decreasing' 'Stable' 'Increasing' ... 'Decreasing' 'Stable' 'Stable']\n",
      "['Decreasing' 'Stable' 'Increasing' ... 'Decreasing' 'Stable' 'Stable']\n",
      "['Decreasing' 'Stable' 'Increasing' ... 'Decreasing' 'Stable' 'Stable']\n",
      "['Decreasing' 'Stable' 'Increasing' ... 'Decreasing' 'Stable' 'Stable']\n"
     ]
    },
    {
     "data": {
      "text/plain": [
       "0     None\n",
       "1     None\n",
       "2     None\n",
       "3     None\n",
       "4     None\n",
       "5     None\n",
       "6     None\n",
       "7     None\n",
       "8     None\n",
       "9     None\n",
       "10    None\n",
       "11    None\n",
       "12    None\n",
       "13    None\n",
       "14    None\n",
       "15    None\n",
       "16    None\n",
       "17    None\n",
       "18    None\n",
       "19    None\n",
       "20    None\n",
       "21    None\n",
       "22    None\n",
       "23    None\n",
       "24    None\n",
       "25    None\n",
       "26    None\n",
       "27    None\n",
       "28    None\n",
       "Name: y, dtype: object"
      ]
     },
     "execution_count": 50,
     "metadata": {},
     "output_type": "execute_result"
    }
   ],
   "source": [
    "run_df['y'].apply(lambda x: print(x))"
   ]
  }
 ],
 "metadata": {
  "kernelspec": {
   "display_name": "Python 3",
   "language": "python",
   "name": "python3"
  },
  "language_info": {
   "codemirror_mode": {
    "name": "ipython",
    "version": 3
   },
   "file_extension": ".py",
   "mimetype": "text/x-python",
   "name": "python",
   "nbconvert_exporter": "python",
   "pygments_lexer": "ipython3",
   "version": "3.7.9"
  }
 },
 "nbformat": 4,
 "nbformat_minor": 4
}
