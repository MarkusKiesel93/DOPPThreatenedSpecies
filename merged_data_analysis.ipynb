{
 "cells": [
  {
   "cell_type": "markdown",
   "metadata": {},
   "source": [
    "# Merge Datasets and Analysis"
   ]
  },
  {
   "cell_type": "markdown",
   "metadata": {},
   "source": [
    "# General"
   ]
  },
  {
   "cell_type": "markdown",
   "metadata": {},
   "source": [
    "## Imports"
   ]
  },
  {
   "cell_type": "code",
   "execution_count": 1,
   "metadata": {
    "ExecuteTime": {
     "end_time": "2021-01-19T10:30:52.807723Z",
     "start_time": "2021-01-19T10:30:52.061586Z"
    }
   },
   "outputs": [],
   "source": [
    "import os\n",
    "import pandas as pd\n",
    "import seaborn as sns\n"
   ]
  },
  {
   "cell_type": "markdown",
   "metadata": {},
   "source": [
    "## Constants"
   ]
  },
  {
   "cell_type": "code",
   "execution_count": 2,
   "metadata": {
    "ExecuteTime": {
     "end_time": "2021-01-19T10:30:52.812684Z",
     "start_time": "2021-01-19T10:30:52.810344Z"
    }
   },
   "outputs": [],
   "source": [
    "PATH_PROTECED_AREA = 'data/OECD/protected_areas_2020.csv'\n",
    "PATH_LAND_COVER = 'data/OECD/LAND_COVER_2018_DATA.csv'\n",
    "PATH_AIR = 'data/OECD/greenhouse_gases_2020_pred.csv'\n",
    "PATH_CLIMATE = 'data/climate/climate_features.csv'\n",
    "PATH_IUCN = 'data/IUCN/scraped'\n",
    "PATH_IUCN_REL = 'data/IUCN/THREATENED_RELATIVE.csv'\n",
    "PATHS_COUN = [PATH_PROTECED_AREA, PATH_LAND_COVER, PATH_CLIMATE, PATH_AIR] # AIR IS MISSING"
   ]
  },
  {
   "cell_type": "markdown",
   "metadata": {},
   "source": [
    "# IUCN Data"
   ]
  },
  {
   "cell_type": "markdown",
   "metadata": {
    "heading_collapsed": true
   },
   "source": [
    "## Load and Concatenate"
   ]
  },
  {
   "cell_type": "code",
   "execution_count": 3,
   "metadata": {
    "ExecuteTime": {
     "end_time": "2021-01-19T10:30:53.046249Z",
     "start_time": "2021-01-19T10:30:52.814613Z"
    },
    "hidden": true
   },
   "outputs": [],
   "source": [
    "iucn_list = []\n",
    "for _, _, files in os.walk(PATH_IUCN):\n",
    "    for file in files:\n",
    "        temp = pd.read_csv(PATH_IUCN + '/' + file)\n",
    "        temp['Country'] = file.split('.csv')[0]\n",
    "        iucn_list.append(temp)\n",
    "iucn_data = pd.concat(iucn_list)"
   ]
  },
  {
   "cell_type": "markdown",
   "metadata": {},
   "source": [
    "## Analysis"
   ]
  },
  {
   "cell_type": "markdown",
   "metadata": {},
   "source": [
    "### General Information"
   ]
  },
  {
   "cell_type": "code",
   "execution_count": 4,
   "metadata": {
    "ExecuteTime": {
     "end_time": "2021-01-19T10:30:53.074841Z",
     "start_time": "2021-01-19T10:30:53.047768Z"
    }
   },
   "outputs": [
    {
     "name": "stdout",
     "output_type": "stream",
     "text": [
      "<class 'pandas.core.frame.DataFrame'>\n",
      "Int64Index: 136624 entries, 0 to 601\n",
      "Data columns (total 7 columns):\n",
      " #   Column           Non-Null Count   Dtype \n",
      "---  ------           --------------   ----- \n",
      " 0   kingdom_class    136624 non-null  object\n",
      " 1   common_name      93221 non-null   object\n",
      " 2   scientific_name  136624 non-null  object\n",
      " 3   trend            133638 non-null  object\n",
      " 4   region           136624 non-null  object\n",
      " 5   threat_level     136624 non-null  object\n",
      " 6   Country          136624 non-null  object\n",
      "dtypes: object(7)\n",
      "memory usage: 8.3+ MB\n"
     ]
    }
   ],
   "source": [
    "iucn_data.info()"
   ]
  },
  {
   "cell_type": "markdown",
   "metadata": {},
   "source": [
    "### Check Uniue Values"
   ]
  },
  {
   "cell_type": "code",
   "execution_count": 5,
   "metadata": {
    "ExecuteTime": {
     "end_time": "2021-01-19T10:30:53.123950Z",
     "start_time": "2021-01-19T10:30:53.076372Z"
    }
   },
   "outputs": [
    {
     "name": "stdout",
     "output_type": "stream",
     "text": [
      "Column >>kingdom_class<< contains 32 unique values.\n",
      "Column >>common_name<< contains 30138 unique values.\n",
      "Column >>scientific_name<< contains 52327 unique values.\n",
      "Column >>trend<< contains 4 unique values.\n",
      "Column >>region<< contains 13 unique values.\n",
      "Column >>threat_level<< contains 9 unique values.\n",
      "Column >>Country<< contains 65 unique values.\n"
     ]
    }
   ],
   "source": [
    "for c in iucn_data.columns:\n",
    "    print('Column >>{}<< contains {} unique values.'.format(c, iucn_data[c].nunique()))"
   ]
  },
  {
   "cell_type": "markdown",
   "metadata": {},
   "source": [
    "### Explore Columns Containing NULL Values"
   ]
  },
  {
   "cell_type": "markdown",
   "metadata": {
    "heading_collapsed": true
   },
   "source": [
    "#### common_name"
   ]
  },
  {
   "cell_type": "code",
   "execution_count": 6,
   "metadata": {
    "ExecuteTime": {
     "end_time": "2021-01-19T10:30:53.137979Z",
     "start_time": "2021-01-19T10:30:53.127427Z"
    },
    "hidden": true
   },
   "outputs": [
    {
     "name": "stdout",
     "output_type": "stream",
     "text": [
      "common_name contains 30138 unique values.\n"
     ]
    }
   ],
   "source": [
    "print('common_name contains {} unique values.'.format(\n",
    "    iucn_data['common_name'].nunique()))"
   ]
  },
  {
   "cell_type": "code",
   "execution_count": 7,
   "metadata": {
    "ExecuteTime": {
     "end_time": "2021-01-19T10:30:53.146784Z",
     "start_time": "2021-01-19T10:30:53.140364Z"
    },
    "hidden": true
   },
   "outputs": [
    {
     "name": "stdout",
     "output_type": "stream",
     "text": [
      "43403 entries have missing values for the common_name column.\n"
     ]
    }
   ],
   "source": [
    "print('{} entries have missing values for the common_name column.'.format(\n",
    "    iucn_data['common_name'].isna().sum()))"
   ]
  },
  {
   "cell_type": "code",
   "execution_count": 8,
   "metadata": {
    "ExecuteTime": {
     "end_time": "2021-01-19T10:30:53.158010Z",
     "start_time": "2021-01-19T10:30:53.148837Z"
    },
    "hidden": true
   },
   "outputs": [],
   "source": [
    "i_null_cn = iucn_data[iucn_data['common_name'].isna()].index"
   ]
  },
  {
   "cell_type": "markdown",
   "metadata": {
    "hidden": true
   },
   "source": [
    "--> These missing values can probably be neglected, because we can use the scientific name as identifier."
   ]
  },
  {
   "cell_type": "markdown",
   "metadata": {
    "heading_collapsed": true
   },
   "source": [
    "#### trend"
   ]
  },
  {
   "cell_type": "code",
   "execution_count": 9,
   "metadata": {
    "ExecuteTime": {
     "end_time": "2021-01-19T10:30:53.171669Z",
     "start_time": "2021-01-19T10:30:53.159510Z"
    },
    "hidden": true
   },
   "outputs": [
    {
     "name": "stdout",
     "output_type": "stream",
     "text": [
      "trend contains 4 unique values, which are: ['Unknown' 'Decreasing' 'Increasing' 'Stable' nan].\n"
     ]
    }
   ],
   "source": [
    "print('trend contains {} unique values, which are: {}.'.format(\n",
    "    iucn_data['trend'].nunique(), iucn_data['trend'].unique()))"
   ]
  },
  {
   "cell_type": "code",
   "execution_count": 10,
   "metadata": {
    "ExecuteTime": {
     "end_time": "2021-01-19T10:30:53.179659Z",
     "start_time": "2021-01-19T10:30:53.173273Z"
    },
    "hidden": true
   },
   "outputs": [
    {
     "name": "stdout",
     "output_type": "stream",
     "text": [
      "2986 entries have missing values for the trend column.\n"
     ]
    }
   ],
   "source": [
    "print('{} entries have missing values for the trend column.'.format(\n",
    "    iucn_data['trend'].isna().sum()))"
   ]
  },
  {
   "cell_type": "code",
   "execution_count": 11,
   "metadata": {
    "ExecuteTime": {
     "end_time": "2021-01-19T10:30:53.321112Z",
     "start_time": "2021-01-19T10:30:53.181645Z"
    },
    "hidden": true
   },
   "outputs": [
    {
     "data": {
      "text/plain": [
       "<AxesSubplot:>"
      ]
     },
     "execution_count": 11,
     "metadata": {},
     "output_type": "execute_result"
    },
    {
     "data": {
      "image/png": "[encoded data removed]",
      "text/plain": [
       "<Figure size 432x288 with 1 Axes>"
      ]
     },
     "metadata": {
      "needs_background": "light"
     },
     "output_type": "display_data"
    }
   ],
   "source": [
    "temp_iucn = iucn_data.copy()\n",
    "temp_iucn.loc[temp_iucn['trend'].isna(), 'trend'] = 'NULL'\n",
    "temp_iucn['trend'].hist()"
   ]
  },
  {
   "cell_type": "code",
   "execution_count": 12,
   "metadata": {
    "ExecuteTime": {
     "end_time": "2021-01-19T10:30:53.338445Z",
     "start_time": "2021-01-19T10:30:53.322578Z"
    },
    "hidden": true
   },
   "outputs": [
    {
     "name": "stdout",
     "output_type": "stream",
     "text": [
      "The dataset contains 68333 entries with available trend information (not Null or Unknown).\n"
     ]
    }
   ],
   "source": [
    "print(\n",
    "    'The dataset contains {} entries with available trend information (not Null or Unknown).'\n",
    "    .format(\n",
    "        len(iucn_data[(iucn_data['trend'].isna() == False)\n",
    "                      & (iucn_data['trend'] != 'Unknown')])))"
   ]
  },
  {
   "cell_type": "markdown",
   "metadata": {
    "hidden": true
   },
   "source": [
    "**NOTE: This is an issue and we have to think about a strategy how to deal with these missing/unknown values.**\n",
    "Maybe we can check if these entries have some special characteristics."
   ]
  },
  {
   "cell_type": "markdown",
   "metadata": {},
   "source": [
    "# Country Characteristics Data"
   ]
  },
  {
   "cell_type": "markdown",
   "metadata": {},
   "source": [
    "## Load and Merge"
   ]
  },
  {
   "cell_type": "code",
   "execution_count": 13,
   "metadata": {
    "ExecuteTime": {
     "end_time": "2021-01-19T10:30:53.353636Z",
     "start_time": "2021-01-19T10:30:53.339937Z"
    }
   },
   "outputs": [
    {
     "name": "stdout",
     "output_type": "stream",
     "text": [
      "data/OECD/protected_areas_2020.csv\n",
      "data/OECD/LAND_COVER_2018_DATA.csv\n",
      "data/climate/climate_features.csv\n",
      "data/OECD/greenhouse_gases_2020_pred.csv\n"
     ]
    }
   ],
   "source": [
    "coun_list = []\n",
    "country_sets = []\n",
    "for file in PATHS_COUN:\n",
    "    print(file)\n",
    "    temp = pd.read_csv(file)\n",
    "    coun_list.append(temp)\n",
    "    country_sets.append(set(temp['Country']))"
   ]
  },
  {
   "cell_type": "code",
   "execution_count": 14,
   "metadata": {
    "ExecuteTime": {
     "end_time": "2021-01-19T10:30:53.358210Z",
     "start_time": "2021-01-19T10:30:53.355282Z"
    }
   },
   "outputs": [
    {
     "name": "stdout",
     "output_type": "stream",
     "text": [
      "The Country Characterisitcs Datasets contain 42 intersecting countries, which are: {'Iceland', 'Israel', 'Poland', 'Japan', 'Italy', 'Slovenia', 'Costa Rica', 'Netherlands', 'Austria', 'Australia', 'United Kingdom', 'Estonia', 'Argentina', 'Switzerland', 'Hungary', 'Greece', 'Czech Republic', 'Mexico', 'Slovak Republic', 'Luxembourg', 'Korea', 'Spain', 'Belgium', 'Russia', 'Germany', 'Brazil', 'Chile', 'Latvia', 'Sweden', 'United States', 'Portugal', 'Finland', 'Colombia', 'Lithuania', 'Norway', 'Canada', 'Denmark', 'Indonesia', 'France', 'Ireland', 'New Zealand', 'India'}\n"
     ]
    }
   ],
   "source": [
    "intersect_countries = country_sets[0].intersection(\n",
    "    country_sets[1], country_sets[2], country_sets[3])  ## add country_sets[3]\n",
    "print(\n",
    "    'The Country Characterisitcs Datasets contain {} intersecting countries, which are: {}'\n",
    "    .format(len(intersect_countries), intersect_countries))"
   ]
  },
  {
   "cell_type": "markdown",
   "metadata": {
    "ExecuteTime": {
     "end_time": "2021-01-15T10:01:20.723162Z",
     "start_time": "2021-01-15T10:01:20.706359Z"
    }
   },
   "source": [
    "--> Join Datasets on those countries."
   ]
  },
  {
   "cell_type": "code",
   "execution_count": 15,
   "metadata": {
    "ExecuteTime": {
     "end_time": "2021-01-19T10:30:53.390212Z",
     "start_time": "2021-01-19T10:30:53.359987Z"
    }
   },
   "outputs": [
    {
     "data": {
      "text/html": [
       "<div>\n",
       "<style scoped>\n",
       "    .dataframe tbody tr th:only-of-type {\n",
       "        vertical-align: middle;\n",
       "    }\n",
       "\n",
       "    .dataframe tbody tr th {\n",
       "        vertical-align: top;\n",
       "    }\n",
       "\n",
       "    .dataframe thead th {\n",
       "        text-align: right;\n",
       "    }\n",
       "</style>\n",
       "<table border=\"1\" class=\"dataframe\">\n",
       "  <thead>\n",
       "    <tr style=\"text-align: right;\">\n",
       "      <th></th>\n",
       "      <th>Country</th>\n",
       "      <th>perc_area_protected_all_obj</th>\n",
       "      <th>perc_area_protected_obj_2</th>\n",
       "      <th>perc_area_protected_obj_3</th>\n",
       "      <th>perc_area_protected_obj_4</th>\n",
       "      <th>perc_area_protected_obj_1a</th>\n",
       "      <th>perc_area_protected_obj_1b</th>\n",
       "      <th>perc_area_protected_no_obj</th>\n",
       "      <th>perc_area_protected_obj_5</th>\n",
       "      <th>perc_area_protected_obj_6</th>\n",
       "      <th>...</th>\n",
       "      <th>gain_percentage</th>\n",
       "      <th>temp_difference</th>\n",
       "      <th>Unnamed: 0</th>\n",
       "      <th>CH4</th>\n",
       "      <th>CO2</th>\n",
       "      <th>HFC</th>\n",
       "      <th>N2O</th>\n",
       "      <th>NF3</th>\n",
       "      <th>PFC</th>\n",
       "      <th>SF6</th>\n",
       "    </tr>\n",
       "  </thead>\n",
       "  <tbody>\n",
       "    <tr>\n",
       "      <th>0</th>\n",
       "      <td>Argentina</td>\n",
       "      <td>8.39</td>\n",
       "      <td>1.84</td>\n",
       "      <td>0.04</td>\n",
       "      <td>0.19</td>\n",
       "      <td>0.27</td>\n",
       "      <td>0.03</td>\n",
       "      <td>1.46</td>\n",
       "      <td>0.33</td>\n",
       "      <td>4.09</td>\n",
       "      <td>...</td>\n",
       "      <td>0.500525</td>\n",
       "      <td>0.072246</td>\n",
       "      <td>0</td>\n",
       "      <td>1.828861</td>\n",
       "      <td>4.710241</td>\n",
       "      <td>0.014370</td>\n",
       "      <td>1.002114</td>\n",
       "      <td>-1.000000</td>\n",
       "      <td>0.003744</td>\n",
       "      <td>0.000042</td>\n",
       "    </tr>\n",
       "    <tr>\n",
       "      <th>1</th>\n",
       "      <td>Australia</td>\n",
       "      <td>19.20</td>\n",
       "      <td>4.17</td>\n",
       "      <td>0.24</td>\n",
       "      <td>0.27</td>\n",
       "      <td>2.01</td>\n",
       "      <td>0.57</td>\n",
       "      <td>0.34</td>\n",
       "      <td>0.98</td>\n",
       "      <td>10.63</td>\n",
       "      <td>...</td>\n",
       "      <td>0.969423</td>\n",
       "      <td>0.214683</td>\n",
       "      <td>1</td>\n",
       "      <td>4.382540</td>\n",
       "      <td>16.642911</td>\n",
       "      <td>0.479420</td>\n",
       "      <td>0.804808</td>\n",
       "      <td>-1.000000</td>\n",
       "      <td>0.009443</td>\n",
       "      <td>0.009144</td>\n",
       "    </tr>\n",
       "    <tr>\n",
       "      <th>2</th>\n",
       "      <td>Austria</td>\n",
       "      <td>28.54</td>\n",
       "      <td>2.38</td>\n",
       "      <td>0.01</td>\n",
       "      <td>5.80</td>\n",
       "      <td>0.01</td>\n",
       "      <td>0.12</td>\n",
       "      <td>4.62</td>\n",
       "      <td>15.35</td>\n",
       "      <td>0.20</td>\n",
       "      <td>...</td>\n",
       "      <td>24.241043</td>\n",
       "      <td>1.498389</td>\n",
       "      <td>2</td>\n",
       "      <td>0.728541</td>\n",
       "      <td>7.549433</td>\n",
       "      <td>0.207606</td>\n",
       "      <td>0.398982</td>\n",
       "      <td>0.001868</td>\n",
       "      <td>0.003680</td>\n",
       "      <td>0.043241</td>\n",
       "    </tr>\n",
       "    <tr>\n",
       "      <th>3</th>\n",
       "      <td>Belgium</td>\n",
       "      <td>24.97</td>\n",
       "      <td>0.07</td>\n",
       "      <td>0.00</td>\n",
       "      <td>1.54</td>\n",
       "      <td>0.00</td>\n",
       "      <td>0.00</td>\n",
       "      <td>9.19</td>\n",
       "      <td>12.59</td>\n",
       "      <td>1.59</td>\n",
       "      <td>...</td>\n",
       "      <td>12.044550</td>\n",
       "      <td>1.167659</td>\n",
       "      <td>3</td>\n",
       "      <td>0.688260</td>\n",
       "      <td>8.787278</td>\n",
       "      <td>0.391962</td>\n",
       "      <td>0.500037</td>\n",
       "      <td>0.000057</td>\n",
       "      <td>0.011516</td>\n",
       "      <td>0.008337</td>\n",
       "    </tr>\n",
       "    <tr>\n",
       "      <th>4</th>\n",
       "      <td>Brazil</td>\n",
       "      <td>29.80</td>\n",
       "      <td>4.13</td>\n",
       "      <td>0.07</td>\n",
       "      <td>0.03</td>\n",
       "      <td>2.06</td>\n",
       "      <td>0.00</td>\n",
       "      <td>11.83</td>\n",
       "      <td>4.58</td>\n",
       "      <td>6.78</td>\n",
       "      <td>...</td>\n",
       "      <td>3.703937</td>\n",
       "      <td>0.929317</td>\n",
       "      <td>4</td>\n",
       "      <td>1.683181</td>\n",
       "      <td>2.566549</td>\n",
       "      <td>-1.000000</td>\n",
       "      <td>0.894033</td>\n",
       "      <td>-1.000000</td>\n",
       "      <td>-1.000000</td>\n",
       "      <td>-1.000000</td>\n",
       "    </tr>\n",
       "  </tbody>\n",
       "</table>\n",
       "<p>5 rows × 30 columns</p>\n",
       "</div>"
      ],
      "text/plain": [
       "     Country  perc_area_protected_all_obj  perc_area_protected_obj_2  \\\n",
       "0  Argentina                         8.39                       1.84   \n",
       "1  Australia                        19.20                       4.17   \n",
       "2    Austria                        28.54                       2.38   \n",
       "3    Belgium                        24.97                       0.07   \n",
       "4     Brazil                        29.80                       4.13   \n",
       "\n",
       "   perc_area_protected_obj_3  perc_area_protected_obj_4  \\\n",
       "0                       0.04                       0.19   \n",
       "1                       0.24                       0.27   \n",
       "2                       0.01                       5.80   \n",
       "3                       0.00                       1.54   \n",
       "4                       0.07                       0.03   \n",
       "\n",
       "   perc_area_protected_obj_1a  perc_area_protected_obj_1b  \\\n",
       "0                        0.27                        0.03   \n",
       "1                        2.01                        0.57   \n",
       "2                        0.01                        0.12   \n",
       "3                        0.00                        0.00   \n",
       "4                        2.06                        0.00   \n",
       "\n",
       "   perc_area_protected_no_obj  perc_area_protected_obj_5  \\\n",
       "0                        1.46                       0.33   \n",
       "1                        0.34                       0.98   \n",
       "2                        4.62                      15.35   \n",
       "3                        9.19                      12.59   \n",
       "4                       11.83                       4.58   \n",
       "\n",
       "   perc_area_protected_obj_6  ...  gain_percentage  temp_difference  \\\n",
       "0                       4.09  ...         0.500525         0.072246   \n",
       "1                      10.63  ...         0.969423         0.214683   \n",
       "2                       0.20  ...        24.241043         1.498389   \n",
       "3                       1.59  ...        12.044550         1.167659   \n",
       "4                       6.78  ...         3.703937         0.929317   \n",
       "\n",
       "   Unnamed: 0       CH4        CO2       HFC       N2O       NF3       PFC  \\\n",
       "0           0  1.828861   4.710241  0.014370  1.002114 -1.000000  0.003744   \n",
       "1           1  4.382540  16.642911  0.479420  0.804808 -1.000000  0.009443   \n",
       "2           2  0.728541   7.549433  0.207606  0.398982  0.001868  0.003680   \n",
       "3           3  0.688260   8.787278  0.391962  0.500037  0.000057  0.011516   \n",
       "4           4  1.683181   2.566549 -1.000000  0.894033 -1.000000 -1.000000   \n",
       "\n",
       "        SF6  \n",
       "0  0.000042  \n",
       "1  0.009144  \n",
       "2  0.043241  \n",
       "3  0.008337  \n",
       "4 -1.000000  \n",
       "\n",
       "[5 rows x 30 columns]"
      ]
     },
     "execution_count": 15,
     "metadata": {},
     "output_type": "execute_result"
    }
   ],
   "source": [
    "coun_data = coun_list[0]\n",
    "for coun in coun_list[1:]:\n",
    "    coun_data = pd.merge(coun_data, coun, on='Country', how='inner')\n",
    "coun_data.head()"
   ]
  },
  {
   "cell_type": "markdown",
   "metadata": {},
   "source": [
    "## Analysis"
   ]
  },
  {
   "cell_type": "markdown",
   "metadata": {},
   "source": [
    "### General Information"
   ]
  },
  {
   "cell_type": "code",
   "execution_count": 16,
   "metadata": {
    "ExecuteTime": {
     "end_time": "2021-01-19T10:30:53.400851Z",
     "start_time": "2021-01-19T10:30:53.391851Z"
    }
   },
   "outputs": [
    {
     "name": "stdout",
     "output_type": "stream",
     "text": [
      "<class 'pandas.core.frame.DataFrame'>\n",
      "Int64Index: 42 entries, 0 to 41\n",
      "Data columns (total 30 columns):\n",
      " #   Column                       Non-Null Count  Dtype  \n",
      "---  ------                       --------------  -----  \n",
      " 0   Country                      42 non-null     object \n",
      " 1   perc_area_protected_all_obj  42 non-null     float64\n",
      " 2   perc_area_protected_obj_2    42 non-null     float64\n",
      " 3   perc_area_protected_obj_3    42 non-null     float64\n",
      " 4   perc_area_protected_obj_4    42 non-null     float64\n",
      " 5   perc_area_protected_obj_1a   42 non-null     float64\n",
      " 6   perc_area_protected_obj_1b   42 non-null     float64\n",
      " 7   perc_area_protected_no_obj   42 non-null     float64\n",
      " 8   perc_area_protected_obj_5    42 non-null     float64\n",
      " 9   perc_area_protected_obj_6    42 non-null     float64\n",
      " 10  Artificial surfaces          42 non-null     float64\n",
      " 11  Bare area                    42 non-null     float64\n",
      " 12  Cropland                     42 non-null     float64\n",
      " 13  Grassland                    42 non-null     float64\n",
      " 14  Inland water                 42 non-null     float64\n",
      " 15  Shrubland                    42 non-null     float64\n",
      " 16  Sparse vegetation            42 non-null     float64\n",
      " 17  Tree cover                   42 non-null     float64\n",
      " 18  Wetland                      42 non-null     float64\n",
      " 19  temp_slope                   42 non-null     float64\n",
      " 20  gain_percentage              42 non-null     float64\n",
      " 21  temp_difference              42 non-null     float64\n",
      " 22  Unnamed: 0                   42 non-null     int64  \n",
      " 23  CH4                          42 non-null     float64\n",
      " 24  CO2                          42 non-null     float64\n",
      " 25  HFC                          42 non-null     float64\n",
      " 26  N2O                          42 non-null     float64\n",
      " 27  NF3                          42 non-null     float64\n",
      " 28  PFC                          42 non-null     float64\n",
      " 29  SF6                          42 non-null     float64\n",
      "dtypes: float64(28), int64(1), object(1)\n",
      "memory usage: 10.2+ KB\n"
     ]
    }
   ],
   "source": [
    "coun_data.info()"
   ]
  },
  {
   "cell_type": "markdown",
   "metadata": {},
   "source": [
    "There are no missing values in the dataset."
   ]
  },
  {
   "cell_type": "code",
   "execution_count": 17,
   "metadata": {
    "ExecuteTime": {
     "end_time": "2021-01-19T10:30:53.476672Z",
     "start_time": "2021-01-19T10:30:53.402144Z"
    }
   },
   "outputs": [
    {
     "data": {
      "text/html": [
       "<div>\n",
       "<style scoped>\n",
       "    .dataframe tbody tr th:only-of-type {\n",
       "        vertical-align: middle;\n",
       "    }\n",
       "\n",
       "    .dataframe tbody tr th {\n",
       "        vertical-align: top;\n",
       "    }\n",
       "\n",
       "    .dataframe thead th {\n",
       "        text-align: right;\n",
       "    }\n",
       "</style>\n",
       "<table border=\"1\" class=\"dataframe\">\n",
       "  <thead>\n",
       "    <tr style=\"text-align: right;\">\n",
       "      <th></th>\n",
       "      <th>perc_area_protected_all_obj</th>\n",
       "      <th>perc_area_protected_obj_2</th>\n",
       "      <th>perc_area_protected_obj_3</th>\n",
       "      <th>perc_area_protected_obj_4</th>\n",
       "      <th>perc_area_protected_obj_1a</th>\n",
       "      <th>perc_area_protected_obj_1b</th>\n",
       "      <th>perc_area_protected_no_obj</th>\n",
       "      <th>perc_area_protected_obj_5</th>\n",
       "      <th>perc_area_protected_obj_6</th>\n",
       "      <th>Artificial surfaces</th>\n",
       "      <th>...</th>\n",
       "      <th>gain_percentage</th>\n",
       "      <th>temp_difference</th>\n",
       "      <th>Unnamed: 0</th>\n",
       "      <th>CH4</th>\n",
       "      <th>CO2</th>\n",
       "      <th>HFC</th>\n",
       "      <th>N2O</th>\n",
       "      <th>NF3</th>\n",
       "      <th>PFC</th>\n",
       "      <th>SF6</th>\n",
       "    </tr>\n",
       "  </thead>\n",
       "  <tbody>\n",
       "    <tr>\n",
       "      <th>count</th>\n",
       "      <td>42.000000</td>\n",
       "      <td>42.000000</td>\n",
       "      <td>42.000000</td>\n",
       "      <td>42.000000</td>\n",
       "      <td>42.000000</td>\n",
       "      <td>42.000000</td>\n",
       "      <td>42.000000</td>\n",
       "      <td>42.000000</td>\n",
       "      <td>42.000000</td>\n",
       "      <td>42.000000</td>\n",
       "      <td>...</td>\n",
       "      <td>42.000000</td>\n",
       "      <td>42.000000</td>\n",
       "      <td>42.000000</td>\n",
       "      <td>42.000000</td>\n",
       "      <td>42.000000</td>\n",
       "      <td>42.000000</td>\n",
       "      <td>42.000000</td>\n",
       "      <td>42.000000</td>\n",
       "      <td>42.000000</td>\n",
       "      <td>42.000000</td>\n",
       "    </tr>\n",
       "    <tr>\n",
       "      <th>mean</th>\n",
       "      <td>22.282857</td>\n",
       "      <td>4.151667</td>\n",
       "      <td>0.362381</td>\n",
       "      <td>2.964762</td>\n",
       "      <td>0.445714</td>\n",
       "      <td>0.872619</td>\n",
       "      <td>6.900476</td>\n",
       "      <td>4.782381</td>\n",
       "      <td>1.533333</td>\n",
       "      <td>2.633913</td>\n",
       "      <td>...</td>\n",
       "      <td>10.864795</td>\n",
       "      <td>0.987359</td>\n",
       "      <td>22.095238</td>\n",
       "      <td>1.284412</td>\n",
       "      <td>7.478007</td>\n",
       "      <td>0.164214</td>\n",
       "      <td>0.586226</td>\n",
       "      <td>-0.666490</td>\n",
       "      <td>-0.154093</td>\n",
       "      <td>-0.036179</td>\n",
       "    </tr>\n",
       "    <tr>\n",
       "      <th>std</th>\n",
       "      <td>10.766357</td>\n",
       "      <td>5.984902</td>\n",
       "      <td>1.917474</td>\n",
       "      <td>3.469978</td>\n",
       "      <td>0.676599</td>\n",
       "      <td>1.827691</td>\n",
       "      <td>8.767212</td>\n",
       "      <td>5.999103</td>\n",
       "      <td>2.741055</td>\n",
       "      <td>2.734239</td>\n",
       "      <td>...</td>\n",
       "      <td>12.305045</td>\n",
       "      <td>0.448411</td>\n",
       "      <td>12.957359</td>\n",
       "      <td>1.194647</td>\n",
       "      <td>4.017188</td>\n",
       "      <td>0.297642</td>\n",
       "      <td>0.349903</td>\n",
       "      <td>0.477372</td>\n",
       "      <td>0.384327</td>\n",
       "      <td>0.219119</td>\n",
       "    </tr>\n",
       "    <tr>\n",
       "      <th>min</th>\n",
       "      <td>5.640000</td>\n",
       "      <td>0.000000</td>\n",
       "      <td>0.000000</td>\n",
       "      <td>0.010000</td>\n",
       "      <td>0.000000</td>\n",
       "      <td>0.000000</td>\n",
       "      <td>0.000000</td>\n",
       "      <td>0.000000</td>\n",
       "      <td>0.000000</td>\n",
       "      <td>0.000000</td>\n",
       "      <td>...</td>\n",
       "      <td>-24.178355</td>\n",
       "      <td>0.072246</td>\n",
       "      <td>0.000000</td>\n",
       "      <td>0.236113</td>\n",
       "      <td>1.278950</td>\n",
       "      <td>-1.000000</td>\n",
       "      <td>0.092906</td>\n",
       "      <td>-1.000000</td>\n",
       "      <td>-1.000000</td>\n",
       "      <td>-1.000000</td>\n",
       "    </tr>\n",
       "    <tr>\n",
       "      <th>25%</th>\n",
       "      <td>14.287500</td>\n",
       "      <td>0.652500</td>\n",
       "      <td>0.000000</td>\n",
       "      <td>0.440000</td>\n",
       "      <td>0.000000</td>\n",
       "      <td>0.000000</td>\n",
       "      <td>0.472500</td>\n",
       "      <td>0.110000</td>\n",
       "      <td>0.000000</td>\n",
       "      <td>0.592425</td>\n",
       "      <td>...</td>\n",
       "      <td>3.832235</td>\n",
       "      <td>0.659961</td>\n",
       "      <td>11.250000</td>\n",
       "      <td>0.750174</td>\n",
       "      <td>4.848182</td>\n",
       "      <td>0.109285</td>\n",
       "      <td>0.345235</td>\n",
       "      <td>-1.000000</td>\n",
       "      <td>0.000021</td>\n",
       "      <td>0.002429</td>\n",
       "    </tr>\n",
       "    <tr>\n",
       "      <th>50%</th>\n",
       "      <td>20.370000</td>\n",
       "      <td>2.025000</td>\n",
       "      <td>0.020000</td>\n",
       "      <td>1.555000</td>\n",
       "      <td>0.070000</td>\n",
       "      <td>0.005000</td>\n",
       "      <td>3.375000</td>\n",
       "      <td>1.430000</td>\n",
       "      <td>0.085000</td>\n",
       "      <td>1.577312</td>\n",
       "      <td>...</td>\n",
       "      <td>9.547614</td>\n",
       "      <td>0.943211</td>\n",
       "      <td>22.500000</td>\n",
       "      <td>0.893499</td>\n",
       "      <td>6.846338</td>\n",
       "      <td>0.176891</td>\n",
       "      <td>0.481730</td>\n",
       "      <td>-1.000000</td>\n",
       "      <td>0.003712</td>\n",
       "      <td>0.007283</td>\n",
       "    </tr>\n",
       "    <tr>\n",
       "      <th>75%</th>\n",
       "      <td>27.892500</td>\n",
       "      <td>4.812500</td>\n",
       "      <td>0.070000</td>\n",
       "      <td>3.877500</td>\n",
       "      <td>0.545000</td>\n",
       "      <td>0.525000</td>\n",
       "      <td>11.290000</td>\n",
       "      <td>7.780000</td>\n",
       "      <td>1.552500</td>\n",
       "      <td>4.066111</td>\n",
       "      <td>...</td>\n",
       "      <td>17.897105</td>\n",
       "      <td>1.382112</td>\n",
       "      <td>32.750000</td>\n",
       "      <td>1.261372</td>\n",
       "      <td>9.078078</td>\n",
       "      <td>0.322812</td>\n",
       "      <td>0.849686</td>\n",
       "      <td>0.000009</td>\n",
       "      <td>0.012341</td>\n",
       "      <td>0.010464</td>\n",
       "    </tr>\n",
       "    <tr>\n",
       "      <th>max</th>\n",
       "      <td>53.530000</td>\n",
       "      <td>32.610000</td>\n",
       "      <td>12.470000</td>\n",
       "      <td>14.740000</td>\n",
       "      <td>2.180000</td>\n",
       "      <td>7.530000</td>\n",
       "      <td>40.300000</td>\n",
       "      <td>25.240000</td>\n",
       "      <td>10.630000</td>\n",
       "      <td>11.333710</td>\n",
       "      <td>...</td>\n",
       "      <td>43.855657</td>\n",
       "      <td>1.852533</td>\n",
       "      <td>44.000000</td>\n",
       "      <td>7.017958</td>\n",
       "      <td>16.642911</td>\n",
       "      <td>0.550778</td>\n",
       "      <td>1.554079</td>\n",
       "      <td>0.002234</td>\n",
       "      <td>0.216726</td>\n",
       "      <td>0.128989</td>\n",
       "    </tr>\n",
       "  </tbody>\n",
       "</table>\n",
       "<p>8 rows × 29 columns</p>\n",
       "</div>"
      ],
      "text/plain": [
       "       perc_area_protected_all_obj  perc_area_protected_obj_2  \\\n",
       "count                    42.000000                  42.000000   \n",
       "mean                     22.282857                   4.151667   \n",
       "std                      10.766357                   5.984902   \n",
       "min                       5.640000                   0.000000   \n",
       "25%                      14.287500                   0.652500   \n",
       "50%                      20.370000                   2.025000   \n",
       "75%                      27.892500                   4.812500   \n",
       "max                      53.530000                  32.610000   \n",
       "\n",
       "       perc_area_protected_obj_3  perc_area_protected_obj_4  \\\n",
       "count                  42.000000                  42.000000   \n",
       "mean                    0.362381                   2.964762   \n",
       "std                     1.917474                   3.469978   \n",
       "min                     0.000000                   0.010000   \n",
       "25%                     0.000000                   0.440000   \n",
       "50%                     0.020000                   1.555000   \n",
       "75%                     0.070000                   3.877500   \n",
       "max                    12.470000                  14.740000   \n",
       "\n",
       "       perc_area_protected_obj_1a  perc_area_protected_obj_1b  \\\n",
       "count                   42.000000                   42.000000   \n",
       "mean                     0.445714                    0.872619   \n",
       "std                      0.676599                    1.827691   \n",
       "min                      0.000000                    0.000000   \n",
       "25%                      0.000000                    0.000000   \n",
       "50%                      0.070000                    0.005000   \n",
       "75%                      0.545000                    0.525000   \n",
       "max                      2.180000                    7.530000   \n",
       "\n",
       "       perc_area_protected_no_obj  perc_area_protected_obj_5  \\\n",
       "count                   42.000000                  42.000000   \n",
       "mean                     6.900476                   4.782381   \n",
       "std                      8.767212                   5.999103   \n",
       "min                      0.000000                   0.000000   \n",
       "25%                      0.472500                   0.110000   \n",
       "50%                      3.375000                   1.430000   \n",
       "75%                     11.290000                   7.780000   \n",
       "max                     40.300000                  25.240000   \n",
       "\n",
       "       perc_area_protected_obj_6  Artificial surfaces  ...  gain_percentage  \\\n",
       "count                  42.000000            42.000000  ...        42.000000   \n",
       "mean                    1.533333             2.633913  ...        10.864795   \n",
       "std                     2.741055             2.734239  ...        12.305045   \n",
       "min                     0.000000             0.000000  ...       -24.178355   \n",
       "25%                     0.000000             0.592425  ...         3.832235   \n",
       "50%                     0.085000             1.577312  ...         9.547614   \n",
       "75%                     1.552500             4.066111  ...        17.897105   \n",
       "max                    10.630000            11.333710  ...        43.855657   \n",
       "\n",
       "       temp_difference  Unnamed: 0        CH4        CO2        HFC  \\\n",
       "count        42.000000   42.000000  42.000000  42.000000  42.000000   \n",
       "mean          0.987359   22.095238   1.284412   7.478007   0.164214   \n",
       "std           0.448411   12.957359   1.194647   4.017188   0.297642   \n",
       "min           0.072246    0.000000   0.236113   1.278950  -1.000000   \n",
       "25%           0.659961   11.250000   0.750174   4.848182   0.109285   \n",
       "50%           0.943211   22.500000   0.893499   6.846338   0.176891   \n",
       "75%           1.382112   32.750000   1.261372   9.078078   0.322812   \n",
       "max           1.852533   44.000000   7.017958  16.642911   0.550778   \n",
       "\n",
       "             N2O        NF3        PFC        SF6  \n",
       "count  42.000000  42.000000  42.000000  42.000000  \n",
       "mean    0.586226  -0.666490  -0.154093  -0.036179  \n",
       "std     0.349903   0.477372   0.384327   0.219119  \n",
       "min     0.092906  -1.000000  -1.000000  -1.000000  \n",
       "25%     0.345235  -1.000000   0.000021   0.002429  \n",
       "50%     0.481730  -1.000000   0.003712   0.007283  \n",
       "75%     0.849686   0.000009   0.012341   0.010464  \n",
       "max     1.554079   0.002234   0.216726   0.128989  \n",
       "\n",
       "[8 rows x 29 columns]"
      ]
     },
     "execution_count": 17,
     "metadata": {},
     "output_type": "execute_result"
    }
   ],
   "source": [
    "coun_data.describe()"
   ]
  },
  {
   "cell_type": "code",
   "execution_count": 18,
   "metadata": {
    "ExecuteTime": {
     "end_time": "2021-01-19T10:30:53.483880Z",
     "start_time": "2021-01-19T10:30:53.480661Z"
    }
   },
   "outputs": [
    {
     "data": {
      "text/plain": [
       "42"
      ]
     },
     "execution_count": 18,
     "metadata": {},
     "output_type": "execute_result"
    }
   ],
   "source": [
    "coun_data['Country'].nunique()"
   ]
  },
  {
   "cell_type": "markdown",
   "metadata": {},
   "source": [
    "# Full Data"
   ]
  },
  {
   "cell_type": "markdown",
   "metadata": {},
   "source": [
    "## Merge both datasets"
   ]
  },
  {
   "cell_type": "markdown",
   "metadata": {
    "ExecuteTime": {
     "end_time": "2021-01-15T13:57:50.054145Z",
     "start_time": "2021-01-15T13:57:50.051068Z"
    }
   },
   "source": [
    "### Check Keys (countries)"
   ]
  },
  {
   "cell_type": "code",
   "execution_count": 19,
   "metadata": {
    "ExecuteTime": {
     "end_time": "2021-01-19T10:30:53.492375Z",
     "start_time": "2021-01-19T10:30:53.485590Z"
    }
   },
   "outputs": [
    {
     "name": "stdout",
     "output_type": "stream",
     "text": [
      "IUCN \\ CHAR: {'Peru', 'Tajikistan', 'Kazakhstan', 'Moldova', 'Ukraine', 'Malta', 'New Caledonia', 'Cyprus', 'Georgia', 'Belarus', 'Turkmenistan', 'Armenia', 'Northern Mariana Islands', 'Azerbaijan', 'Puerto Rico', 'Kyrgyzstan', 'Greenland', 'Bulgaria', 'Croatia', 'Saudi Arabia', 'Uzbekistan', 'South Africa', 'Romania'}\n",
      "CHAR \\ IUCN: set()\n"
     ]
    }
   ],
   "source": [
    "iucn_countries = set(iucn_data['Country'].unique())\n",
    "char_countries = set(coun_data['Country'].unique())\n",
    "print('IUCN \\ CHAR: {}'.format(iucn_countries.difference(char_countries)))\n",
    "print('CHAR \\ IUCN: {}'.format(char_countries.difference(iucn_countries)))"
   ]
  },
  {
   "cell_type": "code",
   "execution_count": 20,
   "metadata": {
    "ExecuteTime": {
     "end_time": "2021-01-19T10:47:03.965159Z",
     "start_time": "2021-01-19T10:47:03.959809Z"
    }
   },
   "outputs": [
    {
     "data": {
      "text/plain": [
       "37"
      ]
     },
     "execution_count": 20,
     "metadata": {},
     "output_type": "execute_result"
    }
   ],
   "source": [
    "oecd_list = [\n",
    "    'AUSTRALIA', 'AUSTRIA', 'BELGIUM', 'CANADA', 'CHILE', 'COLOMBIA',\n",
    "    'CZECH REPUBLIC', 'DENMARK', 'ESTONIA', 'FINLAND', 'FRANCE', 'GERMANY',\n",
    "    'GREECE', 'HUNGARY', 'ICELAND', 'IRELAND', 'ISRAEL', 'ITALY', 'JAPAN',\n",
    "    'KOREA', 'LATVIA', 'LITHUANIA', 'LUXEMBOURG', 'MEXICO', 'NETHERLANDS',\n",
    "    'NEW ZEALAND', 'NORWAY', 'POLAND', 'PORTUGAL', 'SLOVAK REPUBLIC',\n",
    "    'SLOVENIA', 'SPAIN', 'SWEDEN', 'SWITZERLAND', 'TURKEY', 'UNITED KINGDOM',\n",
    "    'UNITED STATES'\n",
    "]\n",
    "oecd_list = [c.title() for c in oecd_list]\n",
    "len(oecd_list)"
   ]
  },
  {
   "cell_type": "code",
   "execution_count": 21,
   "metadata": {
    "ExecuteTime": {
     "end_time": "2021-01-19T10:48:40.210132Z",
     "start_time": "2021-01-19T10:48:40.206598Z"
    }
   },
   "outputs": [
    {
     "data": {
      "text/plain": [
       "{'Turkey'}"
      ]
     },
     "execution_count": 21,
     "metadata": {},
     "output_type": "execute_result"
    }
   ],
   "source": [
    "set(oecd_list).difference(iucn_countries)"
   ]
  },
  {
   "cell_type": "code",
   "execution_count": 22,
   "metadata": {
    "ExecuteTime": {
     "end_time": "2021-01-19T10:49:30.264930Z",
     "start_time": "2021-01-19T10:49:30.261341Z"
    }
   },
   "outputs": [
    {
     "data": {
      "text/plain": [
       "{'Turkey'}"
      ]
     },
     "execution_count": 22,
     "metadata": {},
     "output_type": "execute_result"
    }
   ],
   "source": [
    "set(oecd_list).difference(char_countries)"
   ]
  },
  {
   "cell_type": "code",
   "execution_count": 23,
   "metadata": {
    "ExecuteTime": {
     "end_time": "2021-01-19T10:47:19.931948Z",
     "start_time": "2021-01-19T10:47:19.928048Z"
    }
   },
   "outputs": [
    {
     "data": {
      "text/plain": [
       "set()"
      ]
     },
     "execution_count": 23,
     "metadata": {},
     "output_type": "execute_result"
    }
   ],
   "source": [
    "iucn_diff_list = [c for c in iucn_countries.difference(char_countries)]\n",
    "set(iucn_diff_list).intersection(set(oecd_list))"
   ]
  },
  {
   "cell_type": "code",
   "execution_count": 24,
   "metadata": {},
   "outputs": [],
   "source": [
    "#i"
   ]
  },
  {
   "cell_type": "code",
   "execution_count": null,
   "metadata": {
    "ExecuteTime": {
     "end_time": "2021-01-19T10:45:02.767710Z",
     "start_time": "2021-01-19T10:45:02.764165Z"
    }
   },
   "outputs": [],
   "source": []
  },
  {
   "cell_type": "markdown",
   "metadata": {},
   "source": [
    "### Rename Country Data to Match IUCN Data"
   ]
  },
  {
   "cell_type": "code",
   "execution_count": 25,
   "metadata": {
    "ExecuteTime": {
     "end_time": "2021-01-19T10:30:53.499798Z",
     "start_time": "2021-01-19T10:30:53.494135Z"
    }
   },
   "outputs": [],
   "source": [
    "coun_data.loc[coun_data['Country'] == 'New Zealand', 'Country'] = 'New_Zealand'\n",
    "coun_data.loc[coun_data['Country'] == 'Slovak Republic', 'Country'] = 'Slovakia'\n",
    "coun_data.loc[coun_data['Country'] == 'United Kingdom', 'Country'] = 'United_Kingdom'\n",
    "coun_data.loc[coun_data['Country'] == 'United States', 'Country'] = 'United_States'\n",
    "coun_data.loc[coun_data['Country'] == 'Czech Republic', 'Country'] = 'Czechia'\n",
    "coun_data.loc[coun_data['Country'] == 'Korea', 'Country'] = 'Korea,_Republic_of'"
   ]
  },
  {
   "cell_type": "markdown",
   "metadata": {},
   "source": [
    "### Merge "
   ]
  },
  {
   "cell_type": "code",
   "execution_count": 26,
   "metadata": {
    "ExecuteTime": {
     "end_time": "2021-01-19T10:30:53.535653Z",
     "start_time": "2021-01-19T10:30:53.501281Z"
    }
   },
   "outputs": [
    {
     "data": {
      "text/plain": [
       "36"
      ]
     },
     "execution_count": 26,
     "metadata": {},
     "output_type": "execute_result"
    }
   ],
   "source": [
    "full_data = iucn_data.merge(coun_data, on='Country', how='inner')\n",
    "full_data['Country'].nunique()"
   ]
  },
  {
   "cell_type": "code",
   "execution_count": 36,
   "metadata": {
    "ExecuteTime": {
     "end_time": "2021-01-15T14:57:17.727601Z",
     "start_time": "2021-01-15T14:57:17.723632Z"
    }
   },
   "outputs": [
    {
     "data": {
      "text/html": [
       "<div>\n",
       "<style scoped>\n",
       "    .dataframe tbody tr th:only-of-type {\n",
       "        vertical-align: middle;\n",
       "    }\n",
       "\n",
       "    .dataframe tbody tr th {\n",
       "        vertical-align: top;\n",
       "    }\n",
       "\n",
       "    .dataframe thead th {\n",
       "        text-align: right;\n",
       "    }\n",
       "</style>\n",
       "<table border=\"1\" class=\"dataframe\">\n",
       "  <thead>\n",
       "    <tr style=\"text-align: right;\">\n",
       "      <th></th>\n",
       "      <th>Country</th>\n",
       "      <th>perc_area_protected_all_obj</th>\n",
       "      <th>perc_area_protected_obj_2</th>\n",
       "      <th>perc_area_protected_obj_3</th>\n",
       "      <th>perc_area_protected_obj_4</th>\n",
       "      <th>perc_area_protected_obj_1a</th>\n",
       "      <th>perc_area_protected_obj_1b</th>\n",
       "      <th>perc_area_protected_no_obj</th>\n",
       "      <th>perc_area_protected_obj_5</th>\n",
       "      <th>perc_area_protected_obj_6</th>\n",
       "      <th>...</th>\n",
       "      <th>gain_percentage</th>\n",
       "      <th>temp_difference</th>\n",
       "      <th>Unnamed: 0</th>\n",
       "      <th>CH4</th>\n",
       "      <th>CO2</th>\n",
       "      <th>HFC</th>\n",
       "      <th>N2O</th>\n",
       "      <th>NF3</th>\n",
       "      <th>PFC</th>\n",
       "      <th>SF6</th>\n",
       "    </tr>\n",
       "  </thead>\n",
       "  <tbody>\n",
       "    <tr>\n",
       "      <th>0</th>\n",
       "      <td>Argentina</td>\n",
       "      <td>8.39</td>\n",
       "      <td>1.84</td>\n",
       "      <td>0.04</td>\n",
       "      <td>0.19</td>\n",
       "      <td>0.27</td>\n",
       "      <td>0.03</td>\n",
       "      <td>1.46</td>\n",
       "      <td>0.33</td>\n",
       "      <td>4.09</td>\n",
       "      <td>...</td>\n",
       "      <td>0.500525</td>\n",
       "      <td>0.072246</td>\n",
       "      <td>0</td>\n",
       "      <td>1.828861</td>\n",
       "      <td>4.710241</td>\n",
       "      <td>0.014370</td>\n",
       "      <td>1.002114</td>\n",
       "      <td>-1.000000</td>\n",
       "      <td>0.003744</td>\n",
       "      <td>0.000042</td>\n",
       "    </tr>\n",
       "    <tr>\n",
       "      <th>1</th>\n",
       "      <td>Australia</td>\n",
       "      <td>19.20</td>\n",
       "      <td>4.17</td>\n",
       "      <td>0.24</td>\n",
       "      <td>0.27</td>\n",
       "      <td>2.01</td>\n",
       "      <td>0.57</td>\n",
       "      <td>0.34</td>\n",
       "      <td>0.98</td>\n",
       "      <td>10.63</td>\n",
       "      <td>...</td>\n",
       "      <td>0.969423</td>\n",
       "      <td>0.214683</td>\n",
       "      <td>1</td>\n",
       "      <td>4.382540</td>\n",
       "      <td>16.642911</td>\n",
       "      <td>0.479420</td>\n",
       "      <td>0.804808</td>\n",
       "      <td>-1.000000</td>\n",
       "      <td>0.009443</td>\n",
       "      <td>0.009144</td>\n",
       "    </tr>\n",
       "    <tr>\n",
       "      <th>2</th>\n",
       "      <td>Austria</td>\n",
       "      <td>28.54</td>\n",
       "      <td>2.38</td>\n",
       "      <td>0.01</td>\n",
       "      <td>5.80</td>\n",
       "      <td>0.01</td>\n",
       "      <td>0.12</td>\n",
       "      <td>4.62</td>\n",
       "      <td>15.35</td>\n",
       "      <td>0.20</td>\n",
       "      <td>...</td>\n",
       "      <td>24.241043</td>\n",
       "      <td>1.498389</td>\n",
       "      <td>2</td>\n",
       "      <td>0.728541</td>\n",
       "      <td>7.549433</td>\n",
       "      <td>0.207606</td>\n",
       "      <td>0.398982</td>\n",
       "      <td>0.001868</td>\n",
       "      <td>0.003680</td>\n",
       "      <td>0.043241</td>\n",
       "    </tr>\n",
       "    <tr>\n",
       "      <th>3</th>\n",
       "      <td>Belgium</td>\n",
       "      <td>24.97</td>\n",
       "      <td>0.07</td>\n",
       "      <td>0.00</td>\n",
       "      <td>1.54</td>\n",
       "      <td>0.00</td>\n",
       "      <td>0.00</td>\n",
       "      <td>9.19</td>\n",
       "      <td>12.59</td>\n",
       "      <td>1.59</td>\n",
       "      <td>...</td>\n",
       "      <td>12.044550</td>\n",
       "      <td>1.167659</td>\n",
       "      <td>3</td>\n",
       "      <td>0.688260</td>\n",
       "      <td>8.787278</td>\n",
       "      <td>0.391962</td>\n",
       "      <td>0.500037</td>\n",
       "      <td>0.000057</td>\n",
       "      <td>0.011516</td>\n",
       "      <td>0.008337</td>\n",
       "    </tr>\n",
       "    <tr>\n",
       "      <th>4</th>\n",
       "      <td>Brazil</td>\n",
       "      <td>29.80</td>\n",
       "      <td>4.13</td>\n",
       "      <td>0.07</td>\n",
       "      <td>0.03</td>\n",
       "      <td>2.06</td>\n",
       "      <td>0.00</td>\n",
       "      <td>11.83</td>\n",
       "      <td>4.58</td>\n",
       "      <td>6.78</td>\n",
       "      <td>...</td>\n",
       "      <td>3.703937</td>\n",
       "      <td>0.929317</td>\n",
       "      <td>4</td>\n",
       "      <td>1.683181</td>\n",
       "      <td>2.566549</td>\n",
       "      <td>-1.000000</td>\n",
       "      <td>0.894033</td>\n",
       "      <td>-1.000000</td>\n",
       "      <td>-1.000000</td>\n",
       "      <td>-1.000000</td>\n",
       "    </tr>\n",
       "  </tbody>\n",
       "</table>\n",
       "<p>5 rows × 30 columns</p>\n",
       "</div>"
      ],
      "text/plain": [
       "     Country  perc_area_protected_all_obj  perc_area_protected_obj_2  \\\n",
       "0  Argentina                         8.39                       1.84   \n",
       "1  Australia                        19.20                       4.17   \n",
       "2    Austria                        28.54                       2.38   \n",
       "3    Belgium                        24.97                       0.07   \n",
       "4     Brazil                        29.80                       4.13   \n",
       "\n",
       "   perc_area_protected_obj_3  perc_area_protected_obj_4  \\\n",
       "0                       0.04                       0.19   \n",
       "1                       0.24                       0.27   \n",
       "2                       0.01                       5.80   \n",
       "3                       0.00                       1.54   \n",
       "4                       0.07                       0.03   \n",
       "\n",
       "   perc_area_protected_obj_1a  perc_area_protected_obj_1b  \\\n",
       "0                        0.27                        0.03   \n",
       "1                        2.01                        0.57   \n",
       "2                        0.01                        0.12   \n",
       "3                        0.00                        0.00   \n",
       "4                        2.06                        0.00   \n",
       "\n",
       "   perc_area_protected_no_obj  perc_area_protected_obj_5  \\\n",
       "0                        1.46                       0.33   \n",
       "1                        0.34                       0.98   \n",
       "2                        4.62                      15.35   \n",
       "3                        9.19                      12.59   \n",
       "4                       11.83                       4.58   \n",
       "\n",
       "   perc_area_protected_obj_6  ...  gain_percentage  temp_difference  \\\n",
       "0                       4.09  ...         0.500525         0.072246   \n",
       "1                      10.63  ...         0.969423         0.214683   \n",
       "2                       0.20  ...        24.241043         1.498389   \n",
       "3                       1.59  ...        12.044550         1.167659   \n",
       "4                       6.78  ...         3.703937         0.929317   \n",
       "\n",
       "   Unnamed: 0       CH4        CO2       HFC       N2O       NF3       PFC  \\\n",
       "0           0  1.828861   4.710241  0.014370  1.002114 -1.000000  0.003744   \n",
       "1           1  4.382540  16.642911  0.479420  0.804808 -1.000000  0.009443   \n",
       "2           2  0.728541   7.549433  0.207606  0.398982  0.001868  0.003680   \n",
       "3           3  0.688260   8.787278  0.391962  0.500037  0.000057  0.011516   \n",
       "4           4  1.683181   2.566549 -1.000000  0.894033 -1.000000 -1.000000   \n",
       "\n",
       "        SF6  \n",
       "0  0.000042  \n",
       "1  0.009144  \n",
       "2  0.043241  \n",
       "3  0.008337  \n",
       "4 -1.000000  \n",
       "\n",
       "[5 rows x 30 columns]"
      ]
     },
     "execution_count": 36,
     "metadata": {},
     "output_type": "execute_result"
    }
   ],
   "source": []
  },
  {
   "cell_type": "markdown",
   "metadata": {},
   "source": [
    "### Merge with the total number of threatened species\n",
    "For the prediction of the number of species per country, we merge our coun_data with the absolute number of threatened species per country."
   ]
  },
  {
   "cell_type": "code",
   "execution_count": 27,
   "metadata": {},
   "outputs": [
    {
     "name": "stdout",
     "output_type": "stream",
     "text": [
      "THREAT \\ CHAR: {'Peru', 'Tajikistan', 'Kazakhstan', 'Moldova', 'Ukraine', 'Malta', 'New Caledonia', 'Cyprus', 'Georgia', 'Belarus', 'Turkmenistan', 'Armenia', 'Northern Mariana Islands', 'Azerbaijan', 'Puerto Rico', 'Kyrgyzstan', 'Greenland', 'Bulgaria', 'Croatia', 'Saudi Arabia', 'Uzbekistan', 'South Africa', 'Romania'}\n",
      "CHAR \\ THREAT: {'Czech Republic', 'Korea', 'Russia', 'Slovak Republic'}\n"
     ]
    }
   ],
   "source": [
    "threatened_relative = pd.read_csv(PATH_IUCN_REL)\n",
    "threatened_countries = set(threatened_relative['Country'].unique())\n",
    "print('THREAT \\ CHAR: {}'.format(threatened_countries.difference(char_countries)))\n",
    "print('CHAR \\ THREAT: {}'.format(char_countries.difference(threatened_countries)))"
   ]
  },
  {
   "cell_type": "code",
   "execution_count": 28,
   "metadata": {},
   "outputs": [
    {
     "data": {
      "text/plain": [
       "(35, 32)"
      ]
     },
     "execution_count": 28,
     "metadata": {},
     "output_type": "execute_result"
    }
   ],
   "source": [
    "full_threatened = threatened_relative.merge(coun_data, on='Country', how='inner')\n",
    "full_threatened.shape"
   ]
  },
  {
   "cell_type": "markdown",
   "metadata": {},
   "source": [
    "Problems: columns Unnamed: 0_x and Unnamed: 0_y; 35 instead of 36 countries"
   ]
  },
  {
   "cell_type": "code",
   "execution_count": 34,
   "metadata": {},
   "outputs": [
    {
     "data": {
      "text/html": [
       "<div>\n",
       "<style scoped>\n",
       "    .dataframe tbody tr th:only-of-type {\n",
       "        vertical-align: middle;\n",
       "    }\n",
       "\n",
       "    .dataframe tbody tr th {\n",
       "        vertical-align: top;\n",
       "    }\n",
       "\n",
       "    .dataframe thead th {\n",
       "        text-align: right;\n",
       "    }\n",
       "</style>\n",
       "<table border=\"1\" class=\"dataframe\">\n",
       "  <thead>\n",
       "    <tr style=\"text-align: right;\">\n",
       "      <th></th>\n",
       "      <th>Unnamed: 0_x</th>\n",
       "      <th>Country</th>\n",
       "      <th>Relative</th>\n",
       "      <th>perc_area_protected_all_obj</th>\n",
       "      <th>perc_area_protected_obj_2</th>\n",
       "      <th>perc_area_protected_obj_3</th>\n",
       "      <th>perc_area_protected_obj_4</th>\n",
       "      <th>perc_area_protected_obj_1a</th>\n",
       "      <th>perc_area_protected_obj_1b</th>\n",
       "      <th>perc_area_protected_no_obj</th>\n",
       "      <th>...</th>\n",
       "      <th>gain_percentage</th>\n",
       "      <th>temp_difference</th>\n",
       "      <th>Unnamed: 0_y</th>\n",
       "      <th>CH4</th>\n",
       "      <th>CO2</th>\n",
       "      <th>HFC</th>\n",
       "      <th>N2O</th>\n",
       "      <th>NF3</th>\n",
       "      <th>PFC</th>\n",
       "      <th>SF6</th>\n",
       "    </tr>\n",
       "  </thead>\n",
       "  <tbody>\n",
       "    <tr>\n",
       "      <th>0</th>\n",
       "      <td>0</td>\n",
       "      <td>Argentina</td>\n",
       "      <td>0.080167</td>\n",
       "      <td>8.39</td>\n",
       "      <td>1.84</td>\n",
       "      <td>0.04</td>\n",
       "      <td>0.19</td>\n",
       "      <td>0.27</td>\n",
       "      <td>0.03</td>\n",
       "      <td>1.46</td>\n",
       "      <td>...</td>\n",
       "      <td>0.500525</td>\n",
       "      <td>0.072246</td>\n",
       "      <td>0</td>\n",
       "      <td>1.828861</td>\n",
       "      <td>4.710241</td>\n",
       "      <td>0.014370</td>\n",
       "      <td>1.002114</td>\n",
       "      <td>-1.000000</td>\n",
       "      <td>0.003744</td>\n",
       "      <td>0.000042</td>\n",
       "    </tr>\n",
       "    <tr>\n",
       "      <th>1</th>\n",
       "      <td>2</td>\n",
       "      <td>Australia</td>\n",
       "      <td>0.105447</td>\n",
       "      <td>19.20</td>\n",
       "      <td>4.17</td>\n",
       "      <td>0.24</td>\n",
       "      <td>0.27</td>\n",
       "      <td>2.01</td>\n",
       "      <td>0.57</td>\n",
       "      <td>0.34</td>\n",
       "      <td>...</td>\n",
       "      <td>0.969423</td>\n",
       "      <td>0.214683</td>\n",
       "      <td>1</td>\n",
       "      <td>4.382540</td>\n",
       "      <td>16.642911</td>\n",
       "      <td>0.479420</td>\n",
       "      <td>0.804808</td>\n",
       "      <td>-1.000000</td>\n",
       "      <td>0.009443</td>\n",
       "      <td>0.009144</td>\n",
       "    </tr>\n",
       "    <tr>\n",
       "      <th>2</th>\n",
       "      <td>3</td>\n",
       "      <td>Austria</td>\n",
       "      <td>0.044706</td>\n",
       "      <td>28.54</td>\n",
       "      <td>2.38</td>\n",
       "      <td>0.01</td>\n",
       "      <td>5.80</td>\n",
       "      <td>0.01</td>\n",
       "      <td>0.12</td>\n",
       "      <td>4.62</td>\n",
       "      <td>...</td>\n",
       "      <td>24.241043</td>\n",
       "      <td>1.498389</td>\n",
       "      <td>2</td>\n",
       "      <td>0.728541</td>\n",
       "      <td>7.549433</td>\n",
       "      <td>0.207606</td>\n",
       "      <td>0.398982</td>\n",
       "      <td>0.001868</td>\n",
       "      <td>0.003680</td>\n",
       "      <td>0.043241</td>\n",
       "    </tr>\n",
       "    <tr>\n",
       "      <th>3</th>\n",
       "      <td>6</td>\n",
       "      <td>Belgium</td>\n",
       "      <td>0.030899</td>\n",
       "      <td>24.97</td>\n",
       "      <td>0.07</td>\n",
       "      <td>0.00</td>\n",
       "      <td>1.54</td>\n",
       "      <td>0.00</td>\n",
       "      <td>0.00</td>\n",
       "      <td>9.19</td>\n",
       "      <td>...</td>\n",
       "      <td>12.044550</td>\n",
       "      <td>1.167659</td>\n",
       "      <td>3</td>\n",
       "      <td>0.688260</td>\n",
       "      <td>8.787278</td>\n",
       "      <td>0.391962</td>\n",
       "      <td>0.500037</td>\n",
       "      <td>0.000057</td>\n",
       "      <td>0.011516</td>\n",
       "      <td>0.008337</td>\n",
       "    </tr>\n",
       "    <tr>\n",
       "      <th>4</th>\n",
       "      <td>7</td>\n",
       "      <td>Brazil</td>\n",
       "      <td>0.088386</td>\n",
       "      <td>29.80</td>\n",
       "      <td>4.13</td>\n",
       "      <td>0.07</td>\n",
       "      <td>0.03</td>\n",
       "      <td>2.06</td>\n",
       "      <td>0.00</td>\n",
       "      <td>11.83</td>\n",
       "      <td>...</td>\n",
       "      <td>3.703937</td>\n",
       "      <td>0.929317</td>\n",
       "      <td>4</td>\n",
       "      <td>1.683181</td>\n",
       "      <td>2.566549</td>\n",
       "      <td>-1.000000</td>\n",
       "      <td>0.894033</td>\n",
       "      <td>-1.000000</td>\n",
       "      <td>-1.000000</td>\n",
       "      <td>-1.000000</td>\n",
       "    </tr>\n",
       "  </tbody>\n",
       "</table>\n",
       "<p>5 rows × 32 columns</p>\n",
       "</div>"
      ],
      "text/plain": [
       "   Unnamed: 0_x    Country  Relative  perc_area_protected_all_obj  \\\n",
       "0             0  Argentina  0.080167                         8.39   \n",
       "1             2  Australia  0.105447                        19.20   \n",
       "2             3    Austria  0.044706                        28.54   \n",
       "3             6    Belgium  0.030899                        24.97   \n",
       "4             7     Brazil  0.088386                        29.80   \n",
       "\n",
       "   perc_area_protected_obj_2  perc_area_protected_obj_3  \\\n",
       "0                       1.84                       0.04   \n",
       "1                       4.17                       0.24   \n",
       "2                       2.38                       0.01   \n",
       "3                       0.07                       0.00   \n",
       "4                       4.13                       0.07   \n",
       "\n",
       "   perc_area_protected_obj_4  perc_area_protected_obj_1a  \\\n",
       "0                       0.19                        0.27   \n",
       "1                       0.27                        2.01   \n",
       "2                       5.80                        0.01   \n",
       "3                       1.54                        0.00   \n",
       "4                       0.03                        2.06   \n",
       "\n",
       "   perc_area_protected_obj_1b  perc_area_protected_no_obj  ...  \\\n",
       "0                        0.03                        1.46  ...   \n",
       "1                        0.57                        0.34  ...   \n",
       "2                        0.12                        4.62  ...   \n",
       "3                        0.00                        9.19  ...   \n",
       "4                        0.00                       11.83  ...   \n",
       "\n",
       "   gain_percentage  temp_difference  Unnamed: 0_y       CH4        CO2  \\\n",
       "0         0.500525         0.072246             0  1.828861   4.710241   \n",
       "1         0.969423         0.214683             1  4.382540  16.642911   \n",
       "2        24.241043         1.498389             2  0.728541   7.549433   \n",
       "3        12.044550         1.167659             3  0.688260   8.787278   \n",
       "4         3.703937         0.929317             4  1.683181   2.566549   \n",
       "\n",
       "        HFC       N2O       NF3       PFC       SF6  \n",
       "0  0.014370  1.002114 -1.000000  0.003744  0.000042  \n",
       "1  0.479420  0.804808 -1.000000  0.009443  0.009144  \n",
       "2  0.207606  0.398982  0.001868  0.003680  0.043241  \n",
       "3  0.391962  0.500037  0.000057  0.011516  0.008337  \n",
       "4 -1.000000  0.894033 -1.000000 -1.000000 -1.000000  \n",
       "\n",
       "[5 rows x 32 columns]"
      ]
     },
     "execution_count": 34,
     "metadata": {},
     "output_type": "execute_result"
    }
   ],
   "source": [
    "full_threatened.head()"
   ]
  }
 ],
 "metadata": {
  "kernelspec": {
   "display_name": "Python 3",
   "language": "python",
   "name": "python3"
  },
  "language_info": {
   "codemirror_mode": {
    "name": "ipython",
    "version": 3
   },
   "file_extension": ".py",
   "mimetype": "text/x-python",
   "name": "python",
   "nbconvert_exporter": "python",
   "pygments_lexer": "ipython3",
   "version": "3.8.5"
  }
 },
 "nbformat": 4,
 "nbformat_minor": 4
}
