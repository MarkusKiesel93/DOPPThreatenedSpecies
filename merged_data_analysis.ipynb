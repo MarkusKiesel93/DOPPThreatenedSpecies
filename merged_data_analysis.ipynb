{
 "cells": [
  {
   "cell_type": "markdown",
   "metadata": {},
   "source": [
    "# Merge Datasets and Analysis"
   ]
  },
  {
   "cell_type": "markdown",
   "metadata": {},
   "source": [
    "# General"
   ]
  },
  {
   "cell_type": "markdown",
   "metadata": {},
   "source": [
    "## Imports"
   ]
  },
  {
   "cell_type": "code",
   "execution_count": 105,
   "metadata": {
    "ExecuteTime": {
     "end_time": "2021-01-15T10:48:16.031685Z",
     "start_time": "2021-01-15T10:48:15.016226Z"
    }
   },
   "outputs": [],
   "source": [
    "import os\n",
    "import pandas as pd\n",
    "import seaborn as sns\n"
   ]
  },
  {
   "cell_type": "markdown",
   "metadata": {},
   "source": [
    "## Constants"
   ]
  },
  {
   "cell_type": "code",
   "execution_count": 61,
   "metadata": {
    "ExecuteTime": {
     "end_time": "2021-01-15T09:53:33.961922Z",
     "start_time": "2021-01-15T09:53:33.959061Z"
    }
   },
   "outputs": [],
   "source": [
    "PATH_PROTECED_AREA = 'data/OECD/protected_areas_2020.csv'\n",
    "PATH_LAND_COVER = 'data/OECD/LAND_COVER_2018_DATA.csv'\n",
    "PATH_AIR = ''\n",
    "PATH_CLIMATE = 'data/climate/climate_features.csv'\n",
    "PATH_IUCN = 'data/IUCN/scraped'\n",
    "PATHS_COUN = [PATH_PROTECED_AREA, PATH_LAND_COVER, PATH_CLIMATE] # AIR IS MISSING"
   ]
  },
  {
   "cell_type": "markdown",
   "metadata": {},
   "source": [
    "# IUCN Data"
   ]
  },
  {
   "cell_type": "markdown",
   "metadata": {
    "heading_collapsed": true
   },
   "source": [
    "## Load and Concatenate"
   ]
  },
  {
   "cell_type": "code",
   "execution_count": 23,
   "metadata": {
    "ExecuteTime": {
     "end_time": "2021-01-15T09:11:20.654477Z",
     "start_time": "2021-01-15T09:11:20.535601Z"
    },
    "hidden": true
   },
   "outputs": [],
   "source": [
    "iucn_list = []\n",
    "for _, _, files in os.walk(PATH_IUCN):\n",
    "    for file in files:\n",
    "        temp = pd.read_csv(PATH_IUCN + '/' + file)\n",
    "        temp['Country'] = file.split('.csv')[0]\n",
    "        iucn_list.append(temp)\n",
    "iucn_data = pd.concat(iucn_list)"
   ]
  },
  {
   "cell_type": "markdown",
   "metadata": {},
   "source": [
    "## Analysis"
   ]
  },
  {
   "cell_type": "markdown",
   "metadata": {},
   "source": [
    "### General Information"
   ]
  },
  {
   "cell_type": "code",
   "execution_count": 25,
   "metadata": {
    "ExecuteTime": {
     "end_time": "2021-01-15T09:11:38.794808Z",
     "start_time": "2021-01-15T09:11:38.773561Z"
    }
   },
   "outputs": [
    {
     "name": "stdout",
     "output_type": "stream",
     "text": [
      "<class 'pandas.core.frame.DataFrame'>\n",
      "Int64Index: 1006 entries, 0 to 27\n",
      "Data columns (total 7 columns):\n",
      " #   Column           Non-Null Count  Dtype \n",
      "---  ------           --------------  ----- \n",
      " 0   kingdom_class    1006 non-null   object\n",
      " 1   common_name      692 non-null    object\n",
      " 2   scientific_name  1006 non-null   object\n",
      " 3   trend            579 non-null    object\n",
      " 4   region           1006 non-null   object\n",
      " 5   threat_level     1006 non-null   object\n",
      " 6   Country          1006 non-null   object\n",
      "dtypes: object(7)\n",
      "memory usage: 62.9+ KB\n"
     ]
    }
   ],
   "source": [
    "iucn_data.info()"
   ]
  },
  {
   "cell_type": "markdown",
   "metadata": {},
   "source": [
    "### Check Uniue Values"
   ]
  },
  {
   "cell_type": "code",
   "execution_count": 56,
   "metadata": {
    "ExecuteTime": {
     "end_time": "2021-01-15T09:37:56.767011Z",
     "start_time": "2021-01-15T09:37:56.762666Z"
    }
   },
   "outputs": [
    {
     "name": "stdout",
     "output_type": "stream",
     "text": [
      "Column >>kingdom_class<< contains 14 unique values.\n",
      "Column >>common_name<< contains 484 unique values.\n",
      "Column >>scientific_name<< contains 754 unique values.\n",
      "Column >>trend<< contains 4 unique values.\n",
      "Column >>region<< contains 4 unique values.\n",
      "Column >>threat_level<< contains 9 unique values.\n",
      "Column >>Country<< contains 29 unique values.\n"
     ]
    }
   ],
   "source": [
    "for c in iucn_data.columns:\n",
    "    print('Column >>{}<< contains {} unique values.'.format(c, iucn_data[c].nunique()))"
   ]
  },
  {
   "cell_type": "markdown",
   "metadata": {},
   "source": [
    "### Explore Columns Containing NULL Values"
   ]
  },
  {
   "cell_type": "markdown",
   "metadata": {
    "heading_collapsed": true
   },
   "source": [
    "#### common_name"
   ]
  },
  {
   "cell_type": "code",
   "execution_count": 31,
   "metadata": {
    "ExecuteTime": {
     "end_time": "2021-01-15T09:16:28.308072Z",
     "start_time": "2021-01-15T09:16:28.304597Z"
    },
    "hidden": true
   },
   "outputs": [
    {
     "name": "stdout",
     "output_type": "stream",
     "text": [
      "common_name contains 484 unique values.\n"
     ]
    }
   ],
   "source": [
    "print('common_name contains {} unique values.'.format(\n",
    "    iucn_data['common_name'].nunique()))"
   ]
  },
  {
   "cell_type": "code",
   "execution_count": 33,
   "metadata": {
    "ExecuteTime": {
     "end_time": "2021-01-15T09:17:16.772092Z",
     "start_time": "2021-01-15T09:17:16.766256Z"
    },
    "hidden": true
   },
   "outputs": [
    {
     "name": "stdout",
     "output_type": "stream",
     "text": [
      "314 entries have missing values for the common_name column.\n"
     ]
    }
   ],
   "source": [
    "print('{} entries have missing values for the common_name column.'.format(\n",
    "    iucn_data['common_name'].isna().sum()))"
   ]
  },
  {
   "cell_type": "code",
   "execution_count": 38,
   "metadata": {
    "ExecuteTime": {
     "end_time": "2021-01-15T09:20:10.245998Z",
     "start_time": "2021-01-15T09:20:10.242666Z"
    },
    "hidden": true
   },
   "outputs": [],
   "source": [
    "i_null_cn = iucn_data[iucn_data['common_name'].isna()].index"
   ]
  },
  {
   "cell_type": "markdown",
   "metadata": {
    "hidden": true
   },
   "source": [
    "--> These missing values can probably be neglected, because we can use the scientific name as identifier."
   ]
  },
  {
   "cell_type": "markdown",
   "metadata": {
    "heading_collapsed": true
   },
   "source": [
    "#### trend"
   ]
  },
  {
   "cell_type": "code",
   "execution_count": 42,
   "metadata": {
    "ExecuteTime": {
     "end_time": "2021-01-15T09:21:51.447076Z",
     "start_time": "2021-01-15T09:21:51.443572Z"
    },
    "hidden": true
   },
   "outputs": [
    {
     "name": "stdout",
     "output_type": "stream",
     "text": [
      "trend contains 4 unique values, which are: ['Decreasing' nan 'Stable' 'Increasing' 'Unknown'].\n"
     ]
    }
   ],
   "source": [
    "print('trend contains {} unique values, which are: {}.'.format(\n",
    "    iucn_data['trend'].nunique(), iucn_data['trend'].unique()))"
   ]
  },
  {
   "cell_type": "code",
   "execution_count": 43,
   "metadata": {
    "ExecuteTime": {
     "end_time": "2021-01-15T09:22:40.751122Z",
     "start_time": "2021-01-15T09:22:40.747790Z"
    },
    "hidden": true
   },
   "outputs": [
    {
     "name": "stdout",
     "output_type": "stream",
     "text": [
      "427 entries have missing values for the trend column.\n"
     ]
    }
   ],
   "source": [
    "print('{} entries have missing values for the trend column.'.format(\n",
    "    iucn_data['trend'].isna().sum()))"
   ]
  },
  {
   "cell_type": "code",
   "execution_count": 49,
   "metadata": {
    "ExecuteTime": {
     "end_time": "2021-01-15T09:27:34.203695Z",
     "start_time": "2021-01-15T09:27:34.071654Z"
    },
    "hidden": true
   },
   "outputs": [
    {
     "data": {
      "text/plain": [
       "<AxesSubplot:>"
      ]
     },
     "execution_count": 49,
     "metadata": {},
     "output_type": "execute_result"
    },
    {
     "data": {
      "image/png": "[encoded data removed]",
      "text/plain": [
       "<Figure size 432x288 with 1 Axes>"
      ]
     },
     "metadata": {
      "needs_background": "light"
     },
     "output_type": "display_data"
    }
   ],
   "source": [
    "temp_iucn = iucn_data.copy()\n",
    "temp_iucn.loc[temp_iucn['trend'].isna(), 'trend'] = 'NULL'\n",
    "temp_iucn['trend'].hist()"
   ]
  },
  {
   "cell_type": "code",
   "execution_count": 55,
   "metadata": {
    "ExecuteTime": {
     "end_time": "2021-01-15T09:34:37.756466Z",
     "start_time": "2021-01-15T09:34:37.752576Z"
    },
    "hidden": true
   },
   "outputs": [
    {
     "name": "stdout",
     "output_type": "stream",
     "text": [
      "The dataset contains 431 entries with available trend information (not Null or Unknown).\n"
     ]
    }
   ],
   "source": [
    "print(\n",
    "    'The dataset contains {} entries with available trend information (not Null or Unknown).'\n",
    "    .format(\n",
    "        len(iucn_data[(iucn_data['trend'].isna() == False)\n",
    "                      & (iucn_data['trend'] != 'Unknown')])))"
   ]
  },
  {
   "cell_type": "markdown",
   "metadata": {
    "hidden": true
   },
   "source": [
    "**NOTE: This is an issue and we have to think about a strategy how to deal with these missing/unknown values.**\n",
    "Maybe we can check if these entries have some special characteristics."
   ]
  },
  {
   "cell_type": "markdown",
   "metadata": {},
   "source": [
    "# Country Characteristics Data"
   ]
  },
  {
   "cell_type": "markdown",
   "metadata": {
    "heading_collapsed": true
   },
   "source": [
    "## Load and Merge"
   ]
  },
  {
   "cell_type": "code",
   "execution_count": 97,
   "metadata": {
    "ExecuteTime": {
     "end_time": "2021-01-15T10:24:26.553003Z",
     "start_time": "2021-01-15T10:24:26.541400Z"
    },
    "hidden": true
   },
   "outputs": [
    {
     "name": "stdout",
     "output_type": "stream",
     "text": [
      "data/OECD/protected_areas_2020.csv\n",
      "data/OECD/LAND_COVER_2018_DATA.csv\n",
      "data/climate/climate_features.csv\n"
     ]
    }
   ],
   "source": [
    "coun_list = []\n",
    "country_sets = []\n",
    "for file in PATHS_COUN:\n",
    "    print(file)\n",
    "    temp = pd.read_csv(file)\n",
    "    coun_list.append(temp)\n",
    "    country_sets.append(set(temp['Country']))"
   ]
  },
  {
   "cell_type": "code",
   "execution_count": 98,
   "metadata": {
    "ExecuteTime": {
     "end_time": "2021-01-15T10:24:28.615592Z",
     "start_time": "2021-01-15T10:24:28.612473Z"
    },
    "hidden": true
   },
   "outputs": [
    {
     "name": "stdout",
     "output_type": "stream",
     "text": [
      "The Country Characterisitcs Datasets contain 29 intersecting countries, which are: {'Canada', 'Czech Republic', 'Poland', 'Mexico', 'Hungary', 'Denmark', 'Finland', 'France', 'Germany', 'Portugal', 'United States', 'Luxembourg', 'Netherlands', 'Australia', 'New Zealand', 'Norway', 'Sweden', 'Iceland', 'Belgium', 'Greece', 'Italy', 'Austria', 'Ireland', 'Slovak Republic', 'Japan', 'Korea', 'Switzerland', 'Spain', 'United Kingdom'}\n"
     ]
    }
   ],
   "source": [
    "intersect_countries = country_sets[0].intersection(\n",
    "    country_sets[1], country_sets[2])  ## add country_sets[3]\n",
    "print(\n",
    "    'The Country Characterisitcs Datasets contain {} intersecting countries, which are: {}'\n",
    "    .format(len(intersect_countries), intersect_countries))"
   ]
  },
  {
   "cell_type": "markdown",
   "metadata": {
    "ExecuteTime": {
     "end_time": "2021-01-15T10:01:20.723162Z",
     "start_time": "2021-01-15T10:01:20.706359Z"
    },
    "hidden": true
   },
   "source": [
    "--> Join Datasets on those countries."
   ]
  },
  {
   "cell_type": "code",
   "execution_count": 103,
   "metadata": {
    "ExecuteTime": {
     "end_time": "2021-01-15T10:41:40.817691Z",
     "start_time": "2021-01-15T10:41:40.789632Z"
    },
    "hidden": true
   },
   "outputs": [
    {
     "data": {
      "text/html": [
       "<div>\n",
       "<style scoped>\n",
       "    .dataframe tbody tr th:only-of-type {\n",
       "        vertical-align: middle;\n",
       "    }\n",
       "\n",
       "    .dataframe tbody tr th {\n",
       "        vertical-align: top;\n",
       "    }\n",
       "\n",
       "    .dataframe thead th {\n",
       "        text-align: right;\n",
       "    }\n",
       "</style>\n",
       "<table border=\"1\" class=\"dataframe\">\n",
       "  <thead>\n",
       "    <tr style=\"text-align: right;\">\n",
       "      <th></th>\n",
       "      <th>Country</th>\n",
       "      <th>perc_area_protected_all_obj</th>\n",
       "      <th>perc_area_protected_obj_2</th>\n",
       "      <th>perc_area_protected_obj_3</th>\n",
       "      <th>perc_area_protected_obj_4</th>\n",
       "      <th>perc_area_protected_obj_1a</th>\n",
       "      <th>perc_area_protected_obj_1b</th>\n",
       "      <th>perc_area_protected_no_obj</th>\n",
       "      <th>perc_area_protected_obj_5</th>\n",
       "      <th>perc_area_protected_obj_6</th>\n",
       "      <th>...</th>\n",
       "      <th>Cropland</th>\n",
       "      <th>Grassland</th>\n",
       "      <th>Inland water</th>\n",
       "      <th>Shrubland</th>\n",
       "      <th>Sparse vegetation</th>\n",
       "      <th>Tree cover</th>\n",
       "      <th>Wetland</th>\n",
       "      <th>temp_slope</th>\n",
       "      <th>gain_percentage</th>\n",
       "      <th>temp_difference</th>\n",
       "    </tr>\n",
       "  </thead>\n",
       "  <tbody>\n",
       "    <tr>\n",
       "      <th>0</th>\n",
       "      <td>Australia</td>\n",
       "      <td>19.20</td>\n",
       "      <td>4.17</td>\n",
       "      <td>0.24</td>\n",
       "      <td>0.27</td>\n",
       "      <td>2.01</td>\n",
       "      <td>0.57</td>\n",
       "      <td>0.34</td>\n",
       "      <td>0.98</td>\n",
       "      <td>10.63</td>\n",
       "      <td>...</td>\n",
       "      <td>8.178167</td>\n",
       "      <td>16.812555</td>\n",
       "      <td>0.164372</td>\n",
       "      <td>21.624848</td>\n",
       "      <td>35.713072</td>\n",
       "      <td>11.719764</td>\n",
       "      <td>1.304020</td>\n",
       "      <td>0.017804</td>\n",
       "      <td>0.647408</td>\n",
       "      <td>0.143372</td>\n",
       "    </tr>\n",
       "    <tr>\n",
       "      <th>1</th>\n",
       "      <td>Austria</td>\n",
       "      <td>28.54</td>\n",
       "      <td>2.38</td>\n",
       "      <td>0.01</td>\n",
       "      <td>5.80</td>\n",
       "      <td>0.01</td>\n",
       "      <td>0.12</td>\n",
       "      <td>4.62</td>\n",
       "      <td>15.35</td>\n",
       "      <td>0.20</td>\n",
       "      <td>...</td>\n",
       "      <td>22.970504</td>\n",
       "      <td>15.325461</td>\n",
       "      <td>0.823728</td>\n",
       "      <td>0.000000</td>\n",
       "      <td>1.404353</td>\n",
       "      <td>53.686462</td>\n",
       "      <td>0.149325</td>\n",
       "      <td>0.038525</td>\n",
       "      <td>25.625767</td>\n",
       "      <td>1.583982</td>\n",
       "    </tr>\n",
       "    <tr>\n",
       "      <th>2</th>\n",
       "      <td>Belgium</td>\n",
       "      <td>24.97</td>\n",
       "      <td>0.07</td>\n",
       "      <td>0.00</td>\n",
       "      <td>1.54</td>\n",
       "      <td>0.00</td>\n",
       "      <td>0.00</td>\n",
       "      <td>9.19</td>\n",
       "      <td>12.59</td>\n",
       "      <td>1.59</td>\n",
       "      <td>...</td>\n",
       "      <td>50.669732</td>\n",
       "      <td>14.653097</td>\n",
       "      <td>0.520342</td>\n",
       "      <td>0.000000</td>\n",
       "      <td>0.011356</td>\n",
       "      <td>22.459738</td>\n",
       "      <td>0.335371</td>\n",
       "      <td>0.028670</td>\n",
       "      <td>11.555841</td>\n",
       "      <td>1.120281</td>\n",
       "    </tr>\n",
       "    <tr>\n",
       "      <th>3</th>\n",
       "      <td>Canada</td>\n",
       "      <td>11.02</td>\n",
       "      <td>6.26</td>\n",
       "      <td>0.02</td>\n",
       "      <td>0.36</td>\n",
       "      <td>0.10</td>\n",
       "      <td>3.68</td>\n",
       "      <td>0.24</td>\n",
       "      <td>0.01</td>\n",
       "      <td>0.35</td>\n",
       "      <td>...</td>\n",
       "      <td>5.803682</td>\n",
       "      <td>2.433807</td>\n",
       "      <td>10.524406</td>\n",
       "      <td>4.008505</td>\n",
       "      <td>23.335361</td>\n",
       "      <td>47.023071</td>\n",
       "      <td>0.812998</td>\n",
       "      <td>0.037969</td>\n",
       "      <td>-11.422166</td>\n",
       "      <td>0.748003</td>\n",
       "    </tr>\n",
       "    <tr>\n",
       "      <th>4</th>\n",
       "      <td>Czech Republic</td>\n",
       "      <td>21.91</td>\n",
       "      <td>1.06</td>\n",
       "      <td>0.33</td>\n",
       "      <td>0.98</td>\n",
       "      <td>0.04</td>\n",
       "      <td>0.04</td>\n",
       "      <td>5.16</td>\n",
       "      <td>14.29</td>\n",
       "      <td>0.00</td>\n",
       "      <td>...</td>\n",
       "      <td>49.813524</td>\n",
       "      <td>7.702887</td>\n",
       "      <td>0.752769</td>\n",
       "      <td>0.000000</td>\n",
       "      <td>0.059739</td>\n",
       "      <td>37.128373</td>\n",
       "      <td>0.098584</td>\n",
       "      <td>0.047428</td>\n",
       "      <td>20.827909</td>\n",
       "      <td>1.616906</td>\n",
       "    </tr>\n",
       "  </tbody>\n",
       "</table>\n",
       "<p>5 rows × 22 columns</p>\n",
       "</div>"
      ],
      "text/plain": [
       "          Country  perc_area_protected_all_obj  perc_area_protected_obj_2  \\\n",
       "0       Australia                        19.20                       4.17   \n",
       "1         Austria                        28.54                       2.38   \n",
       "2         Belgium                        24.97                       0.07   \n",
       "3          Canada                        11.02                       6.26   \n",
       "4  Czech Republic                        21.91                       1.06   \n",
       "\n",
       "   perc_area_protected_obj_3  perc_area_protected_obj_4  \\\n",
       "0                       0.24                       0.27   \n",
       "1                       0.01                       5.80   \n",
       "2                       0.00                       1.54   \n",
       "3                       0.02                       0.36   \n",
       "4                       0.33                       0.98   \n",
       "\n",
       "   perc_area_protected_obj_1a  perc_area_protected_obj_1b  \\\n",
       "0                        2.01                        0.57   \n",
       "1                        0.01                        0.12   \n",
       "2                        0.00                        0.00   \n",
       "3                        0.10                        3.68   \n",
       "4                        0.04                        0.04   \n",
       "\n",
       "   perc_area_protected_no_obj  perc_area_protected_obj_5  \\\n",
       "0                        0.34                       0.98   \n",
       "1                        4.62                      15.35   \n",
       "2                        9.19                      12.59   \n",
       "3                        0.24                       0.01   \n",
       "4                        5.16                      14.29   \n",
       "\n",
       "   perc_area_protected_obj_6  ...   Cropland  Grassland  Inland water  \\\n",
       "0                      10.63  ...   8.178167  16.812555      0.164372   \n",
       "1                       0.20  ...  22.970504  15.325461      0.823728   \n",
       "2                       1.59  ...  50.669732  14.653097      0.520342   \n",
       "3                       0.35  ...   5.803682   2.433807     10.524406   \n",
       "4                       0.00  ...  49.813524   7.702887      0.752769   \n",
       "\n",
       "   Shrubland  Sparse vegetation  Tree cover   Wetland  temp_slope  \\\n",
       "0  21.624848          35.713072   11.719764  1.304020    0.017804   \n",
       "1   0.000000           1.404353   53.686462  0.149325    0.038525   \n",
       "2   0.000000           0.011356   22.459738  0.335371    0.028670   \n",
       "3   4.008505          23.335361   47.023071  0.812998    0.037969   \n",
       "4   0.000000           0.059739   37.128373  0.098584    0.047428   \n",
       "\n",
       "   gain_percentage  temp_difference  \n",
       "0         0.647408         0.143372  \n",
       "1        25.625767         1.583982  \n",
       "2        11.555841         1.120281  \n",
       "3       -11.422166         0.748003  \n",
       "4        20.827909         1.616906  \n",
       "\n",
       "[5 rows x 22 columns]"
      ]
     },
     "execution_count": 103,
     "metadata": {},
     "output_type": "execute_result"
    }
   ],
   "source": [
    "coun_data = coun_list[0]\n",
    "for coun in coun_list[1:]:\n",
    "    coun_data = pd.merge(coun_data, coun, on='Country', how='inner')\n",
    "coun_data.head()"
   ]
  },
  {
   "cell_type": "markdown",
   "metadata": {},
   "source": [
    "## Analysis"
   ]
  },
  {
   "cell_type": "markdown",
   "metadata": {},
   "source": [
    "### General Information"
   ]
  },
  {
   "cell_type": "code",
   "execution_count": 104,
   "metadata": {
    "ExecuteTime": {
     "end_time": "2021-01-15T10:44:12.771682Z",
     "start_time": "2021-01-15T10:44:12.762492Z"
    }
   },
   "outputs": [
    {
     "name": "stdout",
     "output_type": "stream",
     "text": [
      "<class 'pandas.core.frame.DataFrame'>\n",
      "Int64Index: 29 entries, 0 to 28\n",
      "Data columns (total 22 columns):\n",
      " #   Column                       Non-Null Count  Dtype  \n",
      "---  ------                       --------------  -----  \n",
      " 0   Country                      29 non-null     object \n",
      " 1   perc_area_protected_all_obj  29 non-null     float64\n",
      " 2   perc_area_protected_obj_2    29 non-null     float64\n",
      " 3   perc_area_protected_obj_3    29 non-null     float64\n",
      " 4   perc_area_protected_obj_4    29 non-null     float64\n",
      " 5   perc_area_protected_obj_1a   29 non-null     float64\n",
      " 6   perc_area_protected_obj_1b   29 non-null     float64\n",
      " 7   perc_area_protected_no_obj   29 non-null     float64\n",
      " 8   perc_area_protected_obj_5    29 non-null     float64\n",
      " 9   perc_area_protected_obj_6    29 non-null     float64\n",
      " 10  Artificial surfaces          29 non-null     float64\n",
      " 11  Bare area                    29 non-null     float64\n",
      " 12  Cropland                     29 non-null     float64\n",
      " 13  Grassland                    29 non-null     float64\n",
      " 14  Inland water                 29 non-null     float64\n",
      " 15  Shrubland                    29 non-null     float64\n",
      " 16  Sparse vegetation            29 non-null     float64\n",
      " 17  Tree cover                   29 non-null     float64\n",
      " 18  Wetland                      29 non-null     float64\n",
      " 19  temp_slope                   29 non-null     float64\n",
      " 20  gain_percentage              29 non-null     float64\n",
      " 21  temp_difference              29 non-null     float64\n",
      "dtypes: float64(21), object(1)\n",
      "memory usage: 5.2+ KB\n"
     ]
    }
   ],
   "source": [
    "coun_data.info()"
   ]
  },
  {
   "cell_type": "markdown",
   "metadata": {},
   "source": [
    "There are no missing values in the dataset."
   ]
  },
  {
   "cell_type": "code",
   "execution_count": 107,
   "metadata": {
    "ExecuteTime": {
     "end_time": "2021-01-15T13:49:22.911101Z",
     "start_time": "2021-01-15T13:49:22.440638Z"
    }
   },
   "outputs": [
    {
     "data": {
      "text/html": [
       "<div>\n",
       "<style scoped>\n",
       "    .dataframe tbody tr th:only-of-type {\n",
       "        vertical-align: middle;\n",
       "    }\n",
       "\n",
       "    .dataframe tbody tr th {\n",
       "        vertical-align: top;\n",
       "    }\n",
       "\n",
       "    .dataframe thead th {\n",
       "        text-align: right;\n",
       "    }\n",
       "</style>\n",
       "<table border=\"1\" class=\"dataframe\">\n",
       "  <thead>\n",
       "    <tr style=\"text-align: right;\">\n",
       "      <th></th>\n",
       "      <th>perc_area_protected_all_obj</th>\n",
       "      <th>perc_area_protected_obj_2</th>\n",
       "      <th>perc_area_protected_obj_3</th>\n",
       "      <th>perc_area_protected_obj_4</th>\n",
       "      <th>perc_area_protected_obj_1a</th>\n",
       "      <th>perc_area_protected_obj_1b</th>\n",
       "      <th>perc_area_protected_no_obj</th>\n",
       "      <th>perc_area_protected_obj_5</th>\n",
       "      <th>perc_area_protected_obj_6</th>\n",
       "      <th>Artificial surfaces</th>\n",
       "      <th>...</th>\n",
       "      <th>Cropland</th>\n",
       "      <th>Grassland</th>\n",
       "      <th>Inland water</th>\n",
       "      <th>Shrubland</th>\n",
       "      <th>Sparse vegetation</th>\n",
       "      <th>Tree cover</th>\n",
       "      <th>Wetland</th>\n",
       "      <th>temp_slope</th>\n",
       "      <th>gain_percentage</th>\n",
       "      <th>temp_difference</th>\n",
       "    </tr>\n",
       "  </thead>\n",
       "  <tbody>\n",
       "    <tr>\n",
       "      <th>count</th>\n",
       "      <td>29.000000</td>\n",
       "      <td>29.000000</td>\n",
       "      <td>29.000000</td>\n",
       "      <td>29.000000</td>\n",
       "      <td>29.000000</td>\n",
       "      <td>29.000000</td>\n",
       "      <td>29.000000</td>\n",
       "      <td>29.000000</td>\n",
       "      <td>29.000000</td>\n",
       "      <td>29.000000</td>\n",
       "      <td>...</td>\n",
       "      <td>29.000000</td>\n",
       "      <td>29.000000</td>\n",
       "      <td>29.000000</td>\n",
       "      <td>29.000000</td>\n",
       "      <td>29.000000</td>\n",
       "      <td>29.000000</td>\n",
       "      <td>29.000000</td>\n",
       "      <td>29.000000</td>\n",
       "      <td>29.000000</td>\n",
       "      <td>29.000000</td>\n",
       "    </tr>\n",
       "    <tr>\n",
       "      <th>mean</th>\n",
       "      <td>23.253103</td>\n",
       "      <td>3.889655</td>\n",
       "      <td>0.487931</td>\n",
       "      <td>2.984828</td>\n",
       "      <td>0.362759</td>\n",
       "      <td>1.116207</td>\n",
       "      <td>7.424483</td>\n",
       "      <td>5.810690</td>\n",
       "      <td>1.127931</td>\n",
       "      <td>3.342084</td>\n",
       "      <td>...</td>\n",
       "      <td>31.847605</td>\n",
       "      <td>15.385389</td>\n",
       "      <td>2.619700</td>\n",
       "      <td>4.000765</td>\n",
       "      <td>4.567584</td>\n",
       "      <td>33.671490</td>\n",
       "      <td>1.980374</td>\n",
       "      <td>0.033698</td>\n",
       "      <td>12.436452</td>\n",
       "      <td>0.935549</td>\n",
       "    </tr>\n",
       "    <tr>\n",
       "      <th>std</th>\n",
       "      <td>9.960634</td>\n",
       "      <td>6.553768</td>\n",
       "      <td>2.306550</td>\n",
       "      <td>3.487702</td>\n",
       "      <td>0.616244</td>\n",
       "      <td>2.073889</td>\n",
       "      <td>7.692362</td>\n",
       "      <td>6.637736</td>\n",
       "      <td>2.689496</td>\n",
       "      <td>2.915405</td>\n",
       "      <td>...</td>\n",
       "      <td>21.239388</td>\n",
       "      <td>16.477362</td>\n",
       "      <td>2.904174</td>\n",
       "      <td>8.584436</td>\n",
       "      <td>10.123313</td>\n",
       "      <td>18.027817</td>\n",
       "      <td>3.287130</td>\n",
       "      <td>0.012586</td>\n",
       "      <td>10.468157</td>\n",
       "      <td>0.508445</td>\n",
       "    </tr>\n",
       "    <tr>\n",
       "      <th>min</th>\n",
       "      <td>10.270000</td>\n",
       "      <td>0.000000</td>\n",
       "      <td>0.000000</td>\n",
       "      <td>0.010000</td>\n",
       "      <td>0.000000</td>\n",
       "      <td>0.000000</td>\n",
       "      <td>0.000000</td>\n",
       "      <td>0.000000</td>\n",
       "      <td>0.000000</td>\n",
       "      <td>0.000000</td>\n",
       "      <td>...</td>\n",
       "      <td>0.000000</td>\n",
       "      <td>0.150601</td>\n",
       "      <td>0.164372</td>\n",
       "      <td>0.000000</td>\n",
       "      <td>0.008942</td>\n",
       "      <td>0.027662</td>\n",
       "      <td>0.008942</td>\n",
       "      <td>0.006156</td>\n",
       "      <td>-11.422166</td>\n",
       "      <td>0.124179</td>\n",
       "    </tr>\n",
       "    <tr>\n",
       "      <th>25%</th>\n",
       "      <td>14.550000</td>\n",
       "      <td>0.620000</td>\n",
       "      <td>0.000000</td>\n",
       "      <td>0.530000</td>\n",
       "      <td>0.000000</td>\n",
       "      <td>0.000000</td>\n",
       "      <td>0.510000</td>\n",
       "      <td>0.500000</td>\n",
       "      <td>0.000000</td>\n",
       "      <td>1.091316</td>\n",
       "      <td>...</td>\n",
       "      <td>9.221134</td>\n",
       "      <td>5.281011</td>\n",
       "      <td>0.823728</td>\n",
       "      <td>0.000000</td>\n",
       "      <td>0.039448</td>\n",
       "      <td>22.459738</td>\n",
       "      <td>0.108443</td>\n",
       "      <td>0.026566</td>\n",
       "      <td>6.251693</td>\n",
       "      <td>0.593730</td>\n",
       "    </tr>\n",
       "    <tr>\n",
       "      <th>50%</th>\n",
       "      <td>21.360000</td>\n",
       "      <td>1.680000</td>\n",
       "      <td>0.020000</td>\n",
       "      <td>0.980000</td>\n",
       "      <td>0.060000</td>\n",
       "      <td>0.040000</td>\n",
       "      <td>4.620000</td>\n",
       "      <td>2.910000</td>\n",
       "      <td>0.000000</td>\n",
       "      <td>2.883758</td>\n",
       "      <td>...</td>\n",
       "      <td>35.681073</td>\n",
       "      <td>7.769454</td>\n",
       "      <td>1.478442</td>\n",
       "      <td>0.115418</td>\n",
       "      <td>0.446822</td>\n",
       "      <td>32.244888</td>\n",
       "      <td>0.324014</td>\n",
       "      <td>0.034578</td>\n",
       "      <td>11.555841</td>\n",
       "      <td>0.834188</td>\n",
       "    </tr>\n",
       "    <tr>\n",
       "      <th>75%</th>\n",
       "      <td>27.980000</td>\n",
       "      <td>4.170000</td>\n",
       "      <td>0.070000</td>\n",
       "      <td>5.800000</td>\n",
       "      <td>0.460000</td>\n",
       "      <td>1.040000</td>\n",
       "      <td>11.460000</td>\n",
       "      <td>8.060000</td>\n",
       "      <td>0.370000</td>\n",
       "      <td>4.440102</td>\n",
       "      <td>...</td>\n",
       "      <td>49.813524</td>\n",
       "      <td>18.239015</td>\n",
       "      <td>2.364752</td>\n",
       "      <td>1.986954</td>\n",
       "      <td>2.091680</td>\n",
       "      <td>43.668692</td>\n",
       "      <td>1.438850</td>\n",
       "      <td>0.038715</td>\n",
       "      <td>20.634348</td>\n",
       "      <td>1.227504</td>\n",
       "    </tr>\n",
       "    <tr>\n",
       "      <th>max</th>\n",
       "      <td>51.370000</td>\n",
       "      <td>32.610000</td>\n",
       "      <td>12.470000</td>\n",
       "      <td>14.740000</td>\n",
       "      <td>2.180000</td>\n",
       "      <td>7.530000</td>\n",
       "      <td>30.510000</td>\n",
       "      <td>25.240000</td>\n",
       "      <td>10.630000</td>\n",
       "      <td>11.333710</td>\n",
       "      <td>...</td>\n",
       "      <td>72.813143</td>\n",
       "      <td>67.271091</td>\n",
       "      <td>10.524406</td>\n",
       "      <td>35.249425</td>\n",
       "      <td>35.731269</td>\n",
       "      <td>71.498391</td>\n",
       "      <td>12.347256</td>\n",
       "      <td>0.057306</td>\n",
       "      <td>38.881254</td>\n",
       "      <td>1.989826</td>\n",
       "    </tr>\n",
       "  </tbody>\n",
       "</table>\n",
       "<p>8 rows × 21 columns</p>\n",
       "</div>"
      ],
      "text/plain": [
       "       perc_area_protected_all_obj  perc_area_protected_obj_2  \\\n",
       "count                    29.000000                  29.000000   \n",
       "mean                     23.253103                   3.889655   \n",
       "std                       9.960634                   6.553768   \n",
       "min                      10.270000                   0.000000   \n",
       "25%                      14.550000                   0.620000   \n",
       "50%                      21.360000                   1.680000   \n",
       "75%                      27.980000                   4.170000   \n",
       "max                      51.370000                  32.610000   \n",
       "\n",
       "       perc_area_protected_obj_3  perc_area_protected_obj_4  \\\n",
       "count                  29.000000                  29.000000   \n",
       "mean                    0.487931                   2.984828   \n",
       "std                     2.306550                   3.487702   \n",
       "min                     0.000000                   0.010000   \n",
       "25%                     0.000000                   0.530000   \n",
       "50%                     0.020000                   0.980000   \n",
       "75%                     0.070000                   5.800000   \n",
       "max                    12.470000                  14.740000   \n",
       "\n",
       "       perc_area_protected_obj_1a  perc_area_protected_obj_1b  \\\n",
       "count                   29.000000                   29.000000   \n",
       "mean                     0.362759                    1.116207   \n",
       "std                      0.616244                    2.073889   \n",
       "min                      0.000000                    0.000000   \n",
       "25%                      0.000000                    0.000000   \n",
       "50%                      0.060000                    0.040000   \n",
       "75%                      0.460000                    1.040000   \n",
       "max                      2.180000                    7.530000   \n",
       "\n",
       "       perc_area_protected_no_obj  perc_area_protected_obj_5  \\\n",
       "count                   29.000000                  29.000000   \n",
       "mean                     7.424483                   5.810690   \n",
       "std                      7.692362                   6.637736   \n",
       "min                      0.000000                   0.000000   \n",
       "25%                      0.510000                   0.500000   \n",
       "50%                      4.620000                   2.910000   \n",
       "75%                     11.460000                   8.060000   \n",
       "max                     30.510000                  25.240000   \n",
       "\n",
       "       perc_area_protected_obj_6  Artificial surfaces  ...   Cropland  \\\n",
       "count                  29.000000            29.000000  ...  29.000000   \n",
       "mean                    1.127931             3.342084  ...  31.847605   \n",
       "std                     2.689496             2.915405  ...  21.239388   \n",
       "min                     0.000000             0.000000  ...   0.000000   \n",
       "25%                     0.000000             1.091316  ...   9.221134   \n",
       "50%                     0.000000             2.883758  ...  35.681073   \n",
       "75%                     0.370000             4.440102  ...  49.813524   \n",
       "max                    10.630000            11.333710  ...  72.813143   \n",
       "\n",
       "       Grassland  Inland water  Shrubland  Sparse vegetation  Tree cover  \\\n",
       "count  29.000000     29.000000  29.000000          29.000000   29.000000   \n",
       "mean   15.385389      2.619700   4.000765           4.567584   33.671490   \n",
       "std    16.477362      2.904174   8.584436          10.123313   18.027817   \n",
       "min     0.150601      0.164372   0.000000           0.008942    0.027662   \n",
       "25%     5.281011      0.823728   0.000000           0.039448   22.459738   \n",
       "50%     7.769454      1.478442   0.115418           0.446822   32.244888   \n",
       "75%    18.239015      2.364752   1.986954           2.091680   43.668692   \n",
       "max    67.271091     10.524406  35.249425          35.731269   71.498391   \n",
       "\n",
       "         Wetland  temp_slope  gain_percentage  temp_difference  \n",
       "count  29.000000   29.000000        29.000000        29.000000  \n",
       "mean    1.980374    0.033698        12.436452         0.935549  \n",
       "std     3.287130    0.012586        10.468157         0.508445  \n",
       "min     0.008942    0.006156       -11.422166         0.124179  \n",
       "25%     0.108443    0.026566         6.251693         0.593730  \n",
       "50%     0.324014    0.034578        11.555841         0.834188  \n",
       "75%     1.438850    0.038715        20.634348         1.227504  \n",
       "max    12.347256    0.057306        38.881254         1.989826  \n",
       "\n",
       "[8 rows x 21 columns]"
      ]
     },
     "execution_count": 107,
     "metadata": {},
     "output_type": "execute_result"
    }
   ],
   "source": [
    "coun_data.describe()"
   ]
  },
  {
   "cell_type": "code",
   "execution_count": 115,
   "metadata": {
    "ExecuteTime": {
     "end_time": "2021-01-15T13:56:44.806396Z",
     "start_time": "2021-01-15T13:56:44.802656Z"
    }
   },
   "outputs": [
    {
     "data": {
      "text/plain": [
       "29"
      ]
     },
     "execution_count": 115,
     "metadata": {},
     "output_type": "execute_result"
    }
   ],
   "source": [
    "coun_data['Country'].nunique()"
   ]
  },
  {
   "cell_type": "markdown",
   "metadata": {},
   "source": [
    "# Full Data"
   ]
  },
  {
   "cell_type": "markdown",
   "metadata": {},
   "source": [
    "## Merge both datasets"
   ]
  },
  {
   "cell_type": "markdown",
   "metadata": {
    "ExecuteTime": {
     "end_time": "2021-01-15T13:57:50.054145Z",
     "start_time": "2021-01-15T13:57:50.051068Z"
    }
   },
   "source": [
    "### Check Keys (countries)"
   ]
  },
  {
   "cell_type": "code",
   "execution_count": 121,
   "metadata": {
    "ExecuteTime": {
     "end_time": "2021-01-15T13:59:19.015837Z",
     "start_time": "2021-01-15T13:59:19.012494Z"
    }
   },
   "outputs": [
    {
     "name": "stdout",
     "output_type": "stream",
     "text": [
      "IUCN \\ CHAR: {'New_Zealand', 'Slovakia', 'United_Kingdom', 'United_States', 'Czechia', 'Korea,_Republic_of'}\n",
      "CHAR \\ IUCN: {'New Zealand', 'Slovak Republic', 'United States', 'Czech Republic', 'Korea', 'United Kingdom'}\n"
     ]
    }
   ],
   "source": [
    "iucn_countries = set(iucn_data['Country'].unique())\n",
    "char_countries = set(coun_data['Country'].unique())\n",
    "print('IUCN \\ CHAR: {}'.format(iucn_countries.difference(char_countries)))\n",
    "print('CHAR \\ IUCN: {}'.format(char_countries.difference(iucn_countries)))"
   ]
  },
  {
   "cell_type": "markdown",
   "metadata": {},
   "source": [
    "### Rename Country Data to Match IUCN Data"
   ]
  },
  {
   "cell_type": "code",
   "execution_count": 130,
   "metadata": {
    "ExecuteTime": {
     "end_time": "2021-01-15T14:57:09.713970Z",
     "start_time": "2021-01-15T14:57:09.706945Z"
    }
   },
   "outputs": [],
   "source": [
    "coun_data.loc[coun_data['Country'] == 'New Zealand', 'Country'] = 'New_Zealand'\n",
    "coun_data.loc[coun_data['Country'] == 'Slovak Republic', 'Country'] = 'Slovakia'\n",
    "coun_data.loc[coun_data['Country'] == 'United Kingdom', 'Country'] = 'United_Kingdom'\n",
    "coun_data.loc[coun_data['Country'] == 'United States', 'Country'] = 'United_States'\n",
    "coun_data.loc[coun_data['Country'] == 'Czech Republic', 'Country'] = 'Czechia'\n",
    "coun_data.loc[coun_data['Country'] == 'Korea', 'Country'] = 'Korea,_Republic_of'"
   ]
  },
  {
   "cell_type": "markdown",
   "metadata": {},
   "source": [
    "### Merge "
   ]
  },
  {
   "cell_type": "code",
   "execution_count": 131,
   "metadata": {
    "ExecuteTime": {
     "end_time": "2021-01-15T14:57:16.681045Z",
     "start_time": "2021-01-15T14:57:16.675606Z"
    }
   },
   "outputs": [],
   "source": [
    "full_data = iucn_data.merge(coun_data, on='Country', how='inner')\n",
    "full_data['Country'].nunique()"
   ]
  },
  {
   "cell_type": "code",
   "execution_count": 132,
   "metadata": {
    "ExecuteTime": {
     "end_time": "2021-01-15T14:57:17.727601Z",
     "start_time": "2021-01-15T14:57:17.723632Z"
    }
   },
   "outputs": [
    {
     "data": {
      "text/plain": [
       "29"
      ]
     },
     "execution_count": 132,
     "metadata": {},
     "output_type": "execute_result"
    }
   ],
   "source": []
  },
  {
   "cell_type": "code",
   "execution_count": null,
   "metadata": {},
   "outputs": [],
   "source": []
  },
  {
   "cell_type": "code",
   "execution_count": null,
   "metadata": {},
   "outputs": [],
   "source": []
  },
  {
   "cell_type": "code",
   "execution_count": null,
   "metadata": {},
   "outputs": [],
   "source": []
  },
  {
   "cell_type": "code",
   "execution_count": null,
   "metadata": {},
   "outputs": [],
   "source": []
  }
 ],
 "metadata": {
  "kernelspec": {
   "display_name": "Python 3",
   "language": "python",
   "name": "python3"
  },
  "language_info": {
   "codemirror_mode": {
    "name": "ipython",
    "version": 3
   },
   "file_extension": ".py",
   "mimetype": "text/x-python",
   "name": "python",
   "nbconvert_exporter": "python",
   "pygments_lexer": "ipython3",
   "version": "3.7.9"
  }
 },
 "nbformat": 4,
 "nbformat_minor": 4
}
