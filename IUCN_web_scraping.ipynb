{
 "cells": [
  {
   "cell_type": "code",
   "execution_count": 65,
   "metadata": {},
   "outputs": [],
   "source": [
    "from selenium import webdriver\n",
    "from selenium.webdriver.common.keys import Keys\n",
    "from selenium.webdriver.common.action_chains import ActionChains\n",
    "from bs4 import BeautifulSoup\n",
    "from pathlib import Path\n",
    "from time import sleep\n",
    "import pandas as pd"
   ]
  },
  {
   "cell_type": "code",
   "execution_count": 66,
   "metadata": {},
   "outputs": [],
   "source": [
    "# filter for Taxonomy group Animalia\n",
    "def filter_animals(filters):\n",
    "    filter_taxonomy = filters.find_element_by_xpath(\"//*[text()='Taxonomy']\")\n",
    "    filter_taxonomy.click() # click section\n",
    "    sleep(2)\n",
    "    filter_animals = filters.find_element_by_xpath(\"//*[text()='Animalia']\")\n",
    "    filter_animals.click()  # click animals section\n",
    "    filter_taxonomy.click() # collapse filter"
   ]
  },
  {
   "source": [
    "### Why filter country legends ?\n",
    "https://www.iucnredlist.org/resources/summary-statistics\n",
    "\n",
    "Important note: the figures presented in Tables 5 and 6 differ from the default setting for country searches on the website. The default search includes ALL occurrences within each country (i.e., including introduced species, vagrant records, etc.). To modify country searches on the website to match the tables below, use the Country Legends filters on the Advanced Search page to show species tagged as 'Extant', 'Extant & Reintroduced', 'Extinct', 'Extinct & Reintroduced', 'Possibly Extinct', and 'Possibly Extinct & Reintroduced'."
   ],
   "cell_type": "markdown",
   "metadata": {}
  },
  {
   "cell_type": "code",
   "execution_count": 67,
   "metadata": {},
   "outputs": [],
   "source": [
    "# filter country legends\n",
    "def filter_country_legends(filters, filter_items):\n",
    "    filter_country_legends = filters.find_element_by_xpath(\"//*[text()='Country Legends']\")\n",
    "    filter_country_legends.click()  # click section\n",
    "    sleep(2)\n",
    "    for item in filter_items:\n",
    "        element = filters.find_element_by_xpath(f\"//*[text()='{item}']\")\n",
    "        element.click()   # click items in list\n",
    "    filter_country_legends.click()  # collapse filter"
   ]
  },
  {
   "cell_type": "code",
   "execution_count": 68,
   "metadata": {},
   "outputs": [],
   "source": [
    "# click filter for a country\n",
    "def click_country_filter(filters, country_name):\n",
    "    filter_country = filters.find_element_by_xpath(f\"//*[text()='{country_name}']\")\n",
    "    filter_country.click()\n",
    "    sleep(2)"
   ]
  },
  {
   "cell_type": "code",
   "execution_count": 69,
   "metadata": {},
   "outputs": [],
   "source": [
    "# click the \"Land Regions\" button to return to all filters\n",
    "def click_return_regions(filters):\n",
    "    # select second element with name \"Land Regions\"\n",
    "    filter_region = filters.find_elements_by_xpath(\"//*[text()='Land Regions']\")[1]\n",
    "    filter_region.click()"
   ]
  },
  {
   "cell_type": "code",
   "execution_count": 70,
   "metadata": {},
   "outputs": [],
   "source": [
    "# click a filter for \"Land Regions\"\n",
    "# offset is needed to click the arrow on the right instead of the checkbox\n",
    "def click_filter(driver, element, offset=False):\n",
    "    x_offset = 0\n",
    "    if offset:\n",
    "        x_offset = 115\n",
    "    ac = ActionChains(driver)\n",
    "    ac.move_to_element(element).move_by_offset(x_offset, 0).click().perform()"
   ]
  },
  {
   "cell_type": "code",
   "execution_count": 71,
   "metadata": {},
   "outputs": [],
   "source": [
    "# clickst the \"show all\" button on the bottom of the main content as long as all species are loaded\n",
    "def load_all(driver):\n",
    "    main_content = driver.find_element_by_class_name('layout-page__major')\n",
    "    try:\n",
    "        show_all_button = main_content.find_element_by_class_name('section__link-out')\n",
    "        show_all_button.click()\n",
    "        # todo: find better method to wait for loaded content\n",
    "        sleep(10)\n",
    "        load_next(driver) # recursive call\n",
    "    except:\n",
    "        pass"
   ]
  },
  {
   "cell_type": "code",
   "execution_count": 72,
   "metadata": {},
   "outputs": [],
   "source": [
    "# extract species info from html li items\n",
    "def extract_content(driver):\n",
    "    results = []\n",
    "    \n",
    "    # get main html content\n",
    "    main_content = driver.find_element_by_class_name('layout-page__major')\n",
    "    main_html = main_content.get_attribute('innerHTML')\n",
    "    \n",
    "    # get html with beautifulsoup\n",
    "    soup = BeautifulSoup(main_html, 'html.parser')\n",
    "    items = soup.find_all('li', class_='list-results__item')\n",
    "    for item in items:\n",
    "        result = {}\n",
    "        result['kingdom_class'] = item.contents[0].string\n",
    "        result['common_name'] = item.contents[1].text\n",
    "        result['scientific_name'] = item.contents[2].text\n",
    "        result['trend'] = item.contents[3].text\n",
    "        result['region'] = item.contents[4].text\n",
    "        result['threat_level'] = item.contents[5].get('title')\n",
    "        results.append(result)\n",
    "    return pd.DataFrame(results)"
   ]
  },
  {
   "cell_type": "code",
   "execution_count": 76,
   "metadata": {},
   "outputs": [],
   "source": [
    "DRIVER = Path('./geckodriver').absolute()\n",
    "URL = 'https://www.iucnredlist.org/search/list'\n",
    "OUTPUT_PATH = Path('./data/IUCN/scraped')\n",
    "OECD_COUNTRIES = {\n",
    "#    'Europe': [\n",
    "#        'Austria', 'Belgium', 'Czechia', 'Denmark', 'Finland', 'France', 'Germany', 'Greece', 'Hungary',\n",
    "#        'Iceland', 'Ireland', 'Italy', 'Luxembourg', 'Netherlands', 'Norway', 'Poland', 'Portugal', 'Slovakia', 'Spain',\n",
    "#        'Sweden', 'Switzerland', 'United Kingdom'\n",
    "#    ],\n",
    "    'Oceania': [\n",
    "        'Australia', 'New Zealand',\n",
    "    ],\n",
    "    'North America': [\n",
    "        'Canada', 'United States',\n",
    "    ],\n",
    "    'East Asia': [\n",
    "        'Japan', 'Korea, Republic of',\n",
    "    ],\n",
    "    'Mesoamerica': [\n",
    "        'Mexico',\n",
    "    ],\n",
    "}\n",
    "\n",
    "# connect to browser with selenium\n",
    "driver = webdriver.Firefox(executable_path=DRIVER)\n",
    "driver.get(URL)\n",
    "# get filters\n",
    "filters = driver.find_element_by_class_name('filter')\n",
    "# filter only animals\n",
    "filter_animals(filters)\n",
    "# filter for country legends\n",
    "country_legends_items = ['Extant & Reintroduced', 'Extinct', 'Extinct & Reintroduced', 'Possibly Extinct', 'Possibly Extinct & Reintroduced']\n",
    "filter_country_legends(filters, country_legends_items)"
   ]
  },
  {
   "cell_type": "code",
   "execution_count": null,
   "metadata": {},
   "outputs": [],
   "source": [
    "for r in OECD_COUNTRIES.keys()"
   ]
  },
  {
   "cell_type": "code",
   "execution_count": 77,
   "metadata": {},
   "outputs": [
    {
     "output_type": "stream",
     "name": "stdout",
     "text": [
      "region: Oceania\n"
     ]
    },
    {
     "output_type": "error",
     "ename": "KeyError",
     "evalue": "'Europe'",
     "traceback": [
      "\u001b[0;31m---------------------------------------------------------------------------\u001b[0m",
      "\u001b[0;31mKeyError\u001b[0m                                  Traceback (most recent call last)",
      "\u001b[0;32m<ipython-input-77-109116baf4e2>\u001b[0m in \u001b[0;36m<module>\u001b[0;34m\u001b[0m\n\u001b[1;32m      9\u001b[0m     \u001b[0mclick_filter\u001b[0m\u001b[0;34m(\u001b[0m\u001b[0mdriver\u001b[0m\u001b[0;34m,\u001b[0m \u001b[0mfilter_region\u001b[0m\u001b[0;34m,\u001b[0m \u001b[0moffset\u001b[0m\u001b[0;34m=\u001b[0m\u001b[0;32mTrue\u001b[0m\u001b[0;34m)\u001b[0m\u001b[0;34m\u001b[0m\u001b[0;34m\u001b[0m\u001b[0m\n\u001b[1;32m     10\u001b[0m \u001b[0;34m\u001b[0m\u001b[0m\n\u001b[0;32m---> 11\u001b[0;31m     \u001b[0;32mfor\u001b[0m \u001b[0mcountry_name\u001b[0m \u001b[0;32min\u001b[0m \u001b[0mOECD_COUNTRIES\u001b[0m\u001b[0;34m[\u001b[0m\u001b[0mregion\u001b[0m\u001b[0;34m]\u001b[0m\u001b[0;34m:\u001b[0m\u001b[0;34m\u001b[0m\u001b[0;34m\u001b[0m\u001b[0m\n\u001b[0m\u001b[1;32m     12\u001b[0m         \u001b[0mprint\u001b[0m\u001b[0;34m(\u001b[0m\u001b[0;34mf'loading data for country: {country_name}'\u001b[0m\u001b[0;34m)\u001b[0m\u001b[0;34m\u001b[0m\u001b[0;34m\u001b[0m\u001b[0m\n\u001b[1;32m     13\u001b[0m         \u001b[0mclick_country_filter\u001b[0m\u001b[0;34m(\u001b[0m\u001b[0mfilters\u001b[0m\u001b[0;34m,\u001b[0m \u001b[0mcountry_name\u001b[0m\u001b[0;34m)\u001b[0m\u001b[0;34m\u001b[0m\u001b[0;34m\u001b[0m\u001b[0m\n",
      "\u001b[0;31mKeyError\u001b[0m: 'Europe'"
     ]
    }
   ],
   "source": [
    "# click section\n",
    "land_region = filters.find_element_by_xpath(\"//*[text()='Land Regions']\")\n",
    "land_region.click()\n",
    "# iterate all countrys\n",
    "for region_name in OECD_COUNTRIES:\n",
    "    print(f'region: {region_name}')\n",
    "    # open section for current region\n",
    "    filter_region = filters.find_element_by_xpath(f\"//*[text()='{region_name}']\")\n",
    "    click_filter(driver, filter_region, offset=True)\n",
    "\n",
    "    for country_name in OECD_COUNTRIES[region_name]:\n",
    "        print(f'loading data for country: {country_name}')\n",
    "        click_country_filter(filters, country_name)\n",
    "        # load the whole content\n",
    "        load_all(driver)\n",
    "        # extract content\n",
    "        # todo: find better method to wait for results to be loaded\n",
    "        sleep(10)\n",
    "        content = extract_content(driver)\n",
    "        # save to csv\n",
    "        file_path = (OUTPUT_PATH / country_name.replace(' ', '_')).with_suffix('.csv')\n",
    "        content.to_csv(file_path, index=False)\n",
    "        # uncheck country\n",
    "        click_country_filter(filters, country_name)\n",
    "    # get back to all regions\n",
    "    click_return_regions(filters)\n",
    "    sleep(2)"
   ]
  },
  {
   "cell_type": "code",
   "execution_count": 12,
   "metadata": {},
   "outputs": [],
   "source": [
    "# first time with click\n",
    "regions = get_regions(filters, click=True)\n",
    "num_regions = len(regions)\n",
    "# iterate all regions\n",
    "#for i in range(num_regions):\n",
    "for i in range(2): # only first to for testing\n",
    "    regions = get_regions(filters)\n",
    "    click_filter(driver, regions[i], offset=True)\n",
    "    sleep(2)\n",
    "\n",
    "    # iterate over all countries per region\n",
    "    countries = get_countries(filters)\n",
    "    num_countries = len(countries)\n",
    "    #for j in range(num_countries):\n",
    "    for j in range(2): # only first to for testing\n",
    "        countries = get_countries(filters)\n",
    "        click_filter(driver, countries[j])\n",
    "        # todo: fix country name\n",
    "        country_name = countries[j].text.split('(')[0].rstrip()\n",
    "        # load the whole content\n",
    "        load_all(driver)\n",
    "        # extract content\n",
    "        # todo: find better method to wait for results to be loaded\n",
    "        sleep(10)\n",
    "        content = extract_content(driver)\n",
    "        # save to csv\n",
    "        file_path = (OUTPUT_PATH / country_name.replace(' ', '_')).with_suffix('.csv')\n",
    "        content.to_csv(file_path, index=False)\n",
    "        # uncheck country\n",
    "        click_filter(driver, countries[j])\n",
    "        sleep(2)\n",
    "\n",
    "    # get back to all regions\n",
    "    click_return_regions(filters)\n",
    "    sleep(2)"
   ]
  },
  {
   "source": [],
   "cell_type": "markdown",
   "metadata": {}
  },
  {
   "cell_type": "code",
   "execution_count": 19,
   "metadata": {},
   "outputs": [
    {
     "output_type": "stream",
     "name": "stdout",
     "text": [
      "Austria\nBelgium\nCzechia\nDenmark\nFinland\nFrance\nGermany\nGreece\nHungary\nIceland\nIreland\nItaly\nLuxembourg\nNetherlands\nNorway\nPoland\nPortugal\nSlovakia\nSpain\nSweden\nSwitzerland\nUnited Kingdom\nAustralia\nNew Zealand\nCanada\nUnited States\nJapan\nKorea, Republic of\nMexico\n"
     ]
    }
   ],
   "source": [
    "\n",
    "\n",
    "\n",
    "\n"
   ]
  },
  {
   "cell_type": "code",
   "execution_count": 3,
   "metadata": {},
   "outputs": [],
   "source": [
    "import pandas as pd\n",
    "from pathlib import Path"
   ]
  },
  {
   "cell_type": "code",
   "execution_count": 4,
   "metadata": {},
   "outputs": [],
   "source": [
    "DATA_PATH = Path('./data')\n",
    "PROTECTED_AREAS = DATA_PATH / 'OECD' / 'PROTECTED_AREAS.csv'\n",
    "\n",
    "df = pd.read_csv(PROTECTED_AREAS)"
   ]
  },
  {
   "cell_type": "code",
   "execution_count": 12,
   "metadata": {},
   "outputs": [
    {
     "output_type": "execute_result",
     "data": {
      "text/plain": [
       "Index(['COU', 'Country', 'DESIG', 'Designation', 'DOMAIN', 'Domain', 'MEASURE',\n",
       "       'Measure', 'CALCULATION', 'Calculation method', 'SCOPE', 'Scope', 'YEA',\n",
       "       'Year', 'Unit Code', 'Unit', 'PowerCode Code', 'PowerCode',\n",
       "       'Reference Period Code', 'Reference Period', 'Value', 'Flag Codes',\n",
       "       'Flags'],\n",
       "      dtype='object')"
      ]
     },
     "metadata": {},
     "execution_count": 12
    }
   ],
   "source": [
    "df.columns"
   ]
  },
  {
   "cell_type": "code",
   "execution_count": 13,
   "metadata": {},
   "outputs": [
    {
     "output_type": "execute_result",
     "data": {
      "text/plain": [
       "   COU    Country           DESIG                             Designation  \\\n",
       "0  AUS  Australia  ALL_INC_POINTS  All, including data recorded as points   \n",
       "1  AUS  Australia  ALL_INC_POINTS  All, including data recorded as points   \n",
       "2  AUS  Australia  ALL_INC_POINTS  All, including data recorded as points   \n",
       "3  AUS  Australia  ALL_INC_POINTS  All, including data recorded as points   \n",
       "4  AUS  Australia  ALL_INC_POINTS  All, including data recorded as points   \n",
       "\n",
       "        DOMAIN       Domain MEASURE                         Measure  \\\n",
       "0  TERRESTRIAL  Terrestrial    PCNT  Percent of total land/EEZ area   \n",
       "1  TERRESTRIAL  Terrestrial    PCNT  Percent of total land/EEZ area   \n",
       "2  TERRESTRIAL  Terrestrial    PCNT  Percent of total land/EEZ area   \n",
       "3  TERRESTRIAL  Terrestrial    PCNT  Percent of total land/EEZ area   \n",
       "4  TERRESTRIAL  Terrestrial    PCNT  Percent of total land/EEZ area   \n",
       "\n",
       "  CALCULATION  Calculation method  ...  Year Unit Code        Unit  \\\n",
       "0       NAIVE  Total for category  ...  1970        PC  Percentage   \n",
       "1       NAIVE  Total for category  ...  1980        PC  Percentage   \n",
       "2       NAIVE  Total for category  ...  1990        PC  Percentage   \n",
       "3       NAIVE  Total for category  ...  1995        PC  Percentage   \n",
       "4       NAIVE  Total for category  ...  2000        PC  Percentage   \n",
       "\n",
       "   PowerCode Code PowerCode Reference Period Code  Reference Period Value  \\\n",
       "0               0     Units                   NaN               NaN  1.08   \n",
       "1               0     Units                   NaN               NaN  2.81   \n",
       "2               0     Units                   NaN               NaN  5.06   \n",
       "3               0     Units                   NaN               NaN  6.11   \n",
       "4               0     Units                   NaN               NaN  7.06   \n",
       "\n",
       "   Flag Codes  Flags  \n",
       "0         NaN    NaN  \n",
       "1         NaN    NaN  \n",
       "2         NaN    NaN  \n",
       "3         NaN    NaN  \n",
       "4         NaN    NaN  \n",
       "\n",
       "[5 rows x 23 columns]"
      ],
      "text/html": "<div>\n<style scoped>\n    .dataframe tbody tr th:only-of-type {\n        vertical-align: middle;\n    }\n\n    .dataframe tbody tr th {\n        vertical-align: top;\n    }\n\n    .dataframe thead th {\n        text-align: right;\n    }\n</style>\n<table border=\"1\" class=\"dataframe\">\n  <thead>\n    <tr style=\"text-align: right;\">\n      <th></th>\n      <th>COU</th>\n      <th>Country</th>\n      <th>DESIG</th>\n      <th>Designation</th>\n      <th>DOMAIN</th>\n      <th>Domain</th>\n      <th>MEASURE</th>\n      <th>Measure</th>\n      <th>CALCULATION</th>\n      <th>Calculation method</th>\n      <th>...</th>\n      <th>Year</th>\n      <th>Unit Code</th>\n      <th>Unit</th>\n      <th>PowerCode Code</th>\n      <th>PowerCode</th>\n      <th>Reference Period Code</th>\n      <th>Reference Period</th>\n      <th>Value</th>\n      <th>Flag Codes</th>\n      <th>Flags</th>\n    </tr>\n  </thead>\n  <tbody>\n    <tr>\n      <th>0</th>\n      <td>AUS</td>\n      <td>Australia</td>\n      <td>ALL_INC_POINTS</td>\n      <td>All, including data recorded as points</td>\n      <td>TERRESTRIAL</td>\n      <td>Terrestrial</td>\n      <td>PCNT</td>\n      <td>Percent of total land/EEZ area</td>\n      <td>NAIVE</td>\n      <td>Total for category</td>\n      <td>...</td>\n      <td>1970</td>\n      <td>PC</td>\n      <td>Percentage</td>\n      <td>0</td>\n      <td>Units</td>\n      <td>NaN</td>\n      <td>NaN</td>\n      <td>1.08</td>\n      <td>NaN</td>\n      <td>NaN</td>\n    </tr>\n    <tr>\n      <th>1</th>\n      <td>AUS</td>\n      <td>Australia</td>\n      <td>ALL_INC_POINTS</td>\n      <td>All, including data recorded as points</td>\n      <td>TERRESTRIAL</td>\n      <td>Terrestrial</td>\n      <td>PCNT</td>\n      <td>Percent of total land/EEZ area</td>\n      <td>NAIVE</td>\n      <td>Total for category</td>\n      <td>...</td>\n      <td>1980</td>\n      <td>PC</td>\n      <td>Percentage</td>\n      <td>0</td>\n      <td>Units</td>\n      <td>NaN</td>\n      <td>NaN</td>\n      <td>2.81</td>\n      <td>NaN</td>\n      <td>NaN</td>\n    </tr>\n    <tr>\n      <th>2</th>\n      <td>AUS</td>\n      <td>Australia</td>\n      <td>ALL_INC_POINTS</td>\n      <td>All, including data recorded as points</td>\n      <td>TERRESTRIAL</td>\n      <td>Terrestrial</td>\n      <td>PCNT</td>\n      <td>Percent of total land/EEZ area</td>\n      <td>NAIVE</td>\n      <td>Total for category</td>\n      <td>...</td>\n      <td>1990</td>\n      <td>PC</td>\n      <td>Percentage</td>\n      <td>0</td>\n      <td>Units</td>\n      <td>NaN</td>\n      <td>NaN</td>\n      <td>5.06</td>\n      <td>NaN</td>\n      <td>NaN</td>\n    </tr>\n    <tr>\n      <th>3</th>\n      <td>AUS</td>\n      <td>Australia</td>\n      <td>ALL_INC_POINTS</td>\n      <td>All, including data recorded as points</td>\n      <td>TERRESTRIAL</td>\n      <td>Terrestrial</td>\n      <td>PCNT</td>\n      <td>Percent of total land/EEZ area</td>\n      <td>NAIVE</td>\n      <td>Total for category</td>\n      <td>...</td>\n      <td>1995</td>\n      <td>PC</td>\n      <td>Percentage</td>\n      <td>0</td>\n      <td>Units</td>\n      <td>NaN</td>\n      <td>NaN</td>\n      <td>6.11</td>\n      <td>NaN</td>\n      <td>NaN</td>\n    </tr>\n    <tr>\n      <th>4</th>\n      <td>AUS</td>\n      <td>Australia</td>\n      <td>ALL_INC_POINTS</td>\n      <td>All, including data recorded as points</td>\n      <td>TERRESTRIAL</td>\n      <td>Terrestrial</td>\n      <td>PCNT</td>\n      <td>Percent of total land/EEZ area</td>\n      <td>NAIVE</td>\n      <td>Total for category</td>\n      <td>...</td>\n      <td>2000</td>\n      <td>PC</td>\n      <td>Percentage</td>\n      <td>0</td>\n      <td>Units</td>\n      <td>NaN</td>\n      <td>NaN</td>\n      <td>7.06</td>\n      <td>NaN</td>\n      <td>NaN</td>\n    </tr>\n  </tbody>\n</table>\n<p>5 rows × 23 columns</p>\n</div>"
     },
     "metadata": {},
     "execution_count": 13
    }
   ],
   "source": [
    "df.head()"
   ]
  },
  {
   "cell_type": "code",
   "execution_count": 10,
   "metadata": {},
   "outputs": [
    {
     "output_type": "execute_result",
     "data": {
      "text/plain": [
       "array(['Australia', 'Austria', 'Belgium', 'Canada', 'Czech Republic',\n",
       "       'Denmark', 'Finland', 'France', 'Germany', 'Greece', 'Hungary',\n",
       "       'Iceland', 'Ireland', 'Italy', 'Japan', 'Korea', 'Luxembourg',\n",
       "       'Mexico', 'Netherlands', 'New Zealand', 'Norway', 'Poland',\n",
       "       'Portugal', 'Slovak Republic', 'Spain', 'Sweden', 'Switzerland',\n",
       "       'United Kingdom', 'United States', 'G7', 'NAFTA', 'American Samoa',\n",
       "       'Anguilla', 'Argentina', 'Armenia', 'Aruba', 'Azerbaijan',\n",
       "       'Belarus', 'Bermuda', 'Brazil', 'British Virgin Islands',\n",
       "       'Bulgaria', 'Cayman Islands', 'Chile',\n",
       "       \"China (People's Republic of)\", 'Colombia', 'Cook Islands',\n",
       "       'Costa Rica', 'Croatia', 'Cyprus', 'Estonia', 'Faeroe Islands',\n",
       "       'Falkland Islands (Malvinas)', 'French Guiana', 'French Polynesia',\n",
       "       'Georgia', 'Greenland', 'Guadeloupe', 'Guam', 'India', 'Indonesia',\n",
       "       'Israel', 'Kazakhstan', 'Kyrgyzstan', 'Latvia', 'Lithuania',\n",
       "       'Malta', 'Martinique', 'Mayotte', 'Moldova', 'Montserrat',\n",
       "       'New Caledonia', 'Niue', 'Norfolk Island',\n",
       "       'Northern Mariana Islands', 'Peru', 'Pitcairn', 'Puerto Rico',\n",
       "       'Réunion', 'Romania', 'Russia', 'Saint Helena',\n",
       "       'Saint Pierre and Miquelon', 'Saudi Arabia', 'Slovenia',\n",
       "       'South Africa', 'Svalbard and Jan Mayen', 'Tajikistan',\n",
       "       'Turkmenistan', 'Turks and Caicos Islands', 'Ukraine',\n",
       "       'Uzbekistan', 'United States Virgin Islands', 'Wallis and Futuna',\n",
       "       'World', 'Bouvet Island', 'Heard Island and McDonald Islands',\n",
       "       'South Georgia and the South Sandwich Islands',\n",
       "       'French Southern and Antarctic Lands',\n",
       "       'United States Minor Outlying Islands',\n",
       "       'British Indian Ocean Territory', 'Christmas Islands', 'ASEAN',\n",
       "       'APEC', 'Guernsey', 'Isle of Man', 'Jersey', 'G20',\n",
       "       'BRIICS economies - Brazil, Russia, India, Indonesia, China and South Africa',\n",
       "       'Curacao', 'European Union (28 countries)', 'Sint Maarten',\n",
       "       'Bonaire', 'OECD - Total', 'OECD - Europe',\n",
       "       'Euro area (19 countries)', 'Saint Barthélemy',\n",
       "       'OECD Asia Oceania', 'OECD America',\n",
       "       'Eastern Europe, Caucasus and Central Asia',\n",
       "       'Latin America and Caribbean', 'Middle East and North Africa',\n",
       "       'Saint Martin', 'Clipperton Island'], dtype=object)"
      ]
     },
     "metadata": {},
     "execution_count": 10
    }
   ],
   "source": [
    "df.Country.unique()"
   ]
  },
  {
   "cell_type": "code",
   "execution_count": null,
   "metadata": {},
   "outputs": [],
   "source": []
  }
 ],
 "metadata": {
  "kernelspec": {
   "name": "python3",
   "display_name": "Python 3.7.3 64-bit ('DOPPThreatenedSpecies': pipenv)",
   "metadata": {
    "interpreter": {
     "hash": "1d1d6bb1def10cf8867d2cae1d892fdca23ec61e4937a1f80a9877e8fff6e6b9"
    }
   }
  },
  "language_info": {
   "codemirror_mode": {
    "name": "ipython",
    "version": 3
   },
   "file_extension": ".py",
   "mimetype": "text/x-python",
   "name": "python",
   "nbconvert_exporter": "python",
   "pygments_lexer": "ipython3",
   "version": "3.7.3-final"
  }
 },
 "nbformat": 4,
 "nbformat_minor": 4
}