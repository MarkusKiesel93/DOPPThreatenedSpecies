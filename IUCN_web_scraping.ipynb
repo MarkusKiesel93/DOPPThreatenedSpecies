{
 "cells": [
  {
   "cell_type": "code",
   "execution_count": 65,
   "metadata": {},
   "outputs": [],
   "source": [
    "from selenium import webdriver\n",
    "from selenium.webdriver.common.keys import Keys\n",
    "from selenium.webdriver.common.action_chains import ActionChains\n",
    "from bs4 import BeautifulSoup\n",
    "from pathlib import Path\n",
    "from time import sleep\n",
    "import pandas as pd"
   ]
  },
  {
   "cell_type": "code",
   "execution_count": 66,
   "metadata": {},
   "outputs": [],
   "source": [
    "# filter for Taxonomy group Animalia\n",
    "def filter_animals(filters):\n",
    "    filter_taxonomy = filters.find_element_by_xpath(\"//*[text()='Taxonomy']\")\n",
    "    filter_taxonomy.click() # click section\n",
    "    sleep(2)\n",
    "    filter_animals = filters.find_element_by_xpath(\"//*[text()='Animalia']\")\n",
    "    filter_animals.click()  # click animals section\n",
    "    filter_taxonomy.click() # collapse filter"
   ]
  },
  {
   "source": [
    "### Why filter country legends ?\n",
    "https://www.iucnredlist.org/resources/summary-statistics\n",
    "\n",
    "Important note: the figures presented in Tables 5 and 6 differ from the default setting for country searches on the website. The default search includes ALL occurrences within each country (i.e., including introduced species, vagrant records, etc.). To modify country searches on the website to match the tables below, use the Country Legends filters on the Advanced Search page to show species tagged as 'Extant', 'Extant & Reintroduced', 'Extinct', 'Extinct & Reintroduced', 'Possibly Extinct', and 'Possibly Extinct & Reintroduced'."
   ],
   "cell_type": "markdown",
   "metadata": {}
  },
  {
   "cell_type": "code",
   "execution_count": 67,
   "metadata": {},
   "outputs": [],
   "source": [
    "# filter country legends\n",
    "def filter_country_legends(filters, filter_items):\n",
    "    filter_country_legends = filters.find_element_by_xpath(\"//*[text()='Country Legends']\")\n",
    "    filter_country_legends.click()  # click section\n",
    "    sleep(2)\n",
    "    for item in filter_items:\n",
    "        element = filters.find_element_by_xpath(f\"//*[text()='{item}']\")\n",
    "        element.click()   # click items in list\n",
    "    filter_country_legends.click()  # collapse filter"
   ]
  },
  {
   "cell_type": "code",
   "execution_count": 68,
   "metadata": {},
   "outputs": [],
   "source": [
    "# click filter for a country\n",
    "def click_country_filter(filters, country_name):\n",
    "    filter_country = filters.find_element_by_xpath(f\"//*[text()='{country_name}']\")\n",
    "    filter_country.click()\n",
    "    sleep(2)"
   ]
  },
  {
   "cell_type": "code",
   "execution_count": 69,
   "metadata": {},
   "outputs": [],
   "source": [
    "# click the \"Land Regions\" button to return to all filters\n",
    "def click_return_regions(filters):\n",
    "    # select second element with name \"Land Regions\"\n",
    "    filter_region = filters.find_elements_by_xpath(\"//*[text()='Land Regions']\")[1]\n",
    "    filter_region.click()"
   ]
  },
  {
   "cell_type": "code",
   "execution_count": 70,
   "metadata": {},
   "outputs": [],
   "source": [
    "# click a filter for \"Land Regions\"\n",
    "# offset is needed to click the arrow on the right instead of the checkbox\n",
    "def click_filter(driver, element, offset=False):\n",
    "    x_offset = 0\n",
    "    if offset:\n",
    "        x_offset = 115\n",
    "    ac = ActionChains(driver)\n",
    "    ac.move_to_element(element).move_by_offset(x_offset, 0).click().perform()"
   ]
  },
  {
   "cell_type": "code",
   "execution_count": 71,
   "metadata": {},
   "outputs": [],
   "source": [
    "# clickst the \"show all\" button on the bottom of the main content as long as all species are loaded\n",
    "def load_all(driver):\n",
    "    main_content = driver.find_element_by_class_name('layout-page__major')\n",
    "    try:\n",
    "        show_all_button = main_content.find_element_by_class_name('section__link-out')\n",
    "        show_all_button.click()\n",
    "        # todo: find better method to wait for loaded content\n",
    "        sleep(10)\n",
    "        load_next(driver) # recursive call\n",
    "    except:\n",
    "        pass"
   ]
  },
  {
   "cell_type": "code",
   "execution_count": 72,
   "metadata": {},
   "outputs": [],
   "source": [
    "# extract species info from html li items\n",
    "def extract_content(driver):\n",
    "    results = []\n",
    "    \n",
    "    # get main html content\n",
    "    main_content = driver.find_element_by_class_name('layout-page__major')\n",
    "    main_html = main_content.get_attribute('innerHTML')\n",
    "    \n",
    "    # get html with beautifulsoup\n",
    "    soup = BeautifulSoup(main_html, 'html.parser')\n",
    "    items = soup.find_all('li', class_='list-results__item')\n",
    "    for item in items:\n",
    "        result = {}\n",
    "        result['kingdom_class'] = item.contents[0].string\n",
    "        result['common_name'] = item.contents[1].text\n",
    "        result['scientific_name'] = item.contents[2].text\n",
    "        result['trend'] = item.contents[3].text\n",
    "        result['region'] = item.contents[4].text\n",
    "        result['threat_level'] = item.contents[5].get('title')\n",
    "        results.append(result)\n",
    "    return pd.DataFrame(results)"
   ]
  },
  {
   "cell_type": "code",
   "execution_count": 79,
   "metadata": {},
   "outputs": [],
   "source": [
    "DRIVER = Path('./geckodriver').absolute()\n",
    "URL = 'https://www.iucnredlist.org/search/list'\n",
    "OUTPUT_PATH = Path('./data/IUCN/scraped')\n",
    "OECD_COUNTRIES = {\n",
    "#    'Europe': [\n",
    "#        'Austria', 'Belgium', 'Czechia', 'Denmark', 'Finland', 'France', 'Germany', 'Greece', 'Hungary',\n",
    "#        'Iceland', 'Ireland', 'Italy', 'Luxembourg', 'Netherlands', 'Norway', 'Poland', 'Portugal', 'Slovakia', 'Spain',\n",
    "#        'Sweden', 'Switzerland', 'United Kingdom'\n",
    "#    ],\n",
    "    'Oceania': [\n",
    "        'Australia', 'New Zealand',\n",
    "    ],\n",
    "    'North America': [\n",
    "        'Canada', 'United States',\n",
    "    ],\n",
    "    'East Asia': [\n",
    "        'Japan', 'Korea, Republic of',\n",
    "    ],\n",
    "    'Mesoamerica': [\n",
    "        'Mexico',\n",
    "    ],\n",
    "}\n",
    "\n",
    "# connect to browser with selenium\n",
    "driver = webdriver.Firefox(executable_path=DRIVER)\n",
    "driver.get(URL)\n",
    "# get filters\n",
    "filters = driver.find_element_by_class_name('filter')\n",
    "# filter only animals\n",
    "filter_animals(filters)\n",
    "# filter for country legends\n",
    "country_legends_items = ['Extant & Reintroduced', 'Extinct', 'Extinct & Reintroduced', 'Possibly Extinct', 'Possibly Extinct & Reintroduced']\n",
    "filter_country_legends(filters, country_legends_items)"
   ]
  },
  {
   "cell_type": "code",
   "execution_count": 80,
   "metadata": {},
   "outputs": [
    {
     "output_type": "stream",
     "name": "stdout",
     "text": [
      "region: Oceania\n",
      "loading data for country: Australia\n",
      "loading data for country: New Zealand\n",
      "region: North America\n",
      "loading data for country: Canada\n",
      "loading data for country: United States\n",
      "region: East Asia\n",
      "loading data for country: Japan\n",
      "loading data for country: Korea, Republic of\n",
      "region: Mesoamerica\n",
      "loading data for country: Mexico\n"
     ]
    }
   ],
   "source": [
    "# click section\n",
    "land_region = filters.find_element_by_xpath(\"//*[text()='Land Regions']\")\n",
    "land_region.click()\n",
    "# iterate all countrys\n",
    "for region_name in OECD_COUNTRIES:\n",
    "    print(f'region: {region_name}')\n",
    "    # open section for current region\n",
    "    filter_region = filters.find_element_by_xpath(f\"//*[text()='{region_name}']\")\n",
    "    click_filter(driver, filter_region, offset=True)\n",
    "\n",
    "    for country_name in OECD_COUNTRIES[region_name]:\n",
    "        print(f'loading data for country: {country_name}')\n",
    "        click_country_filter(filters, country_name)\n",
    "        # load the whole content\n",
    "        load_all(driver)\n",
    "        # extract content\n",
    "        # todo: find better method to wait for results to be loaded\n",
    "        sleep(10)\n",
    "        content = extract_content(driver)\n",
    "        # save to csv\n",
    "        file_path = (OUTPUT_PATH / country_name.replace(' ', '_')).with_suffix('.csv')\n",
    "        content.to_csv(file_path, index=False)\n",
    "        # uncheck country\n",
    "        click_country_filter(filters, country_name)\n",
    "    # get back to all regions\n",
    "    click_return_regions(filters)\n",
    "    sleep(2)"
   ]
  }
 ],
 "metadata": {
  "kernelspec": {
   "name": "python3",
   "display_name": "Python 3.7.3 64-bit ('DOPPThreatenedSpecies': pipenv)",
   "metadata": {
    "interpreter": {
     "hash": "1d1d6bb1def10cf8867d2cae1d892fdca23ec61e4937a1f80a9877e8fff6e6b9"
    }
   }
  },
  "language_info": {
   "codemirror_mode": {
    "name": "ipython",
    "version": 3
   },
   "file_extension": ".py",
   "mimetype": "text/x-python",
   "name": "python",
   "nbconvert_exporter": "python",
   "pygments_lexer": "ipython3",
   "version": "3.7.3-final"
  }
 },
 "nbformat": 4,
 "nbformat_minor": 4
}