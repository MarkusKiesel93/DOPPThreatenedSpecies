{
 "cells": [
  {
   "cell_type": "code",
   "execution_count": 1,
   "metadata": {},
   "outputs": [],
   "source": [
    "from selenium import webdriver\n",
    "from selenium.webdriver.common.keys import Keys\n",
    "from bs4 import BeautifulSoup\n",
    "from pathlib import Path\n",
    "from time import sleep\n",
    "\n",
    "DRIVER = Path('./geckodriver').absolute()"
   ]
  },
  {
   "cell_type": "code",
   "execution_count": 2,
   "metadata": {},
   "outputs": [],
   "source": [
    "# access IUCN webpage with selenium\n",
    "URL = 'https://www.iucnredlist.org/search/list'\n",
    "driver = webdriver.Firefox(executable_path=DRIVER)\n",
    "driver.get(URL)"
   ]
  },
  {
   "cell_type": "code",
   "execution_count": 3,
   "metadata": {},
   "outputs": [],
   "source": [
    "# get filters\n",
    "filters = driver.find_element_by_class_name('filter')"
   ]
  },
  {
   "cell_type": "code",
   "execution_count": 4,
   "metadata": {},
   "outputs": [],
   "source": [
    "# select only animals\n",
    "filter_taxonomy = filters.find_elements_by_xpath(\"//*[text()='Taxonomy']\")\n",
    "filter_taxonomy[0].click()\n",
    "sleep(2)\n",
    "filter_animals = filters.find_elements_by_xpath(\"//*[text()='Animalia']\")\n",
    "filter_animals[0].click()"
   ]
  },
  {
   "cell_type": "code",
   "execution_count": 5,
   "metadata": {},
   "outputs": [],
   "source": [
    "# filter country legends\n",
    "filter_country_legends = filters.find_elements_by_xpath(\"//*[text()='Country Legends']\")[0]\n",
    "filter_country_legends.click()\n",
    "sleep(2)\n",
    "filter_legends_items = ['Extant & Reintroduced', 'Extinct', 'Extinct & Reintroduced', 'Possibly Extinct', 'Possibly Extinct & Reintroduced']\n",
    "for item in filter_legends_items:\n",
    "    selection = filters.find_elements_by_xpath(f\"//*[text()='{item}']\")[0]\n",
    "    selection.click()"
   ]
  },
  {
   "cell_type": "code",
   "execution_count": 6,
   "metadata": {},
   "outputs": [],
   "source": [
    "# filter regions\n",
    "filter_land_region = filters.find_elements_by_xpath(\"//*[text()='Land Regions']\")[0]\n",
    "filter_land_region.click()\n",
    "sleep(2)\n",
    "# filter for europe\n",
    "filter_europe_label = filter_land_region = filters.find_elements_by_xpath(\"//*[text()='Europe']\")[0]\n",
    "filter_europe = filter_europe_label.find_element_by_xpath(\"..\")\n",
    "filter_europe.click()\n",
    "# filter for austria\n",
    "filter_austria = filter_land_region = filters.find_elements_by_xpath(\"//*[text()='Austria']\")[0]\n",
    "filter_austria.click()\n",
    "sleep(5)"
   ]
  },
  {
   "cell_type": "code",
   "execution_count": 7,
   "metadata": {},
   "outputs": [],
   "source": [
    "# get main hatml content\n",
    "main_content = driver.find_element_by_class_name('layout-page__major')\n",
    "main_html = main_content.get_attribute('innerHTML')"
   ]
  },
  {
   "cell_type": "code",
   "execution_count": 8,
   "metadata": {},
   "outputs": [],
   "source": [
    "# extract species info from html li items\n",
    "def extract_content(html):\n",
    "    results = []\n",
    "    # get html with beautifulsoup\n",
    "    soup = BeautifulSoup(html, 'html.parser')\n",
    "    species = soup.find_all('li', class_='list-results__item')\n",
    "    for s in species:\n",
    "        result = {}\n",
    "        result['classification'] = s.contents[0].string\n",
    "        result['name'] = s.contents[2].string\n",
    "        result['status'] = s.contents[3].string\n",
    "        result['region'] = s.contents[4].string\n",
    "        result['level'] = s.contents[5].get('title')\n",
    "        results.append(result)\n",
    "    return results"
   ]
  },
  {
   "cell_type": "code",
   "execution_count": 9,
   "metadata": {},
   "outputs": [],
   "source": [
    "restults_austria = extract_content(main_html)"
   ]
  },
  {
   "cell_type": "code",
   "execution_count": 10,
   "metadata": {},
   "outputs": [
    {
     "output_type": "execute_result",
     "data": {
      "text/plain": [
       "23"
      ]
     },
     "metadata": {},
     "execution_count": 10
    }
   ],
   "source": [
    "len(restults_austria)"
   ]
  },
  {
   "cell_type": "code",
   "execution_count": 11,
   "metadata": {},
   "outputs": [
    {
     "output_type": "execute_result",
     "data": {
      "text/plain": [
       "[{'classification': 'animalia — mammalia',\n",
       "  'name': 'Alces alces',\n",
       "  'status': 'Increasing',\n",
       "  'region': 'Global',\n",
       "  'level': 'Least Concern'},\n",
       " {'classification': 'animalia — mammalia',\n",
       "  'name': 'Capra ibex',\n",
       "  'status': 'Stable',\n",
       "  'region': 'Global, Europe',\n",
       "  'level': 'Least Concern'},\n",
       " {'classification': 'animalia — insecta',\n",
       "  'name': 'Pyrgus cirsii',\n",
       "  'status': 'Decreasing',\n",
       "  'region': 'Global, Europe',\n",
       "  'level': 'Vulnerable'},\n",
       " {'classification': 'animalia — aves',\n",
       "  'name': 'Falco naumanni',\n",
       "  'status': 'Stable',\n",
       "  'region': 'Global',\n",
       "  'level': 'Least Concern'},\n",
       " {'classification': 'animalia — mammalia',\n",
       "  'name': 'Miniopterus schreibersii',\n",
       "  'status': 'Decreasing',\n",
       "  'region': 'Global',\n",
       "  'level': 'Vulnerable'},\n",
       " {'classification': 'animalia — aves',\n",
       "  'name': 'Gypaetus barbatus',\n",
       "  'status': 'Decreasing',\n",
       "  'region': 'Global',\n",
       "  'level': 'Near Threatened'},\n",
       " {'classification': 'animalia — actinopterygii',\n",
       "  'name': 'Huso huso',\n",
       "  'status': 'Decreasing',\n",
       "  'region': 'Global',\n",
       "  'level': 'Critically Endangered'},\n",
       " {'classification': 'animalia — aves',\n",
       "  'name': 'Acrocephalus paludicola',\n",
       "  'status': 'Decreasing',\n",
       "  'region': 'Global',\n",
       "  'level': 'Vulnerable'},\n",
       " {'classification': 'animalia — aves',\n",
       "  'name': 'Tetrax tetrax',\n",
       "  'status': 'Decreasing',\n",
       "  'region': 'Global',\n",
       "  'level': 'Near Threatened'},\n",
       " {'classification': 'animalia — mammalia',\n",
       "  'name': 'Castor fiber',\n",
       "  'status': 'Increasing',\n",
       "  'region': 'Global',\n",
       "  'level': 'Least Concern'},\n",
       " {'classification': 'animalia — mammalia',\n",
       "  'name': 'Mustela lutreola',\n",
       "  'status': 'Decreasing',\n",
       "  'region': 'Global',\n",
       "  'level': 'Critically Endangered'},\n",
       " {'classification': 'animalia — insecta',\n",
       "  'name': 'Melitaea parthenoides',\n",
       "  'status': 'Decreasing',\n",
       "  'region': 'Global, Europe',\n",
       "  'level': 'Least Concern'},\n",
       " {'classification': 'animalia — aves',\n",
       "  'name': 'Grus grus',\n",
       "  'status': 'Increasing',\n",
       "  'region': 'Global',\n",
       "  'level': 'Least Concern'},\n",
       " {'classification': 'animalia — insecta',\n",
       "  'name': 'Acrida ungarica',\n",
       "  'status': 'Stable',\n",
       "  'region': 'Global, Europe',\n",
       "  'level': 'Least Concern'},\n",
       " {'classification': 'animalia — reptilia',\n",
       "  'name': 'Vipera ursinii',\n",
       "  'status': 'Decreasing',\n",
       "  'region': 'Global, Europe',\n",
       "  'level': 'Vulnerable'},\n",
       " {'classification': 'animalia — gastropoda',\n",
       "  'name': 'Iglica gratulabunda',\n",
       "  'status': 'Unknown',\n",
       "  'region': 'Global, Europe',\n",
       "  'level': 'Critically Endangered'},\n",
       " {'classification': 'animalia — actinopterygii',\n",
       "  'name': 'Coregonus gutturosus',\n",
       "  'status': None,\n",
       "  'region': 'Global, Europe',\n",
       "  'level': 'Extinct'},\n",
       " {'classification': 'animalia — actinopterygii',\n",
       "  'name': 'Salvelinus profundus',\n",
       "  'status': None,\n",
       "  'region': 'Global, Europe',\n",
       "  'level': 'Extinct'},\n",
       " {'classification': 'animalia — gastropoda',\n",
       "  'name': 'Belgrandiella multiformis',\n",
       "  'status': 'Decreasing',\n",
       "  'region': 'Global, Europe',\n",
       "  'level': 'Critically Endangered'},\n",
       " {'classification': 'animalia — actinopterygii',\n",
       "  'name': 'Acipenser gueldenstaedtii',\n",
       "  'status': 'Decreasing',\n",
       "  'region': 'Global',\n",
       "  'level': 'Critically Endangered'},\n",
       " {'classification': 'animalia — gastropoda',\n",
       "  'name': 'Belgrandiella intermedia',\n",
       "  'status': None,\n",
       "  'region': 'Global',\n",
       "  'level': 'Extinct'},\n",
       " {'classification': 'animalia — gastropoda',\n",
       "  'name': 'Belgrandiella kreisslorum',\n",
       "  'status': 'Unknown',\n",
       "  'region': 'Global, Europe',\n",
       "  'level': 'Critically Endangered'},\n",
       " {'classification': 'animalia — gastropoda',\n",
       "  'name': 'Belgrandiella boetersi',\n",
       "  'status': 'Unknown',\n",
       "  'region': 'Global, Europe',\n",
       "  'level': 'Critically Endangered'}]"
      ]
     },
     "metadata": {},
     "execution_count": 11
    }
   ],
   "source": [
    "restults_austria"
   ]
  },
  {
   "cell_type": "code",
   "execution_count": 3,
   "metadata": {},
   "outputs": [],
   "source": [
    "# search the \"search box\" by country and extract return html of main content\n",
    "# does not work because we have to use filter\n",
    "def search_country(country):\n",
    "    search_box.clear()\n",
    "    search_box.send_keys(country)\n",
    "    search_button.click()\n",
    "    # wait for search\n",
    "    sleep(10)\n",
    "    main_content = driver.find_element_by_class_name('layout-page__major')\n",
    "    main_html = main_content.get_attribute('innerHTML')\n",
    "    return main_html"
   ]
  },
  {
   "cell_type": "code",
   "execution_count": 5,
   "metadata": {},
   "outputs": [],
   "source": [
    "# test for some countrys\n",
    "OECD_COUNTRYS = ['Austria', 'Germany', 'Italy']\n",
    "country_results = {}\n",
    "for country in OECD_COUNTRYS:\n",
    "    html = search_country(country)\n",
    "    country_results[country] = extract_content(html)"
   ]
  }
 ],
 "metadata": {
  "kernelspec": {
   "name": "python3",
   "display_name": "Python 3.7.3 64-bit ('DOPPThreatenedSpecies': pipenv)",
   "metadata": {
    "interpreter": {
     "hash": "939f7cbd5cdad98e2a0ab65422aa27ed4ff004ee452b800bc1c9bfe29c5408a5"
    }
   }
  },
  "language_info": {
   "codemirror_mode": {
    "name": "ipython",
    "version": 3
   },
   "file_extension": ".py",
   "mimetype": "text/x-python",
   "name": "python",
   "nbconvert_exporter": "python",
   "pygments_lexer": "ipython3",
   "version": "3.7.3-final"
  }
 },
 "nbformat": 4,
 "nbformat_minor": 4
}