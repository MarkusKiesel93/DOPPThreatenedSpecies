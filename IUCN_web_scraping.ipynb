{
 "cells": [
  {
   "cell_type": "code",
   "execution_count": 1,
   "metadata": {},
   "outputs": [],
   "source": [
    "from selenium import webdriver\n",
    "from selenium.webdriver.common.keys import Keys\n",
    "from bs4 import BeautifulSoup\n",
    "from pathlib import Path\n",
    "from time import sleep\n",
    "\n",
    "DRIVER = Path('./geckodriver').absolute()"
   ]
  },
  {
   "cell_type": "code",
   "execution_count": 2,
   "metadata": {},
   "outputs": [],
   "source": [
    "URL = 'https://www.iucnredlist.org/search/list'"
   ]
  },
  {
   "cell_type": "code",
   "execution_count": 3,
   "metadata": {},
   "outputs": [],
   "source": [
    "# access one country with selenium\n",
    "driver = webdriver.Firefox(executable_path=DRIVER)\n",
    "driver.get(URL)\n",
    "search_box = driver.find_element_by_class_name('search--site')\n",
    "search_button = driver.find_element_by_class_name('search--site__button__key')\n",
    "search_box.send_keys('Austria')\n",
    "search_button.click()\n",
    "# wait for search\n",
    "sleep(10)\n",
    "main_content = driver.find_element_by_class_name('layout-page__major')\n",
    "main_html = main_content.get_attribute('innerHTML')"
   ]
  },
  {
   "cell_type": "code",
   "execution_count": 4,
   "metadata": {},
   "outputs": [
    {
     "data": {
      "text/plain": [
       "[<li class=\"list-results__item\"><span class=\"list-results__classification\">plantae — magnoliopsida</span><h2 class=\"list-results__title\">Austrian Field Cress</h2><p class=\"list-results__subtitle\"><em>Rorippa austriaca</em></p><span class=\"species-population -sm species-population--unknown\">Unknown</span><span class=\"species-assessment u--capitalize\">Global</span><a class=\"species-category -sm -icon species-category--lc\" href=\"/species/176580/42339673\" title=\"Least Concern\">lc</a><a aria-hidden=\"true\" class=\"link--faux\" href=\"/species/176580/42339673\" tabindex=\"-1\">View</a></li>,\n",
       " <li class=\"list-results__item\"><span class=\"list-results__classification\">plantae — liliopsida</span><h2 class=\"list-results__title\">Austrian Gymnadenia </h2><p class=\"list-results__subtitle\"><em>Gymnadenia archiducis-joannis</em></p><span class=\"species-population -sm species-population--decreasing\">Decreasing</span><span class=\"species-assessment u--capitalize\">Global, Europe</span><a class=\"species-category -sm -icon species-category--en\" href=\"/species/175984/7162873\" title=\"Endangered\">en</a><a aria-hidden=\"true\" class=\"link--faux\" href=\"/species/175984/7162873\" tabindex=\"-1\">View</a></li>,\n",
       " <li class=\"list-results__item\"><span class=\"list-results__classification\">plantae — liliopsida</span><h2 class=\"list-results__title\">Austrian Gymnadenia</h2><p class=\"list-results__subtitle\"><em>Gymnadenia stiriaca</em></p><span class=\"species-population -sm species-population--decreasing\">Decreasing</span><span class=\"species-assessment u--capitalize\">Global, Europe</span><a class=\"species-category -sm -icon species-category--en\" href=\"/species/176019/7173122\" title=\"Endangered\">en</a><a aria-hidden=\"true\" class=\"link--faux\" href=\"/species/176019/7173122\" tabindex=\"-1\">View</a></li>,\n",
       " <li class=\"list-results__item\"><span class=\"list-results__classification\">plantae — liliopsida</span><h2 class=\"list-results__title\">Austrian Gymnadenia</h2><p class=\"list-results__subtitle\"><em>Gymnadenia lithopolitanica</em></p><span class=\"species-population -sm species-population--decreasing\">Decreasing</span><span class=\"species-assessment u--capitalize\">Global, Europe</span><a class=\"species-category -sm -icon species-category--en\" href=\"/species/175943/7150321\" title=\"Endangered\">en</a><a aria-hidden=\"true\" class=\"link--faux\" href=\"/species/175943/7150321\" tabindex=\"-1\">View</a></li>,\n",
       " <li class=\"list-results__item\"><span class=\"list-results__classification\">plantae — pinopsida</span><h2 class=\"list-results__title\">Austrian Pine</h2><p class=\"list-results__subtitle\"><em>Pinus nigra</em></p><span class=\"species-population -sm species-population--stable\">Stable</span><span class=\"species-assessment u--capitalize\">Global</span><a class=\"species-category -sm -icon species-category--lc\" href=\"/species/42386/2976817\" title=\"Least Concern\">lc</a><a aria-hidden=\"true\" class=\"link--faux\" href=\"/species/42386/2976817\" tabindex=\"-1\">View</a></li>,\n",
       " <li class=\"list-results__item\"><span class=\"list-results__classification\">plantae — magnoliopsida</span><h2 class=\"list-results__title\">Österreichische Mehlbeere</h2><p class=\"list-results__subtitle\"><em>Sorbus austriaca</em></p><span class=\"species-population -sm species-population--stable\">Stable</span><span class=\"species-assessment u--capitalize\">Global, Europe</span><a class=\"species-category -sm -icon species-category--lc\" href=\"/species/62862/83026105\" title=\"Least Concern\">lc</a><a aria-hidden=\"true\" class=\"link--faux\" href=\"/species/62862/83026105\" tabindex=\"-1\">View</a></li>,\n",
       " <li class=\"list-results__item\"><span class=\"list-results__classification\">animalia — reptilia</span><h2 class=\"list-results__title\">Smooth Snake</h2><p class=\"list-results__subtitle\"><em>Coronella austriaca</em></p><span class=\"species-population -sm species-population--decreasing\">Decreasing</span><span class=\"species-assessment u--capitalize\">Global</span><a class=\"species-category -sm -icon species-category--lc\" href=\"/species/157284/748852\" title=\"Least Concern\">lc</a><a aria-hidden=\"true\" class=\"link--faux\" href=\"/species/157284/748852\" tabindex=\"-1\">View</a></li>,\n",
       " <li class=\"list-results__item\"><span class=\"list-results__classification\">animalia — gastropoda</span><h2 class=\"list-results__title\"></h2><p class=\"list-results__subtitle\"><em>Bythinella austriaca</em></p><span class=\"species-population -sm species-population--unknown\">Unknown</span><span class=\"species-assessment u--capitalize\">Global, Europe</span><a class=\"species-category -sm -icon species-category--lc\" href=\"/species/155335/4778074\" title=\"Least Concern\">lc</a><a aria-hidden=\"true\" class=\"link--faux\" href=\"/species/155335/4778074\" tabindex=\"-1\">View</a></li>,\n",
       " <li class=\"list-results__item\"><span class=\"list-results__classification\">animalia — actinopterygii</span><h2 class=\"list-results__title\"></h2><p class=\"list-results__subtitle\"><em>Chaetodon austriacus</em></p><span class=\"species-population -sm species-population--stable\">Stable</span><span class=\"species-assessment u--capitalize\">Global</span><a class=\"species-category -sm -icon species-category--lc\" href=\"/species/165634/6074982\" title=\"Least Concern\">lc</a><a aria-hidden=\"true\" class=\"link--faux\" href=\"/species/165634/6074982\" tabindex=\"-1\">View</a></li>,\n",
       " <li class=\"list-results__item\"><span class=\"list-results__classification\">animalia — gastropoda</span><h2 class=\"list-results__title\">Ursprungs-Zwergquellschnecke</h2><p class=\"list-results__subtitle\"><em>Belgrandiella austriana</em></p><span class=\"species-population -sm species-population--decreasing\">Decreasing</span><span class=\"species-assessment u--capitalize\">Global, Europe</span><a class=\"species-category -sm -icon species-category--cr\" href=\"/species/2725/9472146\" title=\"Critically Endangered\">cr</a><a aria-hidden=\"true\" class=\"link--faux\" href=\"/species/2725/9472146\" tabindex=\"-1\">View</a></li>,\n",
       " <li class=\"list-results__item\"><span class=\"list-results__classification\">animalia — mammalia</span><h2 class=\"list-results__title\">Gray Big-eared Bat</h2><p class=\"list-results__subtitle\"><em>Plecotus austriacus</em></p><span class=\"species-population -sm species-population--decreasing\">Decreasing</span><span class=\"species-assessment u--capitalize\">Global, Europe</span><a class=\"species-category -sm -icon species-category--nt\" href=\"/species/85533333/85533603\" title=\"Near Threatened\">nt</a><a aria-hidden=\"true\" class=\"link--faux\" href=\"/species/85533333/85533603\" tabindex=\"-1\">View</a></li>,\n",
       " <li class=\"list-results__item\"><span class=\"list-results__classification\">plantae — bryopsida</span><h2 class=\"list-results__title\"></h2><p class=\"list-results__subtitle\"><em>Bryum austriacum</em></p><span class=\"species-population -sm species-population--stable\">Stable</span><span class=\"species-assessment u--capitalize\">Global, Europe</span><a class=\"species-category -sm -icon species-category--vu\" href=\"/species/83662182/87733667\" title=\"Vulnerable\">vu</a><a aria-hidden=\"true\" class=\"link--faux\" href=\"/species/83662182/87733667\" tabindex=\"-1\">View</a></li>,\n",
       " <li class=\"list-results__item\"><span class=\"list-results__classification\">animalia — gastropoda</span><h2 class=\"list-results__title\">Österreichische Heideschnecke</h2><p class=\"list-results__subtitle\"><em>Helicopsis austriaca</em></p><span class=\"species-population -sm species-population--decreasing\">Decreasing</span><span class=\"species-assessment u--capitalize\">Global, Europe</span><a class=\"species-category -sm -icon species-category--nt\" href=\"/species/142185429/142185508\" title=\"Near Threatened\">nt</a><a aria-hidden=\"true\" class=\"link--faux\" href=\"/species/142185429/142185508\" tabindex=\"-1\">View</a></li>,\n",
       " <li class=\"list-results__item\"><span class=\"list-results__classification\">animalia — gastropoda</span><h2 class=\"list-results__title\"></h2><p class=\"list-results__subtitle\"><em>Orcula austriaca</em></p><span class=\"species-population -sm species-population--unknown\">Unknown</span><span class=\"species-assessment u--capitalize\">Global, Europe</span><a class=\"species-category -sm -icon species-category--lc\" href=\"/species/15446/4586321\" title=\"Least Concern\">lc</a><a aria-hidden=\"true\" class=\"link--faux\" href=\"/species/15446/4586321\" tabindex=\"-1\">View</a></li>,\n",
       " <li class=\"list-results__item\"><span class=\"list-results__classification\">plantae — magnoliopsida</span><h2 class=\"list-results__title\">Caley Pea</h2><p class=\"list-results__subtitle\"><em>Lathyrus hirsutus</em></p><span class=\"species-population -sm species-population--stable\">Stable</span><span class=\"species-assessment u--capitalize\">Global</span><a class=\"species-category -sm -icon species-category--lc\" href=\"/species/176501/120108293\" title=\"Least Concern\">lc</a><a aria-hidden=\"true\" class=\"link--faux\" href=\"/species/176501/120108293\" tabindex=\"-1\">View</a></li>,\n",
       " <li class=\"list-results__item\"><span class=\"list-results__classification\">plantae — magnoliopsida</span><h2 class=\"list-results__title\"></h2><p class=\"list-results__subtitle\"><em>Sorbus hazslinszkyana</em></p><span class=\"species-population -sm species-population--unknown\">Unknown</span><span class=\"species-assessment u--capitalize\">Global, Europe</span><a class=\"species-category -sm -icon species-category--vu\" href=\"/species/95414943/95415001\" title=\"Vulnerable\">vu</a><a aria-hidden=\"true\" class=\"link--faux\" href=\"/species/95414943/95415001\" tabindex=\"-1\">View</a></li>,\n",
       " <li class=\"list-results__item\"><span class=\"list-results__classification\">plantae — magnoliopsida</span><h2 class=\"list-results__title\"></h2><p class=\"list-results__subtitle\"><em>Cytisus tommasinii</em></p><span class=\"species-population -sm species-population--unknown\">Unknown</span><span class=\"species-assessment u--capitalize\">Global, Europe</span><a class=\"species-category -sm -icon species-category--lc\" href=\"/species/83751828/86135996\" title=\"Least Concern\">lc</a><a aria-hidden=\"true\" class=\"link--faux\" href=\"/species/83751828/86135996\" tabindex=\"-1\">View</a></li>,\n",
       " <li class=\"list-results__item\"><span class=\"list-results__classification\">plantae — liliopsida</span><h2 class=\"list-results__title\">Sard</h2><p class=\"list-results__subtitle\"><em>Carex divisa</em></p><span class=\"species-population -sm species-population--stable\">Stable</span><span class=\"species-assessment u--capitalize\">Global</span><a class=\"species-category -sm -icon species-category--lc\" href=\"/species/164014/42312376\" title=\"Least Concern\">lc</a><a aria-hidden=\"true\" class=\"link--faux\" href=\"/species/164014/42312376\" tabindex=\"-1\">View</a></li>]"
      ]
     },
     "execution_count": 4,
     "metadata": {},
     "output_type": "execute_result"
    }
   ],
   "source": [
    "# get html with beautifulsoup\n",
    "soup = BeautifulSoup(main_html, 'html.parser')\n",
    "species = soup.find_all('li', class_='list-results__item')\n",
    "species"
   ]
  },
  {
   "cell_type": "code",
   "execution_count": 5,
   "metadata": {},
   "outputs": [
    {
     "data": {
      "text/plain": [
       "18"
      ]
     },
     "execution_count": 5,
     "metadata": {},
     "output_type": "execute_result"
    }
   ],
   "source": [
    "len(species)\n",
    "# expected 18 results"
   ]
  },
  {
   "cell_type": "code",
   "execution_count": 6,
   "metadata": {},
   "outputs": [],
   "source": [
    "# next task extrakt the information by species"
   ]
  }
 ],
 "metadata": {
  "kernelspec": {
   "display_name": "Python 3",
   "language": "python",
   "name": "python3"
  },
  "language_info": {
   "codemirror_mode": {
    "name": "ipython",
    "version": 3
   },
   "file_extension": ".py",
   "mimetype": "text/x-python",
   "name": "python",
   "nbconvert_exporter": "python",
   "pygments_lexer": "ipython3",
   "version": "3.7.3"
  }
 },
 "nbformat": 4,
 "nbformat_minor": 4
}
