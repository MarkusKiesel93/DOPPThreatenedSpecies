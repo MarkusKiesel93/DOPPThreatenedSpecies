{
 "cells": [
  {
   "cell_type": "code",
   "execution_count": 1,
   "metadata": {},
   "outputs": [],
   "source": [
    "from selenium import webdriver\n",
    "from selenium.webdriver.common.keys import Keys\n",
    "from bs4 import BeautifulSoup\n",
    "from pathlib import Path\n",
    "from time import sleep\n",
    "\n",
    "DRIVER = Path('./geckodriver').absolute()"
   ]
  },
  {
   "cell_type": "code",
   "execution_count": 2,
   "metadata": {},
   "outputs": [],
   "source": [
    "URL = 'https://www.iucnredlist.org/search/list'"
   ]
  },
  {
   "cell_type": "code",
   "execution_count": 3,
   "metadata": {},
   "outputs": [],
   "source": [
    "# search the \"search box\" by country and extract return html of main content\n",
    "def search_country(country):\n",
    "    search_box.clear()\n",
    "    search_box.send_keys(country)\n",
    "    search_button.click()\n",
    "    # wait for search\n",
    "    sleep(10)\n",
    "    main_content = driver.find_element_by_class_name('layout-page__major')\n",
    "    main_html = main_content.get_attribute('innerHTML')\n",
    "    return main_html"
   ]
  },
  {
   "cell_type": "code",
   "execution_count": 4,
   "metadata": {},
   "outputs": [],
   "source": [
    "# extract species info from html li items\n",
    "def extract_content(html):\n",
    "    results = []\n",
    "    # get html with beautifulsoup\n",
    "    soup = BeautifulSoup(html, 'html.parser')\n",
    "    species = soup.find_all('li', class_='list-results__item')\n",
    "    for s in species:\n",
    "        result = {}\n",
    "        result['classification'] = s.contents[0].string\n",
    "        result['name'] = s.contents[2].string\n",
    "        result['status'] = s.contents[3].string\n",
    "        result['region'] = s.contents[4].string\n",
    "        result['level'] = s.contents[5].get('title')\n",
    "        results.append(result)\n",
    "    return results"
   ]
  },
  {
   "cell_type": "code",
   "execution_count": 5,
   "metadata": {},
   "outputs": [],
   "source": [
    "# main access to webpage\n",
    "driver = webdriver.Firefox(executable_path=DRIVER)\n",
    "driver.get(URL)\n",
    "search_box = driver.find_element_by_class_name('search--site')\n",
    "search_button = driver.find_element_by_class_name('search--site__button__key')\n",
    "\n",
    "# test for some countrys\n",
    "OECD_COUNTRYS = ['Austria', 'Germany', 'Italy']\n",
    "country_results = {}\n",
    "for country in OECD_COUNTRYS:\n",
    "    html = search_country(country)\n",
    "    country_results[country] = extract_content(html)"
   ]
  },
  {
   "cell_type": "code",
   "execution_count": 6,
   "metadata": {},
   "outputs": [
    {
     "output_type": "stream",
     "name": "stdout",
     "text": [
      "{'Austria': [{'classification': 'plantae — magnoliopsida', 'name': 'Rorippa austriaca', 'status': 'Unknown', 'region': 'Global', 'level': 'Least Concern'}, {'classification': 'plantae — liliopsida', 'name': 'Gymnadenia archiducis-joannis', 'status': 'Decreasing', 'region': 'Global, Europe', 'level': 'Endangered'}, {'classification': 'plantae — liliopsida', 'name': 'Gymnadenia stiriaca', 'status': 'Decreasing', 'region': 'Global, Europe', 'level': 'Endangered'}, {'classification': 'plantae — liliopsida', 'name': 'Gymnadenia lithopolitanica', 'status': 'Decreasing', 'region': 'Global, Europe', 'level': 'Endangered'}, {'classification': 'plantae — pinopsida', 'name': 'Pinus nigra', 'status': 'Stable', 'region': 'Global', 'level': 'Least Concern'}, {'classification': 'plantae — magnoliopsida', 'name': 'Sorbus austriaca', 'status': 'Stable', 'region': 'Global, Europe', 'level': 'Least Concern'}, {'classification': 'animalia — reptilia', 'name': 'Coronella austriaca', 'status': 'Decreasing', 'region': 'Global', 'level': 'Least Concern'}, {'classification': 'animalia — gastropoda', 'name': 'Bythinella austriaca', 'status': 'Unknown', 'region': 'Global, Europe', 'level': 'Least Concern'}, {'classification': 'animalia — actinopterygii', 'name': 'Chaetodon austriacus', 'status': 'Stable', 'region': 'Global', 'level': 'Least Concern'}, {'classification': 'animalia — gastropoda', 'name': 'Belgrandiella austriana', 'status': 'Decreasing', 'region': 'Global, Europe', 'level': 'Critically Endangered'}, {'classification': 'animalia — mammalia', 'name': 'Plecotus austriacus', 'status': 'Decreasing', 'region': 'Global, Europe', 'level': 'Near Threatened'}, {'classification': 'plantae — bryopsida', 'name': 'Bryum austriacum', 'status': 'Stable', 'region': 'Global, Europe', 'level': 'Vulnerable'}, {'classification': 'animalia — gastropoda', 'name': 'Helicopsis austriaca', 'status': 'Decreasing', 'region': 'Global, Europe', 'level': 'Near Threatened'}, {'classification': 'animalia — gastropoda', 'name': 'Orcula austriaca', 'status': 'Unknown', 'region': 'Global, Europe', 'level': 'Least Concern'}, {'classification': 'plantae — magnoliopsida', 'name': 'Lathyrus hirsutus', 'status': 'Stable', 'region': 'Global', 'level': 'Least Concern'}, {'classification': 'plantae — magnoliopsida', 'name': 'Sorbus hazslinszkyana', 'status': 'Unknown', 'region': 'Global, Europe', 'level': 'Vulnerable'}, {'classification': 'plantae — magnoliopsida', 'name': 'Cytisus tommasinii', 'status': 'Unknown', 'region': 'Global, Europe', 'level': 'Least Concern'}, {'classification': 'plantae — liliopsida', 'name': 'Carex divisa', 'status': 'Stable', 'region': 'Global', 'level': 'Least Concern'}], 'Germany': [{'classification': 'animalia — aves', 'name': 'Paradisaea guilielmi', 'status': 'Decreasing', 'region': 'Global', 'level': 'Near Threatened'}], 'Italy': [{'classification': 'plantae — magnoliopsida', 'name': 'Pyrostria italyensis', 'status': 'Decreasing', 'region': 'Global', 'level': 'Endangered'}]}\n"
     ]
    }
   ],
   "source": [
    "print(country_results)"
   ]
  },
  {
   "cell_type": "code",
   "execution_count": null,
   "metadata": {},
   "outputs": [],
   "source": []
  }
 ],
 "metadata": {
  "kernelspec": {
   "name": "python3",
   "display_name": "Python 3.7.3 64-bit ('DOPPThreatenedSpecies': pipenv)",
   "metadata": {
    "interpreter": {
     "hash": "939f7cbd5cdad98e2a0ab65422aa27ed4ff004ee452b800bc1c9bfe29c5408a5"
    }
   }
  },
  "language_info": {
   "codemirror_mode": {
    "name": "ipython",
    "version": 3
   },
   "file_extension": ".py",
   "mimetype": "text/x-python",
   "name": "python",
   "nbconvert_exporter": "python",
   "pygments_lexer": "ipython3",
   "version": "3.7.3-final"
  }
 },
 "nbformat": 4,
 "nbformat_minor": 4
}