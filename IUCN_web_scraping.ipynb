{
 "cells": [
  {
   "cell_type": "code",
   "execution_count": 1,
   "metadata": {},
   "outputs": [],
   "source": [
    "from selenium import webdriver\n",
    "from selenium.webdriver.common.keys import Keys\n",
    "from selenium.webdriver.common.action_chains import ActionChains\n",
    "from bs4 import BeautifulSoup\n",
    "from pathlib import Path\n",
    "from time import sleep\n",
    "import pandas as pd"
   ]
  },
  {
   "cell_type": "code",
   "execution_count": 2,
   "metadata": {},
   "outputs": [],
   "source": [
    "# filter for Taxonomy group Animalia\n",
    "def filter_animals(filters):\n",
    "    filter_taxonomy = filters.find_element_by_xpath(\"//*[text()='Taxonomy']\")\n",
    "    filter_taxonomy.click() # click section\n",
    "    sleep(2)\n",
    "    filter_animals = filters.find_element_by_xpath(\"//*[text()='Animalia']\")\n",
    "    filter_animals.click()  # click animals section\n",
    "    filter_taxonomy.click() # collapse filter"
   ]
  },
  {
   "source": [
    "### Why filter country legends ?\n",
    "https://www.iucnredlist.org/resources/summary-statistics\n",
    "\n",
    "Important note: the figures presented in Tables 5 and 6 differ from the default setting for country searches on the website. The default search includes ALL occurrences within each country (i.e., including introduced species, vagrant records, etc.). To modify country searches on the website to match the tables below, use the Country Legends filters on the Advanced Search page to show species tagged as 'Extant', 'Extant & Reintroduced', 'Extinct', 'Extinct & Reintroduced', 'Possibly Extinct', and 'Possibly Extinct & Reintroduced'."
   ],
   "cell_type": "markdown",
   "metadata": {}
  },
  {
   "cell_type": "code",
   "execution_count": 3,
   "metadata": {},
   "outputs": [],
   "source": [
    "# filter country legends\n",
    "def filter_country_legends(filters, filter_items):\n",
    "    filter_country_legends = filters.find_element_by_xpath(\"//*[text()='Country Legends']\")\n",
    "    filter_country_legends.click()  # click section\n",
    "    sleep(2)\n",
    "    for item in filter_items:\n",
    "        element = filters.find_element_by_xpath(f\"//*[text()='{item}']\")\n",
    "        element.click()   # click items in list\n",
    "    filter_country_legends.click()  # collapse filter"
   ]
  },
  {
   "cell_type": "code",
   "execution_count": 4,
   "metadata": {},
   "outputs": [],
   "source": [
    "# get all regions from section \"land Regions\"\n",
    "# click is needed for first call\n",
    "def get_regions(filters, click=False):\n",
    "    land_region = filters.find_element_by_xpath(\"//*[text()='Land Regions']\")\n",
    "    if click:\n",
    "        land_region.click()\n",
    "    # get section (parent element)\n",
    "    filter_section = land_region.find_element_by_xpath(\"..\")\n",
    "    # get all regions\n",
    "    regions = filter_section.find_elements_by_class_name('filter__list__item')\n",
    "    return regions"
   ]
  },
  {
   "cell_type": "code",
   "execution_count": 5,
   "metadata": {},
   "outputs": [],
   "source": [
    "# get all countrys from a region\n",
    "def get_countries(filters):\n",
    "    filter_region = filters.find_element_by_xpath(\"//*[text()='Land Regions']\")\n",
    "    # get section (parent element)\n",
    "    filter_section = filter_region.find_element_by_xpath(\"..\")\n",
    "    # get all list items\n",
    "    country_items = filter_section.find_element_by_class_name('filter__list__item')\n",
    "    country_items = country_items.find_elements_by_class_name('filter__list__item')\n",
    "    # extract label\n",
    "    countries = []\n",
    "    for element in country_items[1:]:\n",
    "        countries.append(element.find_element_by_tag_name('label'))\n",
    "    return countries"
   ]
  },
  {
   "cell_type": "code",
   "execution_count": 6,
   "metadata": {},
   "outputs": [],
   "source": [
    "# click the \"Land Regions\" button to return to all filters\n",
    "def click_return_regions(filters):\n",
    "    # select second element with name \"Land Regions\"\n",
    "    filter_region = filters.find_elements_by_xpath(\"//*[text()='Land Regions']\")[1]\n",
    "    filter_region.click()"
   ]
  },
  {
   "cell_type": "code",
   "execution_count": 7,
   "metadata": {},
   "outputs": [],
   "source": [
    "# click a filter for \"Land Regions\"\n",
    "# offset is needed to click the arrow on the right instead of the checkbox\n",
    "def click_filter(driver, element, offset=False):\n",
    "    x_offset = 0\n",
    "    if offset:\n",
    "        x_offset = 115\n",
    "    ac = ActionChains(driver)\n",
    "    ac.move_to_element(element).move_by_offset(x_offset, 0).click().perform()"
   ]
  },
  {
   "cell_type": "code",
   "execution_count": 8,
   "metadata": {},
   "outputs": [],
   "source": [
    "# extract species info from html li items\n",
    "def extract_content(driver):\n",
    "    results = []\n",
    "    \n",
    "    # get main html content\n",
    "    main_content = driver.find_element_by_class_name('layout-page__major')\n",
    "    main_html = main_content.get_attribute('innerHTML')\n",
    "    \n",
    "    # get html with beautifulsoup\n",
    "    soup = BeautifulSoup(main_html, 'html.parser')\n",
    "    species = soup.find_all('li', class_='list-results__item')\n",
    "    for s in species:\n",
    "        result = {}\n",
    "        result['classification'] = s.contents[0].string\n",
    "        result['name'] = s.contents[2].string\n",
    "        result['status'] = s.contents[3].string\n",
    "        result['region'] = s.contents[4].string\n",
    "        result['level'] = s.contents[5].get('title')\n",
    "        results.append(result)\n",
    "    return pd.DataFrame(results)"
   ]
  },
  {
   "cell_type": "code",
   "execution_count": 9,
   "metadata": {},
   "outputs": [],
   "source": [
    "# access IUCN webpage with selenium\n",
    "DRIVER = Path('./geckodriver').absolute()\n",
    "URL = 'https://www.iucnredlist.org/search/list'\n",
    "driver = webdriver.Firefox(executable_path=DRIVER)\n",
    "driver.get(URL)\n",
    "# get filters\n",
    "filters = driver.find_element_by_class_name('filter')\n",
    "# filter only animals\n",
    "filter_animals(filters)\n",
    "# filter for country legends\n",
    "country_legends_items = ['Extant & Reintroduced', 'Extinct', 'Extinct & Reintroduced', 'Possibly Extinct', 'Possibly Extinct & Reintroduced']\n",
    "filter_country_legends(filters, country_legends_items)"
   ]
  },
  {
   "cell_type": "code",
   "execution_count": 10,
   "metadata": {},
   "outputs": [],
   "source": [
    "results = {}\n",
    "# first time with click\n",
    "regions = get_regions(filters, click=True)\n",
    "num_regions = len(regions)\n",
    "# iterate all regions\n",
    "#for i in range(num_regions):\n",
    "for i in range(2): # only first to for testing\n",
    "    regions = get_regions(filters)\n",
    "    click_filter(driver, regions[i], offset=True)\n",
    "    sleep(2)\n",
    "\n",
    "    # iterate over all countries per region\n",
    "    countries = get_countries(filters)\n",
    "    num_countries = len(countries)\n",
    "    #for j in range(num_countries):\n",
    "    for j in range(2): # only first to for testing\n",
    "        countries = get_countries(filters)\n",
    "        click_filter(driver, countries[j])\n",
    "        # todo: fix country name\n",
    "        country_name = countries[j].text\n",
    "        # extract content\n",
    "        # todo: find better method to wait for results to be loaded\n",
    "        sleep(10)\n",
    "        # todo: there could be more results than shown on the initial page\n",
    "        #       click \"show more\" until all is loaded or maby some other settings\n",
    "        content = extract_content(driver)\n",
    "        results[country_name] = content\n",
    "        # uncheck country\n",
    "        click_filter(driver, countries[j])\n",
    "        sleep(2)\n",
    "\n",
    "    # get back to all regions\n",
    "    click_return_regions(filters)\n",
    "    sleep(2)"
   ]
  },
  {
   "cell_type": "code",
   "execution_count": 11,
   "metadata": {},
   "outputs": [
    {
     "output_type": "execute_result",
     "data": {
      "text/plain": [
       "{'Antarctica (2)': Empty DataFrame\n",
       " Columns: []\n",
       " Index: [],\n",
       " 'Bouvet Island (2)':     classification                   name      status  region          level\n",
       " 0  animalia — aves  Macronectes giganteus  Increasing  Global  Least Concern,\n",
       " 'Anguilla (19)':               classification                  name      status  region  \\\n",
       " 0        animalia — mammalia    Trichechus manatus  Decreasing  Global   \n",
       " 1  animalia — chondrichthyes     Pristis pectinata  Decreasing  Global   \n",
       " 2        animalia — reptilia          Anolis pogus  Increasing  Global   \n",
       " 3            animalia — aves       Sicalis luteola  Increasing  Global   \n",
       " 4        animalia — mammalia  Mormoops blainvillei     Unknown  Global   \n",
       " 5        animalia — reptilia   Leiocephalus cuneus        None  Global   \n",
       " \n",
       "                    level  \n",
       " 0             Vulnerable  \n",
       " 1  Critically Endangered  \n",
       " 2        Near Threatened  \n",
       " 3          Least Concern  \n",
       " 4          Least Concern  \n",
       " 5                Extinct  ,\n",
       " 'Antigua and Barbuda (28)':               classification                    name      status  region  \\\n",
       " 0        animalia — mammalia      Trichechus manatus  Decreasing  Global   \n",
       " 1        animalia — reptilia    Iguana delicatissima  Decreasing  Global   \n",
       " 2  animalia — chondrichthyes       Pristis pectinata  Decreasing  Global   \n",
       " 3        animalia — mammalia  Neomonachus tropicalis        None  Global   \n",
       " 4        animalia — mammalia    Mormoops blainvillei     Unknown  Global   \n",
       " 5            animalia — aves      Athene cunicularia  Decreasing  Global   \n",
       " 6            animalia — aves       Egretta rufescens  Decreasing  Global   \n",
       " 7        animalia — reptilia   Copeoglossum redondae        None  Global   \n",
       " 8        animalia — reptilia     Leiocephalus cuneus        None  Global   \n",
       " \n",
       "                    level  \n",
       " 0             Vulnerable  \n",
       " 1  Critically Endangered  \n",
       " 2  Critically Endangered  \n",
       " 3                Extinct  \n",
       " 4          Least Concern  \n",
       " 5          Least Concern  \n",
       " 6        Near Threatened  \n",
       " 7                Extinct  \n",
       " 8                Extinct  }"
      ]
     },
     "metadata": {},
     "execution_count": 11
    }
   ],
   "source": [
    "results"
   ]
  },
  {
   "cell_type": "code",
   "execution_count": 12,
   "metadata": {},
   "outputs": [
    {
     "output_type": "execute_result",
     "data": {
      "text/plain": [
       "              classification                    name      status  region  \\\n",
       "0        animalia — mammalia      Trichechus manatus  Decreasing  Global   \n",
       "1        animalia — reptilia    Iguana delicatissima  Decreasing  Global   \n",
       "2  animalia — chondrichthyes       Pristis pectinata  Decreasing  Global   \n",
       "3        animalia — mammalia  Neomonachus tropicalis        None  Global   \n",
       "4        animalia — mammalia    Mormoops blainvillei     Unknown  Global   \n",
       "5            animalia — aves      Athene cunicularia  Decreasing  Global   \n",
       "6            animalia — aves       Egretta rufescens  Decreasing  Global   \n",
       "7        animalia — reptilia   Copeoglossum redondae        None  Global   \n",
       "8        animalia — reptilia     Leiocephalus cuneus        None  Global   \n",
       "\n",
       "                   level  \n",
       "0             Vulnerable  \n",
       "1  Critically Endangered  \n",
       "2  Critically Endangered  \n",
       "3                Extinct  \n",
       "4          Least Concern  \n",
       "5          Least Concern  \n",
       "6        Near Threatened  \n",
       "7                Extinct  \n",
       "8                Extinct  "
      ],
      "text/html": "<div>\n<style scoped>\n    .dataframe tbody tr th:only-of-type {\n        vertical-align: middle;\n    }\n\n    .dataframe tbody tr th {\n        vertical-align: top;\n    }\n\n    .dataframe thead th {\n        text-align: right;\n    }\n</style>\n<table border=\"1\" class=\"dataframe\">\n  <thead>\n    <tr style=\"text-align: right;\">\n      <th></th>\n      <th>classification</th>\n      <th>name</th>\n      <th>status</th>\n      <th>region</th>\n      <th>level</th>\n    </tr>\n  </thead>\n  <tbody>\n    <tr>\n      <th>0</th>\n      <td>animalia — mammalia</td>\n      <td>Trichechus manatus</td>\n      <td>Decreasing</td>\n      <td>Global</td>\n      <td>Vulnerable</td>\n    </tr>\n    <tr>\n      <th>1</th>\n      <td>animalia — reptilia</td>\n      <td>Iguana delicatissima</td>\n      <td>Decreasing</td>\n      <td>Global</td>\n      <td>Critically Endangered</td>\n    </tr>\n    <tr>\n      <th>2</th>\n      <td>animalia — chondrichthyes</td>\n      <td>Pristis pectinata</td>\n      <td>Decreasing</td>\n      <td>Global</td>\n      <td>Critically Endangered</td>\n    </tr>\n    <tr>\n      <th>3</th>\n      <td>animalia — mammalia</td>\n      <td>Neomonachus tropicalis</td>\n      <td>None</td>\n      <td>Global</td>\n      <td>Extinct</td>\n    </tr>\n    <tr>\n      <th>4</th>\n      <td>animalia — mammalia</td>\n      <td>Mormoops blainvillei</td>\n      <td>Unknown</td>\n      <td>Global</td>\n      <td>Least Concern</td>\n    </tr>\n    <tr>\n      <th>5</th>\n      <td>animalia — aves</td>\n      <td>Athene cunicularia</td>\n      <td>Decreasing</td>\n      <td>Global</td>\n      <td>Least Concern</td>\n    </tr>\n    <tr>\n      <th>6</th>\n      <td>animalia — aves</td>\n      <td>Egretta rufescens</td>\n      <td>Decreasing</td>\n      <td>Global</td>\n      <td>Near Threatened</td>\n    </tr>\n    <tr>\n      <th>7</th>\n      <td>animalia — reptilia</td>\n      <td>Copeoglossum redondae</td>\n      <td>None</td>\n      <td>Global</td>\n      <td>Extinct</td>\n    </tr>\n    <tr>\n      <th>8</th>\n      <td>animalia — reptilia</td>\n      <td>Leiocephalus cuneus</td>\n      <td>None</td>\n      <td>Global</td>\n      <td>Extinct</td>\n    </tr>\n  </tbody>\n</table>\n</div>"
     },
     "metadata": {},
     "execution_count": 12
    }
   ],
   "source": [
    "results['Antigua and Barbuda (28)']"
   ]
  },
  {
   "source": [],
   "cell_type": "markdown",
   "metadata": {}
  }
 ],
 "metadata": {
  "kernelspec": {
   "name": "python3",
   "display_name": "Python 3.7.3 64-bit ('DOPPThreatenedSpecies': pipenv)",
   "metadata": {
    "interpreter": {
     "hash": "1d1d6bb1def10cf8867d2cae1d892fdca23ec61e4937a1f80a9877e8fff6e6b9"
    }
   }
  },
  "language_info": {
   "codemirror_mode": {
    "name": "ipython",
    "version": 3
   },
   "file_extension": ".py",
   "mimetype": "text/x-python",
   "name": "python",
   "nbconvert_exporter": "python",
   "pygments_lexer": "ipython3",
   "version": "3.7.3-final"
  }
 },
 "nbformat": 4,
 "nbformat_minor": 4
}