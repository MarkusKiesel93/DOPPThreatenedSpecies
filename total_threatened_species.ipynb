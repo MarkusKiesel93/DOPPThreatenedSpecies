{
 "cells": [
  {
   "cell_type": "code",
   "execution_count": 1,
   "metadata": {},
   "outputs": [],
   "source": [
    "import numpy as np \n",
    "import pandas as pd \n",
    "import matplotlib.pyplot as plt\n",
    "from pathlib import Path"
   ]
  },
  {
   "cell_type": "markdown",
   "metadata": {},
   "source": [
    "# Total number of threatened species by country\n",
    "\n",
    "The IUCN Red List provides a dataset, that contains the total number of threatened species for each country that is listed. Threatened species means that the status is either critically endangered, endangered or vulnerable. The species are summed up by their major taxonomic group. For our analysis we just keep the groups that are animals and do not only live in the water (meaning mammals, birds, reptiles, amphibians). Molluscs and other invertebrates are also exclude, because they contain various animals that live in water."
   ]
  },
  {
   "cell_type": "code",
   "execution_count": 2,
   "metadata": {},
   "outputs": [],
   "source": [
    "#load IUCN data\n",
    "DATA_PATH = Path('./data/IUCN')\n",
    "table_5 = pd.read_csv(DATA_PATH / 'Table 5  Threatened species in each major group by country - show all.csv')"
   ]
  },
  {
   "cell_type": "code",
   "execution_count": 3,
   "metadata": {},
   "outputs": [],
   "source": [
    "#only keep relevant groups\n",
    "threatened_total_groups = table_5[['Name','Mammals','Birds','Reptiles*','Amphibians','Total']]"
   ]
  },
  {
   "cell_type": "code",
   "execution_count": 4,
   "metadata": {},
   "outputs": [],
   "source": [
    "#rename columns and set country as index\n",
    "threatened_total_groups = threatened_total_groups.rename(columns={'Name': 'Country', 'Reptiles*': 'Reptiles', 'Total': 'Threatened_Total'})\n",
    "threatened_total_groups = threatened_total_groups.set_index('Country')"
   ]
  },
  {
   "cell_type": "code",
   "execution_count": 5,
   "metadata": {},
   "outputs": [
    {
     "data": {
      "text/plain": [
       "(250, 1)"
      ]
     },
     "execution_count": 5,
     "metadata": {},
     "output_type": "execute_result"
    }
   ],
   "source": [
    "#calculate new total and create new data frame without group specifications\n",
    "threatened_total_groups['Total'] = threatened_total_groups['Mammals']+threatened_total_groups['Birds']+threatened_total_groups['Reptiles']+threatened_total_groups['Amphibians']\n",
    "threatened_total = threatened_total_groups[['Total']]\n",
    "threatened_total.shape"
   ]
  },
  {
   "cell_type": "code",
   "execution_count": 6,
   "metadata": {},
   "outputs": [
    {
     "data": {
      "text/plain": [
       "Mammals             0\n",
       "Birds               0\n",
       "Reptiles            0\n",
       "Amphibians          0\n",
       "Threatened_Total    0\n",
       "Total               0\n",
       "dtype: int64"
      ]
     },
     "execution_count": 6,
     "metadata": {},
     "output_type": "execute_result"
    }
   ],
   "source": [
    "#check for NAs\n",
    "threatened_total_groups.isna().sum()"
   ]
  },
  {
   "cell_type": "code",
   "execution_count": 7,
   "metadata": {},
   "outputs": [
    {
     "data": {
      "text/html": [
       "<div>\n",
       "<style scoped>\n",
       "    .dataframe tbody tr th:only-of-type {\n",
       "        vertical-align: middle;\n",
       "    }\n",
       "\n",
       "    .dataframe tbody tr th {\n",
       "        vertical-align: top;\n",
       "    }\n",
       "\n",
       "    .dataframe thead th {\n",
       "        text-align: right;\n",
       "    }\n",
       "</style>\n",
       "<table border=\"1\" class=\"dataframe\">\n",
       "  <thead>\n",
       "    <tr style=\"text-align: right;\">\n",
       "      <th></th>\n",
       "      <th>Mammals</th>\n",
       "      <th>Birds</th>\n",
       "      <th>Reptiles</th>\n",
       "      <th>Amphibians</th>\n",
       "      <th>Total</th>\n",
       "    </tr>\n",
       "  </thead>\n",
       "  <tbody>\n",
       "    <tr>\n",
       "      <th>count</th>\n",
       "      <td>250.000000</td>\n",
       "      <td>250.000000</td>\n",
       "      <td>250.00000</td>\n",
       "      <td>250.000000</td>\n",
       "      <td>250.000000</td>\n",
       "    </tr>\n",
       "    <tr>\n",
       "      <th>mean</th>\n",
       "      <td>15.032000</td>\n",
       "      <td>19.760000</td>\n",
       "      <td>10.39600</td>\n",
       "      <td>10.792000</td>\n",
       "      <td>55.980000</td>\n",
       "    </tr>\n",
       "    <tr>\n",
       "      <th>std</th>\n",
       "      <td>22.609106</td>\n",
       "      <td>24.201928</td>\n",
       "      <td>17.10114</td>\n",
       "      <td>32.858782</td>\n",
       "      <td>83.424181</td>\n",
       "    </tr>\n",
       "    <tr>\n",
       "      <th>min</th>\n",
       "      <td>0.000000</td>\n",
       "      <td>0.000000</td>\n",
       "      <td>0.00000</td>\n",
       "      <td>0.000000</td>\n",
       "      <td>0.000000</td>\n",
       "    </tr>\n",
       "    <tr>\n",
       "      <th>25%</th>\n",
       "      <td>3.000000</td>\n",
       "      <td>7.000000</td>\n",
       "      <td>2.00000</td>\n",
       "      <td>0.000000</td>\n",
       "      <td>13.000000</td>\n",
       "    </tr>\n",
       "    <tr>\n",
       "      <th>50%</th>\n",
       "      <td>8.000000</td>\n",
       "      <td>13.000000</td>\n",
       "      <td>5.00000</td>\n",
       "      <td>0.000000</td>\n",
       "      <td>29.500000</td>\n",
       "    </tr>\n",
       "    <tr>\n",
       "      <th>75%</th>\n",
       "      <td>17.000000</td>\n",
       "      <td>21.000000</td>\n",
       "      <td>9.00000</td>\n",
       "      <td>3.750000</td>\n",
       "      <td>53.000000</td>\n",
       "    </tr>\n",
       "    <tr>\n",
       "      <th>max</th>\n",
       "      <td>212.000000</td>\n",
       "      <td>175.000000</td>\n",
       "      <td>139.00000</td>\n",
       "      <td>285.000000</td>\n",
       "      <td>512.000000</td>\n",
       "    </tr>\n",
       "  </tbody>\n",
       "</table>\n",
       "</div>"
      ],
      "text/plain": [
       "          Mammals       Birds   Reptiles  Amphibians       Total\n",
       "count  250.000000  250.000000  250.00000  250.000000  250.000000\n",
       "mean    15.032000   19.760000   10.39600   10.792000   55.980000\n",
       "std     22.609106   24.201928   17.10114   32.858782   83.424181\n",
       "min      0.000000    0.000000    0.00000    0.000000    0.000000\n",
       "25%      3.000000    7.000000    2.00000    0.000000   13.000000\n",
       "50%      8.000000   13.000000    5.00000    0.000000   29.500000\n",
       "75%     17.000000   21.000000    9.00000    3.750000   53.000000\n",
       "max    212.000000  175.000000  139.00000  285.000000  512.000000"
      ]
     },
     "execution_count": 7,
     "metadata": {},
     "output_type": "execute_result"
    }
   ],
   "source": [
    "#descriptive statistics\n",
    "threatened_total_groups.describe()"
   ]
  },
  {
   "cell_type": "code",
   "execution_count": 8,
   "metadata": {},
   "outputs": [
    {
     "data": {
      "image/png": "[encoded data removed]",
      "text/plain": [
       "<Figure size 432x288 with 1 Axes>"
      ]
     },
     "metadata": {
      "needs_background": "light"
     },
     "output_type": "display_data"
    }
   ],
   "source": [
    "plt.hist(threatened_total_groups['Total'], bins = 20)\n",
    "plt.title('Threatened Species Histogram')\n",
    "plt.xlabel('Total')\n",
    "plt.ylabel('frequency')\n",
    "plt.show()"
   ]
  },
  {
   "cell_type": "code",
   "execution_count": 9,
   "metadata": {},
   "outputs": [],
   "source": [
    "threatened_total_groups.to_csv(DATA_PATH / 'THREATENED_TOTAL_GROUPS.csv')\n",
    "threatened_total.to_csv(DATA_PATH / 'THREATENED_TOTAL.csv')"
   ]
  },
  {
   "cell_type": "markdown",
   "metadata": {},
   "source": [
    "## Add species per country to get relative numbers\n",
    "As the absolute number of species in a country doesn't give us any information of how big that number is compared to all described species of the given country, we add this information from the following data. This enables us to then predict the relative number of threatened species, which is more meaningful."
   ]
  },
  {
   "cell_type": "code",
   "execution_count": 10,
   "metadata": {},
   "outputs": [
    {
     "data": {
      "text/html": [
       "<div>\n",
       "<style scoped>\n",
       "    .dataframe tbody tr th:only-of-type {\n",
       "        vertical-align: middle;\n",
       "    }\n",
       "\n",
       "    .dataframe tbody tr th {\n",
       "        vertical-align: top;\n",
       "    }\n",
       "\n",
       "    .dataframe thead th {\n",
       "        text-align: right;\n",
       "    }\n",
       "</style>\n",
       "<table border=\"1\" class=\"dataframe\">\n",
       "  <thead>\n",
       "    <tr style=\"text-align: right;\">\n",
       "      <th></th>\n",
       "      <th>country</th>\n",
       "      <th>amphibians</th>\n",
       "      <th>birds</th>\n",
       "      <th>insects</th>\n",
       "      <th>mammals</th>\n",
       "      <th>reptiles</th>\n",
       "      <th>Total</th>\n",
       "    </tr>\n",
       "  </thead>\n",
       "  <tbody>\n",
       "    <tr>\n",
       "      <th>0</th>\n",
       "      <td>Argentina</td>\n",
       "      <td>165.0</td>\n",
       "      <td>1001.0</td>\n",
       "      <td>242.0</td>\n",
       "      <td>379.0</td>\n",
       "      <td>376.0</td>\n",
       "      <td>2163.0</td>\n",
       "    </tr>\n",
       "    <tr>\n",
       "      <th>1</th>\n",
       "      <td>Armenia</td>\n",
       "      <td>8.0</td>\n",
       "      <td>297.0</td>\n",
       "      <td>73.0</td>\n",
       "      <td>92.0</td>\n",
       "      <td>43.0</td>\n",
       "      <td>513.0</td>\n",
       "    </tr>\n",
       "    <tr>\n",
       "      <th>2</th>\n",
       "      <td>Australia</td>\n",
       "      <td>223.0</td>\n",
       "      <td>726.0</td>\n",
       "      <td>563.0</td>\n",
       "      <td>354.0</td>\n",
       "      <td>992.0</td>\n",
       "      <td>2858.0</td>\n",
       "    </tr>\n",
       "    <tr>\n",
       "      <th>3</th>\n",
       "      <td>Austria</td>\n",
       "      <td>19.0</td>\n",
       "      <td>305.0</td>\n",
       "      <td>323.0</td>\n",
       "      <td>88.0</td>\n",
       "      <td>13.0</td>\n",
       "      <td>748.0</td>\n",
       "    </tr>\n",
       "    <tr>\n",
       "      <th>4</th>\n",
       "      <td>Azerbaijan</td>\n",
       "      <td>11.0</td>\n",
       "      <td>348.0</td>\n",
       "      <td>73.0</td>\n",
       "      <td>104.0</td>\n",
       "      <td>50.0</td>\n",
       "      <td>586.0</td>\n",
       "    </tr>\n",
       "  </tbody>\n",
       "</table>\n",
       "</div>"
      ],
      "text/plain": [
       "      country  amphibians   birds  insects  mammals  reptiles   Total\n",
       "0   Argentina       165.0  1001.0    242.0    379.0     376.0  2163.0\n",
       "1     Armenia         8.0   297.0     73.0     92.0      43.0   513.0\n",
       "2   Australia       223.0   726.0    563.0    354.0     992.0  2858.0\n",
       "3     Austria        19.0   305.0    323.0     88.0      13.0   748.0\n",
       "4  Azerbaijan        11.0   348.0     73.0    104.0      50.0   586.0"
      ]
     },
     "execution_count": 10,
     "metadata": {},
     "output_type": "execute_result"
    }
   ],
   "source": [
    "species_per_country = pd.read_csv(DATA_PATH / 'species_per_country.csv')\n",
    "species_per_country.head()"
   ]
  },
  {
   "cell_type": "markdown",
   "metadata": {},
   "source": [
    "We only keep the information about mammals, birds, reptiles and amphibians and calculate a new total, to then create the new data frame with relative numbers"
   ]
  },
  {
   "cell_type": "code",
   "execution_count": 11,
   "metadata": {},
   "outputs": [
    {
     "data": {
      "text/plain": [
       "(65, 2)"
      ]
     },
     "execution_count": 11,
     "metadata": {},
     "output_type": "execute_result"
    }
   ],
   "source": [
    "species_reduced = species_per_country.copy()\n",
    "species_reduced = species_reduced[['country','mammals','birds','reptiles','amphibians']]\n",
    "species_reduced['Total'] = species_reduced['mammals']+species_reduced['birds']+species_reduced['reptiles']+species_reduced['amphibians']\n",
    "species_total = species_reduced.copy()\n",
    "species_total = species_total[['country','Total']]\n",
    "species_total = species_total.rename(columns={'country': 'Country'})\n",
    "species_total.shape"
   ]
  },
  {
   "cell_type": "code",
   "execution_count": 12,
   "metadata": {},
   "outputs": [
    {
     "data": {
      "text/html": [
       "<div>\n",
       "<style scoped>\n",
       "    .dataframe tbody tr th:only-of-type {\n",
       "        vertical-align: middle;\n",
       "    }\n",
       "\n",
       "    .dataframe tbody tr th {\n",
       "        vertical-align: top;\n",
       "    }\n",
       "\n",
       "    .dataframe thead th {\n",
       "        text-align: right;\n",
       "    }\n",
       "</style>\n",
       "<table border=\"1\" class=\"dataframe\">\n",
       "  <thead>\n",
       "    <tr style=\"text-align: right;\">\n",
       "      <th></th>\n",
       "      <th>Relative</th>\n",
       "    </tr>\n",
       "  </thead>\n",
       "  <tbody>\n",
       "    <tr>\n",
       "      <th>count</th>\n",
       "      <td>61.000000</td>\n",
       "    </tr>\n",
       "    <tr>\n",
       "      <th>mean</th>\n",
       "      <td>0.083078</td>\n",
       "    </tr>\n",
       "    <tr>\n",
       "      <th>std</th>\n",
       "      <td>0.061233</td>\n",
       "    </tr>\n",
       "    <tr>\n",
       "      <th>min</th>\n",
       "      <td>0.011628</td>\n",
       "    </tr>\n",
       "    <tr>\n",
       "      <th>25%</th>\n",
       "      <td>0.044818</td>\n",
       "    </tr>\n",
       "    <tr>\n",
       "      <th>50%</th>\n",
       "      <td>0.066079</td>\n",
       "    </tr>\n",
       "    <tr>\n",
       "      <th>75%</th>\n",
       "      <td>0.097015</td>\n",
       "    </tr>\n",
       "    <tr>\n",
       "      <th>max</th>\n",
       "      <td>0.367164</td>\n",
       "    </tr>\n",
       "  </tbody>\n",
       "</table>\n",
       "</div>"
      ],
      "text/plain": [
       "        Relative\n",
       "count  61.000000\n",
       "mean    0.083078\n",
       "std     0.061233\n",
       "min     0.011628\n",
       "25%     0.044818\n",
       "50%     0.066079\n",
       "75%     0.097015\n",
       "max     0.367164"
      ]
     },
     "execution_count": 12,
     "metadata": {},
     "output_type": "execute_result"
    }
   ],
   "source": [
    "#merge threatened_total and species_total by country\n",
    "threatened_tot = threatened_total.reset_index()\n",
    "species_merged = species_total.merge(threatened_total, on='Country', how='inner')\n",
    "species_merged['Relative'] = species_merged['Total_y']/species_merged['Total_x']\n",
    "species_rel= species_merged[['Country','Relative']]\n",
    "species_rel.describe()"
   ]
  },
  {
   "cell_type": "code",
   "execution_count": 13,
   "metadata": {},
   "outputs": [],
   "source": [
    "species_rel.to_csv(DATA_PATH / 'THREATENED_RELATIVE.csv')"
   ]
  }
 ],
 "metadata": {
  "kernelspec": {
   "display_name": "Python 3",
   "language": "python",
   "name": "python3"
  },
  "language_info": {
   "codemirror_mode": {
    "name": "ipython",
    "version": 3
   },
   "file_extension": ".py",
   "mimetype": "text/x-python",
   "name": "python",
   "nbconvert_exporter": "python",
   "pygments_lexer": "ipython3",
   "version": "3.8.5"
  }
 },
 "nbformat": 4,
 "nbformat_minor": 4
}
