{
 "cells": [
  {
   "cell_type": "code",
   "execution_count": 1,
   "metadata": {},
   "outputs": [],
   "source": [
    "import numpy as np \n",
    "import pandas as pd \n",
    "from pathlib import Path"
   ]
  },
  {
   "source": [
    "# Problems\n",
    "\n",
    "## Why protected areas above 100%\n",
    "\n",
    "Some countries have some protected areas recorded as points with a reported area. This point data is more uncertain than protected areas reported as polygons because overlaps cannot be identified or resolved. For this reason the total for countries is provided with and without the inclusion of the total reported area of protected areas recorded as points. The reported area of protected areas recorded as points can (individually or cumulatively) exceed the reference area used to calculate these indicators so coverages of greater than 100% can sometimes be reported.\n",
    "\n",
    "## Last update \n",
    "\n",
    "June 2020\n",
    "\n",
    "## Historical data\n",
    "\n",
    "Not all protected areas have a designation date recorded. When there is no designation date the protected area is deemed to have always existed, therefore historical data maybe be overestimated.\n"
   ],
   "cell_type": "markdown",
   "metadata": {}
  },
  {
   "source": [
    "# Load Data\n",
    "\n",
    "## Protected Areas\n",
    "\n"
   ],
   "cell_type": "markdown",
   "metadata": {}
  },
  {
   "source": [
    "## Protected Area by management objective\n",
    "\n",
    "Total for category is the total area protected under that IUCN management designation. Note that because overlaps among protected areas are relatively common, the total protected area for a country is typically less than the sum of the disaggregated areas."
   ],
   "cell_type": "markdown",
   "metadata": {}
  },
  {
   "cell_type": "code",
   "execution_count": 2,
   "metadata": {},
   "outputs": [],
   "source": [
    "DATA_PATH = Path('./data')\n",
    "PROTECTED_AREAS = DATA_PATH / 'OECD' / 'PROTECTED_AREAS_OBJECTIVE.csv'\n",
    "\n",
    "protected_area = pd.read_csv(PROTECTED_AREAS)"
   ]
  },
  {
   "cell_type": "code",
   "execution_count": 3,
   "metadata": {},
   "outputs": [
    {
     "output_type": "execute_result",
     "data": {
      "text/plain": [
       "(71910, 23)"
      ]
     },
     "metadata": {},
     "execution_count": 3
    }
   ],
   "source": [
    "protected_area.shape"
   ]
  },
  {
   "cell_type": "code",
   "execution_count": 4,
   "metadata": {},
   "outputs": [
    {
     "output_type": "execute_result",
     "data": {
      "text/plain": [
       "   COU    Country DESIG                Designation       DOMAIN       Domain  \\\n",
       "0  AUS  Australia    IA  Ia: Strict Nature Reserve  TERRESTRIAL  Terrestrial   \n",
       "1  AUS  Australia    IA  Ia: Strict Nature Reserve  TERRESTRIAL  Terrestrial   \n",
       "2  AUS  Australia    IA  Ia: Strict Nature Reserve  TERRESTRIAL  Terrestrial   \n",
       "3  AUS  Australia    IA  Ia: Strict Nature Reserve  TERRESTRIAL  Terrestrial   \n",
       "4  AUS  Australia    IA  Ia: Strict Nature Reserve  TERRESTRIAL  Terrestrial   \n",
       "\n",
       "  MEASURE            Measure CALCULATION  \\\n",
       "0    SQKM  Square kilometers      ERASED   \n",
       "1    SQKM  Square kilometers      ERASED   \n",
       "2    SQKM  Square kilometers      ERASED   \n",
       "3    SQKM  Square kilometers      ERASED   \n",
       "4    SQKM  Square kilometers      ERASED   \n",
       "\n",
       "                     Calculation method  ...  Year Unit Code  \\\n",
       "0  Erased against precedent categories   ...  1970       KM2   \n",
       "1  Erased against precedent categories   ...  1980       KM2   \n",
       "2  Erased against precedent categories   ...  1990       KM2   \n",
       "3  Erased against precedent categories   ...  1995       KM2   \n",
       "4  Erased against precedent categories   ...  2000       KM2   \n",
       "\n",
       "                Unit  PowerCode Code PowerCode Reference Period Code  \\\n",
       "0  Square kilometres               0     Units                   NaN   \n",
       "1  Square kilometres               0     Units                   NaN   \n",
       "2  Square kilometres               0     Units                   NaN   \n",
       "3  Square kilometres               0     Units                   NaN   \n",
       "4  Square kilometres               0     Units                   NaN   \n",
       "\n",
       "   Reference Period      Value  Flag Codes  Flags  \n",
       "0               NaN   34770.33         NaN    NaN  \n",
       "1               NaN  103556.25         NaN    NaN  \n",
       "2               NaN  127115.19         NaN    NaN  \n",
       "3               NaN  133699.95         NaN    NaN  \n",
       "4               NaN  136012.95         NaN    NaN  \n",
       "\n",
       "[5 rows x 23 columns]"
      ],
      "text/html": "<div>\n<style scoped>\n    .dataframe tbody tr th:only-of-type {\n        vertical-align: middle;\n    }\n\n    .dataframe tbody tr th {\n        vertical-align: top;\n    }\n\n    .dataframe thead th {\n        text-align: right;\n    }\n</style>\n<table border=\"1\" class=\"dataframe\">\n  <thead>\n    <tr style=\"text-align: right;\">\n      <th></th>\n      <th>COU</th>\n      <th>Country</th>\n      <th>DESIG</th>\n      <th>Designation</th>\n      <th>DOMAIN</th>\n      <th>Domain</th>\n      <th>MEASURE</th>\n      <th>Measure</th>\n      <th>CALCULATION</th>\n      <th>Calculation method</th>\n      <th>...</th>\n      <th>Year</th>\n      <th>Unit Code</th>\n      <th>Unit</th>\n      <th>PowerCode Code</th>\n      <th>PowerCode</th>\n      <th>Reference Period Code</th>\n      <th>Reference Period</th>\n      <th>Value</th>\n      <th>Flag Codes</th>\n      <th>Flags</th>\n    </tr>\n  </thead>\n  <tbody>\n    <tr>\n      <th>0</th>\n      <td>AUS</td>\n      <td>Australia</td>\n      <td>IA</td>\n      <td>Ia: Strict Nature Reserve</td>\n      <td>TERRESTRIAL</td>\n      <td>Terrestrial</td>\n      <td>SQKM</td>\n      <td>Square kilometers</td>\n      <td>ERASED</td>\n      <td>Erased against precedent categories</td>\n      <td>...</td>\n      <td>1970</td>\n      <td>KM2</td>\n      <td>Square kilometres</td>\n      <td>0</td>\n      <td>Units</td>\n      <td>NaN</td>\n      <td>NaN</td>\n      <td>34770.33</td>\n      <td>NaN</td>\n      <td>NaN</td>\n    </tr>\n    <tr>\n      <th>1</th>\n      <td>AUS</td>\n      <td>Australia</td>\n      <td>IA</td>\n      <td>Ia: Strict Nature Reserve</td>\n      <td>TERRESTRIAL</td>\n      <td>Terrestrial</td>\n      <td>SQKM</td>\n      <td>Square kilometers</td>\n      <td>ERASED</td>\n      <td>Erased against precedent categories</td>\n      <td>...</td>\n      <td>1980</td>\n      <td>KM2</td>\n      <td>Square kilometres</td>\n      <td>0</td>\n      <td>Units</td>\n      <td>NaN</td>\n      <td>NaN</td>\n      <td>103556.25</td>\n      <td>NaN</td>\n      <td>NaN</td>\n    </tr>\n    <tr>\n      <th>2</th>\n      <td>AUS</td>\n      <td>Australia</td>\n      <td>IA</td>\n      <td>Ia: Strict Nature Reserve</td>\n      <td>TERRESTRIAL</td>\n      <td>Terrestrial</td>\n      <td>SQKM</td>\n      <td>Square kilometers</td>\n      <td>ERASED</td>\n      <td>Erased against precedent categories</td>\n      <td>...</td>\n      <td>1990</td>\n      <td>KM2</td>\n      <td>Square kilometres</td>\n      <td>0</td>\n      <td>Units</td>\n      <td>NaN</td>\n      <td>NaN</td>\n      <td>127115.19</td>\n      <td>NaN</td>\n      <td>NaN</td>\n    </tr>\n    <tr>\n      <th>3</th>\n      <td>AUS</td>\n      <td>Australia</td>\n      <td>IA</td>\n      <td>Ia: Strict Nature Reserve</td>\n      <td>TERRESTRIAL</td>\n      <td>Terrestrial</td>\n      <td>SQKM</td>\n      <td>Square kilometers</td>\n      <td>ERASED</td>\n      <td>Erased against precedent categories</td>\n      <td>...</td>\n      <td>1995</td>\n      <td>KM2</td>\n      <td>Square kilometres</td>\n      <td>0</td>\n      <td>Units</td>\n      <td>NaN</td>\n      <td>NaN</td>\n      <td>133699.95</td>\n      <td>NaN</td>\n      <td>NaN</td>\n    </tr>\n    <tr>\n      <th>4</th>\n      <td>AUS</td>\n      <td>Australia</td>\n      <td>IA</td>\n      <td>Ia: Strict Nature Reserve</td>\n      <td>TERRESTRIAL</td>\n      <td>Terrestrial</td>\n      <td>SQKM</td>\n      <td>Square kilometers</td>\n      <td>ERASED</td>\n      <td>Erased against precedent categories</td>\n      <td>...</td>\n      <td>2000</td>\n      <td>KM2</td>\n      <td>Square kilometres</td>\n      <td>0</td>\n      <td>Units</td>\n      <td>NaN</td>\n      <td>NaN</td>\n      <td>136012.95</td>\n      <td>NaN</td>\n      <td>NaN</td>\n    </tr>\n  </tbody>\n</table>\n<p>5 rows × 23 columns</p>\n</div>"
     },
     "metadata": {},
     "execution_count": 4
    }
   ],
   "source": [
    "protected_area.head()"
   ]
  },
  {
   "cell_type": "code",
   "execution_count": 5,
   "metadata": {},
   "outputs": [
    {
     "output_type": "execute_result",
     "data": {
      "text/plain": [
       "COU                        127\n",
       "Country                    127\n",
       "DESIG                        9\n",
       "Designation                  9\n",
       "DOMAIN                       2\n",
       "Domain                       2\n",
       "MEASURE                      2\n",
       "Measure                      2\n",
       "CALCULATION                  1\n",
       "Calculation method           1\n",
       "SCOPE                        1\n",
       "Scope                        1\n",
       "YEA                         17\n",
       "Year                        17\n",
       "Unit Code                    2\n",
       "Unit                         2\n",
       "PowerCode Code               1\n",
       "PowerCode                    1\n",
       "Reference Period Code        0\n",
       "Reference Period             0\n",
       "Value                    10090\n",
       "Flag Codes                   0\n",
       "Flags                        0\n",
       "dtype: int64"
      ]
     },
     "metadata": {},
     "execution_count": 5
    }
   ],
   "source": [
    "# unique values per column\n",
    "protected_area.nunique()"
   ]
  },
  {
   "cell_type": "code",
   "execution_count": 6,
   "metadata": {},
   "outputs": [
    {
     "output_type": "execute_result",
     "data": {
      "text/plain": [
       "(37944, 23)"
      ]
     },
     "metadata": {},
     "execution_count": 6
    }
   ],
   "source": [
    "# filter only Terrestrial protected area\n",
    "protected_area = protected_area[protected_area['Domain'] == 'Terrestrial']\n",
    "protected_area.shape"
   ]
  },
  {
   "cell_type": "code",
   "execution_count": 7,
   "metadata": {},
   "outputs": [
    {
     "output_type": "execute_result",
     "data": {
      "text/plain": [
       "(18972, 23)"
      ]
     },
     "metadata": {},
     "execution_count": 7
    }
   ],
   "source": [
    "# filter only percentages (squer km make no sense by different sizes of countrys)\n",
    "protected_area = protected_area[protected_area['Unit'] == 'Percentage']\n",
    "protected_area.shape"
   ]
  },
  {
   "cell_type": "code",
   "execution_count": 8,
   "metadata": {},
   "outputs": [
    {
     "output_type": "execute_result",
     "data": {
      "text/plain": [
       "(6696, 23)"
      ]
     },
     "metadata": {},
     "execution_count": 8
    }
   ],
   "source": [
    "# filter only last 5 years\n",
    "protected_area = protected_area[protected_area['Year'] >= 2015]\n",
    "protected_area.shape"
   ]
  },
  {
   "cell_type": "code",
   "execution_count": 9,
   "metadata": {},
   "outputs": [],
   "source": [
    "# select subset of columns needed\n",
    "protected_area = protected_area[['Country', 'Year', 'Designation', 'Value']]"
   ]
  },
  {
   "cell_type": "code",
   "execution_count": 10,
   "metadata": {},
   "outputs": [
    {
     "output_type": "execute_result",
     "data": {
      "text/plain": [
       "      Country  Year                Designation  Value\n",
       "28  Australia  2015  Ia: Strict Nature Reserve   1.96\n",
       "29  Australia  2016  Ia: Strict Nature Reserve   1.97\n",
       "30  Australia  2017  Ia: Strict Nature Reserve   2.00\n",
       "31  Australia  2018  Ia: Strict Nature Reserve   2.01\n",
       "32  Australia  2019  Ia: Strict Nature Reserve   2.01"
      ],
      "text/html": "<div>\n<style scoped>\n    .dataframe tbody tr th:only-of-type {\n        vertical-align: middle;\n    }\n\n    .dataframe tbody tr th {\n        vertical-align: top;\n    }\n\n    .dataframe thead th {\n        text-align: right;\n    }\n</style>\n<table border=\"1\" class=\"dataframe\">\n  <thead>\n    <tr style=\"text-align: right;\">\n      <th></th>\n      <th>Country</th>\n      <th>Year</th>\n      <th>Designation</th>\n      <th>Value</th>\n    </tr>\n  </thead>\n  <tbody>\n    <tr>\n      <th>28</th>\n      <td>Australia</td>\n      <td>2015</td>\n      <td>Ia: Strict Nature Reserve</td>\n      <td>1.96</td>\n    </tr>\n    <tr>\n      <th>29</th>\n      <td>Australia</td>\n      <td>2016</td>\n      <td>Ia: Strict Nature Reserve</td>\n      <td>1.97</td>\n    </tr>\n    <tr>\n      <th>30</th>\n      <td>Australia</td>\n      <td>2017</td>\n      <td>Ia: Strict Nature Reserve</td>\n      <td>2.00</td>\n    </tr>\n    <tr>\n      <th>31</th>\n      <td>Australia</td>\n      <td>2018</td>\n      <td>Ia: Strict Nature Reserve</td>\n      <td>2.01</td>\n    </tr>\n    <tr>\n      <th>32</th>\n      <td>Australia</td>\n      <td>2019</td>\n      <td>Ia: Strict Nature Reserve</td>\n      <td>2.01</td>\n    </tr>\n  </tbody>\n</table>\n</div>"
     },
     "metadata": {},
     "execution_count": 10
    }
   ],
   "source": [
    "protected_area.head()"
   ]
  },
  {
   "cell_type": "code",
   "execution_count": 11,
   "metadata": {},
   "outputs": [
    {
     "output_type": "execute_result",
     "data": {
      "text/plain": [
       "              Year        Value\n",
       "count  6696.000000  6696.000000\n",
       "mean   2017.500000     6.513519\n",
       "std       1.707953    48.089838\n",
       "min    2015.000000     0.000000\n",
       "25%    2016.000000     0.000000\n",
       "50%    2017.500000     0.160000\n",
       "75%    2019.000000     3.140000\n",
       "max    2020.000000  1526.880000"
      ],
      "text/html": "<div>\n<style scoped>\n    .dataframe tbody tr th:only-of-type {\n        vertical-align: middle;\n    }\n\n    .dataframe tbody tr th {\n        vertical-align: top;\n    }\n\n    .dataframe thead th {\n        text-align: right;\n    }\n</style>\n<table border=\"1\" class=\"dataframe\">\n  <thead>\n    <tr style=\"text-align: right;\">\n      <th></th>\n      <th>Year</th>\n      <th>Value</th>\n    </tr>\n  </thead>\n  <tbody>\n    <tr>\n      <th>count</th>\n      <td>6696.000000</td>\n      <td>6696.000000</td>\n    </tr>\n    <tr>\n      <th>mean</th>\n      <td>2017.500000</td>\n      <td>6.513519</td>\n    </tr>\n    <tr>\n      <th>std</th>\n      <td>1.707953</td>\n      <td>48.089838</td>\n    </tr>\n    <tr>\n      <th>min</th>\n      <td>2015.000000</td>\n      <td>0.000000</td>\n    </tr>\n    <tr>\n      <th>25%</th>\n      <td>2016.000000</td>\n      <td>0.000000</td>\n    </tr>\n    <tr>\n      <th>50%</th>\n      <td>2017.500000</td>\n      <td>0.160000</td>\n    </tr>\n    <tr>\n      <th>75%</th>\n      <td>2019.000000</td>\n      <td>3.140000</td>\n    </tr>\n    <tr>\n      <th>max</th>\n      <td>2020.000000</td>\n      <td>1526.880000</td>\n    </tr>\n  </tbody>\n</table>\n</div>"
     },
     "metadata": {},
     "execution_count": 11
    }
   ],
   "source": [
    "protected_area.describe()"
   ]
  },
  {
   "cell_type": "code",
   "execution_count": 12,
   "metadata": {},
   "outputs": [
    {
     "output_type": "execute_result",
     "data": {
      "text/plain": [
       "array(['Ia: Strict Nature Reserve', 'Ib: Wilderness Area',\n",
       "       'II: National Park', 'III: Natural Monument or Feature',\n",
       "       'IV: Habitat or Species Management Area',\n",
       "       'V: Protected Landscape or Seascape',\n",
       "       'VI: Protected area with sustainable use of natural resources',\n",
       "       'No IUCN category provided',\n",
       "       'All, including data recorded as points'], dtype=object)"
      ]
     },
     "metadata": {},
     "execution_count": 12
    }
   ],
   "source": [
    "protected_area['Designation'].unique()"
   ]
  },
  {
   "cell_type": "code",
   "execution_count": 13,
   "metadata": {},
   "outputs": [
    {
     "output_type": "execute_result",
     "data": {
      "text/plain": [
       "Country        0\n",
       "Year           0\n",
       "Designation    0\n",
       "Value          0\n",
       "dtype: int64"
      ]
     },
     "metadata": {},
     "execution_count": 13
    }
   ],
   "source": [
    "# check for missing values\n",
    "protected_area.isna().sum()"
   ]
  },
  {
   "cell_type": "code",
   "execution_count": 18,
   "metadata": {},
   "outputs": [
    {
     "output_type": "execute_result",
     "data": {
      "text/plain": [
       "              All, including data recorded as points  II: National Park  \\\n",
       "Country Year                                                              \n",
       "APEC    2015                                   10.68               2.52   \n",
       "        2016                                   10.79               2.56   \n",
       "        2017                                   10.90               2.57   \n",
       "        2018                                   11.05               2.62   \n",
       "        2019                                   11.07               2.64   \n",
       "\n",
       "              III: Natural Monument or Feature  \\\n",
       "Country Year                                     \n",
       "APEC    2015                              0.13   \n",
       "        2016                              0.13   \n",
       "        2017                              0.13   \n",
       "        2018                              0.13   \n",
       "        2019                              0.13   \n",
       "\n",
       "              IV: Habitat or Species Management Area  \\\n",
       "Country Year                                           \n",
       "APEC    2015                                    1.83   \n",
       "        2016                                    1.83   \n",
       "        2017                                    1.83   \n",
       "        2018                                    1.83   \n",
       "        2019                                    1.83   \n",
       "\n",
       "              Ia: Strict Nature Reserve  Ib: Wilderness Area  \\\n",
       "Country Year                                                   \n",
       "APEC    2015                       0.81                 1.34   \n",
       "        2016                       0.81                 1.35   \n",
       "        2017                       0.81                 1.35   \n",
       "        2018                       0.86                 1.40   \n",
       "        2019                       0.86                 1.40   \n",
       "\n",
       "              No IUCN category provided  V: Protected Landscape or Seascape  \\\n",
       "Country Year                                                                  \n",
       "APEC    2015                       0.81                                0.66   \n",
       "        2016                       0.80                                0.66   \n",
       "        2017                       0.87                                0.66   \n",
       "        2018                       0.87                                0.66   \n",
       "        2019                       0.87                                0.66   \n",
       "\n",
       "              VI: Protected area with sustainable use of natural resources  \n",
       "Country Year                                                                \n",
       "APEC    2015                                               2.27             \n",
       "        2016                                               2.33             \n",
       "        2017                                               2.35             \n",
       "        2018                                               2.36             \n",
       "        2019                                               2.36             "
      ],
      "text/html": "<div>\n<style scoped>\n    .dataframe tbody tr th:only-of-type {\n        vertical-align: middle;\n    }\n\n    .dataframe tbody tr th {\n        vertical-align: top;\n    }\n\n    .dataframe thead th {\n        text-align: right;\n    }\n</style>\n<table border=\"1\" class=\"dataframe\">\n  <thead>\n    <tr style=\"text-align: right;\">\n      <th></th>\n      <th></th>\n      <th>All, including data recorded as points</th>\n      <th>II: National Park</th>\n      <th>III: Natural Monument or Feature</th>\n      <th>IV: Habitat or Species Management Area</th>\n      <th>Ia: Strict Nature Reserve</th>\n      <th>Ib: Wilderness Area</th>\n      <th>No IUCN category provided</th>\n      <th>V: Protected Landscape or Seascape</th>\n      <th>VI: Protected area with sustainable use of natural resources</th>\n    </tr>\n    <tr>\n      <th>Country</th>\n      <th>Year</th>\n      <th></th>\n      <th></th>\n      <th></th>\n      <th></th>\n      <th></th>\n      <th></th>\n      <th></th>\n      <th></th>\n      <th></th>\n    </tr>\n  </thead>\n  <tbody>\n    <tr>\n      <th rowspan=\"5\" valign=\"top\">APEC</th>\n      <th>2015</th>\n      <td>10.68</td>\n      <td>2.52</td>\n      <td>0.13</td>\n      <td>1.83</td>\n      <td>0.81</td>\n      <td>1.34</td>\n      <td>0.81</td>\n      <td>0.66</td>\n      <td>2.27</td>\n    </tr>\n    <tr>\n      <th>2016</th>\n      <td>10.79</td>\n      <td>2.56</td>\n      <td>0.13</td>\n      <td>1.83</td>\n      <td>0.81</td>\n      <td>1.35</td>\n      <td>0.80</td>\n      <td>0.66</td>\n      <td>2.33</td>\n    </tr>\n    <tr>\n      <th>2017</th>\n      <td>10.90</td>\n      <td>2.57</td>\n      <td>0.13</td>\n      <td>1.83</td>\n      <td>0.81</td>\n      <td>1.35</td>\n      <td>0.87</td>\n      <td>0.66</td>\n      <td>2.35</td>\n    </tr>\n    <tr>\n      <th>2018</th>\n      <td>11.05</td>\n      <td>2.62</td>\n      <td>0.13</td>\n      <td>1.83</td>\n      <td>0.86</td>\n      <td>1.40</td>\n      <td>0.87</td>\n      <td>0.66</td>\n      <td>2.36</td>\n    </tr>\n    <tr>\n      <th>2019</th>\n      <td>11.07</td>\n      <td>2.64</td>\n      <td>0.13</td>\n      <td>1.83</td>\n      <td>0.86</td>\n      <td>1.40</td>\n      <td>0.87</td>\n      <td>0.66</td>\n      <td>2.36</td>\n    </tr>\n  </tbody>\n</table>\n</div>"
     },
     "metadata": {},
     "execution_count": 18
    }
   ],
   "source": [
    "df = protected_area.pivot(index=['Country', 'Year'], columns='Designation', values='Value')\n",
    "df.columns.name = None\n",
    "df.head()"
   ]
  },
  {
   "cell_type": "code",
   "execution_count": null,
   "metadata": {},
   "outputs": [],
   "source": [
    "df = df.rename({\n",
    "    'Ia: Strict Nature Reserve': 'objective_1a',\n",
    "    'Ib: Wilderness Area': 'objective_1b',\n",
    "    'II: National Park': 'objective_2',\n",
    "    'III: Natural Monument or Feature': 'objective_3',\n",
    "    'IV: Habitat or Species Management Area': 'objective_4',\n",
    "    'V: Protected Landscape or Seascape': 'objective_5',\n",
    "    'VI: Protected area with sustainable use of natural resources': 'objective_6',\n",
    "    'No IUCN category provided': 'no_objective_provided',\n",
    "    'All, including data recorded as points': 'all_objectives'\n",
    "})"
   ]
  }
 ],
 "metadata": {
  "kernelspec": {
   "name": "python3",
   "display_name": "Python 3.7.3 64-bit ('DOPPThreatenedSpecies': pipenv)",
   "metadata": {
    "interpreter": {
     "hash": "1d1d6bb1def10cf8867d2cae1d892fdca23ec61e4937a1f80a9877e8fff6e6b9"
    }
   }
  },
  "language_info": {
   "codemirror_mode": {
    "name": "ipython",
    "version": 3
   },
   "file_extension": ".py",
   "mimetype": "text/x-python",
   "name": "python",
   "nbconvert_exporter": "python",
   "pygments_lexer": "ipython3",
   "version": "3.7.3-final"
  }
 },
 "nbformat": 4,
 "nbformat_minor": 4
}