{
 "cells": [
  {
   "cell_type": "code",
   "execution_count": 1,
   "metadata": {},
   "outputs": [],
   "source": [
    "import numpy as np \n",
    "import pandas as pd \n",
    "from pathlib import Path"
   ]
  },
  {
   "cell_type": "code",
   "execution_count": 2,
   "metadata": {},
   "outputs": [],
   "source": [
    "DATA_PATH = Path('./data')\n",
    "PROTECTED_AREAS = DATA_PATH / 'OECD' / 'PROTECTED_AREAS.csv'\n",
    "\n",
    "df = pd.read_csv(PROTECTED_AREAS)"
   ]
  },
  {
   "cell_type": "code",
   "execution_count": 3,
   "metadata": {},
   "outputs": [
    {
     "output_type": "execute_result",
     "data": {
      "text/plain": [
       "Index(['COU', 'Country', 'DESIG', 'Designation', 'DOMAIN', 'Domain', 'MEASURE',\n",
       "       'Measure', 'CALCULATION', 'Calculation method', 'SCOPE', 'Scope', 'YEA',\n",
       "       'Year', 'Unit Code', 'Unit', 'PowerCode Code', 'PowerCode',\n",
       "       'Reference Period Code', 'Reference Period', 'Value', 'Flag Codes',\n",
       "       'Flags'],\n",
       "      dtype='object')"
      ]
     },
     "metadata": {},
     "execution_count": 3
    }
   ],
   "source": [
    "df.columns"
   ]
  },
  {
   "cell_type": "code",
   "execution_count": 4,
   "metadata": {},
   "outputs": [
    {
     "output_type": "execute_result",
     "data": {
      "text/plain": [
       "   COU    Country           DESIG                             Designation  \\\n",
       "0  AUS  Australia  ALL_INC_POINTS  All, including data recorded as points   \n",
       "1  AUS  Australia  ALL_INC_POINTS  All, including data recorded as points   \n",
       "2  AUS  Australia  ALL_INC_POINTS  All, including data recorded as points   \n",
       "3  AUS  Australia  ALL_INC_POINTS  All, including data recorded as points   \n",
       "4  AUS  Australia  ALL_INC_POINTS  All, including data recorded as points   \n",
       "\n",
       "        DOMAIN       Domain MEASURE                         Measure  \\\n",
       "0  TERRESTRIAL  Terrestrial    PCNT  Percent of total land/EEZ area   \n",
       "1  TERRESTRIAL  Terrestrial    PCNT  Percent of total land/EEZ area   \n",
       "2  TERRESTRIAL  Terrestrial    PCNT  Percent of total land/EEZ area   \n",
       "3  TERRESTRIAL  Terrestrial    PCNT  Percent of total land/EEZ area   \n",
       "4  TERRESTRIAL  Terrestrial    PCNT  Percent of total land/EEZ area   \n",
       "\n",
       "  CALCULATION  Calculation method  ...  Year Unit Code        Unit  \\\n",
       "0       NAIVE  Total for category  ...  1970        PC  Percentage   \n",
       "1       NAIVE  Total for category  ...  1980        PC  Percentage   \n",
       "2       NAIVE  Total for category  ...  1990        PC  Percentage   \n",
       "3       NAIVE  Total for category  ...  1995        PC  Percentage   \n",
       "4       NAIVE  Total for category  ...  2000        PC  Percentage   \n",
       "\n",
       "   PowerCode Code PowerCode Reference Period Code  Reference Period Value  \\\n",
       "0               0     Units                   NaN               NaN  1.08   \n",
       "1               0     Units                   NaN               NaN  2.81   \n",
       "2               0     Units                   NaN               NaN  5.06   \n",
       "3               0     Units                   NaN               NaN  6.11   \n",
       "4               0     Units                   NaN               NaN  7.06   \n",
       "\n",
       "   Flag Codes  Flags  \n",
       "0         NaN    NaN  \n",
       "1         NaN    NaN  \n",
       "2         NaN    NaN  \n",
       "3         NaN    NaN  \n",
       "4         NaN    NaN  \n",
       "\n",
       "[5 rows x 23 columns]"
      ],
      "text/html": "<div>\n<style scoped>\n    .dataframe tbody tr th:only-of-type {\n        vertical-align: middle;\n    }\n\n    .dataframe tbody tr th {\n        vertical-align: top;\n    }\n\n    .dataframe thead th {\n        text-align: right;\n    }\n</style>\n<table border=\"1\" class=\"dataframe\">\n  <thead>\n    <tr style=\"text-align: right;\">\n      <th></th>\n      <th>COU</th>\n      <th>Country</th>\n      <th>DESIG</th>\n      <th>Designation</th>\n      <th>DOMAIN</th>\n      <th>Domain</th>\n      <th>MEASURE</th>\n      <th>Measure</th>\n      <th>CALCULATION</th>\n      <th>Calculation method</th>\n      <th>...</th>\n      <th>Year</th>\n      <th>Unit Code</th>\n      <th>Unit</th>\n      <th>PowerCode Code</th>\n      <th>PowerCode</th>\n      <th>Reference Period Code</th>\n      <th>Reference Period</th>\n      <th>Value</th>\n      <th>Flag Codes</th>\n      <th>Flags</th>\n    </tr>\n  </thead>\n  <tbody>\n    <tr>\n      <th>0</th>\n      <td>AUS</td>\n      <td>Australia</td>\n      <td>ALL_INC_POINTS</td>\n      <td>All, including data recorded as points</td>\n      <td>TERRESTRIAL</td>\n      <td>Terrestrial</td>\n      <td>PCNT</td>\n      <td>Percent of total land/EEZ area</td>\n      <td>NAIVE</td>\n      <td>Total for category</td>\n      <td>...</td>\n      <td>1970</td>\n      <td>PC</td>\n      <td>Percentage</td>\n      <td>0</td>\n      <td>Units</td>\n      <td>NaN</td>\n      <td>NaN</td>\n      <td>1.08</td>\n      <td>NaN</td>\n      <td>NaN</td>\n    </tr>\n    <tr>\n      <th>1</th>\n      <td>AUS</td>\n      <td>Australia</td>\n      <td>ALL_INC_POINTS</td>\n      <td>All, including data recorded as points</td>\n      <td>TERRESTRIAL</td>\n      <td>Terrestrial</td>\n      <td>PCNT</td>\n      <td>Percent of total land/EEZ area</td>\n      <td>NAIVE</td>\n      <td>Total for category</td>\n      <td>...</td>\n      <td>1980</td>\n      <td>PC</td>\n      <td>Percentage</td>\n      <td>0</td>\n      <td>Units</td>\n      <td>NaN</td>\n      <td>NaN</td>\n      <td>2.81</td>\n      <td>NaN</td>\n      <td>NaN</td>\n    </tr>\n    <tr>\n      <th>2</th>\n      <td>AUS</td>\n      <td>Australia</td>\n      <td>ALL_INC_POINTS</td>\n      <td>All, including data recorded as points</td>\n      <td>TERRESTRIAL</td>\n      <td>Terrestrial</td>\n      <td>PCNT</td>\n      <td>Percent of total land/EEZ area</td>\n      <td>NAIVE</td>\n      <td>Total for category</td>\n      <td>...</td>\n      <td>1990</td>\n      <td>PC</td>\n      <td>Percentage</td>\n      <td>0</td>\n      <td>Units</td>\n      <td>NaN</td>\n      <td>NaN</td>\n      <td>5.06</td>\n      <td>NaN</td>\n      <td>NaN</td>\n    </tr>\n    <tr>\n      <th>3</th>\n      <td>AUS</td>\n      <td>Australia</td>\n      <td>ALL_INC_POINTS</td>\n      <td>All, including data recorded as points</td>\n      <td>TERRESTRIAL</td>\n      <td>Terrestrial</td>\n      <td>PCNT</td>\n      <td>Percent of total land/EEZ area</td>\n      <td>NAIVE</td>\n      <td>Total for category</td>\n      <td>...</td>\n      <td>1995</td>\n      <td>PC</td>\n      <td>Percentage</td>\n      <td>0</td>\n      <td>Units</td>\n      <td>NaN</td>\n      <td>NaN</td>\n      <td>6.11</td>\n      <td>NaN</td>\n      <td>NaN</td>\n    </tr>\n    <tr>\n      <th>4</th>\n      <td>AUS</td>\n      <td>Australia</td>\n      <td>ALL_INC_POINTS</td>\n      <td>All, including data recorded as points</td>\n      <td>TERRESTRIAL</td>\n      <td>Terrestrial</td>\n      <td>PCNT</td>\n      <td>Percent of total land/EEZ area</td>\n      <td>NAIVE</td>\n      <td>Total for category</td>\n      <td>...</td>\n      <td>2000</td>\n      <td>PC</td>\n      <td>Percentage</td>\n      <td>0</td>\n      <td>Units</td>\n      <td>NaN</td>\n      <td>NaN</td>\n      <td>7.06</td>\n      <td>NaN</td>\n      <td>NaN</td>\n    </tr>\n  </tbody>\n</table>\n<p>5 rows × 23 columns</p>\n</div>"
     },
     "metadata": {},
     "execution_count": 4
    }
   ],
   "source": [
    "df.head()"
   ]
  },
  {
   "cell_type": "code",
   "execution_count": 5,
   "metadata": {},
   "outputs": [
    {
     "output_type": "execute_result",
     "data": {
      "text/plain": [
       "array(['Australia', 'Austria', 'Belgium', 'Canada', 'Czech Republic',\n",
       "       'Denmark', 'Finland', 'France', 'Germany', 'Greece', 'Hungary',\n",
       "       'Iceland', 'Ireland', 'Italy', 'Japan', 'Korea', 'Luxembourg',\n",
       "       'Mexico', 'Netherlands', 'New Zealand', 'Norway', 'Poland',\n",
       "       'Portugal', 'Slovak Republic', 'Spain', 'Sweden', 'Switzerland',\n",
       "       'United Kingdom', 'United States', 'G7', 'NAFTA', 'American Samoa',\n",
       "       'Anguilla', 'Argentina', 'Armenia', 'Aruba', 'Azerbaijan',\n",
       "       'Belarus', 'Bermuda', 'Brazil', 'British Virgin Islands',\n",
       "       'Bulgaria', 'Cayman Islands', 'Chile',\n",
       "       \"China (People's Republic of)\", 'Colombia', 'Cook Islands',\n",
       "       'Costa Rica', 'Croatia', 'Cyprus', 'Estonia', 'Faeroe Islands',\n",
       "       'Falkland Islands (Malvinas)', 'French Guiana', 'French Polynesia',\n",
       "       'Georgia', 'Greenland', 'Guadeloupe', 'Guam', 'India', 'Indonesia',\n",
       "       'Israel', 'Kazakhstan', 'Kyrgyzstan', 'Latvia', 'Lithuania',\n",
       "       'Malta', 'Martinique', 'Mayotte', 'Moldova', 'Montserrat',\n",
       "       'New Caledonia', 'Niue', 'Norfolk Island',\n",
       "       'Northern Mariana Islands', 'Peru', 'Pitcairn', 'Puerto Rico',\n",
       "       'Réunion', 'Romania', 'Russia', 'Saint Helena',\n",
       "       'Saint Pierre and Miquelon', 'Saudi Arabia', 'Slovenia',\n",
       "       'South Africa', 'Svalbard and Jan Mayen', 'Tajikistan',\n",
       "       'Turkmenistan', 'Turks and Caicos Islands', 'Ukraine',\n",
       "       'Uzbekistan', 'United States Virgin Islands', 'Wallis and Futuna',\n",
       "       'World', 'Bouvet Island', 'Heard Island and McDonald Islands',\n",
       "       'South Georgia and the South Sandwich Islands',\n",
       "       'French Southern and Antarctic Lands',\n",
       "       'United States Minor Outlying Islands',\n",
       "       'British Indian Ocean Territory', 'Christmas Islands', 'ASEAN',\n",
       "       'APEC', 'Guernsey', 'Isle of Man', 'Jersey', 'G20',\n",
       "       'BRIICS economies - Brazil, Russia, India, Indonesia, China and South Africa',\n",
       "       'Curacao', 'European Union (28 countries)', 'Sint Maarten',\n",
       "       'Bonaire', 'OECD - Total', 'OECD - Europe',\n",
       "       'Euro area (19 countries)', 'Saint Barthélemy',\n",
       "       'OECD Asia Oceania', 'OECD America',\n",
       "       'Eastern Europe, Caucasus and Central Asia',\n",
       "       'Latin America and Caribbean', 'Middle East and North Africa',\n",
       "       'Saint Martin', 'Clipperton Island'], dtype=object)"
      ]
     },
     "metadata": {},
     "execution_count": 5
    }
   ],
   "source": [
    "df.Country.unique()"
   ]
  },
  {
   "cell_type": "code",
   "execution_count": null,
   "metadata": {},
   "outputs": [],
   "source": []
  }
 ],
 "metadata": {
  "kernelspec": {
   "display_name": "Python 3",
   "language": "python",
   "name": "python3"
  },
  "language_info": {
   "codemirror_mode": {
    "name": "ipython",
    "version": 3
   },
   "file_extension": ".py",
   "mimetype": "text/x-python",
   "name": "python",
   "nbconvert_exporter": "python",
   "pygments_lexer": "ipython3",
   "version": "3.8.5-final"
  }
 },
 "nbformat": 4,
 "nbformat_minor": 4
}