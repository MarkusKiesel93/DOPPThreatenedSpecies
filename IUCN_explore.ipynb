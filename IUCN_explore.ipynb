{
 "cells": [
  {
   "cell_type": "markdown",
   "metadata": {},
   "source": [
    "# IUCN Red List Data\n",
    "\n",
    "Our main data source is the International Union For Conservation of Nature (IUCN). This is an international organization working on the field of nature conservation. They provide the most relevant and detaild data on threatened and extinct species."
   ]
  },
  {
   "cell_type": "code",
   "execution_count": 54,
   "metadata": {},
   "outputs": [],
   "source": [
    "import numpy as np \n",
    "import pandas as pd \n",
    "from pathlib import Path\n",
    "import matplotlib.pyplot as plt\n",
    "import seaborn as sns\n",
    "\n",
    "from countries import get_country_list, get_for_IUCN"
   ]
  },
  {
   "cell_type": "markdown",
   "metadata": {},
   "source": [
    "## Getting the Data\n",
    "\n",
    "We encountered several problems for utilizing the data provided by the IUCN.\n",
    "\n",
    "### Dificulties\n",
    "\n",
    "First, summery statistics. The provided data is often times in a format that is not machine readable (PDFs) or when machine readable files (CSVs) are available the data is not provided in sufficent detail per country. \n",
    "Second, spatial data. This type of data provides detaild information per group of species. The data is provided as polygons but as our goal is to compare different characteristics of countries we would have to map the polygons to countries which is not a trivial task as the IUCNs process to define which species is resident in which country is very sophisticated and not easy to reproduce.\n",
    "Third, there is no \"historical\" data on threatened species. Only some PDFs document the changes in status per species and year but the IUCN specifically states that \"This table (Table 7) should not be used to calculate a Red List Index (RLI); for this it is necessary to analyse the underlying Red List data to identify genuine status changes between specific years for specific taxonomic groups.\"\n",
    "\n",
    "### Solution\n",
    "\n",
    "The approach we therefore took was to scrape the needed data from the IUCN webpage using the advanced search at: https://www.iucnredlist.org/search\n",
    "\n",
    "We approached getting the data by using **selenium** and **beautifulsoup4** as they let us navigate the IUCN Webpage and extract the species on a per country level.\n",
    "\n",
    "### ToDo: \n",
    "- explain scraping process"
   ]
  },
  {
   "cell_type": "markdown",
   "metadata": {},
   "source": [
    "## Load Raw Data\n",
    "\n",
    "In this step we load the raw scraped data as provided on the IUCN webpage.\n",
    "\n",
    "### ToDo:\n",
    "- describe and comment"
   ]
  },
  {
   "cell_type": "code",
   "execution_count": 55,
   "metadata": {},
   "outputs": [],
   "source": [
    "def load_IUCN_data():\n",
    "    all_countries = []\n",
    "    DATA_PATH = Path('./data/IUCN/scraped/')\n",
    "    file_paths = DATA_PATH.glob('*.csv')\n",
    "\n",
    "    for file_path in file_paths:\n",
    "        df = pd.read_csv(file_path)\n",
    "        df['country'] = file_path.stem\n",
    "        all_countries.append(df)\n",
    "    return pd.concat(all_countries, ignore_index=True)\n",
    "IUCN_raw_data = load_IUCN_data()"
   ]
  },
  {
   "cell_type": "code",
   "execution_count": 56,
   "metadata": {},
   "outputs": [
    {
     "output_type": "execute_result",
     "data": {
      "text/plain": [
       "(136624, 7)"
      ]
     },
     "metadata": {},
     "execution_count": 56
    }
   ],
   "source": [
    "IUCN_raw_data.shape"
   ]
  },
  {
   "cell_type": "code",
   "execution_count": 57,
   "metadata": {},
   "outputs": [
    {
     "output_type": "execute_result",
     "data": {
      "text/plain": [
       "           kingdom_class                common_name        scientific_name  \\\n",
       "0  animalia — gastropoda             Lapidary Snail    Helicigona lapicida   \n",
       "1  animalia — gastropoda       Moss Chrysalis Snail       Pupilla muscorum   \n",
       "2    animalia — mammalia     Nathusius' Pipistrelle  Pipistrellus nathusii   \n",
       "3     animalia — insecta  Ashton's Cuckoo Bumblebee       Bombus bohemicus   \n",
       "4     animalia — insecta                        NaN   Cucujus cinnaberinus   \n",
       "\n",
       "        trend          region     threat_level country  \n",
       "0      Stable  Global, Europe    Least Concern  Latvia  \n",
       "1  Decreasing  Global, Europe    Least Concern  Latvia  \n",
       "2     Unknown          Global    Least Concern  Latvia  \n",
       "3  Decreasing          Global   Data Deficient  Latvia  \n",
       "4  Increasing  Global, Europe  Near Threatened  Latvia  "
      ],
      "text/html": "<div>\n<style scoped>\n    .dataframe tbody tr th:only-of-type {\n        vertical-align: middle;\n    }\n\n    .dataframe tbody tr th {\n        vertical-align: top;\n    }\n\n    .dataframe thead th {\n        text-align: right;\n    }\n</style>\n<table border=\"1\" class=\"dataframe\">\n  <thead>\n    <tr style=\"text-align: right;\">\n      <th></th>\n      <th>kingdom_class</th>\n      <th>common_name</th>\n      <th>scientific_name</th>\n      <th>trend</th>\n      <th>region</th>\n      <th>threat_level</th>\n      <th>country</th>\n    </tr>\n  </thead>\n  <tbody>\n    <tr>\n      <th>0</th>\n      <td>animalia — gastropoda</td>\n      <td>Lapidary Snail</td>\n      <td>Helicigona lapicida</td>\n      <td>Stable</td>\n      <td>Global, Europe</td>\n      <td>Least Concern</td>\n      <td>Latvia</td>\n    </tr>\n    <tr>\n      <th>1</th>\n      <td>animalia — gastropoda</td>\n      <td>Moss Chrysalis Snail</td>\n      <td>Pupilla muscorum</td>\n      <td>Decreasing</td>\n      <td>Global, Europe</td>\n      <td>Least Concern</td>\n      <td>Latvia</td>\n    </tr>\n    <tr>\n      <th>2</th>\n      <td>animalia — mammalia</td>\n      <td>Nathusius' Pipistrelle</td>\n      <td>Pipistrellus nathusii</td>\n      <td>Unknown</td>\n      <td>Global</td>\n      <td>Least Concern</td>\n      <td>Latvia</td>\n    </tr>\n    <tr>\n      <th>3</th>\n      <td>animalia — insecta</td>\n      <td>Ashton's Cuckoo Bumblebee</td>\n      <td>Bombus bohemicus</td>\n      <td>Decreasing</td>\n      <td>Global</td>\n      <td>Data Deficient</td>\n      <td>Latvia</td>\n    </tr>\n    <tr>\n      <th>4</th>\n      <td>animalia — insecta</td>\n      <td>NaN</td>\n      <td>Cucujus cinnaberinus</td>\n      <td>Increasing</td>\n      <td>Global, Europe</td>\n      <td>Near Threatened</td>\n      <td>Latvia</td>\n    </tr>\n  </tbody>\n</table>\n</div>"
     },
     "metadata": {},
     "execution_count": 57
    }
   ],
   "source": [
    "IUCN_raw_data.head()"
   ]
  },
  {
   "cell_type": "markdown",
   "metadata": {},
   "source": [
    "## Problems in dataset"
   ]
  },
  {
   "cell_type": "code",
   "execution_count": 58,
   "metadata": {},
   "outputs": [
    {
     "output_type": "execute_result",
     "data": {
      "text/plain": [
       "kingdom_class          0\n",
       "common_name        43403\n",
       "scientific_name        0\n",
       "trend               2986\n",
       "region                 0\n",
       "threat_level           0\n",
       "country                0\n",
       "dtype: int64"
      ]
     },
     "metadata": {},
     "execution_count": 58
    }
   ],
   "source": [
    "IUCN_raw_data.isna().sum()"
   ]
  },
  {
   "cell_type": "code",
   "execution_count": 59,
   "metadata": {},
   "outputs": [
    {
     "output_type": "execute_result",
     "data": {
      "text/plain": [
       "array(['animalia — gastropoda', 'animalia — mammalia',\n",
       "       'animalia — insecta', 'animalia — amphibia', 'animalia — aves',\n",
       "       'animalia — actinopterygii', 'animalia — reptilia',\n",
       "       'animalia — bivalvia', 'animalia — chondrichthyes',\n",
       "       'animalia — malacostraca', 'animalia — holothuroidea',\n",
       "       'animalia — cephalopoda', 'animalia — cephalaspidomorphi',\n",
       "       'animalia — arachnida', 'animalia — clitellata',\n",
       "       'animalia — myxini', 'animalia — anthozoa',\n",
       "       'animalia — maxillopoda', 'animalia — hydrozoa',\n",
       "       'animalia — merostomata', 'animalia — echinoidea',\n",
       "       'animalia — branchiopoda', 'animalia — enopla',\n",
       "       'animalia — onychophora', 'animalia — asteroidea',\n",
       "       'animalia — ostracoda', 'animalia — monoplacophora',\n",
       "       'animalia — diplopoda', 'animalia — entognatha',\n",
       "       'animalia — sarcopterygii', 'animalia — turbellaria',\n",
       "       'animalia — polychaeta'], dtype=object)"
      ]
     },
     "metadata": {},
     "execution_count": 59
    }
   ],
   "source": [
    "# kingdom the same as we only read animals\n",
    "# scientific class names not human readable and include sea animals\n",
    "IUCN_raw_data['kingdom_class'].unique()"
   ]
  },
  {
   "cell_type": "code",
   "execution_count": 60,
   "metadata": {},
   "outputs": [
    {
     "output_type": "execute_result",
     "data": {
      "text/plain": [
       "array(['Global, Europe', 'Global', 'Global, Europe, Mediterranean',\n",
       "       'Global, Mediterranean', 'Global, Arabian Sea',\n",
       "       'Global, Caribbean', 'Global, Caribbean, Gulf of Mexico',\n",
       "       'Global, Gulf of Mexico', 'Global, Persian Gulf',\n",
       "       'Global, Northern Africa, Pan-Africa', 'Global, Pan-Africa',\n",
       "       'Global, Pan-Africa, S. Africa FW',\n",
       "       'Global, Eastern Africa, Pan-Africa'], dtype=object)"
      ]
     },
     "metadata": {},
     "execution_count": 60
    }
   ],
   "source": [
    "# not sure how to use region\n",
    "IUCN_raw_data['region'].unique()"
   ]
  },
  {
   "cell_type": "code",
   "execution_count": 61,
   "metadata": {},
   "outputs": [
    {
     "output_type": "execute_result",
     "data": {
      "text/plain": [
       "array(['Least Concern', 'Data Deficient', 'Near Threatened', 'Vulnerable',\n",
       "       'Endangered', 'Critically Endangered', 'Extinct',\n",
       "       '[missing \"en.shared.categories.cd\" translation]',\n",
       "       'Extinct in the Wild'], dtype=object)"
      ]
     },
     "metadata": {},
     "execution_count": 61
    }
   ],
   "source": [
    "# missing data on web search \"[missing \"en.shared.categories.cd\" translation]\"\n",
    "IUCN_raw_data.threat_level.unique()"
   ]
  },
  {
   "cell_type": "markdown",
   "metadata": {},
   "source": [
    "## Preparing the data\n",
    "\n",
    "For the threat_level some datapoints are missing. We checked the species directly on the webpage.\n",
    "There is no value for is and so and we use 'Data Deficient' for these.\n",
    "\n",
    "### Translate classes of animals\n",
    "From Wikipedia as nothing found on IUCN\n",
    "\n",
    "- mammalia: Mammals\n",
    "- actinopterygii: Ray-finned fishes\n",
    "- insecta: Insects\n",
    "- amphibia: Amphibians\n",
    "- aves: Birds\n",
    "- bivalvia: clams, oysters, cockles, mussels, scallops\n",
    "- gastropoda: Snails and Slugs (could also be located in the sea)\n",
    "- cephalaspidomorphi: jawless fishes\n",
    "- clitellata: Worms\n",
    "- reptilia: Reptiles\n",
    "- chondrichthyes: cartilaginous fishes\n",
    "- malacostraca: crustaceans\n",
    "- hydrozoa: individually very small, predatory animals, most living in salt water\n",
    "- turbellaria: flatworms\n",
    "\n",
    "call class -> group as it could lead to problems with name class in python\n",
    "\n",
    "### Todo\n",
    "- describe and comment"
   ]
  },
  {
   "cell_type": "code",
   "execution_count": 62,
   "metadata": {},
   "outputs": [],
   "source": [
    "def clean_data(data, filter_terrestrial=True):\n",
    "    # remove column common name and region\n",
    "    data = data.drop(columns=['common_name', 'region'])\n",
    "\n",
    "    # categorize missing scraped data for trend to existing Data Deficient category\n",
    "    data.threat_level.replace({\n",
    "        '[missing \"en.shared.categories.cd\" translation]': 'Data Deficient'},\n",
    "        inplace=True)\n",
    "\n",
    "    # fill nan vlaues in trend with existing Unknown category\n",
    "    data.trend.fillna('Unknown', inplace=True)\n",
    "\n",
    "    # extract only class as kingdom is always animalia\n",
    "    data['kingdom_class'] = data.apply(lambda row: row['kingdom_class'].split()[-1], axis=1)\n",
    "    data = data.rename(columns={'kingdom_class': 'group'})\n",
    "\n",
    "    # only select none sea animals\n",
    "    if filter_terrestrial:\n",
    "        none_sea_animals = ['mammalia', 'insecta', 'amphibia', 'aves', 'reptilia'] # todo: decide if to use Worms ('clitellata')\n",
    "        data = data[data.group.isin(none_sea_animals)]\n",
    "\n",
    "    # rename classes \n",
    "    data.group.replace({\n",
    "        'mammalia': 'mammals',\n",
    "        'insecta': 'insects',\n",
    "        'amphibia': 'amphibians',\n",
    "        'aves': 'birds',\n",
    "        'clitellata': 'worms',\n",
    "        'reptilia': 'reptiles',\n",
    "        },\n",
    "        inplace=True)\n",
    "\n",
    "    # rename threat levels \n",
    "    data.threat_level.replace({\n",
    "        'Extinct': 'EX',\n",
    "        'Extinct in the Wild': 'EW',\n",
    "        'Critically Endangered': 'CR',\n",
    "        'Endangered': 'EN',\n",
    "        'Vulnerable': 'VU',\n",
    "        'Near Threatened': 'NT',\n",
    "        'Least Concern': 'LC',\n",
    "        'Data Deficient': 'DD',\n",
    "        },\n",
    "        inplace=True)\n",
    "\n",
    "    return data\n",
    "IUCN_cleaned_data = clean_data(IUCN_raw_data)"
   ]
  },
  {
   "cell_type": "code",
   "execution_count": 63,
   "metadata": {},
   "outputs": [
    {
     "output_type": "execute_result",
     "data": {
      "text/plain": [
       "(66669, 5)"
      ]
     },
     "metadata": {},
     "execution_count": 63
    }
   ],
   "source": [
    "IUCN_cleaned_data.shape"
   ]
  },
  {
   "cell_type": "code",
   "execution_count": 64,
   "metadata": {},
   "outputs": [
    {
     "output_type": "execute_result",
     "data": {
      "text/plain": [
       "     group        scientific_name       trend threat_level country\n",
       "2  mammals  Pipistrellus nathusii     Unknown           LC  Latvia\n",
       "3  insects       Bombus bohemicus  Decreasing           DD  Latvia\n",
       "4  insects   Cucujus cinnaberinus  Increasing           NT  Latvia\n",
       "5  insects  Coenagrion pulchellum      Stable           LC  Latvia\n",
       "6  insects       Ischnura pumilio      Stable           LC  Latvia"
      ],
      "text/html": "<div>\n<style scoped>\n    .dataframe tbody tr th:only-of-type {\n        vertical-align: middle;\n    }\n\n    .dataframe tbody tr th {\n        vertical-align: top;\n    }\n\n    .dataframe thead th {\n        text-align: right;\n    }\n</style>\n<table border=\"1\" class=\"dataframe\">\n  <thead>\n    <tr style=\"text-align: right;\">\n      <th></th>\n      <th>group</th>\n      <th>scientific_name</th>\n      <th>trend</th>\n      <th>threat_level</th>\n      <th>country</th>\n    </tr>\n  </thead>\n  <tbody>\n    <tr>\n      <th>2</th>\n      <td>mammals</td>\n      <td>Pipistrellus nathusii</td>\n      <td>Unknown</td>\n      <td>LC</td>\n      <td>Latvia</td>\n    </tr>\n    <tr>\n      <th>3</th>\n      <td>insects</td>\n      <td>Bombus bohemicus</td>\n      <td>Decreasing</td>\n      <td>DD</td>\n      <td>Latvia</td>\n    </tr>\n    <tr>\n      <th>4</th>\n      <td>insects</td>\n      <td>Cucujus cinnaberinus</td>\n      <td>Increasing</td>\n      <td>NT</td>\n      <td>Latvia</td>\n    </tr>\n    <tr>\n      <th>5</th>\n      <td>insects</td>\n      <td>Coenagrion pulchellum</td>\n      <td>Stable</td>\n      <td>LC</td>\n      <td>Latvia</td>\n    </tr>\n    <tr>\n      <th>6</th>\n      <td>insects</td>\n      <td>Ischnura pumilio</td>\n      <td>Stable</td>\n      <td>LC</td>\n      <td>Latvia</td>\n    </tr>\n  </tbody>\n</table>\n</div>"
     },
     "metadata": {},
     "execution_count": 64
    }
   ],
   "source": [
    "IUCN_cleaned_data.head()"
   ]
  },
  {
   "cell_type": "markdown",
   "metadata": {},
   "source": []
  },
  {
   "cell_type": "markdown",
   "metadata": {},
   "source": [
    "## Check if scraped data is complete\n",
    "\n",
    "For this we use Table 6a of the IUCN Summary Statistics\n",
    "\n",
    "IUCN Red List Categories: EX - Extinct, EW - Extinct in the Wild, CR - Critically Endangered (includes CR(PE) and CR(PEW)), EN - Endangered, VU - Vulnerable, LR/cd - Lower Risk/conservation dependent, NT - Near Threatened (includes LR/nt - Lower Risk/near threatened), DD - Data Deficient, LC - Least Concern (includes LR/lc - Lower Risk/least concern).\n",
    "\n",
    "CR(PE) & CR(PEW): The tags 'Possibly Extinct' and 'Possibly Extinct in the Wild' have been developed to identify CR species that are likely already extinct (or extinct in the wild), but require more investigation to confirm this. NOTE that these are not IUCN Red List Categories; they are tags that can be attached to the CR category to highlight those taxa that are possibly extinct. They are included in the above table to indicate a plausible upper estimate for number of recently extinct species on The IUCN Red List."
   ]
  },
  {
   "cell_type": "code",
   "execution_count": 65,
   "metadata": {},
   "outputs": [
    {
     "output_type": "execute_result",
     "data": {
      "text/plain": [
       "(65, 9)"
      ]
     },
     "metadata": {},
     "execution_count": 65
    }
   ],
   "source": [
    "IUCN_cleaned_all = clean_data(IUCN_raw_data, filter_terrestrial=False)\n",
    "grouped = IUCN_cleaned_all.groupby(['country', 'threat_level'])['scientific_name'].count().reset_index(name='count')\n",
    "species_tl = grouped.pivot(index='country', columns='threat_level', values='count')\n",
    "species_tl = species_tl.fillna(0.0)\n",
    "species_tl['Total'] = species_tl.sum(axis=1)\n",
    "species_tl.shape"
   ]
  },
  {
   "cell_type": "code",
   "execution_count": 66,
   "metadata": {},
   "outputs": [],
   "source": [
    "def load_table6a(threat_levels, country_rename_mapper, country_list):\n",
    "    # load data\n",
    "    DATA_PATH = Path('./data/IUCN')\n",
    "    data = pd.read_csv(DATA_PATH / 'Table 6a Animal species (kingdom Animalia) by country - show all.csv', thousands=',')\n",
    "    # rename columns\n",
    "    data = data.rename(columns={\n",
    "        'Name': 'country',\n",
    "        'NT or LR/nt': 'NT',\n",
    "        'LC or LR/lc': 'LC',\n",
    "    })\n",
    "    # only select needed threat_levels\n",
    "    data = data[['country'] + threat_levels]\n",
    "    # rename countrys\n",
    "    data.country.replace(country_rename_mapper, inplace=True)\n",
    "    # only select needed countrys\n",
    "    data = data[data.country.isin(country_list)] \n",
    "    data = data.set_index('country')\n",
    "\n",
    "    return data\n",
    "\n",
    "threat_levels = list(species_tl.columns)\n",
    "country_dict = get_for_IUCN()\n",
    "country_rename_mapper = {d['country_iucn']: d['country_name'] for d in country_dict}\n",
    "country_list = get_country_list()\n",
    "table6a = load_table6a(threat_levels, country_rename_mapper, country_list)\n",
    "assert len(country_list) == table6a.shape[0]"
   ]
  },
  {
   "cell_type": "code",
   "execution_count": 67,
   "metadata": {},
   "outputs": [],
   "source": [
    "test = table6a.copy().reset_index()\n",
    "test['Total_calc'] = test.drop(columns=['Total']).sum(axis=1)\n",
    "\n",
    "species_tl_total = species_tl[['Total']].rename(columns={'Total': 'Total_scraped'})\n",
    "species_tl_total = species_tl_total.reset_index()\n",
    "test = test.merge(species_tl_total, how='left', on='country')\n",
    "\n",
    "test['diff_to_calc'] = test['Total'] - test['Total_calc']\n",
    "test['diff_to_scraped'] = test['Total'] - test['Total_scraped']\n",
    "test['diff_calc_scraped'] = test['Total_calc'] - test['Total_scraped']"
   ]
  },
  {
   "cell_type": "code",
   "execution_count": 68,
   "metadata": {},
   "outputs": [
    {
     "output_type": "execute_result",
     "data": {
      "text/plain": [
       "                     country   CR    DD   EN  EW   EX    LC   NT   VU  Total  \\\n",
       "1                      Japan   46   508  149   1   14  3372  267  256   4616   \n",
       "35                    Mexico  202   585  343   9   21  4930  217  362   6670   \n",
       "37             United States  224   609  298   4  237  5719  336  566   7998   \n",
       "42                 Australia  138   661  255   0   42  5868  442  613   8022   \n",
       "43             New Caledonia   41   182   56   0    5  2187  163  159   2796   \n",
       "45  Northern Mariana Islands    9    70   24   0    2  1293   91   72   1564   \n",
       "47                    Brazil  105   700  144   2   11  4768  230  287   6256   \n",
       "49                  Colombia  126   586  227   0    1  5283  259  361   6845   \n",
       "50                      Peru   58   474  155   0    1  3891  204  209   4994   \n",
       "51                     India   94   868  230   0    0  4332  331  398   6255   \n",
       "52                 Indonesia  185  1392  323   0    3  6307  640  654   9508   \n",
       "53              South Africa   85   340  178   0    6  3720  189  213   4733   \n",
       "61              Saudi Arabia   13   151   34   0    1  1602  139  106   2048   \n",
       "\n",
       "    Total_calc  Total_scraped  diff_to_calc  diff_to_scraped  \\\n",
       "1         4613         4615.0             3              1.0   \n",
       "35        6669         6669.0             1              1.0   \n",
       "37        7993         7994.0             5              4.0   \n",
       "42        8019         8020.0             3              2.0   \n",
       "43        2793         2795.0             3              1.0   \n",
       "45        1561         1562.0             3              2.0   \n",
       "47        6247         6249.0             9              7.0   \n",
       "49        6843         6840.0             2              5.0   \n",
       "50        4992         4991.0             2              3.0   \n",
       "51        6253         6253.0             2              2.0   \n",
       "52        9504         9502.0             4              6.0   \n",
       "53        4731         4732.0             2              1.0   \n",
       "61        2046         2048.0             2              0.0   \n",
       "\n",
       "    diff_calc_scraped  \n",
       "1                -2.0  \n",
       "35                0.0  \n",
       "37               -1.0  \n",
       "42               -1.0  \n",
       "43               -2.0  \n",
       "45               -1.0  \n",
       "47               -2.0  \n",
       "49                3.0  \n",
       "50                1.0  \n",
       "51                0.0  \n",
       "52                2.0  \n",
       "53               -1.0  \n",
       "61               -2.0  "
      ],
      "text/html": "<div>\n<style scoped>\n    .dataframe tbody tr th:only-of-type {\n        vertical-align: middle;\n    }\n\n    .dataframe tbody tr th {\n        vertical-align: top;\n    }\n\n    .dataframe thead th {\n        text-align: right;\n    }\n</style>\n<table border=\"1\" class=\"dataframe\">\n  <thead>\n    <tr style=\"text-align: right;\">\n      <th></th>\n      <th>country</th>\n      <th>CR</th>\n      <th>DD</th>\n      <th>EN</th>\n      <th>EW</th>\n      <th>EX</th>\n      <th>LC</th>\n      <th>NT</th>\n      <th>VU</th>\n      <th>Total</th>\n      <th>Total_calc</th>\n      <th>Total_scraped</th>\n      <th>diff_to_calc</th>\n      <th>diff_to_scraped</th>\n      <th>diff_calc_scraped</th>\n    </tr>\n  </thead>\n  <tbody>\n    <tr>\n      <th>1</th>\n      <td>Japan</td>\n      <td>46</td>\n      <td>508</td>\n      <td>149</td>\n      <td>1</td>\n      <td>14</td>\n      <td>3372</td>\n      <td>267</td>\n      <td>256</td>\n      <td>4616</td>\n      <td>4613</td>\n      <td>4615.0</td>\n      <td>3</td>\n      <td>1.0</td>\n      <td>-2.0</td>\n    </tr>\n    <tr>\n      <th>35</th>\n      <td>Mexico</td>\n      <td>202</td>\n      <td>585</td>\n      <td>343</td>\n      <td>9</td>\n      <td>21</td>\n      <td>4930</td>\n      <td>217</td>\n      <td>362</td>\n      <td>6670</td>\n      <td>6669</td>\n      <td>6669.0</td>\n      <td>1</td>\n      <td>1.0</td>\n      <td>0.0</td>\n    </tr>\n    <tr>\n      <th>37</th>\n      <td>United States</td>\n      <td>224</td>\n      <td>609</td>\n      <td>298</td>\n      <td>4</td>\n      <td>237</td>\n      <td>5719</td>\n      <td>336</td>\n      <td>566</td>\n      <td>7998</td>\n      <td>7993</td>\n      <td>7994.0</td>\n      <td>5</td>\n      <td>4.0</td>\n      <td>-1.0</td>\n    </tr>\n    <tr>\n      <th>42</th>\n      <td>Australia</td>\n      <td>138</td>\n      <td>661</td>\n      <td>255</td>\n      <td>0</td>\n      <td>42</td>\n      <td>5868</td>\n      <td>442</td>\n      <td>613</td>\n      <td>8022</td>\n      <td>8019</td>\n      <td>8020.0</td>\n      <td>3</td>\n      <td>2.0</td>\n      <td>-1.0</td>\n    </tr>\n    <tr>\n      <th>43</th>\n      <td>New Caledonia</td>\n      <td>41</td>\n      <td>182</td>\n      <td>56</td>\n      <td>0</td>\n      <td>5</td>\n      <td>2187</td>\n      <td>163</td>\n      <td>159</td>\n      <td>2796</td>\n      <td>2793</td>\n      <td>2795.0</td>\n      <td>3</td>\n      <td>1.0</td>\n      <td>-2.0</td>\n    </tr>\n    <tr>\n      <th>45</th>\n      <td>Northern Mariana Islands</td>\n      <td>9</td>\n      <td>70</td>\n      <td>24</td>\n      <td>0</td>\n      <td>2</td>\n      <td>1293</td>\n      <td>91</td>\n      <td>72</td>\n      <td>1564</td>\n      <td>1561</td>\n      <td>1562.0</td>\n      <td>3</td>\n      <td>2.0</td>\n      <td>-1.0</td>\n    </tr>\n    <tr>\n      <th>47</th>\n      <td>Brazil</td>\n      <td>105</td>\n      <td>700</td>\n      <td>144</td>\n      <td>2</td>\n      <td>11</td>\n      <td>4768</td>\n      <td>230</td>\n      <td>287</td>\n      <td>6256</td>\n      <td>6247</td>\n      <td>6249.0</td>\n      <td>9</td>\n      <td>7.0</td>\n      <td>-2.0</td>\n    </tr>\n    <tr>\n      <th>49</th>\n      <td>Colombia</td>\n      <td>126</td>\n      <td>586</td>\n      <td>227</td>\n      <td>0</td>\n      <td>1</td>\n      <td>5283</td>\n      <td>259</td>\n      <td>361</td>\n      <td>6845</td>\n      <td>6843</td>\n      <td>6840.0</td>\n      <td>2</td>\n      <td>5.0</td>\n      <td>3.0</td>\n    </tr>\n    <tr>\n      <th>50</th>\n      <td>Peru</td>\n      <td>58</td>\n      <td>474</td>\n      <td>155</td>\n      <td>0</td>\n      <td>1</td>\n      <td>3891</td>\n      <td>204</td>\n      <td>209</td>\n      <td>4994</td>\n      <td>4992</td>\n      <td>4991.0</td>\n      <td>2</td>\n      <td>3.0</td>\n      <td>1.0</td>\n    </tr>\n    <tr>\n      <th>51</th>\n      <td>India</td>\n      <td>94</td>\n      <td>868</td>\n      <td>230</td>\n      <td>0</td>\n      <td>0</td>\n      <td>4332</td>\n      <td>331</td>\n      <td>398</td>\n      <td>6255</td>\n      <td>6253</td>\n      <td>6253.0</td>\n      <td>2</td>\n      <td>2.0</td>\n      <td>0.0</td>\n    </tr>\n    <tr>\n      <th>52</th>\n      <td>Indonesia</td>\n      <td>185</td>\n      <td>1392</td>\n      <td>323</td>\n      <td>0</td>\n      <td>3</td>\n      <td>6307</td>\n      <td>640</td>\n      <td>654</td>\n      <td>9508</td>\n      <td>9504</td>\n      <td>9502.0</td>\n      <td>4</td>\n      <td>6.0</td>\n      <td>2.0</td>\n    </tr>\n    <tr>\n      <th>53</th>\n      <td>South Africa</td>\n      <td>85</td>\n      <td>340</td>\n      <td>178</td>\n      <td>0</td>\n      <td>6</td>\n      <td>3720</td>\n      <td>189</td>\n      <td>213</td>\n      <td>4733</td>\n      <td>4731</td>\n      <td>4732.0</td>\n      <td>2</td>\n      <td>1.0</td>\n      <td>-1.0</td>\n    </tr>\n    <tr>\n      <th>61</th>\n      <td>Saudi Arabia</td>\n      <td>13</td>\n      <td>151</td>\n      <td>34</td>\n      <td>0</td>\n      <td>1</td>\n      <td>1602</td>\n      <td>139</td>\n      <td>106</td>\n      <td>2048</td>\n      <td>2046</td>\n      <td>2048.0</td>\n      <td>2</td>\n      <td>0.0</td>\n      <td>-2.0</td>\n    </tr>\n  </tbody>\n</table>\n</div>"
     },
     "metadata": {},
     "execution_count": 68
    }
   ],
   "source": [
    "test[test['diff_to_calc'] > 0]"
   ]
  },
  {
   "cell_type": "code",
   "execution_count": 69,
   "metadata": {},
   "outputs": [
    {
     "output_type": "execute_result",
     "data": {
      "text/plain": [
       "                     country   CR    DD   EN  EW   EX    LC   NT   VU  Total  \\\n",
       "1                      Japan   46   508  149   1   14  3372  267  256   4616   \n",
       "14                 Greenland    2    20    5   0    1   217    8   20    273   \n",
       "34                Costa Rica   35   235   82   0    4  3392  107  154   4009   \n",
       "35                    Mexico  202   585  343   9   21  4930  217  362   6670   \n",
       "36                    Canada   18    87   32   0    9  1902   64   84   2196   \n",
       "37             United States  224   609  298   4  237  5719  336  566   7998   \n",
       "40                    Russia   28   233   49   1    3  1735  118  111   2278   \n",
       "42                 Australia  138   661  255   0   42  5868  442  613   8022   \n",
       "43             New Caledonia   41   182   56   0    5  2187  163  159   2796   \n",
       "44               New Zealand   45   210   77   0   23  1066   66  109   1596   \n",
       "45  Northern Mariana Islands    9    70   24   0    2  1293   91   72   1564   \n",
       "46                 Argentina   41   178   69   3    3  2211  127  118   2750   \n",
       "47                    Brazil  105   700  144   2   11  4768  230  287   6256   \n",
       "48                     Chile   25   201   62   0    1  1302   84   81   1756   \n",
       "49                  Colombia  126   586  227   0    1  5283  259  361   6845   \n",
       "50                      Peru   58   474  155   0    1  3891  204  209   4994   \n",
       "51                     India   94   868  230   0    0  4332  331  398   6255   \n",
       "52                 Indonesia  185  1392  323   0    3  6307  640  654   9508   \n",
       "53              South Africa   85   340  178   0    6  3720  189  213   4733   \n",
       "\n",
       "    Total_calc  Total_scraped  diff_to_calc  diff_to_scraped  \\\n",
       "1         4613         4615.0             3              1.0   \n",
       "14         273          272.0             0              1.0   \n",
       "34        4009         4008.0             0              1.0   \n",
       "35        6669         6669.0             1              1.0   \n",
       "36        2196         2195.0             0              1.0   \n",
       "37        7993         7994.0             5              4.0   \n",
       "40        2278         2277.0             0              1.0   \n",
       "42        8019         8020.0             3              2.0   \n",
       "43        2793         2795.0             3              1.0   \n",
       "44        1596         1594.0             0              2.0   \n",
       "45        1561         1562.0             3              2.0   \n",
       "46        2750         2748.0             0              2.0   \n",
       "47        6247         6249.0             9              7.0   \n",
       "48        1756         1754.0             0              2.0   \n",
       "49        6843         6840.0             2              5.0   \n",
       "50        4992         4991.0             2              3.0   \n",
       "51        6253         6253.0             2              2.0   \n",
       "52        9504         9502.0             4              6.0   \n",
       "53        4731         4732.0             2              1.0   \n",
       "\n",
       "    diff_calc_scraped  \n",
       "1                -2.0  \n",
       "14                1.0  \n",
       "34                1.0  \n",
       "35                0.0  \n",
       "36                1.0  \n",
       "37               -1.0  \n",
       "40                1.0  \n",
       "42               -1.0  \n",
       "43               -2.0  \n",
       "44                2.0  \n",
       "45               -1.0  \n",
       "46                2.0  \n",
       "47               -2.0  \n",
       "48                2.0  \n",
       "49                3.0  \n",
       "50                1.0  \n",
       "51                0.0  \n",
       "52                2.0  \n",
       "53               -1.0  "
      ],
      "text/html": "<div>\n<style scoped>\n    .dataframe tbody tr th:only-of-type {\n        vertical-align: middle;\n    }\n\n    .dataframe tbody tr th {\n        vertical-align: top;\n    }\n\n    .dataframe thead th {\n        text-align: right;\n    }\n</style>\n<table border=\"1\" class=\"dataframe\">\n  <thead>\n    <tr style=\"text-align: right;\">\n      <th></th>\n      <th>country</th>\n      <th>CR</th>\n      <th>DD</th>\n      <th>EN</th>\n      <th>EW</th>\n      <th>EX</th>\n      <th>LC</th>\n      <th>NT</th>\n      <th>VU</th>\n      <th>Total</th>\n      <th>Total_calc</th>\n      <th>Total_scraped</th>\n      <th>diff_to_calc</th>\n      <th>diff_to_scraped</th>\n      <th>diff_calc_scraped</th>\n    </tr>\n  </thead>\n  <tbody>\n    <tr>\n      <th>1</th>\n      <td>Japan</td>\n      <td>46</td>\n      <td>508</td>\n      <td>149</td>\n      <td>1</td>\n      <td>14</td>\n      <td>3372</td>\n      <td>267</td>\n      <td>256</td>\n      <td>4616</td>\n      <td>4613</td>\n      <td>4615.0</td>\n      <td>3</td>\n      <td>1.0</td>\n      <td>-2.0</td>\n    </tr>\n    <tr>\n      <th>14</th>\n      <td>Greenland</td>\n      <td>2</td>\n      <td>20</td>\n      <td>5</td>\n      <td>0</td>\n      <td>1</td>\n      <td>217</td>\n      <td>8</td>\n      <td>20</td>\n      <td>273</td>\n      <td>273</td>\n      <td>272.0</td>\n      <td>0</td>\n      <td>1.0</td>\n      <td>1.0</td>\n    </tr>\n    <tr>\n      <th>34</th>\n      <td>Costa Rica</td>\n      <td>35</td>\n      <td>235</td>\n      <td>82</td>\n      <td>0</td>\n      <td>4</td>\n      <td>3392</td>\n      <td>107</td>\n      <td>154</td>\n      <td>4009</td>\n      <td>4009</td>\n      <td>4008.0</td>\n      <td>0</td>\n      <td>1.0</td>\n      <td>1.0</td>\n    </tr>\n    <tr>\n      <th>35</th>\n      <td>Mexico</td>\n      <td>202</td>\n      <td>585</td>\n      <td>343</td>\n      <td>9</td>\n      <td>21</td>\n      <td>4930</td>\n      <td>217</td>\n      <td>362</td>\n      <td>6670</td>\n      <td>6669</td>\n      <td>6669.0</td>\n      <td>1</td>\n      <td>1.0</td>\n      <td>0.0</td>\n    </tr>\n    <tr>\n      <th>36</th>\n      <td>Canada</td>\n      <td>18</td>\n      <td>87</td>\n      <td>32</td>\n      <td>0</td>\n      <td>9</td>\n      <td>1902</td>\n      <td>64</td>\n      <td>84</td>\n      <td>2196</td>\n      <td>2196</td>\n      <td>2195.0</td>\n      <td>0</td>\n      <td>1.0</td>\n      <td>1.0</td>\n    </tr>\n    <tr>\n      <th>37</th>\n      <td>United States</td>\n      <td>224</td>\n      <td>609</td>\n      <td>298</td>\n      <td>4</td>\n      <td>237</td>\n      <td>5719</td>\n      <td>336</td>\n      <td>566</td>\n      <td>7998</td>\n      <td>7993</td>\n      <td>7994.0</td>\n      <td>5</td>\n      <td>4.0</td>\n      <td>-1.0</td>\n    </tr>\n    <tr>\n      <th>40</th>\n      <td>Russia</td>\n      <td>28</td>\n      <td>233</td>\n      <td>49</td>\n      <td>1</td>\n      <td>3</td>\n      <td>1735</td>\n      <td>118</td>\n      <td>111</td>\n      <td>2278</td>\n      <td>2278</td>\n      <td>2277.0</td>\n      <td>0</td>\n      <td>1.0</td>\n      <td>1.0</td>\n    </tr>\n    <tr>\n      <th>42</th>\n      <td>Australia</td>\n      <td>138</td>\n      <td>661</td>\n      <td>255</td>\n      <td>0</td>\n      <td>42</td>\n      <td>5868</td>\n      <td>442</td>\n      <td>613</td>\n      <td>8022</td>\n      <td>8019</td>\n      <td>8020.0</td>\n      <td>3</td>\n      <td>2.0</td>\n      <td>-1.0</td>\n    </tr>\n    <tr>\n      <th>43</th>\n      <td>New Caledonia</td>\n      <td>41</td>\n      <td>182</td>\n      <td>56</td>\n      <td>0</td>\n      <td>5</td>\n      <td>2187</td>\n      <td>163</td>\n      <td>159</td>\n      <td>2796</td>\n      <td>2793</td>\n      <td>2795.0</td>\n      <td>3</td>\n      <td>1.0</td>\n      <td>-2.0</td>\n    </tr>\n    <tr>\n      <th>44</th>\n      <td>New Zealand</td>\n      <td>45</td>\n      <td>210</td>\n      <td>77</td>\n      <td>0</td>\n      <td>23</td>\n      <td>1066</td>\n      <td>66</td>\n      <td>109</td>\n      <td>1596</td>\n      <td>1596</td>\n      <td>1594.0</td>\n      <td>0</td>\n      <td>2.0</td>\n      <td>2.0</td>\n    </tr>\n    <tr>\n      <th>45</th>\n      <td>Northern Mariana Islands</td>\n      <td>9</td>\n      <td>70</td>\n      <td>24</td>\n      <td>0</td>\n      <td>2</td>\n      <td>1293</td>\n      <td>91</td>\n      <td>72</td>\n      <td>1564</td>\n      <td>1561</td>\n      <td>1562.0</td>\n      <td>3</td>\n      <td>2.0</td>\n      <td>-1.0</td>\n    </tr>\n    <tr>\n      <th>46</th>\n      <td>Argentina</td>\n      <td>41</td>\n      <td>178</td>\n      <td>69</td>\n      <td>3</td>\n      <td>3</td>\n      <td>2211</td>\n      <td>127</td>\n      <td>118</td>\n      <td>2750</td>\n      <td>2750</td>\n      <td>2748.0</td>\n      <td>0</td>\n      <td>2.0</td>\n      <td>2.0</td>\n    </tr>\n    <tr>\n      <th>47</th>\n      <td>Brazil</td>\n      <td>105</td>\n      <td>700</td>\n      <td>144</td>\n      <td>2</td>\n      <td>11</td>\n      <td>4768</td>\n      <td>230</td>\n      <td>287</td>\n      <td>6256</td>\n      <td>6247</td>\n      <td>6249.0</td>\n      <td>9</td>\n      <td>7.0</td>\n      <td>-2.0</td>\n    </tr>\n    <tr>\n      <th>48</th>\n      <td>Chile</td>\n      <td>25</td>\n      <td>201</td>\n      <td>62</td>\n      <td>0</td>\n      <td>1</td>\n      <td>1302</td>\n      <td>84</td>\n      <td>81</td>\n      <td>1756</td>\n      <td>1756</td>\n      <td>1754.0</td>\n      <td>0</td>\n      <td>2.0</td>\n      <td>2.0</td>\n    </tr>\n    <tr>\n      <th>49</th>\n      <td>Colombia</td>\n      <td>126</td>\n      <td>586</td>\n      <td>227</td>\n      <td>0</td>\n      <td>1</td>\n      <td>5283</td>\n      <td>259</td>\n      <td>361</td>\n      <td>6845</td>\n      <td>6843</td>\n      <td>6840.0</td>\n      <td>2</td>\n      <td>5.0</td>\n      <td>3.0</td>\n    </tr>\n    <tr>\n      <th>50</th>\n      <td>Peru</td>\n      <td>58</td>\n      <td>474</td>\n      <td>155</td>\n      <td>0</td>\n      <td>1</td>\n      <td>3891</td>\n      <td>204</td>\n      <td>209</td>\n      <td>4994</td>\n      <td>4992</td>\n      <td>4991.0</td>\n      <td>2</td>\n      <td>3.0</td>\n      <td>1.0</td>\n    </tr>\n    <tr>\n      <th>51</th>\n      <td>India</td>\n      <td>94</td>\n      <td>868</td>\n      <td>230</td>\n      <td>0</td>\n      <td>0</td>\n      <td>4332</td>\n      <td>331</td>\n      <td>398</td>\n      <td>6255</td>\n      <td>6253</td>\n      <td>6253.0</td>\n      <td>2</td>\n      <td>2.0</td>\n      <td>0.0</td>\n    </tr>\n    <tr>\n      <th>52</th>\n      <td>Indonesia</td>\n      <td>185</td>\n      <td>1392</td>\n      <td>323</td>\n      <td>0</td>\n      <td>3</td>\n      <td>6307</td>\n      <td>640</td>\n      <td>654</td>\n      <td>9508</td>\n      <td>9504</td>\n      <td>9502.0</td>\n      <td>4</td>\n      <td>6.0</td>\n      <td>2.0</td>\n    </tr>\n    <tr>\n      <th>53</th>\n      <td>South Africa</td>\n      <td>85</td>\n      <td>340</td>\n      <td>178</td>\n      <td>0</td>\n      <td>6</td>\n      <td>3720</td>\n      <td>189</td>\n      <td>213</td>\n      <td>4733</td>\n      <td>4731</td>\n      <td>4732.0</td>\n      <td>2</td>\n      <td>1.0</td>\n      <td>-1.0</td>\n    </tr>\n  </tbody>\n</table>\n</div>"
     },
     "metadata": {},
     "execution_count": 69
    }
   ],
   "source": [
    "test[test['diff_to_scraped'] > 0]"
   ]
  },
  {
   "cell_type": "code",
   "execution_count": 70,
   "metadata": {},
   "outputs": [
    {
     "output_type": "execute_result",
     "data": {
      "text/plain": [
       "        country   CR    DD   EN  EW  EX    LC   NT   VU  Total  Total_calc  \\\n",
       "14    Greenland    2    20    5   0   1   217    8   20    273         273   \n",
       "34   Costa Rica   35   235   82   0   4  3392  107  154   4009        4009   \n",
       "36       Canada   18    87   32   0   9  1902   64   84   2196        2196   \n",
       "40       Russia   28   233   49   1   3  1735  118  111   2278        2278   \n",
       "44  New Zealand   45   210   77   0  23  1066   66  109   1596        1596   \n",
       "46    Argentina   41   178   69   3   3  2211  127  118   2750        2750   \n",
       "48        Chile   25   201   62   0   1  1302   84   81   1756        1756   \n",
       "49     Colombia  126   586  227   0   1  5283  259  361   6845        6843   \n",
       "50         Peru   58   474  155   0   1  3891  204  209   4994        4992   \n",
       "52    Indonesia  185  1392  323   0   3  6307  640  654   9508        9504   \n",
       "\n",
       "    Total_scraped  diff_to_calc  diff_to_scraped  diff_calc_scraped  \n",
       "14          272.0             0              1.0                1.0  \n",
       "34         4008.0             0              1.0                1.0  \n",
       "36         2195.0             0              1.0                1.0  \n",
       "40         2277.0             0              1.0                1.0  \n",
       "44         1594.0             0              2.0                2.0  \n",
       "46         2748.0             0              2.0                2.0  \n",
       "48         1754.0             0              2.0                2.0  \n",
       "49         6840.0             2              5.0                3.0  \n",
       "50         4991.0             2              3.0                1.0  \n",
       "52         9502.0             4              6.0                2.0  "
      ],
      "text/html": "<div>\n<style scoped>\n    .dataframe tbody tr th:only-of-type {\n        vertical-align: middle;\n    }\n\n    .dataframe tbody tr th {\n        vertical-align: top;\n    }\n\n    .dataframe thead th {\n        text-align: right;\n    }\n</style>\n<table border=\"1\" class=\"dataframe\">\n  <thead>\n    <tr style=\"text-align: right;\">\n      <th></th>\n      <th>country</th>\n      <th>CR</th>\n      <th>DD</th>\n      <th>EN</th>\n      <th>EW</th>\n      <th>EX</th>\n      <th>LC</th>\n      <th>NT</th>\n      <th>VU</th>\n      <th>Total</th>\n      <th>Total_calc</th>\n      <th>Total_scraped</th>\n      <th>diff_to_calc</th>\n      <th>diff_to_scraped</th>\n      <th>diff_calc_scraped</th>\n    </tr>\n  </thead>\n  <tbody>\n    <tr>\n      <th>14</th>\n      <td>Greenland</td>\n      <td>2</td>\n      <td>20</td>\n      <td>5</td>\n      <td>0</td>\n      <td>1</td>\n      <td>217</td>\n      <td>8</td>\n      <td>20</td>\n      <td>273</td>\n      <td>273</td>\n      <td>272.0</td>\n      <td>0</td>\n      <td>1.0</td>\n      <td>1.0</td>\n    </tr>\n    <tr>\n      <th>34</th>\n      <td>Costa Rica</td>\n      <td>35</td>\n      <td>235</td>\n      <td>82</td>\n      <td>0</td>\n      <td>4</td>\n      <td>3392</td>\n      <td>107</td>\n      <td>154</td>\n      <td>4009</td>\n      <td>4009</td>\n      <td>4008.0</td>\n      <td>0</td>\n      <td>1.0</td>\n      <td>1.0</td>\n    </tr>\n    <tr>\n      <th>36</th>\n      <td>Canada</td>\n      <td>18</td>\n      <td>87</td>\n      <td>32</td>\n      <td>0</td>\n      <td>9</td>\n      <td>1902</td>\n      <td>64</td>\n      <td>84</td>\n      <td>2196</td>\n      <td>2196</td>\n      <td>2195.0</td>\n      <td>0</td>\n      <td>1.0</td>\n      <td>1.0</td>\n    </tr>\n    <tr>\n      <th>40</th>\n      <td>Russia</td>\n      <td>28</td>\n      <td>233</td>\n      <td>49</td>\n      <td>1</td>\n      <td>3</td>\n      <td>1735</td>\n      <td>118</td>\n      <td>111</td>\n      <td>2278</td>\n      <td>2278</td>\n      <td>2277.0</td>\n      <td>0</td>\n      <td>1.0</td>\n      <td>1.0</td>\n    </tr>\n    <tr>\n      <th>44</th>\n      <td>New Zealand</td>\n      <td>45</td>\n      <td>210</td>\n      <td>77</td>\n      <td>0</td>\n      <td>23</td>\n      <td>1066</td>\n      <td>66</td>\n      <td>109</td>\n      <td>1596</td>\n      <td>1596</td>\n      <td>1594.0</td>\n      <td>0</td>\n      <td>2.0</td>\n      <td>2.0</td>\n    </tr>\n    <tr>\n      <th>46</th>\n      <td>Argentina</td>\n      <td>41</td>\n      <td>178</td>\n      <td>69</td>\n      <td>3</td>\n      <td>3</td>\n      <td>2211</td>\n      <td>127</td>\n      <td>118</td>\n      <td>2750</td>\n      <td>2750</td>\n      <td>2748.0</td>\n      <td>0</td>\n      <td>2.0</td>\n      <td>2.0</td>\n    </tr>\n    <tr>\n      <th>48</th>\n      <td>Chile</td>\n      <td>25</td>\n      <td>201</td>\n      <td>62</td>\n      <td>0</td>\n      <td>1</td>\n      <td>1302</td>\n      <td>84</td>\n      <td>81</td>\n      <td>1756</td>\n      <td>1756</td>\n      <td>1754.0</td>\n      <td>0</td>\n      <td>2.0</td>\n      <td>2.0</td>\n    </tr>\n    <tr>\n      <th>49</th>\n      <td>Colombia</td>\n      <td>126</td>\n      <td>586</td>\n      <td>227</td>\n      <td>0</td>\n      <td>1</td>\n      <td>5283</td>\n      <td>259</td>\n      <td>361</td>\n      <td>6845</td>\n      <td>6843</td>\n      <td>6840.0</td>\n      <td>2</td>\n      <td>5.0</td>\n      <td>3.0</td>\n    </tr>\n    <tr>\n      <th>50</th>\n      <td>Peru</td>\n      <td>58</td>\n      <td>474</td>\n      <td>155</td>\n      <td>0</td>\n      <td>1</td>\n      <td>3891</td>\n      <td>204</td>\n      <td>209</td>\n      <td>4994</td>\n      <td>4992</td>\n      <td>4991.0</td>\n      <td>2</td>\n      <td>3.0</td>\n      <td>1.0</td>\n    </tr>\n    <tr>\n      <th>52</th>\n      <td>Indonesia</td>\n      <td>185</td>\n      <td>1392</td>\n      <td>323</td>\n      <td>0</td>\n      <td>3</td>\n      <td>6307</td>\n      <td>640</td>\n      <td>654</td>\n      <td>9508</td>\n      <td>9504</td>\n      <td>9502.0</td>\n      <td>4</td>\n      <td>6.0</td>\n      <td>2.0</td>\n    </tr>\n  </tbody>\n</table>\n</div>"
     },
     "metadata": {},
     "execution_count": 70
    }
   ],
   "source": [
    "test[test['diff_calc_scraped'] > 0]"
   ]
  },
  {
   "cell_type": "code",
   "execution_count": 71,
   "metadata": {},
   "outputs": [],
   "source": [
    "# how can this be explaned ? do I need to calculate something differen for some categorys?\n",
    "# how to explain this difference in scraped data and data in the table ? data on probaply newer than summary statistics"
   ]
  },
  {
   "source": [
    "## Create relative numbers per group\n",
    "\n",
    "As we want to know the Relative numbers of species in each group we transform our current data."
   ],
   "cell_type": "markdown",
   "metadata": {}
  },
  {
   "cell_type": "code",
   "execution_count": 72,
   "metadata": {},
   "outputs": [],
   "source": [
    "def threatened_by_group(species_by_country):\n",
    "    relative_threatened = []\n",
    "    # iterate all groups of animals and the total relative value\n",
    "    groups = ['total'] + list(species_by_country.group.unique())\n",
    "    for group in groups:\n",
    "        filtered = species_by_country\n",
    "        if group != 'total':\n",
    "            filtered = species_by_country[species_by_country.group == group]\n",
    "        # count the number of species for each threat level\n",
    "        grouped = filtered.groupby(['country', 'threat_level'])['scientific_name']\n",
    "        grouped = grouped.count().reset_index(name='count')\n",
    "        # transform data so we have the value counts per threat level in the DataFrame\n",
    "        current_group = grouped.pivot(index='country', columns='threat_level', values='count')\n",
    "        # fill nan values because if there are no species by one threat level we have NaNs\n",
    "        current_group = current_group.fillna(0.0)\n",
    "        # calculate relative numbers\n",
    "        relative = current_group[['CR', 'EN', 'VU']].sum(axis=1) / current_group.sum(axis=1)\n",
    "        # rename the column\n",
    "        relative = relative.to_frame(f'{group}_threatened').round(4)\n",
    "        relative_threatened.append(relative)\n",
    "\n",
    "    combined_data = pd.concat(relative_threatened, axis=1)\n",
    "    # fill nan values because if there are no species in one group and country we have NaNs\n",
    "    combined_data = combined_data.fillna(0.0)\n",
    "\n",
    "    return combined_data\n",
    "\n",
    "threatened_by_group = threatened_by_group(IUCN_cleaned_data)\n",
    "\n",
    "# save data \n",
    "threatened_by_group.to_csv('./data/IUCN/THREATENED_RELATIVE_BY_GROUP.csv')"
   ]
  },
  {
   "cell_type": "markdown",
   "metadata": {},
   "source": [
    "# Inspect species"
   ]
  },
  {
   "cell_type": "code",
   "execution_count": 73,
   "metadata": {},
   "outputs": [
    {
     "output_type": "execute_result",
     "data": {
      "text/plain": [
       "(28080, 4)"
      ]
     },
     "metadata": {},
     "execution_count": 73
    }
   ],
   "source": [
    "# number of unique animal species in all countrys\n",
    "species = IUCN_cleaned_data.drop(columns=['country']).drop_duplicates()\n",
    "species.shape"
   ]
  },
  {
   "cell_type": "code",
   "execution_count": 74,
   "metadata": {},
   "outputs": [
    {
     "output_type": "execute_result",
     "data": {
      "text/plain": [
       "<AxesSubplot:>"
      ]
     },
     "metadata": {},
     "execution_count": 74
    },
    {
     "output_type": "display_data",
     "data": {
      "text/plain": "<Figure size 432x288 with 1 Axes>",
      "image/svg+xml": "<?xml version=\"1.0\" encoding=\"utf-8\" standalone=\"no\"?>\n<!DOCTYPE svg PUBLIC \"-//W3C//DTD SVG 1.1//EN\"\n  \"http://www.w3.org/Graphics/SVG/1.1/DTD/svg11.dtd\">\n<!-- Created with matplotlib (https://matplotlib.org/) -->\n<svg height=\"296.974375pt\" version=\"1.1\" viewBox=\"0 0 381.65 296.974375\" width=\"381.65pt\" xmlns=\"http://www.w3.org/2000/svg\" xmlns:xlink=\"http://www.w3.org/1999/xlink\">\n <metadata>\n  <rdf:RDF xmlns:cc=\"http://creativecommons.org/ns#\" xmlns:dc=\"http://purl.org/dc/elements/1.1/\" xmlns:rdf=\"http://www.w3.org/1999/02/22-rdf-syntax-ns#\">\n   <cc:Work>\n    <dc:type rdf:resource=\"http://purl.org/dc/dcmitype/StillImage\"/>\n    <dc:date>2021-01-20T16:18:56.833582</dc:date>\n    <dc:format>image/svg+xml</dc:format>\n    <dc:creator>\n     <cc:Agent>\n      <dc:title>Matplotlib v3.3.2, https://matplotlib.org/</dc:title>\n     </cc:Agent>\n    </dc:creator>\n   </cc:Work>\n  </rdf:RDF>\n </metadata>\n <defs>\n  <style type=\"text/css\">*{stroke-linecap:butt;stroke-linejoin:round;}</style>\n </defs>\n <g id=\"figure_1\">\n  <g id=\"patch_1\">\n   <path d=\"M -0 296.974375 \nL 381.65 296.974375 \nL 381.65 0 \nL -0 0 \nz\n\" style=\"fill:none;\"/>\n  </g>\n  <g id=\"axes_1\">\n   <g id=\"patch_2\">\n    <path d=\"M 39.65 224.64 \nL 374.45 224.64 \nL 374.45 7.2 \nL 39.65 7.2 \nz\n\" style=\"fill:#ffffff;\"/>\n   </g>\n   <g id=\"patch_3\">\n    <path clip-path=\"url(#pfe830df7b7)\" d=\"M 56.39 224.64 \nL 89.87 224.64 \nL 89.87 17.554286 \nL 56.39 17.554286 \nz\n\" style=\"fill:#1f77b4;\"/>\n   </g>\n   <g id=\"patch_4\">\n    <path clip-path=\"url(#pfe830df7b7)\" d=\"M 123.35 224.64 \nL 156.83 224.64 \nL 156.83 56.558301 \nL 123.35 56.558301 \nz\n\" style=\"fill:#1f77b4;\"/>\n   </g>\n   <g id=\"patch_5\">\n    <path clip-path=\"url(#pfe830df7b7)\" d=\"M 190.31 224.64 \nL 223.79 224.64 \nL 223.79 103.146431 \nL 190.31 103.146431 \nz\n\" style=\"fill:#1f77b4;\"/>\n   </g>\n   <g id=\"patch_6\">\n    <path clip-path=\"url(#pfe830df7b7)\" d=\"M 257.27 224.64 \nL 290.75 224.64 \nL 290.75 126.489744 \nL 257.27 126.489744 \nz\n\" style=\"fill:#1f77b4;\"/>\n   </g>\n   <g id=\"patch_7\">\n    <path clip-path=\"url(#pfe830df7b7)\" d=\"M 324.23 224.64 \nL 357.71 224.64 \nL 357.71 128.016416 \nL 324.23 128.016416 \nz\n\" style=\"fill:#1f77b4;\"/>\n   </g>\n   <g id=\"matplotlib.axis_1\">\n    <g id=\"xtick_1\">\n     <g id=\"line2d_1\">\n      <defs>\n       <path d=\"M 0 0 \nL 0 3.5 \n\" id=\"m56429a9be0\" style=\"stroke:#000000;stroke-width:0.8;\"/>\n      </defs>\n      <g>\n       <use style=\"stroke:#000000;stroke-width:0.8;\" x=\"73.13\" xlink:href=\"#m56429a9be0\" y=\"224.64\"/>\n      </g>\n     </g>\n     <g id=\"text_1\">\n      <!-- birds -->\n      <g transform=\"translate(75.889375 256.260312)rotate(-90)scale(0.1 -0.1)\">\n       <defs>\n        <path d=\"M 48.6875 27.296875 \nQ 48.6875 37.203125 44.609375 42.84375 \nQ 40.53125 48.484375 33.40625 48.484375 \nQ 26.265625 48.484375 22.1875 42.84375 \nQ 18.109375 37.203125 18.109375 27.296875 \nQ 18.109375 17.390625 22.1875 11.75 \nQ 26.265625 6.109375 33.40625 6.109375 \nQ 40.53125 6.109375 44.609375 11.75 \nQ 48.6875 17.390625 48.6875 27.296875 \nz\nM 18.109375 46.390625 \nQ 20.953125 51.265625 25.265625 53.625 \nQ 29.59375 56 35.59375 56 \nQ 45.5625 56 51.78125 48.09375 \nQ 58.015625 40.1875 58.015625 27.296875 \nQ 58.015625 14.40625 51.78125 6.484375 \nQ 45.5625 -1.421875 35.59375 -1.421875 \nQ 29.59375 -1.421875 25.265625 0.953125 \nQ 20.953125 3.328125 18.109375 8.203125 \nL 18.109375 0 \nL 9.078125 0 \nL 9.078125 75.984375 \nL 18.109375 75.984375 \nz\n\" id=\"DejaVuSans-98\"/>\n        <path d=\"M 9.421875 54.6875 \nL 18.40625 54.6875 \nL 18.40625 0 \nL 9.421875 0 \nz\nM 9.421875 75.984375 \nL 18.40625 75.984375 \nL 18.40625 64.59375 \nL 9.421875 64.59375 \nz\n\" id=\"DejaVuSans-105\"/>\n        <path d=\"M 41.109375 46.296875 \nQ 39.59375 47.171875 37.8125 47.578125 \nQ 36.03125 48 33.890625 48 \nQ 26.265625 48 22.1875 43.046875 \nQ 18.109375 38.09375 18.109375 28.8125 \nL 18.109375 0 \nL 9.078125 0 \nL 9.078125 54.6875 \nL 18.109375 54.6875 \nL 18.109375 46.1875 \nQ 20.953125 51.171875 25.484375 53.578125 \nQ 30.03125 56 36.53125 56 \nQ 37.453125 56 38.578125 55.875 \nQ 39.703125 55.765625 41.0625 55.515625 \nz\n\" id=\"DejaVuSans-114\"/>\n        <path d=\"M 45.40625 46.390625 \nL 45.40625 75.984375 \nL 54.390625 75.984375 \nL 54.390625 0 \nL 45.40625 0 \nL 45.40625 8.203125 \nQ 42.578125 3.328125 38.25 0.953125 \nQ 33.9375 -1.421875 27.875 -1.421875 \nQ 17.96875 -1.421875 11.734375 6.484375 \nQ 5.515625 14.40625 5.515625 27.296875 \nQ 5.515625 40.1875 11.734375 48.09375 \nQ 17.96875 56 27.875 56 \nQ 33.9375 56 38.25 53.625 \nQ 42.578125 51.265625 45.40625 46.390625 \nz\nM 14.796875 27.296875 \nQ 14.796875 17.390625 18.875 11.75 \nQ 22.953125 6.109375 30.078125 6.109375 \nQ 37.203125 6.109375 41.296875 11.75 \nQ 45.40625 17.390625 45.40625 27.296875 \nQ 45.40625 37.203125 41.296875 42.84375 \nQ 37.203125 48.484375 30.078125 48.484375 \nQ 22.953125 48.484375 18.875 42.84375 \nQ 14.796875 37.203125 14.796875 27.296875 \nz\n\" id=\"DejaVuSans-100\"/>\n        <path d=\"M 44.28125 53.078125 \nL 44.28125 44.578125 \nQ 40.484375 46.53125 36.375 47.5 \nQ 32.28125 48.484375 27.875 48.484375 \nQ 21.1875 48.484375 17.84375 46.4375 \nQ 14.5 44.390625 14.5 40.28125 \nQ 14.5 37.15625 16.890625 35.375 \nQ 19.28125 33.59375 26.515625 31.984375 \nL 29.59375 31.296875 \nQ 39.15625 29.25 43.1875 25.515625 \nQ 47.21875 21.78125 47.21875 15.09375 \nQ 47.21875 7.46875 41.1875 3.015625 \nQ 35.15625 -1.421875 24.609375 -1.421875 \nQ 20.21875 -1.421875 15.453125 -0.5625 \nQ 10.6875 0.296875 5.421875 2 \nL 5.421875 11.28125 \nQ 10.40625 8.6875 15.234375 7.390625 \nQ 20.0625 6.109375 24.8125 6.109375 \nQ 31.15625 6.109375 34.5625 8.28125 \nQ 37.984375 10.453125 37.984375 14.40625 \nQ 37.984375 18.0625 35.515625 20.015625 \nQ 33.0625 21.96875 24.703125 23.78125 \nL 21.578125 24.515625 \nQ 13.234375 26.265625 9.515625 29.90625 \nQ 5.8125 33.546875 5.8125 39.890625 \nQ 5.8125 47.609375 11.28125 51.796875 \nQ 16.75 56 26.8125 56 \nQ 31.78125 56 36.171875 55.265625 \nQ 40.578125 54.546875 44.28125 53.078125 \nz\n\" id=\"DejaVuSans-115\"/>\n       </defs>\n       <use xlink:href=\"#DejaVuSans-98\"/>\n       <use x=\"63.476562\" xlink:href=\"#DejaVuSans-105\"/>\n       <use x=\"91.259766\" xlink:href=\"#DejaVuSans-114\"/>\n       <use x=\"130.623047\" xlink:href=\"#DejaVuSans-100\"/>\n       <use x=\"194.099609\" xlink:href=\"#DejaVuSans-115\"/>\n      </g>\n     </g>\n    </g>\n    <g id=\"xtick_2\">\n     <g id=\"line2d_2\">\n      <g>\n       <use style=\"stroke:#000000;stroke-width:0.8;\" x=\"140.09\" xlink:href=\"#m56429a9be0\" y=\"224.64\"/>\n      </g>\n     </g>\n     <g id=\"text_2\">\n      <!-- insects -->\n      <g transform=\"translate(142.849375 266.74625)rotate(-90)scale(0.1 -0.1)\">\n       <defs>\n        <path d=\"M 54.890625 33.015625 \nL 54.890625 0 \nL 45.90625 0 \nL 45.90625 32.71875 \nQ 45.90625 40.484375 42.875 44.328125 \nQ 39.84375 48.1875 33.796875 48.1875 \nQ 26.515625 48.1875 22.3125 43.546875 \nQ 18.109375 38.921875 18.109375 30.90625 \nL 18.109375 0 \nL 9.078125 0 \nL 9.078125 54.6875 \nL 18.109375 54.6875 \nL 18.109375 46.1875 \nQ 21.34375 51.125 25.703125 53.5625 \nQ 30.078125 56 35.796875 56 \nQ 45.21875 56 50.046875 50.171875 \nQ 54.890625 44.34375 54.890625 33.015625 \nz\n\" id=\"DejaVuSans-110\"/>\n        <path d=\"M 56.203125 29.59375 \nL 56.203125 25.203125 \nL 14.890625 25.203125 \nQ 15.484375 15.921875 20.484375 11.0625 \nQ 25.484375 6.203125 34.421875 6.203125 \nQ 39.59375 6.203125 44.453125 7.46875 \nQ 49.3125 8.734375 54.109375 11.28125 \nL 54.109375 2.78125 \nQ 49.265625 0.734375 44.1875 -0.34375 \nQ 39.109375 -1.421875 33.890625 -1.421875 \nQ 20.796875 -1.421875 13.15625 6.1875 \nQ 5.515625 13.8125 5.515625 26.8125 \nQ 5.515625 40.234375 12.765625 48.109375 \nQ 20.015625 56 32.328125 56 \nQ 43.359375 56 49.78125 48.890625 \nQ 56.203125 41.796875 56.203125 29.59375 \nz\nM 47.21875 32.234375 \nQ 47.125 39.59375 43.09375 43.984375 \nQ 39.0625 48.390625 32.421875 48.390625 \nQ 24.90625 48.390625 20.390625 44.140625 \nQ 15.875 39.890625 15.1875 32.171875 \nz\n\" id=\"DejaVuSans-101\"/>\n        <path d=\"M 48.78125 52.59375 \nL 48.78125 44.1875 \nQ 44.96875 46.296875 41.140625 47.34375 \nQ 37.3125 48.390625 33.40625 48.390625 \nQ 24.65625 48.390625 19.8125 42.84375 \nQ 14.984375 37.3125 14.984375 27.296875 \nQ 14.984375 17.28125 19.8125 11.734375 \nQ 24.65625 6.203125 33.40625 6.203125 \nQ 37.3125 6.203125 41.140625 7.25 \nQ 44.96875 8.296875 48.78125 10.40625 \nL 48.78125 2.09375 \nQ 45.015625 0.34375 40.984375 -0.53125 \nQ 36.96875 -1.421875 32.421875 -1.421875 \nQ 20.0625 -1.421875 12.78125 6.34375 \nQ 5.515625 14.109375 5.515625 27.296875 \nQ 5.515625 40.671875 12.859375 48.328125 \nQ 20.21875 56 33.015625 56 \nQ 37.15625 56 41.109375 55.140625 \nQ 45.0625 54.296875 48.78125 52.59375 \nz\n\" id=\"DejaVuSans-99\"/>\n        <path d=\"M 18.3125 70.21875 \nL 18.3125 54.6875 \nL 36.8125 54.6875 \nL 36.8125 47.703125 \nL 18.3125 47.703125 \nL 18.3125 18.015625 \nQ 18.3125 11.328125 20.140625 9.421875 \nQ 21.96875 7.515625 27.59375 7.515625 \nL 36.8125 7.515625 \nL 36.8125 0 \nL 27.59375 0 \nQ 17.1875 0 13.234375 3.875 \nQ 9.28125 7.765625 9.28125 18.015625 \nL 9.28125 47.703125 \nL 2.6875 47.703125 \nL 2.6875 54.6875 \nL 9.28125 54.6875 \nL 9.28125 70.21875 \nz\n\" id=\"DejaVuSans-116\"/>\n       </defs>\n       <use xlink:href=\"#DejaVuSans-105\"/>\n       <use x=\"27.783203\" xlink:href=\"#DejaVuSans-110\"/>\n       <use x=\"91.162109\" xlink:href=\"#DejaVuSans-115\"/>\n       <use x=\"143.261719\" xlink:href=\"#DejaVuSans-101\"/>\n       <use x=\"204.785156\" xlink:href=\"#DejaVuSans-99\"/>\n       <use x=\"259.765625\" xlink:href=\"#DejaVuSans-116\"/>\n       <use x=\"298.974609\" xlink:href=\"#DejaVuSans-115\"/>\n      </g>\n     </g>\n    </g>\n    <g id=\"xtick_3\">\n     <g id=\"line2d_3\">\n      <g>\n       <use style=\"stroke:#000000;stroke-width:0.8;\" x=\"207.05\" xlink:href=\"#m56429a9be0\" y=\"224.64\"/>\n      </g>\n     </g>\n     <g id=\"text_3\">\n      <!-- reptiles -->\n      <g transform=\"translate(209.809375 268.866562)rotate(-90)scale(0.1 -0.1)\">\n       <defs>\n        <path d=\"M 18.109375 8.203125 \nL 18.109375 -20.796875 \nL 9.078125 -20.796875 \nL 9.078125 54.6875 \nL 18.109375 54.6875 \nL 18.109375 46.390625 \nQ 20.953125 51.265625 25.265625 53.625 \nQ 29.59375 56 35.59375 56 \nQ 45.5625 56 51.78125 48.09375 \nQ 58.015625 40.1875 58.015625 27.296875 \nQ 58.015625 14.40625 51.78125 6.484375 \nQ 45.5625 -1.421875 35.59375 -1.421875 \nQ 29.59375 -1.421875 25.265625 0.953125 \nQ 20.953125 3.328125 18.109375 8.203125 \nz\nM 48.6875 27.296875 \nQ 48.6875 37.203125 44.609375 42.84375 \nQ 40.53125 48.484375 33.40625 48.484375 \nQ 26.265625 48.484375 22.1875 42.84375 \nQ 18.109375 37.203125 18.109375 27.296875 \nQ 18.109375 17.390625 22.1875 11.75 \nQ 26.265625 6.109375 33.40625 6.109375 \nQ 40.53125 6.109375 44.609375 11.75 \nQ 48.6875 17.390625 48.6875 27.296875 \nz\n\" id=\"DejaVuSans-112\"/>\n        <path d=\"M 9.421875 75.984375 \nL 18.40625 75.984375 \nL 18.40625 0 \nL 9.421875 0 \nz\n\" id=\"DejaVuSans-108\"/>\n       </defs>\n       <use xlink:href=\"#DejaVuSans-114\"/>\n       <use x=\"38.863281\" xlink:href=\"#DejaVuSans-101\"/>\n       <use x=\"100.386719\" xlink:href=\"#DejaVuSans-112\"/>\n       <use x=\"163.863281\" xlink:href=\"#DejaVuSans-116\"/>\n       <use x=\"203.072266\" xlink:href=\"#DejaVuSans-105\"/>\n       <use x=\"230.855469\" xlink:href=\"#DejaVuSans-108\"/>\n       <use x=\"258.638672\" xlink:href=\"#DejaVuSans-101\"/>\n       <use x=\"320.162109\" xlink:href=\"#DejaVuSans-115\"/>\n      </g>\n     </g>\n    </g>\n    <g id=\"xtick_4\">\n     <g id=\"line2d_4\">\n      <g>\n       <use style=\"stroke:#000000;stroke-width:0.8;\" x=\"274.01\" xlink:href=\"#m56429a9be0\" y=\"224.64\"/>\n      </g>\n     </g>\n     <g id=\"text_4\">\n      <!-- amphibians -->\n      <g transform=\"translate(276.769375 289.774375)rotate(-90)scale(0.1 -0.1)\">\n       <defs>\n        <path d=\"M 34.28125 27.484375 \nQ 23.390625 27.484375 19.1875 25 \nQ 14.984375 22.515625 14.984375 16.5 \nQ 14.984375 11.71875 18.140625 8.90625 \nQ 21.296875 6.109375 26.703125 6.109375 \nQ 34.1875 6.109375 38.703125 11.40625 \nQ 43.21875 16.703125 43.21875 25.484375 \nL 43.21875 27.484375 \nz\nM 52.203125 31.203125 \nL 52.203125 0 \nL 43.21875 0 \nL 43.21875 8.296875 \nQ 40.140625 3.328125 35.546875 0.953125 \nQ 30.953125 -1.421875 24.3125 -1.421875 \nQ 15.921875 -1.421875 10.953125 3.296875 \nQ 6 8.015625 6 15.921875 \nQ 6 25.140625 12.171875 29.828125 \nQ 18.359375 34.515625 30.609375 34.515625 \nL 43.21875 34.515625 \nL 43.21875 35.40625 \nQ 43.21875 41.609375 39.140625 45 \nQ 35.0625 48.390625 27.6875 48.390625 \nQ 23 48.390625 18.546875 47.265625 \nQ 14.109375 46.140625 10.015625 43.890625 \nL 10.015625 52.203125 \nQ 14.9375 54.109375 19.578125 55.046875 \nQ 24.21875 56 28.609375 56 \nQ 40.484375 56 46.34375 49.84375 \nQ 52.203125 43.703125 52.203125 31.203125 \nz\n\" id=\"DejaVuSans-97\"/>\n        <path d=\"M 52 44.1875 \nQ 55.375 50.25 60.0625 53.125 \nQ 64.75 56 71.09375 56 \nQ 79.640625 56 84.28125 50.015625 \nQ 88.921875 44.046875 88.921875 33.015625 \nL 88.921875 0 \nL 79.890625 0 \nL 79.890625 32.71875 \nQ 79.890625 40.578125 77.09375 44.375 \nQ 74.3125 48.1875 68.609375 48.1875 \nQ 61.625 48.1875 57.5625 43.546875 \nQ 53.515625 38.921875 53.515625 30.90625 \nL 53.515625 0 \nL 44.484375 0 \nL 44.484375 32.71875 \nQ 44.484375 40.625 41.703125 44.40625 \nQ 38.921875 48.1875 33.109375 48.1875 \nQ 26.21875 48.1875 22.15625 43.53125 \nQ 18.109375 38.875 18.109375 30.90625 \nL 18.109375 0 \nL 9.078125 0 \nL 9.078125 54.6875 \nL 18.109375 54.6875 \nL 18.109375 46.1875 \nQ 21.1875 51.21875 25.484375 53.609375 \nQ 29.78125 56 35.6875 56 \nQ 41.65625 56 45.828125 52.96875 \nQ 50 49.953125 52 44.1875 \nz\n\" id=\"DejaVuSans-109\"/>\n        <path d=\"M 54.890625 33.015625 \nL 54.890625 0 \nL 45.90625 0 \nL 45.90625 32.71875 \nQ 45.90625 40.484375 42.875 44.328125 \nQ 39.84375 48.1875 33.796875 48.1875 \nQ 26.515625 48.1875 22.3125 43.546875 \nQ 18.109375 38.921875 18.109375 30.90625 \nL 18.109375 0 \nL 9.078125 0 \nL 9.078125 75.984375 \nL 18.109375 75.984375 \nL 18.109375 46.1875 \nQ 21.34375 51.125 25.703125 53.5625 \nQ 30.078125 56 35.796875 56 \nQ 45.21875 56 50.046875 50.171875 \nQ 54.890625 44.34375 54.890625 33.015625 \nz\n\" id=\"DejaVuSans-104\"/>\n       </defs>\n       <use xlink:href=\"#DejaVuSans-97\"/>\n       <use x=\"61.279297\" xlink:href=\"#DejaVuSans-109\"/>\n       <use x=\"158.691406\" xlink:href=\"#DejaVuSans-112\"/>\n       <use x=\"222.167969\" xlink:href=\"#DejaVuSans-104\"/>\n       <use x=\"285.546875\" xlink:href=\"#DejaVuSans-105\"/>\n       <use x=\"313.330078\" xlink:href=\"#DejaVuSans-98\"/>\n       <use x=\"376.806641\" xlink:href=\"#DejaVuSans-105\"/>\n       <use x=\"404.589844\" xlink:href=\"#DejaVuSans-97\"/>\n       <use x=\"465.869141\" xlink:href=\"#DejaVuSans-110\"/>\n       <use x=\"529.248047\" xlink:href=\"#DejaVuSans-115\"/>\n      </g>\n     </g>\n    </g>\n    <g id=\"xtick_5\">\n     <g id=\"line2d_5\">\n      <g>\n       <use style=\"stroke:#000000;stroke-width:0.8;\" x=\"340.97\" xlink:href=\"#m56429a9be0\" y=\"224.64\"/>\n      </g>\n     </g>\n     <g id=\"text_5\">\n      <!-- mammals -->\n      <g transform=\"translate(343.729375 281.105625)rotate(-90)scale(0.1 -0.1)\">\n       <use xlink:href=\"#DejaVuSans-109\"/>\n       <use x=\"97.412109\" xlink:href=\"#DejaVuSans-97\"/>\n       <use x=\"158.691406\" xlink:href=\"#DejaVuSans-109\"/>\n       <use x=\"256.103516\" xlink:href=\"#DejaVuSans-109\"/>\n       <use x=\"353.515625\" xlink:href=\"#DejaVuSans-97\"/>\n       <use x=\"414.794922\" xlink:href=\"#DejaVuSans-108\"/>\n       <use x=\"442.578125\" xlink:href=\"#DejaVuSans-115\"/>\n      </g>\n     </g>\n    </g>\n   </g>\n   <g id=\"matplotlib.axis_2\">\n    <g id=\"ytick_1\">\n     <g id=\"line2d_6\">\n      <defs>\n       <path d=\"M 0 0 \nL -3.5 0 \n\" id=\"me62ae18fc7\" style=\"stroke:#000000;stroke-width:0.8;\"/>\n      </defs>\n      <g>\n       <use style=\"stroke:#000000;stroke-width:0.8;\" x=\"39.65\" xlink:href=\"#me62ae18fc7\" y=\"224.64\"/>\n      </g>\n     </g>\n     <g id=\"text_6\">\n      <!-- 0 -->\n      <g transform=\"translate(26.2875 228.439219)scale(0.1 -0.1)\">\n       <defs>\n        <path d=\"M 31.78125 66.40625 \nQ 24.171875 66.40625 20.328125 58.90625 \nQ 16.5 51.421875 16.5 36.375 \nQ 16.5 21.390625 20.328125 13.890625 \nQ 24.171875 6.390625 31.78125 6.390625 \nQ 39.453125 6.390625 43.28125 13.890625 \nQ 47.125 21.390625 47.125 36.375 \nQ 47.125 51.421875 43.28125 58.90625 \nQ 39.453125 66.40625 31.78125 66.40625 \nz\nM 31.78125 74.21875 \nQ 44.046875 74.21875 50.515625 64.515625 \nQ 56.984375 54.828125 56.984375 36.375 \nQ 56.984375 17.96875 50.515625 8.265625 \nQ 44.046875 -1.421875 31.78125 -1.421875 \nQ 19.53125 -1.421875 13.0625 8.265625 \nQ 6.59375 17.96875 6.59375 36.375 \nQ 6.59375 54.828125 13.0625 64.515625 \nQ 19.53125 74.21875 31.78125 74.21875 \nz\n\" id=\"DejaVuSans-48\"/>\n       </defs>\n       <use xlink:href=\"#DejaVuSans-48\"/>\n      </g>\n     </g>\n    </g>\n    <g id=\"ytick_2\">\n     <g id=\"line2d_7\">\n      <g>\n       <use style=\"stroke:#000000;stroke-width:0.8;\" x=\"39.65\" xlink:href=\"#me62ae18fc7\" y=\"200.016253\"/>\n      </g>\n     </g>\n     <g id=\"text_7\">\n      <!-- 1000 -->\n      <g transform=\"translate(7.2 203.815472)scale(0.1 -0.1)\">\n       <defs>\n        <path d=\"M 12.40625 8.296875 \nL 28.515625 8.296875 \nL 28.515625 63.921875 \nL 10.984375 60.40625 \nL 10.984375 69.390625 \nL 28.421875 72.90625 \nL 38.28125 72.90625 \nL 38.28125 8.296875 \nL 54.390625 8.296875 \nL 54.390625 0 \nL 12.40625 0 \nz\n\" id=\"DejaVuSans-49\"/>\n       </defs>\n       <use xlink:href=\"#DejaVuSans-49\"/>\n       <use x=\"63.623047\" xlink:href=\"#DejaVuSans-48\"/>\n       <use x=\"127.246094\" xlink:href=\"#DejaVuSans-48\"/>\n       <use x=\"190.869141\" xlink:href=\"#DejaVuSans-48\"/>\n      </g>\n     </g>\n    </g>\n    <g id=\"ytick_3\">\n     <g id=\"line2d_8\">\n      <g>\n       <use style=\"stroke:#000000;stroke-width:0.8;\" x=\"39.65\" xlink:href=\"#me62ae18fc7\" y=\"175.392506\"/>\n      </g>\n     </g>\n     <g id=\"text_8\">\n      <!-- 2000 -->\n      <g transform=\"translate(7.2 179.191724)scale(0.1 -0.1)\">\n       <defs>\n        <path d=\"M 19.1875 8.296875 \nL 53.609375 8.296875 \nL 53.609375 0 \nL 7.328125 0 \nL 7.328125 8.296875 \nQ 12.9375 14.109375 22.625 23.890625 \nQ 32.328125 33.6875 34.8125 36.53125 \nQ 39.546875 41.84375 41.421875 45.53125 \nQ 43.3125 49.21875 43.3125 52.78125 \nQ 43.3125 58.59375 39.234375 62.25 \nQ 35.15625 65.921875 28.609375 65.921875 \nQ 23.96875 65.921875 18.8125 64.3125 \nQ 13.671875 62.703125 7.8125 59.421875 \nL 7.8125 69.390625 \nQ 13.765625 71.78125 18.9375 73 \nQ 24.125 74.21875 28.421875 74.21875 \nQ 39.75 74.21875 46.484375 68.546875 \nQ 53.21875 62.890625 53.21875 53.421875 \nQ 53.21875 48.921875 51.53125 44.890625 \nQ 49.859375 40.875 45.40625 35.40625 \nQ 44.1875 33.984375 37.640625 27.21875 \nQ 31.109375 20.453125 19.1875 8.296875 \nz\n\" id=\"DejaVuSans-50\"/>\n       </defs>\n       <use xlink:href=\"#DejaVuSans-50\"/>\n       <use x=\"63.623047\" xlink:href=\"#DejaVuSans-48\"/>\n       <use x=\"127.246094\" xlink:href=\"#DejaVuSans-48\"/>\n       <use x=\"190.869141\" xlink:href=\"#DejaVuSans-48\"/>\n      </g>\n     </g>\n    </g>\n    <g id=\"ytick_4\">\n     <g id=\"line2d_9\">\n      <g>\n       <use style=\"stroke:#000000;stroke-width:0.8;\" x=\"39.65\" xlink:href=\"#me62ae18fc7\" y=\"150.768758\"/>\n      </g>\n     </g>\n     <g id=\"text_9\">\n      <!-- 3000 -->\n      <g transform=\"translate(7.2 154.567977)scale(0.1 -0.1)\">\n       <defs>\n        <path d=\"M 40.578125 39.3125 \nQ 47.65625 37.796875 51.625 33 \nQ 55.609375 28.21875 55.609375 21.1875 \nQ 55.609375 10.40625 48.1875 4.484375 \nQ 40.765625 -1.421875 27.09375 -1.421875 \nQ 22.515625 -1.421875 17.65625 -0.515625 \nQ 12.796875 0.390625 7.625 2.203125 \nL 7.625 11.71875 \nQ 11.71875 9.328125 16.59375 8.109375 \nQ 21.484375 6.890625 26.8125 6.890625 \nQ 36.078125 6.890625 40.9375 10.546875 \nQ 45.796875 14.203125 45.796875 21.1875 \nQ 45.796875 27.640625 41.28125 31.265625 \nQ 36.765625 34.90625 28.71875 34.90625 \nL 20.21875 34.90625 \nL 20.21875 43.015625 \nL 29.109375 43.015625 \nQ 36.375 43.015625 40.234375 45.921875 \nQ 44.09375 48.828125 44.09375 54.296875 \nQ 44.09375 59.90625 40.109375 62.90625 \nQ 36.140625 65.921875 28.71875 65.921875 \nQ 24.65625 65.921875 20.015625 65.03125 \nQ 15.375 64.15625 9.8125 62.3125 \nL 9.8125 71.09375 \nQ 15.4375 72.65625 20.34375 73.4375 \nQ 25.25 74.21875 29.59375 74.21875 \nQ 40.828125 74.21875 47.359375 69.109375 \nQ 53.90625 64.015625 53.90625 55.328125 \nQ 53.90625 49.265625 50.4375 45.09375 \nQ 46.96875 40.921875 40.578125 39.3125 \nz\n\" id=\"DejaVuSans-51\"/>\n       </defs>\n       <use xlink:href=\"#DejaVuSans-51\"/>\n       <use x=\"63.623047\" xlink:href=\"#DejaVuSans-48\"/>\n       <use x=\"127.246094\" xlink:href=\"#DejaVuSans-48\"/>\n       <use x=\"190.869141\" xlink:href=\"#DejaVuSans-48\"/>\n      </g>\n     </g>\n    </g>\n    <g id=\"ytick_5\">\n     <g id=\"line2d_10\">\n      <g>\n       <use style=\"stroke:#000000;stroke-width:0.8;\" x=\"39.65\" xlink:href=\"#me62ae18fc7\" y=\"126.145011\"/>\n      </g>\n     </g>\n     <g id=\"text_10\">\n      <!-- 4000 -->\n      <g transform=\"translate(7.2 129.94423)scale(0.1 -0.1)\">\n       <defs>\n        <path d=\"M 37.796875 64.3125 \nL 12.890625 25.390625 \nL 37.796875 25.390625 \nz\nM 35.203125 72.90625 \nL 47.609375 72.90625 \nL 47.609375 25.390625 \nL 58.015625 25.390625 \nL 58.015625 17.1875 \nL 47.609375 17.1875 \nL 47.609375 0 \nL 37.796875 0 \nL 37.796875 17.1875 \nL 4.890625 17.1875 \nL 4.890625 26.703125 \nz\n\" id=\"DejaVuSans-52\"/>\n       </defs>\n       <use xlink:href=\"#DejaVuSans-52\"/>\n       <use x=\"63.623047\" xlink:href=\"#DejaVuSans-48\"/>\n       <use x=\"127.246094\" xlink:href=\"#DejaVuSans-48\"/>\n       <use x=\"190.869141\" xlink:href=\"#DejaVuSans-48\"/>\n      </g>\n     </g>\n    </g>\n    <g id=\"ytick_6\">\n     <g id=\"line2d_11\">\n      <g>\n       <use style=\"stroke:#000000;stroke-width:0.8;\" x=\"39.65\" xlink:href=\"#me62ae18fc7\" y=\"101.521264\"/>\n      </g>\n     </g>\n     <g id=\"text_11\">\n      <!-- 5000 -->\n      <g transform=\"translate(7.2 105.320483)scale(0.1 -0.1)\">\n       <defs>\n        <path d=\"M 10.796875 72.90625 \nL 49.515625 72.90625 \nL 49.515625 64.59375 \nL 19.828125 64.59375 \nL 19.828125 46.734375 \nQ 21.96875 47.46875 24.109375 47.828125 \nQ 26.265625 48.1875 28.421875 48.1875 \nQ 40.625 48.1875 47.75 41.5 \nQ 54.890625 34.8125 54.890625 23.390625 \nQ 54.890625 11.625 47.5625 5.09375 \nQ 40.234375 -1.421875 26.90625 -1.421875 \nQ 22.3125 -1.421875 17.546875 -0.640625 \nQ 12.796875 0.140625 7.71875 1.703125 \nL 7.71875 11.625 \nQ 12.109375 9.234375 16.796875 8.0625 \nQ 21.484375 6.890625 26.703125 6.890625 \nQ 35.15625 6.890625 40.078125 11.328125 \nQ 45.015625 15.765625 45.015625 23.390625 \nQ 45.015625 31 40.078125 35.4375 \nQ 35.15625 39.890625 26.703125 39.890625 \nQ 22.75 39.890625 18.8125 39.015625 \nQ 14.890625 38.140625 10.796875 36.28125 \nz\n\" id=\"DejaVuSans-53\"/>\n       </defs>\n       <use xlink:href=\"#DejaVuSans-53\"/>\n       <use x=\"63.623047\" xlink:href=\"#DejaVuSans-48\"/>\n       <use x=\"127.246094\" xlink:href=\"#DejaVuSans-48\"/>\n       <use x=\"190.869141\" xlink:href=\"#DejaVuSans-48\"/>\n      </g>\n     </g>\n    </g>\n    <g id=\"ytick_7\">\n     <g id=\"line2d_12\">\n      <g>\n       <use style=\"stroke:#000000;stroke-width:0.8;\" x=\"39.65\" xlink:href=\"#me62ae18fc7\" y=\"76.897517\"/>\n      </g>\n     </g>\n     <g id=\"text_12\">\n      <!-- 6000 -->\n      <g transform=\"translate(7.2 80.696735)scale(0.1 -0.1)\">\n       <defs>\n        <path d=\"M 33.015625 40.375 \nQ 26.375 40.375 22.484375 35.828125 \nQ 18.609375 31.296875 18.609375 23.390625 \nQ 18.609375 15.53125 22.484375 10.953125 \nQ 26.375 6.390625 33.015625 6.390625 \nQ 39.65625 6.390625 43.53125 10.953125 \nQ 47.40625 15.53125 47.40625 23.390625 \nQ 47.40625 31.296875 43.53125 35.828125 \nQ 39.65625 40.375 33.015625 40.375 \nz\nM 52.59375 71.296875 \nL 52.59375 62.3125 \nQ 48.875 64.0625 45.09375 64.984375 \nQ 41.3125 65.921875 37.59375 65.921875 \nQ 27.828125 65.921875 22.671875 59.328125 \nQ 17.53125 52.734375 16.796875 39.40625 \nQ 19.671875 43.65625 24.015625 45.921875 \nQ 28.375 48.1875 33.59375 48.1875 \nQ 44.578125 48.1875 50.953125 41.515625 \nQ 57.328125 34.859375 57.328125 23.390625 \nQ 57.328125 12.15625 50.6875 5.359375 \nQ 44.046875 -1.421875 33.015625 -1.421875 \nQ 20.359375 -1.421875 13.671875 8.265625 \nQ 6.984375 17.96875 6.984375 36.375 \nQ 6.984375 53.65625 15.1875 63.9375 \nQ 23.390625 74.21875 37.203125 74.21875 \nQ 40.921875 74.21875 44.703125 73.484375 \nQ 48.484375 72.75 52.59375 71.296875 \nz\n\" id=\"DejaVuSans-54\"/>\n       </defs>\n       <use xlink:href=\"#DejaVuSans-54\"/>\n       <use x=\"63.623047\" xlink:href=\"#DejaVuSans-48\"/>\n       <use x=\"127.246094\" xlink:href=\"#DejaVuSans-48\"/>\n       <use x=\"190.869141\" xlink:href=\"#DejaVuSans-48\"/>\n      </g>\n     </g>\n    </g>\n    <g id=\"ytick_8\">\n     <g id=\"line2d_13\">\n      <g>\n       <use style=\"stroke:#000000;stroke-width:0.8;\" x=\"39.65\" xlink:href=\"#me62ae18fc7\" y=\"52.273769\"/>\n      </g>\n     </g>\n     <g id=\"text_13\">\n      <!-- 7000 -->\n      <g transform=\"translate(7.2 56.072988)scale(0.1 -0.1)\">\n       <defs>\n        <path d=\"M 8.203125 72.90625 \nL 55.078125 72.90625 \nL 55.078125 68.703125 \nL 28.609375 0 \nL 18.3125 0 \nL 43.21875 64.59375 \nL 8.203125 64.59375 \nz\n\" id=\"DejaVuSans-55\"/>\n       </defs>\n       <use xlink:href=\"#DejaVuSans-55\"/>\n       <use x=\"63.623047\" xlink:href=\"#DejaVuSans-48\"/>\n       <use x=\"127.246094\" xlink:href=\"#DejaVuSans-48\"/>\n       <use x=\"190.869141\" xlink:href=\"#DejaVuSans-48\"/>\n      </g>\n     </g>\n    </g>\n    <g id=\"ytick_9\">\n     <g id=\"line2d_14\">\n      <g>\n       <use style=\"stroke:#000000;stroke-width:0.8;\" x=\"39.65\" xlink:href=\"#me62ae18fc7\" y=\"27.650022\"/>\n      </g>\n     </g>\n     <g id=\"text_14\">\n      <!-- 8000 -->\n      <g transform=\"translate(7.2 31.449241)scale(0.1 -0.1)\">\n       <defs>\n        <path d=\"M 31.78125 34.625 \nQ 24.75 34.625 20.71875 30.859375 \nQ 16.703125 27.09375 16.703125 20.515625 \nQ 16.703125 13.921875 20.71875 10.15625 \nQ 24.75 6.390625 31.78125 6.390625 \nQ 38.8125 6.390625 42.859375 10.171875 \nQ 46.921875 13.96875 46.921875 20.515625 \nQ 46.921875 27.09375 42.890625 30.859375 \nQ 38.875 34.625 31.78125 34.625 \nz\nM 21.921875 38.8125 \nQ 15.578125 40.375 12.03125 44.71875 \nQ 8.5 49.078125 8.5 55.328125 \nQ 8.5 64.0625 14.71875 69.140625 \nQ 20.953125 74.21875 31.78125 74.21875 \nQ 42.671875 74.21875 48.875 69.140625 \nQ 55.078125 64.0625 55.078125 55.328125 \nQ 55.078125 49.078125 51.53125 44.71875 \nQ 48 40.375 41.703125 38.8125 \nQ 48.828125 37.15625 52.796875 32.3125 \nQ 56.78125 27.484375 56.78125 20.515625 \nQ 56.78125 9.90625 50.3125 4.234375 \nQ 43.84375 -1.421875 31.78125 -1.421875 \nQ 19.734375 -1.421875 13.25 4.234375 \nQ 6.78125 9.90625 6.78125 20.515625 \nQ 6.78125 27.484375 10.78125 32.3125 \nQ 14.796875 37.15625 21.921875 38.8125 \nz\nM 18.3125 54.390625 \nQ 18.3125 48.734375 21.84375 45.5625 \nQ 25.390625 42.390625 31.78125 42.390625 \nQ 38.140625 42.390625 41.71875 45.5625 \nQ 45.3125 48.734375 45.3125 54.390625 \nQ 45.3125 60.0625 41.71875 63.234375 \nQ 38.140625 66.40625 31.78125 66.40625 \nQ 25.390625 66.40625 21.84375 63.234375 \nQ 18.3125 60.0625 18.3125 54.390625 \nz\n\" id=\"DejaVuSans-56\"/>\n       </defs>\n       <use xlink:href=\"#DejaVuSans-56\"/>\n       <use x=\"63.623047\" xlink:href=\"#DejaVuSans-48\"/>\n       <use x=\"127.246094\" xlink:href=\"#DejaVuSans-48\"/>\n       <use x=\"190.869141\" xlink:href=\"#DejaVuSans-48\"/>\n      </g>\n     </g>\n    </g>\n   </g>\n   <g id=\"patch_8\">\n    <path d=\"M 39.65 224.64 \nL 39.65 7.2 \n\" style=\"fill:none;stroke:#000000;stroke-linecap:square;stroke-linejoin:miter;stroke-width:0.8;\"/>\n   </g>\n   <g id=\"patch_9\">\n    <path d=\"M 374.45 224.64 \nL 374.45 7.2 \n\" style=\"fill:none;stroke:#000000;stroke-linecap:square;stroke-linejoin:miter;stroke-width:0.8;\"/>\n   </g>\n   <g id=\"patch_10\">\n    <path d=\"M 39.65 224.64 \nL 374.45 224.64 \n\" style=\"fill:none;stroke:#000000;stroke-linecap:square;stroke-linejoin:miter;stroke-width:0.8;\"/>\n   </g>\n   <g id=\"patch_11\">\n    <path d=\"M 39.65 7.2 \nL 374.45 7.2 \n\" style=\"fill:none;stroke:#000000;stroke-linecap:square;stroke-linejoin:miter;stroke-width:0.8;\"/>\n   </g>\n  </g>\n </g>\n <defs>\n  <clipPath id=\"pfe830df7b7\">\n   <rect height=\"217.44\" width=\"334.8\" x=\"39.65\" y=\"7.2\"/>\n  </clipPath>\n </defs>\n</svg>\n",
      "image/png": "[encoded data removed]"
     },
     "metadata": {
      "needs_background": "light"
     }
    }
   ],
   "source": [
    "species.group.value_counts().plot(kind='bar')"
   ]
  },
  {
   "cell_type": "code",
   "execution_count": 75,
   "metadata": {},
   "outputs": [
    {
     "output_type": "execute_result",
     "data": {
      "text/plain": [
       "<AxesSubplot:>"
      ]
     },
     "metadata": {},
     "execution_count": 75
    },
    {
     "output_type": "display_data",
     "data": {
      "text/plain": "<Figure size 432x288 with 1 Axes>",
      "image/svg+xml": "<?xml version=\"1.0\" encoding=\"utf-8\" standalone=\"no\"?>\n<!DOCTYPE svg PUBLIC \"-//W3C//DTD SVG 1.1//EN\"\n  \"http://www.w3.org/Graphics/SVG/1.1/DTD/svg11.dtd\">\n<!-- Created with matplotlib (https://matplotlib.org/) -->\n<svg height=\"295.032188pt\" version=\"1.1\" viewBox=\"0 0 388.0125 295.032188\" width=\"388.0125pt\" xmlns=\"http://www.w3.org/2000/svg\" xmlns:xlink=\"http://www.w3.org/1999/xlink\">\n <metadata>\n  <rdf:RDF xmlns:cc=\"http://creativecommons.org/ns#\" xmlns:dc=\"http://purl.org/dc/elements/1.1/\" xmlns:rdf=\"http://www.w3.org/1999/02/22-rdf-syntax-ns#\">\n   <cc:Work>\n    <dc:type rdf:resource=\"http://purl.org/dc/dcmitype/StillImage\"/>\n    <dc:date>2021-01-20T16:18:57.023181</dc:date>\n    <dc:format>image/svg+xml</dc:format>\n    <dc:creator>\n     <cc:Agent>\n      <dc:title>Matplotlib v3.3.2, https://matplotlib.org/</dc:title>\n     </cc:Agent>\n    </dc:creator>\n   </cc:Work>\n  </rdf:RDF>\n </metadata>\n <defs>\n  <style type=\"text/css\">*{stroke-linecap:butt;stroke-linejoin:round;}</style>\n </defs>\n <g id=\"figure_1\">\n  <g id=\"patch_1\">\n   <path d=\"M 0 295.032188 \nL 388.0125 295.032188 \nL 388.0125 0 \nL 0 0 \nz\n\" style=\"fill:none;\"/>\n  </g>\n  <g id=\"axes_1\">\n   <g id=\"patch_2\">\n    <path d=\"M 46.0125 224.64 \nL 380.8125 224.64 \nL 380.8125 7.2 \nL 46.0125 7.2 \nz\n\" style=\"fill:#ffffff;\"/>\n   </g>\n   <g id=\"patch_3\">\n    <path clip-path=\"url(#p1cf60df38a)\" d=\"M 66.9375 224.64 \nL 108.7875 224.64 \nL 108.7875 17.554286 \nL 66.9375 17.554286 \nz\n\" style=\"fill:#1f77b4;\"/>\n   </g>\n   <g id=\"patch_4\">\n    <path clip-path=\"url(#p1cf60df38a)\" d=\"M 150.6375 224.64 \nL 192.4875 224.64 \nL 192.4875 52.21249 \nL 150.6375 52.21249 \nz\n\" style=\"fill:#1f77b4;\"/>\n   </g>\n   <g id=\"patch_5\">\n    <path clip-path=\"url(#p1cf60df38a)\" d=\"M 234.3375 224.64 \nL 276.1875 224.64 \nL 276.1875 68.167824 \nL 234.3375 68.167824 \nz\n\" style=\"fill:#1f77b4;\"/>\n   </g>\n   <g id=\"patch_6\">\n    <path clip-path=\"url(#p1cf60df38a)\" d=\"M 318.0375 224.64 \nL 359.8875 224.64 \nL 359.8875 209.548177 \nL 318.0375 209.548177 \nz\n\" style=\"fill:#1f77b4;\"/>\n   </g>\n   <g id=\"matplotlib.axis_1\">\n    <g id=\"xtick_1\">\n     <g id=\"line2d_1\">\n      <defs>\n       <path d=\"M 0 0 \nL 0 3.5 \n\" id=\"m9182ab78ef\" style=\"stroke:#000000;stroke-width:0.8;\"/>\n      </defs>\n      <g>\n       <use style=\"stroke:#000000;stroke-width:0.8;\" x=\"87.8625\" xlink:href=\"#m9182ab78ef\" y=\"224.64\"/>\n      </g>\n     </g>\n     <g id=\"text_1\">\n      <!-- Unknown -->\n      <g transform=\"translate(90.621875 278.05875)rotate(-90)scale(0.1 -0.1)\">\n       <defs>\n        <path d=\"M 8.6875 72.90625 \nL 18.609375 72.90625 \nL 18.609375 28.609375 \nQ 18.609375 16.890625 22.84375 11.734375 \nQ 27.09375 6.59375 36.625 6.59375 \nQ 46.09375 6.59375 50.34375 11.734375 \nQ 54.59375 16.890625 54.59375 28.609375 \nL 54.59375 72.90625 \nL 64.5 72.90625 \nL 64.5 27.390625 \nQ 64.5 13.140625 57.4375 5.859375 \nQ 50.390625 -1.421875 36.625 -1.421875 \nQ 22.796875 -1.421875 15.734375 5.859375 \nQ 8.6875 13.140625 8.6875 27.390625 \nz\n\" id=\"DejaVuSans-85\"/>\n        <path d=\"M 54.890625 33.015625 \nL 54.890625 0 \nL 45.90625 0 \nL 45.90625 32.71875 \nQ 45.90625 40.484375 42.875 44.328125 \nQ 39.84375 48.1875 33.796875 48.1875 \nQ 26.515625 48.1875 22.3125 43.546875 \nQ 18.109375 38.921875 18.109375 30.90625 \nL 18.109375 0 \nL 9.078125 0 \nL 9.078125 54.6875 \nL 18.109375 54.6875 \nL 18.109375 46.1875 \nQ 21.34375 51.125 25.703125 53.5625 \nQ 30.078125 56 35.796875 56 \nQ 45.21875 56 50.046875 50.171875 \nQ 54.890625 44.34375 54.890625 33.015625 \nz\n\" id=\"DejaVuSans-110\"/>\n        <path d=\"M 9.078125 75.984375 \nL 18.109375 75.984375 \nL 18.109375 31.109375 \nL 44.921875 54.6875 \nL 56.390625 54.6875 \nL 27.390625 29.109375 \nL 57.625 0 \nL 45.90625 0 \nL 18.109375 26.703125 \nL 18.109375 0 \nL 9.078125 0 \nz\n\" id=\"DejaVuSans-107\"/>\n        <path d=\"M 30.609375 48.390625 \nQ 23.390625 48.390625 19.1875 42.75 \nQ 14.984375 37.109375 14.984375 27.296875 \nQ 14.984375 17.484375 19.15625 11.84375 \nQ 23.34375 6.203125 30.609375 6.203125 \nQ 37.796875 6.203125 41.984375 11.859375 \nQ 46.1875 17.53125 46.1875 27.296875 \nQ 46.1875 37.015625 41.984375 42.703125 \nQ 37.796875 48.390625 30.609375 48.390625 \nz\nM 30.609375 56 \nQ 42.328125 56 49.015625 48.375 \nQ 55.71875 40.765625 55.71875 27.296875 \nQ 55.71875 13.875 49.015625 6.21875 \nQ 42.328125 -1.421875 30.609375 -1.421875 \nQ 18.84375 -1.421875 12.171875 6.21875 \nQ 5.515625 13.875 5.515625 27.296875 \nQ 5.515625 40.765625 12.171875 48.375 \nQ 18.84375 56 30.609375 56 \nz\n\" id=\"DejaVuSans-111\"/>\n        <path d=\"M 4.203125 54.6875 \nL 13.1875 54.6875 \nL 24.421875 12.015625 \nL 35.59375 54.6875 \nL 46.1875 54.6875 \nL 57.421875 12.015625 \nL 68.609375 54.6875 \nL 77.59375 54.6875 \nL 63.28125 0 \nL 52.6875 0 \nL 40.921875 44.828125 \nL 29.109375 0 \nL 18.5 0 \nz\n\" id=\"DejaVuSans-119\"/>\n       </defs>\n       <use xlink:href=\"#DejaVuSans-85\"/>\n       <use x=\"73.193359\" xlink:href=\"#DejaVuSans-110\"/>\n       <use x=\"136.572266\" xlink:href=\"#DejaVuSans-107\"/>\n       <use x=\"194.482422\" xlink:href=\"#DejaVuSans-110\"/>\n       <use x=\"257.861328\" xlink:href=\"#DejaVuSans-111\"/>\n       <use x=\"319.042969\" xlink:href=\"#DejaVuSans-119\"/>\n       <use x=\"400.830078\" xlink:href=\"#DejaVuSans-110\"/>\n      </g>\n     </g>\n    </g>\n    <g id=\"xtick_2\">\n     <g id=\"line2d_2\">\n      <g>\n       <use style=\"stroke:#000000;stroke-width:0.8;\" x=\"171.5625\" xlink:href=\"#m9182ab78ef\" y=\"224.64\"/>\n      </g>\n     </g>\n     <g id=\"text_2\">\n      <!-- Stable -->\n      <g transform=\"translate(174.321875 263.316563)rotate(-90)scale(0.1 -0.1)\">\n       <defs>\n        <path d=\"M 53.515625 70.515625 \nL 53.515625 60.890625 \nQ 47.90625 63.578125 42.921875 64.890625 \nQ 37.9375 66.21875 33.296875 66.21875 \nQ 25.25 66.21875 20.875 63.09375 \nQ 16.5 59.96875 16.5 54.203125 \nQ 16.5 49.359375 19.40625 46.890625 \nQ 22.3125 44.4375 30.421875 42.921875 \nL 36.375 41.703125 \nQ 47.40625 39.59375 52.65625 34.296875 \nQ 57.90625 29 57.90625 20.125 \nQ 57.90625 9.515625 50.796875 4.046875 \nQ 43.703125 -1.421875 29.984375 -1.421875 \nQ 24.8125 -1.421875 18.96875 -0.25 \nQ 13.140625 0.921875 6.890625 3.21875 \nL 6.890625 13.375 \nQ 12.890625 10.015625 18.65625 8.296875 \nQ 24.421875 6.59375 29.984375 6.59375 \nQ 38.421875 6.59375 43.015625 9.90625 \nQ 47.609375 13.234375 47.609375 19.390625 \nQ 47.609375 24.75 44.3125 27.78125 \nQ 41.015625 30.8125 33.5 32.328125 \nL 27.484375 33.5 \nQ 16.453125 35.6875 11.515625 40.375 \nQ 6.59375 45.0625 6.59375 53.421875 \nQ 6.59375 63.09375 13.40625 68.65625 \nQ 20.21875 74.21875 32.171875 74.21875 \nQ 37.3125 74.21875 42.625 73.28125 \nQ 47.953125 72.359375 53.515625 70.515625 \nz\n\" id=\"DejaVuSans-83\"/>\n        <path d=\"M 18.3125 70.21875 \nL 18.3125 54.6875 \nL 36.8125 54.6875 \nL 36.8125 47.703125 \nL 18.3125 47.703125 \nL 18.3125 18.015625 \nQ 18.3125 11.328125 20.140625 9.421875 \nQ 21.96875 7.515625 27.59375 7.515625 \nL 36.8125 7.515625 \nL 36.8125 0 \nL 27.59375 0 \nQ 17.1875 0 13.234375 3.875 \nQ 9.28125 7.765625 9.28125 18.015625 \nL 9.28125 47.703125 \nL 2.6875 47.703125 \nL 2.6875 54.6875 \nL 9.28125 54.6875 \nL 9.28125 70.21875 \nz\n\" id=\"DejaVuSans-116\"/>\n        <path d=\"M 34.28125 27.484375 \nQ 23.390625 27.484375 19.1875 25 \nQ 14.984375 22.515625 14.984375 16.5 \nQ 14.984375 11.71875 18.140625 8.90625 \nQ 21.296875 6.109375 26.703125 6.109375 \nQ 34.1875 6.109375 38.703125 11.40625 \nQ 43.21875 16.703125 43.21875 25.484375 \nL 43.21875 27.484375 \nz\nM 52.203125 31.203125 \nL 52.203125 0 \nL 43.21875 0 \nL 43.21875 8.296875 \nQ 40.140625 3.328125 35.546875 0.953125 \nQ 30.953125 -1.421875 24.3125 -1.421875 \nQ 15.921875 -1.421875 10.953125 3.296875 \nQ 6 8.015625 6 15.921875 \nQ 6 25.140625 12.171875 29.828125 \nQ 18.359375 34.515625 30.609375 34.515625 \nL 43.21875 34.515625 \nL 43.21875 35.40625 \nQ 43.21875 41.609375 39.140625 45 \nQ 35.0625 48.390625 27.6875 48.390625 \nQ 23 48.390625 18.546875 47.265625 \nQ 14.109375 46.140625 10.015625 43.890625 \nL 10.015625 52.203125 \nQ 14.9375 54.109375 19.578125 55.046875 \nQ 24.21875 56 28.609375 56 \nQ 40.484375 56 46.34375 49.84375 \nQ 52.203125 43.703125 52.203125 31.203125 \nz\n\" id=\"DejaVuSans-97\"/>\n        <path d=\"M 48.6875 27.296875 \nQ 48.6875 37.203125 44.609375 42.84375 \nQ 40.53125 48.484375 33.40625 48.484375 \nQ 26.265625 48.484375 22.1875 42.84375 \nQ 18.109375 37.203125 18.109375 27.296875 \nQ 18.109375 17.390625 22.1875 11.75 \nQ 26.265625 6.109375 33.40625 6.109375 \nQ 40.53125 6.109375 44.609375 11.75 \nQ 48.6875 17.390625 48.6875 27.296875 \nz\nM 18.109375 46.390625 \nQ 20.953125 51.265625 25.265625 53.625 \nQ 29.59375 56 35.59375 56 \nQ 45.5625 56 51.78125 48.09375 \nQ 58.015625 40.1875 58.015625 27.296875 \nQ 58.015625 14.40625 51.78125 6.484375 \nQ 45.5625 -1.421875 35.59375 -1.421875 \nQ 29.59375 -1.421875 25.265625 0.953125 \nQ 20.953125 3.328125 18.109375 8.203125 \nL 18.109375 0 \nL 9.078125 0 \nL 9.078125 75.984375 \nL 18.109375 75.984375 \nz\n\" id=\"DejaVuSans-98\"/>\n        <path d=\"M 9.421875 75.984375 \nL 18.40625 75.984375 \nL 18.40625 0 \nL 9.421875 0 \nz\n\" id=\"DejaVuSans-108\"/>\n        <path d=\"M 56.203125 29.59375 \nL 56.203125 25.203125 \nL 14.890625 25.203125 \nQ 15.484375 15.921875 20.484375 11.0625 \nQ 25.484375 6.203125 34.421875 6.203125 \nQ 39.59375 6.203125 44.453125 7.46875 \nQ 49.3125 8.734375 54.109375 11.28125 \nL 54.109375 2.78125 \nQ 49.265625 0.734375 44.1875 -0.34375 \nQ 39.109375 -1.421875 33.890625 -1.421875 \nQ 20.796875 -1.421875 13.15625 6.1875 \nQ 5.515625 13.8125 5.515625 26.8125 \nQ 5.515625 40.234375 12.765625 48.109375 \nQ 20.015625 56 32.328125 56 \nQ 43.359375 56 49.78125 48.890625 \nQ 56.203125 41.796875 56.203125 29.59375 \nz\nM 47.21875 32.234375 \nQ 47.125 39.59375 43.09375 43.984375 \nQ 39.0625 48.390625 32.421875 48.390625 \nQ 24.90625 48.390625 20.390625 44.140625 \nQ 15.875 39.890625 15.1875 32.171875 \nz\n\" id=\"DejaVuSans-101\"/>\n       </defs>\n       <use xlink:href=\"#DejaVuSans-83\"/>\n       <use x=\"63.476562\" xlink:href=\"#DejaVuSans-116\"/>\n       <use x=\"102.685547\" xlink:href=\"#DejaVuSans-97\"/>\n       <use x=\"163.964844\" xlink:href=\"#DejaVuSans-98\"/>\n       <use x=\"227.441406\" xlink:href=\"#DejaVuSans-108\"/>\n       <use x=\"255.224609\" xlink:href=\"#DejaVuSans-101\"/>\n      </g>\n     </g>\n    </g>\n    <g id=\"xtick_3\">\n     <g id=\"line2d_3\">\n      <g>\n       <use style=\"stroke:#000000;stroke-width:0.8;\" x=\"255.2625\" xlink:href=\"#m9182ab78ef\" y=\"224.64\"/>\n      </g>\n     </g>\n     <g id=\"text_3\">\n      <!-- Decreasing -->\n      <g transform=\"translate(258.021875 287.832188)rotate(-90)scale(0.1 -0.1)\">\n       <defs>\n        <path d=\"M 19.671875 64.796875 \nL 19.671875 8.109375 \nL 31.59375 8.109375 \nQ 46.6875 8.109375 53.6875 14.9375 \nQ 60.6875 21.78125 60.6875 36.53125 \nQ 60.6875 51.171875 53.6875 57.984375 \nQ 46.6875 64.796875 31.59375 64.796875 \nz\nM 9.8125 72.90625 \nL 30.078125 72.90625 \nQ 51.265625 72.90625 61.171875 64.09375 \nQ 71.09375 55.28125 71.09375 36.53125 \nQ 71.09375 17.671875 61.125 8.828125 \nQ 51.171875 0 30.078125 0 \nL 9.8125 0 \nz\n\" id=\"DejaVuSans-68\"/>\n        <path d=\"M 48.78125 52.59375 \nL 48.78125 44.1875 \nQ 44.96875 46.296875 41.140625 47.34375 \nQ 37.3125 48.390625 33.40625 48.390625 \nQ 24.65625 48.390625 19.8125 42.84375 \nQ 14.984375 37.3125 14.984375 27.296875 \nQ 14.984375 17.28125 19.8125 11.734375 \nQ 24.65625 6.203125 33.40625 6.203125 \nQ 37.3125 6.203125 41.140625 7.25 \nQ 44.96875 8.296875 48.78125 10.40625 \nL 48.78125 2.09375 \nQ 45.015625 0.34375 40.984375 -0.53125 \nQ 36.96875 -1.421875 32.421875 -1.421875 \nQ 20.0625 -1.421875 12.78125 6.34375 \nQ 5.515625 14.109375 5.515625 27.296875 \nQ 5.515625 40.671875 12.859375 48.328125 \nQ 20.21875 56 33.015625 56 \nQ 37.15625 56 41.109375 55.140625 \nQ 45.0625 54.296875 48.78125 52.59375 \nz\n\" id=\"DejaVuSans-99\"/>\n        <path d=\"M 41.109375 46.296875 \nQ 39.59375 47.171875 37.8125 47.578125 \nQ 36.03125 48 33.890625 48 \nQ 26.265625 48 22.1875 43.046875 \nQ 18.109375 38.09375 18.109375 28.8125 \nL 18.109375 0 \nL 9.078125 0 \nL 9.078125 54.6875 \nL 18.109375 54.6875 \nL 18.109375 46.1875 \nQ 20.953125 51.171875 25.484375 53.578125 \nQ 30.03125 56 36.53125 56 \nQ 37.453125 56 38.578125 55.875 \nQ 39.703125 55.765625 41.0625 55.515625 \nz\n\" id=\"DejaVuSans-114\"/>\n        <path d=\"M 44.28125 53.078125 \nL 44.28125 44.578125 \nQ 40.484375 46.53125 36.375 47.5 \nQ 32.28125 48.484375 27.875 48.484375 \nQ 21.1875 48.484375 17.84375 46.4375 \nQ 14.5 44.390625 14.5 40.28125 \nQ 14.5 37.15625 16.890625 35.375 \nQ 19.28125 33.59375 26.515625 31.984375 \nL 29.59375 31.296875 \nQ 39.15625 29.25 43.1875 25.515625 \nQ 47.21875 21.78125 47.21875 15.09375 \nQ 47.21875 7.46875 41.1875 3.015625 \nQ 35.15625 -1.421875 24.609375 -1.421875 \nQ 20.21875 -1.421875 15.453125 -0.5625 \nQ 10.6875 0.296875 5.421875 2 \nL 5.421875 11.28125 \nQ 10.40625 8.6875 15.234375 7.390625 \nQ 20.0625 6.109375 24.8125 6.109375 \nQ 31.15625 6.109375 34.5625 8.28125 \nQ 37.984375 10.453125 37.984375 14.40625 \nQ 37.984375 18.0625 35.515625 20.015625 \nQ 33.0625 21.96875 24.703125 23.78125 \nL 21.578125 24.515625 \nQ 13.234375 26.265625 9.515625 29.90625 \nQ 5.8125 33.546875 5.8125 39.890625 \nQ 5.8125 47.609375 11.28125 51.796875 \nQ 16.75 56 26.8125 56 \nQ 31.78125 56 36.171875 55.265625 \nQ 40.578125 54.546875 44.28125 53.078125 \nz\n\" id=\"DejaVuSans-115\"/>\n        <path d=\"M 9.421875 54.6875 \nL 18.40625 54.6875 \nL 18.40625 0 \nL 9.421875 0 \nz\nM 9.421875 75.984375 \nL 18.40625 75.984375 \nL 18.40625 64.59375 \nL 9.421875 64.59375 \nz\n\" id=\"DejaVuSans-105\"/>\n        <path d=\"M 45.40625 27.984375 \nQ 45.40625 37.75 41.375 43.109375 \nQ 37.359375 48.484375 30.078125 48.484375 \nQ 22.859375 48.484375 18.828125 43.109375 \nQ 14.796875 37.75 14.796875 27.984375 \nQ 14.796875 18.265625 18.828125 12.890625 \nQ 22.859375 7.515625 30.078125 7.515625 \nQ 37.359375 7.515625 41.375 12.890625 \nQ 45.40625 18.265625 45.40625 27.984375 \nz\nM 54.390625 6.78125 \nQ 54.390625 -7.171875 48.1875 -13.984375 \nQ 42 -20.796875 29.203125 -20.796875 \nQ 24.46875 -20.796875 20.265625 -20.09375 \nQ 16.0625 -19.390625 12.109375 -17.921875 \nL 12.109375 -9.1875 \nQ 16.0625 -11.328125 19.921875 -12.34375 \nQ 23.78125 -13.375 27.78125 -13.375 \nQ 36.625 -13.375 41.015625 -8.765625 \nQ 45.40625 -4.15625 45.40625 5.171875 \nL 45.40625 9.625 \nQ 42.625 4.78125 38.28125 2.390625 \nQ 33.9375 0 27.875 0 \nQ 17.828125 0 11.671875 7.65625 \nQ 5.515625 15.328125 5.515625 27.984375 \nQ 5.515625 40.671875 11.671875 48.328125 \nQ 17.828125 56 27.875 56 \nQ 33.9375 56 38.28125 53.609375 \nQ 42.625 51.21875 45.40625 46.390625 \nL 45.40625 54.6875 \nL 54.390625 54.6875 \nz\n\" id=\"DejaVuSans-103\"/>\n       </defs>\n       <use xlink:href=\"#DejaVuSans-68\"/>\n       <use x=\"77.001953\" xlink:href=\"#DejaVuSans-101\"/>\n       <use x=\"138.525391\" xlink:href=\"#DejaVuSans-99\"/>\n       <use x=\"193.505859\" xlink:href=\"#DejaVuSans-114\"/>\n       <use x=\"232.369141\" xlink:href=\"#DejaVuSans-101\"/>\n       <use x=\"293.892578\" xlink:href=\"#DejaVuSans-97\"/>\n       <use x=\"355.171875\" xlink:href=\"#DejaVuSans-115\"/>\n       <use x=\"407.271484\" xlink:href=\"#DejaVuSans-105\"/>\n       <use x=\"435.054688\" xlink:href=\"#DejaVuSans-110\"/>\n       <use x=\"498.433594\" xlink:href=\"#DejaVuSans-103\"/>\n      </g>\n     </g>\n    </g>\n    <g id=\"xtick_4\">\n     <g id=\"line2d_4\">\n      <g>\n       <use style=\"stroke:#000000;stroke-width:0.8;\" x=\"338.9625\" xlink:href=\"#m9182ab78ef\" y=\"224.64\"/>\n      </g>\n     </g>\n     <g id=\"text_4\">\n      <!-- Increasing -->\n      <g transform=\"translate(341.721875 283.266563)rotate(-90)scale(0.1 -0.1)\">\n       <defs>\n        <path d=\"M 9.8125 72.90625 \nL 19.671875 72.90625 \nL 19.671875 0 \nL 9.8125 0 \nz\n\" id=\"DejaVuSans-73\"/>\n       </defs>\n       <use xlink:href=\"#DejaVuSans-73\"/>\n       <use x=\"29.492188\" xlink:href=\"#DejaVuSans-110\"/>\n       <use x=\"92.871094\" xlink:href=\"#DejaVuSans-99\"/>\n       <use x=\"147.851562\" xlink:href=\"#DejaVuSans-114\"/>\n       <use x=\"186.714844\" xlink:href=\"#DejaVuSans-101\"/>\n       <use x=\"248.238281\" xlink:href=\"#DejaVuSans-97\"/>\n       <use x=\"309.517578\" xlink:href=\"#DejaVuSans-115\"/>\n       <use x=\"361.617188\" xlink:href=\"#DejaVuSans-105\"/>\n       <use x=\"389.400391\" xlink:href=\"#DejaVuSans-110\"/>\n       <use x=\"452.779297\" xlink:href=\"#DejaVuSans-103\"/>\n      </g>\n     </g>\n    </g>\n   </g>\n   <g id=\"matplotlib.axis_2\">\n    <g id=\"ytick_1\">\n     <g id=\"line2d_5\">\n      <defs>\n       <path d=\"M 0 0 \nL -3.5 0 \n\" id=\"m5c3d7d18b1\" style=\"stroke:#000000;stroke-width:0.8;\"/>\n      </defs>\n      <g>\n       <use style=\"stroke:#000000;stroke-width:0.8;\" x=\"46.0125\" xlink:href=\"#m5c3d7d18b1\" y=\"224.64\"/>\n      </g>\n     </g>\n     <g id=\"text_5\">\n      <!-- 0 -->\n      <g transform=\"translate(32.65 228.439219)scale(0.1 -0.1)\">\n       <defs>\n        <path d=\"M 31.78125 66.40625 \nQ 24.171875 66.40625 20.328125 58.90625 \nQ 16.5 51.421875 16.5 36.375 \nQ 16.5 21.390625 20.328125 13.890625 \nQ 24.171875 6.390625 31.78125 6.390625 \nQ 39.453125 6.390625 43.28125 13.890625 \nQ 47.125 21.390625 47.125 36.375 \nQ 47.125 51.421875 43.28125 58.90625 \nQ 39.453125 66.40625 31.78125 66.40625 \nz\nM 31.78125 74.21875 \nQ 44.046875 74.21875 50.515625 64.515625 \nQ 56.984375 54.828125 56.984375 36.375 \nQ 56.984375 17.96875 50.515625 8.265625 \nQ 44.046875 -1.421875 31.78125 -1.421875 \nQ 19.53125 -1.421875 13.0625 8.265625 \nQ 6.59375 17.96875 6.59375 36.375 \nQ 6.59375 54.828125 13.0625 64.515625 \nQ 19.53125 74.21875 31.78125 74.21875 \nz\n\" id=\"DejaVuSans-48\"/>\n       </defs>\n       <use xlink:href=\"#DejaVuSans-48\"/>\n      </g>\n     </g>\n    </g>\n    <g id=\"ytick_2\">\n     <g id=\"line2d_6\">\n      <g>\n       <use style=\"stroke:#000000;stroke-width:0.8;\" x=\"46.0125\" xlink:href=\"#m5c3d7d18b1\" y=\"185.389486\"/>\n      </g>\n     </g>\n     <g id=\"text_6\">\n      <!-- 2000 -->\n      <g transform=\"translate(13.5625 189.188704)scale(0.1 -0.1)\">\n       <defs>\n        <path d=\"M 19.1875 8.296875 \nL 53.609375 8.296875 \nL 53.609375 0 \nL 7.328125 0 \nL 7.328125 8.296875 \nQ 12.9375 14.109375 22.625 23.890625 \nQ 32.328125 33.6875 34.8125 36.53125 \nQ 39.546875 41.84375 41.421875 45.53125 \nQ 43.3125 49.21875 43.3125 52.78125 \nQ 43.3125 58.59375 39.234375 62.25 \nQ 35.15625 65.921875 28.609375 65.921875 \nQ 23.96875 65.921875 18.8125 64.3125 \nQ 13.671875 62.703125 7.8125 59.421875 \nL 7.8125 69.390625 \nQ 13.765625 71.78125 18.9375 73 \nQ 24.125 74.21875 28.421875 74.21875 \nQ 39.75 74.21875 46.484375 68.546875 \nQ 53.21875 62.890625 53.21875 53.421875 \nQ 53.21875 48.921875 51.53125 44.890625 \nQ 49.859375 40.875 45.40625 35.40625 \nQ 44.1875 33.984375 37.640625 27.21875 \nQ 31.109375 20.453125 19.1875 8.296875 \nz\n\" id=\"DejaVuSans-50\"/>\n       </defs>\n       <use xlink:href=\"#DejaVuSans-50\"/>\n       <use x=\"63.623047\" xlink:href=\"#DejaVuSans-48\"/>\n       <use x=\"127.246094\" xlink:href=\"#DejaVuSans-48\"/>\n       <use x=\"190.869141\" xlink:href=\"#DejaVuSans-48\"/>\n      </g>\n     </g>\n    </g>\n    <g id=\"ytick_3\">\n     <g id=\"line2d_7\">\n      <g>\n       <use style=\"stroke:#000000;stroke-width:0.8;\" x=\"46.0125\" xlink:href=\"#m5c3d7d18b1\" y=\"146.138971\"/>\n      </g>\n     </g>\n     <g id=\"text_7\">\n      <!-- 4000 -->\n      <g transform=\"translate(13.5625 149.93819)scale(0.1 -0.1)\">\n       <defs>\n        <path d=\"M 37.796875 64.3125 \nL 12.890625 25.390625 \nL 37.796875 25.390625 \nz\nM 35.203125 72.90625 \nL 47.609375 72.90625 \nL 47.609375 25.390625 \nL 58.015625 25.390625 \nL 58.015625 17.1875 \nL 47.609375 17.1875 \nL 47.609375 0 \nL 37.796875 0 \nL 37.796875 17.1875 \nL 4.890625 17.1875 \nL 4.890625 26.703125 \nz\n\" id=\"DejaVuSans-52\"/>\n       </defs>\n       <use xlink:href=\"#DejaVuSans-52\"/>\n       <use x=\"63.623047\" xlink:href=\"#DejaVuSans-48\"/>\n       <use x=\"127.246094\" xlink:href=\"#DejaVuSans-48\"/>\n       <use x=\"190.869141\" xlink:href=\"#DejaVuSans-48\"/>\n      </g>\n     </g>\n    </g>\n    <g id=\"ytick_4\">\n     <g id=\"line2d_8\">\n      <g>\n       <use style=\"stroke:#000000;stroke-width:0.8;\" x=\"46.0125\" xlink:href=\"#m5c3d7d18b1\" y=\"106.888457\"/>\n      </g>\n     </g>\n     <g id=\"text_8\">\n      <!-- 6000 -->\n      <g transform=\"translate(13.5625 110.687675)scale(0.1 -0.1)\">\n       <defs>\n        <path d=\"M 33.015625 40.375 \nQ 26.375 40.375 22.484375 35.828125 \nQ 18.609375 31.296875 18.609375 23.390625 \nQ 18.609375 15.53125 22.484375 10.953125 \nQ 26.375 6.390625 33.015625 6.390625 \nQ 39.65625 6.390625 43.53125 10.953125 \nQ 47.40625 15.53125 47.40625 23.390625 \nQ 47.40625 31.296875 43.53125 35.828125 \nQ 39.65625 40.375 33.015625 40.375 \nz\nM 52.59375 71.296875 \nL 52.59375 62.3125 \nQ 48.875 64.0625 45.09375 64.984375 \nQ 41.3125 65.921875 37.59375 65.921875 \nQ 27.828125 65.921875 22.671875 59.328125 \nQ 17.53125 52.734375 16.796875 39.40625 \nQ 19.671875 43.65625 24.015625 45.921875 \nQ 28.375 48.1875 33.59375 48.1875 \nQ 44.578125 48.1875 50.953125 41.515625 \nQ 57.328125 34.859375 57.328125 23.390625 \nQ 57.328125 12.15625 50.6875 5.359375 \nQ 44.046875 -1.421875 33.015625 -1.421875 \nQ 20.359375 -1.421875 13.671875 8.265625 \nQ 6.984375 17.96875 6.984375 36.375 \nQ 6.984375 53.65625 15.1875 63.9375 \nQ 23.390625 74.21875 37.203125 74.21875 \nQ 40.921875 74.21875 44.703125 73.484375 \nQ 48.484375 72.75 52.59375 71.296875 \nz\n\" id=\"DejaVuSans-54\"/>\n       </defs>\n       <use xlink:href=\"#DejaVuSans-54\"/>\n       <use x=\"63.623047\" xlink:href=\"#DejaVuSans-48\"/>\n       <use x=\"127.246094\" xlink:href=\"#DejaVuSans-48\"/>\n       <use x=\"190.869141\" xlink:href=\"#DejaVuSans-48\"/>\n      </g>\n     </g>\n    </g>\n    <g id=\"ytick_5\">\n     <g id=\"line2d_9\">\n      <g>\n       <use style=\"stroke:#000000;stroke-width:0.8;\" x=\"46.0125\" xlink:href=\"#m5c3d7d18b1\" y=\"67.637942\"/>\n      </g>\n     </g>\n     <g id=\"text_9\">\n      <!-- 8000 -->\n      <g transform=\"translate(13.5625 71.437161)scale(0.1 -0.1)\">\n       <defs>\n        <path d=\"M 31.78125 34.625 \nQ 24.75 34.625 20.71875 30.859375 \nQ 16.703125 27.09375 16.703125 20.515625 \nQ 16.703125 13.921875 20.71875 10.15625 \nQ 24.75 6.390625 31.78125 6.390625 \nQ 38.8125 6.390625 42.859375 10.171875 \nQ 46.921875 13.96875 46.921875 20.515625 \nQ 46.921875 27.09375 42.890625 30.859375 \nQ 38.875 34.625 31.78125 34.625 \nz\nM 21.921875 38.8125 \nQ 15.578125 40.375 12.03125 44.71875 \nQ 8.5 49.078125 8.5 55.328125 \nQ 8.5 64.0625 14.71875 69.140625 \nQ 20.953125 74.21875 31.78125 74.21875 \nQ 42.671875 74.21875 48.875 69.140625 \nQ 55.078125 64.0625 55.078125 55.328125 \nQ 55.078125 49.078125 51.53125 44.71875 \nQ 48 40.375 41.703125 38.8125 \nQ 48.828125 37.15625 52.796875 32.3125 \nQ 56.78125 27.484375 56.78125 20.515625 \nQ 56.78125 9.90625 50.3125 4.234375 \nQ 43.84375 -1.421875 31.78125 -1.421875 \nQ 19.734375 -1.421875 13.25 4.234375 \nQ 6.78125 9.90625 6.78125 20.515625 \nQ 6.78125 27.484375 10.78125 32.3125 \nQ 14.796875 37.15625 21.921875 38.8125 \nz\nM 18.3125 54.390625 \nQ 18.3125 48.734375 21.84375 45.5625 \nQ 25.390625 42.390625 31.78125 42.390625 \nQ 38.140625 42.390625 41.71875 45.5625 \nQ 45.3125 48.734375 45.3125 54.390625 \nQ 45.3125 60.0625 41.71875 63.234375 \nQ 38.140625 66.40625 31.78125 66.40625 \nQ 25.390625 66.40625 21.84375 63.234375 \nQ 18.3125 60.0625 18.3125 54.390625 \nz\n\" id=\"DejaVuSans-56\"/>\n       </defs>\n       <use xlink:href=\"#DejaVuSans-56\"/>\n       <use x=\"63.623047\" xlink:href=\"#DejaVuSans-48\"/>\n       <use x=\"127.246094\" xlink:href=\"#DejaVuSans-48\"/>\n       <use x=\"190.869141\" xlink:href=\"#DejaVuSans-48\"/>\n      </g>\n     </g>\n    </g>\n    <g id=\"ytick_6\">\n     <g id=\"line2d_10\">\n      <g>\n       <use style=\"stroke:#000000;stroke-width:0.8;\" x=\"46.0125\" xlink:href=\"#m5c3d7d18b1\" y=\"28.387428\"/>\n      </g>\n     </g>\n     <g id=\"text_10\">\n      <!-- 10000 -->\n      <g transform=\"translate(7.2 32.186646)scale(0.1 -0.1)\">\n       <defs>\n        <path d=\"M 12.40625 8.296875 \nL 28.515625 8.296875 \nL 28.515625 63.921875 \nL 10.984375 60.40625 \nL 10.984375 69.390625 \nL 28.421875 72.90625 \nL 38.28125 72.90625 \nL 38.28125 8.296875 \nL 54.390625 8.296875 \nL 54.390625 0 \nL 12.40625 0 \nz\n\" id=\"DejaVuSans-49\"/>\n       </defs>\n       <use xlink:href=\"#DejaVuSans-49\"/>\n       <use x=\"63.623047\" xlink:href=\"#DejaVuSans-48\"/>\n       <use x=\"127.246094\" xlink:href=\"#DejaVuSans-48\"/>\n       <use x=\"190.869141\" xlink:href=\"#DejaVuSans-48\"/>\n       <use x=\"254.492188\" xlink:href=\"#DejaVuSans-48\"/>\n      </g>\n     </g>\n    </g>\n   </g>\n   <g id=\"patch_7\">\n    <path d=\"M 46.0125 224.64 \nL 46.0125 7.2 \n\" style=\"fill:none;stroke:#000000;stroke-linecap:square;stroke-linejoin:miter;stroke-width:0.8;\"/>\n   </g>\n   <g id=\"patch_8\">\n    <path d=\"M 380.8125 224.64 \nL 380.8125 7.2 \n\" style=\"fill:none;stroke:#000000;stroke-linecap:square;stroke-linejoin:miter;stroke-width:0.8;\"/>\n   </g>\n   <g id=\"patch_9\">\n    <path d=\"M 46.0125 224.64 \nL 380.8125 224.64 \n\" style=\"fill:none;stroke:#000000;stroke-linecap:square;stroke-linejoin:miter;stroke-width:0.8;\"/>\n   </g>\n   <g id=\"patch_10\">\n    <path d=\"M 46.0125 7.2 \nL 380.8125 7.2 \n\" style=\"fill:none;stroke:#000000;stroke-linecap:square;stroke-linejoin:miter;stroke-width:0.8;\"/>\n   </g>\n  </g>\n </g>\n <defs>\n  <clipPath id=\"p1cf60df38a\">\n   <rect height=\"217.44\" width=\"334.8\" x=\"46.0125\" y=\"7.2\"/>\n  </clipPath>\n </defs>\n</svg>\n",
      "image/png": "[encoded data removed]"
     },
     "metadata": {
      "needs_background": "light"
     }
    }
   ],
   "source": [
    "species.trend.value_counts().plot(kind='bar')"
   ]
  },
  {
   "cell_type": "code",
   "execution_count": 76,
   "metadata": {},
   "outputs": [
    {
     "output_type": "execute_result",
     "data": {
      "text/plain": [
       "<AxesSubplot:>"
      ]
     },
     "metadata": {},
     "execution_count": 76
    },
    {
     "output_type": "display_data",
     "data": {
      "text/plain": "<Figure size 432x288 with 1 Axes>",
      "image/svg+xml": "<?xml version=\"1.0\" encoding=\"utf-8\" standalone=\"no\"?>\n<!DOCTYPE svg PUBLIC \"-//W3C//DTD SVG 1.1//EN\"\n  \"http://www.w3.org/Graphics/SVG/1.1/DTD/svg11.dtd\">\n<!-- Created with matplotlib (https://matplotlib.org/) -->\n<svg height=\"255.04625pt\" version=\"1.1\" viewBox=\"0 0 388.0125 255.04625\" width=\"388.0125pt\" xmlns=\"http://www.w3.org/2000/svg\" xmlns:xlink=\"http://www.w3.org/1999/xlink\">\n <metadata>\n  <rdf:RDF xmlns:cc=\"http://creativecommons.org/ns#\" xmlns:dc=\"http://purl.org/dc/elements/1.1/\" xmlns:rdf=\"http://www.w3.org/1999/02/22-rdf-syntax-ns#\">\n   <cc:Work>\n    <dc:type rdf:resource=\"http://purl.org/dc/dcmitype/StillImage\"/>\n    <dc:date>2021-01-20T16:18:57.214474</dc:date>\n    <dc:format>image/svg+xml</dc:format>\n    <dc:creator>\n     <cc:Agent>\n      <dc:title>Matplotlib v3.3.2, https://matplotlib.org/</dc:title>\n     </cc:Agent>\n    </dc:creator>\n   </cc:Work>\n  </rdf:RDF>\n </metadata>\n <defs>\n  <style type=\"text/css\">*{stroke-linecap:butt;stroke-linejoin:round;}</style>\n </defs>\n <g id=\"figure_1\">\n  <g id=\"patch_1\">\n   <path d=\"M 0 255.04625 \nL 388.0125 255.04625 \nL 388.0125 0 \nL 0 0 \nz\n\" style=\"fill:none;\"/>\n  </g>\n  <g id=\"axes_1\">\n   <g id=\"patch_2\">\n    <path d=\"M 46.0125 224.64 \nL 380.8125 224.64 \nL 380.8125 7.2 \nL 46.0125 7.2 \nz\n\" style=\"fill:#ffffff;\"/>\n   </g>\n   <g id=\"patch_3\">\n    <path clip-path=\"url(#pbbe73ecfbd)\" d=\"M 56.475 224.64 \nL 77.4 224.64 \nL 77.4 17.554286 \nL 56.475 17.554286 \nz\n\" style=\"fill:#1f77b4;\"/>\n   </g>\n   <g id=\"patch_4\">\n    <path clip-path=\"url(#pbbe73ecfbd)\" d=\"M 98.325 224.64 \nL 119.25 224.64 \nL 119.25 188.463532 \nL 98.325 188.463532 \nz\n\" style=\"fill:#1f77b4;\"/>\n   </g>\n   <g id=\"patch_5\">\n    <path clip-path=\"url(#pbbe73ecfbd)\" d=\"M 140.175 224.64 \nL 161.1 224.64 \nL 161.1 201.644281 \nL 140.175 201.644281 \nz\n\" style=\"fill:#1f77b4;\"/>\n   </g>\n   <g id=\"patch_6\">\n    <path clip-path=\"url(#pbbe73ecfbd)\" d=\"M 182.025 224.64 \nL 202.95 224.64 \nL 202.95 204.21944 \nL 182.025 204.21944 \nz\n\" style=\"fill:#1f77b4;\"/>\n   </g>\n   <g id=\"patch_7\">\n    <path clip-path=\"url(#pbbe73ecfbd)\" d=\"M 223.875 224.64 \nL 244.8 224.64 \nL 244.8 205.857151 \nL 223.875 205.857151 \nz\n\" style=\"fill:#1f77b4;\"/>\n   </g>\n   <g id=\"patch_8\">\n    <path clip-path=\"url(#pbbe73ecfbd)\" d=\"M 265.725 224.64 \nL 286.65 224.64 \nL 286.65 215.141277 \nL 265.725 215.141277 \nz\n\" style=\"fill:#1f77b4;\"/>\n   </g>\n   <g id=\"patch_9\">\n    <path clip-path=\"url(#pbbe73ecfbd)\" d=\"M 307.575 224.64 \nL 328.5 224.64 \nL 328.5 222.516623 \nL 307.575 222.516623 \nz\n\" style=\"fill:#1f77b4;\"/>\n   </g>\n   <g id=\"patch_10\">\n    <path clip-path=\"url(#pbbe73ecfbd)\" d=\"M 349.425 224.64 \nL 370.35 224.64 \nL 370.35 224.572233 \nL 349.425 224.572233 \nz\n\" style=\"fill:#1f77b4;\"/>\n   </g>\n   <g id=\"matplotlib.axis_1\">\n    <g id=\"xtick_1\">\n     <g id=\"line2d_1\">\n      <defs>\n       <path d=\"M 0 0 \nL 0 3.5 \n\" id=\"mb1a5d0e782\" style=\"stroke:#000000;stroke-width:0.8;\"/>\n      </defs>\n      <g>\n       <use style=\"stroke:#000000;stroke-width:0.8;\" x=\"66.9375\" xlink:href=\"#mb1a5d0e782\" y=\"224.64\"/>\n      </g>\n     </g>\n     <g id=\"text_1\">\n      <!-- LC -->\n      <g transform=\"translate(69.696875 244.194687)rotate(-90)scale(0.1 -0.1)\">\n       <defs>\n        <path d=\"M 9.8125 72.90625 \nL 19.671875 72.90625 \nL 19.671875 8.296875 \nL 55.171875 8.296875 \nL 55.171875 0 \nL 9.8125 0 \nz\n\" id=\"DejaVuSans-76\"/>\n        <path d=\"M 64.40625 67.28125 \nL 64.40625 56.890625 \nQ 59.421875 61.53125 53.78125 63.8125 \nQ 48.140625 66.109375 41.796875 66.109375 \nQ 29.296875 66.109375 22.65625 58.46875 \nQ 16.015625 50.828125 16.015625 36.375 \nQ 16.015625 21.96875 22.65625 14.328125 \nQ 29.296875 6.6875 41.796875 6.6875 \nQ 48.140625 6.6875 53.78125 8.984375 \nQ 59.421875 11.28125 64.40625 15.921875 \nL 64.40625 5.609375 \nQ 59.234375 2.09375 53.4375 0.328125 \nQ 47.65625 -1.421875 41.21875 -1.421875 \nQ 24.65625 -1.421875 15.125 8.703125 \nQ 5.609375 18.84375 5.609375 36.375 \nQ 5.609375 53.953125 15.125 64.078125 \nQ 24.65625 74.21875 41.21875 74.21875 \nQ 47.75 74.21875 53.53125 72.484375 \nQ 59.328125 70.75 64.40625 67.28125 \nz\n\" id=\"DejaVuSans-67\"/>\n       </defs>\n       <use xlink:href=\"#DejaVuSans-76\"/>\n       <use x=\"55.712891\" xlink:href=\"#DejaVuSans-67\"/>\n      </g>\n     </g>\n    </g>\n    <g id=\"xtick_2\">\n     <g id=\"line2d_2\">\n      <g>\n       <use style=\"stroke:#000000;stroke-width:0.8;\" x=\"108.7875\" xlink:href=\"#mb1a5d0e782\" y=\"224.64\"/>\n      </g>\n     </g>\n     <g id=\"text_2\">\n      <!-- DD -->\n      <g transform=\"translate(111.546875 247.04)rotate(-90)scale(0.1 -0.1)\">\n       <defs>\n        <path d=\"M 19.671875 64.796875 \nL 19.671875 8.109375 \nL 31.59375 8.109375 \nQ 46.6875 8.109375 53.6875 14.9375 \nQ 60.6875 21.78125 60.6875 36.53125 \nQ 60.6875 51.171875 53.6875 57.984375 \nQ 46.6875 64.796875 31.59375 64.796875 \nz\nM 9.8125 72.90625 \nL 30.078125 72.90625 \nQ 51.265625 72.90625 61.171875 64.09375 \nQ 71.09375 55.28125 71.09375 36.53125 \nQ 71.09375 17.671875 61.125 8.828125 \nQ 51.171875 0 30.078125 0 \nL 9.8125 0 \nz\n\" id=\"DejaVuSans-68\"/>\n       </defs>\n       <use xlink:href=\"#DejaVuSans-68\"/>\n       <use x=\"77.001953\" xlink:href=\"#DejaVuSans-68\"/>\n      </g>\n     </g>\n    </g>\n    <g id=\"xtick_3\">\n     <g id=\"line2d_3\">\n      <g>\n       <use style=\"stroke:#000000;stroke-width:0.8;\" x=\"150.6375\" xlink:href=\"#mb1a5d0e782\" y=\"224.64\"/>\n      </g>\n     </g>\n     <g id=\"text_3\">\n      <!-- VU -->\n      <g transform=\"translate(153.396875 245.799375)rotate(-90)scale(0.1 -0.1)\">\n       <defs>\n        <path d=\"M 28.609375 0 \nL 0.78125 72.90625 \nL 11.078125 72.90625 \nL 34.1875 11.53125 \nL 57.328125 72.90625 \nL 67.578125 72.90625 \nL 39.796875 0 \nz\n\" id=\"DejaVuSans-86\"/>\n        <path d=\"M 8.6875 72.90625 \nL 18.609375 72.90625 \nL 18.609375 28.609375 \nQ 18.609375 16.890625 22.84375 11.734375 \nQ 27.09375 6.59375 36.625 6.59375 \nQ 46.09375 6.59375 50.34375 11.734375 \nQ 54.59375 16.890625 54.59375 28.609375 \nL 54.59375 72.90625 \nL 64.5 72.90625 \nL 64.5 27.390625 \nQ 64.5 13.140625 57.4375 5.859375 \nQ 50.390625 -1.421875 36.625 -1.421875 \nQ 22.796875 -1.421875 15.734375 5.859375 \nQ 8.6875 13.140625 8.6875 27.390625 \nz\n\" id=\"DejaVuSans-85\"/>\n       </defs>\n       <use xlink:href=\"#DejaVuSans-86\"/>\n       <use x=\"68.408203\" xlink:href=\"#DejaVuSans-85\"/>\n      </g>\n     </g>\n    </g>\n    <g id=\"xtick_4\">\n     <g id=\"line2d_4\">\n      <g>\n       <use style=\"stroke:#000000;stroke-width:0.8;\" x=\"192.4875\" xlink:href=\"#mb1a5d0e782\" y=\"224.64\"/>\n      </g>\n     </g>\n     <g id=\"text_4\">\n      <!-- NT -->\n      <g transform=\"translate(195.246875 245.229062)rotate(-90)scale(0.1 -0.1)\">\n       <defs>\n        <path d=\"M 9.8125 72.90625 \nL 23.09375 72.90625 \nL 55.421875 11.921875 \nL 55.421875 72.90625 \nL 64.984375 72.90625 \nL 64.984375 0 \nL 51.703125 0 \nL 19.390625 60.984375 \nL 19.390625 0 \nL 9.8125 0 \nz\n\" id=\"DejaVuSans-78\"/>\n        <path d=\"M -0.296875 72.90625 \nL 61.375 72.90625 \nL 61.375 64.59375 \nL 35.5 64.59375 \nL 35.5 0 \nL 25.59375 0 \nL 25.59375 64.59375 \nL -0.296875 64.59375 \nz\n\" id=\"DejaVuSans-84\"/>\n       </defs>\n       <use xlink:href=\"#DejaVuSans-78\"/>\n       <use x=\"74.804688\" xlink:href=\"#DejaVuSans-84\"/>\n      </g>\n     </g>\n    </g>\n    <g id=\"xtick_5\">\n     <g id=\"line2d_5\">\n      <g>\n       <use style=\"stroke:#000000;stroke-width:0.8;\" x=\"234.3375\" xlink:href=\"#mb1a5d0e782\" y=\"224.64\"/>\n      </g>\n     </g>\n     <g id=\"text_5\">\n      <!-- EN -->\n      <g transform=\"translate(237.096875 245.44)rotate(-90)scale(0.1 -0.1)\">\n       <defs>\n        <path d=\"M 9.8125 72.90625 \nL 55.90625 72.90625 \nL 55.90625 64.59375 \nL 19.671875 64.59375 \nL 19.671875 43.015625 \nL 54.390625 43.015625 \nL 54.390625 34.71875 \nL 19.671875 34.71875 \nL 19.671875 8.296875 \nL 56.78125 8.296875 \nL 56.78125 0 \nL 9.8125 0 \nz\n\" id=\"DejaVuSans-69\"/>\n       </defs>\n       <use xlink:href=\"#DejaVuSans-69\"/>\n       <use x=\"63.183594\" xlink:href=\"#DejaVuSans-78\"/>\n      </g>\n     </g>\n    </g>\n    <g id=\"xtick_6\">\n     <g id=\"line2d_6\">\n      <g>\n       <use style=\"stroke:#000000;stroke-width:0.8;\" x=\"276.1875\" xlink:href=\"#mb1a5d0e782\" y=\"224.64\"/>\n      </g>\n     </g>\n     <g id=\"text_6\">\n      <!-- CR -->\n      <g transform=\"translate(278.946875 245.57125)rotate(-90)scale(0.1 -0.1)\">\n       <defs>\n        <path d=\"M 44.390625 34.1875 \nQ 47.5625 33.109375 50.5625 29.59375 \nQ 53.5625 26.078125 56.59375 19.921875 \nL 66.609375 0 \nL 56 0 \nL 46.6875 18.703125 \nQ 43.0625 26.03125 39.671875 28.421875 \nQ 36.28125 30.8125 30.421875 30.8125 \nL 19.671875 30.8125 \nL 19.671875 0 \nL 9.8125 0 \nL 9.8125 72.90625 \nL 32.078125 72.90625 \nQ 44.578125 72.90625 50.734375 67.671875 \nQ 56.890625 62.453125 56.890625 51.90625 \nQ 56.890625 45.015625 53.6875 40.46875 \nQ 50.484375 35.9375 44.390625 34.1875 \nz\nM 19.671875 64.796875 \nL 19.671875 38.921875 \nL 32.078125 38.921875 \nQ 39.203125 38.921875 42.84375 42.21875 \nQ 46.484375 45.515625 46.484375 51.90625 \nQ 46.484375 58.296875 42.84375 61.546875 \nQ 39.203125 64.796875 32.078125 64.796875 \nz\n\" id=\"DejaVuSans-82\"/>\n       </defs>\n       <use xlink:href=\"#DejaVuSans-67\"/>\n       <use x=\"69.824219\" xlink:href=\"#DejaVuSans-82\"/>\n      </g>\n     </g>\n    </g>\n    <g id=\"xtick_7\">\n     <g id=\"line2d_7\">\n      <g>\n       <use style=\"stroke:#000000;stroke-width:0.8;\" x=\"318.0375\" xlink:href=\"#mb1a5d0e782\" y=\"224.64\"/>\n      </g>\n     </g>\n     <g id=\"text_7\">\n      <!-- EX -->\n      <g transform=\"translate(320.796875 244.80875)rotate(-90)scale(0.1 -0.1)\">\n       <defs>\n        <path d=\"M 6.296875 72.90625 \nL 16.890625 72.90625 \nL 35.015625 45.796875 \nL 53.21875 72.90625 \nL 63.8125 72.90625 \nL 40.375 37.890625 \nL 65.375 0 \nL 54.78125 0 \nL 34.28125 31 \nL 13.625 0 \nL 2.984375 0 \nL 29 38.921875 \nz\n\" id=\"DejaVuSans-88\"/>\n       </defs>\n       <use xlink:href=\"#DejaVuSans-69\"/>\n       <use x=\"63.183594\" xlink:href=\"#DejaVuSans-88\"/>\n      </g>\n     </g>\n    </g>\n    <g id=\"xtick_8\">\n     <g id=\"line2d_8\">\n      <g>\n       <use style=\"stroke:#000000;stroke-width:0.8;\" x=\"359.8875\" xlink:href=\"#mb1a5d0e782\" y=\"224.64\"/>\n      </g>\n     </g>\n     <g id=\"text_8\">\n      <!-- EW -->\n      <g transform=\"translate(362.646875 247.84625)rotate(-90)scale(0.1 -0.1)\">\n       <defs>\n        <path d=\"M 3.328125 72.90625 \nL 13.28125 72.90625 \nL 28.609375 11.28125 \nL 43.890625 72.90625 \nL 54.984375 72.90625 \nL 70.3125 11.28125 \nL 85.59375 72.90625 \nL 95.609375 72.90625 \nL 77.296875 0 \nL 64.890625 0 \nL 49.515625 63.28125 \nL 33.984375 0 \nL 21.578125 0 \nz\n\" id=\"DejaVuSans-87\"/>\n       </defs>\n       <use xlink:href=\"#DejaVuSans-69\"/>\n       <use x=\"63.183594\" xlink:href=\"#DejaVuSans-87\"/>\n      </g>\n     </g>\n    </g>\n   </g>\n   <g id=\"matplotlib.axis_2\">\n    <g id=\"ytick_1\">\n     <g id=\"line2d_9\">\n      <defs>\n       <path d=\"M 0 0 \nL -3.5 0 \n\" id=\"m43076e0813\" style=\"stroke:#000000;stroke-width:0.8;\"/>\n      </defs>\n      <g>\n       <use style=\"stroke:#000000;stroke-width:0.8;\" x=\"46.0125\" xlink:href=\"#m43076e0813\" y=\"224.64\"/>\n      </g>\n     </g>\n     <g id=\"text_9\">\n      <!-- 0 -->\n      <g transform=\"translate(32.65 228.439219)scale(0.1 -0.1)\">\n       <defs>\n        <path d=\"M 31.78125 66.40625 \nQ 24.171875 66.40625 20.328125 58.90625 \nQ 16.5 51.421875 16.5 36.375 \nQ 16.5 21.390625 20.328125 13.890625 \nQ 24.171875 6.390625 31.78125 6.390625 \nQ 39.453125 6.390625 43.28125 13.890625 \nQ 47.125 21.390625 47.125 36.375 \nQ 47.125 51.421875 43.28125 58.90625 \nQ 39.453125 66.40625 31.78125 66.40625 \nz\nM 31.78125 74.21875 \nQ 44.046875 74.21875 50.515625 64.515625 \nQ 56.984375 54.828125 56.984375 36.375 \nQ 56.984375 17.96875 50.515625 8.265625 \nQ 44.046875 -1.421875 31.78125 -1.421875 \nQ 19.53125 -1.421875 13.0625 8.265625 \nQ 6.59375 17.96875 6.59375 36.375 \nQ 6.59375 54.828125 13.0625 64.515625 \nQ 19.53125 74.21875 31.78125 74.21875 \nz\n\" id=\"DejaVuSans-48\"/>\n       </defs>\n       <use xlink:href=\"#DejaVuSans-48\"/>\n      </g>\n     </g>\n    </g>\n    <g id=\"ytick_2\">\n     <g id=\"line2d_10\">\n      <g>\n       <use style=\"stroke:#000000;stroke-width:0.8;\" x=\"46.0125\" xlink:href=\"#m43076e0813\" y=\"196.403606\"/>\n      </g>\n     </g>\n     <g id=\"text_10\">\n      <!-- 2500 -->\n      <g transform=\"translate(13.5625 200.202825)scale(0.1 -0.1)\">\n       <defs>\n        <path d=\"M 19.1875 8.296875 \nL 53.609375 8.296875 \nL 53.609375 0 \nL 7.328125 0 \nL 7.328125 8.296875 \nQ 12.9375 14.109375 22.625 23.890625 \nQ 32.328125 33.6875 34.8125 36.53125 \nQ 39.546875 41.84375 41.421875 45.53125 \nQ 43.3125 49.21875 43.3125 52.78125 \nQ 43.3125 58.59375 39.234375 62.25 \nQ 35.15625 65.921875 28.609375 65.921875 \nQ 23.96875 65.921875 18.8125 64.3125 \nQ 13.671875 62.703125 7.8125 59.421875 \nL 7.8125 69.390625 \nQ 13.765625 71.78125 18.9375 73 \nQ 24.125 74.21875 28.421875 74.21875 \nQ 39.75 74.21875 46.484375 68.546875 \nQ 53.21875 62.890625 53.21875 53.421875 \nQ 53.21875 48.921875 51.53125 44.890625 \nQ 49.859375 40.875 45.40625 35.40625 \nQ 44.1875 33.984375 37.640625 27.21875 \nQ 31.109375 20.453125 19.1875 8.296875 \nz\n\" id=\"DejaVuSans-50\"/>\n        <path d=\"M 10.796875 72.90625 \nL 49.515625 72.90625 \nL 49.515625 64.59375 \nL 19.828125 64.59375 \nL 19.828125 46.734375 \nQ 21.96875 47.46875 24.109375 47.828125 \nQ 26.265625 48.1875 28.421875 48.1875 \nQ 40.625 48.1875 47.75 41.5 \nQ 54.890625 34.8125 54.890625 23.390625 \nQ 54.890625 11.625 47.5625 5.09375 \nQ 40.234375 -1.421875 26.90625 -1.421875 \nQ 22.3125 -1.421875 17.546875 -0.640625 \nQ 12.796875 0.140625 7.71875 1.703125 \nL 7.71875 11.625 \nQ 12.109375 9.234375 16.796875 8.0625 \nQ 21.484375 6.890625 26.703125 6.890625 \nQ 35.15625 6.890625 40.078125 11.328125 \nQ 45.015625 15.765625 45.015625 23.390625 \nQ 45.015625 31 40.078125 35.4375 \nQ 35.15625 39.890625 26.703125 39.890625 \nQ 22.75 39.890625 18.8125 39.015625 \nQ 14.890625 38.140625 10.796875 36.28125 \nz\n\" id=\"DejaVuSans-53\"/>\n       </defs>\n       <use xlink:href=\"#DejaVuSans-50\"/>\n       <use x=\"63.623047\" xlink:href=\"#DejaVuSans-53\"/>\n       <use x=\"127.246094\" xlink:href=\"#DejaVuSans-48\"/>\n       <use x=\"190.869141\" xlink:href=\"#DejaVuSans-48\"/>\n      </g>\n     </g>\n    </g>\n    <g id=\"ytick_3\">\n     <g id=\"line2d_11\">\n      <g>\n       <use style=\"stroke:#000000;stroke-width:0.8;\" x=\"46.0125\" xlink:href=\"#m43076e0813\" y=\"168.167212\"/>\n      </g>\n     </g>\n     <g id=\"text_11\">\n      <!-- 5000 -->\n      <g transform=\"translate(13.5625 171.966431)scale(0.1 -0.1)\">\n       <use xlink:href=\"#DejaVuSans-53\"/>\n       <use x=\"63.623047\" xlink:href=\"#DejaVuSans-48\"/>\n       <use x=\"127.246094\" xlink:href=\"#DejaVuSans-48\"/>\n       <use x=\"190.869141\" xlink:href=\"#DejaVuSans-48\"/>\n      </g>\n     </g>\n    </g>\n    <g id=\"ytick_4\">\n     <g id=\"line2d_12\">\n      <g>\n       <use style=\"stroke:#000000;stroke-width:0.8;\" x=\"46.0125\" xlink:href=\"#m43076e0813\" y=\"139.930818\"/>\n      </g>\n     </g>\n     <g id=\"text_12\">\n      <!-- 7500 -->\n      <g transform=\"translate(13.5625 143.730036)scale(0.1 -0.1)\">\n       <defs>\n        <path d=\"M 8.203125 72.90625 \nL 55.078125 72.90625 \nL 55.078125 68.703125 \nL 28.609375 0 \nL 18.3125 0 \nL 43.21875 64.59375 \nL 8.203125 64.59375 \nz\n\" id=\"DejaVuSans-55\"/>\n       </defs>\n       <use xlink:href=\"#DejaVuSans-55\"/>\n       <use x=\"63.623047\" xlink:href=\"#DejaVuSans-53\"/>\n       <use x=\"127.246094\" xlink:href=\"#DejaVuSans-48\"/>\n       <use x=\"190.869141\" xlink:href=\"#DejaVuSans-48\"/>\n      </g>\n     </g>\n    </g>\n    <g id=\"ytick_5\">\n     <g id=\"line2d_13\">\n      <g>\n       <use style=\"stroke:#000000;stroke-width:0.8;\" x=\"46.0125\" xlink:href=\"#m43076e0813\" y=\"111.694424\"/>\n      </g>\n     </g>\n     <g id=\"text_13\">\n      <!-- 10000 -->\n      <g transform=\"translate(7.2 115.493642)scale(0.1 -0.1)\">\n       <defs>\n        <path d=\"M 12.40625 8.296875 \nL 28.515625 8.296875 \nL 28.515625 63.921875 \nL 10.984375 60.40625 \nL 10.984375 69.390625 \nL 28.421875 72.90625 \nL 38.28125 72.90625 \nL 38.28125 8.296875 \nL 54.390625 8.296875 \nL 54.390625 0 \nL 12.40625 0 \nz\n\" id=\"DejaVuSans-49\"/>\n       </defs>\n       <use xlink:href=\"#DejaVuSans-49\"/>\n       <use x=\"63.623047\" xlink:href=\"#DejaVuSans-48\"/>\n       <use x=\"127.246094\" xlink:href=\"#DejaVuSans-48\"/>\n       <use x=\"190.869141\" xlink:href=\"#DejaVuSans-48\"/>\n       <use x=\"254.492188\" xlink:href=\"#DejaVuSans-48\"/>\n      </g>\n     </g>\n    </g>\n    <g id=\"ytick_6\">\n     <g id=\"line2d_14\">\n      <g>\n       <use style=\"stroke:#000000;stroke-width:0.8;\" x=\"46.0125\" xlink:href=\"#m43076e0813\" y=\"83.45803\"/>\n      </g>\n     </g>\n     <g id=\"text_14\">\n      <!-- 12500 -->\n      <g transform=\"translate(7.2 87.257248)scale(0.1 -0.1)\">\n       <use xlink:href=\"#DejaVuSans-49\"/>\n       <use x=\"63.623047\" xlink:href=\"#DejaVuSans-50\"/>\n       <use x=\"127.246094\" xlink:href=\"#DejaVuSans-53\"/>\n       <use x=\"190.869141\" xlink:href=\"#DejaVuSans-48\"/>\n       <use x=\"254.492188\" xlink:href=\"#DejaVuSans-48\"/>\n      </g>\n     </g>\n    </g>\n    <g id=\"ytick_7\">\n     <g id=\"line2d_15\">\n      <g>\n       <use style=\"stroke:#000000;stroke-width:0.8;\" x=\"46.0125\" xlink:href=\"#m43076e0813\" y=\"55.221635\"/>\n      </g>\n     </g>\n     <g id=\"text_15\">\n      <!-- 15000 -->\n      <g transform=\"translate(7.2 59.020854)scale(0.1 -0.1)\">\n       <use xlink:href=\"#DejaVuSans-49\"/>\n       <use x=\"63.623047\" xlink:href=\"#DejaVuSans-53\"/>\n       <use x=\"127.246094\" xlink:href=\"#DejaVuSans-48\"/>\n       <use x=\"190.869141\" xlink:href=\"#DejaVuSans-48\"/>\n       <use x=\"254.492188\" xlink:href=\"#DejaVuSans-48\"/>\n      </g>\n     </g>\n    </g>\n    <g id=\"ytick_8\">\n     <g id=\"line2d_16\">\n      <g>\n       <use style=\"stroke:#000000;stroke-width:0.8;\" x=\"46.0125\" xlink:href=\"#m43076e0813\" y=\"26.985241\"/>\n      </g>\n     </g>\n     <g id=\"text_16\">\n      <!-- 17500 -->\n      <g transform=\"translate(7.2 30.78446)scale(0.1 -0.1)\">\n       <use xlink:href=\"#DejaVuSans-49\"/>\n       <use x=\"63.623047\" xlink:href=\"#DejaVuSans-55\"/>\n       <use x=\"127.246094\" xlink:href=\"#DejaVuSans-53\"/>\n       <use x=\"190.869141\" xlink:href=\"#DejaVuSans-48\"/>\n       <use x=\"254.492188\" xlink:href=\"#DejaVuSans-48\"/>\n      </g>\n     </g>\n    </g>\n   </g>\n   <g id=\"patch_11\">\n    <path d=\"M 46.0125 224.64 \nL 46.0125 7.2 \n\" style=\"fill:none;stroke:#000000;stroke-linecap:square;stroke-linejoin:miter;stroke-width:0.8;\"/>\n   </g>\n   <g id=\"patch_12\">\n    <path d=\"M 380.8125 224.64 \nL 380.8125 7.2 \n\" style=\"fill:none;stroke:#000000;stroke-linecap:square;stroke-linejoin:miter;stroke-width:0.8;\"/>\n   </g>\n   <g id=\"patch_13\">\n    <path d=\"M 46.0125 224.64 \nL 380.8125 224.64 \n\" style=\"fill:none;stroke:#000000;stroke-linecap:square;stroke-linejoin:miter;stroke-width:0.8;\"/>\n   </g>\n   <g id=\"patch_14\">\n    <path d=\"M 46.0125 7.2 \nL 380.8125 7.2 \n\" style=\"fill:none;stroke:#000000;stroke-linecap:square;stroke-linejoin:miter;stroke-width:0.8;\"/>\n   </g>\n  </g>\n </g>\n <defs>\n  <clipPath id=\"pbbe73ecfbd\">\n   <rect height=\"217.44\" width=\"334.8\" x=\"46.0125\" y=\"7.2\"/>\n  </clipPath>\n </defs>\n</svg>\n",
      "image/png": "[encoded data removed]"
     },
     "metadata": {
      "needs_background": "light"
     }
    }
   ],
   "source": [
    "species.threat_level.value_counts().plot(kind='bar')"
   ]
  },
  {
   "cell_type": "markdown",
   "metadata": {},
   "source": [
    "# Create data for species per trend per country"
   ]
  },
  {
   "cell_type": "code",
   "execution_count": 77,
   "metadata": {},
   "outputs": [
    {
     "output_type": "execute_result",
     "data": {
      "text/plain": [
       "(65, 5)"
      ]
     },
     "metadata": {},
     "execution_count": 77
    }
   ],
   "source": [
    "# transform data\n",
    "grouped = IUCN_cleaned_data.groupby(['country', 'trend'])['scientific_name'].count().reset_index(name='count')\n",
    "species_trend_country = grouped.pivot(index='country', columns='trend', values='count')\n",
    "species_trend_country = species_trend_country.fillna(0.0)\n",
    "species_trend_country['Total'] = species_trend_country.sum(axis=1)\n",
    "species_trend_country.shape"
   ]
  },
  {
   "cell_type": "code",
   "execution_count": 78,
   "metadata": {},
   "outputs": [
    {
     "output_type": "execute_result",
     "data": {
      "text/plain": [
       "trend       Decreasing  Increasing  Stable  Unknown  Total\n",
       "country                                                   \n",
       "Argentina          594          94     857      618   2163\n",
       "Armenia            184          70     162       97    513\n",
       "Australia          559          84    1166     1049   2858\n",
       "Austria            256          81     221      190    748\n",
       "Azerbaijan         207          75     191      113    586"
      ],
      "text/html": "<div>\n<style scoped>\n    .dataframe tbody tr th:only-of-type {\n        vertical-align: middle;\n    }\n\n    .dataframe tbody tr th {\n        vertical-align: top;\n    }\n\n    .dataframe thead th {\n        text-align: right;\n    }\n</style>\n<table border=\"1\" class=\"dataframe\">\n  <thead>\n    <tr style=\"text-align: right;\">\n      <th>trend</th>\n      <th>Decreasing</th>\n      <th>Increasing</th>\n      <th>Stable</th>\n      <th>Unknown</th>\n      <th>Total</th>\n    </tr>\n    <tr>\n      <th>country</th>\n      <th></th>\n      <th></th>\n      <th></th>\n      <th></th>\n      <th></th>\n    </tr>\n  </thead>\n  <tbody>\n    <tr>\n      <th>Argentina</th>\n      <td>594</td>\n      <td>94</td>\n      <td>857</td>\n      <td>618</td>\n      <td>2163</td>\n    </tr>\n    <tr>\n      <th>Armenia</th>\n      <td>184</td>\n      <td>70</td>\n      <td>162</td>\n      <td>97</td>\n      <td>513</td>\n    </tr>\n    <tr>\n      <th>Australia</th>\n      <td>559</td>\n      <td>84</td>\n      <td>1166</td>\n      <td>1049</td>\n      <td>2858</td>\n    </tr>\n    <tr>\n      <th>Austria</th>\n      <td>256</td>\n      <td>81</td>\n      <td>221</td>\n      <td>190</td>\n      <td>748</td>\n    </tr>\n    <tr>\n      <th>Azerbaijan</th>\n      <td>207</td>\n      <td>75</td>\n      <td>191</td>\n      <td>113</td>\n      <td>586</td>\n    </tr>\n  </tbody>\n</table>\n</div>"
     },
     "metadata": {},
     "execution_count": 78
    }
   ],
   "source": [
    "species_trend_country.head()"
   ]
  },
  {
   "cell_type": "markdown",
   "metadata": {},
   "source": []
  },
  {
   "cell_type": "markdown",
   "metadata": {},
   "source": [
    "## Create data for species per threat level per country"
   ]
  },
  {
   "cell_type": "code",
   "execution_count": 79,
   "metadata": {},
   "outputs": [
    {
     "output_type": "execute_result",
     "data": {
      "text/plain": [
       "(65, 9)"
      ]
     },
     "metadata": {},
     "execution_count": 79
    }
   ],
   "source": [
    "# transform data\n",
    "grouped = IUCN_cleaned_data.groupby(['country', 'threat_level'])['scientific_name'].count().reset_index(name='count')\n",
    "species_tl_country = grouped.pivot(index='country', columns='threat_level', values='count')\n",
    "species_tl_country = species_tl_country.fillna(0.0)\n",
    "species_tl_country['Total'] = species_tl_country.sum(axis=1)\n",
    "species_tl_country.shape"
   ]
  },
  {
   "cell_type": "code",
   "execution_count": 80,
   "metadata": {},
   "outputs": [
    {
     "output_type": "execute_result",
     "data": {
      "text/plain": [
       "threat_level    CR     DD     EN   EW    EX      LC     NT     VU   Total\n",
       "country                                                                  \n",
       "Argentina     26.0  114.0   57.0  0.0   3.0  1759.0  116.0   88.0  2163.0\n",
       "Armenia        6.0   13.0    6.0  0.0   0.0   428.0   37.0   23.0   513.0\n",
       "Australia     57.0  142.0  106.0  0.0  36.0  2211.0  149.0  157.0  2858.0\n",
       "Austria        3.0   47.0   11.0  0.0   0.0   590.0   64.0   33.0   748.0\n",
       "Azerbaijan     5.0   13.0    6.0  0.0   0.0   496.0   39.0   27.0   586.0"
      ],
      "text/html": "<div>\n<style scoped>\n    .dataframe tbody tr th:only-of-type {\n        vertical-align: middle;\n    }\n\n    .dataframe tbody tr th {\n        vertical-align: top;\n    }\n\n    .dataframe thead th {\n        text-align: right;\n    }\n</style>\n<table border=\"1\" class=\"dataframe\">\n  <thead>\n    <tr style=\"text-align: right;\">\n      <th>threat_level</th>\n      <th>CR</th>\n      <th>DD</th>\n      <th>EN</th>\n      <th>EW</th>\n      <th>EX</th>\n      <th>LC</th>\n      <th>NT</th>\n      <th>VU</th>\n      <th>Total</th>\n    </tr>\n    <tr>\n      <th>country</th>\n      <th></th>\n      <th></th>\n      <th></th>\n      <th></th>\n      <th></th>\n      <th></th>\n      <th></th>\n      <th></th>\n      <th></th>\n    </tr>\n  </thead>\n  <tbody>\n    <tr>\n      <th>Argentina</th>\n      <td>26.0</td>\n      <td>114.0</td>\n      <td>57.0</td>\n      <td>0.0</td>\n      <td>3.0</td>\n      <td>1759.0</td>\n      <td>116.0</td>\n      <td>88.0</td>\n      <td>2163.0</td>\n    </tr>\n    <tr>\n      <th>Armenia</th>\n      <td>6.0</td>\n      <td>13.0</td>\n      <td>6.0</td>\n      <td>0.0</td>\n      <td>0.0</td>\n      <td>428.0</td>\n      <td>37.0</td>\n      <td>23.0</td>\n      <td>513.0</td>\n    </tr>\n    <tr>\n      <th>Australia</th>\n      <td>57.0</td>\n      <td>142.0</td>\n      <td>106.0</td>\n      <td>0.0</td>\n      <td>36.0</td>\n      <td>2211.0</td>\n      <td>149.0</td>\n      <td>157.0</td>\n      <td>2858.0</td>\n    </tr>\n    <tr>\n      <th>Austria</th>\n      <td>3.0</td>\n      <td>47.0</td>\n      <td>11.0</td>\n      <td>0.0</td>\n      <td>0.0</td>\n      <td>590.0</td>\n      <td>64.0</td>\n      <td>33.0</td>\n      <td>748.0</td>\n    </tr>\n    <tr>\n      <th>Azerbaijan</th>\n      <td>5.0</td>\n      <td>13.0</td>\n      <td>6.0</td>\n      <td>0.0</td>\n      <td>0.0</td>\n      <td>496.0</td>\n      <td>39.0</td>\n      <td>27.0</td>\n      <td>586.0</td>\n    </tr>\n  </tbody>\n</table>\n</div>"
     },
     "metadata": {},
     "execution_count": 80
    }
   ],
   "source": [
    "species_tl_country.head()"
   ]
  },
  {
   "cell_type": "markdown",
   "metadata": {},
   "source": [
    "This DataFrames include the same data as the \"Table 6a\" and makes not that much sense to use but we could use this to check if the data on the webpage is reasonable or if ther has gone something wrong when web scraping."
   ]
  },
  {
   "cell_type": "markdown",
   "metadata": {},
   "source": [
    "## Create data for species per class per country"
   ]
  },
  {
   "cell_type": "code",
   "execution_count": 81,
   "metadata": {},
   "outputs": [
    {
     "output_type": "execute_result",
     "data": {
      "text/plain": [
       "(65, 6)"
      ]
     },
     "metadata": {},
     "execution_count": 81
    }
   ],
   "source": [
    "# transform data\n",
    "grouped = IUCN_cleaned_data.groupby(['country', 'group'])['scientific_name'].count().reset_index(name='count')\n",
    "species_group_country = grouped.pivot(index='country', columns='group', values='count')\n",
    "species_group_country = species_group_country.fillna(0.0)\n",
    "species_group_country['Total'] = species_group_country.sum(axis=1)\n",
    "species_group_country.shape"
   ]
  },
  {
   "cell_type": "code",
   "execution_count": 82,
   "metadata": {},
   "outputs": [
    {
     "output_type": "execute_result",
     "data": {
      "text/plain": [
       "group       amphibians   birds  insects  mammals  reptiles   Total\n",
       "country                                                           \n",
       "Argentina        165.0  1001.0    242.0    379.0     376.0  2163.0\n",
       "Armenia            8.0   297.0     73.0     92.0      43.0   513.0\n",
       "Australia        223.0   726.0    563.0    354.0     992.0  2858.0\n",
       "Austria           19.0   305.0    323.0     88.0      13.0   748.0\n",
       "Azerbaijan        11.0   348.0     73.0    104.0      50.0   586.0"
      ],
      "text/html": "<div>\n<style scoped>\n    .dataframe tbody tr th:only-of-type {\n        vertical-align: middle;\n    }\n\n    .dataframe tbody tr th {\n        vertical-align: top;\n    }\n\n    .dataframe thead th {\n        text-align: right;\n    }\n</style>\n<table border=\"1\" class=\"dataframe\">\n  <thead>\n    <tr style=\"text-align: right;\">\n      <th>group</th>\n      <th>amphibians</th>\n      <th>birds</th>\n      <th>insects</th>\n      <th>mammals</th>\n      <th>reptiles</th>\n      <th>Total</th>\n    </tr>\n    <tr>\n      <th>country</th>\n      <th></th>\n      <th></th>\n      <th></th>\n      <th></th>\n      <th></th>\n      <th></th>\n    </tr>\n  </thead>\n  <tbody>\n    <tr>\n      <th>Argentina</th>\n      <td>165.0</td>\n      <td>1001.0</td>\n      <td>242.0</td>\n      <td>379.0</td>\n      <td>376.0</td>\n      <td>2163.0</td>\n    </tr>\n    <tr>\n      <th>Armenia</th>\n      <td>8.0</td>\n      <td>297.0</td>\n      <td>73.0</td>\n      <td>92.0</td>\n      <td>43.0</td>\n      <td>513.0</td>\n    </tr>\n    <tr>\n      <th>Australia</th>\n      <td>223.0</td>\n      <td>726.0</td>\n      <td>563.0</td>\n      <td>354.0</td>\n      <td>992.0</td>\n      <td>2858.0</td>\n    </tr>\n    <tr>\n      <th>Austria</th>\n      <td>19.0</td>\n      <td>305.0</td>\n      <td>323.0</td>\n      <td>88.0</td>\n      <td>13.0</td>\n      <td>748.0</td>\n    </tr>\n    <tr>\n      <th>Azerbaijan</th>\n      <td>11.0</td>\n      <td>348.0</td>\n      <td>73.0</td>\n      <td>104.0</td>\n      <td>50.0</td>\n      <td>586.0</td>\n    </tr>\n  </tbody>\n</table>\n</div>"
     },
     "metadata": {},
     "execution_count": 82
    }
   ],
   "source": [
    "species_group_country.head()"
   ]
  },
  {
   "cell_type": "markdown",
   "metadata": {},
   "source": [
    "This DataFrames include the same data as the \"Table 5\" and makes not that much sense to use but we could use this to check if the data on the webpage is reasonable or if ther has gone something wrong when web scraping."
   ]
  },
  {
   "cell_type": "markdown",
   "metadata": {},
   "source": [
    "\n"
   ]
  },
  {
   "cell_type": "markdown",
   "metadata": {},
   "source": [
    "## Write species data to csv"
   ]
  },
  {
   "cell_type": "code",
   "execution_count": 83,
   "metadata": {},
   "outputs": [],
   "source": [
    "species_group_country.to_csv('./data/IUCN/species_per_country.csv')"
   ]
  },
  {
   "source": [
    "## Create relative numbers per species"
   ],
   "cell_type": "markdown",
   "metadata": {}
  },
  {
   "cell_type": "code",
   "execution_count": 84,
   "metadata": {},
   "outputs": [
    {
     "output_type": "execute_result",
     "data": {
      "text/plain": [
       "(65, 6)"
      ]
     },
     "metadata": {},
     "execution_count": 84
    }
   ],
   "source": [
    "def threatened_by_group(species_by_country):\n",
    "    relative_threatened = []\n",
    "\n",
    "    groups = ['total'] + list(species_by_country.group.unique())\n",
    "    for group in groups:\n",
    "        filtered = species_by_country\n",
    "        if group != 'total':\n",
    "            filtered = species_by_country[species_by_country.group == group]\n",
    "        grouped = filtered.groupby(['country', 'threat_level'])['scientific_name'].count().reset_index(name='count')\n",
    "        current_group = grouped.pivot(index='country', columns='threat_level', values='count')\n",
    "        # fill nan values because if there are no species by one threat level we have NaNs\n",
    "        current_group = current_group.fillna(0.0)\n",
    "        relative = current_group[['CR', 'EN', 'VU']].sum(axis=1) / current_group.sum(axis=1)\n",
    "        relative = relative.to_frame(f'{group}_threatened').round(4)\n",
    "        relative_threatened.append(relative)\n",
    "\n",
    "    combined_data = pd.concat(relative_threatened, axis=1)\n",
    "    # fill nan values because if there are no species in one group and country we have NaNs\n",
    "    combined_data = combined_data.fillna(0.0)\n",
    "\n",
    "    return combined_data\n",
    "\n",
    "threatened_by_group = threatened_by_group(IUCN_cleaned_data)\n",
    "threatened_by_group.shape"
   ]
  }
 ],
 "metadata": {
  "kernelspec": {
   "display_name": "Python 3",
   "language": "python",
   "name": "python3"
  },
  "language_info": {
   "codemirror_mode": {
    "name": "ipython",
    "version": 3
   },
   "file_extension": ".py",
   "mimetype": "text/x-python",
   "name": "python",
   "nbconvert_exporter": "python",
   "pygments_lexer": "ipython3",
   "version": "3.8.5-final"
  }
 },
 "nbformat": 4,
 "nbformat_minor": 2
}