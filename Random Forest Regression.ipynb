{
 "cells": [
  {
   "cell_type": "code",
   "execution_count": 1,
   "metadata": {},
   "outputs": [],
   "source": [
    "import numpy as np \n",
    "import math\n",
    "import pandas as pd \n",
    "from pathlib import Path\n",
    "from sklearn import metrics\n",
    "import matplotlib.pyplot as plt\n",
    "from sklearn.ensemble import RandomForestRegressor\n",
    "from sklearn.model_selection import GridSearchCV, LeaveOneOut, cross_val_score"
   ]
  },
  {
   "cell_type": "code",
   "execution_count": 2,
   "metadata": {},
   "outputs": [],
   "source": [
    "# load all datasets\n",
    "def load_created_datasets():\n",
    "    data_list = []\n",
    "    DATA_PATH = Path('./data/created/')\n",
    "    \n",
    "    file_paths = DATA_PATH.glob('*.csv')\n",
    "    for file_path in file_paths:\n",
    "        df = pd.read_csv(file_path, index_col='Country')\n",
    "        data_list.append(df)\n",
    "    return pd.concat(data_list, join='inner', axis=1)\n",
    "complete_data = load_created_datasets()"
   ]
  },
  {
   "cell_type": "code",
   "execution_count": 3,
   "metadata": {
    "scrolled": true
   },
   "outputs": [
    {
     "data": {
      "text/plain": [
       "(42, 40)"
      ]
     },
     "execution_count": 3,
     "metadata": {},
     "output_type": "execute_result"
    }
   ],
   "source": [
    "columns_remove  = ['Decreasing', 'Increasing', 'Stable', 'Unnamed: 0']\n",
    "rf_data = complete_data.copy()\n",
    "rf_data = rf_data.drop(columns=columns_remove)\n",
    "rf_data.shape"
   ]
  },
  {
   "cell_type": "markdown",
   "metadata": {},
   "source": [
    "## Random Forest Regression\n",
    "We perform random forest regression here to predict the outcome of our relative threatened species for all groups combined and for each group separately. As a random forest is a tree partitioning algorithm it does by nature not need any scaling of the data beforehand. After the results of our correlation analysis we start with the full model here.\n",
    "As the number of samples in our remaining data frame is quite limited, we use leave one out cross validation to measure the performance of our regressor rather than a train/test split.Because of the high dimension of the data, we take the square root of the total number of features to pick for every split."
   ]
  },
  {
   "cell_type": "code",
   "execution_count": null,
   "metadata": {},
   "outputs": [],
   "source": [
    "def rf_predict_threatened_relative(data):\n",
    "    results = {}\n",
    "\n",
    "    # iterate all target variables\n",
    "    columns_threatened = [col for col in data.columns if col.endswith('threatened')]\n",
    "    for target in columns_threatened:\n",
    "        y = data[target]\n",
    "        X = data.drop(columns=columns_threatened)\n",
    "\n",
    "\n",
    "        # n_estimator(number of trees) is the hyperparameter that we try to optimize here\n",
    "        n_estimators = [int(x) for x in np.linspace(start = 50, stop = 500, num = 10)]\n",
    "        grid = random_grid = {'n_estimators': n_estimators}\n",
    "        rf=RandomForestRegressor(max_features = 'sqrt', random_state=0)\n",
    "        rf_grid = GridSearchCV(estimator = rf, param_grid = random_grid,  cv = LeaveOneOut(),  scoring='neg_mean_squared_error', refit='neg_mean_squared_error')\n",
    "        rf_grid.fit(X,y)    \n",
    "        results[target] = round(math.sqrt(-rf_grid.best_score_),5)\n",
    "\n",
    "    return results\n",
    "RMSE_rf = rf_predict_threatened_relative(complete_data)\n",
    "RMSE_rf"
   ]
  },
  {
   "cell_type": "markdown",
   "metadata": {},
   "source": [
    "## Conclusion\n",
    "As performance metric we used the RMSE here. As the range of our threatened species percentage of all groups is from 1.7%-16.7%, a RMSE of 5% is a pretty big offset. For amphibians the RMSE even suggests a mean 16% offset (maximum for all targets). These values indicate rather bad predictions that suggest that our model is not very well suited to predict the percentage of threatened animals in a country."
   ]
  }
 ],
 "metadata": {
  "kernelspec": {
   "display_name": "Python 3",
   "language": "python",
   "name": "python3"
  },
  "language_info": {
   "codemirror_mode": {
    "name": "ipython",
    "version": 3
   },
   "file_extension": ".py",
   "mimetype": "text/x-python",
   "name": "python",
   "nbconvert_exporter": "python",
   "pygments_lexer": "ipython3",
   "version": "3.8.5"
  }
 },
 "nbformat": 4,
 "nbformat_minor": 4
}
